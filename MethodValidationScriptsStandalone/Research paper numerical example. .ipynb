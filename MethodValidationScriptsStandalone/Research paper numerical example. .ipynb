{
 "cells": [
  {
   "cell_type": "markdown",
   "metadata": {},
   "source": [
    "# Time-variant global reliability sensitivity analysis of structures with both input random variables and stochastic processes : \n",
    "## Method validation on included numerical example.\n",
    "\n",
    "In the paper above, their method is tested on a simple numerical example. \n"
   ]
  },
  {
   "cell_type": "code",
   "execution_count": 1,
   "metadata": {},
   "outputs": [],
   "source": [
    "import numpy as np\n",
    "import openturns as ot\n",
    "from numba import jit\n",
    "from joblib import Parallel, delayed\n",
    "from functools import partial"
   ]
  },
  {
   "cell_type": "code",
   "execution_count": 2,
   "metadata": {},
   "outputs": [],
   "source": [
    "# the limit state function:\n",
    "#@jit(nopython=True)\n",
    "def g(t,x1, x2, y1):\n",
    "    #function returns 1 if limit state is not exceeded on time interval\n",
    "    out_g = np.sin(t)*x1 + np.square(x2) + 3*y1 - 5*(np.sin(t/8) + 1)\n",
    "    return np.int(np.where(out_g<0,1,0).all())\n",
    "\n",
    "# the function for multiprocessing on the limit state function\n",
    "def g_mult(t,x1, x2, y1):\n",
    "    # t is the time grid, and is invarient\n",
    "    x1 = np.array(x1)\n",
    "    N = x1.shape[0]\n",
    "    x2 = np.array(x2)\n",
    "    y1 = np.array(y1)\n",
    "    output = Parallel(n_jobs=-1)(delayed(g) (t,x1[i], x2[i], y1[i]) for i in range(N))\n",
    "    return ot.Point(output)\n"
   ]
  },
  {
   "cell_type": "code",
   "execution_count": 3,
   "metadata": {},
   "outputs": [],
   "source": [
    "x = np.zeros((200,100))\n",
    "uu = g_mult(x,x,x,x)"
   ]
  },
  {
   "cell_type": "code",
   "execution_count": 4,
   "metadata": {},
   "outputs": [],
   "source": [
    "# Let's define a time grid. Let's say 100 samples over 10 seconds \n",
    "dimension = 1\n",
    "NElem = [99]\n",
    "mesher = ot.IntervalMesher(NElem)\n",
    "lowerBound = [0] #s\n",
    "upperBound = [10] #s\n",
    "interval = ot.Interval(lowerBound,upperBound)\n",
    "mesh = mesher.build(interval)\n",
    "# 100 elements of 10 mm"
   ]
  },
  {
   "cell_type": "code",
   "execution_count": 5,
   "metadata": {},
   "outputs": [],
   "source": [
    "# Process Y1:\n",
    "model = ot.ExponentialModel()\n",
    "algo = ot.KarhunenLoeveP1Algorithm(mesh, model)\n",
    "algo.run()\n",
    "kl_results = algo.getResult()\n",
    "kl_results.setName('Y1')\n",
    "\n",
    "# random Normals X1, X2\n",
    "X1 = ot.Normal()\n",
    "X1.setName('X1')\n",
    "X2 = ot.Normal()\n",
    "X2.setName('X2')\n",
    "\n",
    "# The time grid :\n",
    "t = np.array(mesh.getVertices())"
   ]
  },
  {
   "cell_type": "code",
   "execution_count": 6,
   "metadata": {},
   "outputs": [],
   "source": [
    "# let's modify a bit our function as the time grid is invarient...\n",
    "g_mod = partial(g_mult,t)"
   ]
  },
  {
   "cell_type": "code",
   "execution_count": 7,
   "metadata": {},
   "outputs": [],
   "source": [
    "import KarhunenLoeveFieldSensitivity as klfs\n",
    "list_kl_results = [X1, X2, kl_results]\n",
    "AggregatedKLRes = klfs.AggregatedKarhunenLoeveResults(list_kl_results)"
   ]
  },
  {
   "cell_type": "code",
   "execution_count": 8,
   "metadata": {},
   "outputs": [],
   "source": [
    "# initialization of the function wrapper : \n",
    "FUNC = klfs.KarhunenLoeveGeneralizedFunctionWrapper(\n",
    "                                AggregatedKarhunenLoeveResults = AggregatedKLRes,\n",
    "                                func        = None, \n",
    "                                func_sample = g_mod,\n",
    "                                n_outputs   = 1) "
   ]
  },
  {
   "cell_type": "code",
   "execution_count": 9,
   "metadata": {},
   "outputs": [
    {
     "name": "stdout",
     "output_type": "stream",
     "text": [
      "Generating samples for the second order indices\n",
      "Samples A and B of size 10000 and dimension 102\n",
      "Experiment for second order generated\n",
      "Experiment of size 80000 and dimension 102\n"
     ]
    }
   ],
   "source": [
    "ot.RandomGenerator.SetSeed(111)\n",
    "size = int(1e4)\n",
    "experiment = klfs.KarhunenLoeveSobolIndicesExperiment(AggregatedKLRes, size, True)\n",
    "sobolExp = experiment.generate()"
   ]
  },
  {
   "cell_type": "code",
   "execution_count": 10,
   "metadata": {},
   "outputs": [
    {
     "name": "stdout",
     "output_type": "stream",
     "text": [
      "Lifting as process sample\n",
      "Using the batch evaluation function. Assumes that the outputs are in the\n",
      "same order than for the single evaluation function. This one should only\n",
      "return ProcessSamples, Samples, Lists or numpy arrays.\n",
      "Element 0 of the output tuple returns samples of dimension 1\n"
     ]
    }
   ],
   "source": [
    "response = FUNC(sobolExp)"
   ]
  },
  {
   "cell_type": "code",
   "execution_count": 11,
   "metadata": {},
   "outputs": [
    {
     "name": "stdout",
     "output_type": "stream",
     "text": [
      "size initialized 80000\n",
      "Means is\n",
      " [0.548513]\n",
      "design_elem size, dim 80000 1\n",
      "There are 3 indices to get for 1 outputs with dimensions 1 each.\n",
      "Description all same? [X1_0,X2_0,Y1_0,Y1_1,Y1_2,Y1_3,Y1_4,Y1_5,Y1_6,Y1_7,Y1_8,Y1_9,Y1_10,Y1_11,Y1_12,Y1_13,Y1_14,Y1_15,Y1_16,Y1_17,Y1_18,Y1_19,Y1_20,Y1_21,Y1_22,Y1_23,Y1_24,Y1_25,Y1_26,Y1_27,Y1_28,Y1_29,Y1_30,Y1_31,Y1_32,Y1_33,Y1_34,Y1_35,Y1_36,Y1_37,Y1_38,Y1_39,Y1_40,Y1_41,Y1_42,Y1_43,Y1_44,Y1_45,Y1_46,Y1_47,Y1_48,Y1_49,Y1_50,Y1_51,Y1_52,Y1_53,Y1_54,Y1_55,Y1_56,Y1_57,Y1_58,Y1_59,Y1_60,Y1_61,Y1_62,Y1_63,Y1_64,Y1_65,Y1_66,Y1_67,Y1_68,Y1_69,Y1_70,Y1_71,Y1_72,Y1_73,Y1_74,Y1_75,Y1_76,Y1_77,Y1_78,Y1_79,Y1_80,Y1_81,Y1_82,Y1_83,Y1_84,Y1_85,Y1_86,Y1_87,Y1_88,Y1_89,Y1_90,Y1_91,Y1_92,Y1_93,Y1_94,Y1_95,Y1_96,Y1_97,Y1_98,Y1_99]#102\n",
      "SobolIndicesName ['X1', 'X2', 'Y1']\n",
      "Input Description is, ['X1', 'X2', 'Y1']\n"
     ]
    },
    {
     "data": {
      "text/plain": [
       "3"
      ]
     },
     "execution_count": 11,
     "metadata": {},
     "output_type": "execute_result"
    }
   ],
   "source": [
    "sensitivityAnalysis = klfs.SobolKarhunenLoeveFieldSensitivityAlgorithm(computeSecondOrder=True)\n",
    "sensitivityAnalysis.setDesign(sobolExp, response, size)\n",
    "sensitivityAnalysis.setEstimator(ot.SaltelliSensitivityAlgorithm())\n",
    "sensitivityAnalysis.__nSobolIndices__"
   ]
  },
  {
   "cell_type": "code",
   "execution_count": 15,
   "metadata": {},
   "outputs": [
    {
     "data": {
      "text/plain": [
       "SobolKarhunenLoeveFieldSensitivityAlgorithm, with estimator : SaltelliSensitivityAlgorithm, input dimension : 102, output size : 1, compute second order : True"
      ]
     },
     "execution_count": 15,
     "metadata": {},
     "output_type": "execute_result"
    }
   ],
   "source": [
    "sensitivityAnalysis"
   ]
  },
  {
   "cell_type": "code",
   "execution_count": 13,
   "metadata": {},
   "outputs": [
    {
     "name": "stdout",
     "output_type": "stream",
     "text": [
      "This makes a problem: [class=SymmetricMatrix dimension=3 implementation=class=MatrixImplementation name=Unnamed rows=3 columns=3 values=[0,-0.0115243,0.0574095,-0.0115243,0,0.124023,0.0574095,0.124023,0]]\n"
     ]
    },
    {
     "ename": "TypeError",
     "evalue": "InvalidArgumentException : Not a sequence object",
     "output_type": "error",
     "traceback": [
      "\u001b[0;31m---------------------------------------------------------------------------\u001b[0m",
      "\u001b[0;31mTypeError\u001b[0m                                 Traceback (most recent call last)",
      "\u001b[0;32m<ipython-input-13-eb5f6073e478>\u001b[0m in \u001b[0;36m<module>\u001b[0;34m\u001b[0m\n\u001b[0;32m----> 1\u001b[0;31m \u001b[0msensitivityAnalysis\u001b[0m\u001b[0;34m.\u001b[0m\u001b[0mgetSecondOrderIndices\u001b[0m\u001b[0;34m(\u001b[0m\u001b[0;34m)\u001b[0m\u001b[0;34m\u001b[0m\u001b[0;34m\u001b[0m\u001b[0m\n\u001b[0m",
      "\u001b[0;32m~/Documents/project_PHIMECA/spsa/MethodValidationScriptsStandalone/KarhunenLoeveFieldSensitivity/_sobolIndicesFactory.py\u001b[0m in \u001b[0;36mgetSecondOrderIndices\u001b[0;34m(self)\u001b[0m\n\u001b[1;32m    181\u001b[0m                 \u001b[0;32mif\u001b[0m \u001b[0mlen\u001b[0m\u001b[0;34m(\u001b[0m\u001b[0mSO_point_list\u001b[0m\u001b[0;34m)\u001b[0m\u001b[0;34m>\u001b[0m\u001b[0;36m1\u001b[0m\u001b[0;34m:\u001b[0m\u001b[0;34m\u001b[0m\u001b[0;34m\u001b[0m\u001b[0m\n\u001b[1;32m    182\u001b[0m                     \u001b[0mSO_point_list\u001b[0m \u001b[0;34m=\u001b[0m \u001b[0mlist\u001b[0m\u001b[0;34m(\u001b[0m\u001b[0mzip_\u001b[0m\u001b[0;34m(\u001b[0m\u001b[0;34m*\u001b[0m\u001b[0mSO_point_list\u001b[0m\u001b[0;34m)\u001b[0m\u001b[0;34m)\u001b[0m\u001b[0;34m\u001b[0m\u001b[0;34m\u001b[0m\u001b[0m\n\u001b[0;32m--> 183\u001b[0;31m                 \u001b[0mSO_indices\u001b[0m\u001b[0;34m.\u001b[0m\u001b[0mappend\u001b[0m\u001b[0;34m(\u001b[0m\u001b[0;34m[\u001b[0m\u001b[0mself\u001b[0m\u001b[0;34m.\u001b[0m\u001b[0m__toBaseDataFormat__\u001b[0m\u001b[0;34m(\u001b[0m\u001b[0mot\u001b[0m\u001b[0;34m.\u001b[0m\u001b[0mPoint\u001b[0m\u001b[0;34m(\u001b[0m\u001b[0mSO_point_list\u001b[0m\u001b[0;34m[\u001b[0m\u001b[0mk\u001b[0m\u001b[0;34m]\u001b[0m\u001b[0;34m)\u001b[0m\u001b[0;34m,\u001b[0m \u001b[0mi\u001b[0m\u001b[0;34m)\u001b[0m \u001b[0;32mfor\u001b[0m \u001b[0mk\u001b[0m \u001b[0;32min\u001b[0m \u001b[0mrange\u001b[0m\u001b[0;34m(\u001b[0m\u001b[0mself\u001b[0m\u001b[0;34m.\u001b[0m\u001b[0m__nSobolIndices__\u001b[0m\u001b[0;34m)\u001b[0m\u001b[0;34m]\u001b[0m\u001b[0;34m)\u001b[0m\u001b[0;34m\u001b[0m\u001b[0;34m\u001b[0m\u001b[0m\n\u001b[0m\u001b[1;32m    184\u001b[0m                 \u001b[0;34m[\u001b[0m\u001b[0mSO_indices\u001b[0m\u001b[0;34m[\u001b[0m\u001b[0mi\u001b[0m\u001b[0;34m]\u001b[0m\u001b[0;34m[\u001b[0m\u001b[0mk\u001b[0m\u001b[0;34m]\u001b[0m\u001b[0;34m.\u001b[0m\u001b[0msetName\u001b[0m\u001b[0;34m(\u001b[0m\u001b[0;34m'SecondOrderSobol_'\u001b[0m\u001b[0;34m+\u001b[0m\u001b[0mself\u001b[0m\u001b[0;34m.\u001b[0m\u001b[0moutputDesign\u001b[0m\u001b[0;34m[\u001b[0m\u001b[0mi\u001b[0m\u001b[0;34m]\u001b[0m\u001b[0;34m.\u001b[0m\u001b[0mgetName\u001b[0m\u001b[0;34m(\u001b[0m\u001b[0;34m)\u001b[0m\u001b[0;34m+\u001b[0m\u001b[0;34m'_'\u001b[0m\u001b[0;34m+\u001b[0m\u001b[0mself\u001b[0m\u001b[0;34m.\u001b[0m\u001b[0minputDescription\u001b[0m\u001b[0;34m[\u001b[0m\u001b[0mk\u001b[0m\u001b[0;34m]\u001b[0m\u001b[0;34m)\u001b[0m \u001b[0;32mfor\u001b[0m \u001b[0mk\u001b[0m \u001b[0;32min\u001b[0m \u001b[0mrange\u001b[0m\u001b[0;34m(\u001b[0m\u001b[0mself\u001b[0m\u001b[0;34m.\u001b[0m\u001b[0m__nSobolIndices__\u001b[0m\u001b[0;34m)\u001b[0m\u001b[0;34m]\u001b[0m\u001b[0;34m\u001b[0m\u001b[0;34m\u001b[0m\u001b[0m\n\u001b[1;32m    185\u001b[0m             \u001b[0;32mreturn\u001b[0m \u001b[0mSO_indices\u001b[0m\u001b[0;34m\u001b[0m\u001b[0;34m\u001b[0m\u001b[0m\n",
      "\u001b[0;32m~/Documents/project_PHIMECA/spsa/MethodValidationScriptsStandalone/KarhunenLoeveFieldSensitivity/_sobolIndicesFactory.py\u001b[0m in \u001b[0;36m<listcomp>\u001b[0;34m(.0)\u001b[0m\n\u001b[1;32m    181\u001b[0m                 \u001b[0;32mif\u001b[0m \u001b[0mlen\u001b[0m\u001b[0;34m(\u001b[0m\u001b[0mSO_point_list\u001b[0m\u001b[0;34m)\u001b[0m\u001b[0;34m>\u001b[0m\u001b[0;36m1\u001b[0m\u001b[0;34m:\u001b[0m\u001b[0;34m\u001b[0m\u001b[0;34m\u001b[0m\u001b[0m\n\u001b[1;32m    182\u001b[0m                     \u001b[0mSO_point_list\u001b[0m \u001b[0;34m=\u001b[0m \u001b[0mlist\u001b[0m\u001b[0;34m(\u001b[0m\u001b[0mzip_\u001b[0m\u001b[0;34m(\u001b[0m\u001b[0;34m*\u001b[0m\u001b[0mSO_point_list\u001b[0m\u001b[0;34m)\u001b[0m\u001b[0;34m)\u001b[0m\u001b[0;34m\u001b[0m\u001b[0;34m\u001b[0m\u001b[0m\n\u001b[0;32m--> 183\u001b[0;31m                 \u001b[0mSO_indices\u001b[0m\u001b[0;34m.\u001b[0m\u001b[0mappend\u001b[0m\u001b[0;34m(\u001b[0m\u001b[0;34m[\u001b[0m\u001b[0mself\u001b[0m\u001b[0;34m.\u001b[0m\u001b[0m__toBaseDataFormat__\u001b[0m\u001b[0;34m(\u001b[0m\u001b[0mot\u001b[0m\u001b[0;34m.\u001b[0m\u001b[0mPoint\u001b[0m\u001b[0;34m(\u001b[0m\u001b[0mSO_point_list\u001b[0m\u001b[0;34m[\u001b[0m\u001b[0mk\u001b[0m\u001b[0;34m]\u001b[0m\u001b[0;34m)\u001b[0m\u001b[0;34m,\u001b[0m \u001b[0mi\u001b[0m\u001b[0;34m)\u001b[0m \u001b[0;32mfor\u001b[0m \u001b[0mk\u001b[0m \u001b[0;32min\u001b[0m \u001b[0mrange\u001b[0m\u001b[0;34m(\u001b[0m\u001b[0mself\u001b[0m\u001b[0;34m.\u001b[0m\u001b[0m__nSobolIndices__\u001b[0m\u001b[0;34m)\u001b[0m\u001b[0;34m]\u001b[0m\u001b[0;34m)\u001b[0m\u001b[0;34m\u001b[0m\u001b[0;34m\u001b[0m\u001b[0m\n\u001b[0m\u001b[1;32m    184\u001b[0m                 \u001b[0;34m[\u001b[0m\u001b[0mSO_indices\u001b[0m\u001b[0;34m[\u001b[0m\u001b[0mi\u001b[0m\u001b[0;34m]\u001b[0m\u001b[0;34m[\u001b[0m\u001b[0mk\u001b[0m\u001b[0;34m]\u001b[0m\u001b[0;34m.\u001b[0m\u001b[0msetName\u001b[0m\u001b[0;34m(\u001b[0m\u001b[0;34m'SecondOrderSobol_'\u001b[0m\u001b[0;34m+\u001b[0m\u001b[0mself\u001b[0m\u001b[0;34m.\u001b[0m\u001b[0moutputDesign\u001b[0m\u001b[0;34m[\u001b[0m\u001b[0mi\u001b[0m\u001b[0;34m]\u001b[0m\u001b[0;34m.\u001b[0m\u001b[0mgetName\u001b[0m\u001b[0;34m(\u001b[0m\u001b[0;34m)\u001b[0m\u001b[0;34m+\u001b[0m\u001b[0;34m'_'\u001b[0m\u001b[0;34m+\u001b[0m\u001b[0mself\u001b[0m\u001b[0;34m.\u001b[0m\u001b[0minputDescription\u001b[0m\u001b[0;34m[\u001b[0m\u001b[0mk\u001b[0m\u001b[0;34m]\u001b[0m\u001b[0;34m)\u001b[0m \u001b[0;32mfor\u001b[0m \u001b[0mk\u001b[0m \u001b[0;32min\u001b[0m \u001b[0mrange\u001b[0m\u001b[0;34m(\u001b[0m\u001b[0mself\u001b[0m\u001b[0;34m.\u001b[0m\u001b[0m__nSobolIndices__\u001b[0m\u001b[0;34m)\u001b[0m\u001b[0;34m]\u001b[0m\u001b[0;34m\u001b[0m\u001b[0;34m\u001b[0m\u001b[0m\n\u001b[1;32m    185\u001b[0m             \u001b[0;32mreturn\u001b[0m \u001b[0mSO_indices\u001b[0m\u001b[0;34m\u001b[0m\u001b[0;34m\u001b[0m\u001b[0m\n",
      "\u001b[0;32m~/anaconda3/envs/stochastic_field_env/lib/python3.8/site-packages/openturns/typ.py\u001b[0m in \u001b[0;36m__init__\u001b[0;34m(self, *args)\u001b[0m\n\u001b[1;32m   2123\u001b[0m \u001b[0;34m\u001b[0m\u001b[0m\n\u001b[1;32m   2124\u001b[0m     \u001b[0;32mdef\u001b[0m \u001b[0m__init__\u001b[0m\u001b[0;34m(\u001b[0m\u001b[0mself\u001b[0m\u001b[0;34m,\u001b[0m \u001b[0;34m*\u001b[0m\u001b[0margs\u001b[0m\u001b[0;34m)\u001b[0m\u001b[0;34m:\u001b[0m\u001b[0;34m\u001b[0m\u001b[0;34m\u001b[0m\u001b[0m\n\u001b[0;32m-> 2125\u001b[0;31m         \u001b[0m_typ\u001b[0m\u001b[0;34m.\u001b[0m\u001b[0mPoint_swiginit\u001b[0m\u001b[0;34m(\u001b[0m\u001b[0mself\u001b[0m\u001b[0;34m,\u001b[0m \u001b[0m_typ\u001b[0m\u001b[0;34m.\u001b[0m\u001b[0mnew_Point\u001b[0m\u001b[0;34m(\u001b[0m\u001b[0;34m*\u001b[0m\u001b[0margs\u001b[0m\u001b[0;34m)\u001b[0m\u001b[0;34m)\u001b[0m\u001b[0;34m\u001b[0m\u001b[0;34m\u001b[0m\u001b[0m\n\u001b[0m\u001b[1;32m   2126\u001b[0m \u001b[0;34m\u001b[0m\u001b[0m\n\u001b[1;32m   2127\u001b[0m     \u001b[0;32mdef\u001b[0m \u001b[0m__setitem__\u001b[0m\u001b[0;34m(\u001b[0m\u001b[0mself\u001b[0m\u001b[0;34m,\u001b[0m \u001b[0marg\u001b[0m\u001b[0;34m,\u001b[0m \u001b[0mvalObj\u001b[0m\u001b[0;34m)\u001b[0m\u001b[0;34m:\u001b[0m\u001b[0;34m\u001b[0m\u001b[0;34m\u001b[0m\u001b[0m\n",
      "\u001b[0;31mTypeError\u001b[0m: InvalidArgumentException : Not a sequence object"
     ]
    }
   ],
   "source": [
    "sensitivityAnalysis.getSecondOrderIndices()"
   ]
  },
  {
   "cell_type": "code",
   "execution_count": null,
   "metadata": {},
   "outputs": [],
   "source": []
  },
  {
   "cell_type": "code",
   "execution_count": null,
   "metadata": {},
   "outputs": [],
   "source": []
  },
  {
   "cell_type": "code",
   "execution_count": null,
   "metadata": {},
   "outputs": [],
   "source": []
  },
  {
   "cell_type": "code",
   "execution_count": null,
   "metadata": {},
   "outputs": [],
   "source": []
  },
  {
   "cell_type": "code",
   "execution_count": null,
   "metadata": {},
   "outputs": [],
   "source": []
  },
  {
   "cell_type": "code",
   "execution_count": null,
   "metadata": {},
   "outputs": [],
   "source": []
  }
 ],
 "metadata": {
  "kernelspec": {
   "display_name": "Python 3",
   "language": "python",
   "name": "python3"
  },
  "language_info": {
   "codemirror_mode": {
    "name": "ipython",
    "version": 3
   },
   "file_extension": ".py",
   "mimetype": "text/x-python",
   "name": "python",
   "nbconvert_exporter": "python",
   "pygments_lexer": "ipython3",
   "version": "3.8.5"
  }
 },
 "nbformat": 4,
 "nbformat_minor": 4
}
