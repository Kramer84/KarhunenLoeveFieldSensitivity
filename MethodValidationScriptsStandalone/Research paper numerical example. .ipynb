{
 "cells": [
  {
   "cell_type": "markdown",
   "metadata": {},
   "source": [
    "# Time-variant global reliability sensitivity analysis of structures with both input random variables and stochastic processes : \n",
    "## Method validation on included numerical example.\n",
    "\n",
    "In the paper above, their method is tested on a simple numerical example. \n"
   ]
  },
  {
   "cell_type": "code",
   "execution_count": 1,
   "metadata": {},
   "outputs": [],
   "source": [
    "import numpy as np\n",
    "import openturns as ot\n",
    "from numba import jit\n",
    "from joblib import Parallel, delayed\n",
    "from functools import partial"
   ]
  },
  {
   "cell_type": "code",
   "execution_count": 2,
   "metadata": {},
   "outputs": [],
   "source": [
    "# the limit state function:\n",
    "#@jit(nopython=True)\n",
    "def g(t,x1, x2, y1):\n",
    "    #function returns 1 if limit state is not exceeded on time interval\n",
    "    out_g = np.sin(t)*x1 + np.square(x2) + 3*y1 - 5*(np.sin(t/8) + 1)\n",
    "    return np.int(np.where(out_g<0,1,0).all())\n",
    "\n",
    "# the function for multiprocessing on the limit state function\n",
    "def g_mult(t,x1, x2, y1):\n",
    "    # t is the time grid, and is invarient\n",
    "    x1 = np.array(x1)\n",
    "    N = x1.shape[0]\n",
    "    x2 = np.array(x2)\n",
    "    y1 = np.array(y1)\n",
    "    output = Parallel(n_jobs=-1)(delayed(g) (t,x1[i], x2[i], y1[i]) for i in range(N))\n",
    "    return ot.Point(output)\n"
   ]
  },
  {
   "cell_type": "code",
   "execution_count": 3,
   "metadata": {},
   "outputs": [],
   "source": [
    "x = np.zeros((200,100))\n",
    "uu = g_mult(x,x,x,x)"
   ]
  },
  {
   "cell_type": "code",
   "execution_count": 4,
   "metadata": {},
   "outputs": [],
   "source": [
    "# Let's define a time grid. Let's say 100 samples over 10 seconds \n",
    "dimension = 1\n",
    "NElem = [99]\n",
    "mesher = ot.IntervalMesher(NElem)\n",
    "lowerBound = [0] #s\n",
    "upperBound = [10] #s\n",
    "interval = ot.Interval(lowerBound,upperBound)\n",
    "mesh = mesher.build(interval)\n",
    "# 100 elements of 10 mm"
   ]
  },
  {
   "cell_type": "code",
   "execution_count": 5,
   "metadata": {},
   "outputs": [],
   "source": [
    "# Process Y1:\n",
    "model = ot.ExponentialModel()\n",
    "algo = ot.KarhunenLoeveP1Algorithm(mesh, model)\n",
    "algo.run()\n",
    "kl_results = algo.getResult()\n",
    "kl_results.setName('Y1')\n",
    "\n",
    "# random Normals X1, X2\n",
    "X1 = ot.Normal()\n",
    "X1.setName('X1')\n",
    "X2 = ot.Normal()\n",
    "X2.setName('X2')\n",
    "\n",
    "# The time grid :\n",
    "t = np.array(mesh.getVertices())"
   ]
  },
  {
   "cell_type": "code",
   "execution_count": 6,
   "metadata": {},
   "outputs": [],
   "source": [
    "# let's modify a bit our function as the time grid is invarient...\n",
    "g_mod = partial(g_mult,t)"
   ]
  },
  {
   "cell_type": "code",
   "execution_count": 7,
   "metadata": {},
   "outputs": [],
   "source": [
    "import KarhunenLoeveFieldSensitivity as klfs\n",
    "list_kl_results = [X1, X2, kl_results]\n",
    "AggregatedKLRes = klfs.AggregatedKarhunenLoeveResults(list_kl_results)"
   ]
  },
  {
   "cell_type": "code",
   "execution_count": 20,
   "metadata": {},
   "outputs": [],
   "source": [
    "# initialization of the function wrapper : \n",
    "FUNC = klfs.KarhunenLoeveGeneralizedFunctionWrapper(\n",
    "                                AggregatedKarhunenLoeveResults = AggregatedKLRes,\n",
    "                                func        = None, \n",
    "                                func_sample = g_mod,\n",
    "                                n_outputs   = 1)"
   ]
  },
  {
   "cell_type": "code",
   "execution_count": 33,
   "metadata": {},
   "outputs": [
    {
     "ename": "TypeError",
     "evalue": "InvalidArgumentException : Sobol experiment is too small (80000 vs 1040000)",
     "output_type": "error",
     "traceback": [
      "\u001b[0;31m---------------------------------------------------------------------------\u001b[0m",
      "\u001b[0;31mTypeError\u001b[0m                                 Traceback (most recent call last)",
      "\u001b[0;32m<ipython-input-33-40c98b25a0b6>\u001b[0m in \u001b[0;36m<module>\u001b[0;34m\u001b[0m\n\u001b[1;32m      1\u001b[0m \u001b[0mxx\u001b[0m\u001b[0;34m=\u001b[0m\u001b[0mot\u001b[0m\u001b[0;34m.\u001b[0m\u001b[0mSaltelliSensitivityAlgorithm\u001b[0m\u001b[0;34m(\u001b[0m\u001b[0;34m)\u001b[0m\u001b[0;34m\u001b[0m\u001b[0;34m\u001b[0m\u001b[0m\n\u001b[0;32m----> 2\u001b[0;31m \u001b[0mxx\u001b[0m\u001b[0;34m.\u001b[0m\u001b[0msetDesign\u001b[0m\u001b[0;34m(\u001b[0m\u001b[0msobolExp\u001b[0m\u001b[0;34m,\u001b[0m \u001b[0mresponse\u001b[0m\u001b[0;34m[\u001b[0m\u001b[0;36m0\u001b[0m\u001b[0;34m]\u001b[0m\u001b[0;34m,\u001b[0m \u001b[0;36m10000\u001b[0m\u001b[0;34m)\u001b[0m\u001b[0;34m\u001b[0m\u001b[0;34m\u001b[0m\u001b[0m\n\u001b[0m",
      "\u001b[0;32m~/anaconda3/envs/stochastic_field_env/lib/python3.8/site-packages/openturns/simulation.py\u001b[0m in \u001b[0;36msetDesign\u001b[0;34m(self, inputDesign, outputDesign, size)\u001b[0m\n\u001b[1;32m   1065\u001b[0m             \u001b[0mSize\u001b[0m \u001b[0mof\u001b[0m \u001b[0msamples\u001b[0m \u001b[0mto\u001b[0m \u001b[0mgenerate\u001b[0m\u001b[0;34m\u001b[0m\u001b[0;34m\u001b[0m\u001b[0m\n\u001b[1;32m   1066\u001b[0m         \"\"\"\n\u001b[0;32m-> 1067\u001b[0;31m         \u001b[0;32mreturn\u001b[0m \u001b[0m_simulation\u001b[0m\u001b[0;34m.\u001b[0m\u001b[0mSobolIndicesAlgorithmImplementation_setDesign\u001b[0m\u001b[0;34m(\u001b[0m\u001b[0mself\u001b[0m\u001b[0;34m,\u001b[0m \u001b[0minputDesign\u001b[0m\u001b[0;34m,\u001b[0m \u001b[0moutputDesign\u001b[0m\u001b[0;34m,\u001b[0m \u001b[0msize\u001b[0m\u001b[0;34m)\u001b[0m\u001b[0;34m\u001b[0m\u001b[0;34m\u001b[0m\u001b[0m\n\u001b[0m\u001b[1;32m   1068\u001b[0m \u001b[0;34m\u001b[0m\u001b[0m\n\u001b[1;32m   1069\u001b[0m     \u001b[0;32mdef\u001b[0m \u001b[0m__init__\u001b[0m\u001b[0;34m(\u001b[0m\u001b[0mself\u001b[0m\u001b[0;34m,\u001b[0m \u001b[0;34m*\u001b[0m\u001b[0margs\u001b[0m\u001b[0;34m)\u001b[0m\u001b[0;34m:\u001b[0m\u001b[0;34m\u001b[0m\u001b[0;34m\u001b[0m\u001b[0m\n",
      "\u001b[0;31mTypeError\u001b[0m: InvalidArgumentException : Sobol experiment is too small (80000 vs 1040000)"
     ]
    }
   ],
   "source": [
    "xx=ot.SaltelliSensitivityAlgorithm()\n",
    "xx.setDesign(sobolExp, response[0], 10000)"
   ]
  },
  {
   "cell_type": "code",
   "execution_count": 28,
   "metadata": {},
   "outputs": [
    {
     "data": {
      "text/html": [
       "<TABLE><TR><TD></TD><TH>v0</TH></TR>\n",
       "<TR><TH>0</TH><TD>0</TD></TR>\n",
       "<TR><TH>1</TH><TD>1</TD></TR>\n",
       "<TR><TH>2</TH><TD>0</TD></TR>\n",
       "<TR><TD COLSPAN=\"2\">...</TD></TR>\n",
       "<TR><TH>79997</TH><TD>1</TD></TR>\n",
       "<TR><TH>79998</TH><TD>1</TD></TR>\n",
       "<TR><TH>79999</TH><TD>1</TD></TR>\n",
       "</TABLE>"
      ],
      "text/plain": [
       "class=Sample name=Y_0 implementation=class=SampleImplementation name=Y_0 size=80000 dimension=1 data=[[0],[1],[0],...,[1],[1],[1]]"
      ]
     },
     "execution_count": 28,
     "metadata": {},
     "output_type": "execute_result"
    }
   ],
   "source": [
    "response[0]"
   ]
  },
  {
   "cell_type": "code",
   "execution_count": 34,
   "metadata": {},
   "outputs": [
    {
     "name": "stdout",
     "output_type": "stream",
     "text": [
      "Generating samples for the second order indices\n",
      "Samples A and B of size 100000 and dimension 102\n",
      "Experiment for second order generated\n",
      "Experiment of size 800000 and dimension 102\n"
     ]
    }
   ],
   "source": [
    "ot.RandomGenerator.SetSeed(111)\n",
    "size = int(1e5)\n",
    "experiment = klfs.KarhunenLoeveSobolIndicesExperiment(AggregatedKLRes, size, True)\n",
    "sobolExp = experiment.generate()"
   ]
  },
  {
   "cell_type": "code",
   "execution_count": 35,
   "metadata": {},
   "outputs": [
    {
     "name": "stdout",
     "output_type": "stream",
     "text": [
      "Lifting as process sample\n",
      "Using the batch evaluation function. Assumes that the outputs are in the\n",
      "same order than for the single evaluation function. This one should only\n",
      "return ProcessSamples, Samples, Lists or numpy arrays.\n",
      "Element 0 of the output tuple returns samples of dimension 1\n"
     ]
    }
   ],
   "source": [
    "response = FUNC(sobolExp)"
   ]
  },
  {
   "cell_type": "code",
   "execution_count": 36,
   "metadata": {},
   "outputs": [
    {
     "name": "stdout",
     "output_type": "stream",
     "text": [
      "size initialized 800000\n",
      "Means is\n",
      " [0.543026]\n",
      "design_elem size, dim 800000 1\n",
      "There are 3 indices to get for 1 outputs with dimensions 1 each.\n",
      "Description all same? [X1_0,X2_0,Y1_0,Y1_1,Y1_2,Y1_3,Y1_4,Y1_5,Y1_6,Y1_7,Y1_8,Y1_9,Y1_10,Y1_11,Y1_12,Y1_13,Y1_14,Y1_15,Y1_16,Y1_17,Y1_18,Y1_19,Y1_20,Y1_21,Y1_22,Y1_23,Y1_24,Y1_25,Y1_26,Y1_27,Y1_28,Y1_29,Y1_30,Y1_31,Y1_32,Y1_33,Y1_34,Y1_35,Y1_36,Y1_37,Y1_38,Y1_39,Y1_40,Y1_41,Y1_42,Y1_43,Y1_44,Y1_45,Y1_46,Y1_47,Y1_48,Y1_49,Y1_50,Y1_51,Y1_52,Y1_53,Y1_54,Y1_55,Y1_56,Y1_57,Y1_58,Y1_59,Y1_60,Y1_61,Y1_62,Y1_63,Y1_64,Y1_65,Y1_66,Y1_67,Y1_68,Y1_69,Y1_70,Y1_71,Y1_72,Y1_73,Y1_74,Y1_75,Y1_76,Y1_77,Y1_78,Y1_79,Y1_80,Y1_81,Y1_82,Y1_83,Y1_84,Y1_85,Y1_86,Y1_87,Y1_88,Y1_89,Y1_90,Y1_91,Y1_92,Y1_93,Y1_94,Y1_95,Y1_96,Y1_97,Y1_98,Y1_99]#102\n",
      "SobolIndicesName ['X1', 'X2', 'Y1']\n",
      "Input Description is, ['X1', 'X2', 'Y1']\n"
     ]
    },
    {
     "data": {
      "text/plain": [
       "3"
      ]
     },
     "execution_count": 36,
     "metadata": {},
     "output_type": "execute_result"
    }
   ],
   "source": [
    "sensitivityAnalysis = klfs.SobolKarhunenLoeveFieldSensitivityAlgorithm(computeSecondOrder=True)\n",
    "sensitivityAnalysis.setDesign(sobolExp, response, size)\n",
    "sensitivityAnalysis.setEstimator(ot.SaltelliSensitivityAlgorithm())\n",
    "sensitivityAnalysis.__nSobolIndices__"
   ]
  },
  {
   "cell_type": "code",
   "execution_count": 37,
   "metadata": {},
   "outputs": [
    {
     "name": "stdout",
     "output_type": "stream",
     "text": [
      "Solving...\n",
      " size of samples:  800000\n",
      " number of indices to get 3\n"
     ]
    },
    {
     "data": {
      "text/plain": [
       "[[class=Point name=Sobol_Y_0_X1 dimension=1 values=[0.00945468],\n",
       "  class=Point name=Sobol_Y_0_X2 dimension=1 values=[0.158129],\n",
       "  class=Point name=Sobol_Y_0_Y1 dimension=1 values=[0.510099]]]"
      ]
     },
     "execution_count": 37,
     "metadata": {},
     "output_type": "execute_result"
    }
   ],
   "source": [
    "sensitivityAnalysis.getFirstOrderIndices()"
   ]
  },
  {
   "cell_type": "code",
   "execution_count": 38,
   "metadata": {},
   "outputs": [
    {
     "data": {
      "text/plain": [
       "[[class=Point name=TotalOrderSobol_Y_0_X1 dimension=1 values=[0.203894],\n",
       "  class=Point name=TotalOrderSobol_Y_0_X2 dimension=1 values=[0.401444],\n",
       "  class=Point name=TotalOrderSobol_Y_0_Y1 dimension=1 values=[0.83438]]]"
      ]
     },
     "execution_count": 38,
     "metadata": {},
     "output_type": "execute_result"
    }
   ],
   "source": [
    "sensitivityAnalysis.getTotalOrderIndices()"
   ]
  },
  {
   "cell_type": "code",
   "execution_count": 19,
   "metadata": {},
   "outputs": [
    {
     "name": "stdout",
     "output_type": "stream",
     "text": [
      "This makes a problem: [class=SymmetricMatrix dimension=3 implementation=class=MatrixImplementation name=Unnamed rows=3 columns=3 values=[0,-0.0115243,0.0574095,-0.0115243,0,0.124023,0.0574095,0.124023,0]]\n"
     ]
    },
    {
     "data": {
      "text/html": [
       "<p>[[  0         -0.0115243  0.0574095 ]<br>\n",
       " [ -0.0115243  0          0.124023  ]<br>\n",
       " [  0.0574095  0.124023   0         ]]</p>"
      ],
      "text/plain": [
       "class=SymmetricMatrix dimension=3 implementation=class=MatrixImplementation name=Unnamed rows=3 columns=3 values=[0,-0.0115243,0.0574095,-0.0115243,0,0.124023,0.0574095,0.124023,0]"
      ]
     },
     "metadata": {},
     "output_type": "display_data"
    }
   ],
   "source": [
    "display(sensitivityAnalysis.getSecondOrderIndices()[0])"
   ]
  },
  {
   "cell_type": "code",
   "execution_count": 39,
   "metadata": {},
   "outputs": [],
   "source": [
    "X  = sensitivityAnalysis.__results__[0]"
   ]
  },
  {
   "cell_type": "code",
   "execution_count": 41,
   "metadata": {},
   "outputs": [],
   "source": [
    "Q = X.getFirstOrderIndicesDistribution()"
   ]
  },
  {
   "cell_type": "code",
   "execution_count": 46,
   "metadata": {},
   "outputs": [
    {
     "data": {
      "text/html": [
       "<p>[0.151514, 0.164646]</p>"
      ],
      "text/plain": [
       "class=Interval name=Unnamed dimension=1 lower bound=class=Point name=Unnamed dimension=1 values=[0.151514] upper bound=class=Point name=Unnamed dimension=1 values=[0.164646] finite lower bound=[1] finite upper bound=[1]"
      ]
     },
     "execution_count": 46,
     "metadata": {},
     "output_type": "execute_result"
    }
   ],
   "source": [
    "Q.getMarginal(1).computeBilateralConfidenceInterval(0.95)"
   ]
  },
  {
   "cell_type": "code",
   "execution_count": null,
   "metadata": {},
   "outputs": [],
   "source": []
  },
  {
   "cell_type": "code",
   "execution_count": null,
   "metadata": {},
   "outputs": [],
   "source": []
  },
  {
   "cell_type": "code",
   "execution_count": null,
   "metadata": {},
   "outputs": [],
   "source": []
  }
 ],
 "metadata": {
  "kernelspec": {
   "display_name": "Python 3",
   "language": "python",
   "name": "python3"
  },
  "language_info": {
   "codemirror_mode": {
    "name": "ipython",
    "version": 3
   },
   "file_extension": ".py",
   "mimetype": "text/x-python",
   "name": "python",
   "nbconvert_exporter": "python",
   "pygments_lexer": "ipython3",
   "version": "3.7.9"
  }
 },
 "nbformat": 4,
 "nbformat_minor": 4
}
