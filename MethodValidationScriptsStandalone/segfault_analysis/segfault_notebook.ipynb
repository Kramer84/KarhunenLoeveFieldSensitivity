{
 "cells": [
  {
   "cell_type": "code",
   "execution_count": 2,
   "metadata": {},
   "outputs": [],
   "source": [
    "import openturns as ot\n",
    "#openblas workaround\n",
    "import os\n",
    "\n",
    "os.environ['OPENBLAS_NUM_THREADS'] = '1'"
   ]
  },
  {
   "cell_type": "code",
   "execution_count": 2,
   "metadata": {},
   "outputs": [],
   "source": [
    "#input and output of the real model for which we create the metamodel. \n",
    "#the input is a LHS of size 25\n",
    "X_LHS25 = ot.Sample.ImportFromCSVFile('X_LHS25.csv')\n",
    "Y_LHS25 = ot.Sample.ImportFromCSVFile('Y_LHS25.csv')\n",
    "\n",
    "#Here the design of experiment of size 300 000, which in our case is used for the calculus of sobol indices\n",
    "sample_N300000 = ot.Sample.ImportFromCSVFile('sample_N300000.csv')"
   ]
  },
  {
   "cell_type": "code",
   "execution_count": 3,
   "metadata": {},
   "outputs": [
    {
     "name": "stdout",
     "output_type": "stream",
     "text": [
      "dimension is 12\n"
     ]
    }
   ],
   "source": [
    "#metamodel based on the ot example \"Create a metamodel using kriging\"\n",
    "dimension = X_LHS25.getDimension()\n",
    "print('dimension is', dimension)\n",
    "namesList = ot.Description_BuildDefault(12,'X')"
   ]
  },
  {
   "cell_type": "code",
   "execution_count": 4,
   "metadata": {},
   "outputs": [],
   "source": [
    "basis = ot.ConstantBasisFactory(dimension).build()\n",
    "covarianceModel = ot.SquaredExponential([0.1]*dimension, [1.0])\n",
    "algo = ot.KrigingAlgorithm(X_LHS25, \n",
    "                           Y_LHS25, covarianceModel, basis)\n",
    "algo.run()\n",
    "result = algo.getResult()\n",
    "metamodel = result.getMetaModel()"
   ]
  },
  {
   "cell_type": "code",
   "execution_count": 5,
   "metadata": {},
   "outputs": [
    {
     "name": "stdout",
     "output_type": "stream",
     "text": [
      "We have 300000 values\n",
      "The dimension of the sample is 12\n",
      "Means:\n",
      " [-0.000980819,-0.00282037,0.00107395,0.00449087,-0.00148142,0.00182842,0.00414556,0.00314466,0.000463293,-0.00598143,1.8983e-05,-0.00388189]#12\n",
      "Max:\n",
      " [3.94694,4.21941,4.45191,4.79872,4.28408,4.33033,4.42258,4.33639,4.37218,4.0462,4.46728,3.92822]#12\n",
      "Min:\n",
      " [-3.92564,-4.24505,-4.44273,-4.49973,-4.9551,-4.29955,-4.05261,-4.53238,-4.13179,-4.19347,-4.31387,-4.30307]#12\n",
      "Sample seems to respect the distribution of a centered normal law\n"
     ]
    }
   ],
   "source": [
    "print('We have',sample_N300000.getSize(),'values')\n",
    "print('The dimension of the sample is',sample_N300000.getDimension())\n",
    "print('Means:\\n',sample_N300000.computeMean())\n",
    "print('Max:\\n',sample_N300000.getMax())\n",
    "print('Min:\\n',sample_N300000.getMin())\n",
    "print('Sample seems to respect the distribution of a centered normal law')"
   ]
  },
  {
   "cell_type": "code",
   "execution_count": 6,
   "metadata": {},
   "outputs": [
    {
     "name": "stdout",
     "output_type": "stream",
     "text": [
      "OK 0\n",
      "OK 1\n",
      "OK 2\n",
      "OK 3\n",
      "OK 4\n",
      "OK 5\n",
      "We can evaluate each 50000 sized sample of our full sample, but we can't evaluate the sample at once\n"
     ]
    }
   ],
   "source": [
    "for i in range(0,6):\n",
    "    meta_resp = metamodel(sample_N300000[i*50000:(i+1)*50000,:])\n",
    "    print('OK',i)\n",
    "print(\"We can evaluate each 50000 sized sample of our full sample, but we can't evaluate the sample at once\")"
   ]
  },
  {
   "cell_type": "code",
   "execution_count": null,
   "metadata": {},
   "outputs": [],
   "source": [
    "# This kills the kernel\n",
    "FAILURE = metamodel(sample_N300000)"
   ]
  },
  {
   "cell_type": "code",
   "execution_count": null,
   "metadata": {},
   "outputs": [],
   "source": []
  }
 ],
 "metadata": {
  "kernelspec": {
   "display_name": "Python 3",
   "language": "python",
   "name": "python3"
  },
  "language_info": {
   "codemirror_mode": {
    "name": "ipython",
    "version": 3
   },
   "file_extension": ".py",
   "mimetype": "text/x-python",
   "name": "python",
   "nbconvert_exporter": "python",
   "pygments_lexer": "ipython3",
   "version": "3.7.9"
  }
 },
 "nbformat": 4,
 "nbformat_minor": 4
}
