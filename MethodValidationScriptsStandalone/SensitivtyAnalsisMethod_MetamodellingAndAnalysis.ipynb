{
 "cells": [
  {
   "cell_type": "markdown",
   "metadata": {},
   "source": [
    "#### Now that we have our designs of experiment, we can begin to create our metamodels. In our case, we will create 3 metamodels, each created from a different (in size and elements) design of experiment. We will then assess the precision of our metamodel in regard to the functions ouput, and further we will look at the sensitivities"
   ]
  },
  {
   "cell_type": "code",
   "execution_count": 1,
   "metadata": {},
   "outputs": [
    {
     "name": "stderr",
     "output_type": "stream",
     "text": [
      "<ipython-input-1-340524c68602>:5: DeprecationWarning: Using or importing the ABCs from 'collections' instead of from 'collections.abc' is deprecated since Python 3.3, and in 3.9 it will stop working\n",
      "  from collections import Sequence, Iterable\n"
     ]
    }
   ],
   "source": [
    "import pandas as pd\n",
    "import numpy as np\n",
    "import openturns as ot\n",
    "import pythontools as pt\n",
    "from collections import Sequence, Iterable\n",
    "import KarhunenLoeveFieldSensitivity as klfs"
   ]
  },
  {
   "cell_type": "code",
   "execution_count": 2,
   "metadata": {},
   "outputs": [],
   "source": [
    "# Lets' first load our 3 designs of experiment for the kriging models. \n",
    "# input designs : \n",
    "doe50_in = pd.read_csv('DOE_RESP/kg_doe50_130875.csv', sep=';')\n",
    "doe100_in = pd.read_csv('DOE_RESP/kg_doe100_409484.csv', sep=';')\n",
    "doe200_in = pd.read_csv('DOE_RESP/kg_doe200_224409.csv', sep=';')\n",
    "# model outputs :\n",
    "doe50_out_MD = pd.read_csv('DOE_RESP/kg_doe50_130875_resp_MD.csv', sep=';', header=None)\n",
    "doe50_VM = pd.read_csv('DOE_RESP/kg_doe50_130875_resp_VM.csv', sep=';', header=None)\n",
    "doe100_out_MD = pd.read_csv('DOE_RESP/kg_doe100_409484_resp_MD.csv', header=None)\n",
    "doe100_VM = pd.read_csv('DOE_RESP/kg_doe100_409484_resp_VM.csv', sep=';', header=None)\n",
    "doe200_out_MD = pd.read_csv('DOE_RESP/kg_doe200_224409_resp_MD.csv', sep=';', header=None)\n",
    "doe200_VM = pd.read_csv('DOE_RESP/kg_doe200_224409_resp_VM.csv', sep=';', header=None)\n",
    "# validation models : \n",
    "doe_vali_200_in = pd.read_csv('DOE_RESP/val_doe200_502849.csv', sep=';')\n",
    "doe_vali_200_out_MD = pd.read_csv('DOE_RESP/val_doe200_502849_resp_MD.csv', sep=';',header=None)\n",
    "doe_vali_200_out_VM = pd.read_csv('DOE_RESP/val_doe200_502849_resp_VM.csv', sep=';',header=None)"
   ]
  },
  {
   "cell_type": "code",
   "execution_count": 3,
   "metadata": {},
   "outputs": [],
   "source": [
    "def all_same(items=None):\n",
    "    #Checks if all items of a list are the same\n",
    "    return all(x == items[0] for x in items)\n",
    "\n",
    "def isValidSobolIndicesExperiment(sample_like, size, second_order = False):\n",
    "    try :\n",
    "        sample = np.asarray(sample_like)\n",
    "    except :\n",
    "        print('Could not convert sample to numpy array')\n",
    "        raise TypeError\n",
    "    N = sample.shape[0]\n",
    "    print('N is', N)\n",
    "    dim = sample.shape[1]\n",
    "    Y_A = sample[:size]\n",
    "    Y_B = sample[size:2*size]\n",
    "    N_indice = int(N/size - 2)\n",
    "    assert N%size==0,\"wrong sample size\"\n",
    "    print('Simplified view of the sobol indices experiments structure')\n",
    "    print('There are {} dimensions and {} sobol indices to calculate'.format(dim, N_indice))\n",
    "    assert np.where(Y_A==Y_B,True,False).any() == False #Here we check that there is no similarity at all  between A and B \n",
    "    tot_lines = list()\n",
    "    try : \n",
    "        for i in range(N_indice+2):\n",
    "            Y_E = sample[i*size:(i+1)*size]\n",
    "            tot_cols = [True]*dim\n",
    "            col_where_A = list(set(np.argwhere(Y_A==Y_E)[:,1]))\n",
    "            line_where_A = list(set(np.argwhere(Y_A==Y_E)[:,0]))\n",
    "            if len(line_where_A)==size : OK = True\n",
    "            for co in col_where_A :\n",
    "                tot_cols[co] = False\n",
    "            if OK : \n",
    "                if len(col_where_A)==dim and all(tot_cols):\n",
    "                    sl = ['A_'+str(j) for j in range(dim)]\n",
    "                elif len(col_where_A)==0 and all_same(tot_cols):\n",
    "                    sl = ['B_'+str(j) for j in range(dim)]\n",
    "                else :\n",
    "                    sl = ['B_'+str(j) for j in range(dim)]\n",
    "                    for k in range(len(col_where_A)):\n",
    "                        sl[col_where_A[k]] = 'A_'+str(col_where_A[k])\n",
    "                l = \"  ,    \".join(sl)\n",
    "                l = '    '+l\n",
    "            if not OK :\n",
    "                print('Error')\n",
    "                return False\n",
    "            tot_lines.append(l)\n",
    "        repres = ' \\n\\n'.join(tot_lines)\n",
    "        repres = '\\n'+repres\n",
    "        print(repres) \n",
    "        return True\n",
    "    except :\n",
    "        return False\n",
    "\n",
    "def ereaseNanFromSample(sample_in, sample_out, N , secondOrder = False):\n",
    "    sampOut = np.array(sample_out,copy=True, subok=False)\n",
    "    if secondOrder == False : \n",
    "        n_vars = int(sampOut.shape[0]/N) - 2 \n",
    "        print('n vars is', n_vars)\n",
    "        N_max = int(N*(n_vars + 2))\n",
    "        N_var = N_max/N\n",
    "    else : \n",
    "        n_vars = int(sampOut.shape[0]/(N*2)) - 1\n",
    "        print('n vars is', n_vars)\n",
    "        N_max = int(N*(2*n_vars + 2))\n",
    "        N_var = N_max/N\n",
    "    \n",
    "    print('N_max is', N_max)\n",
    "    argNan = np.argwhere(np.isnan(sampOut))[:,0].tolist()\n",
    "    print('args where nan : ',argNan)\n",
    "    toErease = set()\n",
    "    for arg in argNan:\n",
    "        whereToErease = list(range(arg%N, N_max, N))\n",
    "        [toErease.add(elem) for elem in whereToErease]\n",
    "    whereToErease = list(toErease)\n",
    "    print('Where we are erasing:', whereToErease)\n",
    "    N -= int(len(whereToErease)/N_var)\n",
    "    for idx in sorted(whereToErease)[::-1]:\n",
    "        sample_in.erase(idx)\n",
    "        sample_out.erase(idx) \n",
    "    print('N is now: ',N)\n",
    "    return N"
   ]
  },
  {
   "cell_type": "code",
   "execution_count": 4,
   "metadata": {},
   "outputs": [
    {
     "data": {
      "text/html": [
       "<p>[X_0_0,X_0_1,X_0_2,X_0_3,X_0_4,X_0_5,X_0_6,X_1_0,X_1_1,X_1_2,X_1_3,X_1_4,X_1_5,X_1_6,X_1_7,X_1_8,X_1_9,X_2_0,X_3_0,X_4_0]#20</p>"
      ],
      "text/plain": [
       "[X_0_0,X_0_1,X_0_2,X_0_3,X_0_4,X_0_5,X_0_6,X_1_0,X_1_1,X_1_2,X_1_3,X_1_4,X_1_5,X_1_6,X_1_7,X_1_8,X_1_9,X_2_0,X_3_0,X_4_0]"
      ]
     },
     "execution_count": 4,
     "metadata": {},
     "output_type": "execute_result"
    }
   ],
   "source": [
    "# KRIGING SAMPLE\n",
    "    # INPUTS\n",
    "sample_doe50_in = ot.Sample(doe50_in.values)\n",
    "sample_doe50_in.setDescription(doe50_in.columns)\n",
    "sample_doe100_in = ot.Sample(doe100_in.values)\n",
    "sample_doe100_in.setDescription(doe100_in.columns)\n",
    "sample_doe200_in = ot.Sample(doe200_in.values)\n",
    "sample_doe200_in.setDescription(doe200_in.columns)\n",
    "    # OUTPUTS\n",
    "sample_doe50_out_MD = ot.Sample(doe50_out_MD.values)\n",
    "sample_doe50_out_MD.setDescription(ot.Description.BuildDefault(len(doe50_out_MD.columns), 'MD_'))\n",
    "sample_doe50_VM = ot.Sample(doe50_VM.values)\n",
    "sample_doe50_VM.setDescription(ot.Description.BuildDefault(len(doe50_VM.columns), 'VM_'))\n",
    "sample_doe100_out_MD = ot.Sample(doe100_out_MD.values)\n",
    "sample_doe100_out_MD.setDescription(ot.Description.BuildDefault(len(doe100_out_MD.columns), 'MD_'))\n",
    "sample_doe100_VM = ot.Sample(doe100_VM.values)\n",
    "sample_doe100_VM.setDescription(ot.Description.BuildDefault(len(doe100_VM.columns), 'VM_'))\n",
    "sample_doe200_out_MD = ot.Sample(doe200_out_MD.values)\n",
    "sample_doe200_out_MD.setDescription(ot.Description.BuildDefault(len(doe200_out_MD.columns), 'MD_'))\n",
    "sample_doe200_VM = ot.Sample(doe200_VM.values)\n",
    "sample_doe200_VM.setDescription(ot.Description.BuildDefault(len(doe200_VM.columns), 'VM_'))\n",
    "# VALIDATION SAMPLE\n",
    "validation_sample_doe200_in = ot.Sample(doe_vali_200_in.values)\n",
    "validation_sample_doe200_in.setDescription(doe_vali_200_in.columns)\n",
    "validation_sample_doe200_out_MD = ot.Sample(doe_vali_200_out_MD.values)\n",
    "validation_sample_doe200_out_MD.setDescription(ot.Description.BuildDefault(len(doe_vali_200_out_MD.columns), 'MD_'))\n",
    "validation_sample_doe200_out_VM = ot.Sample(doe_vali_200_out_VM.values)\n",
    "validation_sample_doe200_out_VM.setDescription(ot.Description.BuildDefault(len(doe_vali_200_out_VM.columns), 'VM_'))\n",
    "sample_doe50_in.getDescription()"
   ]
  },
  {
   "cell_type": "markdown",
   "metadata": {},
   "source": [
    "## First, let's define a metamodeling class"
   ]
  },
  {
   "cell_type": "code",
   "execution_count": 5,
   "metadata": {},
   "outputs": [],
   "source": [
    "class metamodeling_kriging : \n",
    "    def __init__(self, inSample, outSample, **kwargs):\n",
    "        self.input_sample = inSample\n",
    "        self.output_sample = outSample\n",
    "        self.__default_kriging__ = None\n",
    "        self.__kriging_theta__ = None\n",
    "        self.__kriging_results__ = None\n",
    "        self.__kriging_metamodel__ = None\n",
    "        self.__size_multistart__ = kwargs['size_multistart'] if 'size_multistart' in kwargs else 5\n",
    "        self.__lb__ = kwargs['lower_bound'] if 'lower_bound' in kwargs else None\n",
    "        self.__ub__ = kwargs['upper_bound'] if 'upper_bound' in kwargs else None\n",
    "        self.__optim_type__ = kwargs['optim_type'] if 'optim_type' in kwargs else 'best_start'\n",
    "        self.validation_results = __validation_results__() \n",
    "        \n",
    "    def _build_default(self):\n",
    "        self.__default_kriging__ = pt.build_default_kriging_algo(\n",
    "                                    input_sample  = self.input_sample,\n",
    "                                    output_sample = self.output_sample, \n",
    "                                    basis         = None,\n",
    "                                    covariance_model = None,\n",
    "                                    noise         = None)\n",
    "        \n",
    "    def _estimate_theta(self):\n",
    "        self.__kriging_theta__ = pt.estimate_kriging_theta(\n",
    "                            algo_kriging = self.__default_kriging__,\n",
    "                            lower_bound = self.__lb__,\n",
    "                            upper_bound = self.__ub__,\n",
    "                            size        = self.__size_multistart__,\n",
    "                            optim_type  = self.__optim_type__)\n",
    "    \n",
    "    def _get_results_metamodel(self):\n",
    "        if isinstance(self.__kriging_theta__,(Sequence,Iterable, list)):\n",
    "            self.__kriging_results__ = [_kt.getResult() for _kt in self.__kriging_theta__]\n",
    "            self.__kriging_metamodel__ = [_km.getMetaModel() for _km in self.__kriging_results__]\n",
    "        else :\n",
    "            self.__kriging_results__ = self.__kriging_theta__.getResult()\n",
    "            self.__kriging_metamodel__ = self.__kriging_results__.getMetaModel()\n",
    "                \n",
    "    def run(self):\n",
    "        self._build_default()\n",
    "        self._estimate_theta()\n",
    "        self._get_results_metamodel()\n",
    "        print('Done !')\n",
    "        \n",
    "    def getKrigingResult(self):\n",
    "        return self.__kriging_results__\n",
    "        \n",
    "    def getKrigingMetaModel(self):\n",
    "        return self.__kriging_metamodel__\n",
    "    \n",
    "    def _check_clean_nans(self, sampleIn, sampleOut):\n",
    "        whereNan = list(set(np.argwhere(np.isnan(sampleOut))[:,0]))\n",
    "        print('NaN values found at index:',whereNan)\n",
    "        [(sampleOut.erase(int(val)), sampleIn.erase(int(val))) for val in whereNan]\n",
    "        \n",
    "    def getMetaModelValidation(self, sample_in_validation, sample_out_validation):\n",
    "        assert self.__kriging_metamodel__ is not None, \"Please first run calculus\"\n",
    "        assert len(sample_in_validation) == len(sample_out_validation)\n",
    "        self._check_clean_nans(sample_in_validation, sample_out_validation)\n",
    "        self.validation_results.clear()\n",
    "        if isinstance(self.__kriging_metamodel__,(Sequence,Iterable, list)):\n",
    "            for i, model in enumerate(self.__kriging_metamodel__):\n",
    "                validation = ot.MetaModelValidation(sample_in_validation, \n",
    "                                                    sample_out_validation[:,i],\n",
    "                                                    self.__kriging_metamodel__[i])\n",
    "                R2 = validation.computePredictivityFactor()\n",
    "                residual = validation.getResidualSample()\n",
    "                graph = validation.drawValidation()\n",
    "                self.validation_results.addGraph(graph)\n",
    "                self.validation_results.addR2(R2)\n",
    "                self.validation_results.addResidual(residual)\n",
    "        else : \n",
    "            validation = ot.MetaModelValidation(sample_in_validation, \n",
    "                                                sample_out_validation[:,0],\n",
    "                                                self.__kriging_metamodel__)\n",
    "            R2 = validation.computePredictivityFactor()\n",
    "            residual = validation.getResidualSample()\n",
    "            graph = validation.drawValidation()\n",
    "            self.validation_results.addGraph(graph)\n",
    "            self.validation_results.addR2(R2)\n",
    "            self.validation_results.addResidual(residual)\n",
    "                \n",
    "class __validation_results__(object) :\n",
    "    def __init__(self): \n",
    "        self.__R2__ = []\n",
    "        self.__residuals__ = []\n",
    "        self.__graphs__ = []\n",
    "\n",
    "    def clear(self):\n",
    "        self.__R2__.clear()\n",
    "        self.__residuals__.clear()\n",
    "        self.__graphs__.clear()\n",
    "        \n",
    "    def addGraph(self, graph):\n",
    "        self.__graphs__.append(graph)\n",
    "\n",
    "    def addR2(self, R2):\n",
    "        self.__R2__.append(R2)\n",
    "\n",
    "    def addResidual(self, residual):\n",
    "        self.__residuals__.append(residual)\n",
    "\n",
    "    def getGraphs(self):\n",
    "        for graph in self.__graphs__ :\n",
    "            ot.Show(graph)\n",
    "\n",
    "    def getResiduals(self):\n",
    "        theGraph = ot.Graph('Residuals','varying dimension','residual',True,'')\n",
    "        theCurve = ot.Curve(list(range(len(self.__residuals__))),\n",
    "                            self.__residuals__, 'residuals')\n",
    "        theGraph.add(theCurve)\n",
    "        ot.Show(theGraph)\n",
    "\n",
    "    def getR2s(self):\n",
    "        theGraph = ot.Graph('R2','varying dimension','residual',True,'')\n",
    "        theCurve = ot.Curve(list(range(len(self.__R2__))),\n",
    "                            self.__R2__, 'R2')\n",
    "        theGraph.add(theCurve)\n",
    "        ot.Show(theGraph)"
   ]
  },
  {
   "cell_type": "markdown",
   "metadata": {},
   "source": [
    "#### First metamodel, DOE : LHS 50  ==> Max Deflection"
   ]
  },
  {
   "cell_type": "code",
   "execution_count": 6,
   "metadata": {},
   "outputs": [
    {
     "name": "stdout",
     "output_type": "stream",
     "text": [
      "Done !\n"
     ]
    }
   ],
   "source": [
    "kriging_doe_50_MD = metamodeling_kriging(sample_doe50_in, sample_doe50_out_MD,optim_type='multi_start', size_multistart = 10)\n",
    "kriging_doe_50_MD.run()"
   ]
  },
  {
   "cell_type": "markdown",
   "metadata": {},
   "source": [
    "###### For validation, we are going to use one of the samples intended for the sobol indices calculus. by the way, we are only going to use the 2/7 th of the samples (as we have samples A, B, and then 5 combinations of those.)"
   ]
  },
  {
   "cell_type": "code",
   "execution_count": 7,
   "metadata": {},
   "outputs": [
    {
     "name": "stdout",
     "output_type": "stream",
     "text": [
      "NaN values found at index: []\n"
     ]
    }
   ],
   "source": [
    "# validation_sample_doe2000_in | validation_sample_doe2000_out_MD | validation_sample_doe2000_out_VM\n",
    "kriging_doe_50_MD.getMetaModelValidation(validation_sample_doe200_in, validation_sample_doe200_out_MD)\n"
   ]
  },
  {
   "cell_type": "code",
   "execution_count": 8,
   "metadata": {},
   "outputs": [
    {
     "data": {
      "image/png": "[encoded data removed]",
      "text/plain": [
       "<Figure size 432x288 with 1 Axes>"
      ]
     },
     "metadata": {
      "needs_background": "light"
     },
     "output_type": "display_data"
    }
   ],
   "source": [
    "kriging_doe_50_MD.validation_results.getGraphs()"
   ]
  },
  {
   "cell_type": "markdown",
   "metadata": {},
   "source": [
    "###### As we see, the results here are not so horrible ..."
   ]
  },
  {
   "cell_type": "markdown",
   "metadata": {},
   "source": [
    "#### Second metamodel, DOE : LHS 100  ==> Max Deflection"
   ]
  },
  {
   "cell_type": "code",
   "execution_count": 9,
   "metadata": {},
   "outputs": [
    {
     "name": "stdout",
     "output_type": "stream",
     "text": [
      "Done !\n"
     ]
    }
   ],
   "source": [
    "kriging_doe_100_MD = metamodeling_kriging(sample_doe100_in, \n",
    "                                        sample_doe100_out_MD, \n",
    "                                        optim_type='best_start',\n",
    "                                        size_multistart = 100,\n",
    "                                        lower_bound = None,\n",
    "                                        upper_bound = None)\n",
    "kriging_doe_100_MD.run()"
   ]
  },
  {
   "cell_type": "code",
   "execution_count": 10,
   "metadata": {},
   "outputs": [
    {
     "name": "stdout",
     "output_type": "stream",
     "text": [
      "NaN values found at index: []\n"
     ]
    }
   ],
   "source": [
    "kriging_doe_100_MD.getMetaModelValidation(validation_sample_doe200_in, validation_sample_doe200_out_MD)\n"
   ]
  },
  {
   "cell_type": "code",
   "execution_count": 11,
   "metadata": {},
   "outputs": [
    {
     "data": {
      "image/png": "[encoded data removed]",
      "text/plain": [
       "<Figure size 432x288 with 1 Axes>"
      ]
     },
     "metadata": {
      "needs_background": "light"
     },
     "output_type": "display_data"
    }
   ],
   "source": [
    "\n",
    "kriging_doe_100_MD.validation_results.getGraphs()"
   ]
  },
  {
   "cell_type": "markdown",
   "metadata": {},
   "source": [
    "#### Third metamodel, DOE : LHS 200  ==> Max Deflection"
   ]
  },
  {
   "cell_type": "code",
   "execution_count": 12,
   "metadata": {},
   "outputs": [
    {
     "name": "stdout",
     "output_type": "stream",
     "text": [
      "Done !\n"
     ]
    }
   ],
   "source": [
    "kriging_doe_200_MD = metamodeling_kriging(sample_doe200_in, \n",
    "                                        sample_doe200_out_MD, \n",
    "                                        optim_type='best_start',\n",
    "                                        size_multistart = 100,\n",
    "\n",
    "                                        lower_bound = None,\n",
    "                                        upper_bound = None)\n",
    "kriging_doe_200_MD.run()"
   ]
  },
  {
   "cell_type": "code",
   "execution_count": 13,
   "metadata": {},
   "outputs": [
    {
     "name": "stdout",
     "output_type": "stream",
     "text": [
      "NaN values found at index: []\n"
     ]
    }
   ],
   "source": [
    "kriging_doe_200_MD.getMetaModelValidation(validation_sample_doe200_in, validation_sample_doe200_out_MD)\n"
   ]
  },
  {
   "cell_type": "code",
   "execution_count": 14,
   "metadata": {},
   "outputs": [
    {
     "data": {
      "image/png": "[encoded data removed]",
      "text/plain": [
       "<Figure size 432x288 with 1 Axes>"
      ]
     },
     "metadata": {
      "needs_background": "light"
     },
     "output_type": "display_data"
    }
   ],
   "source": [
    "kriging_doe_200_MD.validation_results.getGraphs()"
   ]
  },
  {
   "cell_type": "markdown",
   "metadata": {},
   "source": [
    "## Comparison of the sensitivity analysis parts. Let's do the sensitivty analysis of the 3 metamodels.\n",
    "\n",
    "We will first have to load the sample intended to the calculus of the sobol indices, in hope we will find no nan. "
   ]
  },
  {
   "cell_type": "code",
   "execution_count": 15,
   "metadata": {},
   "outputs": [
    {
     "data": {
      "text/plain": [
       "14000"
      ]
     },
     "execution_count": 15,
     "metadata": {},
     "output_type": "execute_result"
    }
   ],
   "source": [
    "si_2000_in = pd.read_csv('DOE_RESP/si_doe2000_720442.csv', sep=';')\n",
    "si_2000_out_MD = pd.read_csv('DOE_RESP/si_doe2000_720442_resp_MD.csv', sep=';',header=None)\n",
    "si_2000_out_VM = pd.read_csv('DOE_RESP/si_doe2000_720442_resp_VM.csv', sep=';',header=None)\n",
    "#Samples\n",
    "sample_si_2000_in = ot.Sample(si_2000_in.values)\n",
    "sample_si_2000_in.setDescription(si_2000_in.columns)\n",
    "\n",
    "sample_si_2000_out_MD = ot.Sample(si_2000_out_MD.values)\n",
    "sample_si_2000_out_MD.setDescription(ot.Description.BuildDefault(len(si_2000_out_MD.columns), 'MD_'))\n",
    "\n",
    "sample_si_2000_out_VM = ot.Sample(si_2000_out_VM.values)\n",
    "sample_si_2000_out_VM.setDescription(ot.Description.BuildDefault(len(si_2000_out_VM.columns), 'VM_'))\n",
    "\n",
    "si_1000_in = pd.read_csv('DOE_RESP/si_doe1000_248214.csv', sep=';')\n",
    "si_1000_out_MD = pd.read_csv('DOE_RESP/si_doe1000_248214_resp_MD.csv', sep=';',header=None)\n",
    "si_1000_out_VM = pd.read_csv('DOE_RESP/si_doe1000_248214_resp_VM.csv', sep=';',header=None)\n",
    "#Samples\n",
    "sample_si_1000_in = ot.Sample(si_1000_in.values)\n",
    "sample_si_1000_in.setDescription(si_1000_in.columns)\n",
    "\n",
    "sample_si_1000_out_MD = ot.Sample(si_1000_out_MD.values)\n",
    "sample_si_1000_out_MD.setDescription(ot.Description.BuildDefault(len(si_1000_out_MD.columns), 'MD_'))\n",
    "\n",
    "sample_si_1000_out_VM = ot.Sample(si_1000_out_VM.values)\n",
    "sample_si_1000_out_VM.setDescription(ot.Description.BuildDefault(len(si_1000_out_VM.columns), 'VM_'))\n",
    "sample_si_2000_in.getSize()"
   ]
  },
  {
   "cell_type": "code",
   "execution_count": 16,
   "metadata": {},
   "outputs": [
    {
     "name": "stdout",
     "output_type": "stream",
     "text": [
      "n vars is 5\n",
      "N_max is 14000\n",
      "args where nan :  [3421]\n",
      "Where we are erasing: [9421, 5421, 1421, 13421, 11421, 3421, 7421]\n",
      "N is now:  1999\n"
     ]
    },
    {
     "data": {
      "text/plain": [
       "13993"
      ]
     },
     "execution_count": 16,
     "metadata": {},
     "output_type": "execute_result"
    }
   ],
   "source": [
    "N_2000 = ereaseNanFromSample(sample_si_2000_in, sample_si_2000_out_MD, 2000, False)\n",
    "sample_si_2000_in.getSize()\n"
   ]
  },
  {
   "cell_type": "code",
   "execution_count": 17,
   "metadata": {},
   "outputs": [
    {
     "name": "stdout",
     "output_type": "stream",
     "text": [
      "N is 13993\n",
      "Simplified view of the sobol indices experiments structure\n",
      "There are 20 dimensions and 5 sobol indices to calculate\n",
      "\n",
      "    A_0  ,    A_1  ,    A_2  ,    A_3  ,    A_4  ,    A_5  ,    A_6  ,    A_7  ,    A_8  ,    A_9  ,    A_10  ,    A_11  ,    A_12  ,    A_13  ,    A_14  ,    A_15  ,    A_16  ,    A_17  ,    A_18  ,    A_19 \n",
      "\n",
      "    B_0  ,    B_1  ,    B_2  ,    B_3  ,    B_4  ,    B_5  ,    B_6  ,    B_7  ,    B_8  ,    B_9  ,    B_10  ,    B_11  ,    B_12  ,    B_13  ,    B_14  ,    B_15  ,    B_16  ,    B_17  ,    B_18  ,    B_19 \n",
      "\n",
      "    B_0  ,    B_1  ,    B_2  ,    B_3  ,    B_4  ,    B_5  ,    B_6  ,    A_7  ,    A_8  ,    A_9  ,    A_10  ,    A_11  ,    A_12  ,    A_13  ,    A_14  ,    A_15  ,    A_16  ,    A_17  ,    A_18  ,    A_19 \n",
      "\n",
      "    A_0  ,    A_1  ,    A_2  ,    A_3  ,    A_4  ,    A_5  ,    A_6  ,    B_7  ,    B_8  ,    B_9  ,    B_10  ,    B_11  ,    B_12  ,    B_13  ,    B_14  ,    B_15  ,    B_16  ,    A_17  ,    A_18  ,    A_19 \n",
      "\n",
      "    A_0  ,    A_1  ,    A_2  ,    A_3  ,    A_4  ,    A_5  ,    A_6  ,    A_7  ,    A_8  ,    A_9  ,    A_10  ,    A_11  ,    A_12  ,    A_13  ,    A_14  ,    A_15  ,    A_16  ,    B_17  ,    A_18  ,    A_19 \n",
      "\n",
      "    A_0  ,    A_1  ,    A_2  ,    A_3  ,    A_4  ,    A_5  ,    A_6  ,    A_7  ,    A_8  ,    A_9  ,    A_10  ,    A_11  ,    A_12  ,    A_13  ,    A_14  ,    A_15  ,    A_16  ,    A_17  ,    B_18  ,    A_19 \n",
      "\n",
      "    A_0  ,    A_1  ,    A_2  ,    A_3  ,    A_4  ,    A_5  ,    A_6  ,    A_7  ,    A_8  ,    A_9  ,    A_10  ,    A_11  ,    A_12  ,    A_13  ,    A_14  ,    A_15  ,    A_16  ,    A_17  ,    A_18  ,    B_19\n"
     ]
    },
    {
     "data": {
      "text/plain": [
       "True"
      ]
     },
     "execution_count": 17,
     "metadata": {},
     "output_type": "execute_result"
    }
   ],
   "source": [
    "isValidSobolIndicesExperiment(sample_si_2000_in,N_2000)\n"
   ]
  },
  {
   "cell_type": "code",
   "execution_count": 18,
   "metadata": {},
   "outputs": [
    {
     "name": "stdout",
     "output_type": "stream",
     "text": [
      "NaN values found at index: []\n"
     ]
    },
    {
     "data": {
      "image/png": "[encoded data removed]",
      "text/plain": [
       "<Figure size 432x288 with 1 Axes>"
      ]
     },
     "metadata": {
      "needs_background": "light"
     },
     "output_type": "display_data"
    }
   ],
   "source": [
    "kriging_doe_200_MD.getMetaModelValidation(sample_si_2000_in, sample_si_2000_out_MD)\n",
    "kriging_doe_200_MD.validation_results.getGraphs()"
   ]
  },
  {
   "cell_type": "code",
   "execution_count": 19,
   "metadata": {},
   "outputs": [
    {
     "name": "stdout",
     "output_type": "stream",
     "text": [
      "n vars is 5\n",
      "N_max is 7000\n",
      "args where nan :  [377, 2377, 3377, 4377, 6377]\n",
      "Where we are erasing: [1377, 5377, 4377, 2377, 6377, 3377, 377]\n",
      "N is now:  999\n"
     ]
    }
   ],
   "source": [
    "N_1000 = ereaseNanFromSample(sample_si_1000_in, sample_si_1000_out_MD, 1000, False)"
   ]
  },
  {
   "cell_type": "code",
   "execution_count": 20,
   "metadata": {},
   "outputs": [
    {
     "name": "stdout",
     "output_type": "stream",
     "text": [
      "NaN values found at index: []\n"
     ]
    },
    {
     "data": {
      "image/png": "[encoded data removed]",
      "text/plain": [
       "<Figure size 432x288 with 1 Axes>"
      ]
     },
     "metadata": {
      "needs_background": "light"
     },
     "output_type": "display_data"
    }
   ],
   "source": [
    "kriging_doe_200_MD.getMetaModelValidation(sample_si_1000_in, sample_si_1000_out_MD)\n",
    "kriging_doe_200_MD.validation_results.getGraphs()"
   ]
  },
  {
   "cell_type": "code",
   "execution_count": 21,
   "metadata": {},
   "outputs": [
    {
     "name": "stdout",
     "output_type": "stream",
     "text": [
      "size initialized 6993\n",
      "Warning : Always pass the computeSecondOrder argument\n",
      "if you also pass the data to compute it\n",
      "Otherwise, the behavior will be unreliable\n",
      "\n",
      "Means is\n",
      " [21.7413]\n",
      "design_elem size, dim 6993 1\n",
      "There are 5 indices to get for 1 outputs with dimensions 1 each.\n",
      "Description all same? [X_0_0,X_0_1,X_0_2,X_0_3,X_0_4,X_0_5,X_0_6,X_1_0,X_1_1,X_1_2,X_1_3,X_1_4,X_1_5,X_1_6,X_1_7,X_1_8,X_1_9,X_2_0,X_3_0,X_4_0]#20\n",
      "SobolIndicesName ['X_0_', 'X_1_', 'X_2_', 'X_3_', 'X_4_']\n",
      "Input Description is, ['X_0_', 'X_1_', 'X_2_', 'X_3_', 'X_4_']\n"
     ]
    }
   ],
   "source": [
    "sensitivityAnalysis_REAL_MODEL_1000 = klfs.SobolKarhunenLoeveFieldSensitivityAlgorithm()\n",
    "sensitivityAnalysis_REAL_MODEL_1000.setDesign(sample_si_1000_in, sample_si_1000_out_MD, N_1000)\n",
    "sensitivityAnalysis_REAL_MODEL_1000.setEstimator(ot.SaltelliSensitivityAlgorithm())"
   ]
  },
  {
   "cell_type": "code",
   "execution_count": 22,
   "metadata": {},
   "outputs": [],
   "source": [
    "import spsa \n"
   ]
  },
  {
   "cell_type": "code",
   "execution_count": 23,
   "metadata": {},
   "outputs": [
    {
     "name": "stdout",
     "output_type": "stream",
     "text": [
      "Implicit dimension = 5\n",
      "Implicit description: [X0,X1,X2,X3,X4]\n",
      "There are 5 indices to get in (1,) dimensions with 1 elements\n",
      "Indices successfully calculated\n"
     ]
    },
    {
     "data": {
      "text/plain": [
       "array([ 2.35178907,  0.11325326, -0.0041309 ,  0.00928397,  0.02658312])"
      ]
     },
     "execution_count": 23,
     "metadata": {},
     "output_type": "execute_result"
    }
   ],
   "source": [
    "analysis = spsa.SobolIndicesStochasticProcessAlgorithm(np.array(sample_si_1000_out_MD),N_1000)\n",
    "analysis.getFirstOrderIndices()   ##### THE SOBOL INDICES CALCULUS IS RIGHT!!!! "
   ]
  },
  {
   "cell_type": "code",
   "execution_count": 24,
   "metadata": {},
   "outputs": [
    {
     "name": "stdout",
     "output_type": "stream",
     "text": [
      "Solving...\n",
      " size of samples:  6993\n",
      " number of indices to get 5\n"
     ]
    },
    {
     "data": {
      "text/plain": [
       "[class=Point name=Sobol_Unnamed_X_0_ dimension=1 values=[2.35271],\n",
       " class=Point name=Sobol_Unnamed_X_1_ dimension=1 values=[0.113455],\n",
       " class=Point name=Sobol_Unnamed_X_2_ dimension=1 values=[-0.00413117],\n",
       " class=Point name=Sobol_Unnamed_X_3_ dimension=1 values=[0.00930449],\n",
       " class=Point name=Sobol_Unnamed_X_4_ dimension=1 values=[0.0262257]]"
      ]
     },
     "execution_count": 24,
     "metadata": {},
     "output_type": "execute_result"
    }
   ],
   "source": [
    "sensitivityAnalysis_REAL_MODEL_1000.getFirstOrderIndices()[0]"
   ]
  },
  {
   "cell_type": "code",
   "execution_count": 25,
   "metadata": {},
   "outputs": [
    {
     "data": {
      "text/html": [
       "<p>[-1.13945, 7.69426]<br>\n",
       "[0.0244919, 0.250582]<br>\n",
       "[-0.124875, 0.103857]<br>\n",
       "[-0.108295, 0.119082]<br>\n",
       "[-0.060042, 0.132177]</p>"
      ],
      "text/plain": [
       "class=Interval name=Bounds_Sobol_Unnamed dimension=5 lower bound=class=Point name=Unnamed dimension=5 values=[-1.13945,0.0244919,-0.124875,-0.108295,-0.060042] upper bound=class=Point name=Unnamed dimension=5 values=[7.69426,0.250582,0.103857,0.119082,0.132177] finite lower bound=[1,1,1,1,1] finite upper bound=[1,1,1,1,1]"
      ]
     },
     "execution_count": 25,
     "metadata": {},
     "output_type": "execute_result"
    }
   ],
   "source": [
    "sensitivityAnalysis_REAL_MODEL_1000.getFirstOrderIndicesInterval()[0]"
   ]
  },
  {
   "cell_type": "code",
   "execution_count": 26,
   "metadata": {
    "scrolled": true
   },
   "outputs": [
    {
     "data": {
      "text/plain": [
       "[class=Point name=TotalOrderSobol_Unnamed_X_0_ dimension=1 values=[0.887455],\n",
       " class=Point name=TotalOrderSobol_Unnamed_X_1_ dimension=1 values=[0.0601181],\n",
       " class=Point name=TotalOrderSobol_Unnamed_X_2_ dimension=1 values=[-8.73395e-08],\n",
       " class=Point name=TotalOrderSobol_Unnamed_X_3_ dimension=1 values=[0.00757229],\n",
       " class=Point name=TotalOrderSobol_Unnamed_X_4_ dimension=1 values=[0.0382261]]"
      ]
     },
     "execution_count": 26,
     "metadata": {},
     "output_type": "execute_result"
    }
   ],
   "source": [
    "sensitivityAnalysis_REAL_MODEL_1000.getTotalOrderIndices()[0]"
   ]
  },
  {
   "cell_type": "code",
   "execution_count": 27,
   "metadata": {},
   "outputs": [
    {
     "name": "stdout",
     "output_type": "stream",
     "text": [
      "size initialized 13993\n",
      "Warning : Always pass the computeSecondOrder argument\n",
      "if you also pass the data to compute it\n",
      "Otherwise, the behavior will be unreliable\n",
      "\n",
      "Means is\n",
      " [21.4122]\n",
      "design_elem size, dim 13993 1\n",
      "There are 5 indices to get for 1 outputs with dimensions 1 each.\n",
      "Description all same? [X_0_0,X_0_1,X_0_2,X_0_3,X_0_4,X_0_5,X_0_6,X_1_0,X_1_1,X_1_2,X_1_3,X_1_4,X_1_5,X_1_6,X_1_7,X_1_8,X_1_9,X_2_0,X_3_0,X_4_0]#20\n",
      "SobolIndicesName ['X_0_', 'X_1_', 'X_2_', 'X_3_', 'X_4_']\n",
      "Input Description is, ['X_0_', 'X_1_', 'X_2_', 'X_3_', 'X_4_']\n",
      "Solving...\n",
      " size of samples:  13993\n",
      " number of indices to get 5\n"
     ]
    },
    {
     "data": {
      "text/plain": [
       "[class=Point name=Sobol_Unnamed_X_0_ dimension=1 values=[0.886715],\n",
       " class=Point name=Sobol_Unnamed_X_1_ dimension=1 values=[0.0997497],\n",
       " class=Point name=Sobol_Unnamed_X_2_ dimension=1 values=[-0.0295874],\n",
       " class=Point name=Sobol_Unnamed_X_3_ dimension=1 values=[-0.0249724],\n",
       " class=Point name=Sobol_Unnamed_X_4_ dimension=1 values=[0.0108644]]"
      ]
     },
     "execution_count": 27,
     "metadata": {},
     "output_type": "execute_result"
    }
   ],
   "source": [
    "sensitivityAnalysis_REAL_MODEL_2000 = klfs.SobolKarhunenLoeveFieldSensitivityAlgorithm()\n",
    "sensitivityAnalysis_REAL_MODEL_2000.setDesign(sample_si_2000_in, sample_si_2000_out_MD, N_2000)\n",
    "sensitivityAnalysis_REAL_MODEL_2000.setEstimator(ot.SaltelliSensitivityAlgorithm())\n",
    "sensitivityAnalysis_REAL_MODEL_2000.getFirstOrderIndices()[0]"
   ]
  },
  {
   "cell_type": "code",
   "execution_count": 30,
   "metadata": {},
   "outputs": [],
   "source": [
    "si_8000_in = pd.read_csv('DOE_RESP/si_doe8000_439038.csv', sep=';')\n",
    "si_8000_out_MD = pd.read_csv('DOE_RESP/si_doe8000_439038_resp_MD.csv', sep=';',header=None)\n",
    "si_8000_out_VM = pd.read_csv('DOE_RESP/si_doe8000_439038_resp_VM.csv', sep=';',header=None)\n",
    "#Samples\n",
    "sample_si_8000_in = ot.Sample(si_8000_in.values)\n",
    "sample_si_8000_in.setDescription(si_8000_in.columns)\n",
    "\n",
    "sample_si_8000_out_MD = ot.Sample(si_8000_out_MD.values)\n",
    "sample_si_8000_out_MD.setDescription(ot.Description.BuildDefault(len(si_8000_out_MD.columns), 'MD_'))\n",
    "\n",
    "sample_si_8000_out_VM = ot.Sample(si_8000_out_VM.values)\n",
    "sample_si_8000_out_VM.setDescription(ot.Description.BuildDefault(len(si_8000_out_VM.columns), 'VM_'))"
   ]
  },
  {
   "cell_type": "code",
   "execution_count": 31,
   "metadata": {},
   "outputs": [
    {
     "name": "stdout",
     "output_type": "stream",
     "text": [
      "Where nan: [2330, 3791, 8278, 9589, 17589, 21844, 27917, 27987, 30962, 31336, 34330, 35791, 37844, 50330]\n",
      "toErease is {27987, 11917, 27917, 11791, 27791, 43791, 43917, 3987, 13844, 29844, 278, 16278, 32278, 48278, 50330, 2330, 34330, 18330, 11987, 19987, 7336, 23336, 39336, 55336, 6962, 22962, 38962, 1589, 17589, 33589, 49589, 51987, 54962, 35987, 3917, 19917, 3791, 19791, 35791, 51791, 35917, 5844, 21844, 8278, 24278, 40278, 37844, 10330, 42330, 26330, 53844, 51917, 15336, 31336, 47336, 14962, 30962, 46962, 9589, 25589, 41589, 45844, 43987}\n",
      "N= 7991\n"
     ]
    }
   ],
   "source": [
    "whereNan = np.argwhere(np.isnan(sample_si_8000_out_MD))[:,0].tolist()\n",
    "N = 8000\n",
    "N_MAX = 8000*7\n",
    "toDelete = set()\n",
    "print('Where nan:', whereNan)\n",
    "for idx in whereNan:\n",
    "    toErease = list(range(idx%8000,N_MAX,N))\n",
    "    [toDelete.add(elem) for elem in toErease]\n",
    "print('toErease is', toDelete)\n",
    "toDelete = list(toDelete)\n",
    "N-=int(len(toDelete)/7)\n",
    "for idx in sorted(toDelete)[::-1] :\n",
    "    sample_si_8000_in.erase(idx)\n",
    "    sample_si_8000_out_MD.erase(idx)\n",
    "print('N=',N)"
   ]
  },
  {
   "cell_type": "code",
   "execution_count": 32,
   "metadata": {},
   "outputs": [
    {
     "name": "stdout",
     "output_type": "stream",
     "text": [
      "size initialized 55937\n",
      "Warning : Always pass the computeSecondOrder argument\n",
      "if you also pass the data to compute it\n",
      "Otherwise, the behavior will be unreliable\n",
      "\n",
      "Means is\n",
      " [21.6768]\n",
      "design_elem size, dim 55937 1\n",
      "There are 5 indices to get for 1 outputs with dimensions 1 each.\n",
      "Description all same? [X_0_0,X_0_1,X_0_2,X_0_3,X_0_4,X_0_5,X_0_6,X_1_0,X_1_1,X_1_2,X_1_3,X_1_4,X_1_5,X_1_6,X_1_7,X_1_8,X_1_9,X_2_0,X_3_0,X_4_0]#20\n",
      "SobolIndicesName ['X_0_', 'X_1_', 'X_2_', 'X_3_', 'X_4_']\n",
      "Input Description is, ['X_0_', 'X_1_', 'X_2_', 'X_3_', 'X_4_']\n"
     ]
    }
   ],
   "source": [
    "sensitivityAnalysis_REAL_MODEL2 = klfs.SobolKarhunenLoeveFieldSensitivityAlgorithm()\n",
    "sensitivityAnalysis_REAL_MODEL2.setDesign(sample_si_8000_in, sample_si_8000_out_MD, N)\n",
    "sensitivityAnalysis_REAL_MODEL2.setEstimator(ot.SaltelliSensitivityAlgorithm())"
   ]
  },
  {
   "cell_type": "code",
   "execution_count": 33,
   "metadata": {},
   "outputs": [
    {
     "name": "stdout",
     "output_type": "stream",
     "text": [
      "Solving...\n",
      " size of samples:  55937\n",
      " number of indices to get 5\n"
     ]
    },
    {
     "data": {
      "text/plain": [
       "[[class=Point name=Sobol_Unnamed_X_0_ dimension=1 values=[3.32406],\n",
       "  class=Point name=Sobol_Unnamed_X_1_ dimension=1 values=[0.130488],\n",
       "  class=Point name=Sobol_Unnamed_X_2_ dimension=1 values=[0.0254153],\n",
       "  class=Point name=Sobol_Unnamed_X_3_ dimension=1 values=[0.0333262],\n",
       "  class=Point name=Sobol_Unnamed_X_4_ dimension=1 values=[0.0463878]]]"
      ]
     },
     "execution_count": 33,
     "metadata": {},
     "output_type": "execute_result"
    }
   ],
   "source": [
    "sensitivityAnalysis_REAL_MODEL2.getFirstOrderIndices()"
   ]
  },
  {
   "cell_type": "code",
   "execution_count": 34,
   "metadata": {},
   "outputs": [
    {
     "data": {
      "text/plain": [
       "[[class=Point name=TotalOrderSobol_Unnamed_X_0_ dimension=1 values=[0.808678],\n",
       "  class=Point name=TotalOrderSobol_Unnamed_X_1_ dimension=1 values=[0.115843],\n",
       "  class=Point name=TotalOrderSobol_Unnamed_X_2_ dimension=1 values=[-6.15976e-10],\n",
       "  class=Point name=TotalOrderSobol_Unnamed_X_3_ dimension=1 values=[0.00916892],\n",
       "  class=Point name=TotalOrderSobol_Unnamed_X_4_ dimension=1 values=[0.0396033]]]"
      ]
     },
     "execution_count": 34,
     "metadata": {},
     "output_type": "execute_result"
    }
   ],
   "source": [
    "sensitivityAnalysis_REAL_MODEL2.getTotalOrderIndices()"
   ]
  },
  {
   "cell_type": "markdown",
   "metadata": {},
   "source": [
    "As in this new sensitivity analysis are totally different from our first one, we have to check if either this analysis or the other is broken. For this we are first going to calculate the first and second order indices to see if something changes. "
   ]
  },
  {
   "cell_type": "code",
   "execution_count": null,
   "metadata": {},
   "outputs": [],
   "source": [
    "si_sec_2000_in = pd.read_csv('DOE_RESP/si_sec_doe2000_8291001288.csv', sep=';')\n",
    "si_sec_2000_out_MD = pd.read_csv('DOE_RESP/si_sec_doe2000_8291001288_resp_MD.csv', sep=';',header=None)\n",
    "si_sec_2000_out_VM = pd.read_csv('DOE_RESP/si_sec_doe2000_8291001288_resp_VM.csv', sep=';',header=None)\n",
    "#Samples\n",
    "sample_si_sec_2000_in = ot.Sample(si_sec_2000_in.values)\n",
    "sample_si_sec_2000_in.setDescription(si_sec_2000_in.columns)\n",
    "\n",
    "sample_si_sec_2000_out_MD = ot.Sample(si_sec_2000_out_MD.values)\n",
    "sample_si_sec_2000_out_MD.setDescription(ot.Description.BuildDefault(len(si_sec_2000_out_MD.columns), 'MD_'))\n",
    "\n",
    "sample_si_sec_2000_out_VM = ot.Sample(si_sec_2000_out_VM.values)\n",
    "sample_si_sec_2000_out_VM.setDescription(ot.Description.BuildDefault(len(si_sec_2000_out_VM.columns), 'VM_'))"
   ]
  },
  {
   "cell_type": "code",
   "execution_count": null,
   "metadata": {},
   "outputs": [],
   "source": [
    "N_sec_2000 = ereaseNanFromSample(sample_si_sec_2000_in , sample_si_sec_2000_out_MD, 2000, True)\n"
   ]
  },
  {
   "cell_type": "code",
   "execution_count": null,
   "metadata": {},
   "outputs": [],
   "source": [
    "isValidSobolIndicesExperiment(sample_si_sec_2000_in, N_sec_2000,True)"
   ]
  },
  {
   "cell_type": "code",
   "execution_count": null,
   "metadata": {},
   "outputs": [],
   "source": [
    "sensitivityAnalysis_REAL_MODEL2 = klfs.SobolKarhunenLoeveFieldSensitivityAlgorithm()\n",
    "sensitivityAnalysis_REAL_MODEL2.setDesign(sample_si_sec_2000_in, sample_si_sec_2000_out_MD, N_sec_2000)\n",
    "sensitivityAnalysis_REAL_MODEL2.setEstimator(ot.SaltelliSensitivityAlgorithm())\n",
    "sensitivityAnalysis_REAL_MODEL2.setComputeSecondOrder(True)"
   ]
  },
  {
   "cell_type": "code",
   "execution_count": null,
   "metadata": {},
   "outputs": [],
   "source": [
    "sensitivityAnalysis_REAL_MODEL2.inputDescription\n",
    "sensitivityAnalysis_REAL_MODEL2.__nSobolIndices__\n",
    "sensitivityAnalysis_REAL_MODEL2.size"
   ]
  },
  {
   "cell_type": "code",
   "execution_count": null,
   "metadata": {},
   "outputs": [],
   "source": [
    "sensitivityAnalysis_REAL_MODEL2.getFirstOrderIndices()"
   ]
  },
  {
   "cell_type": "code",
   "execution_count": null,
   "metadata": {},
   "outputs": [],
   "source": [
    "sensitivityAnalysis_REAL_MODEL2.__results__[0].getSecondOrderIndices()"
   ]
  }
 ],
 "metadata": {
  "kernelspec": {
   "display_name": "Python 3",
   "language": "python",
   "name": "python3"
  },
  "language_info": {
   "codemirror_mode": {
    "name": "ipython",
    "version": 3
   },
   "file_extension": ".py",
   "mimetype": "text/x-python",
   "name": "python",
   "nbconvert_exporter": "python",
   "pygments_lexer": "ipython3",
   "version": "3.8.5"
  }
 },
 "nbformat": 4,
 "nbformat_minor": 4
}
