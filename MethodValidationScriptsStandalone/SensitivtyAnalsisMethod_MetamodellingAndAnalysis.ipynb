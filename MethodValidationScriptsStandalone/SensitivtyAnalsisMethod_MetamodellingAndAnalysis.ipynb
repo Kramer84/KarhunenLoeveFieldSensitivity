{
 "cells": [
  {
   "cell_type": "markdown",
   "metadata": {},
   "source": [
    "#### Now that we have our designs of experiment, we can begin to create our metamodels. In our case, we will create 3 metamodels, each created from a different (in size and elements) design of experiment. We will then assess the precision of our metamodel in regard to the functions ouput, and further we will look at the sensitivities"
   ]
  },
  {
   "cell_type": "code",
   "execution_count": 1,
   "metadata": {},
   "outputs": [
    {
     "name": "stderr",
     "output_type": "stream",
     "text": [
      "<ipython-input-1-340524c68602>:5: DeprecationWarning: Using or importing the ABCs from 'collections' instead of from 'collections.abc' is deprecated since Python 3.3, and in 3.9 it will stop working\n",
      "  from collections import Sequence, Iterable\n"
     ]
    }
   ],
   "source": [
    "import pandas as pd\n",
    "import numpy as np\n",
    "import openturns as ot\n",
    "import pythontools as pt\n",
    "from collections import Sequence, Iterable\n",
    "import KarhunenLoeveFieldSensitivity as klfs"
   ]
  },
  {
   "cell_type": "code",
   "execution_count": 2,
   "metadata": {},
   "outputs": [],
   "source": [
    "# Lets' first load our 3 designs of experiment for the kriging models. \n",
    "# input designs : \n",
    "doe50_in = pd.read_csv('DOE_RESP2/kg_doe50_130875.csv', sep=';')\n",
    "doe100_in = pd.read_csv('DOE_RESP2/kg_doe100_409484.csv', sep=';')\n",
    "doe200_in = pd.read_csv('DOE_RESP2/kg_doe200_224409.csv', sep=';')\n",
    "# model outputs :\n",
    "doe50_out_MD = pd.read_csv('DOE_RESP2/kg_doe50_130875_resp_MD.csv', sep=';', header=None)\n",
    "doe50_VM = pd.read_csv('DOE_RESP2/kg_doe50_130875_resp_VM.csv', sep=';', header=None)\n",
    "doe100_out_MD = pd.read_csv('DOE_RESP2/kg_doe100_409484_resp_MD.csv', header=None)\n",
    "doe100_VM = pd.read_csv('DOE_RESP2/kg_doe100_409484_resp_VM.csv', sep=';', header=None)\n",
    "doe200_out_MD = pd.read_csv('DOE_RESP2/kg_doe200_224409_resp_MD.csv', sep=';', header=None)\n",
    "doe200_VM = pd.read_csv('DOE_RESP2/kg_doe200_224409_resp_VM.csv', sep=';', header=None)\n",
    "# validation models : \n",
    "doe_vali_200_in = pd.read_csv('DOE_RESP2/val_doe200_502849.csv', sep=';')\n",
    "doe_vali_200_out_MD = pd.read_csv('DOE_RESP2/val_doe200_502849_resp_MD.csv', sep=';',header=None)\n",
    "doe_vali_200_out_VM = pd.read_csv('DOE_RESP2/val_doe200_502849_resp_VM.csv', sep=';',header=None)"
   ]
  },
  {
   "cell_type": "code",
   "execution_count": 3,
   "metadata": {},
   "outputs": [],
   "source": [
    "def all_same(items=None):\n",
    "    #Checks if all items of a list are the same\n",
    "    return all(x == items[0] for x in items)\n",
    "\n",
    "def isValidSobolIndicesExperiment(sample_like, size, second_order = False):\n",
    "    try :\n",
    "        sample = np.asarray(sample_like)\n",
    "    except :\n",
    "        print('Could not convert sample to numpy array')\n",
    "        raise TypeError\n",
    "    N = sample.shape[0]\n",
    "    print('N is', N)\n",
    "    dim = sample.shape[1]\n",
    "    Y_A = sample[:size]\n",
    "    Y_B = sample[size:2*size]\n",
    "    N_indice = int(N/size - 2)\n",
    "    assert N%size==0,\"wrong sample size\"\n",
    "    print('Simplified view of the sobol indices experiments structure')\n",
    "    print('There are {} dimensions and {} sobol indices to calculate'.format(dim, N_indice))\n",
    "    assert np.where(Y_A==Y_B,True,False).any() == False #Here we check that there is no similarity at all  between A and B \n",
    "    tot_lines = list()\n",
    "    try : \n",
    "        for i in range(N_indice+2):\n",
    "            Y_E = sample[i*size:(i+1)*size]\n",
    "            tot_cols = [True]*dim\n",
    "            col_where_A = list(set(np.argwhere(Y_A==Y_E)[:,1]))\n",
    "            line_where_A = list(set(np.argwhere(Y_A==Y_E)[:,0]))\n",
    "            if len(line_where_A)==size : OK = True\n",
    "            for co in col_where_A :\n",
    "                tot_cols[co] = False\n",
    "            if OK : \n",
    "                if len(col_where_A)==dim and all(tot_cols):\n",
    "                    sl = ['A_'+str(j) for j in range(dim)]\n",
    "                elif len(col_where_A)==0 and all_same(tot_cols):\n",
    "                    sl = ['B_'+str(j) for j in range(dim)]\n",
    "                else :\n",
    "                    sl = ['B_'+str(j) for j in range(dim)]\n",
    "                    for k in range(len(col_where_A)):\n",
    "                        sl[col_where_A[k]] = 'A_'+str(col_where_A[k])\n",
    "                l = \"  ,    \".join(sl)\n",
    "                l = '    '+l\n",
    "            if not OK :\n",
    "                print('Error')\n",
    "                return False\n",
    "            tot_lines.append(l)\n",
    "        repres = ' \\n\\n'.join(tot_lines)\n",
    "        repres = '\\n'+repres\n",
    "        print(repres) \n",
    "        return True\n",
    "    except :\n",
    "        return False\n",
    "\n",
    "def ereaseNanFromSample(sample_in, sample_out, N , secondOrder = False):\n",
    "    sampOut = np.array(sample_out,copy=True, subok=False)\n",
    "    if secondOrder == False : \n",
    "        n_vars = int(sampOut.shape[0]/N) - 2 \n",
    "        print('n vars is', n_vars)\n",
    "        N_max = int(N*(n_vars + 2))\n",
    "        N_var = N_max/N\n",
    "    else : \n",
    "        n_vars = int(sampOut.shape[0]/(N*2)) - 1\n",
    "        print('n vars is', n_vars)\n",
    "        N_max = int(N*(2*n_vars + 2))\n",
    "        N_var = N_max/N\n",
    "    \n",
    "    print('N_max is', N_max)\n",
    "    argNan = np.argwhere(np.isnan(sampOut))[:,0].tolist()\n",
    "    print('args where nan : ',argNan)\n",
    "    toErease = set()\n",
    "    for arg in argNan:\n",
    "        whereToErease = list(range(arg%N, N_max, N))\n",
    "        [toErease.add(elem) for elem in whereToErease]\n",
    "    whereToErease = list(toErease)\n",
    "    print('Where we are erasing:', whereToErease)\n",
    "    N -= int(len(whereToErease)/N_var)\n",
    "    for idx in sorted(whereToErease)[::-1]:\n",
    "        sample_in.erase(idx)\n",
    "        sample_out.erase(idx) \n",
    "    print('N is now: ',N)\n",
    "    return N"
   ]
  },
  {
   "cell_type": "code",
   "execution_count": 4,
   "metadata": {},
   "outputs": [
    {
     "data": {
      "text/html": [
       "<p>[X_0_0,X_0_1,X_0_2,X_0_3,X_0_4,X_0_5,X_0_6,X_1_0,X_1_1,X_1_2,X_1_3,X_1_4,X_1_5,X_1_6,X_1_7,X_1_8,X_1_9,X_2_0,X_3_0]#19</p>"
      ],
      "text/plain": [
       "[X_0_0,X_0_1,X_0_2,X_0_3,X_0_4,X_0_5,X_0_6,X_1_0,X_1_1,X_1_2,X_1_3,X_1_4,X_1_5,X_1_6,X_1_7,X_1_8,X_1_9,X_2_0,X_3_0]"
      ]
     },
     "execution_count": 4,
     "metadata": {},
     "output_type": "execute_result"
    }
   ],
   "source": [
    "# KRIGING SAMPLE\n",
    "    # INPUTS\n",
    "sample_doe50_in = ot.Sample(doe50_in.values)\n",
    "sample_doe50_in.setDescription(doe50_in.columns)\n",
    "sample_doe100_in = ot.Sample(doe100_in.values)\n",
    "sample_doe100_in.setDescription(doe100_in.columns)\n",
    "sample_doe200_in = ot.Sample(doe200_in.values)\n",
    "sample_doe200_in.setDescription(doe200_in.columns)\n",
    "    # OUTPUTS\n",
    "sample_doe50_out_MD = ot.Sample(doe50_out_MD.values)\n",
    "sample_doe50_out_MD.setDescription(ot.Description.BuildDefault(len(doe50_out_MD.columns), 'MD_'))\n",
    "sample_doe50_VM = ot.Sample(doe50_VM.values)\n",
    "sample_doe50_VM.setDescription(ot.Description.BuildDefault(len(doe50_VM.columns), 'VM_'))\n",
    "sample_doe100_out_MD = ot.Sample(doe100_out_MD.values)\n",
    "sample_doe100_out_MD.setDescription(ot.Description.BuildDefault(len(doe100_out_MD.columns), 'MD_'))\n",
    "sample_doe100_VM = ot.Sample(doe100_VM.values)\n",
    "sample_doe100_VM.setDescription(ot.Description.BuildDefault(len(doe100_VM.columns), 'VM_'))\n",
    "sample_doe200_out_MD = ot.Sample(doe200_out_MD.values)\n",
    "sample_doe200_out_MD.setDescription(ot.Description.BuildDefault(len(doe200_out_MD.columns), 'MD_'))\n",
    "sample_doe200_VM = ot.Sample(doe200_VM.values)\n",
    "sample_doe200_VM.setDescription(ot.Description.BuildDefault(len(doe200_VM.columns), 'VM_'))\n",
    "# VALIDATION SAMPLE\n",
    "validation_sample_doe200_in = ot.Sample(doe_vali_200_in.values)\n",
    "validation_sample_doe200_in.setDescription(doe_vali_200_in.columns)\n",
    "validation_sample_doe200_out_MD = ot.Sample(doe_vali_200_out_MD.values)\n",
    "validation_sample_doe200_out_MD.setDescription(ot.Description.BuildDefault(len(doe_vali_200_out_MD.columns), 'MD_'))\n",
    "validation_sample_doe200_out_VM = ot.Sample(doe_vali_200_out_VM.values)\n",
    "validation_sample_doe200_out_VM.setDescription(ot.Description.BuildDefault(len(doe_vali_200_out_VM.columns), 'VM_'))\n",
    "sample_doe50_in.getDescription()"
   ]
  },
  {
   "cell_type": "markdown",
   "metadata": {},
   "source": [
    "## First, let's define a metamodeling class"
   ]
  },
  {
   "cell_type": "code",
   "execution_count": 5,
   "metadata": {},
   "outputs": [],
   "source": [
    "class metamodeling_kriging : \n",
    "    def __init__(self, inSample, outSample, **kwargs):\n",
    "        self.input_sample = inSample\n",
    "        self.output_sample = outSample\n",
    "        self.__default_kriging__ = None\n",
    "        self.__kriging_theta__ = None\n",
    "        self.__kriging_results__ = None\n",
    "        self.__kriging_metamodel__ = None\n",
    "        self.__size_multistart__ = kwargs['size_multistart'] if 'size_multistart' in kwargs else 5\n",
    "        self.__lb__ = kwargs['lower_bound'] if 'lower_bound' in kwargs else None\n",
    "        self.__ub__ = kwargs['upper_bound'] if 'upper_bound' in kwargs else None\n",
    "        self.__optim_type__ = kwargs['optim_type'] if 'optim_type' in kwargs else 'best_start'\n",
    "        self.validation_results = __validation_results__() \n",
    "        \n",
    "    def _build_default(self):\n",
    "        self.__default_kriging__ = pt.build_default_kriging_algo(\n",
    "                                    input_sample  = self.input_sample,\n",
    "                                    output_sample = self.output_sample, \n",
    "                                    basis         = None,\n",
    "                                    covariance_model = None,\n",
    "                                    noise         = None)\n",
    "        \n",
    "    def _estimate_theta(self):\n",
    "        self.__kriging_theta__ = pt.estimate_kriging_theta(\n",
    "                            algo_kriging = self.__default_kriging__,\n",
    "                            lower_bound = self.__lb__,\n",
    "                            upper_bound = self.__ub__,\n",
    "                            size        = self.__size_multistart__,\n",
    "                            optim_type  = self.__optim_type__)\n",
    "    \n",
    "    def _get_results_metamodel(self):\n",
    "        if isinstance(self.__kriging_theta__,(Sequence,Iterable, list)):\n",
    "            self.__kriging_results__ = [_kt.getResult() for _kt in self.__kriging_theta__]\n",
    "            self.__kriging_metamodel__ = [_km.getMetaModel() for _km in self.__kriging_results__]\n",
    "        else :\n",
    "            self.__kriging_results__ = self.__kriging_theta__.getResult()\n",
    "            self.__kriging_metamodel__ = self.__kriging_results__.getMetaModel()\n",
    "                \n",
    "    def run(self):\n",
    "        self._build_default()\n",
    "        self._estimate_theta()\n",
    "        self._get_results_metamodel()\n",
    "        print('Done !')\n",
    "        \n",
    "    def getKrigingResult(self):\n",
    "        return self.__kriging_results__\n",
    "        \n",
    "    def getKrigingMetaModel(self):\n",
    "        return self.__kriging_metamodel__\n",
    "    \n",
    "    def _check_clean_nans(self, sampleIn, sampleOut):\n",
    "        whereNan = list(set(np.argwhere(np.isnan(sampleOut))[:,0]))\n",
    "        print('NaN values found at index:',whereNan)\n",
    "        [(sampleOut.erase(int(val)), sampleIn.erase(int(val))) for val in whereNan]\n",
    "        \n",
    "    def getMetaModelValidation(self, sample_in_validation, sample_out_validation):\n",
    "        assert self.__kriging_metamodel__ is not None, \"Please first run calculus\"\n",
    "        assert len(sample_in_validation) == len(sample_out_validation)\n",
    "        self._check_clean_nans(sample_in_validation, sample_out_validation)\n",
    "        self.validation_results.clear()\n",
    "        if isinstance(self.__kriging_metamodel__,(Sequence,Iterable, list)):\n",
    "            for i, model in enumerate(self.__kriging_metamodel__):\n",
    "                validation = ot.MetaModelValidation(sample_in_validation, \n",
    "                                                    sample_out_validation[:,i],\n",
    "                                                    self.__kriging_metamodel__[i])\n",
    "                R2 = validation.computePredictivityFactor()\n",
    "                residual = validation.getResidualSample()\n",
    "                graph = validation.drawValidation()\n",
    "                self.validation_results.addGraph(graph)\n",
    "                self.validation_results.addR2(R2)\n",
    "                self.validation_results.addResidual(residual)\n",
    "        else : \n",
    "            validation = ot.MetaModelValidation(sample_in_validation, \n",
    "                                                sample_out_validation[:,0],\n",
    "                                                self.__kriging_metamodel__)\n",
    "            R2 = validation.computePredictivityFactor()\n",
    "            residual = validation.getResidualSample()\n",
    "            graph = validation.drawValidation()\n",
    "            self.validation_results.addGraph(graph)\n",
    "            self.validation_results.addR2(R2)\n",
    "            self.validation_results.addResidual(residual)\n",
    "                \n",
    "class __validation_results__(object) :\n",
    "    def __init__(self): \n",
    "        self.__R2__ = []\n",
    "        self.__residuals__ = []\n",
    "        self.__graphs__ = []\n",
    "\n",
    "    def clear(self):\n",
    "        self.__R2__.clear()\n",
    "        self.__residuals__.clear()\n",
    "        self.__graphs__.clear()\n",
    "        \n",
    "    def addGraph(self, graph):\n",
    "        self.__graphs__.append(graph)\n",
    "\n",
    "    def addR2(self, R2):\n",
    "        self.__R2__.append(R2)\n",
    "\n",
    "    def addResidual(self, residual):\n",
    "        self.__residuals__.append(residual)\n",
    "\n",
    "    def getGraphs(self):\n",
    "        for graph in self.__graphs__ :\n",
    "            ot.Show(graph)\n",
    "\n",
    "    def getResiduals(self):\n",
    "        theGraph = ot.Graph('Residuals','varying dimension','residual',True,'')\n",
    "        theCurve = ot.Curve(list(range(len(self.__residuals__))),\n",
    "                            self.__residuals__, 'residuals')\n",
    "        theGraph.add(theCurve)\n",
    "        ot.Show(theGraph)\n",
    "\n",
    "    def getR2s(self):\n",
    "        theGraph = ot.Graph('R2','varying dimension','residual',True,'')\n",
    "        theCurve = ot.Curve(list(range(len(self.__R2__))),\n",
    "                            self.__R2__, 'R2')\n",
    "        theGraph.add(theCurve)\n",
    "        ot.Show(theGraph)"
   ]
  },
  {
   "cell_type": "markdown",
   "metadata": {},
   "source": [
    "#### First metamodel, DOE : LHS 50  ==> Max Deflection"
   ]
  },
  {
   "cell_type": "code",
   "execution_count": 6,
   "metadata": {},
   "outputs": [
    {
     "name": "stdout",
     "output_type": "stream",
     "text": [
      "Done !\n"
     ]
    }
   ],
   "source": [
    "kriging_doe_50_MD = metamodeling_kriging(sample_doe50_in, sample_doe50_out_MD,optim_type='multi_start', size_multistart = 10)\n",
    "kriging_doe_50_MD.run()"
   ]
  },
  {
   "cell_type": "markdown",
   "metadata": {},
   "source": [
    "###### For validation, we are going to use one of the samples intended for the sobol indices calculus. by the way, we are only going to use the 2/7 th of the samples (as we have samples A, B, and then 5 combinations of those.)"
   ]
  },
  {
   "cell_type": "code",
   "execution_count": 7,
   "metadata": {},
   "outputs": [
    {
     "name": "stdout",
     "output_type": "stream",
     "text": [
      "NaN values found at index: []\n"
     ]
    }
   ],
   "source": [
    "# validation_sample_doe2000_in | validation_sample_doe2000_out_MD | validation_sample_doe2000_out_VM\n",
    "kriging_doe_50_MD.getMetaModelValidation(validation_sample_doe200_in, validation_sample_doe200_out_MD)\n"
   ]
  },
  {
   "cell_type": "code",
   "execution_count": 8,
   "metadata": {},
   "outputs": [
    {
     "data": {
      "image/png": "[encoded data removed]",
      "text/plain": [
       "<Figure size 432x288 with 1 Axes>"
      ]
     },
     "metadata": {
      "needs_background": "light"
     },
     "output_type": "display_data"
    }
   ],
   "source": [
    "kriging_doe_50_MD.validation_results.getGraphs()"
   ]
  },
  {
   "cell_type": "markdown",
   "metadata": {},
   "source": [
    "###### As we see, the results here are not so horrible ..."
   ]
  },
  {
   "cell_type": "markdown",
   "metadata": {},
   "source": [
    "#### Second metamodel, DOE : LHS 100  ==> Max Deflection"
   ]
  },
  {
   "cell_type": "code",
   "execution_count": 9,
   "metadata": {},
   "outputs": [
    {
     "name": "stdout",
     "output_type": "stream",
     "text": [
      "Done !\n"
     ]
    }
   ],
   "source": [
    "kriging_doe_100_MD = metamodeling_kriging(sample_doe100_in, \n",
    "                                        sample_doe100_out_MD, \n",
    "                                        optim_type='best_start',\n",
    "                                        size_multistart = 100,\n",
    "                                        lower_bound = None,\n",
    "                                        upper_bound = None)\n",
    "kriging_doe_100_MD.run()"
   ]
  },
  {
   "cell_type": "code",
   "execution_count": 10,
   "metadata": {},
   "outputs": [
    {
     "name": "stdout",
     "output_type": "stream",
     "text": [
      "NaN values found at index: []\n"
     ]
    }
   ],
   "source": [
    "kriging_doe_100_MD.getMetaModelValidation(validation_sample_doe200_in, validation_sample_doe200_out_MD)\n"
   ]
  },
  {
   "cell_type": "code",
   "execution_count": 11,
   "metadata": {},
   "outputs": [
    {
     "data": {
      "image/png": "[encoded data removed]",
      "text/plain": [
       "<Figure size 432x288 with 1 Axes>"
      ]
     },
     "metadata": {
      "needs_background": "light"
     },
     "output_type": "display_data"
    }
   ],
   "source": [
    "\n",
    "kriging_doe_100_MD.validation_results.getGraphs()"
   ]
  },
  {
   "cell_type": "markdown",
   "metadata": {},
   "source": [
    "#### Third metamodel, DOE : LHS 200  ==> Max Deflection"
   ]
  },
  {
   "cell_type": "code",
   "execution_count": 12,
   "metadata": {},
   "outputs": [
    {
     "name": "stdout",
     "output_type": "stream",
     "text": [
      "Done !\n"
     ]
    }
   ],
   "source": [
    "kriging_doe_200_MD = metamodeling_kriging(sample_doe200_in, \n",
    "                                        sample_doe200_out_MD, \n",
    "                                        optim_type='best_start',\n",
    "                                        size_multistart = 100,\n",
    "\n",
    "                                        lower_bound = None,\n",
    "                                        upper_bound = None)\n",
    "kriging_doe_200_MD.run()"
   ]
  },
  {
   "cell_type": "code",
   "execution_count": 13,
   "metadata": {},
   "outputs": [
    {
     "name": "stdout",
     "output_type": "stream",
     "text": [
      "NaN values found at index: []\n"
     ]
    }
   ],
   "source": [
    "kriging_doe_200_MD.getMetaModelValidation(validation_sample_doe200_in, validation_sample_doe200_out_MD)\n"
   ]
  },
  {
   "cell_type": "code",
   "execution_count": 14,
   "metadata": {},
   "outputs": [
    {
     "data": {
      "image/png": "[encoded data removed]",
      "text/plain": [
       "<Figure size 432x288 with 1 Axes>"
      ]
     },
     "metadata": {
      "needs_background": "light"
     },
     "output_type": "display_data"
    }
   ],
   "source": [
    "kriging_doe_200_MD.validation_results.getGraphs()"
   ]
  },
  {
   "cell_type": "markdown",
   "metadata": {},
   "source": [
    "## Comparison of the sensitivity analysis parts. Let's do the sensitivty analysis of the 3 metamodels.\n",
    "\n",
    "We will first have to load the sample intended to the calculus of the sobol indices, in hope we will find no nan. "
   ]
  },
  {
   "cell_type": "code",
   "execution_count": 15,
   "metadata": {},
   "outputs": [
    {
     "data": {
      "text/plain": [
       "12000"
      ]
     },
     "execution_count": 15,
     "metadata": {},
     "output_type": "execute_result"
    }
   ],
   "source": [
    "si_2000_in = pd.read_csv('DOE_RESP2/si_doe2000_720442.csv', sep=';')\n",
    "si_2000_out_MD = pd.read_csv('DOE_RESP2/si_doe2000_720442_resp_MD.csv', sep=';',header=None)\n",
    "si_2000_out_VM = pd.read_csv('DOE_RESP2/si_doe2000_720442_resp_VM.csv', sep=';',header=None)\n",
    "#Samples\n",
    "sample_si_2000_in = ot.Sample(si_2000_in.values)\n",
    "sample_si_2000_in.setDescription(si_2000_in.columns)\n",
    "\n",
    "sample_si_2000_out_MD = ot.Sample(si_2000_out_MD.values)\n",
    "sample_si_2000_out_MD.setDescription(ot.Description.BuildDefault(len(si_2000_out_MD.columns), 'MD_'))\n",
    "\n",
    "sample_si_2000_out_VM = ot.Sample(si_2000_out_VM.values)\n",
    "sample_si_2000_out_VM.setDescription(ot.Description.BuildDefault(len(si_2000_out_VM.columns), 'VM_'))\n",
    "\n",
    "si_1000_in = pd.read_csv('DOE_RESP2/si_doe1000_248214.csv', sep=';')\n",
    "si_1000_out_MD = pd.read_csv('DOE_RESP2/si_doe1000_248214_resp_MD.csv', sep=';',header=None)\n",
    "si_1000_out_VM = pd.read_csv('DOE_RESP2/si_doe1000_248214_resp_VM.csv', sep=';',header=None)\n",
    "#Samples\n",
    "sample_si_1000_in = ot.Sample(si_1000_in.values)\n",
    "sample_si_1000_in.setDescription(si_1000_in.columns)\n",
    "\n",
    "sample_si_1000_out_MD = ot.Sample(si_1000_out_MD.values)\n",
    "sample_si_1000_out_MD.setDescription(ot.Description.BuildDefault(len(si_1000_out_MD.columns), 'MD_'))\n",
    "\n",
    "sample_si_1000_out_VM = ot.Sample(si_1000_out_VM.values)\n",
    "sample_si_1000_out_VM.setDescription(ot.Description.BuildDefault(len(si_1000_out_VM.columns), 'VM_'))\n",
    "sample_si_2000_in.getSize()"
   ]
  },
  {
   "cell_type": "code",
   "execution_count": 16,
   "metadata": {},
   "outputs": [
    {
     "name": "stdout",
     "output_type": "stream",
     "text": [
      "n vars is 4\n",
      "N_max is 12000\n",
      "args where nan :  []\n",
      "Where we are erasing: []\n",
      "N is now:  2000\n"
     ]
    },
    {
     "data": {
      "text/plain": [
       "12000"
      ]
     },
     "execution_count": 16,
     "metadata": {},
     "output_type": "execute_result"
    }
   ],
   "source": [
    "N_2000 = ereaseNanFromSample(sample_si_2000_in, sample_si_2000_out_MD, 2000, False)\n",
    "sample_si_2000_in.getSize()\n"
   ]
  },
  {
   "cell_type": "code",
   "execution_count": 17,
   "metadata": {},
   "outputs": [
    {
     "name": "stdout",
     "output_type": "stream",
     "text": [
      "N is 12000\n",
      "Simplified view of the sobol indices experiments structure\n",
      "There are 19 dimensions and 4 sobol indices to calculate\n",
      "\n",
      "    A_0  ,    A_1  ,    A_2  ,    A_3  ,    A_4  ,    A_5  ,    A_6  ,    A_7  ,    A_8  ,    A_9  ,    A_10  ,    A_11  ,    A_12  ,    A_13  ,    A_14  ,    A_15  ,    A_16  ,    A_17  ,    A_18 \n",
      "\n",
      "    B_0  ,    B_1  ,    B_2  ,    B_3  ,    B_4  ,    B_5  ,    B_6  ,    B_7  ,    B_8  ,    B_9  ,    B_10  ,    B_11  ,    B_12  ,    B_13  ,    B_14  ,    B_15  ,    B_16  ,    B_17  ,    B_18 \n",
      "\n",
      "    B_0  ,    B_1  ,    B_2  ,    B_3  ,    B_4  ,    B_5  ,    B_6  ,    A_7  ,    A_8  ,    A_9  ,    A_10  ,    A_11  ,    A_12  ,    A_13  ,    A_14  ,    A_15  ,    A_16  ,    A_17  ,    A_18 \n",
      "\n",
      "    A_0  ,    A_1  ,    A_2  ,    A_3  ,    A_4  ,    A_5  ,    A_6  ,    B_7  ,    B_8  ,    B_9  ,    B_10  ,    B_11  ,    B_12  ,    B_13  ,    B_14  ,    B_15  ,    B_16  ,    A_17  ,    A_18 \n",
      "\n",
      "    A_0  ,    A_1  ,    A_2  ,    A_3  ,    A_4  ,    A_5  ,    A_6  ,    A_7  ,    A_8  ,    A_9  ,    A_10  ,    A_11  ,    A_12  ,    A_13  ,    A_14  ,    A_15  ,    A_16  ,    B_17  ,    A_18 \n",
      "\n",
      "    A_0  ,    A_1  ,    A_2  ,    A_3  ,    A_4  ,    A_5  ,    A_6  ,    A_7  ,    A_8  ,    A_9  ,    A_10  ,    A_11  ,    A_12  ,    A_13  ,    A_14  ,    A_15  ,    A_16  ,    A_17  ,    B_18\n"
     ]
    },
    {
     "data": {
      "text/plain": [
       "True"
      ]
     },
     "execution_count": 17,
     "metadata": {},
     "output_type": "execute_result"
    }
   ],
   "source": [
    "sample_si_2000_in[7777,5]=256\n",
    "isValidSobolIndicesExperiment(sample_si_2000_in,N_2000)\n"
   ]
  },
  {
   "cell_type": "code",
   "execution_count": 18,
   "metadata": {},
   "outputs": [
    {
     "name": "stdout",
     "output_type": "stream",
     "text": [
      "NaN values found at index: []\n"
     ]
    },
    {
     "data": {
      "image/png": "[encoded data removed]",
      "text/plain": [
       "<Figure size 432x288 with 1 Axes>"
      ]
     },
     "metadata": {
      "needs_background": "light"
     },
     "output_type": "display_data"
    }
   ],
   "source": [
    "kriging_doe_200_MD.getMetaModelValidation(sample_si_2000_in, sample_si_2000_out_MD)\n",
    "kriging_doe_200_MD.validation_results.getGraphs()\n",
    "#Astuce / plan d'experience en augmentant coeff de variation des variables"
   ]
  },
  {
   "cell_type": "code",
   "execution_count": 19,
   "metadata": {},
   "outputs": [
    {
     "name": "stdout",
     "output_type": "stream",
     "text": [
      "n vars is 4\n",
      "N_max is 6000\n",
      "args where nan :  []\n",
      "Where we are erasing: []\n",
      "N is now:  1000\n"
     ]
    }
   ],
   "source": [
    "N_1000 = ereaseNanFromSample(sample_si_1000_in, sample_si_1000_out_MD, 1000, False)"
   ]
  },
  {
   "cell_type": "code",
   "execution_count": 20,
   "metadata": {},
   "outputs": [
    {
     "name": "stdout",
     "output_type": "stream",
     "text": [
      "NaN values found at index: []\n"
     ]
    },
    {
     "data": {
      "image/png": "[encoded data removed]",
      "text/plain": [
       "<Figure size 432x288 with 1 Axes>"
      ]
     },
     "metadata": {
      "needs_background": "light"
     },
     "output_type": "display_data"
    }
   ],
   "source": [
    "kriging_doe_200_MD.getMetaModelValidation(sample_si_1000_in, sample_si_1000_out_MD)\n",
    "kriging_doe_200_MD.validation_results.getGraphs()"
   ]
  },
  {
   "cell_type": "code",
   "execution_count": 21,
   "metadata": {},
   "outputs": [
    {
     "name": "stdout",
     "output_type": "stream",
     "text": [
      "size initialized 6000\n",
      "Warning : Always pass the computeSecondOrder argument\n",
      "if you also pass the data to compute it\n",
      "Otherwise, the behavior will be unreliable\n",
      "\n",
      "Means is\n",
      " [21.7525]\n",
      "design_elem size, dim 6000 1\n",
      "There are 4 indices to get for 1 outputs with dimensions 1 each.\n",
      "Description all same? [X_0_0,X_0_1,X_0_2,X_0_3,X_0_4,X_0_5,X_0_6,X_1_0,X_1_1,X_1_2,X_1_3,X_1_4,X_1_5,X_1_6,X_1_7,X_1_8,X_1_9,X_2_0,X_3_0]#19\n",
      "SobolIndicesName ['X_0', 'X_1', 'X_2', 'X_3']\n",
      "Input Description is, ['X_0', 'X_1', 'X_2', 'X_3']\n"
     ]
    }
   ],
   "source": [
    "sensitivityAnalysis_REAL_MODEL_1000 = klfs.SobolKarhunenLoeveFieldSensitivityAlgorithm()\n",
    "sensitivityAnalysis_REAL_MODEL_1000.setDesign(sample_si_1000_in, sample_si_1000_out_MD, N_1000)\n",
    "sensitivityAnalysis_REAL_MODEL_1000.setEstimator(ot.SaltelliSensitivityAlgorithm())"
   ]
  },
  {
   "cell_type": "code",
   "execution_count": 22,
   "metadata": {},
   "outputs": [],
   "source": [
    "import spsa \n"
   ]
  },
  {
   "cell_type": "code",
   "execution_count": 23,
   "metadata": {},
   "outputs": [
    {
     "name": "stdout",
     "output_type": "stream",
     "text": [
      "Implicit dimension = 4\n",
      "Implicit description: [X0,X1,X2,X3]\n",
      "There are 4 indices to get in (1,) dimensions with 1 elements\n",
      "Indices successfully calculated\n"
     ]
    },
    {
     "data": {
      "text/plain": [
       "array([2.54748701, 0.14188656, 0.02325266, 0.05277081])"
      ]
     },
     "execution_count": 23,
     "metadata": {},
     "output_type": "execute_result"
    }
   ],
   "source": [
    "analysis = spsa.SobolIndicesStochasticProcessAlgorithm(np.array(sample_si_1000_out_MD),N_1000)\n",
    "analysis.getFirstOrderIndices()   ##### THE SOBOL INDICES CALCULUS IS RIGHT!!!! "
   ]
  },
  {
   "cell_type": "code",
   "execution_count": 29,
   "metadata": {},
   "outputs": [
    {
     "data": {
      "text/plain": [
       "[class=Point name=Sobol_Unnamed_X_0 dimension=1 values=[2.54853],\n",
       " class=Point name=Sobol_Unnamed_X_1 dimension=1 values=[0.141961],\n",
       " class=Point name=Sobol_Unnamed_X_2 dimension=1 values=[0.0233439],\n",
       " class=Point name=Sobol_Unnamed_X_3 dimension=1 values=[0.0529566]]"
      ]
     },
     "execution_count": 29,
     "metadata": {},
     "output_type": "execute_result"
    }
   ],
   "source": [
    "sensitivityAnalysis_REAL_MODEL_1000.getFirstOrderIndices()[0]"
   ]
  },
  {
   "cell_type": "code",
   "execution_count": 36,
   "metadata": {},
   "outputs": [],
   "source": [
    "sensitivityAnalysis_REAL_MODEL_1000.__results__[0].getFirstOrderIndicesDistribution().getMarginal(0).getStandardDeviation()\n",
    "res = sensitivityAnalysis_REAL_MODEL_1000.__results__[0]\n",
    "res."
   ]
  },
  {
   "cell_type": "code",
   "execution_count": 25,
   "metadata": {},
   "outputs": [
    {
     "data": {
      "text/html": [
       "<p>[-0.899819, 8.4142]<br>\n",
       "[0.0518184, 0.280327]<br>\n",
       "[-0.0712186, 0.124668]<br>\n",
       "[-0.0375449, 0.158249]</p>"
      ],
      "text/plain": [
       "class=Interval name=Bounds_Sobol_Unnamed dimension=4 lower bound=class=Point name=Unnamed dimension=4 values=[-0.899819,0.0518184,-0.0712186,-0.0375449] upper bound=class=Point name=Unnamed dimension=4 values=[8.4142,0.280327,0.124668,0.158249] finite lower bound=[1,1,1,1] finite upper bound=[1,1,1,1]"
      ]
     },
     "execution_count": 25,
     "metadata": {},
     "output_type": "execute_result"
    }
   ],
   "source": [
    "sensitivityAnalysis_REAL_MODEL_1000.getFirstOrderIndicesInterval()[0]"
   ]
  },
  {
   "cell_type": "code",
   "execution_count": 26,
   "metadata": {
    "scrolled": true
   },
   "outputs": [
    {
     "data": {
      "text/plain": [
       "[class=Point name=TotalOrderSobol_Unnamed_X_0 dimension=1 values=[0.883232],\n",
       " class=Point name=TotalOrderSobol_Unnamed_X_1 dimension=1 values=[0.0627902],\n",
       " class=Point name=TotalOrderSobol_Unnamed_X_2 dimension=1 values=[0.00491883],\n",
       " class=Point name=TotalOrderSobol_Unnamed_X_3 dimension=1 values=[-0.0141563]]"
      ]
     },
     "execution_count": 26,
     "metadata": {},
     "output_type": "execute_result"
    }
   ],
   "source": [
    "sensitivityAnalysis_REAL_MODEL_1000.getTotalOrderIndices()[0]"
   ]
  },
  {
   "cell_type": "code",
   "execution_count": 27,
   "metadata": {},
   "outputs": [
    {
     "name": "stdout",
     "output_type": "stream",
     "text": [
      "size initialized 12000\n",
      "Warning : Always pass the computeSecondOrder argument\n",
      "if you also pass the data to compute it\n",
      "Otherwise, the behavior will be unreliable\n",
      "\n",
      "Means is\n",
      " [21.4554]\n",
      "design_elem size, dim 12000 1\n",
      "There are 4 indices to get for 1 outputs with dimensions 1 each.\n",
      "Description all same? [X_0_0,X_0_1,X_0_2,X_0_3,X_0_4,X_0_5,X_0_6,X_1_0,X_1_1,X_1_2,X_1_3,X_1_4,X_1_5,X_1_6,X_1_7,X_1_8,X_1_9,X_2_0,X_3_0]#19\n",
      "SobolIndicesName ['X_0', 'X_1', 'X_2', 'X_3']\n",
      "Input Description is, ['X_0', 'X_1', 'X_2', 'X_3']\n",
      "Solving...\n",
      " size of samples:  12000\n",
      " number of indices to get 4\n"
     ]
    },
    {
     "data": {
      "text/plain": [
       "[class=Point name=Sobol_Unnamed_X_0 dimension=1 values=[0.835006],\n",
       " class=Point name=Sobol_Unnamed_X_1 dimension=1 values=[0.104211],\n",
       " class=Point name=Sobol_Unnamed_X_2 dimension=1 values=[-0.013749],\n",
       " class=Point name=Sobol_Unnamed_X_3 dimension=1 values=[0.0227822]]"
      ]
     },
     "execution_count": 27,
     "metadata": {},
     "output_type": "execute_result"
    }
   ],
   "source": [
    "sensitivityAnalysis_REAL_MODEL_2000 = klfs.SobolKarhunenLoeveFieldSensitivityAlgorithm()\n",
    "sensitivityAnalysis_REAL_MODEL_2000.setDesign(sample_si_2000_in, sample_si_2000_out_MD, N_2000)\n",
    "sensitivityAnalysis_REAL_MODEL_2000.setEstimator(ot.SaltelliSensitivityAlgorithm())\n",
    "sensitivityAnalysis_REAL_MODEL_2000.getFirstOrderIndices()[0]"
   ]
  },
  {
   "cell_type": "code",
   "execution_count": 28,
   "metadata": {},
   "outputs": [
    {
     "ename": "FileNotFoundError",
     "evalue": "[Errno 2] No such file or directory: 'DOE_RESP2/si_doe8000_439038.csv'",
     "output_type": "error",
     "traceback": [
      "\u001b[0;31m---------------------------------------------------------------------------\u001b[0m",
      "\u001b[0;31mFileNotFoundError\u001b[0m                         Traceback (most recent call last)",
      "\u001b[0;32m<ipython-input-28-bb78c571d7f9>\u001b[0m in \u001b[0;36m<module>\u001b[0;34m\u001b[0m\n\u001b[0;32m----> 1\u001b[0;31m \u001b[0msi_8000_in\u001b[0m \u001b[0;34m=\u001b[0m \u001b[0mpd\u001b[0m\u001b[0;34m.\u001b[0m\u001b[0mread_csv\u001b[0m\u001b[0;34m(\u001b[0m\u001b[0;34m'DOE_RESP2/si_doe8000_439038.csv'\u001b[0m\u001b[0;34m,\u001b[0m \u001b[0msep\u001b[0m\u001b[0;34m=\u001b[0m\u001b[0;34m';'\u001b[0m\u001b[0;34m)\u001b[0m\u001b[0;34m\u001b[0m\u001b[0;34m\u001b[0m\u001b[0m\n\u001b[0m\u001b[1;32m      2\u001b[0m \u001b[0msi_8000_out_MD\u001b[0m \u001b[0;34m=\u001b[0m \u001b[0mpd\u001b[0m\u001b[0;34m.\u001b[0m\u001b[0mread_csv\u001b[0m\u001b[0;34m(\u001b[0m\u001b[0;34m'DOE_RESP2/si_doe8000_439038_resp_MD.csv'\u001b[0m\u001b[0;34m,\u001b[0m \u001b[0msep\u001b[0m\u001b[0;34m=\u001b[0m\u001b[0;34m';'\u001b[0m\u001b[0;34m,\u001b[0m\u001b[0mheader\u001b[0m\u001b[0;34m=\u001b[0m\u001b[0;32mNone\u001b[0m\u001b[0;34m)\u001b[0m\u001b[0;34m\u001b[0m\u001b[0;34m\u001b[0m\u001b[0m\n\u001b[1;32m      3\u001b[0m \u001b[0msi_8000_out_VM\u001b[0m \u001b[0;34m=\u001b[0m \u001b[0mpd\u001b[0m\u001b[0;34m.\u001b[0m\u001b[0mread_csv\u001b[0m\u001b[0;34m(\u001b[0m\u001b[0;34m'DOE_RESP2/si_doe8000_439038_resp_VM.csv'\u001b[0m\u001b[0;34m,\u001b[0m \u001b[0msep\u001b[0m\u001b[0;34m=\u001b[0m\u001b[0;34m';'\u001b[0m\u001b[0;34m,\u001b[0m\u001b[0mheader\u001b[0m\u001b[0;34m=\u001b[0m\u001b[0;32mNone\u001b[0m\u001b[0;34m)\u001b[0m\u001b[0;34m\u001b[0m\u001b[0;34m\u001b[0m\u001b[0m\n\u001b[1;32m      4\u001b[0m \u001b[0;31m#Samples\u001b[0m\u001b[0;34m\u001b[0m\u001b[0;34m\u001b[0m\u001b[0;34m\u001b[0m\u001b[0m\n\u001b[1;32m      5\u001b[0m \u001b[0msample_si_8000_in\u001b[0m \u001b[0;34m=\u001b[0m \u001b[0mot\u001b[0m\u001b[0;34m.\u001b[0m\u001b[0mSample\u001b[0m\u001b[0;34m(\u001b[0m\u001b[0msi_8000_in\u001b[0m\u001b[0;34m.\u001b[0m\u001b[0mvalues\u001b[0m\u001b[0;34m)\u001b[0m\u001b[0;34m\u001b[0m\u001b[0;34m\u001b[0m\u001b[0m\n",
      "\u001b[0;32m~/anaconda3/envs/stochastic_field_env/lib/python3.8/site-packages/pandas/io/parsers.py\u001b[0m in \u001b[0;36mread_csv\u001b[0;34m(filepath_or_buffer, sep, delimiter, header, names, index_col, usecols, squeeze, prefix, mangle_dupe_cols, dtype, engine, converters, true_values, false_values, skipinitialspace, skiprows, skipfooter, nrows, na_values, keep_default_na, na_filter, verbose, skip_blank_lines, parse_dates, infer_datetime_format, keep_date_col, date_parser, dayfirst, cache_dates, iterator, chunksize, compression, thousands, decimal, lineterminator, quotechar, quoting, doublequote, escapechar, comment, encoding, dialect, error_bad_lines, warn_bad_lines, delim_whitespace, low_memory, memory_map, float_precision)\u001b[0m\n\u001b[1;32m    684\u001b[0m     )\n\u001b[1;32m    685\u001b[0m \u001b[0;34m\u001b[0m\u001b[0m\n\u001b[0;32m--> 686\u001b[0;31m     \u001b[0;32mreturn\u001b[0m \u001b[0m_read\u001b[0m\u001b[0;34m(\u001b[0m\u001b[0mfilepath_or_buffer\u001b[0m\u001b[0;34m,\u001b[0m \u001b[0mkwds\u001b[0m\u001b[0;34m)\u001b[0m\u001b[0;34m\u001b[0m\u001b[0;34m\u001b[0m\u001b[0m\n\u001b[0m\u001b[1;32m    687\u001b[0m \u001b[0;34m\u001b[0m\u001b[0m\n\u001b[1;32m    688\u001b[0m \u001b[0;34m\u001b[0m\u001b[0m\n",
      "\u001b[0;32m~/anaconda3/envs/stochastic_field_env/lib/python3.8/site-packages/pandas/io/parsers.py\u001b[0m in \u001b[0;36m_read\u001b[0;34m(filepath_or_buffer, kwds)\u001b[0m\n\u001b[1;32m    450\u001b[0m \u001b[0;34m\u001b[0m\u001b[0m\n\u001b[1;32m    451\u001b[0m     \u001b[0;31m# Create the parser.\u001b[0m\u001b[0;34m\u001b[0m\u001b[0;34m\u001b[0m\u001b[0;34m\u001b[0m\u001b[0m\n\u001b[0;32m--> 452\u001b[0;31m     \u001b[0mparser\u001b[0m \u001b[0;34m=\u001b[0m \u001b[0mTextFileReader\u001b[0m\u001b[0;34m(\u001b[0m\u001b[0mfp_or_buf\u001b[0m\u001b[0;34m,\u001b[0m \u001b[0;34m**\u001b[0m\u001b[0mkwds\u001b[0m\u001b[0;34m)\u001b[0m\u001b[0;34m\u001b[0m\u001b[0;34m\u001b[0m\u001b[0m\n\u001b[0m\u001b[1;32m    453\u001b[0m \u001b[0;34m\u001b[0m\u001b[0m\n\u001b[1;32m    454\u001b[0m     \u001b[0;32mif\u001b[0m \u001b[0mchunksize\u001b[0m \u001b[0;32mor\u001b[0m \u001b[0miterator\u001b[0m\u001b[0;34m:\u001b[0m\u001b[0;34m\u001b[0m\u001b[0;34m\u001b[0m\u001b[0m\n",
      "\u001b[0;32m~/anaconda3/envs/stochastic_field_env/lib/python3.8/site-packages/pandas/io/parsers.py\u001b[0m in \u001b[0;36m__init__\u001b[0;34m(self, f, engine, **kwds)\u001b[0m\n\u001b[1;32m    944\u001b[0m             \u001b[0mself\u001b[0m\u001b[0;34m.\u001b[0m\u001b[0moptions\u001b[0m\u001b[0;34m[\u001b[0m\u001b[0;34m\"has_index_names\"\u001b[0m\u001b[0;34m]\u001b[0m \u001b[0;34m=\u001b[0m \u001b[0mkwds\u001b[0m\u001b[0;34m[\u001b[0m\u001b[0;34m\"has_index_names\"\u001b[0m\u001b[0;34m]\u001b[0m\u001b[0;34m\u001b[0m\u001b[0;34m\u001b[0m\u001b[0m\n\u001b[1;32m    945\u001b[0m \u001b[0;34m\u001b[0m\u001b[0m\n\u001b[0;32m--> 946\u001b[0;31m         \u001b[0mself\u001b[0m\u001b[0;34m.\u001b[0m\u001b[0m_make_engine\u001b[0m\u001b[0;34m(\u001b[0m\u001b[0mself\u001b[0m\u001b[0;34m.\u001b[0m\u001b[0mengine\u001b[0m\u001b[0;34m)\u001b[0m\u001b[0;34m\u001b[0m\u001b[0;34m\u001b[0m\u001b[0m\n\u001b[0m\u001b[1;32m    947\u001b[0m \u001b[0;34m\u001b[0m\u001b[0m\n\u001b[1;32m    948\u001b[0m     \u001b[0;32mdef\u001b[0m \u001b[0mclose\u001b[0m\u001b[0;34m(\u001b[0m\u001b[0mself\u001b[0m\u001b[0;34m)\u001b[0m\u001b[0;34m:\u001b[0m\u001b[0;34m\u001b[0m\u001b[0;34m\u001b[0m\u001b[0m\n",
      "\u001b[0;32m~/anaconda3/envs/stochastic_field_env/lib/python3.8/site-packages/pandas/io/parsers.py\u001b[0m in \u001b[0;36m_make_engine\u001b[0;34m(self, engine)\u001b[0m\n\u001b[1;32m   1176\u001b[0m     \u001b[0;32mdef\u001b[0m \u001b[0m_make_engine\u001b[0m\u001b[0;34m(\u001b[0m\u001b[0mself\u001b[0m\u001b[0;34m,\u001b[0m \u001b[0mengine\u001b[0m\u001b[0;34m=\u001b[0m\u001b[0;34m\"c\"\u001b[0m\u001b[0;34m)\u001b[0m\u001b[0;34m:\u001b[0m\u001b[0;34m\u001b[0m\u001b[0;34m\u001b[0m\u001b[0m\n\u001b[1;32m   1177\u001b[0m         \u001b[0;32mif\u001b[0m \u001b[0mengine\u001b[0m \u001b[0;34m==\u001b[0m \u001b[0;34m\"c\"\u001b[0m\u001b[0;34m:\u001b[0m\u001b[0;34m\u001b[0m\u001b[0;34m\u001b[0m\u001b[0m\n\u001b[0;32m-> 1178\u001b[0;31m             \u001b[0mself\u001b[0m\u001b[0;34m.\u001b[0m\u001b[0m_engine\u001b[0m \u001b[0;34m=\u001b[0m \u001b[0mCParserWrapper\u001b[0m\u001b[0;34m(\u001b[0m\u001b[0mself\u001b[0m\u001b[0;34m.\u001b[0m\u001b[0mf\u001b[0m\u001b[0;34m,\u001b[0m \u001b[0;34m**\u001b[0m\u001b[0mself\u001b[0m\u001b[0;34m.\u001b[0m\u001b[0moptions\u001b[0m\u001b[0;34m)\u001b[0m\u001b[0;34m\u001b[0m\u001b[0;34m\u001b[0m\u001b[0m\n\u001b[0m\u001b[1;32m   1179\u001b[0m         \u001b[0;32melse\u001b[0m\u001b[0;34m:\u001b[0m\u001b[0;34m\u001b[0m\u001b[0;34m\u001b[0m\u001b[0m\n\u001b[1;32m   1180\u001b[0m             \u001b[0;32mif\u001b[0m \u001b[0mengine\u001b[0m \u001b[0;34m==\u001b[0m \u001b[0;34m\"python\"\u001b[0m\u001b[0;34m:\u001b[0m\u001b[0;34m\u001b[0m\u001b[0;34m\u001b[0m\u001b[0m\n",
      "\u001b[0;32m~/anaconda3/envs/stochastic_field_env/lib/python3.8/site-packages/pandas/io/parsers.py\u001b[0m in \u001b[0;36m__init__\u001b[0;34m(self, src, **kwds)\u001b[0m\n\u001b[1;32m   2006\u001b[0m         \u001b[0mkwds\u001b[0m\u001b[0;34m[\u001b[0m\u001b[0;34m\"usecols\"\u001b[0m\u001b[0;34m]\u001b[0m \u001b[0;34m=\u001b[0m \u001b[0mself\u001b[0m\u001b[0;34m.\u001b[0m\u001b[0musecols\u001b[0m\u001b[0;34m\u001b[0m\u001b[0;34m\u001b[0m\u001b[0m\n\u001b[1;32m   2007\u001b[0m \u001b[0;34m\u001b[0m\u001b[0m\n\u001b[0;32m-> 2008\u001b[0;31m         \u001b[0mself\u001b[0m\u001b[0;34m.\u001b[0m\u001b[0m_reader\u001b[0m \u001b[0;34m=\u001b[0m \u001b[0mparsers\u001b[0m\u001b[0;34m.\u001b[0m\u001b[0mTextReader\u001b[0m\u001b[0;34m(\u001b[0m\u001b[0msrc\u001b[0m\u001b[0;34m,\u001b[0m \u001b[0;34m**\u001b[0m\u001b[0mkwds\u001b[0m\u001b[0;34m)\u001b[0m\u001b[0;34m\u001b[0m\u001b[0;34m\u001b[0m\u001b[0m\n\u001b[0m\u001b[1;32m   2009\u001b[0m         \u001b[0mself\u001b[0m\u001b[0;34m.\u001b[0m\u001b[0munnamed_cols\u001b[0m \u001b[0;34m=\u001b[0m \u001b[0mself\u001b[0m\u001b[0;34m.\u001b[0m\u001b[0m_reader\u001b[0m\u001b[0;34m.\u001b[0m\u001b[0munnamed_cols\u001b[0m\u001b[0;34m\u001b[0m\u001b[0;34m\u001b[0m\u001b[0m\n\u001b[1;32m   2010\u001b[0m \u001b[0;34m\u001b[0m\u001b[0m\n",
      "\u001b[0;32mpandas/_libs/parsers.pyx\u001b[0m in \u001b[0;36mpandas._libs.parsers.TextReader.__cinit__\u001b[0;34m()\u001b[0m\n",
      "\u001b[0;32mpandas/_libs/parsers.pyx\u001b[0m in \u001b[0;36mpandas._libs.parsers.TextReader._setup_parser_source\u001b[0;34m()\u001b[0m\n",
      "\u001b[0;31mFileNotFoundError\u001b[0m: [Errno 2] No such file or directory: 'DOE_RESP2/si_doe8000_439038.csv'"
     ]
    }
   ],
   "source": [
    "si_8000_in = pd.read_csv('DOE_RESP2/si_doe8000_439038.csv', sep=';')\n",
    "si_8000_out_MD = pd.read_csv('DOE_RESP2/si_doe8000_439038_resp_MD.csv', sep=';',header=None)\n",
    "si_8000_out_VM = pd.read_csv('DOE_RESP2/si_doe8000_439038_resp_VM.csv', sep=';',header=None)\n",
    "#Samples\n",
    "sample_si_8000_in = ot.Sample(si_8000_in.values)\n",
    "sample_si_8000_in.setDescription(si_8000_in.columns)\n",
    "\n",
    "sample_si_8000_out_MD = ot.Sample(si_8000_out_MD.values)\n",
    "sample_si_8000_out_MD.setDescription(ot.Description.BuildDefault(len(si_8000_out_MD.columns), 'MD_'))\n",
    "\n",
    "sample_si_8000_out_VM = ot.Sample(si_8000_out_VM.values)\n",
    "sample_si_8000_out_VM.setDescription(ot.Description.BuildDefault(len(si_8000_out_VM.columns), 'VM_'))"
   ]
  },
  {
   "cell_type": "code",
   "execution_count": null,
   "metadata": {},
   "outputs": [],
   "source": [
    "whereNan = np.argwhere(np.isnan(sample_si_8000_out_MD))[:,0].tolist()\n",
    "N = 8000\n",
    "N_MAX = 8000*7\n",
    "toDelete = set()\n",
    "print('Where nan:', whereNan)\n",
    "for idx in whereNan:\n",
    "    toErease = list(range(idx%8000,N_MAX,N))\n",
    "    [toDelete.add(elem) for elem in toErease]\n",
    "print('toErease is', toDelete)\n",
    "toDelete = list(toDelete)\n",
    "N-=int(len(toDelete)/7)\n",
    "for idx in sorted(toDelete)[::-1] :\n",
    "    sample_si_8000_in.erase(idx)\n",
    "    sample_si_8000_out_MD.erase(idx)\n",
    "print('N=',N)"
   ]
  },
  {
   "cell_type": "code",
   "execution_count": null,
   "metadata": {},
   "outputs": [],
   "source": [
    "sensitivityAnalysis_REAL_MODEL2 = klfs.SobolKarhunenLoeveFieldSensitivityAlgorithm()\n",
    "sensitivityAnalysis_REAL_MODEL2.setDesign(sample_si_8000_in, sample_si_8000_out_MD, N)\n",
    "sensitivityAnalysis_REAL_MODEL2.setEstimator(ot.SaltelliSensitivityAlgorithm())"
   ]
  },
  {
   "cell_type": "code",
   "execution_count": null,
   "metadata": {},
   "outputs": [],
   "source": [
    "sensitivityAnalysis_REAL_MODEL2.getFirstOrderIndices()"
   ]
  },
  {
   "cell_type": "code",
   "execution_count": null,
   "metadata": {},
   "outputs": [],
   "source": [
    "sensitivityAnalysis_REAL_MODEL2.getTotalOrderIndices()"
   ]
  },
  {
   "cell_type": "markdown",
   "metadata": {},
   "source": [
    "As in this new sensitivity analysis are totally different from our first one, we have to check if either this analysis or the other is broken. For this we are first going to calculate the first and second order indices to see if something changes. "
   ]
  },
  {
   "cell_type": "code",
   "execution_count": 37,
   "metadata": {},
   "outputs": [],
   "source": [
    "si_sec_2000_in = pd.read_csv('DOE_RESP/si_sec_doe2000_8291001288.csv', sep=';')\n",
    "si_sec_2000_out_MD = pd.read_csv('DOE_RESP/si_sec_doe2000_8291001288_resp_MD.csv', sep=';',header=None)\n",
    "si_sec_2000_out_VM = pd.read_csv('DOE_RESP/si_sec_doe2000_8291001288_resp_VM.csv', sep=';',header=None)\n",
    "#Samples\n",
    "sample_si_sec_2000_in = ot.Sample(si_sec_2000_in.values)\n",
    "sample_si_sec_2000_in.setDescription(si_sec_2000_in.columns)\n",
    "\n",
    "sample_si_sec_2000_out_MD = ot.Sample(si_sec_2000_out_MD.values)\n",
    "sample_si_sec_2000_out_MD.setDescription(ot.Description.BuildDefault(len(si_sec_2000_out_MD.columns), 'MD_'))\n",
    "\n",
    "sample_si_sec_2000_out_VM = ot.Sample(si_sec_2000_out_VM.values)\n",
    "sample_si_sec_2000_out_VM.setDescription(ot.Description.BuildDefault(len(si_sec_2000_out_VM.columns), 'VM_'))"
   ]
  },
  {
   "cell_type": "code",
   "execution_count": 38,
   "metadata": {},
   "outputs": [
    {
     "name": "stdout",
     "output_type": "stream",
     "text": [
      "n vars is 5\n",
      "N_max is 24000\n",
      "args where nan :  []\n",
      "Where we are erasing: []\n",
      "N is now:  2000\n"
     ]
    }
   ],
   "source": [
    "N_sec_2000 = ereaseNanFromSample(sample_si_sec_2000_in , sample_si_sec_2000_out_MD, 2000, True)\n"
   ]
  },
  {
   "cell_type": "code",
   "execution_count": 39,
   "metadata": {},
   "outputs": [
    {
     "name": "stdout",
     "output_type": "stream",
     "text": [
      "N is 24000\n",
      "Simplified view of the sobol indices experiments structure\n",
      "There are 20 dimensions and 10 sobol indices to calculate\n",
      "\n",
      "    A_0  ,    A_1  ,    A_2  ,    A_3  ,    A_4  ,    A_5  ,    A_6  ,    A_7  ,    A_8  ,    A_9  ,    A_10  ,    A_11  ,    A_12  ,    A_13  ,    A_14  ,    A_15  ,    A_16  ,    A_17  ,    A_18  ,    A_19 \n",
      "\n",
      "    B_0  ,    B_1  ,    B_2  ,    B_3  ,    B_4  ,    B_5  ,    B_6  ,    B_7  ,    B_8  ,    B_9  ,    B_10  ,    B_11  ,    B_12  ,    B_13  ,    B_14  ,    B_15  ,    B_16  ,    B_17  ,    B_18  ,    B_19 \n",
      "\n",
      "    B_0  ,    B_1  ,    B_2  ,    B_3  ,    B_4  ,    B_5  ,    B_6  ,    A_7  ,    A_8  ,    A_9  ,    A_10  ,    A_11  ,    A_12  ,    A_13  ,    A_14  ,    A_15  ,    A_16  ,    A_17  ,    A_18  ,    A_19 \n",
      "\n",
      "    A_0  ,    A_1  ,    A_2  ,    A_3  ,    A_4  ,    A_5  ,    A_6  ,    B_7  ,    B_8  ,    B_9  ,    B_10  ,    B_11  ,    B_12  ,    B_13  ,    B_14  ,    B_15  ,    B_16  ,    A_17  ,    A_18  ,    A_19 \n",
      "\n",
      "    A_0  ,    A_1  ,    A_2  ,    A_3  ,    A_4  ,    A_5  ,    A_6  ,    A_7  ,    A_8  ,    A_9  ,    A_10  ,    A_11  ,    A_12  ,    A_13  ,    A_14  ,    A_15  ,    A_16  ,    B_17  ,    A_18  ,    A_19 \n",
      "\n",
      "    A_0  ,    A_1  ,    A_2  ,    A_3  ,    A_4  ,    A_5  ,    A_6  ,    A_7  ,    A_8  ,    A_9  ,    A_10  ,    A_11  ,    A_12  ,    A_13  ,    A_14  ,    A_15  ,    A_16  ,    A_17  ,    B_18  ,    A_19 \n",
      "\n",
      "    A_0  ,    A_1  ,    A_2  ,    A_3  ,    A_4  ,    A_5  ,    A_6  ,    A_7  ,    A_8  ,    A_9  ,    A_10  ,    A_11  ,    A_12  ,    A_13  ,    A_14  ,    A_15  ,    A_16  ,    A_17  ,    A_18  ,    B_19 \n",
      "\n",
      "    A_0  ,    A_1  ,    A_2  ,    A_3  ,    A_4  ,    A_5  ,    A_6  ,    B_7  ,    B_8  ,    B_9  ,    B_10  ,    B_11  ,    B_12  ,    B_13  ,    B_14  ,    B_15  ,    B_16  ,    B_17  ,    B_18  ,    B_19 \n",
      "\n",
      "    B_0  ,    B_1  ,    B_2  ,    B_3  ,    B_4  ,    B_5  ,    B_6  ,    A_7  ,    A_8  ,    A_9  ,    A_10  ,    A_11  ,    A_12  ,    A_13  ,    A_14  ,    A_15  ,    A_16  ,    B_17  ,    B_18  ,    B_19 \n",
      "\n",
      "    B_0  ,    B_1  ,    B_2  ,    B_3  ,    B_4  ,    B_5  ,    B_6  ,    B_7  ,    B_8  ,    B_9  ,    B_10  ,    B_11  ,    B_12  ,    B_13  ,    B_14  ,    B_15  ,    B_16  ,    A_17  ,    B_18  ,    B_19 \n",
      "\n",
      "    B_0  ,    B_1  ,    B_2  ,    B_3  ,    B_4  ,    B_5  ,    B_6  ,    B_7  ,    B_8  ,    B_9  ,    B_10  ,    B_11  ,    B_12  ,    B_13  ,    B_14  ,    B_15  ,    B_16  ,    B_17  ,    A_18  ,    B_19 \n",
      "\n",
      "    B_0  ,    B_1  ,    B_2  ,    B_3  ,    B_4  ,    B_5  ,    B_6  ,    B_7  ,    B_8  ,    B_9  ,    B_10  ,    B_11  ,    B_12  ,    B_13  ,    B_14  ,    B_15  ,    B_16  ,    B_17  ,    B_18  ,    A_19\n"
     ]
    },
    {
     "data": {
      "text/plain": [
       "True"
      ]
     },
     "execution_count": 39,
     "metadata": {},
     "output_type": "execute_result"
    }
   ],
   "source": [
    "isValidSobolIndicesExperiment(sample_si_sec_2000_in, N_sec_2000,True)"
   ]
  },
  {
   "cell_type": "code",
   "execution_count": 40,
   "metadata": {},
   "outputs": [
    {
     "name": "stdout",
     "output_type": "stream",
     "text": [
      "size initialized 24000\n",
      "Warning : Always pass the computeSecondOrder argument\n",
      "if you also pass the data to compute it\n",
      "Otherwise, the behavior will be unreliable\n",
      "\n",
      "Means is\n",
      " [21.5161]\n",
      "design_elem size, dim 24000 1\n",
      "There are 10 indices to get for 1 outputs with dimensions 1 each.\n",
      "Description all same? [X_0_0,X_0_1,X_0_2,X_0_3,X_0_4,X_0_5,X_0_6,X_1_0,X_1_1,X_1_2,X_1_3,X_1_4,X_1_5,X_1_6,X_1_7,X_1_8,X_1_9,X_2_0,X_3_0,X_4_0]#20\n",
      "SobolIndicesName ['X_0', 'X_1', 'X_2', 'X_3', 'X_4']\n",
      "Input Description is, ['X_0', 'X_1', 'X_2', 'X_3', 'X_4']\n",
      "size initialized 24000\n",
      "Means is\n",
      " [21.5161]\n",
      "design_elem size, dim 24000 1\n",
      "There are 5 indices to get for 1 outputs with dimensions 1 each.\n",
      "Description all same? [X_0_0,X_0_1,X_0_2,X_0_3,X_0_4,X_0_5,X_0_6,X_1_0,X_1_1,X_1_2,X_1_3,X_1_4,X_1_5,X_1_6,X_1_7,X_1_8,X_1_9,X_2_0,X_3_0,X_4_0]#20\n",
      "SobolIndicesName ['X_0', 'X_1', 'X_2', 'X_3', 'X_4']\n",
      "Input Description is, ['X_0', 'X_1', 'X_2', 'X_3', 'X_4']\n"
     ]
    }
   ],
   "source": [
    "sensitivityAnalysis_REAL_MODEL2 = klfs.SobolKarhunenLoeveFieldSensitivityAlgorithm()\n",
    "sensitivityAnalysis_REAL_MODEL2.setDesign(sample_si_sec_2000_in, sample_si_sec_2000_out_MD, N_sec_2000)\n",
    "sensitivityAnalysis_REAL_MODEL2.setEstimator(ot.SaltelliSensitivityAlgorithm())\n",
    "sensitivityAnalysis_REAL_MODEL2.setComputeSecondOrder(True)"
   ]
  },
  {
   "cell_type": "code",
   "execution_count": 41,
   "metadata": {},
   "outputs": [
    {
     "data": {
      "text/plain": [
       "24000"
      ]
     },
     "execution_count": 41,
     "metadata": {},
     "output_type": "execute_result"
    }
   ],
   "source": [
    "sensitivityAnalysis_REAL_MODEL2.inputDescription\n",
    "sensitivityAnalysis_REAL_MODEL2.__nSobolIndices__\n",
    "sensitivityAnalysis_REAL_MODEL2.size"
   ]
  },
  {
   "cell_type": "code",
   "execution_count": 42,
   "metadata": {},
   "outputs": [
    {
     "name": "stdout",
     "output_type": "stream",
     "text": [
      "Solving...\n",
      " size of samples:  24000\n",
      " number of indices to get 5\n"
     ]
    },
    {
     "data": {
      "text/plain": [
       "[[class=Point name=Sobol_Unnamed_X_0 dimension=1 values=[0.901938],\n",
       "  class=Point name=Sobol_Unnamed_X_1 dimension=1 values=[0.142138],\n",
       "  class=Point name=Sobol_Unnamed_X_2 dimension=1 values=[0.00531224],\n",
       "  class=Point name=Sobol_Unnamed_X_3 dimension=1 values=[0.00594331],\n",
       "  class=Point name=Sobol_Unnamed_X_4 dimension=1 values=[0.0452291]]]"
      ]
     },
     "execution_count": 42,
     "metadata": {},
     "output_type": "execute_result"
    }
   ],
   "source": [
    "sensitivityAnalysis_REAL_MODEL2.getFirstOrderIndices()"
   ]
  },
  {
   "cell_type": "code",
   "execution_count": 43,
   "metadata": {
    "scrolled": true
   },
   "outputs": [
    {
     "name": "stdout",
     "output_type": "stream",
     "text": [
      "This makes a problem: [class=SymmetricMatrix dimension=5 implementation=class=MatrixImplementation name=Unnamed rows=5 columns=5 values=[0,-0.137989,-0.117348,-0.103721,-0.11729,-0.137989,0,-0.0097177,-0.00813538,-0.0111993,-0.117348,-0.0097177,0,-0.0106218,-0.0106218,-0.103721,-0.00813538,-0.0106218,0,-0.0112653,-0.11729,-0.0111993,-0.0106218,-0.0112653,0]]\n"
     ]
    },
    {
     "data": {
      "text/plain": [
       "[class=SymmetricMatrix dimension=5 implementation=class=MatrixImplementation name=Unnamed rows=5 columns=5 values=[0,-0.137989,-0.117348,-0.103721,-0.11729,-0.137989,0,-0.0097177,-0.00813538,-0.0111993,-0.117348,-0.0097177,0,-0.0106218,-0.0106218,-0.103721,-0.00813538,-0.0106218,0,-0.0112653,-0.11729,-0.0111993,-0.0106218,-0.0112653,0]]"
      ]
     },
     "execution_count": 43,
     "metadata": {},
     "output_type": "execute_result"
    }
   ],
   "source": [
    "sensitivityAnalysis_REAL_MODEL2.getSecondOrderIndices()"
   ]
  },
  {
   "cell_type": "code",
   "execution_count": 8,
   "metadata": {},
   "outputs": [],
   "source": [
    "si_10000_in = pd.read_csv('./inp_10000.csv', sep=';')\n",
    "si_10000_out_MD = pd.read_csv('./out_10000_MD.csv', sep=';')\n",
    "si_10000_out_VM = pd.read_csv('./out_10000_VM.csv', sep=';')"
   ]
  },
  {
   "cell_type": "code",
   "execution_count": 9,
   "metadata": {},
   "outputs": [],
   "source": [
    "si_10000_in = pd.read_csv('./inp_10000.csv', sep=';')\n",
    "si_10000_out_MD = pd.read_csv('./out_10000_MD.csv', sep=';',header=None)\n",
    "si_10000_out_VM = pd.read_csv('./out_10000_VM.csv', sep=';',header=None)\n",
    "#Samples\n",
    "sample_si_10000_in = ot.Sample(si_10000_in.values)\n",
    "sample_si_10000_in.setDescription(si_10000_in.columns)\n",
    "\n",
    "sample_si_10000_out_MD = ot.Sample(si_10000_out_MD.values)\n",
    "sample_si_10000_out_MD.setDescription(ot.Description.BuildDefault(len(si_10000_out_MD.columns), 'MD_'))\n",
    "\n",
    "sample_si_10000_out_VM = ot.Sample(si_10000_out_VM.values)\n",
    "sample_si_10000_out_VM.setDescription(ot.Description.BuildDefault(len(si_10000_out_VM.columns), 'VM_'))"
   ]
  },
  {
   "cell_type": "code",
   "execution_count": 11,
   "metadata": {},
   "outputs": [
    {
     "name": "stdout",
     "output_type": "stream",
     "text": [
      "size initialized 60000\n",
      "Warning : Always pass the computeSecondOrder argument\n",
      "if you also pass the data to compute it\n",
      "Otherwise, the behavior will be unreliable\n",
      "\n",
      "Means is\n",
      " [21.7213]\n",
      "design_elem size, dim 60000 1\n",
      "There are 4 indices to get for 1 outputs with dimensions 1 each.\n",
      "Description all same? [X_0_0,X_0_1,X_0_2,X_0_3,X_0_4,X_0_5,X_0_6,X_1_0,X_1_1,X_1_2,X_1_3,X_1_4,X_1_5,X_1_6,X_1_7,X_1_8,X_1_9,X_2_0,X_3_0]#19\n",
      "SobolIndicesName ['X_0', 'X_1', 'X_2', 'X_3']\n",
      "Input Description is, ['X_0', 'X_1', 'X_2', 'X_3']\n"
     ]
    }
   ],
   "source": [
    "sensitivityAnalysis_10000 = klfs.SobolKarhunenLoeveFieldSensitivityAlgorithm()\n",
    "sensitivityAnalysis_10000.setDesign(sample_si_10000_in, sample_si_10000_out_MD, 10000)\n",
    "sensitivityAnalysis_10000.setEstimator(ot.SaltelliSensitivityAlgorithm())"
   ]
  },
  {
   "cell_type": "code",
   "execution_count": 12,
   "metadata": {},
   "outputs": [
    {
     "name": "stdout",
     "output_type": "stream",
     "text": [
      "Solving...\n",
      " size of samples:  60000\n",
      " number of indices to get 4\n"
     ]
    },
    {
     "data": {
      "text/plain": [
       "[[class=Point name=Sobol_Unnamed_X_0 dimension=1 values=[0.694956],\n",
       "  class=Point name=Sobol_Unnamed_X_1 dimension=1 values=[0.0884979],\n",
       "  class=Point name=Sobol_Unnamed_X_2 dimension=1 values=[-0.00469485],\n",
       "  class=Point name=Sobol_Unnamed_X_3 dimension=1 values=[0.0210516]]]"
      ]
     },
     "execution_count": 12,
     "metadata": {},
     "output_type": "execute_result"
    }
   ],
   "source": [
    "sensitivityAnalysis_10000.getFirstOrderIndices()"
   ]
  },
  {
   "cell_type": "code",
   "execution_count": 13,
   "metadata": {
    "scrolled": true
   },
   "outputs": [
    {
     "data": {
      "text/html": [
       "<p>[0.570417, 0.835464]<br>\n",
       "[0.0662827, 0.11339]<br>\n",
       "[-0.0241241, 0.0175092]<br>\n",
       "[0.00171615, 0.0433701]</p>"
      ],
      "text/plain": [
       "class=Interval name=Bounds_Sobol_Unnamed dimension=4 lower bound=class=Point name=Unnamed dimension=4 values=[0.570417,0.0662827,-0.0241241,0.00171615] upper bound=class=Point name=Unnamed dimension=4 values=[0.835464,0.11339,0.0175092,0.0433701] finite lower bound=[1,1,1,1] finite upper bound=[1,1,1,1]"
      ]
     },
     "execution_count": 13,
     "metadata": {},
     "output_type": "execute_result"
    }
   ],
   "source": [
    "sensitivityAnalysis_10000.getFirstOrderIndicesInterval()[0]"
   ]
  },
  {
   "cell_type": "code",
   "execution_count": 14,
   "metadata": {},
   "outputs": [
    {
     "name": "stdout",
     "output_type": "stream",
     "text": [
      "size initialized 60000\n",
      "Warning : Always pass the computeSecondOrder argument\n",
      "if you also pass the data to compute it\n",
      "Otherwise, the behavior will be unreliable\n",
      "\n",
      "Means is\n",
      " [21.7213]\n",
      "design_elem size, dim 60000 1\n",
      "There are 4 indices to get for 1 outputs with dimensions 1 each.\n",
      "Description all same? [X_0_0,X_0_1,X_0_2,X_0_3,X_0_4,X_0_5,X_0_6,X_1_0,X_1_1,X_1_2,X_1_3,X_1_4,X_1_5,X_1_6,X_1_7,X_1_8,X_1_9,X_2_0,X_3_0]#19\n",
      "SobolIndicesName ['X_0', 'X_1', 'X_2', 'X_3']\n",
      "Input Description is, ['X_0', 'X_1', 'X_2', 'X_3']\n",
      "Solving...\n",
      " size of samples:  60000\n",
      " number of indices to get 4\n"
     ]
    },
    {
     "data": {
      "text/plain": [
       "[[class=Point name=Sobol_Unnamed_X_0 dimension=1 values=[0.828623],\n",
       "  class=Point name=Sobol_Unnamed_X_1 dimension=1 values=[0.0956188],\n",
       "  class=Point name=Sobol_Unnamed_X_2 dimension=1 values=[-0.0050248],\n",
       "  class=Point name=Sobol_Unnamed_X_3 dimension=1 values=[0.0231407]]]"
      ]
     },
     "execution_count": 14,
     "metadata": {},
     "output_type": "execute_result"
    }
   ],
   "source": [
    "sensitivityAnalysis_10000_2 = klfs.SobolKarhunenLoeveFieldSensitivityAlgorithm()\n",
    "sensitivityAnalysis_10000_2.setDesign(sample_si_10000_in, sample_si_10000_out_MD, 10000)\n",
    "sensitivityAnalysis_10000_2.setEstimator(ot.MartinezSensitivityAlgorithm())\n",
    "sensitivityAnalysis_10000_2.getFirstOrderIndices()"
   ]
  },
  {
   "cell_type": "code",
   "execution_count": 15,
   "metadata": {},
   "outputs": [
    {
     "data": {
      "text/html": [
       "<p>[0.810324, 0.846538]<br>\n",
       "[0.0756579, 0.121867]<br>\n",
       "[-0.0216656, 0.0175716]<br>\n",
       "[0.00368636, 0.048334]</p>"
      ],
      "text/plain": [
       "class=Interval name=Bounds_Sobol_Unnamed dimension=4 lower bound=class=Point name=Unnamed dimension=4 values=[0.810324,0.0756579,-0.0216656,0.00368636] upper bound=class=Point name=Unnamed dimension=4 values=[0.846538,0.121867,0.0175716,0.048334] finite lower bound=[1,1,1,1] finite upper bound=[1,1,1,1]"
      ]
     },
     "execution_count": 15,
     "metadata": {},
     "output_type": "execute_result"
    }
   ],
   "source": [
    "sensitivityAnalysis_10000_2.getFirstOrderIndicesInterval()[0]"
   ]
  },
  {
   "cell_type": "code",
   "execution_count": 16,
   "metadata": {},
   "outputs": [],
   "source": [
    "import spsa"
   ]
  },
  {
   "cell_type": "code",
   "execution_count": 17,
   "metadata": {},
   "outputs": [
    {
     "name": "stdout",
     "output_type": "stream",
     "text": [
      "Implicit dimension = 4\n",
      "Implicit description: [X0,X1,X2,X3]\n",
      "There are 4 indices to get in (1,) dimensions with 1 elements\n",
      "Indices successfully calculated\n"
     ]
    },
    {
     "data": {
      "text/plain": [
       "array([ 0.69426892,  0.08843545, -0.00467847,  0.0210786 ])"
      ]
     },
     "execution_count": 17,
     "metadata": {},
     "output_type": "execute_result"
    }
   ],
   "source": [
    "analysis2 = spsa.SobolIndicesStochasticProcessAlgorithm(np.array(sample_si_10000_out_MD),10000)\n",
    "analysis2.getFirstOrderIndices()"
   ]
  },
  {
   "cell_type": "code",
   "execution_count": 18,
   "metadata": {},
   "outputs": [
    {
     "data": {
      "text/plain": [
       "array([0.09857048, 0.0167353 , 0.01433485, 0.01456396])"
      ]
     },
     "execution_count": 18,
     "metadata": {},
     "output_type": "execute_result"
    }
   ],
   "source": [
    "analysis2.getFirstOrderIndicesInterval()"
   ]
  },
  {
   "cell_type": "code",
   "execution_count": null,
   "metadata": {},
   "outputs": [],
   "source": []
  }
 ],
 "metadata": {
  "kernelspec": {
   "display_name": "Python 3",
   "language": "python",
   "name": "python3"
  },
  "language_info": {
   "codemirror_mode": {
    "name": "ipython",
    "version": 3
   },
   "file_extension": ".py",
   "mimetype": "text/x-python",
   "name": "python",
   "nbconvert_exporter": "python",
   "pygments_lexer": "ipython3",
   "version": "3.8.5"
  }
 },
 "nbformat": 4,
 "nbformat_minor": 4
}
