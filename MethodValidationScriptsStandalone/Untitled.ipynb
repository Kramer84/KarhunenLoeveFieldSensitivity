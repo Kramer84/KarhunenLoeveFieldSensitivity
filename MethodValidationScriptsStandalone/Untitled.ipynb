{
 "cells": [
  {
   "cell_type": "markdown",
   "metadata": {},
   "source": [
    "# Sensitivity analysis of the ichigami function with the old and new codes. Comparison.\n",
    "### These codes will also be good for tuning our class to support aggregated decomposed processes. "
   ]
  },
  {
   "cell_type": "code",
   "execution_count": 3,
   "metadata": {},
   "outputs": [],
   "source": [
    "import openturns as ot\n",
    "import numpy as np\n",
    "import pandas as pd\n",
    "import PureBeamExample as pbe\n",
    "import spsa"
   ]
  },
  {
   "cell_type": "code",
   "execution_count": 4,
   "metadata": {},
   "outputs": [],
   "source": [
    "ot.RandomGenerator.SetSeed(0)\n",
    "formula = ['sin(X1) + 7. * sin(X2)^2 + 0.1 * X3^4 * sin(X1)']\n",
    "input_names = ['X1', 'X2', 'X3']\n",
    "g = ot.SymbolicFunction(input_names, formula)\n",
    "\n",
    "def gMod(X):\n",
    "    if isinstance(X[0], ot.ProcessSample):\n",
    "        print('was process sample')\n",
    "        X[0] = [X[0][i][0] for i in range(X[0].getSize())]\n",
    "        X[1] = [X[1][i][0] for i in range(X[1].getSize())]\n",
    "        X[2] = [X[2][i][0] for i in range(X[2].getSize())]\n",
    "    X = np.stack([np.asarray([x[0] for x in X[0]]),np.asarray([x[0] for x in X[1]]),np.asarray([x[0] for x in X[2]])]).T\n",
    "    return g(X)\n",
    "#Here the function is defined\n",
    "dimension = 1\n",
    "NElem = [100]\n",
    "mesher = ot.IntervalMesher(NElem)\n",
    "lowerBound = [0] #mm\n",
    "upperBound = [1000] #mm\n",
    "interval = ot.Interval(lowerBound,upperBound)\n",
    "mesh = mesher.build(interval)"
   ]
  },
  {
   "cell_type": "code",
   "execution_count": 5,
   "metadata": {},
   "outputs": [],
   "source": [
    "uniform0 = ot.Uniform(-np.pi, np.pi)\n",
    "uniform1 = ot.Uniform(-np.pi, np.pi)\n",
    "uniform2 = ot.Uniform(-np.pi, np.pi)\n",
    "combinedUniform = ot.ComposedDistribution([uniform0, uniform1, uniform2])"
   ]
  },
  {
   "cell_type": "code",
   "execution_count": 6,
   "metadata": {},
   "outputs": [],
   "source": [
    "def distributionOnMesh(distribution, mesh):\n",
    "    '''Function to transform a scalar distribution into \n",
    "    a constant process defined over a mesh\n",
    "    '''\n",
    "    basis = ot.Basis([ot.SymbolicFunction(['x'],['1'])])\n",
    "    distributionOnMesh = ot.FunctionalBasisProcess(distribution, basis, mesh)\n",
    "    distributionOnMesh.setName(distribution.getName())\n",
    "    return distributionOnMesh"
   ]
  },
  {
   "cell_type": "code",
   "execution_count": 7,
   "metadata": {},
   "outputs": [],
   "source": [
    "uniform0_as_const_process = distributionOnMesh(uniform0, mesh)\n",
    "uniform1_as_const_process = distributionOnMesh(uniform1, mesh)\n",
    "uniform2_as_const_process = distributionOnMesh(uniform2, mesh)\n",
    "\n",
    "algorithm0 = ot.KarhunenLoeveP1Algorithm(mesh, uniform0_as_const_process.getCovarianceModel(), 1e-6)\n",
    "algorithm0.run()\n",
    "uniform0_klresults = algorithm0.getResult()\n",
    "\n",
    "algorithm0 = ot.KarhunenLoeveP1Algorithm(mesh, uniform1_as_const_process.getCovarianceModel(), 1e-6)\n",
    "algorithm0.run()\n",
    "uniform1_klresults = algorithm0.getResult()\n",
    "\n",
    "algorithm0 = ot.KarhunenLoeveP1Algorithm(mesh, uniform2_as_const_process.getCovarianceModel(), 1e-6)\n",
    "algorithm0.run()\n",
    "uniform2_klresults = algorithm0.getResult()\n"
   ]
  },
  {
   "cell_type": "code",
   "execution_count": 8,
   "metadata": {},
   "outputs": [],
   "source": [
    "import numpy as np\n",
    "_abc = ['A','B','C','D','E','F','G']\n",
    "\n",
    "def all_same(items=None):\n",
    "    #Checks if all items of a list are the same\n",
    "    return all(x == items[0] for x in items)\n",
    "\n",
    "def isValidSobolIndicesExperiment(sample_like, size, second_order = False):\n",
    "    try :\n",
    "        sample = np.asarray(sample_like)\n",
    "    except :\n",
    "        print('Could not convert sample to numpy array')\n",
    "        raise TypeError\n",
    "    N = sample.shape[0]\n",
    "    dim = sample.shape[1]\n",
    "    Y_A = sample[:size]\n",
    "    Y_B = sample[size:2*size]\n",
    "    N_indice = int(N/size - 2)\n",
    "    assert N%size==0,\"wrong sample size\"\n",
    "    print('Simplified view of the sobol indices experiments structure')\n",
    "    print('There are {} dimensions and {} sobol indices to calculate'.format(dim, N_indice))\n",
    "    assert np.where(Y_A==Y_B,True,False).any() == False     \n",
    "    tot_lines = list()\n",
    "    try : \n",
    "        for i in range(N_indice+2):\n",
    "            Y_E = sample[i*size:(i+1)*size]\n",
    "            tot_cols = [True]*dim\n",
    "            col_where_A = list(set(np.argwhere(Y_A==Y_E)[:,1]))\n",
    "            line_where_A = list(set(np.argwhere(Y_A==Y_E)[:,0]))\n",
    "            if len(line_where_A)==size : OK = True\n",
    "            for co in col_where_A :\n",
    "                tot_cols[co] = False\n",
    "            if OK : \n",
    "                if len(col_where_A)==dim and all(tot_cols):\n",
    "                    sl = ['A_'+str(j) for j in range(dim)]\n",
    "                elif len(col_where_A)==0 and all_same(tot_cols):\n",
    "                    sl = ['B_'+str(j) for j in range(dim)]\n",
    "                else :\n",
    "                    sl = ['B_'+str(j) for j in range(dim)]\n",
    "                    for k in range(len(col_where_A)):\n",
    "                        sl[col_where_A[k]] = 'A_'+str(col_where_A[k])\n",
    "                l = \"  ,    \".join(sl)\n",
    "                l = '    '+l\n",
    "            if not OK :\n",
    "                print('Error')\n",
    "                return False\n",
    "            tot_lines.append(l)\n",
    "        repres = ' \\n\\n'.join(tot_lines)\n",
    "        repres = '\\n'+repres\n",
    "        print(repres) \n",
    "        return True\n",
    "    except :\n",
    "        return False "
   ]
  },
  {
   "cell_type": "code",
   "execution_count": 9,
   "metadata": {},
   "outputs": [],
   "source": [
    "import KarhunenLoeveFieldSensitivity as klfs"
   ]
  },
  {
   "cell_type": "code",
   "execution_count": 10,
   "metadata": {},
   "outputs": [
    {
     "name": "stdout",
     "output_type": "stream",
     "text": [
      "The process names are not unique.\n",
      "Using generic name. \n",
      "Old name was Uniform, new one is X_0\n",
      "Old name was Uniform, new one is X_1\n",
      "Old name was Uniform, new one is X_2\n"
     ]
    }
   ],
   "source": [
    "aggre_res = klfs.AggregatedKarhunenLoeveResults([uniform0, uniform1, uniform2])"
   ]
  },
  {
   "cell_type": "code",
   "execution_count": 11,
   "metadata": {},
   "outputs": [],
   "source": [
    "FUNC = klfs.KarhunenLoeveGeneralizedFunctionWrapper(\n",
    "                                AggregatedKarhunenLoeveResults = aggre_res,\n",
    "                                func        = gMod, \n",
    "                                func_sample = gMod,\n",
    "                                n_outputs   = 1)"
   ]
  },
  {
   "cell_type": "code",
   "execution_count": 12,
   "metadata": {},
   "outputs": [
    {
     "name": "stdout",
     "output_type": "stream",
     "text": [
      "Samples A and B of size 1000 and dimension 3\n",
      "Experiment of size 5000 and dimension 3\n",
      "Simplified view of the sobol indices experiments structure\n",
      "There are 3 dimensions and 3 sobol indices to calculate\n",
      "\n",
      "    A_0  ,    A_1  ,    A_2 \n",
      "\n",
      "    B_0  ,    B_1  ,    B_2 \n",
      "\n",
      "    B_0  ,    A_1  ,    A_2 \n",
      "\n",
      "    A_0  ,    B_1  ,    A_2 \n",
      "\n",
      "    A_0  ,    A_1  ,    B_2\n",
      "Simplified view of the sobol indices experiments structure\n",
      "There are 3 dimensions and 3 sobol indices to calculate\n",
      "\n",
      "    A_0  ,    A_1  ,    A_2 \n",
      "\n",
      "    B_0  ,    B_1  ,    B_2 \n",
      "\n",
      "    B_0  ,    A_1  ,    A_2 \n",
      "\n",
      "    A_0  ,    B_1  ,    A_2 \n",
      "\n",
      "    A_0  ,    A_1  ,    B_2\n",
      "Lifting as process sample\n",
      "was process sample\n",
      "Using the batch evaluation function. Assumes that the outputs are in the\n",
      "same order than for the single evaluation function. This one should only\n",
      "return ProcessSamples, Samples, Lists or numpy arrays.\n",
      "Element 0 of the output tuple returns elements of type Sample of dimension 1\n"
     ]
    }
   ],
   "source": [
    "nModes = aggre_res.getSizeModes()  # the number of elements in the input vector of our KL wrapped model\n",
    "randNormVect = ot.ComposedDistribution([ot.Normal()] * nModes)\n",
    "\n",
    "def getSobolExperiment(aggrkl, size, seed=149284, secondOrder = False):\n",
    "    ot.RandomGenerator.SetSeed(seed)    \n",
    "    experiment = klfs.KarhunenLoeveSobolIndicesExperiment(aggrkl, size, secondOrder)\n",
    "    sobolExp = experiment.generate()\n",
    "    return sobolExp, experiment\n",
    "\n",
    "sobolExp, exper = getSobolExperiment(aggre_res, 1000)\n",
    "\n",
    "composedUniformInput = ot.SobolIndicesExperiment(combinedUniform, 1000)\n",
    "inputComposed = composedUniformInput.generate()\n",
    "\n",
    "valid = isValidSobolIndicesExperiment(sobolExp, 1000)\n",
    "assert valid\n",
    "valid = isValidSobolIndicesExperiment(inputComposed, 1000)\n",
    "assert valid\n",
    "output_base = g(inputComposed)\n",
    "output = FUNC(sobolExp)\n"
   ]
  },
  {
   "cell_type": "code",
   "execution_count": 13,
   "metadata": {},
   "outputs": [
    {
     "name": "stdout",
     "output_type": "stream",
     "text": [
      "[13.7451] [14.7256]\n",
      "[1.02452,0.958281,1.01427] [3.23718,3.24071,3.34305]\n",
      "Lifting as process sample\n",
      "[3.35886,3.20622,3.32624]\n",
      "min max uniform: [-3.13857,-3.13984,-3.13143] [3.14113,3.14136,3.13751]\n",
      "min max lifted: [-3.13996,-3.13835,-3.13843] [3.13711,3.13851,3.14079]\n"
     ]
    }
   ],
   "source": [
    "my_output = output[0].computeVariance()\n",
    "base_output = output_base.computeVariance()\n",
    "print(my_output, base_output)\n",
    "my_input_var = sobolExp.computeVariance()\n",
    "base_input_var = inputComposed.computeVariance()\n",
    "print(my_input_var, base_input_var)\n",
    "\n",
    "Y = aggre_res.liftAsProcessSample(sobolExp)\n",
    "Y[0] = [Y[0][i].getMax()[0] for i in range(Y[0].getSize())]\n",
    "Y[1] = [Y[1][i].getMax()[0] for i in range(Y[1].getSize())]\n",
    "Y[2] = [Y[2][i].getMax()[0] for i in range(Y[2].getSize())]\n",
    "Y = ot.Sample(np.stack(Y).T)\n",
    "lifted_input_var = Y.computeVariance()\n",
    "print(lifted_input_var)\n",
    "print('min max uniform:',inputComposed.getMin(), inputComposed.getMax())\n",
    "print('min max lifted:',Y.getMin(), Y.getMax())"
   ]
  },
  {
   "cell_type": "code",
   "execution_count": 14,
   "metadata": {},
   "outputs": [
    {
     "name": "stdout",
     "output_type": "stream",
     "text": [
      "size initialized 5000\n",
      "Warning : Always pass the computeSecondOrder argument\n",
      "if you also pass the data to compute it\n",
      "Otherwise, the behavior will be unreliable\n",
      "\n",
      "Means is\n",
      " [3.6169]\n",
      "design_elem size, dim 5000 1\n",
      "There are 3 indices to get for 1 outputs with dimensions 1 each.\n",
      "Description all same? [X_0_0,X_1_0,X_2_0]\n",
      "SobolIndicesName ['X_0_', 'X_1_', 'X_2_']\n",
      "Input Description is, ['X_0_', 'X_1_', 'X_2_']\n"
     ]
    }
   ],
   "source": [
    "sensi = klfs.SobolKarhunenLoeveFieldSensitivityAlgorithm()\n",
    "sensi.setDesign(sobolExp, output, 1000)"
   ]
  },
  {
   "cell_type": "code",
   "execution_count": 15,
   "metadata": {},
   "outputs": [
    {
     "name": "stdout",
     "output_type": "stream",
     "text": [
      "Solving...\n",
      " size of samples:  5000\n",
      " number of indices to get 3\n"
     ]
    },
    {
     "data": {
      "text/plain": [
       "[[class=Point name=Sobol_Y_0_X_0_ dimension=1 values=[0.30924],\n",
       "  class=Point name=Sobol_Y_0_X_1_ dimension=1 values=[0.453793],\n",
       "  class=Point name=Sobol_Y_0_X_2_ dimension=1 values=[-0.0612508]]]"
      ]
     },
     "execution_count": 15,
     "metadata": {},
     "output_type": "execute_result"
    }
   ],
   "source": [
    "sensi.getFirstOrderIndices()"
   ]
  },
  {
   "cell_type": "code",
   "execution_count": 16,
   "metadata": {},
   "outputs": [
    {
     "data": {
      "text/plain": [
       "[[class=Point name=TotalOrderSobol_Y_0_X_0_ dimension=1 values=[0.564247],\n",
       "  class=Point name=TotalOrderSobol_Y_0_X_1_ dimension=1 values=[0.452711],\n",
       "  class=Point name=TotalOrderSobol_Y_0_X_2_ dimension=1 values=[0.220581]]]"
      ]
     },
     "execution_count": 16,
     "metadata": {},
     "output_type": "execute_result"
    }
   ],
   "source": [
    "sensi.getTotalOrderIndices()"
   ]
  },
  {
   "cell_type": "code",
   "execution_count": 17,
   "metadata": {},
   "outputs": [
    {
     "name": "stdout",
     "output_type": "stream",
     "text": [
      "Lifting as process sample\n"
     ]
    }
   ],
   "source": [
    "Y_ = aggre_res.liftAsProcessSample(sobolExp)\n",
    "Y = Y_[:]\n",
    "Y_[0] = [Y[0][i].getMax()[0] for i in range(Y[0].getSize())]\n",
    "Y_[1] = [Y[1][i].getMax()[0] for i in range(Y[1].getSize())]\n",
    "Y_[2] = [Y[2][i].getMax()[0] for i in range(Y[2].getSize())]\n",
    "Y_ = np.stack(Y_).T"
   ]
  },
  {
   "cell_type": "code",
   "execution_count": 18,
   "metadata": {},
   "outputs": [
    {
     "data": {
      "image/png": "[encoded data removed]",
      "text/plain": [
       "class=Graph name=Sobol' indices implementation=class=GraphImplementation name=Sobol' indices title=Sobol' indices - SaltelliSensitivityAlgorithm xTitle=inputs yTitle=index value axes=ON grid=ON legendposition=topright legendFontSize=1 drawables=[class=Drawable name=First order implementation=class=Cloud name=First order derived from class=DrawableImplementation name=First order legend=First order data=class=Sample name=Unnamed implementation=class=SampleImplementation name=Unnamed size=3 dimension=2 data=[[1,0.30924],[2,0.453793],[3,-0.0612508]] color=red fillStyle=solid lineStyle=solid pointStyle=circle lineWidth=1,class=Drawable name=Total order implementation=class=Cloud name=Total order derived from class=DrawableImplementation name=Total order legend=Total order data=class=Sample name=Unnamed implementation=class=SampleImplementation name=Unnamed size=3 dimension=2 data=[[1.075,0.564247],[2.075,0.452711],[3.075,0.220581]] color=blue fillStyle=solid lineStyle=solid pointStyle=square lineWidth=1,class=Drawable name=Unnamed implementation=class=Text name=Unnamed derived from class=DrawableImplementation name=Unnamed legend= data=class=Sample name=Unnamed implementation=class=SampleImplementation name=Unnamed size=3 dimension=2 data=[[1.15,0.436744],[2.15,0.453252],[3.15,0.0796653]] color=black fillStyle=solid lineStyle=solid pointStyle=plus lineWidth=1,class=Drawable name=Unnamed implementation=class=Curve name=Unnamed derived from class=DrawableImplementation name=Unnamed legend= data=class=Sample name=Unnamed implementation=class=SampleImplementation name=Unnamed size=2 dimension=2 data=[[1,0.234688],[1,0.372637]] color=red fillStyle=solid lineStyle=solid pointStyle=none lineWidth=2,class=Drawable name=Unnamed implementation=class=Curve name=Unnamed derived from class=DrawableImplementation name=Unnamed legend= data=class=Sample name=Unnamed implementation=class=SampleImplementation name=Unnamed size=2 dimension=2 data=[[1.075,0.421835],[1.075,0.702049]] color=blue fillStyle=solid lineStyle=solid pointStyle=none lineWidth=2,class=Drawable name=Unnamed implementation=class=Curve name=Unnamed derived from class=DrawableImplementation name=Unnamed legend= data=class=Sample name=Unnamed implementation=class=SampleImplementation name=Unnamed size=2 dimension=2 data=[[2,0.361106],[2,0.556769]] color=red fillStyle=solid lineStyle=solid pointStyle=none lineWidth=2,class=Drawable name=Unnamed implementation=class=Curve name=Unnamed derived from class=DrawableImplementation name=Unnamed legend= data=class=Sample name=Unnamed implementation=class=SampleImplementation name=Unnamed size=2 dimension=2 data=[[2.075,0.291829],[2.075,0.604028]] color=blue fillStyle=solid lineStyle=solid pointStyle=none lineWidth=2,class=Drawable name=Unnamed implementation=class=Curve name=Unnamed derived from class=DrawableImplementation name=Unnamed legend= data=class=Sample name=Unnamed implementation=class=SampleImplementation name=Unnamed size=2 dimension=2 data=[[3,-0.159655],[3,0.0395773]] color=red fillStyle=solid lineStyle=solid pointStyle=none lineWidth=2,class=Drawable name=Unnamed implementation=class=Curve name=Unnamed derived from class=DrawableImplementation name=Unnamed legend= data=class=Sample name=Unnamed implementation=class=SampleImplementation name=Unnamed size=2 dimension=2 data=[[3.075,0.114583],[3.075,0.347105]] color=blue fillStyle=solid lineStyle=solid pointStyle=none lineWidth=2]"
      ]
     },
     "execution_count": 18,
     "metadata": {},
     "output_type": "execute_result"
    }
   ],
   "source": [
    "sensi.__results__[0].draw()\n"
   ]
  },
  {
   "cell_type": "code",
   "execution_count": 19,
   "metadata": {},
   "outputs": [
    {
     "ename": "NameError",
     "evalue": "name 'out2' is not defined",
     "output_type": "error",
     "traceback": [
      "\u001b[0;31m---------------------------------------------------------------------------\u001b[0m",
      "\u001b[0;31mNameError\u001b[0m                                 Traceback (most recent call last)",
      "\u001b[0;32m<ipython-input-19-959fe67a9db0>\u001b[0m in \u001b[0;36m<module>\u001b[0;34m\u001b[0m\n\u001b[0;32m----> 1\u001b[0;31m \u001b[0msensitivityAnalysis\u001b[0m \u001b[0;34m=\u001b[0m \u001b[0mot\u001b[0m\u001b[0;34m.\u001b[0m\u001b[0mSaltelliSensitivityAlgorithm\u001b[0m\u001b[0;34m(\u001b[0m\u001b[0mY_\u001b[0m\u001b[0;34m,\u001b[0m \u001b[0mout2\u001b[0m\u001b[0;34m[\u001b[0m\u001b[0;36m0\u001b[0m\u001b[0;34m]\u001b[0m\u001b[0;34m,\u001b[0m \u001b[0;36m1000\u001b[0m\u001b[0;34m)\u001b[0m\u001b[0;34m\u001b[0m\u001b[0;34m\u001b[0m\u001b[0m\n\u001b[0m",
      "\u001b[0;31mNameError\u001b[0m: name 'out2' is not defined"
     ]
    }
   ],
   "source": [
    "sensitivityAnalysis = ot.SaltelliSensitivityAlgorithm(Y_, out2[0], 1000)"
   ]
  },
  {
   "cell_type": "code",
   "execution_count": 18,
   "metadata": {},
   "outputs": [
    {
     "ename": "NameError",
     "evalue": "name 'sensitivityAnalysis' is not defined",
     "output_type": "error",
     "traceback": [
      "\u001b[0;31m---------------------------------------------------------------------------\u001b[0m",
      "\u001b[0;31mNameError\u001b[0m                                 Traceback (most recent call last)",
      "\u001b[0;32m<ipython-input-18-7aee2e98a8e4>\u001b[0m in \u001b[0;36m<module>\u001b[0;34m\u001b[0m\n\u001b[0;32m----> 1\u001b[0;31m \u001b[0msensitivityAnalysis\u001b[0m\u001b[0;34m.\u001b[0m\u001b[0mdraw\u001b[0m\u001b[0;34m(\u001b[0m\u001b[0;34m)\u001b[0m\u001b[0;34m\u001b[0m\u001b[0;34m\u001b[0m\u001b[0m\n\u001b[0m",
      "\u001b[0;31mNameError\u001b[0m: name 'sensitivityAnalysis' is not defined"
     ]
    }
   ],
   "source": [
    "sensitivityAnalysis.draw()"
   ]
  },
  {
   "cell_type": "code",
   "execution_count": 19,
   "metadata": {},
   "outputs": [
    {
     "data": {
      "image/png": "[encoded data removed]",
      "text/plain": [
       "class=Graph name=Sobol' indices implementation=class=GraphImplementation name=Sobol' indices title=Sobol' indices - SaltelliSensitivityAlgorithm xTitle=inputs yTitle=index value axes=ON grid=ON legendposition=topright legendFontSize=1 drawables=[class=Drawable name=First order implementation=class=Cloud name=First order derived from class=DrawableImplementation name=First order legend=First order data=class=Sample name=Unnamed implementation=class=SampleImplementation name=Unnamed size=3 dimension=2 data=[[1,0.348147],[2,0.422383],[3,0.0403949]] color=red fillStyle=solid lineStyle=solid pointStyle=circle lineWidth=1,class=Drawable name=Total order implementation=class=Cloud name=Total order derived from class=DrawableImplementation name=Total order legend=Total order data=class=Sample name=Unnamed implementation=class=SampleImplementation name=Unnamed size=3 dimension=2 data=[[1.075,0.644799],[2.075,0.427161],[3.075,0.213223]] color=blue fillStyle=solid lineStyle=solid pointStyle=square lineWidth=1,class=Drawable name=Unnamed implementation=class=Text name=Unnamed derived from class=DrawableImplementation name=Unnamed legend= data=class=Sample name=Unnamed implementation=class=SampleImplementation name=Unnamed size=3 dimension=2 data=[[1.15,0.496473],[2.15,0.424772],[3.15,0.126809]] color=black fillStyle=solid lineStyle=solid pointStyle=plus lineWidth=1,class=Drawable name=Unnamed implementation=class=Curve name=Unnamed derived from class=DrawableImplementation name=Unnamed legend= data=class=Sample name=Unnamed implementation=class=SampleImplementation name=Unnamed size=2 dimension=2 data=[[1,0.287069],[1,0.426086]] color=red fillStyle=solid lineStyle=solid pointStyle=none lineWidth=2,class=Drawable name=Unnamed implementation=class=Curve name=Unnamed derived from class=DrawableImplementation name=Unnamed legend= data=class=Sample name=Unnamed implementation=class=SampleImplementation name=Unnamed size=2 dimension=2 data=[[1.075,0.540377],[1.075,0.768639]] color=blue fillStyle=solid lineStyle=solid pointStyle=none lineWidth=2,class=Drawable name=Unnamed implementation=class=Curve name=Unnamed derived from class=DrawableImplementation name=Unnamed legend= data=class=Sample name=Unnamed implementation=class=SampleImplementation name=Unnamed size=2 dimension=2 data=[[2,0.340498],[2,0.512525]] color=red fillStyle=solid lineStyle=solid pointStyle=none lineWidth=2,class=Drawable name=Unnamed implementation=class=Curve name=Unnamed derived from class=DrawableImplementation name=Unnamed legend= data=class=Sample name=Unnamed implementation=class=SampleImplementation name=Unnamed size=2 dimension=2 data=[[2.075,0.296392],[2.075,0.562049]] color=blue fillStyle=solid lineStyle=solid pointStyle=none lineWidth=2,class=Drawable name=Unnamed implementation=class=Curve name=Unnamed derived from class=DrawableImplementation name=Unnamed legend= data=class=Sample name=Unnamed implementation=class=SampleImplementation name=Unnamed size=2 dimension=2 data=[[3,-0.0710854],[3,0.147084]] color=red fillStyle=solid lineStyle=solid pointStyle=none lineWidth=2,class=Drawable name=Unnamed implementation=class=Curve name=Unnamed derived from class=DrawableImplementation name=Unnamed legend= data=class=Sample name=Unnamed implementation=class=SampleImplementation name=Unnamed size=2 dimension=2 data=[[3.075,0.135144],[3.075,0.313038]] color=blue fillStyle=solid lineStyle=solid pointStyle=none lineWidth=2]"
      ]
     },
     "execution_count": 19,
     "metadata": {},
     "output_type": "execute_result"
    }
   ],
   "source": [
    "sensitivityBase = ot.SaltelliSensitivityAlgorithm(Y_, output_base, 1000)\n",
    "sensitivityBase.draw()"
   ]
  },
  {
   "cell_type": "code",
   "execution_count": null,
   "metadata": {},
   "outputs": [],
   "source": []
  }
 ],
 "metadata": {
  "kernelspec": {
   "display_name": "Python 3",
   "language": "python",
   "name": "python3"
  },
  "language_info": {
   "codemirror_mode": {
    "name": "ipython",
    "version": 3
   },
   "file_extension": ".py",
   "mimetype": "text/x-python",
   "name": "python",
   "nbconvert_exporter": "python",
   "pygments_lexer": "ipython3",
   "version": "3.7.9"
  }
 },
 "nbformat": 4,
 "nbformat_minor": 4
}
