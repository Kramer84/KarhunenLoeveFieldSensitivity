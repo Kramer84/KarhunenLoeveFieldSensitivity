{
 "cells": [
  {
   "cell_type": "markdown",
   "metadata": {},
   "source": [
    "#### Now that we have our designs of experiment, we can begin to create our metamodels. In our case, we will create 3 metamodels, each created from a different (in size and elements) design of experiment. We will then assess the precision of our metamodel in regard to the functions ouput, and further we will look at the sensitivities"
   ]
  },
  {
   "cell_type": "code",
   "execution_count": 1,
   "metadata": {},
   "outputs": [
    {
     "name": "stderr",
     "output_type": "stream",
     "text": [
      "<ipython-input-1-340524c68602>:5: DeprecationWarning: Using or importing the ABCs from 'collections' instead of from 'collections.abc' is deprecated since Python 3.3, and in 3.9 it will stop working\n",
      "  from collections import Sequence, Iterable\n"
     ]
    }
   ],
   "source": [
    "import pandas as pd\n",
    "import numpy as np\n",
    "import openturns as ot\n",
    "import pythontools as pt\n",
    "from collections import Sequence, Iterable\n",
    "import KarhunenLoeveFieldSensitivity as klfs"
   ]
  },
  {
   "cell_type": "code",
   "execution_count": 2,
   "metadata": {},
   "outputs": [],
   "source": [
    "# Lets' first load our 3 designs of experiment for the kriging models. \n",
    "# input designs : \n",
    "doe50_in = pd.read_csv('DOE_RESP2/kg_doe50_130875.csv', sep=';')\n",
    "doe100_in = pd.read_csv('DOE_RESP2/kg_doe100_409484.csv', sep=';')\n",
    "doe200_in = pd.read_csv('DOE_RESP2/kg_doe200_224409.csv', sep=';')\n",
    "# model outputs :\n",
    "doe50_out_MD = pd.read_csv('DOE_RESP2/kg_doe50_130875_resp_MD.csv', sep=';', header=None)\n",
    "doe50_VM = pd.read_csv('DOE_RESP2/kg_doe50_130875_resp_VM.csv', sep=';', header=None)\n",
    "doe100_out_MD = pd.read_csv('DOE_RESP2/kg_doe100_409484_resp_MD.csv', header=None)\n",
    "doe100_VM = pd.read_csv('DOE_RESP2/kg_doe100_409484_resp_VM.csv', sep=';', header=None)\n",
    "doe200_out_MD = pd.read_csv('DOE_RESP2/kg_doe200_224409_resp_MD.csv', sep=';', header=None)\n",
    "doe200_VM = pd.read_csv('DOE_RESP2/kg_doe200_224409_resp_VM.csv', sep=';', header=None)\n",
    "# validation models : \n",
    "doe_vali_200_in = pd.read_csv('DOE_RESP2/val_doe200_502849.csv', sep=';')\n",
    "doe_vali_200_out_MD = pd.read_csv('DOE_RESP2/val_doe200_502849_resp_MD.csv', sep=';',header=None)\n",
    "doe_vali_200_out_VM = pd.read_csv('DOE_RESP2/val_doe200_502849_resp_VM.csv', sep=';',header=None)"
   ]
  },
  {
   "cell_type": "code",
   "execution_count": 3,
   "metadata": {},
   "outputs": [],
   "source": [
    "def all_same(items=None):\n",
    "    #Checks if all items of a list are the same\n",
    "    return all(x == items[0] for x in items)\n",
    "\n",
    "def isValidSobolIndicesExperiment(sample_like, size, second_order = False):\n",
    "    try :\n",
    "        sample = np.asarray(sample_like)\n",
    "    except :\n",
    "        print('Could not convert sample to numpy array')\n",
    "        raise TypeError\n",
    "    N = sample.shape[0]\n",
    "    print('N is', N)\n",
    "    dim = sample.shape[1]\n",
    "    Y_A = sample[:size]\n",
    "    Y_B = sample[size:2*size]\n",
    "    N_indice = int(N/size - 2)\n",
    "    assert N%size==0,\"wrong sample size\"\n",
    "    print('Simplified view of the sobol indices experiments structure')\n",
    "    print('There are {} dimensions and {} sobol indices to calculate'.format(dim, N_indice))\n",
    "    assert np.where(Y_A==Y_B,True,False).any() == False #Here we check that there is no similarity at all  between A and B \n",
    "    tot_lines = list()\n",
    "    try : \n",
    "        for i in range(N_indice+2):\n",
    "            Y_E = sample[i*size:(i+1)*size]\n",
    "            tot_cols = [True]*dim\n",
    "            col_where_A = list(set(np.argwhere(Y_A==Y_E)[:,1]))\n",
    "            line_where_A = list(set(np.argwhere(Y_A==Y_E)[:,0]))\n",
    "            if len(line_where_A)==size : OK = True\n",
    "            for co in col_where_A :\n",
    "                tot_cols[co] = False\n",
    "            if OK : \n",
    "                if len(col_where_A)==dim and all(tot_cols):\n",
    "                    sl = ['A_'+str(j) for j in range(dim)]\n",
    "                elif len(col_where_A)==0 and all_same(tot_cols):\n",
    "                    sl = ['B_'+str(j) for j in range(dim)]\n",
    "                else :\n",
    "                    sl = ['B_'+str(j) for j in range(dim)]\n",
    "                    for k in range(len(col_where_A)):\n",
    "                        sl[col_where_A[k]] = 'A_'+str(col_where_A[k])\n",
    "                l = \"  ,    \".join(sl)\n",
    "                l = '    '+l\n",
    "            if not OK :\n",
    "                print('Error')\n",
    "                return False\n",
    "            tot_lines.append(l)\n",
    "        repres = ' \\n\\n'.join(tot_lines)\n",
    "        repres = '\\n'+repres\n",
    "        print(repres) \n",
    "        return True\n",
    "    except :\n",
    "        return False\n",
    "\n",
    "def ereaseNanFromSample(sample_in, sample_out, N , secondOrder = False):\n",
    "    sampOut = np.array(sample_out,copy=True, subok=False)\n",
    "    if secondOrder == False : \n",
    "        n_vars = int(sampOut.shape[0]/N) - 2 \n",
    "        print('n vars is', n_vars)\n",
    "        N_max = int(N*(n_vars + 2))\n",
    "        N_var = N_max/N\n",
    "    else : \n",
    "        n_vars = int(sampOut.shape[0]/(N*2)) - 1\n",
    "        print('n vars is', n_vars)\n",
    "        N_max = int(N*(2*n_vars + 2))\n",
    "        N_var = N_max/N\n",
    "    \n",
    "    print('N_max is', N_max)\n",
    "    argNan = np.argwhere(np.isnan(sampOut))[:,0].tolist()\n",
    "    print('args where nan : ',argNan)\n",
    "    toErease = set()\n",
    "    for arg in argNan:\n",
    "        whereToErease = list(range(arg%N, N_max, N))\n",
    "        [toErease.add(elem) for elem in whereToErease]\n",
    "    whereToErease = list(toErease)\n",
    "    print('Where we are erasing:', whereToErease)\n",
    "    N -= int(len(whereToErease)/N_var)\n",
    "    for idx in sorted(whereToErease)[::-1]:\n",
    "        sample_in.erase(idx)\n",
    "        sample_out.erase(idx) \n",
    "    print('N is now: ',N)\n",
    "    return N"
   ]
  },
  {
   "cell_type": "code",
   "execution_count": 4,
   "metadata": {},
   "outputs": [
    {
     "data": {
      "text/html": [
       "<p>[X_0_0,X_0_1,X_0_2,X_0_3,X_0_4,X_0_5,X_0_6,X_1_0,X_1_1,X_1_2,X_1_3,X_1_4,X_1_5,X_1_6,X_1_7,X_1_8,X_1_9,X_2_0,X_3_0]#19</p>"
      ],
      "text/plain": [
       "[X_0_0,X_0_1,X_0_2,X_0_3,X_0_4,X_0_5,X_0_6,X_1_0,X_1_1,X_1_2,X_1_3,X_1_4,X_1_5,X_1_6,X_1_7,X_1_8,X_1_9,X_2_0,X_3_0]"
      ]
     },
     "execution_count": 4,
     "metadata": {},
     "output_type": "execute_result"
    }
   ],
   "source": [
    "# KRIGING SAMPLE\n",
    "    # INPUTS\n",
    "sample_doe50_in = ot.Sample(doe50_in.values)\n",
    "sample_doe50_in.setDescription(doe50_in.columns)\n",
    "sample_doe100_in = ot.Sample(doe100_in.values)\n",
    "sample_doe100_in.setDescription(doe100_in.columns)\n",
    "sample_doe200_in = ot.Sample(doe200_in.values)\n",
    "sample_doe200_in.setDescription(doe200_in.columns)\n",
    "    # OUTPUTS\n",
    "sample_doe50_out_MD = ot.Sample(doe50_out_MD.values)\n",
    "sample_doe50_out_MD.setDescription(ot.Description.BuildDefault(len(doe50_out_MD.columns), 'MD_'))\n",
    "sample_doe50_VM = ot.Sample(doe50_VM.values)\n",
    "sample_doe50_VM.setDescription(ot.Description.BuildDefault(len(doe50_VM.columns), 'VM_'))\n",
    "sample_doe100_out_MD = ot.Sample(doe100_out_MD.values)\n",
    "sample_doe100_out_MD.setDescription(ot.Description.BuildDefault(len(doe100_out_MD.columns), 'MD_'))\n",
    "sample_doe100_VM = ot.Sample(doe100_VM.values)\n",
    "sample_doe100_VM.setDescription(ot.Description.BuildDefault(len(doe100_VM.columns), 'VM_'))\n",
    "sample_doe200_out_MD = ot.Sample(doe200_out_MD.values)\n",
    "sample_doe200_out_MD.setDescription(ot.Description.BuildDefault(len(doe200_out_MD.columns), 'MD_'))\n",
    "sample_doe200_VM = ot.Sample(doe200_VM.values)\n",
    "sample_doe200_VM.setDescription(ot.Description.BuildDefault(len(doe200_VM.columns), 'VM_'))\n",
    "# VALIDATION SAMPLE\n",
    "validation_sample_doe200_in = ot.Sample(doe_vali_200_in.values)\n",
    "validation_sample_doe200_in.setDescription(doe_vali_200_in.columns)\n",
    "validation_sample_doe200_out_MD = ot.Sample(doe_vali_200_out_MD.values)\n",
    "validation_sample_doe200_out_MD.setDescription(ot.Description.BuildDefault(len(doe_vali_200_out_MD.columns), 'MD_'))\n",
    "validation_sample_doe200_out_VM = ot.Sample(doe_vali_200_out_VM.values)\n",
    "validation_sample_doe200_out_VM.setDescription(ot.Description.BuildDefault(len(doe_vali_200_out_VM.columns), 'VM_'))\n",
    "sample_doe50_in.getDescription()"
   ]
  },
  {
   "cell_type": "markdown",
   "metadata": {},
   "source": [
    "## First, let's define a metamodeling class"
   ]
  },
  {
   "cell_type": "code",
   "execution_count": 5,
   "metadata": {},
   "outputs": [],
   "source": [
    "class metamodeling_kriging : \n",
    "    def __init__(self, inSample, outSample, **kwargs):\n",
    "        self.input_sample = inSample\n",
    "        self.output_sample = outSample\n",
    "        self.__default_kriging__ = None\n",
    "        self.__kriging_theta__ = None\n",
    "        self.__kriging_results__ = None\n",
    "        self.__kriging_metamodel__ = None\n",
    "        self.__size_multistart__ = kwargs['size_multistart'] if 'size_multistart' in kwargs else 5\n",
    "        self.__lb__ = kwargs['lower_bound'] if 'lower_bound' in kwargs else None\n",
    "        self.__ub__ = kwargs['upper_bound'] if 'upper_bound' in kwargs else None\n",
    "        self.__optim_type__ = kwargs['optim_type'] if 'optim_type' in kwargs else 'best_start'\n",
    "        self.validation_results = __validation_results__() \n",
    "        \n",
    "    def _build_default(self):\n",
    "        self.__default_kriging__ = pt.build_default_kriging_algo(\n",
    "                                    input_sample  = self.input_sample,\n",
    "                                    output_sample = self.output_sample, \n",
    "                                    basis         = None,\n",
    "                                    covariance_model = None,\n",
    "                                    noise         = None)\n",
    "        \n",
    "    def _estimate_theta(self):\n",
    "        self.__kriging_theta__ = pt.estimate_kriging_theta(\n",
    "                            algo_kriging = self.__default_kriging__,\n",
    "                            lower_bound = self.__lb__,\n",
    "                            upper_bound = self.__ub__,\n",
    "                            size        = self.__size_multistart__,\n",
    "                            optim_type  = self.__optim_type__)\n",
    "    \n",
    "    def _get_results_metamodel(self):\n",
    "        if isinstance(self.__kriging_theta__,(Sequence,Iterable, list)):\n",
    "            self.__kriging_results__ = [_kt.getResult() for _kt in self.__kriging_theta__]\n",
    "            self.__kriging_metamodel__ = [_km.getMetaModel() for _km in self.__kriging_results__]\n",
    "        else :\n",
    "            self.__kriging_results__ = self.__kriging_theta__.getResult()\n",
    "            self.__kriging_metamodel__ = self.__kriging_results__.getMetaModel()\n",
    "                \n",
    "    def run(self):\n",
    "        self._build_default()\n",
    "        self._estimate_theta()\n",
    "        self._get_results_metamodel()\n",
    "        print('Done !')\n",
    "        \n",
    "    def getKrigingResult(self):\n",
    "        return self.__kriging_results__\n",
    "        \n",
    "    def getKrigingMetaModel(self):\n",
    "        return self.__kriging_metamodel__\n",
    "    \n",
    "    def _check_clean_nans(self, sampleIn, sampleOut):\n",
    "        whereNan = list(set(np.argwhere(np.isnan(sampleOut))[:,0]))\n",
    "        print('NaN values found at index:',whereNan)\n",
    "        [(sampleOut.erase(int(val)), sampleIn.erase(int(val))) for val in whereNan]\n",
    "        \n",
    "    def getMetaModelValidation(self, sample_in_validation, sample_out_validation):\n",
    "        assert self.__kriging_metamodel__ is not None, \"Please first run calculus\"\n",
    "        assert len(sample_in_validation) == len(sample_out_validation)\n",
    "        self._check_clean_nans(sample_in_validation, sample_out_validation)\n",
    "        self.validation_results.clear()\n",
    "        if isinstance(self.__kriging_metamodel__,(Sequence,Iterable, list)):\n",
    "            for i, model in enumerate(self.__kriging_metamodel__):\n",
    "                validation = ot.MetaModelValidation(sample_in_validation, \n",
    "                                                    sample_out_validation[:,i],\n",
    "                                                    self.__kriging_metamodel__[i])\n",
    "                R2 = validation.computePredictivityFactor()\n",
    "                residual = validation.getResidualSample()\n",
    "                graph = validation.drawValidation()\n",
    "                self.validation_results.addGraph(graph)\n",
    "                self.validation_results.addR2(R2)\n",
    "                self.validation_results.addResidual(residual)\n",
    "        else : \n",
    "            validation = ot.MetaModelValidation(sample_in_validation, \n",
    "                                                sample_out_validation[:,0],\n",
    "                                                self.__kriging_metamodel__)\n",
    "            R2 = validation.computePredictivityFactor()\n",
    "            residual = validation.getResidualSample()\n",
    "            graph = validation.drawValidation()\n",
    "            self.validation_results.addGraph(graph)\n",
    "            self.validation_results.addR2(R2)\n",
    "            self.validation_results.addResidual(residual)\n",
    "                \n",
    "class __validation_results__(object) :\n",
    "    def __init__(self): \n",
    "        self.__R2__ = []\n",
    "        self.__residuals__ = []\n",
    "        self.__graphs__ = []\n",
    "\n",
    "    def clear(self):\n",
    "        self.__R2__.clear()\n",
    "        self.__residuals__.clear()\n",
    "        self.__graphs__.clear()\n",
    "        \n",
    "    def addGraph(self, graph):\n",
    "        self.__graphs__.append(graph)\n",
    "\n",
    "    def addR2(self, R2):\n",
    "        self.__R2__.append(R2)\n",
    "\n",
    "    def addResidual(self, residual):\n",
    "        self.__residuals__.append(residual)\n",
    "\n",
    "    def getGraphs(self):\n",
    "        for graph in self.__graphs__ :\n",
    "            ot.Show(graph)\n",
    "\n",
    "    def getResiduals(self):\n",
    "        theGraph = ot.Graph('Residuals','varying dimension','residual',True,'')\n",
    "        theCurve = ot.Curve(list(range(len(self.__residuals__))),\n",
    "                            self.__residuals__, 'residuals')\n",
    "        theGraph.add(theCurve)\n",
    "        ot.Show(theGraph)\n",
    "\n",
    "    def getR2s(self):\n",
    "        theGraph = ot.Graph('R2','varying dimension','residual',True,'')\n",
    "        theCurve = ot.Curve(list(range(len(self.__R2__))),\n",
    "                            self.__R2__, 'R2')\n",
    "        theGraph.add(theCurve)\n",
    "        ot.Show(theGraph)"
   ]
  },
  {
   "cell_type": "markdown",
   "metadata": {},
   "source": [
    "#### First metamodel, DOE : LHS 50  ==> Max Deflection"
   ]
  },
  {
   "cell_type": "code",
   "execution_count": 6,
   "metadata": {},
   "outputs": [
    {
     "name": "stdout",
     "output_type": "stream",
     "text": [
      "Done !\n"
     ]
    }
   ],
   "source": [
    "kriging_doe_50_MD = metamodeling_kriging(sample_doe50_in, sample_doe50_out_MD,optim_type='multi_start', size_multistart = 10)\n",
    "kriging_doe_50_MD.run()"
   ]
  },
  {
   "cell_type": "markdown",
   "metadata": {},
   "source": [
    "###### For validation, we are going to use one of the samples intended for the sobol indices calculus. by the way, we are only going to use the 2/7 th of the samples (as we have samples A, B, and then 5 combinations of those.)"
   ]
  },
  {
   "cell_type": "code",
   "execution_count": 7,
   "metadata": {},
   "outputs": [
    {
     "name": "stdout",
     "output_type": "stream",
     "text": [
      "NaN values found at index: []\n"
     ]
    }
   ],
   "source": [
    "# validation_sample_doe2000_in | validation_sample_doe2000_out_MD | validation_sample_doe2000_out_VM\n",
    "kriging_doe_50_MD.getMetaModelValidation(validation_sample_doe200_in, validation_sample_doe200_out_MD)\n"
   ]
  },
  {
   "cell_type": "code",
   "execution_count": 8,
   "metadata": {},
   "outputs": [
    {
     "data": {
      "image/png": "[encoded data removed]",
      "text/plain": [
       "<Figure size 432x288 with 1 Axes>"
      ]
     },
     "metadata": {
      "needs_background": "light"
     },
     "output_type": "display_data"
    }
   ],
   "source": [
    "kriging_doe_50_MD.validation_results.getGraphs()"
   ]
  },
  {
   "cell_type": "markdown",
   "metadata": {},
   "source": [
    "###### As we see, the results here are not so horrible ..."
   ]
  },
  {
   "cell_type": "markdown",
   "metadata": {},
   "source": [
    "#### Second metamodel, DOE : LHS 100  ==> Max Deflection"
   ]
  },
  {
   "cell_type": "code",
   "execution_count": 9,
   "metadata": {},
   "outputs": [
    {
     "name": "stdout",
     "output_type": "stream",
     "text": [
      "Done !\n"
     ]
    }
   ],
   "source": [
    "kriging_doe_100_MD = metamodeling_kriging(sample_doe100_in, \n",
    "                                        sample_doe100_out_MD, \n",
    "                                        optim_type='best_start',\n",
    "                                        size_multistart = 100,\n",
    "                                        lower_bound = None,\n",
    "                                        upper_bound = None)\n",
    "kriging_doe_100_MD.run()"
   ]
  },
  {
   "cell_type": "code",
   "execution_count": 10,
   "metadata": {},
   "outputs": [
    {
     "name": "stdout",
     "output_type": "stream",
     "text": [
      "NaN values found at index: []\n"
     ]
    }
   ],
   "source": [
    "kriging_doe_100_MD.getMetaModelValidation(validation_sample_doe200_in, validation_sample_doe200_out_MD)\n"
   ]
  },
  {
   "cell_type": "code",
   "execution_count": 11,
   "metadata": {},
   "outputs": [
    {
     "data": {
      "image/png": "[encoded data removed]",
      "text/plain": [
       "<Figure size 432x288 with 1 Axes>"
      ]
     },
     "metadata": {
      "needs_background": "light"
     },
     "output_type": "display_data"
    }
   ],
   "source": [
    "\n",
    "kriging_doe_100_MD.validation_results.getGraphs()"
   ]
  },
  {
   "cell_type": "markdown",
   "metadata": {},
   "source": [
    "#### Third metamodel, DOE : LHS 200  ==> Max Deflection"
   ]
  },
  {
   "cell_type": "code",
   "execution_count": 12,
   "metadata": {},
   "outputs": [
    {
     "name": "stdout",
     "output_type": "stream",
     "text": [
      "Done !\n"
     ]
    }
   ],
   "source": [
    "kriging_doe_200_MD = metamodeling_kriging(sample_doe200_in, \n",
    "                                        sample_doe200_out_MD, \n",
    "                                        optim_type='best_start',\n",
    "                                        size_multistart = 100,\n",
    "\n",
    "                                        lower_bound = None,\n",
    "                                        upper_bound = None)\n",
    "kriging_doe_200_MD.run()"
   ]
  },
  {
   "cell_type": "code",
   "execution_count": 13,
   "metadata": {},
   "outputs": [
    {
     "name": "stdout",
     "output_type": "stream",
     "text": [
      "NaN values found at index: []\n"
     ]
    }
   ],
   "source": [
    "kriging_doe_200_MD.getMetaModelValidation(validation_sample_doe200_in, validation_sample_doe200_out_MD)\n"
   ]
  },
  {
   "cell_type": "code",
   "execution_count": 14,
   "metadata": {},
   "outputs": [
    {
     "data": {
      "image/png": "[encoded data removed]",
      "text/plain": [
       "<Figure size 432x288 with 1 Axes>"
      ]
     },
     "metadata": {
      "needs_background": "light"
     },
     "output_type": "display_data"
    }
   ],
   "source": [
    "kriging_doe_200_MD.validation_results.getGraphs()"
   ]
  },
  {
   "cell_type": "markdown",
   "metadata": {},
   "source": [
    "## Comparison of the sensitivity analysis parts. Let's do the sensitivty analysis of the 3 metamodels.\n",
    "\n",
    "We will first have to load the sample intended to the calculus of the sobol indices, in hope we will find no nan. "
   ]
  },
  {
   "cell_type": "code",
   "execution_count": 15,
   "metadata": {},
   "outputs": [
    {
     "data": {
      "text/plain": [
       "12000"
      ]
     },
     "execution_count": 15,
     "metadata": {},
     "output_type": "execute_result"
    }
   ],
   "source": [
    "si_2000_in = pd.read_csv('DOE_RESP2/si_doe2000_720442.csv', sep=';')\n",
    "si_2000_out_MD = pd.read_csv('DOE_RESP2/si_doe2000_720442_resp_MD.csv', sep=';',header=None)\n",
    "si_2000_out_VM = pd.read_csv('DOE_RESP2/si_doe2000_720442_resp_VM.csv', sep=';',header=None)\n",
    "#Samples\n",
    "sample_si_2000_in = ot.Sample(si_2000_in.values)\n",
    "sample_si_2000_in.setDescription(si_2000_in.columns)\n",
    "\n",
    "sample_si_2000_out_MD = ot.Sample(si_2000_out_MD.values)\n",
    "sample_si_2000_out_MD.setDescription(ot.Description.BuildDefault(len(si_2000_out_MD.columns), 'MD_'))\n",
    "\n",
    "sample_si_2000_out_VM = ot.Sample(si_2000_out_VM.values)\n",
    "sample_si_2000_out_VM.setDescription(ot.Description.BuildDefault(len(si_2000_out_VM.columns), 'VM_'))\n",
    "\n",
    "si_1000_in = pd.read_csv('DOE_RESP2/si_doe1000_248214.csv', sep=';')\n",
    "si_1000_out_MD = pd.read_csv('DOE_RESP2/si_doe1000_248214_resp_MD.csv', sep=';',header=None)\n",
    "si_1000_out_VM = pd.read_csv('DOE_RESP2/si_doe1000_248214_resp_VM.csv', sep=';',header=None)\n",
    "#Samples\n",
    "sample_si_1000_in = ot.Sample(si_1000_in.values)\n",
    "sample_si_1000_in.setDescription(si_1000_in.columns)\n",
    "\n",
    "sample_si_1000_out_MD = ot.Sample(si_1000_out_MD.values)\n",
    "sample_si_1000_out_MD.setDescription(ot.Description.BuildDefault(len(si_1000_out_MD.columns), 'MD_'))\n",
    "\n",
    "sample_si_1000_out_VM = ot.Sample(si_1000_out_VM.values)\n",
    "sample_si_1000_out_VM.setDescription(ot.Description.BuildDefault(len(si_1000_out_VM.columns), 'VM_'))\n",
    "sample_si_2000_in.getSize()"
   ]
  },
  {
   "cell_type": "code",
   "execution_count": 16,
   "metadata": {},
   "outputs": [
    {
     "name": "stdout",
     "output_type": "stream",
     "text": [
      "n vars is 4\n",
      "N_max is 12000\n",
      "args where nan :  []\n",
      "Where we are erasing: []\n",
      "N is now:  2000\n"
     ]
    },
    {
     "data": {
      "text/plain": [
       "12000"
      ]
     },
     "execution_count": 16,
     "metadata": {},
     "output_type": "execute_result"
    }
   ],
   "source": [
    "N_2000 = ereaseNanFromSample(sample_si_2000_in, sample_si_2000_out_MD, 2000, False)\n",
    "sample_si_2000_in.getSize()\n"
   ]
  },
  {
   "cell_type": "code",
   "execution_count": 17,
   "metadata": {},
   "outputs": [
    {
     "name": "stdout",
     "output_type": "stream",
     "text": [
      "N is 12000\n",
      "Simplified view of the sobol indices experiments structure\n",
      "There are 19 dimensions and 4 sobol indices to calculate\n",
      "\n",
      "    A_0  ,    A_1  ,    A_2  ,    A_3  ,    A_4  ,    A_5  ,    A_6  ,    A_7  ,    A_8  ,    A_9  ,    A_10  ,    A_11  ,    A_12  ,    A_13  ,    A_14  ,    A_15  ,    A_16  ,    A_17  ,    A_18 \n",
      "\n",
      "    B_0  ,    B_1  ,    B_2  ,    B_3  ,    B_4  ,    B_5  ,    B_6  ,    B_7  ,    B_8  ,    B_9  ,    B_10  ,    B_11  ,    B_12  ,    B_13  ,    B_14  ,    B_15  ,    B_16  ,    B_17  ,    B_18 \n",
      "\n",
      "    B_0  ,    B_1  ,    B_2  ,    B_3  ,    B_4  ,    B_5  ,    B_6  ,    A_7  ,    A_8  ,    A_9  ,    A_10  ,    A_11  ,    A_12  ,    A_13  ,    A_14  ,    A_15  ,    A_16  ,    A_17  ,    A_18 \n",
      "\n",
      "    A_0  ,    A_1  ,    A_2  ,    A_3  ,    A_4  ,    A_5  ,    A_6  ,    B_7  ,    B_8  ,    B_9  ,    B_10  ,    B_11  ,    B_12  ,    B_13  ,    B_14  ,    B_15  ,    B_16  ,    A_17  ,    A_18 \n",
      "\n",
      "    A_0  ,    A_1  ,    A_2  ,    A_3  ,    A_4  ,    A_5  ,    A_6  ,    A_7  ,    A_8  ,    A_9  ,    A_10  ,    A_11  ,    A_12  ,    A_13  ,    A_14  ,    A_15  ,    A_16  ,    B_17  ,    A_18 \n",
      "\n",
      "    A_0  ,    A_1  ,    A_2  ,    A_3  ,    A_4  ,    A_5  ,    A_6  ,    A_7  ,    A_8  ,    A_9  ,    A_10  ,    A_11  ,    A_12  ,    A_13  ,    A_14  ,    A_15  ,    A_16  ,    A_17  ,    B_18\n"
     ]
    },
    {
     "data": {
      "text/plain": [
       "True"
      ]
     },
     "execution_count": 17,
     "metadata": {},
     "output_type": "execute_result"
    }
   ],
   "source": [
    "sample_si_2000_in[7777,5]=256\n",
    "isValidSobolIndicesExperiment(sample_si_2000_in,N_2000)\n"
   ]
  },
  {
   "cell_type": "code",
   "execution_count": 18,
   "metadata": {},
   "outputs": [
    {
     "name": "stdout",
     "output_type": "stream",
     "text": [
      "NaN values found at index: []\n"
     ]
    },
    {
     "data": {
      "image/png": "[encoded data removed]",
      "text/plain": [
       "<Figure size 432x288 with 1 Axes>"
      ]
     },
     "metadata": {
      "needs_background": "light"
     },
     "output_type": "display_data"
    }
   ],
   "source": [
    "kriging_doe_200_MD.getMetaModelValidation(sample_si_2000_in, sample_si_2000_out_MD)\n",
    "kriging_doe_200_MD.validation_results.getGraphs()\n",
    "#Astuce / plan d'experience en augmentant coeff de variation des variables"
   ]
  },
  {
   "cell_type": "code",
   "execution_count": 19,
   "metadata": {},
   "outputs": [
    {
     "name": "stdout",
     "output_type": "stream",
     "text": [
      "n vars is 4\n",
      "N_max is 6000\n",
      "args where nan :  []\n",
      "Where we are erasing: []\n",
      "N is now:  1000\n"
     ]
    }
   ],
   "source": [
    "N_1000 = ereaseNanFromSample(sample_si_1000_in, sample_si_1000_out_MD, 1000, False)"
   ]
  },
  {
   "cell_type": "code",
   "execution_count": 20,
   "metadata": {},
   "outputs": [
    {
     "name": "stdout",
     "output_type": "stream",
     "text": [
      "NaN values found at index: []\n"
     ]
    },
    {
     "data": {
      "image/png": "[encoded data removed]",
      "text/plain": [
       "<Figure size 432x288 with 1 Axes>"
      ]
     },
     "metadata": {
      "needs_background": "light"
     },
     "output_type": "display_data"
    }
   ],
   "source": [
    "kriging_doe_200_MD.getMetaModelValidation(sample_si_1000_in, sample_si_1000_out_MD)\n",
    "kriging_doe_200_MD.validation_results.getGraphs()"
   ]
  },
  {
   "cell_type": "code",
   "execution_count": 21,
   "metadata": {},
   "outputs": [
    {
     "name": "stdout",
     "output_type": "stream",
     "text": [
      "size initialized 6000\n",
      "Warning : Always pass the computeSecondOrder argument\n",
      "if you also pass the data to compute it\n",
      "Otherwise, the behavior will be unreliable\n",
      "\n",
      "Means is\n",
      " [20.7138]\n",
      "design_elem size, dim 6000 1\n",
      "There are 4 indices to get for 1 outputs with dimensions 1 each.\n",
      "Description all same? [X_0_0,X_0_1,X_0_2,X_0_3,X_0_4,X_0_5,X_0_6,X_1_0,X_1_1,X_1_2,X_1_3,X_1_4,X_1_5,X_1_6,X_1_7,X_1_8,X_1_9,X_2_0,X_3_0]#19\n",
      "SobolIndicesName ['X_0', 'X_1', 'X_2', 'X_3']\n",
      "Input Description is, ['X_0', 'X_1', 'X_2', 'X_3']\n"
     ]
    }
   ],
   "source": [
    "sensitivityAnalysis_REAL_MODEL_1000 = klfs.SobolKarhunenLoeveFieldSensitivityAlgorithm()\n",
    "sensitivityAnalysis_REAL_MODEL_1000.setDesign(sample_si_1000_in, sample_si_1000_out_MD, N_1000)\n",
    "sensitivityAnalysis_REAL_MODEL_1000.setEstimator(ot.SaltelliSensitivityAlgorithm())"
   ]
  },
  {
   "cell_type": "code",
   "execution_count": 22,
   "metadata": {},
   "outputs": [],
   "source": [
    "import spsa \n"
   ]
  },
  {
   "cell_type": "code",
   "execution_count": 23,
   "metadata": {},
   "outputs": [
    {
     "name": "stdout",
     "output_type": "stream",
     "text": [
      "Implicit dimension = 4\n",
      "Implicit description: [X0,X1,X2,X3]\n",
      "There are 4 indices to get in (1,) dimensions with 1 elements\n",
      "Indices successfully calculated\n"
     ]
    },
    {
     "data": {
      "text/plain": [
       "array([0.11734262, 0.95704434, 0.06066608, 0.15238758])"
      ]
     },
     "execution_count": 23,
     "metadata": {},
     "output_type": "execute_result"
    }
   ],
   "source": [
    "analysis = spsa.SobolIndicesStochasticProcessAlgorithm(np.array(sample_si_1000_out_MD),N_1000)\n",
    "analysis.getFirstOrderIndices()   ##### THE SOBOL INDICES CALCULUS IS RIGHT!!!! "
   ]
  },
  {
   "cell_type": "code",
   "execution_count": 24,
   "metadata": {},
   "outputs": [
    {
     "name": "stdout",
     "output_type": "stream",
     "text": [
      "Solving...\n",
      " size of samples:  6000\n",
      " number of indices to get 4\n"
     ]
    },
    {
     "data": {
      "text/plain": [
       "[class=Point name=Sobol_Unnamed_X_0 dimension=1 values=[0.117343],\n",
       " class=Point name=Sobol_Unnamed_X_1 dimension=1 values=[0.957083],\n",
       " class=Point name=Sobol_Unnamed_X_2 dimension=1 values=[0.0606707],\n",
       " class=Point name=Sobol_Unnamed_X_3 dimension=1 values=[0.152424]]"
      ]
     },
     "execution_count": 24,
     "metadata": {},
     "output_type": "execute_result"
    }
   ],
   "source": [
    "sensitivityAnalysis_REAL_MODEL_1000.getFirstOrderIndices()[0]"
   ]
  },
  {
   "cell_type": "code",
   "execution_count": 25,
   "metadata": {},
   "outputs": [],
   "source": [
    "sensitivityAnalysis_REAL_MODEL_1000.__results__[0].getFirstOrderIndicesDistribution().getMarginal(0).getStandardDeviation()\n",
    "res = sensitivityAnalysis_REAL_MODEL_1000.__results__[0]"
   ]
  },
  {
   "cell_type": "code",
   "execution_count": 26,
   "metadata": {},
   "outputs": [
    {
     "data": {
      "text/html": [
       "<p>[0.0242711, 0.200873]<br>\n",
       "[0.79873, 1.14271]<br>\n",
       "[-0.0223008, 0.144791]<br>\n",
       "[0.0763594, 0.231285]</p>"
      ],
      "text/plain": [
       "class=Interval name=Bounds_Sobol_Unnamed dimension=4 lower bound=class=Point name=Unnamed dimension=4 values=[0.0242711,0.79873,-0.0223008,0.0763594] upper bound=class=Point name=Unnamed dimension=4 values=[0.200873,1.14271,0.144791,0.231285] finite lower bound=[1,1,1,1] finite upper bound=[1,1,1,1]"
      ]
     },
     "execution_count": 26,
     "metadata": {},
     "output_type": "execute_result"
    }
   ],
   "source": [
    "sensitivityAnalysis_REAL_MODEL_1000.getFirstOrderIndicesInterval()[0]"
   ]
  },
  {
   "cell_type": "code",
   "execution_count": 27,
   "metadata": {
    "scrolled": true
   },
   "outputs": [
    {
     "data": {
      "text/plain": [
       "[class=Point name=TotalOrderSobol_Unnamed_X_0 dimension=1 values=[0.0486779],\n",
       " class=Point name=TotalOrderSobol_Unnamed_X_1 dimension=1 values=[0.828547],\n",
       " class=Point name=TotalOrderSobol_Unnamed_X_2 dimension=1 values=[0.00428605],\n",
       " class=Point name=TotalOrderSobol_Unnamed_X_3 dimension=1 values=[0.0677558]]"
      ]
     },
     "execution_count": 27,
     "metadata": {},
     "output_type": "execute_result"
    }
   ],
   "source": [
    "sensitivityAnalysis_REAL_MODEL_1000.getTotalOrderIndices()[0]"
   ]
  },
  {
   "cell_type": "code",
   "execution_count": 28,
   "metadata": {},
   "outputs": [
    {
     "name": "stdout",
     "output_type": "stream",
     "text": [
      "size initialized 12000\n",
      "Warning : Always pass the computeSecondOrder argument\n",
      "if you also pass the data to compute it\n",
      "Otherwise, the behavior will be unreliable\n",
      "\n",
      "Means is\n",
      " [20.6965]\n",
      "design_elem size, dim 12000 1\n",
      "There are 4 indices to get for 1 outputs with dimensions 1 each.\n",
      "Description all same? [X_0_0,X_0_1,X_0_2,X_0_3,X_0_4,X_0_5,X_0_6,X_1_0,X_1_1,X_1_2,X_1_3,X_1_4,X_1_5,X_1_6,X_1_7,X_1_8,X_1_9,X_2_0,X_3_0]#19\n",
      "SobolIndicesName ['X_0', 'X_1', 'X_2', 'X_3']\n",
      "Input Description is, ['X_0', 'X_1', 'X_2', 'X_3']\n",
      "Solving...\n",
      " size of samples:  12000\n",
      " number of indices to get 4\n"
     ]
    },
    {
     "data": {
      "text/plain": [
       "[class=Point name=Sobol_Unnamed_X_0 dimension=1 values=[0.0778157],\n",
       " class=Point name=Sobol_Unnamed_X_1 dimension=1 values=[0.820848],\n",
       " class=Point name=Sobol_Unnamed_X_2 dimension=1 values=[0.0154385],\n",
       " class=Point name=Sobol_Unnamed_X_3 dimension=1 values=[0.0885859]]"
      ]
     },
     "execution_count": 28,
     "metadata": {},
     "output_type": "execute_result"
    }
   ],
   "source": [
    "sensitivityAnalysis_REAL_MODEL_2000 = klfs.SobolKarhunenLoeveFieldSensitivityAlgorithm()\n",
    "sensitivityAnalysis_REAL_MODEL_2000.setDesign(sample_si_2000_in, sample_si_2000_out_MD, N_2000)\n",
    "sensitivityAnalysis_REAL_MODEL_2000.setEstimator(ot.SaltelliSensitivityAlgorithm())\n",
    "sensitivityAnalysis_REAL_MODEL_2000.getFirstOrderIndices()[0]"
   ]
  },
  {
   "cell_type": "code",
   "execution_count": 29,
   "metadata": {},
   "outputs": [],
   "source": [
    "si_8000_in = pd.read_csv('DOE_RESP2/si_doe8000_439038.csv', sep=';')\n",
    "si_8000_out_MD = pd.read_csv('DOE_RESP2/si_doe8000_439038_resp_MD.csv', sep=';',header=None)\n",
    "si_8000_out_VM = pd.read_csv('DOE_RESP2/si_doe8000_439038_resp_VM.csv', sep=';',header=None)\n",
    "#Samples\n",
    "sample_si_8000_in = ot.Sample(si_8000_in.values)\n",
    "sample_si_8000_in.setDescription(si_8000_in.columns)\n",
    "\n",
    "sample_si_8000_out_MD = ot.Sample(si_8000_out_MD.values)\n",
    "sample_si_8000_out_MD.setDescription(ot.Description.BuildDefault(len(si_8000_out_MD.columns), 'MD_'))\n",
    "\n",
    "sample_si_8000_out_VM = ot.Sample(si_8000_out_VM.values)\n",
    "sample_si_8000_out_VM.setDescription(ot.Description.BuildDefault(len(si_8000_out_VM.columns), 'VM_'))"
   ]
  },
  {
   "cell_type": "code",
   "execution_count": 30,
   "metadata": {},
   "outputs": [
    {
     "name": "stdout",
     "output_type": "stream",
     "text": [
      "Where nan: []\n",
      "toErease is set()\n",
      "N= 8000\n"
     ]
    }
   ],
   "source": [
    "whereNan = np.argwhere(np.isnan(sample_si_8000_out_MD))[:,0].tolist()\n",
    "N = 8000\n",
    "N_MAX = 8000*7\n",
    "toDelete = set()\n",
    "print('Where nan:', whereNan)\n",
    "for idx in whereNan:\n",
    "    toErease = list(range(idx%8000,N_MAX,N))\n",
    "    [toDelete.add(elem) for elem in toErease]\n",
    "print('toErease is', toDelete)\n",
    "toDelete = list(toDelete)\n",
    "N-=int(len(toDelete)/7)\n",
    "for idx in sorted(toDelete)[::-1] :\n",
    "    sample_si_8000_in.erase(idx)\n",
    "    sample_si_8000_out_MD.erase(idx)\n",
    "print('N=',N)"
   ]
  },
  {
   "cell_type": "code",
   "execution_count": 31,
   "metadata": {},
   "outputs": [
    {
     "name": "stdout",
     "output_type": "stream",
     "text": [
      "size initialized 48000\n",
      "Warning : Always pass the computeSecondOrder argument\n",
      "if you also pass the data to compute it\n",
      "Otherwise, the behavior will be unreliable\n",
      "\n",
      "Means is\n",
      " [20.7134]\n",
      "design_elem size, dim 48000 1\n",
      "There are 4 indices to get for 1 outputs with dimensions 1 each.\n",
      "Description all same? [X_0_0,X_0_1,X_0_2,X_0_3,X_0_4,X_0_5,X_0_6,X_1_0,X_1_1,X_1_2,X_1_3,X_1_4,X_1_5,X_1_6,X_1_7,X_1_8,X_1_9,X_2_0,X_3_0]#19\n",
      "SobolIndicesName ['X_0', 'X_1', 'X_2', 'X_3']\n",
      "Input Description is, ['X_0', 'X_1', 'X_2', 'X_3']\n"
     ]
    }
   ],
   "source": [
    "sensitivityAnalysis_REAL_MODEL2 = klfs.SobolKarhunenLoeveFieldSensitivityAlgorithm()\n",
    "sensitivityAnalysis_REAL_MODEL2.setDesign(sample_si_8000_in, sample_si_8000_out_MD, N)\n",
    "sensitivityAnalysis_REAL_MODEL2.setEstimator(ot.SaltelliSensitivityAlgorithm())"
   ]
  },
  {
   "cell_type": "code",
   "execution_count": 32,
   "metadata": {},
   "outputs": [
    {
     "name": "stdout",
     "output_type": "stream",
     "text": [
      "Solving...\n",
      " size of samples:  48000\n",
      " number of indices to get 4\n"
     ]
    },
    {
     "data": {
      "text/plain": [
       "[[class=Point name=Sobol_Unnamed_X_0 dimension=1 values=[0.0611715],\n",
       "  class=Point name=Sobol_Unnamed_X_1 dimension=1 values=[0.863026],\n",
       "  class=Point name=Sobol_Unnamed_X_2 dimension=1 values=[-6.35862e-05],\n",
       "  class=Point name=Sobol_Unnamed_X_3 dimension=1 values=[0.0740651]]]"
      ]
     },
     "execution_count": 32,
     "metadata": {},
     "output_type": "execute_result"
    }
   ],
   "source": [
    "sensitivityAnalysis_REAL_MODEL2.getFirstOrderIndices()"
   ]
  },
  {
   "cell_type": "code",
   "execution_count": 33,
   "metadata": {},
   "outputs": [
    {
     "data": {
      "text/plain": [
       "[[class=Point name=TotalOrderSobol_Unnamed_X_0 dimension=1 values=[0.0633216],\n",
       "  class=Point name=TotalOrderSobol_Unnamed_X_1 dimension=1 values=[0.869045],\n",
       "  class=Point name=TotalOrderSobol_Unnamed_X_2 dimension=1 values=[0.00163586],\n",
       "  class=Point name=TotalOrderSobol_Unnamed_X_3 dimension=1 values=[0.0742474]]]"
      ]
     },
     "execution_count": 33,
     "metadata": {},
     "output_type": "execute_result"
    }
   ],
   "source": [
    "sensitivityAnalysis_REAL_MODEL2.getTotalOrderIndices()"
   ]
  },
  {
   "cell_type": "markdown",
   "metadata": {},
   "source": [
    "As in this new sensitivity analysis are totally different from our first one, we have to check if either this analysis or the other is broken. For this we are first going to calculate the first and second order indices to see if something changes. "
   ]
  },
  {
   "cell_type": "code",
   "execution_count": 34,
   "metadata": {},
   "outputs": [],
   "source": [
    "si_sec_2000_in = pd.read_csv('DOE_RESP/si_sec_doe2000_8291001288.csv', sep=';')\n",
    "si_sec_2000_out_MD = pd.read_csv('DOE_RESP/si_sec_doe2000_8291001288_resp_MD.csv', sep=';',header=None)\n",
    "si_sec_2000_out_VM = pd.read_csv('DOE_RESP/si_sec_doe2000_8291001288_resp_VM.csv', sep=';',header=None)\n",
    "#Samples\n",
    "sample_si_sec_2000_in = ot.Sample(si_sec_2000_in.values)\n",
    "sample_si_sec_2000_in.setDescription(si_sec_2000_in.columns)\n",
    "\n",
    "sample_si_sec_2000_out_MD = ot.Sample(si_sec_2000_out_MD.values)\n",
    "sample_si_sec_2000_out_MD.setDescription(ot.Description.BuildDefault(len(si_sec_2000_out_MD.columns), 'MD_'))\n",
    "\n",
    "sample_si_sec_2000_out_VM = ot.Sample(si_sec_2000_out_VM.values)\n",
    "sample_si_sec_2000_out_VM.setDescription(ot.Description.BuildDefault(len(si_sec_2000_out_VM.columns), 'VM_'))"
   ]
  },
  {
   "cell_type": "code",
   "execution_count": 35,
   "metadata": {},
   "outputs": [
    {
     "name": "stdout",
     "output_type": "stream",
     "text": [
      "n vars is 5\n",
      "N_max is 24000\n",
      "args where nan :  []\n",
      "Where we are erasing: []\n",
      "N is now:  2000\n"
     ]
    }
   ],
   "source": [
    "N_sec_2000 = ereaseNanFromSample(sample_si_sec_2000_in , sample_si_sec_2000_out_MD, 2000, True)\n"
   ]
  },
  {
   "cell_type": "code",
   "execution_count": 36,
   "metadata": {},
   "outputs": [
    {
     "name": "stdout",
     "output_type": "stream",
     "text": [
      "N is 24000\n",
      "Simplified view of the sobol indices experiments structure\n",
      "There are 20 dimensions and 10 sobol indices to calculate\n",
      "\n",
      "    A_0  ,    A_1  ,    A_2  ,    A_3  ,    A_4  ,    A_5  ,    A_6  ,    A_7  ,    A_8  ,    A_9  ,    A_10  ,    A_11  ,    A_12  ,    A_13  ,    A_14  ,    A_15  ,    A_16  ,    A_17  ,    A_18  ,    A_19 \n",
      "\n",
      "    B_0  ,    B_1  ,    B_2  ,    B_3  ,    B_4  ,    B_5  ,    B_6  ,    B_7  ,    B_8  ,    B_9  ,    B_10  ,    B_11  ,    B_12  ,    B_13  ,    B_14  ,    B_15  ,    B_16  ,    B_17  ,    B_18  ,    B_19 \n",
      "\n",
      "    B_0  ,    B_1  ,    B_2  ,    B_3  ,    B_4  ,    B_5  ,    B_6  ,    A_7  ,    A_8  ,    A_9  ,    A_10  ,    A_11  ,    A_12  ,    A_13  ,    A_14  ,    A_15  ,    A_16  ,    A_17  ,    A_18  ,    A_19 \n",
      "\n",
      "    A_0  ,    A_1  ,    A_2  ,    A_3  ,    A_4  ,    A_5  ,    A_6  ,    B_7  ,    B_8  ,    B_9  ,    B_10  ,    B_11  ,    B_12  ,    B_13  ,    B_14  ,    B_15  ,    B_16  ,    A_17  ,    A_18  ,    A_19 \n",
      "\n",
      "    A_0  ,    A_1  ,    A_2  ,    A_3  ,    A_4  ,    A_5  ,    A_6  ,    A_7  ,    A_8  ,    A_9  ,    A_10  ,    A_11  ,    A_12  ,    A_13  ,    A_14  ,    A_15  ,    A_16  ,    B_17  ,    A_18  ,    A_19 \n",
      "\n",
      "    A_0  ,    A_1  ,    A_2  ,    A_3  ,    A_4  ,    A_5  ,    A_6  ,    A_7  ,    A_8  ,    A_9  ,    A_10  ,    A_11  ,    A_12  ,    A_13  ,    A_14  ,    A_15  ,    A_16  ,    A_17  ,    B_18  ,    A_19 \n",
      "\n",
      "    A_0  ,    A_1  ,    A_2  ,    A_3  ,    A_4  ,    A_5  ,    A_6  ,    A_7  ,    A_8  ,    A_9  ,    A_10  ,    A_11  ,    A_12  ,    A_13  ,    A_14  ,    A_15  ,    A_16  ,    A_17  ,    A_18  ,    B_19 \n",
      "\n",
      "    A_0  ,    A_1  ,    A_2  ,    A_3  ,    A_4  ,    A_5  ,    A_6  ,    B_7  ,    B_8  ,    B_9  ,    B_10  ,    B_11  ,    B_12  ,    B_13  ,    B_14  ,    B_15  ,    B_16  ,    B_17  ,    B_18  ,    B_19 \n",
      "\n",
      "    B_0  ,    B_1  ,    B_2  ,    B_3  ,    B_4  ,    B_5  ,    B_6  ,    A_7  ,    A_8  ,    A_9  ,    A_10  ,    A_11  ,    A_12  ,    A_13  ,    A_14  ,    A_15  ,    A_16  ,    B_17  ,    B_18  ,    B_19 \n",
      "\n",
      "    B_0  ,    B_1  ,    B_2  ,    B_3  ,    B_4  ,    B_5  ,    B_6  ,    B_7  ,    B_8  ,    B_9  ,    B_10  ,    B_11  ,    B_12  ,    B_13  ,    B_14  ,    B_15  ,    B_16  ,    A_17  ,    B_18  ,    B_19 \n",
      "\n",
      "    B_0  ,    B_1  ,    B_2  ,    B_3  ,    B_4  ,    B_5  ,    B_6  ,    B_7  ,    B_8  ,    B_9  ,    B_10  ,    B_11  ,    B_12  ,    B_13  ,    B_14  ,    B_15  ,    B_16  ,    B_17  ,    A_18  ,    B_19 \n",
      "\n",
      "    B_0  ,    B_1  ,    B_2  ,    B_3  ,    B_4  ,    B_5  ,    B_6  ,    B_7  ,    B_8  ,    B_9  ,    B_10  ,    B_11  ,    B_12  ,    B_13  ,    B_14  ,    B_15  ,    B_16  ,    B_17  ,    B_18  ,    A_19\n"
     ]
    },
    {
     "data": {
      "text/plain": [
       "True"
      ]
     },
     "execution_count": 36,
     "metadata": {},
     "output_type": "execute_result"
    }
   ],
   "source": [
    "isValidSobolIndicesExperiment(sample_si_sec_2000_in, N_sec_2000,True)"
   ]
  },
  {
   "cell_type": "code",
   "execution_count": 37,
   "metadata": {},
   "outputs": [
    {
     "name": "stdout",
     "output_type": "stream",
     "text": [
      "size initialized 24000\n",
      "Warning : Always pass the computeSecondOrder argument\n",
      "if you also pass the data to compute it\n",
      "Otherwise, the behavior will be unreliable\n",
      "\n",
      "Means is\n",
      " [21.5161]\n",
      "design_elem size, dim 24000 1\n",
      "There are 10 indices to get for 1 outputs with dimensions 1 each.\n",
      "Description all same? [X_0_0,X_0_1,X_0_2,X_0_3,X_0_4,X_0_5,X_0_6,X_1_0,X_1_1,X_1_2,X_1_3,X_1_4,X_1_5,X_1_6,X_1_7,X_1_8,X_1_9,X_2_0,X_3_0,X_4_0]#20\n",
      "SobolIndicesName ['X_0', 'X_1', 'X_2', 'X_3', 'X_4']\n",
      "Input Description is, ['X_0', 'X_1', 'X_2', 'X_3', 'X_4']\n",
      "size initialized 24000\n",
      "Means is\n",
      " [21.5161]\n",
      "design_elem size, dim 24000 1\n",
      "There are 5 indices to get for 1 outputs with dimensions 1 each.\n",
      "Description all same? [X_0_0,X_0_1,X_0_2,X_0_3,X_0_4,X_0_5,X_0_6,X_1_0,X_1_1,X_1_2,X_1_3,X_1_4,X_1_5,X_1_6,X_1_7,X_1_8,X_1_9,X_2_0,X_3_0,X_4_0]#20\n",
      "SobolIndicesName ['X_0', 'X_1', 'X_2', 'X_3', 'X_4']\n",
      "Input Description is, ['X_0', 'X_1', 'X_2', 'X_3', 'X_4']\n"
     ]
    }
   ],
   "source": [
    "sensitivityAnalysis_REAL_MODEL2 = klfs.SobolKarhunenLoeveFieldSensitivityAlgorithm()\n",
    "sensitivityAnalysis_REAL_MODEL2.setDesign(sample_si_sec_2000_in, sample_si_sec_2000_out_MD, N_sec_2000)\n",
    "sensitivityAnalysis_REAL_MODEL2.setEstimator(ot.SaltelliSensitivityAlgorithm())\n",
    "sensitivityAnalysis_REAL_MODEL2.setComputeSecondOrder(True)"
   ]
  },
  {
   "cell_type": "code",
   "execution_count": 38,
   "metadata": {},
   "outputs": [
    {
     "data": {
      "text/plain": [
       "24000"
      ]
     },
     "execution_count": 38,
     "metadata": {},
     "output_type": "execute_result"
    }
   ],
   "source": [
    "sensitivityAnalysis_REAL_MODEL2.inputDescription\n",
    "sensitivityAnalysis_REAL_MODEL2.__nSobolIndices__\n",
    "sensitivityAnalysis_REAL_MODEL2.size"
   ]
  },
  {
   "cell_type": "code",
   "execution_count": 39,
   "metadata": {},
   "outputs": [
    {
     "name": "stdout",
     "output_type": "stream",
     "text": [
      "Solving...\n",
      " size of samples:  24000\n",
      " number of indices to get 5\n"
     ]
    },
    {
     "data": {
      "text/plain": [
       "[[class=Point name=Sobol_Unnamed_X_0 dimension=1 values=[0.901938],\n",
       "  class=Point name=Sobol_Unnamed_X_1 dimension=1 values=[0.142138],\n",
       "  class=Point name=Sobol_Unnamed_X_2 dimension=1 values=[0.00531224],\n",
       "  class=Point name=Sobol_Unnamed_X_3 dimension=1 values=[0.00594331],\n",
       "  class=Point name=Sobol_Unnamed_X_4 dimension=1 values=[0.0452291]]]"
      ]
     },
     "execution_count": 39,
     "metadata": {},
     "output_type": "execute_result"
    }
   ],
   "source": [
    "sensitivityAnalysis_REAL_MODEL2.getFirstOrderIndices()"
   ]
  },
  {
   "cell_type": "code",
   "execution_count": 40,
   "metadata": {
    "scrolled": true
   },
   "outputs": [
    {
     "name": "stdout",
     "output_type": "stream",
     "text": [
      "This makes a problem: [class=SymmetricMatrix dimension=5 implementation=class=MatrixImplementation name=Unnamed rows=5 columns=5 values=[0,-0.137989,-0.117348,-0.103721,-0.11729,-0.137989,0,-0.0097177,-0.00813538,-0.0111993,-0.117348,-0.0097177,0,-0.0106218,-0.0106218,-0.103721,-0.00813538,-0.0106218,0,-0.0112653,-0.11729,-0.0111993,-0.0106218,-0.0112653,0]]\n"
     ]
    },
    {
     "data": {
      "text/plain": [
       "[class=SymmetricMatrix dimension=5 implementation=class=MatrixImplementation name=Unnamed rows=5 columns=5 values=[0,-0.137989,-0.117348,-0.103721,-0.11729,-0.137989,0,-0.0097177,-0.00813538,-0.0111993,-0.117348,-0.0097177,0,-0.0106218,-0.0106218,-0.103721,-0.00813538,-0.0106218,0,-0.0112653,-0.11729,-0.0111993,-0.0106218,-0.0112653,0]]"
      ]
     },
     "execution_count": 40,
     "metadata": {},
     "output_type": "execute_result"
    }
   ],
   "source": [
    "sensitivityAnalysis_REAL_MODEL2.getSecondOrderIndices()"
   ]
  },
  {
   "cell_type": "code",
   "execution_count": 41,
   "metadata": {},
   "outputs": [],
   "source": [
    "si_10000_in = pd.read_csv('./inp_10000.csv', sep=';')\n",
    "si_10000_out_MD = pd.read_csv('./out_10000_MD.csv', sep=';')\n",
    "si_10000_out_VM = pd.read_csv('./out_10000_VM.csv', sep=';')"
   ]
  },
  {
   "cell_type": "code",
   "execution_count": 42,
   "metadata": {},
   "outputs": [],
   "source": [
    "si_10000_in = pd.read_csv('./inp_10000.csv', sep=';')\n",
    "si_10000_out_MD = pd.read_csv('./out_10000_MD.csv', sep=';',header=None)\n",
    "si_10000_out_VM = pd.read_csv('./out_10000_VM.csv', sep=';',header=None)\n",
    "#Samples\n",
    "sample_si_10000_in = ot.Sample(si_10000_in.values)\n",
    "sample_si_10000_in.setDescription(si_10000_in.columns)\n",
    "\n",
    "sample_si_10000_out_MD = ot.Sample(si_10000_out_MD.values)\n",
    "sample_si_10000_out_MD.setDescription(ot.Description.BuildDefault(len(si_10000_out_MD.columns), 'MD_'))\n",
    "\n",
    "sample_si_10000_out_VM = ot.Sample(si_10000_out_VM.values)\n",
    "sample_si_10000_out_VM.setDescription(ot.Description.BuildDefault(len(si_10000_out_VM.columns), 'VM_'))"
   ]
  },
  {
   "cell_type": "code",
   "execution_count": 43,
   "metadata": {},
   "outputs": [
    {
     "name": "stdout",
     "output_type": "stream",
     "text": [
      "size initialized 60000\n",
      "Warning : Always pass the computeSecondOrder argument\n",
      "if you also pass the data to compute it\n",
      "Otherwise, the behavior will be unreliable\n",
      "\n",
      "Means is\n",
      " [20.7275]\n",
      "design_elem size, dim 60000 1\n",
      "There are 4 indices to get for 1 outputs with dimensions 1 each.\n",
      "Description all same? [X_0_0,X_0_1,X_0_2,X_0_3,X_0_4,X_0_5,X_0_6,X_1_0,X_1_1,X_1_2,X_1_3,X_1_4,X_1_5,X_1_6,X_1_7,X_1_8,X_1_9,X_2_0,X_3_0]#19\n",
      "SobolIndicesName ['X_0', 'X_1', 'X_2', 'X_3']\n",
      "Input Description is, ['X_0', 'X_1', 'X_2', 'X_3']\n"
     ]
    }
   ],
   "source": [
    "sensitivityAnalysis_10000 = klfs.SobolKarhunenLoeveFieldSensitivityAlgorithm()\n",
    "sensitivityAnalysis_10000.setDesign(sample_si_10000_in, sample_si_10000_out_MD, 10000)\n",
    "sensitivityAnalysis_10000.setEstimator(ot.SaltelliSensitivityAlgorithm())"
   ]
  },
  {
   "cell_type": "code",
   "execution_count": 44,
   "metadata": {},
   "outputs": [
    {
     "name": "stdout",
     "output_type": "stream",
     "text": [
      "Solving...\n",
      " size of samples:  60000\n",
      " number of indices to get 4\n"
     ]
    },
    {
     "data": {
      "text/plain": [
       "[[class=Point name=Sobol_Unnamed_X_0 dimension=1 values=[0.0501579],\n",
       "  class=Point name=Sobol_Unnamed_X_1 dimension=1 values=[0.837902],\n",
       "  class=Point name=Sobol_Unnamed_X_2 dimension=1 values=[-0.00159541],\n",
       "  class=Point name=Sobol_Unnamed_X_3 dimension=1 values=[0.0751376]]]"
      ]
     },
     "execution_count": 44,
     "metadata": {},
     "output_type": "execute_result"
    }
   ],
   "source": [
    "sensitivityAnalysis_10000.getFirstOrderIndices()"
   ]
  },
  {
   "cell_type": "code",
   "execution_count": 45,
   "metadata": {
    "scrolled": true
   },
   "outputs": [
    {
     "data": {
      "text/html": [
       "<p>[0.0284561, 0.0697366]<br>\n",
       "[0.790927, 0.887544]<br>\n",
       "[-0.0239276, 0.0179894]<br>\n",
       "[0.0533675, 0.0965129]</p>"
      ],
      "text/plain": [
       "class=Interval name=Bounds_Sobol_Unnamed dimension=4 lower bound=class=Point name=Unnamed dimension=4 values=[0.0284561,0.790927,-0.0239276,0.0533675] upper bound=class=Point name=Unnamed dimension=4 values=[0.0697366,0.887544,0.0179894,0.0965129] finite lower bound=[1,1,1,1] finite upper bound=[1,1,1,1]"
      ]
     },
     "execution_count": 45,
     "metadata": {},
     "output_type": "execute_result"
    }
   ],
   "source": [
    "sensitivityAnalysis_10000.getFirstOrderIndicesInterval()[0]"
   ]
  },
  {
   "cell_type": "code",
   "execution_count": 46,
   "metadata": {},
   "outputs": [
    {
     "name": "stdout",
     "output_type": "stream",
     "text": [
      "size initialized 60000\n",
      "Warning : Always pass the computeSecondOrder argument\n",
      "if you also pass the data to compute it\n",
      "Otherwise, the behavior will be unreliable\n",
      "\n",
      "Means is\n",
      " [20.7275]\n",
      "design_elem size, dim 60000 1\n",
      "There are 4 indices to get for 1 outputs with dimensions 1 each.\n",
      "Description all same? [X_0_0,X_0_1,X_0_2,X_0_3,X_0_4,X_0_5,X_0_6,X_1_0,X_1_1,X_1_2,X_1_3,X_1_4,X_1_5,X_1_6,X_1_7,X_1_8,X_1_9,X_2_0,X_3_0]#19\n",
      "SobolIndicesName ['X_0', 'X_1', 'X_2', 'X_3']\n",
      "Input Description is, ['X_0', 'X_1', 'X_2', 'X_3']\n",
      "Solving...\n",
      " size of samples:  60000\n",
      " number of indices to get 4\n"
     ]
    },
    {
     "data": {
      "text/plain": [
       "[[class=Point name=Sobol_Unnamed_X_0 dimension=1 values=[0.051123],\n",
       "  class=Point name=Sobol_Unnamed_X_1 dimension=1 values=[0.859528],\n",
       "  class=Point name=Sobol_Unnamed_X_2 dimension=1 values=[-0.00161646],\n",
       "  class=Point name=Sobol_Unnamed_X_3 dimension=1 values=[0.0767474]]]"
      ]
     },
     "execution_count": 46,
     "metadata": {},
     "output_type": "execute_result"
    }
   ],
   "source": [
    "sensitivityAnalysis_10000_2 = klfs.SobolKarhunenLoeveFieldSensitivityAlgorithm()\n",
    "sensitivityAnalysis_10000_2.setDesign(sample_si_10000_in, sample_si_10000_out_MD, 10000)\n",
    "sensitivityAnalysis_10000_2.setEstimator(ot.MartinezSensitivityAlgorithm())\n",
    "sensitivityAnalysis_10000_2.getFirstOrderIndices()"
   ]
  },
  {
   "cell_type": "code",
   "execution_count": 47,
   "metadata": {},
   "outputs": [
    {
     "data": {
      "text/html": [
       "<p>[0.0261763, 0.0735559]<br>\n",
       "[0.854213, 0.865722]<br>\n",
       "[-0.0280811, 0.0209563]<br>\n",
       "[0.0500413, 0.0986617]</p>"
      ],
      "text/plain": [
       "class=Interval name=Bounds_Sobol_Unnamed dimension=4 lower bound=class=Point name=Unnamed dimension=4 values=[0.0261763,0.854213,-0.0280811,0.0500413] upper bound=class=Point name=Unnamed dimension=4 values=[0.0735559,0.865722,0.0209563,0.0986617] finite lower bound=[1,1,1,1] finite upper bound=[1,1,1,1]"
      ]
     },
     "execution_count": 47,
     "metadata": {},
     "output_type": "execute_result"
    }
   ],
   "source": [
    "sensitivityAnalysis_10000_2.getFirstOrderIndicesInterval()[0]"
   ]
  },
  {
   "cell_type": "code",
   "execution_count": 48,
   "metadata": {},
   "outputs": [],
   "source": [
    "import spsa"
   ]
  },
  {
   "cell_type": "code",
   "execution_count": 49,
   "metadata": {},
   "outputs": [
    {
     "name": "stdout",
     "output_type": "stream",
     "text": [
      "Implicit dimension = 4\n",
      "Implicit description: [X0,X1,X2,X3]\n",
      "There are 4 indices to get in (1,) dimensions with 1 elements\n",
      "Indices successfully calculated\n"
     ]
    },
    {
     "data": {
      "text/plain": [
       "array([ 0.05011829,  0.83783865, -0.00159235,  0.07515936])"
      ]
     },
     "execution_count": 49,
     "metadata": {},
     "output_type": "execute_result"
    }
   ],
   "source": [
    "analysis2 = spsa.SobolIndicesStochasticProcessAlgorithm(np.array(sample_si_10000_out_MD),10000)\n",
    "analysis2.getFirstOrderIndices()"
   ]
  },
  {
   "cell_type": "code",
   "execution_count": 50,
   "metadata": {},
   "outputs": [
    {
     "data": {
      "text/plain": [
       "array([0.01627396, 0.03526993, 0.01620656, 0.01622444])"
      ]
     },
     "execution_count": 50,
     "metadata": {},
     "output_type": "execute_result"
    }
   ],
   "source": [
    "analysis2.getFirstOrderIndicesInterval()"
   ]
  },
  {
   "cell_type": "code",
   "execution_count": 51,
   "metadata": {},
   "outputs": [],
   "source": [
    "si_50000_in = pd.read_csv('./inp_50000.csv', sep=';')\n",
    "si_50000_out_MD = pd.read_csv('./out_50000_MD.csv', sep=';',header=None)\n",
    "si_50000_out_VM = pd.read_csv('./out_50000_VM.csv', sep=';',header=None)\n",
    "#Samples\n",
    "sample_si_50000_in = ot.Sample(si_50000_in.values)\n",
    "sample_si_50000_in.setDescription(si_50000_in.columns)\n",
    "\n",
    "sample_si_50000_out_MD = ot.Sample(si_50000_out_MD.values)\n",
    "sample_si_50000_out_MD.setDescription(ot.Description.BuildDefault(len(si_50000_out_MD.columns), 'MD_'))\n",
    "\n",
    "sample_si_50000_out_VM = ot.Sample(si_50000_out_VM.values)\n",
    "sample_si_50000_out_VM.setDescription(ot.Description.BuildDefault(len(si_50000_out_VM.columns), 'VM_'))"
   ]
  },
  {
   "cell_type": "code",
   "execution_count": 52,
   "metadata": {},
   "outputs": [
    {
     "name": "stdout",
     "output_type": "stream",
     "text": [
      "size initialized 300000\n",
      "Warning : Always pass the computeSecondOrder argument\n",
      "if you also pass the data to compute it\n",
      "Otherwise, the behavior will be unreliable\n",
      "\n",
      "Means is\n",
      " [20.7659]\n",
      "design_elem size, dim 300000 1\n",
      "There are 4 indices to get for 1 outputs with dimensions 1 each.\n",
      "Description all same? [X_0_0,X_0_1,X_0_2,X_0_3,X_0_4,X_0_5,X_0_6,X_1_0,X_1_1,X_1_2,X_1_3,X_1_4,X_1_5,X_1_6,X_1_7,X_1_8,X_1_9,X_2_0,X_3_0]#19\n",
      "SobolIndicesName ['X_0', 'X_1', 'X_2', 'X_3']\n",
      "Input Description is, ['X_0', 'X_1', 'X_2', 'X_3']\n"
     ]
    }
   ],
   "source": [
    "sensitivityAnalysis_50000 = klfs.SobolKarhunenLoeveFieldSensitivityAlgorithm()\n",
    "sensitivityAnalysis_50000.setDesign(sample_si_50000_in, sample_si_50000_out_MD, 50000)\n",
    "sensitivityAnalysis_50000.setEstimator(ot.SaltelliSensitivityAlgorithm())"
   ]
  },
  {
   "cell_type": "code",
   "execution_count": 53,
   "metadata": {},
   "outputs": [
    {
     "name": "stdout",
     "output_type": "stream",
     "text": [
      "Solving...\n",
      " size of samples:  300000\n",
      " number of indices to get 4\n"
     ]
    },
    {
     "data": {
      "text/plain": [
       "[[class=Point name=Sobol_Unnamed_X_0 dimension=1 values=[0.0608891],\n",
       "  class=Point name=Sobol_Unnamed_X_1 dimension=1 values=[0.847223],\n",
       "  class=Point name=Sobol_Unnamed_X_2 dimension=1 values=[0.00667599],\n",
       "  class=Point name=Sobol_Unnamed_X_3 dimension=1 values=[0.0805131]]]"
      ]
     },
     "execution_count": 53,
     "metadata": {},
     "output_type": "execute_result"
    }
   ],
   "source": [
    "sensitivityAnalysis_50000.getFirstOrderIndices()"
   ]
  },
  {
   "cell_type": "code",
   "execution_count": 54,
   "metadata": {},
   "outputs": [
    {
     "data": {
      "text/html": [
       "<p>[0.0517646, 0.0717052]<br>\n",
       "[0.829002, 0.864777]<br>\n",
       "[-0.0030981, 0.017723]<br>\n",
       "[0.0701424, 0.0918275]</p>"
      ],
      "text/plain": [
       "class=Interval name=Bounds_Sobol_Unnamed dimension=4 lower bound=class=Point name=Unnamed dimension=4 values=[0.0517646,0.829002,-0.0030981,0.0701424] upper bound=class=Point name=Unnamed dimension=4 values=[0.0717052,0.864777,0.017723,0.0918275] finite lower bound=[1,1,1,1] finite upper bound=[1,1,1,1]"
      ]
     },
     "execution_count": 54,
     "metadata": {},
     "output_type": "execute_result"
    }
   ],
   "source": [
    "sensitivityAnalysis_50000.getFirstOrderIndicesInterval()[0]"
   ]
  },
  {
   "cell_type": "code",
   "execution_count": 55,
   "metadata": {},
   "outputs": [
    {
     "name": "stdout",
     "output_type": "stream",
     "text": [
      "size initialized 300000\n",
      "Warning : Always pass the computeSecondOrder argument\n",
      "if you also pass the data to compute it\n",
      "Otherwise, the behavior will be unreliable\n",
      "\n",
      "Means is\n",
      " [20.7659]\n",
      "design_elem size, dim 300000 1\n",
      "There are 4 indices to get for 1 outputs with dimensions 1 each.\n",
      "Description all same? [X_0_0,X_0_1,X_0_2,X_0_3,X_0_4,X_0_5,X_0_6,X_1_0,X_1_1,X_1_2,X_1_3,X_1_4,X_1_5,X_1_6,X_1_7,X_1_8,X_1_9,X_2_0,X_3_0]#19\n",
      "SobolIndicesName ['X_0', 'X_1', 'X_2', 'X_3']\n",
      "Input Description is, ['X_0', 'X_1', 'X_2', 'X_3']\n"
     ]
    }
   ],
   "source": [
    "sensitivityAnalysis_50000 = klfs.SobolKarhunenLoeveFieldSensitivityAlgorithm()\n",
    "sensitivityAnalysis_50000.setDesign(sample_si_50000_in, sample_si_50000_out_MD, 50000)\n",
    "sensitivityAnalysis_50000.setEstimator(ot.MartinezSensitivityAlgorithm())"
   ]
  },
  {
   "cell_type": "code",
   "execution_count": 56,
   "metadata": {},
   "outputs": [
    {
     "name": "stdout",
     "output_type": "stream",
     "text": [
      "Solving...\n",
      " size of samples:  300000\n",
      " number of indices to get 4\n"
     ]
    },
    {
     "data": {
      "text/plain": [
       "[[class=Point name=Sobol_Unnamed_X_0 dimension=1 values=[0.0614971],\n",
       "  class=Point name=Sobol_Unnamed_X_1 dimension=1 values=[0.862613],\n",
       "  class=Point name=Sobol_Unnamed_X_2 dimension=1 values=[0.00674429],\n",
       "  class=Point name=Sobol_Unnamed_X_3 dimension=1 values=[0.0812005]]]"
      ]
     },
     "execution_count": 56,
     "metadata": {},
     "output_type": "execute_result"
    }
   ],
   "source": [
    "sensitivityAnalysis_50000.getFirstOrderIndices()"
   ]
  },
  {
   "cell_type": "code",
   "execution_count": 57,
   "metadata": {},
   "outputs": [
    {
     "data": {
      "text/html": [
       "<p>[0.0526769, 0.072841]<br>\n",
       "[0.859877, 0.865365]<br>\n",
       "[-0.00146918, 0.0187525]<br>\n",
       "[0.0729915, 0.0941991]</p>"
      ],
      "text/plain": [
       "class=Interval name=Bounds_Sobol_Unnamed dimension=4 lower bound=class=Point name=Unnamed dimension=4 values=[0.0526769,0.859877,-0.00146918,0.0729915] upper bound=class=Point name=Unnamed dimension=4 values=[0.072841,0.865365,0.0187525,0.0941991] finite lower bound=[1,1,1,1] finite upper bound=[1,1,1,1]"
      ]
     },
     "execution_count": 57,
     "metadata": {},
     "output_type": "execute_result"
    }
   ],
   "source": [
    "sensitivityAnalysis_50000.getFirstOrderIndicesInterval()[0]"
   ]
  },
  {
   "cell_type": "code",
   "execution_count": 58,
   "metadata": {},
   "outputs": [
    {
     "name": "stdout",
     "output_type": "stream",
     "text": [
      "Implicit dimension = 4\n",
      "Implicit description: [X0,X1,X2,X3]\n",
      "There are 4 indices to get in (1,) dimensions with 1 elements\n",
      "Indices successfully calculated\n"
     ]
    },
    {
     "data": {
      "text/plain": [
       "array([0.06089348, 0.84720353, 0.00667668, 0.08050193])"
      ]
     },
     "execution_count": 58,
     "metadata": {},
     "output_type": "execute_result"
    }
   ],
   "source": [
    "analysis50000 = spsa.SobolIndicesStochasticProcessAlgorithm(np.array(sample_si_50000_out_MD),50000)\n",
    "analysis50000.getFirstOrderIndices()"
   ]
  },
  {
   "cell_type": "code",
   "execution_count": 59,
   "metadata": {},
   "outputs": [
    {
     "data": {
      "text/plain": [
       "array([0.00727165, 0.01538639, 0.00717851, 0.00729869])"
      ]
     },
     "execution_count": 59,
     "metadata": {},
     "output_type": "execute_result"
    }
   ],
   "source": [
    "analysis50000.getFirstOrderIndicesInterval()"
   ]
  },
  {
   "cell_type": "markdown",
   "metadata": {},
   "source": [
    "### Sensitivity analysis of the metamodels \n",
    "\n",
    "Here we are going to do the same sensitivity analysis, but based on the metamodel of the bending beam model. \n"
   ]
  },
  {
   "cell_type": "code",
   "execution_count": 63,
   "metadata": {},
   "outputs": [
    {
     "data": {
      "text/plain": [
       "19"
      ]
     },
     "execution_count": 63,
     "metadata": {},
     "output_type": "execute_result"
    }
   ],
   "source": [
    "kriging_doe_200_MD.__kriging_metamodel__.getInputDimension()"
   ]
  },
  {
   "cell_type": "code",
   "execution_count": 69,
   "metadata": {},
   "outputs": [],
   "source": [
    "inp_50000 = pd.read_csv('./inp_50000.csv', sep=';')\n",
    "sample_inp_50000 = ot.Sample(inp_50000.values)\n",
    "sample_inp_50000.setDescription(inp_50000.columns)"
   ]
  },
  {
   "cell_type": "code",
   "execution_count": 70,
   "metadata": {},
   "outputs": [
    {
     "data": {
      "text/html": [
       "<div>\n",
       "<style scoped>\n",
       "    .dataframe tbody tr th:only-of-type {\n",
       "        vertical-align: middle;\n",
       "    }\n",
       "\n",
       "    .dataframe tbody tr th {\n",
       "        vertical-align: top;\n",
       "    }\n",
       "\n",
       "    .dataframe thead th {\n",
       "        text-align: right;\n",
       "    }\n",
       "</style>\n",
       "<table border=\"1\" class=\"dataframe\">\n",
       "  <thead>\n",
       "    <tr style=\"text-align: right;\">\n",
       "      <th></th>\n",
       "      <th>X_0_0</th>\n",
       "      <th>X_0_1</th>\n",
       "      <th>X_0_2</th>\n",
       "      <th>X_0_3</th>\n",
       "      <th>X_0_4</th>\n",
       "      <th>X_0_5</th>\n",
       "      <th>X_0_6</th>\n",
       "      <th>X_1_0</th>\n",
       "      <th>X_1_1</th>\n",
       "      <th>X_1_2</th>\n",
       "      <th>X_1_3</th>\n",
       "      <th>X_1_4</th>\n",
       "      <th>X_1_5</th>\n",
       "      <th>X_1_6</th>\n",
       "      <th>X_1_7</th>\n",
       "      <th>X_1_8</th>\n",
       "      <th>X_1_9</th>\n",
       "      <th>X_2_0</th>\n",
       "      <th>X_3_0</th>\n",
       "    </tr>\n",
       "  </thead>\n",
       "  <tbody>\n",
       "    <tr>\n",
       "      <th>0</th>\n",
       "      <td>-0.834194</td>\n",
       "      <td>-0.486636</td>\n",
       "      <td>-0.570356</td>\n",
       "      <td>0.846220</td>\n",
       "      <td>-1.034956</td>\n",
       "      <td>0.712368</td>\n",
       "      <td>-1.032458</td>\n",
       "      <td>-0.738593</td>\n",
       "      <td>0.070983</td>\n",
       "      <td>-0.366800</td>\n",
       "      <td>-0.667345</td>\n",
       "      <td>1.767240</td>\n",
       "      <td>-0.158158</td>\n",
       "      <td>1.183266</td>\n",
       "      <td>0.495704</td>\n",
       "      <td>0.629103</td>\n",
       "      <td>-0.815190</td>\n",
       "      <td>0.818771</td>\n",
       "      <td>-0.551015</td>\n",
       "    </tr>\n",
       "    <tr>\n",
       "      <th>1</th>\n",
       "      <td>-0.117347</td>\n",
       "      <td>-0.376034</td>\n",
       "      <td>-0.524341</td>\n",
       "      <td>1.024997</td>\n",
       "      <td>1.731299</td>\n",
       "      <td>-1.236952</td>\n",
       "      <td>-0.309832</td>\n",
       "      <td>0.450524</td>\n",
       "      <td>-0.267513</td>\n",
       "      <td>1.539146</td>\n",
       "      <td>1.152710</td>\n",
       "      <td>1.367701</td>\n",
       "      <td>0.120564</td>\n",
       "      <td>-1.528836</td>\n",
       "      <td>-0.149897</td>\n",
       "      <td>0.756133</td>\n",
       "      <td>-0.935915</td>\n",
       "      <td>0.544425</td>\n",
       "      <td>-0.159702</td>\n",
       "    </tr>\n",
       "    <tr>\n",
       "      <th>2</th>\n",
       "      <td>-0.689586</td>\n",
       "      <td>0.239030</td>\n",
       "      <td>0.212964</td>\n",
       "      <td>0.628651</td>\n",
       "      <td>-0.855127</td>\n",
       "      <td>-0.236020</td>\n",
       "      <td>0.623402</td>\n",
       "      <td>-0.237840</td>\n",
       "      <td>0.233623</td>\n",
       "      <td>-0.029758</td>\n",
       "      <td>-0.205822</td>\n",
       "      <td>-0.317068</td>\n",
       "      <td>-0.189313</td>\n",
       "      <td>1.094972</td>\n",
       "      <td>-0.967281</td>\n",
       "      <td>0.724391</td>\n",
       "      <td>-0.316394</td>\n",
       "      <td>0.161818</td>\n",
       "      <td>2.090907</td>\n",
       "    </tr>\n",
       "    <tr>\n",
       "      <th>3</th>\n",
       "      <td>0.283831</td>\n",
       "      <td>0.084010</td>\n",
       "      <td>0.059867</td>\n",
       "      <td>0.413641</td>\n",
       "      <td>-0.593910</td>\n",
       "      <td>0.795025</td>\n",
       "      <td>-0.013813</td>\n",
       "      <td>-1.111877</td>\n",
       "      <td>-1.507806</td>\n",
       "      <td>1.167382</td>\n",
       "      <td>-2.125695</td>\n",
       "      <td>-0.879029</td>\n",
       "      <td>1.488192</td>\n",
       "      <td>-1.617035</td>\n",
       "      <td>-0.051941</td>\n",
       "      <td>-1.430237</td>\n",
       "      <td>-0.354993</td>\n",
       "      <td>-2.067386</td>\n",
       "      <td>-0.997259</td>\n",
       "    </tr>\n",
       "    <tr>\n",
       "      <th>4</th>\n",
       "      <td>-2.199463</td>\n",
       "      <td>0.774483</td>\n",
       "      <td>0.845330</td>\n",
       "      <td>0.859763</td>\n",
       "      <td>1.436971</td>\n",
       "      <td>-0.277666</td>\n",
       "      <td>-0.506746</td>\n",
       "      <td>-0.528269</td>\n",
       "      <td>-0.777526</td>\n",
       "      <td>-0.416281</td>\n",
       "      <td>2.411135</td>\n",
       "      <td>0.788100</td>\n",
       "      <td>1.512947</td>\n",
       "      <td>-0.146944</td>\n",
       "      <td>1.673533</td>\n",
       "      <td>-0.906167</td>\n",
       "      <td>-0.592085</td>\n",
       "      <td>0.523040</td>\n",
       "      <td>-0.110810</td>\n",
       "    </tr>\n",
       "    <tr>\n",
       "      <th>...</th>\n",
       "      <td>...</td>\n",
       "      <td>...</td>\n",
       "      <td>...</td>\n",
       "      <td>...</td>\n",
       "      <td>...</td>\n",
       "      <td>...</td>\n",
       "      <td>...</td>\n",
       "      <td>...</td>\n",
       "      <td>...</td>\n",
       "      <td>...</td>\n",
       "      <td>...</td>\n",
       "      <td>...</td>\n",
       "      <td>...</td>\n",
       "      <td>...</td>\n",
       "      <td>...</td>\n",
       "      <td>...</td>\n",
       "      <td>...</td>\n",
       "      <td>...</td>\n",
       "      <td>...</td>\n",
       "    </tr>\n",
       "    <tr>\n",
       "      <th>59995</th>\n",
       "      <td>-0.196340</td>\n",
       "      <td>0.352494</td>\n",
       "      <td>-0.217923</td>\n",
       "      <td>-1.444372</td>\n",
       "      <td>0.471152</td>\n",
       "      <td>-1.383772</td>\n",
       "      <td>-2.096909</td>\n",
       "      <td>0.662194</td>\n",
       "      <td>-1.074535</td>\n",
       "      <td>0.940905</td>\n",
       "      <td>1.020807</td>\n",
       "      <td>2.376940</td>\n",
       "      <td>-0.613947</td>\n",
       "      <td>-0.935909</td>\n",
       "      <td>-0.484643</td>\n",
       "      <td>0.134642</td>\n",
       "      <td>0.598082</td>\n",
       "      <td>0.926569</td>\n",
       "      <td>-0.348272</td>\n",
       "    </tr>\n",
       "    <tr>\n",
       "      <th>59996</th>\n",
       "      <td>0.054929</td>\n",
       "      <td>0.039862</td>\n",
       "      <td>-0.421047</td>\n",
       "      <td>-0.900226</td>\n",
       "      <td>0.242575</td>\n",
       "      <td>-0.053340</td>\n",
       "      <td>0.717615</td>\n",
       "      <td>0.152399</td>\n",
       "      <td>-0.405487</td>\n",
       "      <td>-0.172989</td>\n",
       "      <td>-0.936347</td>\n",
       "      <td>-1.589312</td>\n",
       "      <td>1.252332</td>\n",
       "      <td>-0.257872</td>\n",
       "      <td>0.202642</td>\n",
       "      <td>1.462633</td>\n",
       "      <td>0.672277</td>\n",
       "      <td>0.258019</td>\n",
       "      <td>0.253817</td>\n",
       "    </tr>\n",
       "    <tr>\n",
       "      <th>59997</th>\n",
       "      <td>1.365874</td>\n",
       "      <td>0.498793</td>\n",
       "      <td>-0.979857</td>\n",
       "      <td>0.486504</td>\n",
       "      <td>-0.086087</td>\n",
       "      <td>-1.071370</td>\n",
       "      <td>-0.612456</td>\n",
       "      <td>0.687291</td>\n",
       "      <td>1.545017</td>\n",
       "      <td>-1.166236</td>\n",
       "      <td>-0.377322</td>\n",
       "      <td>1.827107</td>\n",
       "      <td>0.285564</td>\n",
       "      <td>-0.658491</td>\n",
       "      <td>0.220944</td>\n",
       "      <td>0.807738</td>\n",
       "      <td>-0.462367</td>\n",
       "      <td>0.150283</td>\n",
       "      <td>-0.806112</td>\n",
       "    </tr>\n",
       "    <tr>\n",
       "      <th>59998</th>\n",
       "      <td>0.307724</td>\n",
       "      <td>0.020850</td>\n",
       "      <td>1.025259</td>\n",
       "      <td>0.000589</td>\n",
       "      <td>0.523252</td>\n",
       "      <td>0.321315</td>\n",
       "      <td>-0.897799</td>\n",
       "      <td>0.806636</td>\n",
       "      <td>0.004824</td>\n",
       "      <td>1.342516</td>\n",
       "      <td>-0.180256</td>\n",
       "      <td>-1.301152</td>\n",
       "      <td>2.139533</td>\n",
       "      <td>0.698171</td>\n",
       "      <td>1.256902</td>\n",
       "      <td>0.389617</td>\n",
       "      <td>1.457361</td>\n",
       "      <td>-0.498108</td>\n",
       "      <td>-1.687677</td>\n",
       "    </tr>\n",
       "    <tr>\n",
       "      <th>59999</th>\n",
       "      <td>-0.025674</td>\n",
       "      <td>-1.135881</td>\n",
       "      <td>0.138926</td>\n",
       "      <td>1.072500</td>\n",
       "      <td>-0.166809</td>\n",
       "      <td>-1.186696</td>\n",
       "      <td>-0.050813</td>\n",
       "      <td>0.937152</td>\n",
       "      <td>-0.012686</td>\n",
       "      <td>1.943130</td>\n",
       "      <td>-0.636869</td>\n",
       "      <td>-0.958157</td>\n",
       "      <td>0.552514</td>\n",
       "      <td>0.807264</td>\n",
       "      <td>-0.026602</td>\n",
       "      <td>0.525110</td>\n",
       "      <td>0.552805</td>\n",
       "      <td>0.394473</td>\n",
       "      <td>-0.719550</td>\n",
       "    </tr>\n",
       "  </tbody>\n",
       "</table>\n",
       "<p>60000 rows × 19 columns</p>\n",
       "</div>"
      ],
      "text/plain": [
       "          X_0_0     X_0_1     X_0_2     X_0_3     X_0_4     X_0_5     X_0_6  \\\n",
       "0     -0.834194 -0.486636 -0.570356  0.846220 -1.034956  0.712368 -1.032458   \n",
       "1     -0.117347 -0.376034 -0.524341  1.024997  1.731299 -1.236952 -0.309832   \n",
       "2     -0.689586  0.239030  0.212964  0.628651 -0.855127 -0.236020  0.623402   \n",
       "3      0.283831  0.084010  0.059867  0.413641 -0.593910  0.795025 -0.013813   \n",
       "4     -2.199463  0.774483  0.845330  0.859763  1.436971 -0.277666 -0.506746   \n",
       "...         ...       ...       ...       ...       ...       ...       ...   \n",
       "59995 -0.196340  0.352494 -0.217923 -1.444372  0.471152 -1.383772 -2.096909   \n",
       "59996  0.054929  0.039862 -0.421047 -0.900226  0.242575 -0.053340  0.717615   \n",
       "59997  1.365874  0.498793 -0.979857  0.486504 -0.086087 -1.071370 -0.612456   \n",
       "59998  0.307724  0.020850  1.025259  0.000589  0.523252  0.321315 -0.897799   \n",
       "59999 -0.025674 -1.135881  0.138926  1.072500 -0.166809 -1.186696 -0.050813   \n",
       "\n",
       "          X_1_0     X_1_1     X_1_2     X_1_3     X_1_4     X_1_5     X_1_6  \\\n",
       "0     -0.738593  0.070983 -0.366800 -0.667345  1.767240 -0.158158  1.183266   \n",
       "1      0.450524 -0.267513  1.539146  1.152710  1.367701  0.120564 -1.528836   \n",
       "2     -0.237840  0.233623 -0.029758 -0.205822 -0.317068 -0.189313  1.094972   \n",
       "3     -1.111877 -1.507806  1.167382 -2.125695 -0.879029  1.488192 -1.617035   \n",
       "4     -0.528269 -0.777526 -0.416281  2.411135  0.788100  1.512947 -0.146944   \n",
       "...         ...       ...       ...       ...       ...       ...       ...   \n",
       "59995  0.662194 -1.074535  0.940905  1.020807  2.376940 -0.613947 -0.935909   \n",
       "59996  0.152399 -0.405487 -0.172989 -0.936347 -1.589312  1.252332 -0.257872   \n",
       "59997  0.687291  1.545017 -1.166236 -0.377322  1.827107  0.285564 -0.658491   \n",
       "59998  0.806636  0.004824  1.342516 -0.180256 -1.301152  2.139533  0.698171   \n",
       "59999  0.937152 -0.012686  1.943130 -0.636869 -0.958157  0.552514  0.807264   \n",
       "\n",
       "          X_1_7     X_1_8     X_1_9     X_2_0     X_3_0  \n",
       "0      0.495704  0.629103 -0.815190  0.818771 -0.551015  \n",
       "1     -0.149897  0.756133 -0.935915  0.544425 -0.159702  \n",
       "2     -0.967281  0.724391 -0.316394  0.161818  2.090907  \n",
       "3     -0.051941 -1.430237 -0.354993 -2.067386 -0.997259  \n",
       "4      1.673533 -0.906167 -0.592085  0.523040 -0.110810  \n",
       "...         ...       ...       ...       ...       ...  \n",
       "59995 -0.484643  0.134642  0.598082  0.926569 -0.348272  \n",
       "59996  0.202642  1.462633  0.672277  0.258019  0.253817  \n",
       "59997  0.220944  0.807738 -0.462367  0.150283 -0.806112  \n",
       "59998  1.256902  0.389617  1.457361 -0.498108 -1.687677  \n",
       "59999 -0.026602  0.525110  0.552805  0.394473 -0.719550  \n",
       "\n",
       "[60000 rows x 19 columns]"
      ]
     },
     "execution_count": 70,
     "metadata": {},
     "output_type": "execute_result"
    }
   ],
   "source": [
    "inp_50000"
   ]
  },
  {
   "cell_type": "code",
   "execution_count": 75,
   "metadata": {},
   "outputs": [],
   "source": [
    "resp_meatamodel50000 = kriging_doe_200_MD.__kriging_metamodel__(sample_inp_50000)"
   ]
  },
  {
   "cell_type": "code",
   "execution_count": 78,
   "metadata": {},
   "outputs": [
    {
     "data": {
      "text/html": [
       "<TABLE><TR><TH></TH><TH>X_0_0</TH><TH>X_0_1</TH><TH>X_0_2</TH><TH COLSPAN=\"13\">...</TH><TH>X_1_9</TH><TH>X_2_0</TH><TH>X_3_0</TH></TR>\n",
       "<TR><TH>0</TH><TD>-0.8341941</TD><TD>-0.4866362</TD><TD>-0.5703557<TD COLSPAN=\"13\">...</TD><TD>-0.8151896</TD><TD>0.8187713</TD><TD>-0.5510149</TD></TR>\n",
       "<TR><TH>1</TH><TD>-0.1173466</TD><TD>-0.3760343</TD><TD>-0.5243408<TD COLSPAN=\"13\">...</TD><TD>-0.9359148</TD><TD>0.5444246</TD><TD>-0.1597015</TD></TR>\n",
       "<TR><TH>2</TH><TD>-0.6895857</TD><TD>0.2390302</TD><TD>0.2129636<TD COLSPAN=\"13\">...</TD><TD>-0.3163937</TD><TD>0.1618183</TD><TD>2.090907</TD></TR>\n",
       "<TR><TD COLSPAN=\"20\">...</TD></TR>\n",
       "<TR><TH>59997</TH><TD>1.365874</TD><TD>0.4987929</TD><TD>-0.9798571<TD COLSPAN=\"13\">...</TD><TD>-0.4623675</TD><TD>0.1502832</TD><TD>-0.806112</TD></TR>\n",
       "<TR><TH>59998</TH><TD>0.3077243</TD><TD>0.0208495</TD><TD>1.025259<TD COLSPAN=\"13\">...</TD><TD>1.457361</TD><TD>-0.4981082</TD><TD>-1.687677</TD></TR>\n",
       "<TR><TH>59999</TH><TD>-0.02567402</TD><TD>-1.135881</TD><TD>0.1389261<TD COLSPAN=\"13\">...</TD><TD>0.5528052</TD><TD>0.3944729</TD><TD>-0.7195504</TD></TR>\n",
       "</TABLE>"
      ],
      "text/plain": [
       "class=Sample name=Unnamed implementation=class=SampleImplementation name=Unnamed size=60000 dimension=19 description=[X_0_0,X_0_1,X_0_2,...,X_1_9,X_2_0,X_3_0] data=[[-0.834194,-0.486636,-0.570356,...,-0.81519,0.818771,-0.551015],[-0.117347,-0.376034,-0.524341,...,-0.935915,0.544425,-0.159702],[-0.689586,0.23903,0.212964,...,-0.316394,0.161818,2.09091],...,[1.36587,0.498793,-0.979857,...,-0.462367,0.150283,-0.806112],[0.307724,0.0208495,1.02526,...,1.45736,-0.498108,-1.68768],[-0.025674,-1.13588,0.138926,...,0.552805,0.394473,-0.71955]]"
      ]
     },
     "execution_count": 78,
     "metadata": {},
     "output_type": "execute_result"
    }
   ],
   "source": [
    "sample_inp_50000"
   ]
  },
  {
   "cell_type": "code",
   "execution_count": 79,
   "metadata": {},
   "outputs": [
    {
     "name": "stdout",
     "output_type": "stream",
     "text": [
      "size initialized 60000\n",
      "Warning : Always pass the computeSecondOrder argument\n",
      "if you also pass the data to compute it\n",
      "Otherwise, the behavior will be unreliable\n",
      "\n",
      "Means is\n",
      " [20.7371]\n",
      "design_elem size, dim 60000 1\n",
      "There are 4 indices to get for 1 outputs with dimensions 1 each.\n",
      "Description all same? [X_0_0,X_0_1,X_0_2,X_0_3,X_0_4,X_0_5,X_0_6,X_1_0,X_1_1,X_1_2,X_1_3,X_1_4,X_1_5,X_1_6,X_1_7,X_1_8,X_1_9,X_2_0,X_3_0]#19\n",
      "SobolIndicesName ['X_0', 'X_1', 'X_2', 'X_3']\n",
      "Input Description is, ['X_0', 'X_1', 'X_2', 'X_3']\n",
      "Solving...\n",
      " size of samples:  60000\n",
      " number of indices to get 4\n"
     ]
    },
    {
     "data": {
      "text/plain": [
       "[[class=Point name=Sobol_Unnamed_X_0 dimension=1 values=[0.0478085],\n",
       "  class=Point name=Sobol_Unnamed_X_1 dimension=1 values=[0.866107],\n",
       "  class=Point name=Sobol_Unnamed_X_2 dimension=1 values=[-0.00186701],\n",
       "  class=Point name=Sobol_Unnamed_X_3 dimension=1 values=[0.0768463]]]"
      ]
     },
     "execution_count": 79,
     "metadata": {},
     "output_type": "execute_result"
    }
   ],
   "source": [
    "sensitivityAnalysis_10000_2 = klfs.SobolKarhunenLoeveFieldSensitivityAlgorithm()\n",
    "sensitivityAnalysis_10000_2.setDesign(sample_inp_50000, resp_meatamodel50000, 10000)\n",
    "sensitivityAnalysis_10000_2.setEstimator(ot.MartinezSensitivityAlgorithm())\n",
    "sensitivityAnalysis_10000_2.getFirstOrderIndices()"
   ]
  },
  {
   "cell_type": "markdown",
   "metadata": {},
   "source": [
    "Refaire experience avec les mêmes samples pour le métamodele et le vrai modèle. \n",
    "(Plus vérification avec assert_equal() )\n",
    "Nouveau Notebook plus concis + calculs R2 + graphes + introduire coef var dans params entrée + simplifier fonctions et mettre dans fichier à part. \n",
    "Cas tests :\n",
    "  - D'abord kriegage (modifs taille DOE LHS) + écarts vrai modèle /metamodele\n",
    "  - Sur paramètres entrée (variance, amplitude, scale... ) \n",
    "  - Sauvegarder chaque resultat\n",
    "  - DF Pandas: ordonnées (indices de sobol) | abscisses : (Taille DOE due kriegage + taille plan d'experience) \n",
    "  - Tests chaos polynomial + visualisation + (analyser IS des sigma et des params) "
   ]
  },
  {
   "cell_type": "code",
   "execution_count": null,
   "metadata": {},
   "outputs": [],
   "source": []
  }
 ],
 "metadata": {
  "kernelspec": {
   "display_name": "Python 3 (ipykernel)",
   "language": "python",
   "name": "python3"
  },
  "language_info": {
   "codemirror_mode": {
    "name": "ipython",
    "version": 3
   },
   "file_extension": ".py",
   "mimetype": "text/x-python",
   "name": "python",
   "nbconvert_exporter": "python",
   "pygments_lexer": "ipython3",
   "version": "3.9.7"
  }
 },
 "nbformat": 4,
 "nbformat_minor": 4
}
