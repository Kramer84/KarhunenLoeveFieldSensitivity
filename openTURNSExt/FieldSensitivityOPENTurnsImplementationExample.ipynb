{
 "cells": [
  {
   "cell_type": "markdown",
   "metadata": {},
   "source": [
    "### Implementation of the codes developed, openTURNS style\n"
   ]
  },
  {
   "cell_type": "code",
   "execution_count": 1,
   "metadata": {},
   "outputs": [],
   "source": [
    "import openturns as ot\n",
    "import numpy as np\n",
    "import PureBeamExample as pbe #Toy model to analyse\n",
    "import KarhunenLoeveFieldSensitivity as klfs #Openturns integration of the analysis algorithm"
   ]
  },
  {
   "cell_type": "markdown",
   "metadata": {},
   "source": [
    "In this notebook, we will show how the codes developed for the sensitivity anakysis on models governed by stochastic fields can be easily integrated in the actual openturns environment. \n",
    "\n",
    "We will use the toy example of the bending beam to demonstrate the method.\n",
    "\n",
    "##### The behaviour of the algorithms is highly inspired of the ones found in the openTURNS API\n",
    "\n",
    "###### The codes are composed of four parts that behave together :\n",
    "    ot.AggregatedKarhunenLoeveResults\n",
    "    ot.KarhunenLoeveSobolIndicesExperiment\n",
    "    ot.KarhunenLoeveGeneralizedFunctionWrapper\n",
    "    ot.SobolKarhunenLoeveFieldSensitivityAlgorithm\n",
    "    \n",
    "\n",
    "##### We are in the case where the model to analyse takes as an input mulitple stochastic fields and random variables. The model also returns multiple fields and scalar values. \n",
    "\n",
    "To be able to use random variables in our AggregatedKarhunenLoeveObject, we express our random variables as a constant stochastic field. In this way, we can still use our KarhunenLoeveDecomposition on it, but we will have to convert the constant field into a scalar value again just before passing it to our model. \n",
    "This must be coded manually. \n",
    "\n",
    "### Definition of the input processes and random variables :"
   ]
  },
  {
   "cell_type": "code",
   "execution_count": 2,
   "metadata": {},
   "outputs": [],
   "source": [
    "# Function to convert a scalar distribution into a field : \n",
    "\n",
    "def variablesAsProcess(distribution, mesh):\n",
    "    '''Function to transform a scalar distribution into \n",
    "    a constant process defined over a mesh\n",
    "    '''\n",
    "    basis = ot.Basis([ot.SymbolicFunction(['x'],['1'])])\n",
    "    lawAsprocess = ot.FunctionalBasisProcess(distribution, basis, mesh)\n",
    "    lawAsprocess.setName(distribution.getName())\n",
    "    return lawAsprocess\n",
    "\n",
    "#############################################################\n",
    "\n",
    "# First step : DEFINING THE PROCESSES AND RANDOM VARIABLES\n",
    "# First Process E_ : Youngs modulus\n",
    "# dimension \n",
    "dimension = 1\n",
    "#grid\n",
    "#Number of elements:\n",
    "NElem = [100]\n",
    "mesher = ot.IntervalMesher(NElem)\n",
    "lowBound = [0] #mm\n",
    "highBound = [1000] #mm\n",
    "interval = ot.Interval(lowBound,highBound)\n",
    "mesh = mesher.build(interval)\n",
    "\n",
    "#Covariance model Young's modulus\n",
    "amplitude0 = [50000]*dimension\n",
    "scale0 = [300]*dimension\n",
    "nu0 = 13/3\n",
    "model0 = ot.MaternModel(scale0, amplitude0, nu0)\n",
    "# Karhunen Loeve decomposition of process \n",
    "algorithm = ot.KarhunenLoeveP1Algorithm(mesh, model0, 1e-3)\n",
    "algorithm.run()\n",
    "resultsE = algorithm.getResult()\n",
    "resultsE.setName('E_')\n",
    "\n",
    "# Second Process D_ : Diameter\n",
    "amplitude = [.3]*dimension\n",
    "scale = [250]*dimension\n",
    "nu = 13/3\n",
    "model1 = ot.MaternModel(scale, amplitude, nu)\n",
    "algorithm = ot.KarhunenLoeveP1Algorithm(mesh, model1, 1e-3)\n",
    "algorithm.run()\n",
    "resultsD = algorithm.getResult()\n",
    "resultsD.setName('D_')\n",
    "\n",
    "#############################################################\n",
    "\n",
    "# SECOND STEP : Definition of the random variables\n",
    "# random variable for the density of the material (kg/m³)\n",
    "sigma       = 750\n",
    "nameD       = 'Rho'\n",
    "RV_Rho = ot.Normal(0, sigma)\n",
    "RV_Rho.setName(nameD)\n",
    "# random variable for the position of the force   (mm) \n",
    "sigma_f      = 50\n",
    "namePos     = 'FP'\n",
    "RV_Fpos = ot.Normal(0, sigma_f)\n",
    "RV_Fpos.setName(namePos)\n",
    "# random variable for the norm of the force    (N)\n",
    "sigma_Fnor    = 5.5\n",
    "nameNor       = 'FN'\n",
    "RV_Fnorm  = ot.Normal(0, sigma_Fnor)\n",
    "RV_Fnorm.setName(nameNor)\n",
    "\n",
    "#############################################################\n",
    "\n",
    "# Then convert the distributions t processes over a mesh\n",
    "SP_Rho = variablesAsProcess(RV_Rho, mesh)\n",
    "SP_Fpos = variablesAsProcess(RV_Fpos, mesh)\n",
    "SP_Fnorm = variablesAsProcess(RV_Fnorm, mesh)\n",
    "\n",
    "#############################################################\n",
    "\n",
    "# Then we can do the Karhunen Loeve decomposition of the distributions : \n",
    "algorithm0 = ot.KarhunenLoeveP1Algorithm(mesh, SP_Rho.getCovarianceModel(), 1e-3)\n",
    "algorithm0.run()\n",
    "resultsRho = algorithm0.getResult()\n",
    "resultsRho.setName('Rho_')\n",
    "\n",
    "algorithm1 = ot.KarhunenLoeveP1Algorithm(mesh, SP_Fpos.getCovarianceModel(), 1e-3)\n",
    "algorithm1.run()\n",
    "resultsFpos = algorithm1.getResult()\n",
    "resultsFpos.setName('Fpos_')\n",
    "\n",
    "algorithm2 = ot.KarhunenLoeveP1Algorithm(mesh, SP_Fnorm.getCovarianceModel(), 1e-3)\n",
    "algorithm2.run()\n",
    "resultsFnor = algorithm2.getResult()\n",
    "resultsFnor.setName('Fnorm_')\n",
    "\n",
    "# Finally we get a list of aggregated KarhunenLoeve results\n",
    "listOfKLRes = [resultsE, resultsD, resultsRho, resultsFpos, resultsFnor]\n"
   ]
  },
  {
   "cell_type": "markdown",
   "metadata": {},
   "source": [
    "### NOTE :\n",
    "\n",
    "When defining a distribution as a process, as shown above, it is of utmost importance to modifiy his function so that it takes as an input a constant process, not a distribution anymore. This can also be easily avoided, if you take the first value of the field generated.\n",
    "\n",
    "###### Always multiple ways to proceed :\n",
    "\n",
    "In the example presented here, 2 ways of approaching the problem are possible. First we can create all our processes individually, decompose them individually with Karhunen Loeve, and pass a list of KarhunenLoeveResults to our new function wrapper. \n",
    "But this is only necessary if we would have meshes of different shapes, or if we would have defined the scalar distributions on smaller meshes. But as all processes are defined over the same mesh here, we could have aggregated the Processes, and directly decompose the AggregatedProcess. \n",
    "\n",
    "###### Note2 :\n",
    "\n",
    "When using the **KarhunenLoeveP1Algorithm** function, only the covariance function is decomposed this means **all data 'bout the means and the trend functions are FORGOTTEN**. You have to add these constants **Directly in yout function!** \n"
   ]
  },
  {
   "cell_type": "markdown",
   "metadata": {},
   "source": [
    "##### First tests with new architecture. \n",
    "our base is a list of Karhunen Loeve Results. This will be passed into a contructor called AggregatedKarhunenLoeveResults. This  class is necessary as it is used to pass between the one dimensional space of the KarhunenLoeve Coefficients to the arbitrary dimension of the field linked to it. \n",
    "This class keeps all the data about the decomposition and allows to work on lists of processes"
   ]
  },
  {
   "cell_type": "code",
   "execution_count": 3,
   "metadata": {},
   "outputs": [],
   "source": [
    "AggregatedKLObj = klfs.AggregatedKarhunenLoeveResults(listOfKLRes)"
   ]
  },
  {
   "cell_type": "code",
   "execution_count": 4,
   "metadata": {},
   "outputs": [
    {
     "data": {
      "text/plain": [
       "class = AggregatedKarhunenLoeveResults| name = Unnamed| Aggregation Order = 5| Threshold = 0.001| Covariance Model 0 = class=MaternModel scale=class=Point name=Unnamed dimension=1 values=[300] amplitude=class=Point name=Unnamed dimension=1 values=[50000] nu=4.33333| Covariance Model 1 = class=MaternModel scale=class=Point name=Unnamed dimension=1 values=[250] amplitude=class=Point name=Unnamed dimension=1 values=[0.3] nu=4.33333| Covariance Model 2 = class=RankMCovarianceModel, variance=class=Point name=Unnamed dimension=1 values=[562500], covariance=class=CovarianceMatrix dimension=0 implementation=class=MatrixImplementation name=Unnamed rows=0 columns=0 values=[], basis=class=Basis coll=[class=Function name=Unnamed implementation=class=FunctionImplementation name=Unnamed description=[x,y0] evaluationImplementation=class=SymbolicEvaluation name=Unnamed inputVariablesNames=[x] outputVariablesNames=[y0] formulas=[1] gradientImplementation=class=SymbolicGradient name=Unnamed evaluation=class=SymbolicEvaluation name=Unnamed inputVariablesNames=[x] outputVariablesNames=[y0] formulas=[1] hessianImplementation=class=SymbolicHessian name=Unnamed evaluation=class=SymbolicEvaluation name=Unnamed inputVariablesNames=[x] outputVariablesNames=[y0] formulas=[1]], functions=[class=Function name=Unnamed implementation=class=FunctionImplementation name=Unnamed description=[x,y0] evaluationImplementation=class=SymbolicEvaluation name=Unnamed inputVariablesNames=[x] outputVariablesNames=[y0] formulas=[1] gradientImplementation=class=SymbolicGradient name=Unnamed evaluation=class=SymbolicEvaluation name=Unnamed inputVariablesNames=[x] outputVariablesNames=[y0] formulas=[1] hessianImplementation=class=SymbolicHessian name=Unnamed evaluation=class=SymbolicEvaluation name=Unnamed inputVariablesNames=[x] outputVariablesNames=[y0] formulas=[1]]| Covariance Model 3 = class=RankMCovarianceModel, variance=class=Point name=Unnamed dimension=1 values=[2500], covariance=class=CovarianceMatrix dimension=0 implementation=class=MatrixImplementation name=Unnamed rows=0 columns=0 values=[], basis=class=Basis coll=[class=Function name=Unnamed implementation=class=FunctionImplementation name=Unnamed description=[x,y0] evaluationImplementation=class=SymbolicEvaluation name=Unnamed inputVariablesNames=[x] outputVariablesNames=[y0] formulas=[1] gradientImplementation=class=SymbolicGradient name=Unnamed evaluation=class=SymbolicEvaluation name=Unnamed inputVariablesNames=[x] outputVariablesNames=[y0] formulas=[1] hessianImplementation=class=SymbolicHessian name=Unnamed evaluation=class=SymbolicEvaluation name=Unnamed inputVariablesNames=[x] outputVariablesNames=[y0] formulas=[1]], functions=[class=Function name=Unnamed implementation=class=FunctionImplementation name=Unnamed description=[x,y0] evaluationImplementation=class=SymbolicEvaluation name=Unnamed inputVariablesNames=[x] outputVariablesNames=[y0] formulas=[1] gradientImplementation=class=SymbolicGradient name=Unnamed evaluation=class=SymbolicEvaluation name=Unnamed inputVariablesNames=[x] outputVariablesNames=[y0] formulas=[1] hessianImplementation=class=SymbolicHessian name=Unnamed evaluation=class=SymbolicEvaluation name=Unnamed inputVariablesNames=[x] outputVariablesNames=[y0] formulas=[1]]| Covariance Model 4 = class=RankMCovarianceModel, variance=class=Point name=Unnamed dimension=1 values=[30.25], covariance=class=CovarianceMatrix dimension=0 implementation=class=MatrixImplementation name=Unnamed rows=0 columns=0 values=[], basis=class=Basis coll=[class=Function name=Unnamed implementation=class=FunctionImplementation name=Unnamed description=[x,y0] evaluationImplementation=class=SymbolicEvaluation name=Unnamed inputVariablesNames=[x] outputVariablesNames=[y0] formulas=[1] gradientImplementation=class=SymbolicGradient name=Unnamed evaluation=class=SymbolicEvaluation name=Unnamed inputVariablesNames=[x] outputVariablesNames=[y0] formulas=[1] hessianImplementation=class=SymbolicHessian name=Unnamed evaluation=class=SymbolicEvaluation name=Unnamed inputVariablesNames=[x] outputVariablesNames=[y0] formulas=[1]], functions=[class=Function name=Unnamed implementation=class=FunctionImplementation name=Unnamed description=[x,y0] evaluationImplementation=class=SymbolicEvaluation name=Unnamed inputVariablesNames=[x] outputVariablesNames=[y0] formulas=[1] gradientImplementation=class=SymbolicGradient name=Unnamed evaluation=class=SymbolicEvaluation name=Unnamed inputVariablesNames=[x] outputVariablesNames=[y0] formulas=[1] hessianImplementation=class=SymbolicHessian name=Unnamed evaluation=class=SymbolicEvaluation name=Unnamed inputVariablesNames=[x] outputVariablesNames=[y0] formulas=[1]]| Eigen Value 0 = class=Point name=Unnamed dimension=7 values=[1.41923e+12,7.0656e+11,2.58952e+11,8.06386e+10,2.37086e+10,7.02051e+09,2.16944e+09]| Eigen Value 1 = class=Point name=Unnamed dimension=8 values=[45.1513,26.2003,11.7135,4.46624,1.57881,0.547873,0.193305,0.0707329]| Eigen Value 2 = class=Point name=Unnamed dimension=1 values=[5.625e+08]| Eigen Value 3 = class=Point name=Unnamed dimension=1 values=[2.5e+06]| Eigen Value 4 = class=Point name=Unnamed dimension=1 values=[30250]| Mesh 0 = class=Mesh name=Unnamed dimension=1 vertices=class=Sample name=Unnamed implementation=class=SampleImplementation name=Unnamed size=101 dimension=1 | Mesh 1 = class=Mesh name=Unnamed dimension=1 vertices=class=Sample name=Unnamed implementation=class=SampleImplementation name=Unnamed size=101 dimension=1 | Mesh 2 = class=Mesh name=Unnamed dimension=1 vertices=class=Sample name=Unnamed implementation=class=SampleImplementation name=Unnamed size=101 dimension=1 | Mesh 3 = class=Mesh name=Unnamed dimension=1 vertices=class=Sample name=Unnamed implementation=class=SampleImplementation name=Unnamed size=101 dimension=1 | Mesh 4 = class=Mesh name=Unnamed dimension=1 vertices=class=Sample name=Unnamed implementation=class=SampleImplementation name=Unnamed size=101 dimension=1 "
      ]
     },
     "execution_count": 4,
     "metadata": {},
     "output_type": "execute_result"
    }
   ],
   "source": [
    "AggregatedKLObj"
   ]
  },
  {
   "cell_type": "markdown",
   "metadata": {},
   "source": [
    "### Now we initialize our toy example : "
   ]
  },
  {
   "cell_type": "code",
   "execution_count": 5,
   "metadata": {},
   "outputs": [],
   "source": [
    "## First: beam initialization with mesh\n",
    "PureBeam = pbe.PureBeam(mesh)"
   ]
  },
  {
   "cell_type": "markdown",
   "metadata": {},
   "source": [
    "### Then we pass our model into our function wrapper. We have two functions : \n",
    "- One for single evaluations\n",
    "- One for batch evaluations\n",
    "##### - Only one of the functions is required. \n",
    "#### In the wrapper we also pas the AggregatedKarhunenLoeveResults object, as well as the number of outputs the function has. \n",
    "## WARNING : \n",
    "#### It is not the dimension of the output (eg. the dimension of a field) but it represents the numer of different outputs the function has, as it is assumed that the function returns a tuple of scalars, fields etc. "
   ]
  },
  {
   "cell_type": "code",
   "execution_count": 6,
   "metadata": {},
   "outputs": [],
   "source": [
    "# Now that we have our function, we can pass it in our wrapper! \n",
    "FUNC = klfs.KarhunenLoeveGeneralizedFunctionWrapper(\n",
    "                                AggregatedKarhunenLoeveResults = AggregatedKLObj,\n",
    "                                func        = PureBeam.singleEval, \n",
    "                                func_sample = PureBeam.batchEval,\n",
    "                                n_outputs   = 2)\n"
   ]
  },
  {
   "cell_type": "markdown",
   "metadata": {},
   "source": [
    "#### Once the model is created as the AggregatedKarhunenLoeveResult object, we can begin our DOE (Design Of Experiment)\n",
    "- For this, we use our class called **KarhunenLoeveSobolIndicesExperiment**. \n",
    "- This last class aims to be similar to the class ot.SobolIndicesExperiment. \n",
    "##### Generation of the input design : "
   ]
  },
  {
   "cell_type": "code",
   "execution_count": 7,
   "metadata": {},
   "outputs": [
    {
     "name": "stdout",
     "output_type": "stream",
     "text": [
      "Samples A and B of size 20 and dimension 18\n",
      "Experiment of size 140 and dimension 18\n"
     ]
    }
   ],
   "source": [
    "N = 20\n",
    "SobolExperiment = klfs.KarhunenLoeveSobolIndicesExperiment(AggregatedKLObj, N ,False)\n",
    "inputDesign = SobolExperiment.generate()"
   ]
  },
  {
   "cell_type": "markdown",
   "metadata": {},
   "source": [
    "##### Evaluation of the function on the input design"
   ]
  },
  {
   "cell_type": "code",
   "execution_count": 8,
   "metadata": {},
   "outputs": [
    {
     "name": "stderr",
     "output_type": "stream",
     "text": [
      "[Parallel(n_jobs=-1)]: Using backend LokyBackend with 4 concurrent workers.\n",
      "[Parallel(n_jobs=-1)]: Done   5 tasks      | elapsed:    2.2s\n",
      "[Parallel(n_jobs=-1)]: Done  10 tasks      | elapsed:    2.5s\n",
      "[Parallel(n_jobs=-1)]: Done  17 tasks      | elapsed:    3.0s\n",
      "[Parallel(n_jobs=-1)]: Done  24 tasks      | elapsed:    3.4s\n",
      "[Parallel(n_jobs=-1)]: Done  33 tasks      | elapsed:    3.9s\n",
      "[Parallel(n_jobs=-1)]: Done  42 tasks      | elapsed:    4.5s\n",
      "[Parallel(n_jobs=-1)]: Done  53 tasks      | elapsed:    5.2s\n",
      "[Parallel(n_jobs=-1)]: Done  64 tasks      | elapsed:    5.9s\n",
      "[Parallel(n_jobs=-1)]: Done  77 tasks      | elapsed:    6.7s\n",
      "[Parallel(n_jobs=-1)]: Done  90 tasks      | elapsed:    7.6s\n",
      "[Parallel(n_jobs=-1)]: Done 105 tasks      | elapsed:    8.5s\n",
      "[Parallel(n_jobs=-1)]: Done 120 tasks      | elapsed:    9.6s\n"
     ]
    },
    {
     "name": "stdout",
     "output_type": "stream",
     "text": [
      "shape deflection:  (140, 103)  should be [N,10X] something\n",
      "deflection std deviation  6.239814057942748\n",
      "Using the batch evaluation function. Assumes that the outputs are in the \n",
      "same order than for the single evaluation function. This one should only \n",
      "return ProcessSamples, Samples, Lists or numpy arrays.\n",
      "Element is iterable, assumes that first dimension is size of sample\n",
      "Shape is (140, 102) and dtype is <class 'numpy.float64'>\n",
      "Element 0 of the output tuple returns process samples of dimension 1\n",
      "Element is iterable, assumes that first dimension is size of sample\n",
      "Shape is (140,) and dtype is <class 'numpy.float64'>\n",
      "Element 1 of the output tuple returns samples of dimension 1\n"
     ]
    },
    {
     "name": "stderr",
     "output_type": "stream",
     "text": [
      "[Parallel(n_jobs=-1)]: Done 140 out of 140 | elapsed:   10.8s finished\n",
      "/home/simady/anaconda/envs/stochastic_field_env/lib/python3.6/site-packages/numpy/core/_asarray.py:83: VisibleDeprecationWarning: Creating an ndarray from ragged nested sequences (which is a list-or-tuple of lists-or-tuples-or ndarrays with different lengths or shapes) is deprecated. If you meant to do this, you must specify 'dtype=object' when creating the ndarray\n",
      "  return array(a, dtype, copy=False, order=order)\n"
     ]
    }
   ],
   "source": [
    "outputDesign = FUNC(inputDesign)"
   ]
  },
  {
   "cell_type": "code",
   "execution_count": 9,
   "metadata": {},
   "outputs": [
    {
     "name": "stdout",
     "output_type": "stream",
     "text": [
      "Warning : Always pass the computeSecondOrder argument\n",
      "if you also pass the data to compute it\n",
      "Otherwise, the behavior will be unreliable\n",
      "There are 5 indices to get for 2 outputs with dimensions 102, 1 each.\n",
      "SobolIndicesName ['Rho_', 'E_', 'Fnorm_', 'D_', 'Fpos_']\n"
     ]
    }
   ],
   "source": [
    "FieldSensitivityAnalysis = klfs.SobolKarhunenLoeveFieldSensitivityAlgorithm()\n",
    "FieldSensitivityAnalysis.setDesign(inputDesign, outputDesign, N)\n",
    "FieldSensitivityAnalysis.setEstimator(ot.SaltelliSensitivityAlgorithm())"
   ]
  },
  {
   "cell_type": "code",
   "execution_count": 10,
   "metadata": {},
   "outputs": [
    {
     "data": {
      "text/plain": [
       "[[class=Field name=Sobol_Y_0_Rho_ description=[v0,v0] implementation=class=FieldImplementation name=Sobol_Y_0_Rho_ mesh=class=Mesh name=1D_Grid dimension=1 vertices=class=Sample name=Unnamed implementation=class=SampleImplementation name=Unnamed size=102 dimension=1 data=[[0],[0.00990099],[0.019802],[0.029703],[0.039604],[0.049505],[0.0594059],[0.0693069],[0.0792079],[0.0891089],[0.0990099],[0.108911],[0.118812],[0.128713],[0.138614],[0.148515],[0.158416],[0.168317],[0.178218],[0.188119],[0.19802],[0.207921],[0.217822],[0.227723],[0.237624],[0.247525],[0.257426],[0.267327],[0.277228],[0.287129],[0.29703],[0.306931],[0.316832],[0.326733],[0.336634],[0.346535],[0.356436],[0.366337],[0.376238],[0.386139],[0.39604],[0.405941],[0.415842],[0.425743],[0.435644],[0.445545],[0.455446],[0.465347],[0.475248],[0.485149],[0.49505],[0.50495],[0.514851],[0.524752],[0.534653],[0.544554],[0.554455],[0.564356],[0.574257],[0.584158],[0.594059],[0.60396],[0.613861],[0.623762],[0.633663],[0.643564],[0.653465],[0.663366],[0.673267],[0.683168],[0.693069],[0.70297],[0.712871],[0.722772],[0.732673],[0.742574],[0.752475],[0.762376],[0.772277],[0.782178],[0.792079],[0.80198],[0.811881],[0.821782],[0.831683],[0.841584],[0.851485],[0.861386],[0.871287],[0.881188],[0.891089],[0.90099],[0.910891],[0.920792],[0.930693],[0.940594],[0.950495],[0.960396],[0.970297],[0.980198],[0.990099],[1]] simplices=[[0,1],[1,2],[2,3],[3,4],[4,5],[5,6],[6,7],[7,8],[8,9],[9,10],[10,11],[11,12],[12,13],[13,14],[14,15],[15,16],[16,17],[17,18],[18,19],[19,20],[20,21],[21,22],[22,23],[23,24],[24,25],[25,26],[26,27],[27,28],[28,29],[29,30],[30,31],[31,32],[32,33],[33,34],[34,35],[35,36],[36,37],[37,38],[38,39],[39,40],[40,41],[41,42],[42,43],[43,44],[44,45],[45,46],[46,47],[47,48],[48,49],[49,50],[50,51],[51,52],[52,53],[53,54],[54,55],[55,56],[56,57],[57,58],[58,59],[59,60],[60,61],[61,62],[62,63],[63,64],[64,65],[65,66],[66,67],[67,68],[68,69],[69,70],[70,71],[71,72],[72,73],[73,74],[74,75],[75,76],[76,77],[77,78],[78,79],[79,80],[80,81],[81,82],[82,83],[83,84],[84,85],[85,86],[86,87],[87,88],[88,89],[89,90],[90,91],[91,92],[92,93],[93,94],[94,95],[95,96],[96,97],[97,98],[98,99],[99,100],[100,101]] values=class=Sample name=Unnamed implementation=class=SampleImplementation name=Unnamed size=102 dimension=1 data=[[1.00023],[1.00016],[1.00016],[1.00015],[1.00015],[1.00015],[1.00015],[1.00015],[1.00015],[1.00015],[1.00015],[1.00015],[1.00015],[1.00014],[1.00014],[1.00014],[1.00014],[1.00014],[1.00014],[1.00014],[1.00014],[1.00013],[1.00013],[1.00012],[1.00012],[1.00012],[1.00011],[1.00011],[1.0001],[1.0001],[1.00009],[1.00009],[1.00008],[1.00008],[1.00008],[1.00007],[1.00007],[1.00007],[1.00006],[1.00006],[1.00006],[1.00006],[1.00005],[1.00004],[1.00003],[1.00003],[1.00002],[1.00002],[1.00002],[1.00001],[1.00001],[1.00001],[1.00001],[1.00001],[1.00001],[1.00002],[1.00002],[1.00001],[1.00001],[1],[1],[1],[1],[1],[1],[1],[1],[1],[1],[1],[1],[1],[1],[1],[1],[1],[1],[1],[1],[1],[1],[1],[1.00001],[1.00001],[1.00001],[1.00001],[1.00001],[1.00001],[1.00001],[1],[1],[1],[1],[1],[1],[1],[1],[1],[1],[1],[1.00001],[1.00001]],\n",
       "  class=Field name=Sobol_Y_0_E_ description=[v0,v0] implementation=class=FieldImplementation name=Sobol_Y_0_E_ mesh=class=Mesh name=1D_Grid dimension=1 vertices=class=Sample name=Unnamed implementation=class=SampleImplementation name=Unnamed size=102 dimension=1 data=[[0],[0.00990099],[0.019802],[0.029703],[0.039604],[0.049505],[0.0594059],[0.0693069],[0.0792079],[0.0891089],[0.0990099],[0.108911],[0.118812],[0.128713],[0.138614],[0.148515],[0.158416],[0.168317],[0.178218],[0.188119],[0.19802],[0.207921],[0.217822],[0.227723],[0.237624],[0.247525],[0.257426],[0.267327],[0.277228],[0.287129],[0.29703],[0.306931],[0.316832],[0.326733],[0.336634],[0.346535],[0.356436],[0.366337],[0.376238],[0.386139],[0.39604],[0.405941],[0.415842],[0.425743],[0.435644],[0.445545],[0.455446],[0.465347],[0.475248],[0.485149],[0.49505],[0.50495],[0.514851],[0.524752],[0.534653],[0.544554],[0.554455],[0.564356],[0.574257],[0.584158],[0.594059],[0.60396],[0.613861],[0.623762],[0.633663],[0.643564],[0.653465],[0.663366],[0.673267],[0.683168],[0.693069],[0.70297],[0.712871],[0.722772],[0.732673],[0.742574],[0.752475],[0.762376],[0.772277],[0.782178],[0.792079],[0.80198],[0.811881],[0.821782],[0.831683],[0.841584],[0.851485],[0.861386],[0.871287],[0.881188],[0.891089],[0.90099],[0.910891],[0.920792],[0.930693],[0.940594],[0.950495],[0.960396],[0.970297],[0.980198],[0.990099],[1]] simplices=[[0,1],[1,2],[2,3],[3,4],[4,5],[5,6],[6,7],[7,8],[8,9],[9,10],[10,11],[11,12],[12,13],[13,14],[14,15],[15,16],[16,17],[17,18],[18,19],[19,20],[20,21],[21,22],[22,23],[23,24],[24,25],[25,26],[26,27],[27,28],[28,29],[29,30],[30,31],[31,32],[32,33],[33,34],[34,35],[35,36],[36,37],[37,38],[38,39],[39,40],[40,41],[41,42],[42,43],[43,44],[44,45],[45,46],[46,47],[47,48],[48,49],[49,50],[50,51],[51,52],[52,53],[53,54],[54,55],[55,56],[56,57],[57,58],[58,59],[59,60],[60,61],[61,62],[62,63],[63,64],[64,65],[65,66],[66,67],[67,68],[68,69],[69,70],[70,71],[71,72],[72,73],[73,74],[74,75],[75,76],[76,77],[77,78],[78,79],[79,80],[80,81],[81,82],[82,83],[83,84],[84,85],[85,86],[86,87],[87,88],[88,89],[89,90],[90,91],[91,92],[92,93],[93,94],[94,95],[95,96],[96,97],[97,98],[98,99],[99,100],[100,101]] values=class=Sample name=Unnamed implementation=class=SampleImplementation name=Unnamed size=102 dimension=1 data=[[0.914862],[0.810547],[0.823279],[0.843625],[0.865782],[0.888642],[0.911577],[0.934021],[0.95539],[0.975085],[0.99251],[1.00709],[1.01833],[1.02581],[1.02925],[1.02852],[1.02366],[1.01489],[1.00257],[0.987216],[0.96944],[0.949919],[0.929353],[0.908426],[0.887766],[0.867927],[0.849367],[0.83244],[0.817395],[0.804379],[0.793447],[0.784571],[0.777654],[0.772543],[0.769038],[0.766912],[0.765919],[0.765804],[0.766318],[0.767228],[0.768322],[0.771712],[0.754848],[0.725948],[0.686503],[0.648807],[0.615637],[0.590331],[0.573819],[0.57108],[0.590641],[0.620143],[0.624832],[0.647603],[0.686486],[0.733704],[0.783758],[0.816824],[0.834042],[0.830663],[0.827745],[0.826185],[0.820296],[0.812589],[0.803241],[0.792273],[0.779851],[0.766226],[0.751602],[0.736028],[0.719706],[0.702835],[0.685605],[0.668196],[0.650775],[0.633494],[0.616489],[0.599885],[0.583794],[0.568317],[0.553548],[0.53957],[0.52646],[0.514283],[0.503095],[0.492936],[0.483832],[0.475788],[0.46879],[0.462802],[0.457766],[0.453605],[0.450226],[0.447528],[0.44541],[0.443785],[0.4426],[0.441864],[0.441728],[0.442719],[0.446943],[0.46994]],\n",
       "  class=Field name=Sobol_Y_0_Fnorm_ description=[v0,v0] implementation=class=FieldImplementation name=Sobol_Y_0_Fnorm_ mesh=class=Mesh name=1D_Grid dimension=1 vertices=class=Sample name=Unnamed implementation=class=SampleImplementation name=Unnamed size=102 dimension=1 data=[[0],[0.00990099],[0.019802],[0.029703],[0.039604],[0.049505],[0.0594059],[0.0693069],[0.0792079],[0.0891089],[0.0990099],[0.108911],[0.118812],[0.128713],[0.138614],[0.148515],[0.158416],[0.168317],[0.178218],[0.188119],[0.19802],[0.207921],[0.217822],[0.227723],[0.237624],[0.247525],[0.257426],[0.267327],[0.277228],[0.287129],[0.29703],[0.306931],[0.316832],[0.326733],[0.336634],[0.346535],[0.356436],[0.366337],[0.376238],[0.386139],[0.39604],[0.405941],[0.415842],[0.425743],[0.435644],[0.445545],[0.455446],[0.465347],[0.475248],[0.485149],[0.49505],[0.50495],[0.514851],[0.524752],[0.534653],[0.544554],[0.554455],[0.564356],[0.574257],[0.584158],[0.594059],[0.60396],[0.613861],[0.623762],[0.633663],[0.643564],[0.653465],[0.663366],[0.673267],[0.683168],[0.693069],[0.70297],[0.712871],[0.722772],[0.732673],[0.742574],[0.752475],[0.762376],[0.772277],[0.782178],[0.792079],[0.80198],[0.811881],[0.821782],[0.831683],[0.841584],[0.851485],[0.861386],[0.871287],[0.881188],[0.891089],[0.90099],[0.910891],[0.920792],[0.930693],[0.940594],[0.950495],[0.960396],[0.970297],[0.980198],[0.990099],[1]] simplices=[[0,1],[1,2],[2,3],[3,4],[4,5],[5,6],[6,7],[7,8],[8,9],[9,10],[10,11],[11,12],[12,13],[13,14],[14,15],[15,16],[16,17],[17,18],[18,19],[19,20],[20,21],[21,22],[22,23],[23,24],[24,25],[25,26],[26,27],[27,28],[28,29],[29,30],[30,31],[31,32],[32,33],[33,34],[34,35],[35,36],[36,37],[37,38],[38,39],[39,40],[40,41],[41,42],[42,43],[43,44],[44,45],[45,46],[46,47],[47,48],[48,49],[49,50],[50,51],[51,52],[52,53],[53,54],[54,55],[55,56],[56,57],[57,58],[58,59],[59,60],[60,61],[61,62],[62,63],[63,64],[64,65],[65,66],[66,67],[67,68],[68,69],[69,70],[70,71],[71,72],[72,73],[73,74],[74,75],[75,76],[76,77],[77,78],[78,79],[79,80],[80,81],[81,82],[82,83],[83,84],[84,85],[85,86],[86,87],[87,88],[88,89],[89,90],[90,91],[91,92],[92,93],[93,94],[94,95],[95,96],[96,97],[97,98],[98,99],[99,100],[100,101]] values=class=Sample name=Unnamed implementation=class=SampleImplementation name=Unnamed size=102 dimension=1 data=[[1.00023],[1.00016],[1.00016],[1.00015],[1.00015],[1.00015],[1.00015],[1.00015],[1.00015],[1.00015],[1.00015],[1.00015],[1.00015],[1.00015],[1.00014],[1.00014],[1.00014],[1.00014],[1.00014],[1.00014],[1.00014],[1.00013],[1.00013],[1.00013],[1.00012],[1.00012],[1.00011],[1.00011],[1.0001],[1.0001],[1.00009],[1.00009],[1.00008],[1.00008],[1.00008],[1.00007],[1.00007],[1.00007],[1.00006],[1.00006],[1.00006],[1.00006],[1.00005],[1.00004],[1.00003],[1.00003],[1.00002],[1.00002],[1.00002],[1.00001],[1.00001],[1.00001],[1.00001],[1.00001],[1.00001],[1.00002],[1.00002],[1.00001],[1.00001],[1],[1],[1],[1],[1],[1],[1],[1],[1],[1],[1],[1],[1],[1],[1],[1],[1],[1],[1],[1],[1],[1],[1],[1.00001],[1.00001],[1.00001],[1.00001],[1.00001],[1.00001],[1.00001],[1],[1],[1],[1],[1],[1],[1],[1],[1],[1],[1],[1.00001],[1.00001]],\n",
       "  class=Field name=Sobol_Y_0_D_ description=[v0,v0] implementation=class=FieldImplementation name=Sobol_Y_0_D_ mesh=class=Mesh name=1D_Grid dimension=1 vertices=class=Sample name=Unnamed implementation=class=SampleImplementation name=Unnamed size=102 dimension=1 data=[[0],[0.00990099],[0.019802],[0.029703],[0.039604],[0.049505],[0.0594059],[0.0693069],[0.0792079],[0.0891089],[0.0990099],[0.108911],[0.118812],[0.128713],[0.138614],[0.148515],[0.158416],[0.168317],[0.178218],[0.188119],[0.19802],[0.207921],[0.217822],[0.227723],[0.237624],[0.247525],[0.257426],[0.267327],[0.277228],[0.287129],[0.29703],[0.306931],[0.316832],[0.326733],[0.336634],[0.346535],[0.356436],[0.366337],[0.376238],[0.386139],[0.39604],[0.405941],[0.415842],[0.425743],[0.435644],[0.445545],[0.455446],[0.465347],[0.475248],[0.485149],[0.49505],[0.50495],[0.514851],[0.524752],[0.534653],[0.544554],[0.554455],[0.564356],[0.574257],[0.584158],[0.594059],[0.60396],[0.613861],[0.623762],[0.633663],[0.643564],[0.653465],[0.663366],[0.673267],[0.683168],[0.693069],[0.70297],[0.712871],[0.722772],[0.732673],[0.742574],[0.752475],[0.762376],[0.772277],[0.782178],[0.792079],[0.80198],[0.811881],[0.821782],[0.831683],[0.841584],[0.851485],[0.861386],[0.871287],[0.881188],[0.891089],[0.90099],[0.910891],[0.920792],[0.930693],[0.940594],[0.950495],[0.960396],[0.970297],[0.980198],[0.990099],[1]] simplices=[[0,1],[1,2],[2,3],[3,4],[4,5],[5,6],[6,7],[7,8],[8,9],[9,10],[10,11],[11,12],[12,13],[13,14],[14,15],[15,16],[16,17],[17,18],[18,19],[19,20],[20,21],[21,22],[22,23],[23,24],[24,25],[25,26],[26,27],[27,28],[28,29],[29,30],[30,31],[31,32],[32,33],[33,34],[34,35],[35,36],[36,37],[37,38],[38,39],[39,40],[40,41],[41,42],[42,43],[43,44],[44,45],[45,46],[46,47],[47,48],[48,49],[49,50],[50,51],[51,52],[52,53],[53,54],[54,55],[55,56],[56,57],[57,58],[58,59],[59,60],[60,61],[61,62],[62,63],[63,64],[64,65],[65,66],[66,67],[67,68],[68,69],[69,70],[70,71],[71,72],[72,73],[73,74],[74,75],[75,76],[76,77],[77,78],[78,79],[79,80],[80,81],[81,82],[82,83],[83,84],[84,85],[85,86],[86,87],[87,88],[88,89],[89,90],[90,91],[91,92],[92,93],[93,94],[94,95],[95,96],[96,97],[97,98],[98,99],[99,100],[100,101]] values=class=Sample name=Unnamed implementation=class=SampleImplementation name=Unnamed size=102 dimension=1 data=[[0.173286],[0.362289],[0.374974],[0.37803],[0.379138],[0.37939],[0.379128],[0.378537],[0.377762],[0.376934],[0.376187],[0.375649],[0.375445],[0.375693],[0.376492],[0.37792],[0.380029],[0.382837],[0.386324],[0.39044],[0.395098],[0.400184],[0.405566],[0.411095],[0.416623],[0.422001],[0.427094],[0.431778],[0.435952],[0.43953],[0.442448],[0.444661],[0.44614],[0.44687],[0.446849],[0.446084],[0.444589],[0.442382],[0.439486],[0.435926],[0.431729],[0.429015],[0.459343],[0.511329],[0.590831],[0.655804],[0.723806],[0.772016],[0.83036],[0.905673],[0.926501],[0.901361],[0.895695],[0.887396],[0.831682],[0.735109],[0.652088],[0.589357],[0.551421],[0.527469],[0.504614],[0.480418],[0.462873],[0.445182],[0.422128],[0.398343],[0.375669],[0.363429],[0.365692],[0.367578],[0.369116],[0.370362],[0.37139],[0.372298],[0.373196],[0.374203],[0.375444],[0.377034],[0.37908],[0.381667],[0.384854],[0.388669],[0.393105],[0.398124],[0.403655],[0.409603],[0.415856],[0.422295],[0.428801],[0.435267],[0.441605],[0.447746],[0.453649],[0.459295],[0.464681],[0.469813],[0.474688],[0.479273],[0.483448],[0.486838],[0.487983],[0.476174]],\n",
       "  class=Field name=Sobol_Y_0_Fpos_ description=[v0,v0] implementation=class=FieldImplementation name=Sobol_Y_0_Fpos_ mesh=class=Mesh name=1D_Grid dimension=1 vertices=class=Sample name=Unnamed implementation=class=SampleImplementation name=Unnamed size=102 dimension=1 data=[[0],[0.00990099],[0.019802],[0.029703],[0.039604],[0.049505],[0.0594059],[0.0693069],[0.0792079],[0.0891089],[0.0990099],[0.108911],[0.118812],[0.128713],[0.138614],[0.148515],[0.158416],[0.168317],[0.178218],[0.188119],[0.19802],[0.207921],[0.217822],[0.227723],[0.237624],[0.247525],[0.257426],[0.267327],[0.277228],[0.287129],[0.29703],[0.306931],[0.316832],[0.326733],[0.336634],[0.346535],[0.356436],[0.366337],[0.376238],[0.386139],[0.39604],[0.405941],[0.415842],[0.425743],[0.435644],[0.445545],[0.455446],[0.465347],[0.475248],[0.485149],[0.49505],[0.50495],[0.514851],[0.524752],[0.534653],[0.544554],[0.554455],[0.564356],[0.574257],[0.584158],[0.594059],[0.60396],[0.613861],[0.623762],[0.633663],[0.643564],[0.653465],[0.663366],[0.673267],[0.683168],[0.693069],[0.70297],[0.712871],[0.722772],[0.732673],[0.742574],[0.752475],[0.762376],[0.772277],[0.782178],[0.792079],[0.80198],[0.811881],[0.821782],[0.831683],[0.841584],[0.851485],[0.861386],[0.871287],[0.881188],[0.891089],[0.90099],[0.910891],[0.920792],[0.930693],[0.940594],[0.950495],[0.960396],[0.970297],[0.980198],[0.990099],[1]] simplices=[[0,1],[1,2],[2,3],[3,4],[4,5],[5,6],[6,7],[7,8],[8,9],[9,10],[10,11],[11,12],[12,13],[13,14],[14,15],[15,16],[16,17],[17,18],[18,19],[19,20],[20,21],[21,22],[22,23],[23,24],[24,25],[25,26],[26,27],[27,28],[28,29],[29,30],[30,31],[31,32],[32,33],[33,34],[34,35],[35,36],[36,37],[37,38],[38,39],[39,40],[40,41],[41,42],[42,43],[43,44],[44,45],[45,46],[46,47],[47,48],[48,49],[49,50],[50,51],[51,52],[52,53],[53,54],[54,55],[55,56],[56,57],[57,58],[58,59],[59,60],[60,61],[61,62],[62,63],[63,64],[64,65],[65,66],[66,67],[67,68],[68,69],[69,70],[70,71],[71,72],[72,73],[73,74],[74,75],[75,76],[76,77],[77,78],[78,79],[79,80],[80,81],[81,82],[82,83],[83,84],[84,85],[85,86],[86,87],[87,88],[88,89],[89,90],[90,91],[91,92],[92,93],[93,94],[94,95],[95,96],[96,97],[97,98],[98,99],[99,100],[100,101]] values=class=Sample name=Unnamed implementation=class=SampleImplementation name=Unnamed size=102 dimension=1 data=[[0.793659],[0.804184],[0.80158],[0.798072],[0.794445],[0.790865],[0.787436],[0.784245],[0.78138],[0.778925],[0.776956],[0.775543],[0.774745],[0.774605],[0.775151],[0.776392],[0.778319],[0.780902],[0.784098],[0.787846],[0.792075],[0.796708],[0.801664],[0.806863],[0.812229],[0.817694],[0.823197],[0.828689],[0.834128],[0.839481],[0.844723],[0.849832],[0.85479],[0.859582],[0.864189],[0.868592],[0.872766],[0.876682],[0.880309],[0.883609],[0.886541],[0.887749],[0.884729],[0.880197],[0.873258],[0.866213],[0.866108],[0.871249],[0.872321],[0.870184],[0.869892],[0.867582],[0.840148],[0.812471],[0.803829],[0.806134],[0.796942],[0.790476],[0.78539],[0.788042],[0.785555],[0.780739],[0.780118],[0.779978],[0.780108],[0.780762],[0.781876],[0.78314],[0.784391],[0.786045],[0.788049],[0.790349],[0.792887],[0.795606],[0.798458],[0.801396],[0.804384],[0.807392],[0.810396],[0.813378],[0.816328],[0.819234],[0.82209],[0.824888],[0.82762],[0.830277],[0.832849],[0.835321],[0.83768],[0.83991],[0.841996],[0.843919],[0.845662],[0.847209],[0.84854],[0.849636],[0.850471],[0.851012],[0.851204],[0.850919],[0.849707],[0.84429]]],\n",
       " [class=Point name=Sobol_Y_1_Rho_ dimension=1 values=[0.0782087],\n",
       "  class=Point name=Sobol_Y_1_E_ dimension=1 values=[0.94105],\n",
       "  class=Point name=Sobol_Y_1_Fnorm_ dimension=1 values=[1.00017],\n",
       "  class=Point name=Sobol_Y_1_D_ dimension=1 values=[1.05824],\n",
       "  class=Point name=Sobol_Y_1_Fpos_ dimension=1 values=[0.934373]]]"
      ]
     },
     "execution_count": 10,
     "metadata": {},
     "output_type": "execute_result"
    }
   ],
   "source": [
    "FieldSensitivityAnalysis.getFirstOrderIndices()"
   ]
  },
  {
   "cell_type": "code",
   "execution_count": 11,
   "metadata": {},
   "outputs": [
    {
     "data": {
      "text/plain": [
       "[class=Interval name=Bounds_Sobol_Y_0 dimension=5 lower bound=class=Point name=Unnamed dimension=5 values=[0.999102,0.483259,0.999102,0.138541,0.608806] upper bound=class=Point name=Unnamed dimension=5 values=[1.01317,0.9188,1.01317,0.831901,1.07824] finite lower bound=[1,1,1,1,1] finite upper bound=[1,1,1,1,1],\n",
       " class=Interval name=Bounds_Sobol_Y_1 dimension=5 lower bound=class=Point name=Unnamed dimension=5 values=[-0.456658,0.674648,0.997656,0.968967,0.77058] upper bound=class=Point name=Unnamed dimension=5 values=[0.370376,1.12448,1.02511,1.15674,1.11233] finite lower bound=[1,1,1,1,1] finite upper bound=[1,1,1,1,1]]"
      ]
     },
     "execution_count": 11,
     "metadata": {},
     "output_type": "execute_result"
    }
   ],
   "source": [
    "FieldSensitivityAnalysis.getFirstOrderIndicesInterval()"
   ]
  },
  {
   "cell_type": "code",
   "execution_count": 12,
   "metadata": {},
   "outputs": [
    {
     "data": {
      "text/plain": [
       "[class=PointWithDescription name=Sobol_Y_0 dimension=5 description=[Y_0_Rho_,Y_0_E_,Y_0_Fnorm_,Y_0_D_,Y_0_Fpos_] values=[1.00004,0.731932,1.00004,0.533964,0.832405],\n",
       " class=PointWithDescription name=Sobol_Y_1 dimension=5 description=[Y_1_Rho_,Y_1_E_,Y_1_Fnorm_,Y_1_D_,Y_1_Fpos_] values=[0.0782087,0.94105,1.00017,1.05824,0.934373]]"
      ]
     },
     "execution_count": 12,
     "metadata": {},
     "output_type": "execute_result"
    }
   ],
   "source": [
    "FieldSensitivityAnalysis.getAggregatedFirstOrderIndices()"
   ]
  },
  {
   "cell_type": "code",
   "execution_count": 13,
   "metadata": {},
   "outputs": [
    {
     "data": {
      "text/plain": [
       "[class=PointWithDescription name=Sobol_Y_0 dimension=5 description=[Y_0_Rho_,Y_0_E_,Y_0_Fnorm_,Y_0_D_,Y_0_Fpos_] values=[-3.61294e-05,0.268068,-3.6187e-05,0.466036,0.167595],\n",
       " class=PointWithDescription name=Sobol_Y_1 dimension=5 description=[Y_1_Rho_,Y_1_E_,Y_1_Fnorm_,Y_1_D_,Y_1_Fpos_] values=[0.921791,0.0589501,-0.00017141,-0.058239,0.0656273]]"
      ]
     },
     "execution_count": 13,
     "metadata": {},
     "output_type": "execute_result"
    }
   ],
   "source": [
    "FieldSensitivityAnalysis.getAggregatedTotalOrderIndices()"
   ]
  },
  {
   "cell_type": "code",
   "execution_count": 14,
   "metadata": {},
   "outputs": [
    {
     "name": "stdout",
     "output_type": "stream",
     "text": [
      "Cannot convert distribution to field, dimensional correlation lost.\n",
      "Cannot convert distribution to field, dimensional correlation lost.\n"
     ]
    },
    {
     "data": {
      "text/plain": [
       "[class=KernelMixture name=Y_0 kernel=class=Normal name=Normal dimension=1 mean=class=Point name=Unnamed dimension=1 values=[0] sigma=class=Point name=Unnamed dimension=1 values=[1] correlationMatrix=class=CorrelationMatrix dimension=1 implementation=class=MatrixImplementation name=Unnamed rows=1 columns=1 values=[1] bandwidth=class=Point name=Unnamed dimension=5 values=[0.000966956,0.0571566,0.000966948,0.0767147,0.061616] sample=class=Sample name=Unnamed implementation=class=SampleImplementation name=Unnamed size=100 dimension=5 data=[[1.00097,0.788192,1.00097,0.485245,0.764348],[1.00317,0.707582,1.00317,0.427359,0.958901],[1.00186,0.854249,1.00186,0.418543,0.787679],[1.00201,0.645932,1.00201,0.419613,0.904836],[1.00266,0.768553,1.00266,0.757849,0.839468],[1.0005,0.596435,1.0005,0.66303,0.783344],[1.00495,0.602146,1.00495,0.289869,1.04658],[1.011,0.806177,1.011,0.559406,0.627701],[1.00251,0.775898,1.00251,0.537508,0.752213],[1.00456,0.771822,1.00456,0.398132,1.01496],[1.00184,0.668123,1.00184,0.657868,0.729393],[1.01767,0.745842,1.01767,-0.0199197,1.11472],[1.00129,0.819382,1.00129,0.551395,0.93076],[1.0011,0.707643,1.0011,0.445556,0.788972],[1.00012,0.509686,1.00012,0.673057,0.755968],[1.00255,0.777015,1.00255,0.645769,0.758546],[1.0003,0.664594,1.0003,0.826764,0.824336],[1.00048,0.83982,1.00048,0.554081,1.06377],[1.00162,0.777752,1.00162,0.459509,0.878167],[1.00018,0.705053,1.00018,0.6956,0.744401],[1.00716,0.555684,1.00716,0.64697,0.592723],[1.00015,0.658987,1.00015,0.0892335,0.886443],[1.00196,0.716692,1.00196,0.589221,0.797583],[1.00147,0.441792,1.00147,0.518765,0.849389],[1.00304,0.889743,1.00304,0.298375,0.810005],[1.00038,0.817238,1.00038,0.562353,0.777357],[1.00497,0.623431,1.00497,0.610714,0.969433],[1.00136,0.781546,1.00136,0.522238,0.823723],[1.00103,0.445578,1.00103,0.566801,0.813286],[1.00719,0.643544,1.00719,0.364859,0.913367],[1.00262,0.774605,1.00262,0.557716,0.874167],[1.00084,0.707763,1.00084,0.573978,0.756796],[1.00126,0.612007,1.00126,0.827719,0.838982],[1.01012,0.736559,1.01012,0.26941,0.920698],[1.0012,0.685396,1.0012,0.735707,0.920135],[1.00074,0.8175,1.00074,0.39199,0.766735],[1.00175,0.672504,1.00175,0.548248,0.765472],[1.00065,0.776599,1.00065,0.44953,0.829755],[1.00527,0.610233,1.00527,0.733623,0.747563],[1.01412,0.621115,1.01412,0.830427,0.879783],[1.00162,0.754019,1.00162,0.531092,0.791575],[1.00504,0.732419,1.00504,0.596885,0.783637],[1.00208,0.804029,1.00208,0.542985,0.981893],[1.0012,0.719245,1.0012,0.590742,0.877666],[1.00299,0.620805,1.00299,0.799408,0.725231],[1.00264,0.599002,1.00264,0.655223,0.829135],[1.00395,0.697796,1.00395,0.488422,0.942931],[1.00019,0.743433,1.00019,0.486613,0.759778],[1.00061,0.749663,1.00061,0.302663,0.812497],[1.00158,0.800038,1.00158,0.466841,0.801607],[1.00056,0.765229,1.00056,0.331264,0.952077],[1.00154,0.635454,1.00154,0.447178,0.930932],[1.00054,0.807265,1.00054,0.439588,0.849721],[1.00127,0.712033,1.00127,0.580306,0.842005],[1.0014,0.676888,1.0014,0.277905,0.836314],[1.00813,0.628361,1.00813,0.519813,0.656012],[1.00182,0.70368,1.00182,0.652923,0.742211],[1.00039,0.612718,1.00039,0.608492,0.808163],[1.00116,0.986022,1.00116,0.347945,0.898216],[1.00075,0.740102,1.00075,0.333695,0.801845],[1.01331,0.890128,1.01331,0.493425,0.908787],[1.00171,0.763749,1.00171,0.371016,0.96202],[1.00055,0.688065,1.00055,0.654583,0.873293],[1.00086,0.775957,1.00086,0.46802,0.904672],[1.00281,0.730545,1.00281,0.669113,0.716271],[1.00005,0.673698,1.00005,0.51719,0.845781],[1.00192,0.824304,1.00192,0.461178,0.804555],[1.00093,0.830548,1.00093,0.457849,0.980031],[1.00494,0.553997,1.00494,0.555349,0.871468],[1.00372,0.600955,1.00372,0.517637,0.638125],[1.00107,0.669563,1.00107,0.571159,0.739623],[1.0002,0.677993,1.0002,0.516099,0.860204],[1.00119,0.765057,1.00119,0.459895,0.804161],[1.00178,0.721905,1.00178,0.527021,0.718415],[1.00207,0.618552,1.00207,0.601352,0.813318],[1.00157,0.764756,1.00157,0.232522,0.912065],[1.00441,0.799788,1.00441,0.337267,0.851533],[1.00456,0.836547,1.00456,0.443007,0.737787],[1.00142,0.794999,1.00142,0.556861,1.01094],[1.00199,0.535104,1.00199,0.387829,0.94675],[1.0024,0.728248,1.0024,0.651561,0.686718],[1.00174,0.748477,1.00174,0.594956,0.804436],[1.00191,0.568981,1.00191,0.578654,0.957205],[1.0003,0.71292,1.0003,0.566169,0.929311],[1.00084,0.823919,1.00084,0.443249,1.04805],[1.00088,0.617373,1.00088,0.503714,0.854878],[1.00305,0.746625,1.00305,0.446326,0.809059],[1.00242,0.721426,1.00242,0.425625,0.775577],[1.0041,0.608303,1.0041,0.756999,0.767472],[1.0003,0.752687,1.0003,0.400617,0.833509],[1.00583,0.750974,1.00583,0.292955,1.00663],[1.0004,0.790163,1.0004,0.629137,0.772595],[1.00286,0.801128,1.00286,0.576437,0.68645],[1.00072,0.650451,1.00072,0.579663,0.861592],[1.00169,0.7394,1.00169,0.182106,0.704169],[1.00217,0.618415,1.00217,0.589553,0.697644],[1.0041,0.721876,1.0041,0.636647,0.635311],[1.01188,0.729243,1.01188,0.206326,0.846658],[1.00128,0.673246,1.00128,0.629614,0.810719],[1.0052,0.867803,1.0052,0.313386,0.817088]],\n",
       " class=KernelMixture name=Y_1 kernel=class=Normal name=Normal dimension=1 mean=class=Point name=Unnamed dimension=1 values=[0] sigma=class=Point name=Unnamed dimension=1 values=[1] correlationMatrix=class=CorrelationMatrix dimension=1 implementation=class=MatrixImplementation name=Unnamed rows=1 columns=1 values=[1] bandwidth=class=Point name=Unnamed dimension=5 values=[0.0974271,0.0483898,0.00163836,0.0172953,0.036114] sample=class=Sample name=Unnamed implementation=class=SampleImplementation name=Unnamed size=100 dimension=5 data=[[-0.148984,1.02018,1.00031,1.07683,1.12103],[-0.0551098,0.96968,1.00499,1.10249,0.89136],[-0.150298,0.78892,1.00589,1.05053,0.787904],[-0.0787544,0.942538,1.0022,1.08508,0.881946],[-0.105676,0.963862,1,1.03666,0.980154],[0.207364,0.930229,1.00005,1.05522,0.936006],[-0.237363,0.786877,1.00015,1.00245,0.801222],[0.0696794,0.707921,1.00087,1.05855,0.762627],[0.0253252,0.846393,1.00004,1.04174,0.910654],[0.256293,0.903373,1.00009,1.05614,0.89957],[-0.0960199,1.02178,1.00761,1.11039,0.877723],[-0.532441,0.958554,1.02425,1.18751,0.818236],[0.0420277,0.867787,1.00008,1.05425,0.933827],[0.152598,1.01495,1.00091,1.08742,0.923577],[0.00195144,0.934897,1.00257,1.08654,0.904315],[-0.114913,0.972927,1.00281,1.08735,0.9492],[0.230901,0.930459,1.00074,1.00387,0.98248],[0.14111,1.08421,1.00014,1.05275,0.962443],[0.092556,1.04504,1.00426,1.10022,0.939883],[0.0855528,1.11157,1.00087,1.11715,1.02916],[-0.0506309,1.05589,1.00082,1.09645,1.00042],[-0.0750703,0.878165,1.00163,1.01375,0.967339],[0.186975,0.976516,1.00615,1.02151,1.07869],[0.0164031,0.936996,1.00007,1.05002,0.982895],[0.0341122,1.05224,1.00841,1.11749,0.94564],[-0.343677,0.874638,1.00964,1.03737,1.09121],[0.0558255,0.885841,1.00287,1.07092,0.788445],[-0.00694042,0.967992,1.00083,1.08802,0.98205],[0.115834,0.923835,1.00506,0.984269,1.12006],[-0.0190492,1.01116,1.00389,1.04634,0.929155],[0.0930424,0.946902,1.00125,1.07196,0.969394],[-0.316163,0.877365,1.00452,1.04744,0.819905],[0.233706,0.770724,1.00585,1.02661,0.959796],[-0.177784,0.887303,1.00346,1.08384,0.902985],[0.0154958,0.639002,1.01188,1.00668,0.914702],[-0.24511,0.929733,1.00164,1.07911,0.925495],[0.068269,1.02906,1.00117,1.09547,0.929503],[0.0362445,0.899436,1.00298,1.05691,0.912552],[-0.0982427,1.00631,1.00017,1.06562,1.07567],[0.0617764,0.83214,1.00058,1.073,0.886486],[0.267049,0.769158,1.00234,0.980478,0.918085],[0.155284,1.05553,1.0002,1.05942,0.937001],[0.113722,0.995316,1.0006,1.05756,0.96088],[-0.303269,0.977396,1.0029,1.09881,0.950151],[-0.793599,0.984315,1.0301,1.18542,0.834704],[0.136466,0.987846,1.00078,1.06957,0.856999],[-0.0114508,1.12127,1.0002,1.09767,1.05616],[0.0661476,0.874621,1.00025,1.04352,0.928311],[0.0401999,0.965752,1.00014,1.08168,1.00924],[0.14249,0.665258,1.01687,0.973995,0.912048],[0.0616875,1.07013,1.004,1.10362,1.00254],[0.2191,0.95863,1.00002,1.07048,0.927193],[0.00923516,0.854878,1.00192,0.989539,0.844991],[-0.0148798,1.02431,1.00069,1.07803,0.940269],[0.255031,0.96251,1.00213,1.06994,0.909549],[-0.0810946,0.922331,1,1.05222,0.947494],[0.0995718,0.863657,1.00006,1.05456,0.920292],[-0.123218,0.874552,1.00094,1.0741,0.944825],[0.363292,0.929605,1.00263,1.04225,0.955739],[0.126991,0.88825,1.00055,1.05624,1.00145],[-0.0210639,1.0264,1.00752,1.10539,0.904638],[0.2255,0.925959,1.00173,1.07232,0.979314],[0.128514,0.897105,1.00064,1.02639,0.827849],[-0.399553,0.885807,1.00928,1.09035,0.879476],[0.142028,0.871383,1.00343,1.04968,0.938667],[-0.184764,0.986024,1.00414,1.07575,0.938365],[0.292767,0.829863,1,1.03499,0.86131],[-0.196532,0.96767,1.00137,1.0693,1.07846],[0.0569978,0.955238,1.00222,1.05608,0.923623],[0.14164,0.988864,1.00217,1.04982,0.887106],[-0.0797966,1.06911,1.00108,1.07613,1.04627],[-0.222248,1.03357,1.02372,1.15853,0.813822],[-0.00761537,1.05968,1.0049,1.1155,0.925297],[0.170063,0.949629,1.00021,1.06692,0.94403],[-0.215953,0.814465,1.01162,1.09189,0.765353],[-0.319057,1.01909,1.00412,1.0741,0.939902],[0.0953578,0.992313,1.00025,1.06007,1.00408],[0.225975,0.9446,1.00012,1.05228,0.992755],[0.0937212,0.995604,1.00092,1.04321,0.950048],[0.197028,1.05948,1.00181,1.07066,0.958493],[-0.132046,0.937003,1.0027,1.06373,1.01089],[0.00430666,0.963968,1.00323,1.09703,0.900104],[0.122299,0.959556,1.00087,1.06861,1.01315],[0.268838,0.989078,1.00003,1.059,0.920925],[-0.0192806,0.889013,1.0044,1.08858,0.870099],[0.169355,0.988389,1.00058,1.082,0.926006],[0.18204,0.825168,1.00027,1.03922,0.818486],[-0.00913321,1.0199,1.0025,1.08213,0.886879],[0.00697317,0.91703,1.00001,1.03252,0.870157],[0.131356,0.809975,1.00038,1.03625,0.926584],[-0.0121833,0.958042,1.0002,1.05859,0.873429],[0.209494,0.961299,1.00004,1.06164,1.00107],[0.00369187,0.919373,1.00024,1.03836,0.908815],[0.135607,0.952168,1.00211,0.951038,1.06906],[0.0810001,0.628004,1.03664,0.962952,1.08368],[0.0151962,0.969503,1.00273,1.0785,0.951444],[0.38433,0.950562,1.00041,1.04878,0.915891],[-0.115034,1.10632,1.00633,1.10684,0.992028],[0.118118,0.960572,1.00083,1.07964,0.912777],[-0.297697,1.07292,1.0027,1.10772,1.06332]]]"
      ]
     },
     "execution_count": 14,
     "metadata": {},
     "output_type": "execute_result"
    }
   ],
   "source": [
    "FieldSensitivityAnalysis.getFirstOrderIndicesDistribution()"
   ]
  },
  {
   "cell_type": "code",
   "execution_count": 15,
   "metadata": {},
   "outputs": [
    {
     "data": {
      "text/plain": [
       "[[class=Field name=TotalOrderSobol_Y_0_Rho_ description=[v0,v0] implementation=class=FieldImplementation name=TotalOrderSobol_Y_0_Rho_ mesh=class=Mesh name=1D_Grid dimension=1 vertices=class=Sample name=Unnamed implementation=class=SampleImplementation name=Unnamed size=102 dimension=1 data=[[0],[0.00990099],[0.019802],[0.029703],[0.039604],[0.049505],[0.0594059],[0.0693069],[0.0792079],[0.0891089],[0.0990099],[0.108911],[0.118812],[0.128713],[0.138614],[0.148515],[0.158416],[0.168317],[0.178218],[0.188119],[0.19802],[0.207921],[0.217822],[0.227723],[0.237624],[0.247525],[0.257426],[0.267327],[0.277228],[0.287129],[0.29703],[0.306931],[0.316832],[0.326733],[0.336634],[0.346535],[0.356436],[0.366337],[0.376238],[0.386139],[0.39604],[0.405941],[0.415842],[0.425743],[0.435644],[0.445545],[0.455446],[0.465347],[0.475248],[0.485149],[0.49505],[0.50495],[0.514851],[0.524752],[0.534653],[0.544554],[0.554455],[0.564356],[0.574257],[0.584158],[0.594059],[0.60396],[0.613861],[0.623762],[0.633663],[0.643564],[0.653465],[0.663366],[0.673267],[0.683168],[0.693069],[0.70297],[0.712871],[0.722772],[0.732673],[0.742574],[0.752475],[0.762376],[0.772277],[0.782178],[0.792079],[0.80198],[0.811881],[0.821782],[0.831683],[0.841584],[0.851485],[0.861386],[0.871287],[0.881188],[0.891089],[0.90099],[0.910891],[0.920792],[0.930693],[0.940594],[0.950495],[0.960396],[0.970297],[0.980198],[0.990099],[1]] simplices=[[0,1],[1,2],[2,3],[3,4],[4,5],[5,6],[6,7],[7,8],[8,9],[9,10],[10,11],[11,12],[12,13],[13,14],[14,15],[15,16],[16,17],[17,18],[18,19],[19,20],[20,21],[21,22],[22,23],[23,24],[24,25],[25,26],[26,27],[27,28],[28,29],[29,30],[30,31],[31,32],[32,33],[33,34],[34,35],[35,36],[36,37],[37,38],[38,39],[39,40],[40,41],[41,42],[42,43],[43,44],[44,45],[45,46],[46,47],[47,48],[48,49],[49,50],[50,51],[51,52],[52,53],[53,54],[54,55],[55,56],[56,57],[57,58],[58,59],[59,60],[60,61],[61,62],[62,63],[63,64],[64,65],[65,66],[66,67],[67,68],[68,69],[69,70],[70,71],[71,72],[72,73],[73,74],[74,75],[75,76],[76,77],[77,78],[78,79],[79,80],[80,81],[81,82],[82,83],[83,84],[84,85],[85,86],[86,87],[87,88],[88,89],[89,90],[90,91],[91,92],[92,93],[93,94],[94,95],[95,96],[96,97],[97,98],[98,99],[99,100],[100,101]] values=class=Sample name=Unnamed implementation=class=SampleImplementation name=Unnamed size=102 dimension=1 data=[[-0.000225488],[-0.000162445],[-0.000156639],[-0.000153912],[-0.00015191],[-0.000150309],[-0.000149019],[-0.000147995],[-0.000147198],[-0.000146589],[-0.000146119],[-0.000145734],[-0.00014537],[-0.000144959],[-0.000144428],[-0.000143702],[-0.000142715],[-0.000141403],[-0.000139716],[-0.00013762],[-0.000135093],[-0.000132135],[-0.000128761],[-0.000125],[-0.000120896],[-0.000116505],[-0.000111888],[-0.000107116],[-0.000102259],[-9.73929e-05],[-9.25898e-05],[-8.79227e-05],[-8.34614e-05],[-7.92721e-05],[-7.54168e-05],[-7.19521e-05],[-6.89293e-05],[-6.63933e-05],[-6.43831e-05],[-6.29317e-05],[-6.20662e-05],[-5.99432e-05],[-5.06858e-05],[-4.15134e-05],[-3.3716e-05],[-2.6836e-05],[-1.88145e-05],[-1.86493e-05],[-1.59357e-05],[-1.12843e-05],[-1.12053e-05],[-1.08166e-05],[-8.76828e-06],[-8.03718e-06],[-1.05117e-05],[-1.6375e-05],[-1.89571e-05],[-1.36134e-05],[-5.94581e-06],[-3.91628e-06],[-4.1615e-06],[-3.63783e-06],[-1.91262e-06],[-6.63729e-07],[-1.49703e-07],[2.51402e-08],[-1.74184e-07],[-3.52749e-07],[-1.48497e-07],[-1.91113e-08],[3.07609e-08],[-4.44591e-09],[-1.30382e-07],[-3.51577e-07],[-6.70322e-07],[-1.08525e-06],[-1.59021e-06],[-2.17311e-06],[-2.81526e-06],[-3.49119e-06],[-4.16906e-06],[-4.81187e-06],[-5.37943e-06],[-5.83096e-06],[-6.12836e-06],[-6.23966e-06],[-6.14262e-06],[-5.82798e-06],[-5.30224e-06],[-4.58964e-06],[-3.73303e-06],[-2.79371e-06],[-1.84984e-06],[-9.93461e-07],[-3.26116e-07],[4.68469e-08],[2.31369e-08],[-4.88825e-07],[-1.56161e-06],[-3.23802e-06],[-5.50324e-06],[-8.04098e-06]],\n",
       "  class=Field name=TotalOrderSobol_Y_0_E_ description=[v0,v0] implementation=class=FieldImplementation name=TotalOrderSobol_Y_0_E_ mesh=class=Mesh name=1D_Grid dimension=1 vertices=class=Sample name=Unnamed implementation=class=SampleImplementation name=Unnamed size=102 dimension=1 data=[[0],[0.00990099],[0.019802],[0.029703],[0.039604],[0.049505],[0.0594059],[0.0693069],[0.0792079],[0.0891089],[0.0990099],[0.108911],[0.118812],[0.128713],[0.138614],[0.148515],[0.158416],[0.168317],[0.178218],[0.188119],[0.19802],[0.207921],[0.217822],[0.227723],[0.237624],[0.247525],[0.257426],[0.267327],[0.277228],[0.287129],[0.29703],[0.306931],[0.316832],[0.326733],[0.336634],[0.346535],[0.356436],[0.366337],[0.376238],[0.386139],[0.39604],[0.405941],[0.415842],[0.425743],[0.435644],[0.445545],[0.455446],[0.465347],[0.475248],[0.485149],[0.49505],[0.50495],[0.514851],[0.524752],[0.534653],[0.544554],[0.554455],[0.564356],[0.574257],[0.584158],[0.594059],[0.60396],[0.613861],[0.623762],[0.633663],[0.643564],[0.653465],[0.663366],[0.673267],[0.683168],[0.693069],[0.70297],[0.712871],[0.722772],[0.732673],[0.742574],[0.752475],[0.762376],[0.772277],[0.782178],[0.792079],[0.80198],[0.811881],[0.821782],[0.831683],[0.841584],[0.851485],[0.861386],[0.871287],[0.881188],[0.891089],[0.90099],[0.910891],[0.920792],[0.930693],[0.940594],[0.950495],[0.960396],[0.970297],[0.980198],[0.990099],[1]] simplices=[[0,1],[1,2],[2,3],[3,4],[4,5],[5,6],[6,7],[7,8],[8,9],[9,10],[10,11],[11,12],[12,13],[13,14],[14,15],[15,16],[16,17],[17,18],[18,19],[19,20],[20,21],[21,22],[22,23],[23,24],[24,25],[25,26],[26,27],[27,28],[28,29],[29,30],[30,31],[31,32],[32,33],[33,34],[34,35],[35,36],[36,37],[37,38],[38,39],[39,40],[40,41],[41,42],[42,43],[43,44],[44,45],[45,46],[46,47],[47,48],[48,49],[49,50],[50,51],[51,52],[52,53],[53,54],[54,55],[55,56],[56,57],[57,58],[58,59],[59,60],[60,61],[61,62],[62,63],[63,64],[64,65],[65,66],[66,67],[67,68],[68,69],[69,70],[70,71],[71,72],[72,73],[73,74],[74,75],[75,76],[76,77],[77,78],[78,79],[79,80],[80,81],[81,82],[82,83],[83,84],[84,85],[85,86],[86,87],[87,88],[88,89],[89,90],[90,91],[91,92],[92,93],[93,94],[94,95],[95,96],[96,97],[97,98],[98,99],[99,100],[100,101]] values=class=Sample name=Unnamed implementation=class=SampleImplementation name=Unnamed size=102 dimension=1 data=[[0.0851383],[0.189453],[0.176721],[0.156375],[0.134218],[0.111358],[0.0884226],[0.0659794],[0.0446104],[0.0249145],[0.00748998],[-0.00709414],[-0.0183309],[-0.0258101],[-0.0292496],[-0.0285208],[-0.0236637],[-0.0148896],[-0.00257055],[0.0127839],[0.0305603],[0.0500811],[0.0706465],[0.0915744],[0.112234],[0.132073],[0.150633],[0.16756],[0.182605],[0.195621],[0.206553],[0.215429],[0.222346],[0.227457],[0.230962],[0.233088],[0.234081],[0.234196],[0.233682],[0.232772],[0.231678],[0.228288],[0.245152],[0.274052],[0.313497],[0.351193],[0.384363],[0.409669],[0.426181],[0.42892],[0.409359],[0.379857],[0.375168],[0.352397],[0.313514],[0.266296],[0.216242],[0.183176],[0.165958],[0.169337],[0.172255],[0.173815],[0.179704],[0.187411],[0.196759],[0.207727],[0.220149],[0.233774],[0.248398],[0.263972],[0.280294],[0.297165],[0.314395],[0.331804],[0.349225],[0.366506],[0.383511],[0.400115],[0.416206],[0.431683],[0.446452],[0.46043],[0.47354],[0.485717],[0.496905],[0.507064],[0.516168],[0.524212],[0.53121],[0.537198],[0.542234],[0.546395],[0.549774],[0.552472],[0.55459],[0.556215],[0.5574],[0.558136],[0.558272],[0.557281],[0.553057],[0.53006]],\n",
       "  class=Field name=TotalOrderSobol_Y_0_Fnorm_ description=[v0,v0] implementation=class=FieldImplementation name=TotalOrderSobol_Y_0_Fnorm_ mesh=class=Mesh name=1D_Grid dimension=1 vertices=class=Sample name=Unnamed implementation=class=SampleImplementation name=Unnamed size=102 dimension=1 data=[[0],[0.00990099],[0.019802],[0.029703],[0.039604],[0.049505],[0.0594059],[0.0693069],[0.0792079],[0.0891089],[0.0990099],[0.108911],[0.118812],[0.128713],[0.138614],[0.148515],[0.158416],[0.168317],[0.178218],[0.188119],[0.19802],[0.207921],[0.217822],[0.227723],[0.237624],[0.247525],[0.257426],[0.267327],[0.277228],[0.287129],[0.29703],[0.306931],[0.316832],[0.326733],[0.336634],[0.346535],[0.356436],[0.366337],[0.376238],[0.386139],[0.39604],[0.405941],[0.415842],[0.425743],[0.435644],[0.445545],[0.455446],[0.465347],[0.475248],[0.485149],[0.49505],[0.50495],[0.514851],[0.524752],[0.534653],[0.544554],[0.554455],[0.564356],[0.574257],[0.584158],[0.594059],[0.60396],[0.613861],[0.623762],[0.633663],[0.643564],[0.653465],[0.663366],[0.673267],[0.683168],[0.693069],[0.70297],[0.712871],[0.722772],[0.732673],[0.742574],[0.752475],[0.762376],[0.772277],[0.782178],[0.792079],[0.80198],[0.811881],[0.821782],[0.831683],[0.841584],[0.851485],[0.861386],[0.871287],[0.881188],[0.891089],[0.90099],[0.910891],[0.920792],[0.930693],[0.940594],[0.950495],[0.960396],[0.970297],[0.980198],[0.990099],[1]] simplices=[[0,1],[1,2],[2,3],[3,4],[4,5],[5,6],[6,7],[7,8],[8,9],[9,10],[10,11],[11,12],[12,13],[13,14],[14,15],[15,16],[16,17],[17,18],[18,19],[19,20],[20,21],[21,22],[22,23],[23,24],[24,25],[25,26],[26,27],[27,28],[28,29],[29,30],[30,31],[31,32],[32,33],[33,34],[34,35],[35,36],[36,37],[37,38],[38,39],[39,40],[40,41],[41,42],[42,43],[43,44],[44,45],[45,46],[46,47],[47,48],[48,49],[49,50],[50,51],[51,52],[52,53],[53,54],[54,55],[55,56],[56,57],[57,58],[58,59],[59,60],[60,61],[61,62],[62,63],[63,64],[64,65],[65,66],[66,67],[67,68],[68,69],[69,70],[70,71],[71,72],[72,73],[73,74],[74,75],[75,76],[76,77],[77,78],[78,79],[79,80],[80,81],[81,82],[82,83],[83,84],[84,85],[85,86],[86,87],[87,88],[88,89],[89,90],[90,91],[91,92],[92,93],[93,94],[94,95],[95,96],[96,97],[97,98],[98,99],[99,100],[100,101]] values=class=Sample name=Unnamed implementation=class=SampleImplementation name=Unnamed size=102 dimension=1 data=[[-0.000225498],[-0.000162419],[-0.000156615],[-0.000153901],[-0.000151908],[-0.000150316],[-0.000149034],[-0.000148019],[-0.000147231],[-0.000146631],[-0.000146171],[-0.000145796],[-0.000145442],[-0.00014504],[-0.000144517],[-0.0001438],[-0.000142819],[-0.000141513],[-0.000139832],[-0.00013774],[-0.000135216],[-0.000132261],[-0.000128887],[-0.000125126],[-0.000121022],[-0.000116629],[-0.000112011],[-0.000107236],[-0.000102376],[-9.75062e-05],[-9.26997e-05],[-8.8029e-05],[-8.3564e-05],[-7.93711e-05],[-7.55123e-05],[-7.20444e-05],[-6.90185e-05],[-6.64798e-05],[-6.44673e-05],[-6.3014e-05],[-6.21472e-05],[-6.00237e-05],[-5.07699e-05],[-4.16039e-05],[-3.38128e-05],[-2.69371e-05],[-1.89197e-05],[-1.87612e-05],[-1.6033e-05],[-1.13472e-05],[-1.12157e-05],[-1.0806e-05],[-8.76006e-06],[-8.03164e-06],[-1.05074e-05],[-1.63706e-05],[-1.89528e-05],[-1.361e-05],[-5.9453e-06],[-3.92113e-06],[-4.17087e-06],[-3.65136e-06],[-1.93003e-06],[-6.8447e-07],[-1.73259e-07],[-6.902e-10],[-2.01793e-07],[-3.81739e-07],[-1.78538e-07],[-4.98451e-08],[-3.76997e-10],[-3.57857e-08],[-1.6176e-07],[-3.82927e-07],[-7.01617e-07],[-1.11656e-06],[-1.62163e-06],[-2.20482e-06],[-2.84749e-06],[-3.5242e-06],[-4.20316e-06],[-4.8474e-06],[-5.41675e-06],[-5.87045e-06],[-6.17039e-06],[-6.28461e-06],[-6.19085e-06],[-5.87983e-06],[-5.35805e-06],[-4.64967e-06],[-3.79754e-06],[-2.86291e-06],[-1.92386e-06],[-1.07241e-06],[-4.10046e-07],[-4.20408e-08],[-7.06063e-08],[-5.87249e-07],[-1.66444e-06],[-3.34491e-06],[-5.61362e-06],[-8.15311e-06]],\n",
       "  class=Field name=TotalOrderSobol_Y_0_D_ description=[v0,v0] implementation=class=FieldImplementation name=TotalOrderSobol_Y_0_D_ mesh=class=Mesh name=1D_Grid dimension=1 vertices=class=Sample name=Unnamed implementation=class=SampleImplementation name=Unnamed size=102 dimension=1 data=[[0],[0.00990099],[0.019802],[0.029703],[0.039604],[0.049505],[0.0594059],[0.0693069],[0.0792079],[0.0891089],[0.0990099],[0.108911],[0.118812],[0.128713],[0.138614],[0.148515],[0.158416],[0.168317],[0.178218],[0.188119],[0.19802],[0.207921],[0.217822],[0.227723],[0.237624],[0.247525],[0.257426],[0.267327],[0.277228],[0.287129],[0.29703],[0.306931],[0.316832],[0.326733],[0.336634],[0.346535],[0.356436],[0.366337],[0.376238],[0.386139],[0.39604],[0.405941],[0.415842],[0.425743],[0.435644],[0.445545],[0.455446],[0.465347],[0.475248],[0.485149],[0.49505],[0.50495],[0.514851],[0.524752],[0.534653],[0.544554],[0.554455],[0.564356],[0.574257],[0.584158],[0.594059],[0.60396],[0.613861],[0.623762],[0.633663],[0.643564],[0.653465],[0.663366],[0.673267],[0.683168],[0.693069],[0.70297],[0.712871],[0.722772],[0.732673],[0.742574],[0.752475],[0.762376],[0.772277],[0.782178],[0.792079],[0.80198],[0.811881],[0.821782],[0.831683],[0.841584],[0.851485],[0.861386],[0.871287],[0.881188],[0.891089],[0.90099],[0.910891],[0.920792],[0.930693],[0.940594],[0.950495],[0.960396],[0.970297],[0.980198],[0.990099],[1]] simplices=[[0,1],[1,2],[2,3],[3,4],[4,5],[5,6],[6,7],[7,8],[8,9],[9,10],[10,11],[11,12],[12,13],[13,14],[14,15],[15,16],[16,17],[17,18],[18,19],[19,20],[20,21],[21,22],[22,23],[23,24],[24,25],[25,26],[26,27],[27,28],[28,29],[29,30],[30,31],[31,32],[32,33],[33,34],[34,35],[35,36],[36,37],[37,38],[38,39],[39,40],[40,41],[41,42],[42,43],[43,44],[44,45],[45,46],[46,47],[47,48],[48,49],[49,50],[50,51],[51,52],[52,53],[53,54],[54,55],[55,56],[56,57],[57,58],[58,59],[59,60],[60,61],[61,62],[62,63],[63,64],[64,65],[65,66],[66,67],[67,68],[68,69],[69,70],[70,71],[71,72],[72,73],[73,74],[74,75],[75,76],[76,77],[77,78],[78,79],[79,80],[80,81],[81,82],[82,83],[83,84],[84,85],[85,86],[86,87],[87,88],[88,89],[89,90],[90,91],[91,92],[92,93],[93,94],[94,95],[95,96],[96,97],[97,98],[98,99],[99,100],[100,101]] values=class=Sample name=Unnamed implementation=class=SampleImplementation name=Unnamed size=102 dimension=1 data=[[0.826714],[0.637711],[0.625026],[0.62197],[0.620862],[0.62061],[0.620872],[0.621463],[0.622238],[0.623066],[0.623813],[0.624351],[0.624555],[0.624307],[0.623508],[0.62208],[0.619971],[0.617163],[0.613676],[0.60956],[0.604902],[0.599816],[0.594434],[0.588905],[0.583377],[0.577999],[0.572906],[0.568222],[0.564048],[0.56047],[0.557552],[0.555339],[0.55386],[0.55313],[0.553151],[0.553916],[0.555411],[0.557618],[0.560514],[0.564074],[0.568271],[0.570985],[0.540657],[0.488671],[0.409169],[0.344196],[0.276194],[0.227984],[0.16964],[0.0943266],[0.0734992],[0.0986386],[0.104305],[0.112604],[0.168318],[0.264891],[0.347912],[0.410643],[0.448579],[0.472531],[0.495386],[0.519582],[0.537127],[0.554818],[0.577872],[0.601657],[0.624331],[0.636571],[0.634308],[0.632422],[0.630884],[0.629638],[0.62861],[0.627702],[0.626804],[0.625797],[0.624556],[0.622966],[0.62092],[0.618333],[0.615146],[0.611331],[0.606895],[0.601876],[0.596345],[0.590397],[0.584144],[0.577705],[0.571199],[0.564733],[0.558395],[0.552254],[0.546351],[0.540705],[0.535319],[0.530187],[0.525312],[0.520727],[0.516552],[0.513162],[0.512017],[0.523826]],\n",
       "  class=Field name=TotalOrderSobol_Y_0_Fpos_ description=[v0,v0] implementation=class=FieldImplementation name=TotalOrderSobol_Y_0_Fpos_ mesh=class=Mesh name=1D_Grid dimension=1 vertices=class=Sample name=Unnamed implementation=class=SampleImplementation name=Unnamed size=102 dimension=1 data=[[0],[0.00990099],[0.019802],[0.029703],[0.039604],[0.049505],[0.0594059],[0.0693069],[0.0792079],[0.0891089],[0.0990099],[0.108911],[0.118812],[0.128713],[0.138614],[0.148515],[0.158416],[0.168317],[0.178218],[0.188119],[0.19802],[0.207921],[0.217822],[0.227723],[0.237624],[0.247525],[0.257426],[0.267327],[0.277228],[0.287129],[0.29703],[0.306931],[0.316832],[0.326733],[0.336634],[0.346535],[0.356436],[0.366337],[0.376238],[0.386139],[0.39604],[0.405941],[0.415842],[0.425743],[0.435644],[0.445545],[0.455446],[0.465347],[0.475248],[0.485149],[0.49505],[0.50495],[0.514851],[0.524752],[0.534653],[0.544554],[0.554455],[0.564356],[0.574257],[0.584158],[0.594059],[0.60396],[0.613861],[0.623762],[0.633663],[0.643564],[0.653465],[0.663366],[0.673267],[0.683168],[0.693069],[0.70297],[0.712871],[0.722772],[0.732673],[0.742574],[0.752475],[0.762376],[0.772277],[0.782178],[0.792079],[0.80198],[0.811881],[0.821782],[0.831683],[0.841584],[0.851485],[0.861386],[0.871287],[0.881188],[0.891089],[0.90099],[0.910891],[0.920792],[0.930693],[0.940594],[0.950495],[0.960396],[0.970297],[0.980198],[0.990099],[1]] simplices=[[0,1],[1,2],[2,3],[3,4],[4,5],[5,6],[6,7],[7,8],[8,9],[9,10],[10,11],[11,12],[12,13],[13,14],[14,15],[15,16],[16,17],[17,18],[18,19],[19,20],[20,21],[21,22],[22,23],[23,24],[24,25],[25,26],[26,27],[27,28],[28,29],[29,30],[30,31],[31,32],[32,33],[33,34],[34,35],[35,36],[36,37],[37,38],[38,39],[39,40],[40,41],[41,42],[42,43],[43,44],[44,45],[45,46],[46,47],[47,48],[48,49],[49,50],[50,51],[51,52],[52,53],[53,54],[54,55],[55,56],[56,57],[57,58],[58,59],[59,60],[60,61],[61,62],[62,63],[63,64],[64,65],[65,66],[66,67],[67,68],[68,69],[69,70],[70,71],[71,72],[72,73],[73,74],[74,75],[75,76],[76,77],[77,78],[78,79],[79,80],[80,81],[81,82],[82,83],[83,84],[84,85],[85,86],[86,87],[87,88],[88,89],[89,90],[90,91],[91,92],[92,93],[93,94],[94,95],[95,96],[96,97],[97,98],[98,99],[99,100],[100,101]] values=class=Sample name=Unnamed implementation=class=SampleImplementation name=Unnamed size=102 dimension=1 data=[[0.206341],[0.195816],[0.19842],[0.201928],[0.205555],[0.209135],[0.212564],[0.215755],[0.21862],[0.221075],[0.223044],[0.224457],[0.225255],[0.225395],[0.224849],[0.223608],[0.221681],[0.219098],[0.215902],[0.212154],[0.207925],[0.203292],[0.198336],[0.193137],[0.187771],[0.182306],[0.176803],[0.171311],[0.165872],[0.160519],[0.155277],[0.150168],[0.14521],[0.140418],[0.135811],[0.131408],[0.127234],[0.123318],[0.119691],[0.116391],[0.113459],[0.112251],[0.115271],[0.119803],[0.126742],[0.133787],[0.133892],[0.128751],[0.127679],[0.129816],[0.130108],[0.132418],[0.159852],[0.187529],[0.196171],[0.193866],[0.203058],[0.209524],[0.21461],[0.211958],[0.214445],[0.219261],[0.219882],[0.220022],[0.219892],[0.219238],[0.218124],[0.21686],[0.215609],[0.213955],[0.211951],[0.209651],[0.207113],[0.204394],[0.201542],[0.198604],[0.195616],[0.192608],[0.189604],[0.186622],[0.183672],[0.180766],[0.17791],[0.175112],[0.17238],[0.169723],[0.167151],[0.164679],[0.16232],[0.16009],[0.158004],[0.156081],[0.154338],[0.152791],[0.15146],[0.150364],[0.149529],[0.148988],[0.148796],[0.149081],[0.150293],[0.15571]]],\n",
       " [class=Point name=TotalOrderSobol_Y_1_Rho_ dimension=1 values=[0.921791],\n",
       "  class=Point name=TotalOrderSobol_Y_1_E_ dimension=1 values=[0.0589501],\n",
       "  class=Point name=TotalOrderSobol_Y_1_Fnorm_ dimension=1 values=[-0.00017141],\n",
       "  class=Point name=TotalOrderSobol_Y_1_D_ dimension=1 values=[-0.058239],\n",
       "  class=Point name=TotalOrderSobol_Y_1_Fpos_ dimension=1 values=[0.0656273]]]"
      ]
     },
     "execution_count": 15,
     "metadata": {},
     "output_type": "execute_result"
    }
   ],
   "source": [
    "FieldSensitivityAnalysis.getTotalOrderIndices()"
   ]
  },
  {
   "cell_type": "code",
   "execution_count": 16,
   "metadata": {},
   "outputs": [
    {
     "name": "stdout",
     "output_type": "stream",
     "text": [
      "Cannot convert distribution to field, dimensional correlation lost.\n",
      "Cannot convert distribution to field, dimensional correlation lost.\n"
     ]
    },
    {
     "data": {
      "text/plain": [
       "[class=KernelMixture name=Y_0 kernel=class=Normal name=Normal dimension=1 mean=class=Point name=Unnamed dimension=1 values=[0] sigma=class=Point name=Unnamed dimension=1 values=[1] correlationMatrix=class=CorrelationMatrix dimension=1 implementation=class=MatrixImplementation name=Unnamed rows=1 columns=1 values=[1] bandwidth=class=Point name=Unnamed dimension=5 values=[0.19416,0.184206,0.19416,0.236373,0.138734] sample=class=Sample name=Unnamed implementation=class=SampleImplementation name=Unnamed size=100 dimension=5 data=[[-0.0518828,0.160896,-0.0518828,0.463843,0.18474],[0.17505,0.470637,0.17505,0.75086,0.219319],[0.0405406,0.188152,0.0405407,0.623858,0.254722],[0.406095,0.762173,0.406095,0.988491,0.503268],[0.00717357,0.241282,0.00717358,0.251986,0.170368],[-0.145514,0.25855,-0.145514,0.191955,0.0716409],[0.403894,0.8067,0.403894,1.11898,0.362269],[-0.233213,-0.0283907,-0.233213,0.218381,0.150086],[-0.0301546,0.196455,-0.0301546,0.434844,0.220139],[0.172232,0.404974,0.172232,0.778665,0.16184],[-0.179077,0.154638,-0.179077,0.164894,0.0933687],[0.653325,0.925154,0.653324,1.69092,0.556273],[-0.103685,0.0782229,-0.103685,0.34621,-0.0331551],[-0.12843,0.16503,-0.12843,0.427117,0.0837011],[-0.0915339,0.398903,-0.0915341,0.235532,0.152621],[-0.163062,0.0624728,-0.163062,0.193718,0.0809409],[0.129129,0.46483,0.129129,0.30266,0.305089],[0.367441,0.528102,0.367441,0.813841,0.304147],[-0.0128381,0.211026,-0.0128382,0.52927,0.110612],[-0.311526,-0.0163962,-0.311526,-0.00694264,-0.055744],[-0.134369,0.31711,-0.134369,0.225823,0.28007],[0.697365,1.03853,0.697365,1.60828,0.811074],[-0.146658,0.138614,-0.146658,0.266085,0.0577228],[0.89013,1.4498,0.89013,1.37283,1.04221],[-0.0495706,0.0637239,-0.0495706,0.655092,0.143462],[-0.195618,-0.0124717,-0.195618,0.242413,0.0274092],[0.202397,0.583935,0.202397,0.596652,0.237933],[0.00648717,0.226298,0.0064871,0.485605,0.18412],[1.12136,1.67681,1.12136,1.55559,1.30911],[-0.00523178,0.358417,-0.00523181,0.637102,0.0885941],[-0.168866,0.0591469,-0.168866,0.276036,-0.0404152],[-0.255101,0.037976,-0.255102,0.171761,-0.0110577],[0.053995,0.443252,0.0539949,0.22754,0.216277],[0.359,0.632558,0.359,1.09971,0.448419],[0.424146,0.739953,0.424146,0.689643,0.505215],[-0.0878994,0.0953383,-0.0878994,0.520848,0.146103],[-0.146005,0.183245,-0.146005,0.307501,0.0902767],[0.384915,0.60897,0.384915,0.936039,0.555814],[0.0185775,0.413616,0.0185774,0.290226,0.276286],[0.473805,0.866807,0.473805,0.657494,0.608139],[-0.253703,-0.00610687,-0.253703,0.216821,-0.0436626],[0.302157,0.574776,0.302157,0.710311,0.523558],[0.384743,0.582792,0.384744,0.843836,0.404928],[-0.0597543,0.222201,-0.0597544,0.350704,0.0637802],[-0.185443,0.196737,-0.185443,0.0181342,0.0923109],[0.304974,0.708609,0.304974,0.652388,0.478476],[0.271986,0.578141,0.271986,0.787516,0.333006],[-0.242095,0.0146642,-0.242095,0.271484,-0.001681],[-0.0703656,0.180582,-0.0703657,0.627581,0.117748],[0.127687,0.329227,0.127687,0.662424,0.327659],[0.500028,0.735361,0.500028,1.16933,0.548513],[0.333193,0.699283,0.333193,0.887559,0.403805],[-0.15859,0.0346816,-0.15859,0.402359,-0.00777462],[-0.0959752,0.193263,-0.0959753,0.32499,0.0632907],[-0.132117,0.192394,-0.132117,0.591377,0.0329675],[-0.0734451,0.306321,-0.0734452,0.414868,0.27867],[-0.117391,0.18075,-0.117391,0.231506,0.142218],[0.189128,0.576796,0.189127,0.581023,0.381352],[0.0138168,0.028955,0.0138168,0.667032,0.116761],[-0.0906584,0.169985,-0.0906584,0.576392,0.108242],[0.198355,0.32154,0.198355,0.718243,0.302881],[0.403719,0.641678,0.403719,1.03441,0.443407],[-0.111227,0.20126,-0.111227,0.234742,0.0160326],[-0.0367019,0.1882,-0.036702,0.496137,0.0594842],[-0.382421,-0.110158,-0.382421,-0.0487259,-0.0958839],[-0.052216,0.274139,-0.0522161,0.430647,0.102055],[-0.110395,0.0672241,-0.110395,0.43035,0.0869731],[0.202991,0.373374,0.202991,0.746073,0.223891],[0.323796,0.774739,0.323796,0.773387,0.457267],[-0.10637,0.296391,-0.10637,0.379708,0.259221],[-0.177852,0.153654,-0.177852,0.252059,0.0835949],[0.077226,0.399435,0.077226,0.561329,0.217224],[0.0616991,0.297837,0.0616989,0.602999,0.258733],[-0.0803381,0.199536,-0.0803382,0.39442,0.203026],[0.533241,0.916756,0.533241,0.933957,0.72199],[0.166805,0.403623,0.166805,0.935857,0.256314],[0.608113,0.812739,0.608113,1.27526,0.760994],[-0.119733,0.0482759,-0.119733,0.441816,0.147036],[0.145628,0.352046,0.145628,0.590183,0.136109],[0.719903,1.18679,0.719903,1.33406,0.775143],[-0.103013,0.171137,-0.103013,0.247823,0.212666],[-0.125309,0.127951,-0.125309,0.281473,0.071993],[0.553171,0.986106,0.553171,0.976433,0.597881],[0.420356,0.70774,0.420356,0.854492,0.49135],[0.348526,0.525442,0.348526,0.906112,0.301313],[-0.0813287,0.302176,-0.0813287,0.415835,0.0646706],[0.193868,0.450294,0.193868,0.750592,0.387859],[0.0681442,0.349139,0.0681441,0.64494,0.294988],[-0.00766672,0.388132,-0.00766674,0.239436,0.228963],[0.0556707,0.303285,0.0556707,0.655355,0.222464],[0.777487,1.03234,0.777487,1.49036,0.776691],[-0.201009,0.00923285,-0.201009,0.170258,0.0268006],[-0.345746,-0.144012,-0.345746,0.0806787,-0.0293335],[0.431682,0.781952,0.431682,0.852739,0.57081],[0.157698,0.419986,0.157698,0.977279,0.455217],[-0.280618,0.103138,-0.280619,0.132,0.0239087],[-0.298519,-0.0162899,-0.298519,0.0689385,0.0702744],[0.168831,0.451471,0.168831,0.974388,0.334056],[-0.130077,0.197952,-0.130077,0.241584,0.060479],[0.339739,0.477134,0.339739,1.03155,0.527849]],\n",
       " class=KernelMixture name=Y_1 kernel=class=Normal name=Normal dimension=1 mean=class=Point name=Unnamed dimension=1 values=[0] sigma=class=Point name=Unnamed dimension=1 values=[1] correlationMatrix=class=CorrelationMatrix dimension=1 implementation=class=MatrixImplementation name=Unnamed rows=1 columns=1 values=[1] bandwidth=class=Point name=Unnamed dimension=5 values=[0.218972,0.168377,0.157554,0.179256,0.162915] sample=class=Sample name=Unnamed implementation=class=SampleImplementation name=Unnamed size=100 dimension=5 data=[[2.06634,0.897182,0.917043,0.840532,0.79633],[0.795509,-0.229281,-0.264588,-0.362092,-0.150961],[1.2838,0.344585,0.127614,0.0829708,0.345601],[1.04715,0.0258607,-0.0338002,-0.116677,0.0864523],[1.31872,0.249181,0.213039,0.176385,0.232888],[0.983144,0.260278,0.190454,0.135285,0.254502],[1.78365,0.75941,0.546136,0.543835,0.745065],[1.14881,0.510564,0.217619,0.159939,0.455859],[1.29921,0.478141,0.324493,0.282794,0.41388],[0.523317,-0.123763,-0.220484,-0.276529,-0.11996],[0.864929,-0.25287,-0.2387,-0.341483,-0.108815],[1.59313,0.102133,0.0364328,-0.126819,0.242451],[0.699644,-0.126116,-0.25841,-0.312573,-0.192155],[0.815573,-0.046775,-0.032741,-0.119246,0.0445926],[0.738922,-0.194024,-0.261695,-0.345665,-0.163442],[0.930313,-0.157527,-0.187414,-0.271952,-0.1338],[0.795445,0.0958876,0.025604,0.0224813,0.0438667],[1.0291,0.085995,0.170064,0.117453,0.207764],[0.703583,-0.248903,-0.208118,-0.304081,-0.143744],[0.971389,-0.0546274,0.0560754,-0.0602124,0.0277862],[1.01957,-0.0869512,-0.0318827,-0.127507,-0.0314804],[1.73833,0.785093,0.661623,0.649511,0.695918],[1.19867,0.409129,0.37949,0.364134,0.306952],[0.803409,-0.117184,-0.180261,-0.230204,-0.163082],[0.589812,-0.428317,-0.384487,-0.493571,-0.321716],[2.05374,0.835427,0.700422,0.672696,0.61885],[0.804428,-0.0255872,-0.142618,-0.210662,0.0718091],[0.798542,-0.176391,-0.209229,-0.296415,-0.190449],[1.70841,0.900414,0.819189,0.83998,0.704185],[1.29354,0.263326,0.270595,0.22815,0.345333],[0.924785,0.0709258,0.0165812,-0.0541325,0.048433],[1.91098,0.717451,0.5903,0.547377,0.774911],[0.660913,0.123895,-0.111228,-0.131995,-0.0651769],[0.93241,-0.132677,-0.248839,-0.329215,-0.14836],[1.66923,1.04572,0.672848,0.678049,0.770023],[1.16873,-0.00611685,-0.0780212,-0.155496,-0.00187906],[0.8435,-0.117296,-0.0893994,-0.183706,-0.0177338],[0.759646,-0.103545,-0.207092,-0.261017,-0.116662],[1.53434,0.429782,0.435924,0.370478,0.360423],[0.75622,-0.014144,-0.182587,-0.255001,-0.0684899],[0.946972,0.444863,0.211679,0.233544,0.295937],[0.94985,0.0496068,0.104936,0.0457148,0.168134],[0.619956,-0.261638,-0.26692,-0.323882,-0.227201],[1.50872,0.228057,0.202557,0.106643,0.255303],[1.65245,-0.125468,-0.171252,-0.326574,0.024143],[0.860231,0.00885086,-0.0040819,-0.0728713,0.139698],[1.02219,-0.110537,0.0105385,-0.0869308,-0.0454219],[0.796353,-0.01212,-0.137748,-0.18102,-0.0658103],[1.1225,0.196947,0.162563,0.081023,0.153456],[1.49078,0.968008,0.616395,0.659272,0.721218],[0.741583,-0.266864,-0.200729,-0.30035,-0.199272],[0.547992,-0.191538,-0.23293,-0.303387,-0.1601],[1.65496,0.809322,0.662278,0.67466,0.819209],[1.3304,0.291207,0.314823,0.237489,0.375248],[0.467846,-0.239633,-0.279254,-0.347068,-0.186672],[1.1212,0.117778,0.0401084,-0.0121124,0.0926144],[0.909743,0.145657,0.00925646,-0.0452476,0.089023],[1.0044,0.00663256,-0.119756,-0.192915,-0.0636407],[0.93896,0.372647,0.299624,0.260007,0.346513],[0.997922,0.236663,0.12436,0.068673,0.12346],[0.930473,-0.116988,-0.098111,-0.195979,0.00477141],[0.877598,0.177139,0.101373,0.0307748,0.123784],[0.953129,0.184538,0.0810068,0.0552502,0.253794],[1.32979,0.0444256,-0.079048,-0.160117,0.0507564],[0.773841,0.0444867,-0.087557,-0.133808,-0.0227976],[1.42608,0.255296,0.237177,0.165569,0.302955],[0.635327,0.09823,-0.0719067,-0.106898,0.0667837],[1.26921,0.105007,0.071311,0.00337315,-0.00578601],[0.967836,0.069596,0.0226165,-0.0312425,0.101211],[0.742183,-0.10504,-0.118344,-0.165993,-0.00328268],[1.02795,-0.120952,-0.0529183,-0.127969,-0.0981168],[1.12116,-0.134654,-0.124811,-0.25962,0.0850909],[0.871171,-0.196122,-0.141347,-0.25194,-0.061741],[0.791641,0.0120748,-0.0385101,-0.105217,0.0176737],[1.02153,-0.00888508,-0.206041,-0.28631,0.0402265],[1.52991,0.191759,0.206733,0.136754,0.270947],[0.797354,-0.0996015,-0.10754,-0.167358,-0.111373],[0.791245,0.0726202,0.0171016,-0.0350643,0.0244651],[1.46887,0.56699,0.561678,0.519382,0.612546],[0.768444,-0.0940112,-0.0363403,-0.105185,0.00697888],[1.09454,0.0254945,-0.0402052,-0.101233,-0.0483924],[0.694589,-0.265073,-0.304339,-0.398137,-0.201208],[0.839333,0.00207571,-0.039242,-0.106978,-0.0515159],[0.624269,-0.0959712,-0.106923,-0.165895,-0.0278183],[0.682152,-0.226141,-0.341524,-0.425707,-0.207227],[0.854111,0.0350771,0.022887,-0.0585316,0.0974607],[1.27427,0.631141,0.456041,0.417086,0.637822],[0.929208,-0.0998241,-0.0824295,-0.162053,0.033196],[1.26511,0.355058,0.272076,0.239571,0.401931],[0.849935,0.171317,-0.0190873,-0.0549633,0.0547076],[1.46496,0.494733,0.45258,0.394182,0.579347],[0.54652,-0.205285,-0.24403,-0.30563,-0.245051],[1.33023,0.414554,0.333689,0.295562,0.425111],[2.29374,1.47718,1.42723,1.47831,1.36029],[3.22401,2.677,2.26837,2.34205,2.22132],[0.867533,-0.0867735,-0.120003,-0.195775,-0.0687146],[0.474349,-0.0918833,-0.141729,-0.190097,-0.0572116],[0.936321,-0.285028,-0.185043,-0.285552,-0.170741],[0.879931,0.0374771,-0.00278149,-0.0815897,0.085272],[1.15439,-0.216225,-0.146005,-0.251024,-0.206621]]]"
      ]
     },
     "execution_count": 16,
     "metadata": {},
     "output_type": "execute_result"
    }
   ],
   "source": [
    "FieldSensitivityAnalysis.getTotalOrderIndicesDistribution()"
   ]
  },
  {
   "cell_type": "code",
   "execution_count": 17,
   "metadata": {},
   "outputs": [
    {
     "data": {
      "text/plain": [
       "[class=Interval name=BoundsTotalOrderSobol_Y_0 dimension=5 lower bound=class=Point name=Unnamed dimension=5 values=[-0.493426,-0.223714,-0.493426,-0.164628,-0.179925] upper bound=class=Point name=Unnamed dimension=5 values=[0.880401,1.27216,0.880401,1.59187,0.927169] finite lower bound=[1,1,1,1,1] finite upper bound=[1,1,1,1,1],\n",
       " class=Interval name=BoundsTotalOrderSobol_Y_1 dimension=5 lower bound=class=Point name=Unnamed dimension=5 values=[0.349651,-0.449424,-0.457313,-0.572196,-0.397147] upper bound=class=Point name=Unnamed dimension=5 values=[2.18014,1.16671,1.00366,1.00861,1.01359] finite lower bound=[1,1,1,1,1] finite upper bound=[1,1,1,1,1]]"
      ]
     },
     "execution_count": 17,
     "metadata": {},
     "output_type": "execute_result"
    }
   ],
   "source": [
    "FieldSensitivityAnalysis.getTotalOrderIndicesInterval()"
   ]
  },
  {
   "cell_type": "code",
   "execution_count": 18,
   "metadata": {},
   "outputs": [
    {
     "name": "stdout",
     "output_type": "stream",
     "text": [
      "The second order indices flag is not set to true.\n",
      "Have you passed the right sample to make this calculus?\n"
     ]
    }
   ],
   "source": [
    "FieldSensitivityAnalysis.getSecondOrderIndices()"
   ]
  }
 ],
 "metadata": {
  "kernelspec": {
   "display_name": "Python 3",
   "language": "python",
   "name": "python3"
  },
  "language_info": {
   "codemirror_mode": {
    "name": "ipython",
    "version": 3
   },
   "file_extension": ".py",
   "mimetype": "text/x-python",
   "name": "python",
   "nbconvert_exporter": "python",
   "pygments_lexer": "ipython3",
   "version": "3.6.11"
  }
 },
 "nbformat": 4,
 "nbformat_minor": 4
}
