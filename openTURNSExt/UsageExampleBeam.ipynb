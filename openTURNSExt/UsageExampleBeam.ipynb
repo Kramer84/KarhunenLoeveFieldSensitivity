{
 "cells": [
  {
   "cell_type": "markdown",
   "metadata": {},
   "source": [
    "### Implementation of the codes developed, openTURNS style\n"
   ]
  },
  {
   "cell_type": "code",
   "execution_count": 2,
   "metadata": {},
   "outputs": [],
   "source": [
    "import openturns as ot\n",
    "import numpy as np"
   ]
  },
  {
   "cell_type": "markdown",
   "metadata": {},
   "source": [
    "We will use again the example developed, concerning the bending beam with random structural parameters. \n",
    "There will be some key differences with the first pipeline, as we will limit ourselves to a subset of the cases treated, and  not write some 'omnipotent' code.\n",
    "\n",
    "In this new case, we will study the influence of each compônent of an aggreagated process (a collection of processes  each defined on a same shaped mesh), on a other aggregated process, by computing sobol sobol indices. \n",
    "\n",
    "To mimic other behaviours we can : \n",
    "    - Define a scalar random variable as a constant field or vector\n",
    "    \n",
    "###### Class will be intialized as so:\n",
    "myAnalysis = ot.newSaltelliSensitivityAlgorithm(AggregatedProcess, FieldFunction, N, computeSecondOrder) \n",
    "\n",
    "This beahviour is based on the existing class: ot.SaltelliSensitivityAlgorithm\n",
    "\n",
    "\n",
    "\n",
    "\n",
    "\n",
    "\n",
    "ot.RandomGenerator.SetSeed(0) \n",
    "\n",
    "baseDim = 1 #dimension of our process, the beam is 1D\n",
    "\n",
    "\n",
    "# we have 2 processes in our problem, initially\n",
    "#For young modulus:\n",
    "amplitude = [5000]\n",
    "scale = [300]\n",
    "nu = 13/3\n",
    "Model = MaternModel \n",
    "\n",
    "#For diameter:\n"
   ]
  },
  {
   "cell_type": "code",
   "execution_count": 3,
   "metadata": {},
   "outputs": [],
   "source": [
    "import spsa \n",
    "# first some differences with the codes already written. For stochastic process construction:\n",
    "process_E = spsa.StochasticProcessConstructor(dimension=1,\n",
    "                                        grid_shape=[[0,1000,100],],\n",
    "                                        covariance_model={'Model':'MaternModel',\n",
    "                                                        'amplitude':[50000],\n",
    "                                                        'scale':[300],\n",
    "                                                        'nu':13/3},\n",
    "                                        trend_arguments=['x'],trend_function=210000)\n",
    "process_E.setName('E_')\n",
    "# this is the new way. \n",
    "\n",
    "# The old way:\n",
    "dim = 1\n",
    "amplitude = [50000]*dim\n",
    "scale = [300]*dim\n",
    "nu = 13/3\n",
    "model = ot.MaternModel(scale, amplitude, nu)\n",
    "#grid is 1D so for openturns it is a time grid\n",
    "t0 = 0.0\n",
    "step = 1000/101\n",
    "N = 101\n",
    "grid = ot.RegularGrid(t0, step, N)\n",
    "func = ot.SymbolicFunction(['x'],['210000'])\n",
    "trendFunc = ot.TrendTransform(func, grid)\n",
    "process = ot.GaussianProcess(trendFunc, model, grid)\n",
    "\n",
    "algorithm = ot.KarhunenLoeveP1Algorithm(grid, model, 1e-3)\n",
    "algorithm.run()\n",
    "results = algorithm.getResults()\n"
   ]
  },
  {
   "cell_type": "code",
   "execution_count": 4,
   "metadata": {},
   "outputs": [],
   "source": [
    "# we will define the processes using the new codes anyway for convenience, but this is not the right way \n",
    "# in this case\n",
    "# In our beam bending problem, we have 5 variables: 2 processes and 3 random variables.\n",
    "# let's first define the processes :\n",
    "# young's modulus :\n",
    "process_E = spsa.StochasticProcessConstructor(dimension=1,\n",
    "                                        grid_shape=[[0,1000,100],],\n",
    "                                        covariance_model={'Model':'MaternModel',\n",
    "                                                        'amplitude':[50000],\n",
    "                                                        'scale':[300],\n",
    "                                                        'nu':13/3},\n",
    "                                        trend_arguments=['x'],trend_function=210000)\n",
    "process_E.setName('E_')\n",
    "# diameter :\n",
    "process_D = spsa.StochasticProcessConstructor(dimension=1,\n",
    "                                        grid_shape=[[0,1000,100],],\n",
    "                                        covariance_model={'Model':'MaternModel',\n",
    "                                                        'amplitude':[.3],\n",
    "                                                        'scale':[250],\n",
    "                                                        'nu':13/3},\n",
    "                                        trend_arguments=['x'],trend_function=10)\n",
    "process_D.setName('D_')\n",
    "# Now the random variables. As we have a different approach now, we want' to represent the scalar \n",
    "# random variables as stochastic fields, where each realization would be constant. \n",
    "# The original way is as follows :\n",
    "###########################################################################################################\n",
    "# random variable for the density of the material (kg/m³)\n",
    "rho         = 7850.\n",
    "sigma       = 750\n",
    "nameD       = 'Rho'\n",
    "RV_Rho = ot.Normal(rho, sigma)\n",
    "RV_Rho.setName(nameD)\n",
    "###########################################################################################################\n",
    "# random variable for the position of the force   (mm) \n",
    "middle       = 500\n",
    "sigma_f      = 50\n",
    "namePos     = 'FP'\n",
    "RV_Fpos = ot.Normal(middle, sigma_f)\n",
    "RV_Fpos.setName(namePos)\n",
    "\n",
    "###########################################################################################################\n",
    "# random variable for the norm of the force    (N)\n",
    "muForce       = 100\n",
    "# we go from sigma = 15 to sigma = 1.5, as the influence is too important\n",
    "sigma_Fnor    = 5.5\n",
    "nameNor       = 'FN'\n",
    "RV_Fnorm  = ot.Normal(muForce, sigma_Fnor)\n",
    "RV_Fnorm.setName(nameNor)"
   ]
  },
  {
   "cell_type": "markdown",
   "metadata": {},
   "source": [
    "Now that we have expressed everything as a stochasticProcess, we can construct an aggregated process containg all the input data. "
   ]
  },
  {
   "cell_type": "code",
   "execution_count": 31,
   "metadata": {},
   "outputs": [],
   "source": [
    "aggregatedProcess = ot.AggregatedProcess([process_E.GaussianProcess,\n",
    "                                          process_D.GaussianProcess,\n",
    "                                          SP_Rho.GaussianProcess,\n",
    "                                          SP_Fpos.GaussianProcess,\n",
    "                                          SP_Fnorm.GaussianProcess])"
   ]
  },
  {
   "cell_type": "code",
   "execution_count": 37,
   "metadata": {},
   "outputs": [],
   "source": [
    "u=SP_Fnorm.getSample(50)"
   ]
  },
  {
   "cell_type": "code",
   "execution_count": 38,
   "metadata": {},
   "outputs": [
    {
     "data": {
      "image/png": "[encoded data removed]",
      "text/plain": [
       "<Figure size 432x288 with 1 Axes>"
      ]
     },
     "metadata": {
      "needs_background": "light"
     },
     "output_type": "display_data"
    }
   ],
   "source": [
    "ot.Show(u.drawMarginal())"
   ]
  },
  {
   "cell_type": "code",
   "execution_count": 34,
   "metadata": {},
   "outputs": [],
   "source": [
    "x = aggregatedProcess.getRealization()"
   ]
  },
  {
   "cell_type": "code",
   "execution_count": 29,
   "metadata": {},
   "outputs": [
    {
     "data": {
      "text/html": [
       "<p>GaussianProcess(trend=[x]->[210000], covariance=MaternModel(scale=[300], amplitude=[50000], nu=4.33333))</p>"
      ],
      "text/plain": [
       "class=GaussianProcess mesh=class=Mesh name=Unnamed dimension=1 vertices=class=Sample name=Unnamed implementation=class=SampleImplementation name=Unnamed size=101 dimension=1 description=[t] data=[[0],[9.90099],[19.802],[29.703],[39.604],[49.505],[59.4059],[69.3069],[79.2079],[89.1089],[99.0099],[108.911],[118.812],[128.713],[138.614],[148.515],[158.416],[168.317],[178.218],[188.119],[198.02],[207.921],[217.822],[227.723],[237.624],[247.525],[257.426],[267.327],[277.228],[287.129],[297.03],[306.931],[316.832],[326.733],[336.634],[346.535],[356.436],[366.337],[376.238],[386.139],[396.04],[405.941],[415.842],[425.743],[435.644],[445.545],[455.446],[465.347],[475.248],[485.149],[495.05],[504.95],[514.851],[524.752],[534.653],[544.554],[554.455],[564.356],[574.257],[584.158],[594.059],[603.96],[613.861],[623.762],[633.663],[643.564],[653.465],[663.366],[673.267],[683.168],[693.069],[702.97],[712.871],[722.772],[732.673],[742.574],[752.475],[762.376],[772.277],[782.178],[792.079],[801.98],[811.881],[821.782],[831.683],[841.584],[851.485],[861.386],[871.287],[881.188],[891.089],[900.99],[910.891],[920.792],[930.693],[940.594],[950.495],[960.396],[970.297],[980.198],[990.099]] simplices=[[0,1],[1,2],[2,3],[3,4],[4,5],[5,6],[6,7],[7,8],[8,9],[9,10],[10,11],[11,12],[12,13],[13,14],[14,15],[15,16],[16,17],[17,18],[18,19],[19,20],[20,21],[21,22],[22,23],[23,24],[24,25],[25,26],[26,27],[27,28],[28,29],[29,30],[30,31],[31,32],[32,33],[33,34],[34,35],[35,36],[36,37],[37,38],[38,39],[39,40],[40,41],[41,42],[42,43],[43,44],[44,45],[45,46],[46,47],[47,48],[48,49],[49,50],[50,51],[51,52],[52,53],[53,54],[54,55],[55,56],[56,57],[57,58],[58,59],[59,60],[60,61],[61,62],[62,63],[63,64],[64,65],[65,66],[66,67],[67,68],[68,69],[69,70],[70,71],[71,72],[72,73],[73,74],[74,75],[75,76],[76,77],[77,78],[78,79],[79,80],[80,81],[81,82],[82,83],[83,84],[84,85],[85,86],[86,87],[87,88],[88,89],[89,90],[90,91],[91,92],[92,93],[93,94],[94,95],[95,96],[96,97],[97,98],[98,99],[99,100]] trend=class=TrendTransform inherited from class=VertexValueFunction evaluation=class=Function name=Unnamed implementation=class=FunctionImplementation name=Unnamed description=[x,x0,y0] evaluationImplementation=class=TrendEvaluation name=Unnamed function=class=Function name=Unnamed implementation=class=FunctionImplementation name=Unnamed description=[x,y0] evaluationImplementation=class=SymbolicEvaluation name=Unnamed inputVariablesNames=[x] outputVariablesNames=[y0] formulas=[210000] gradientImplementation=class=SymbolicGradient name=Unnamed evaluation=class=SymbolicEvaluation name=Unnamed inputVariablesNames=[x] outputVariablesNames=[y0] formulas=[210000] hessianImplementation=class=SymbolicHessian name=Unnamed evaluation=class=SymbolicEvaluation name=Unnamed inputVariablesNames=[x] outputVariablesNames=[y0] formulas=[210000] gradientImplementation=class=CenteredFiniteDifferenceGradient name=Unnamed epsilon=class=Point name=Unnamed dimension=2 values=[1e-05,1e-05] evaluation=class=TrendEvaluation name=Unnamed function=class=Function name=Unnamed implementation=class=FunctionImplementation name=Unnamed description=[x,y0] evaluationImplementation=class=SymbolicEvaluation name=Unnamed inputVariablesNames=[x] outputVariablesNames=[y0] formulas=[210000] gradientImplementation=class=SymbolicGradient name=Unnamed evaluation=class=SymbolicEvaluation name=Unnamed inputVariablesNames=[x] outputVariablesNames=[y0] formulas=[210000] hessianImplementation=class=SymbolicHessian name=Unnamed evaluation=class=SymbolicEvaluation name=Unnamed inputVariablesNames=[x] outputVariablesNames=[y0] formulas=[210000] hessianImplementation=class=CenteredFiniteDifferenceHessian name=Unnamed epsilon=class=Point name=Unnamed dimension=2 values=[0.0001,0.0001] evaluation=class=TrendEvaluation name=Unnamed function=class=Function name=Unnamed implementation=class=FunctionImplementation name=Unnamed description=[x,y0] evaluationImplementation=class=SymbolicEvaluation name=Unnamed inputVariablesNames=[x] outputVariablesNames=[y0] formulas=[210000] gradientImplementation=class=SymbolicGradient name=Unnamed evaluation=class=SymbolicEvaluation name=Unnamed inputVariablesNames=[x] outputVariablesNames=[y0] formulas=[210000] hessianImplementation=class=SymbolicHessian name=Unnamed evaluation=class=SymbolicEvaluation name=Unnamed inputVariablesNames=[x] outputVariablesNames=[y0] formulas=[210000] covarianceModel=class=MaternModel scale=class=Point name=Unnamed dimension=1 values=[300] amplitude=class=Point name=Unnamed dimension=1 values=[50000] nu=4.33333 covarianceCholeskyFactor=class=TriangularMatrix dimension=0 implementation=class=MatrixImplementation name=Unnamed rows=0 columns=0 values=[] isInitialized=false hasStationaryTrend=false checkedStationaryTrend=false"
      ]
     },
     "execution_count": 29,
     "metadata": {},
     "output_type": "execute_result"
    }
   ],
   "source": [
    "process"
   ]
  },
  {
   "cell_type": "code",
   "execution_count": 30,
   "metadata": {},
   "outputs": [
    {
     "data": {
      "text/html": [
       "<p>class=ProcessImplementation ouputDimension=1 description=[] mesh=class=Mesh name=Unnamed dimension=1 vertices=class=Sample name=Unnamed implementation=class=SampleImplementation name=Unnamed size=1 dimension=1 description=[t] data=[[0]] simplices=[]</p>"
      ],
      "text/plain": [
       "Stochastic Process on grid of shape [100] and MaternModel covariance Model \n",
       "HELP:\n",
       "\n",
       "This class allows for the creation of multi dimensional stochastic processes.\n",
       "The process is defined through the specification of:\n",
       "  - The mesh on top of wich the model is built.\n",
       "  - The covariance model\n",
       "  - A trend function (optional), default is '0'\n",
       "\n",
       "Usage is as follows:\n",
       "\n",
       " 0. Create the process:\n",
       "\n",
       "  >>> import spsa\n",
       "  >>> process=spsa.StochasticProcessConstructor()\n",
       "\n",
       " 1. Set the dimension of the process with the self.setDimension() method:\n",
       "\n",
       "  >>> process.setDimension(2)\n",
       "\n",
       " 2. Set the processes grid shape  with the self.setGrid() method:\n",
       "\n",
       "  >>> # 2 dimensional grid with  10 x 10 elements of 1 x 1 unit size:\n",
       "  >>> process.setGrid([[0,1,10],[0,1,10],])\n",
       "\n",
       " 3. Set Covariance model through the self.setCovarianceModel() method:\n",
       "\n",
       "Note\n",
       "----\n",
       "All openTURNS covariance model names are passable as a string to the keywords\n",
       "of a dictionary describing the processes model\n",
       "Here the 'MaternModel' is used as an example. For other Models refer to the\n",
       "openTURNS documentation. https://openturns.github.io/\n",
       "The covariance model can also be passed as an already constructed openturns\n",
       "CovarianceModel object\n",
       "\n",
       "  >>> process.setCovarianceModel(\n",
       "  >>>   {\"Model\":\"MaternModel\",\n",
       "  >>>   \"amplitude\": float,\n",
       "  >>>   \"scale\": float,\n",
       "  >>>   \"nu\": float})\n",
       "\n",
       " 4. Optional. Set trend function through the setTrend() method.\n",
       "\n",
       "  >>> process.setTrend(arguments = ['X','Y'],\n",
       "  >>>   trendOrFunc = '-0.5*X+0.5*Y+1')\n",
       "\n",
       " 5. Set the gaussian process using the self.setGaussianProcess() method\n",
       "\n",
       "  >>> process.setGaussianProcess()\n",
       "\n",
       " 6. Generate single realizations or get samples:\n",
       "\n",
       "  >>> otField = process.getRealization()\n",
       "  >>> npField = process.getRealization(True) #output as numpy array\n",
       "  >>> otSample = process.getSample(N)\n",
       "  >>> npSample = process.getSample(N,True) #output as numpy array"
      ]
     },
     "execution_count": 30,
     "metadata": {},
     "output_type": "execute_result"
    }
   ],
   "source": [
    "process_E"
   ]
  },
  {
   "cell_type": "code",
   "execution_count": null,
   "metadata": {},
   "outputs": [],
   "source": []
  }
 ],
 "metadata": {
  "kernelspec": {
   "display_name": "Python 3",
   "language": "python",
   "name": "python3"
  },
  "language_info": {
   "codemirror_mode": {
    "name": "ipython",
    "version": 3
   },
   "file_extension": ".py",
   "mimetype": "text/x-python",
   "name": "python",
   "nbconvert_exporter": "python",
   "pygments_lexer": "ipython3",
   "version": "3.6.7"
  }
 },
 "nbformat": 4,
 "nbformat_minor": 4
}
