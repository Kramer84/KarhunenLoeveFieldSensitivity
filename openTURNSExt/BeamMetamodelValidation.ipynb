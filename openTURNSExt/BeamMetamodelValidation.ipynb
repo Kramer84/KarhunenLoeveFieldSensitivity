{
 "cells": [
  {
   "cell_type": "markdown",
   "metadata": {},
   "source": [
    "### Notebook : métamodèle d'un exemple de poutre en flexion. \n",
    "\n",
    "##### Dans ce notebook nous allons étudier le premier cas test pour la validation de la méthode pour l'analyse de sensibilité sur des modèles dépendants de variables aléatoires et champs stochastiques. \n",
    "\n",
    "Dans un premier temps. Nous décomposons les champs queprends le modèle en entrée grace a la décompositiond e Karhunen Loeve, et l'on réexprime le modèle qu'en fonction de variables scalaires décorrelées. \n",
    "\n",
    "On passe de:  \n",
    "- Un modèle Z = F(X,Y), ou X sont des variables aléatoires scalaires et Y des processus stovhastiques.\n",
    "Vers : \n",
    "- un modèle Z = F(xi) ou xi est un vecteur de variables aléatoires normales centrées réduites. \n",
    "\n",
    "L'on va ici chercher à créer un métamdèle MM tel que : \n",
    "- Z' = MM(xi), ou MM sera un modèle beaucoup moins cher a évaluer pour l'analyse de sensibilité. \n",
    "Nous esperons que l'analyse de sensibilité sur ce métamodèle sera la même que sur le modèle véritable. "
   ]
  },
  {
   "cell_type": "code",
   "execution_count": 1,
   "metadata": {},
   "outputs": [
    {
     "name": "stderr",
     "output_type": "stream",
     "text": [
      "\n",
      "Bad key \"text.kerning_factor\" on line 4 in\n",
      "/home/simady/anaconda/envs/stochastic_field_env/lib/python3.8/site-packages/matplotlib/mpl-data/stylelib/_classic_test_patch.mplstyle.\n",
      "You probably need to get an updated matplotlibrc file from\n",
      "http://github.com/matplotlib/matplotlib/blob/master/matplotlibrc.template\n",
      "or from the matplotlib source distribution\n"
     ]
    }
   ],
   "source": [
    " # Import des mpdules : \n",
    "import numpy as np\n",
    "import pandas as pd\n",
    "import openturns as ot\n",
    "import pythontools as pt\n",
    "\n",
    "import numpy.testing as testing"
   ]
  },
  {
   "cell_type": "code",
   "execution_count": 2,
   "metadata": {},
   "outputs": [
    {
     "data": {
      "text/plain": [
       "['vonMises.csv',\n",
       " 'sample2000_rand.csv',\n",
       " 'vonMises_rand.csv',\n",
       " 'maxDefl_rand.csv',\n",
       " 'sample2000.csv',\n",
       " 'maxDefl.csv']"
      ]
     },
     "execution_count": 2,
     "metadata": {},
     "output_type": "execute_result"
    }
   ],
   "source": [
    "import os\n",
    "os.listdir('MetaModelSamples')"
   ]
  },
  {
   "cell_type": "code",
   "execution_count": 3,
   "metadata": {},
   "outputs": [],
   "source": [
    "dfVonMises = pd.read_csv('MetaModelSamples/vonMises.csv', header=None)\n",
    "dfMaxDeflection = pd.read_csv('MetaModelSamples/maxDefl.csv', header=None)\n",
    "dfSample = pd.read_csv('MetaModelSamples/sample2000.csv', header=None)"
   ]
  },
  {
   "cell_type": "code",
   "execution_count": 4,
   "metadata": {},
   "outputs": [
    {
     "data": {
      "text/html": [
       "<TABLE><TR><TH></TH><TH>xi_0</TH><TH>xi_1</TH><TH>xi_2</TH><TH COLSPAN=\"12\">...</TH><TH>xi_15</TH><TH>xi_16</TH><TH>xi_17</TH></TR>\n",
       "<TR><TH>0</TH><TD>0.2633502</TD><TD>-0.03785947</TD><TD>-1.867129<TD COLSPAN=\"12\">...</TD><TD>-0.8822973</TD><TD>0.11743</TD><TD>-1.53344</TD></TR>\n",
       "<TR><TH>1</TH><TD>-0.5239454</TD><TD>-0.4467086</TD><TD>0.5958765<TD COLSPAN=\"12\">...</TD><TD>0.9771973</TD><TD>-1.905683</TD><TD>1.643589</TD></TR>\n",
       "<TR><TH>2</TH><TD>-2.117237</TD><TD>-1.668196</TD><TD>0.8897081<TD COLSPAN=\"12\">...</TD><TD>0.5466347</TD><TD>0.2100664</TD><TD>-1.420807</TD></TR>\n",
       "<TR><TD COLSPAN=\"19\">...</TD></TR>\n",
       "<TR><TH>1997</TH><TD>2.627003</TD><TD>-0.9723521</TD><TD>-2.100827<TD COLSPAN=\"12\">...</TD><TD>0.157889</TD><TD>1.065474</TD><TD>1.680374</TD></TR>\n",
       "<TR><TH>1998</TH><TD>0.180358</TD><TD>-1.491341</TD><TD>-0.9434357<TD COLSPAN=\"12\">...</TD><TD>-1.336224</TD><TD>0.8367805</TD><TD>1.060863</TD></TR>\n",
       "<TR><TH>1999</TH><TD>-0.2781532</TD><TD>-0.8025548</TD><TD>-0.06703128<TD COLSPAN=\"12\">...</TD><TD>0.4835089</TD><TD>0.3129481</TD><TD>-0.1902341</TD></TR>\n",
       "</TABLE>"
      ],
      "text/plain": [
       "class=Sample name=Unnamed implementation=class=SampleImplementation name=Unnamed size=2000 dimension=18 description=[xi_0,xi_1,xi_2,...,xi_15,xi_16,xi_17] data=[[0.26335,-0.0378595,-1.86713,...,-0.882297,0.11743,-1.53344],[-0.523945,-0.446709,0.595877,...,0.977197,-1.90568,1.64359],[-2.11724,-1.6682,0.889708,...,0.546635,0.210066,-1.42081],...,[2.627,-0.972352,-2.10083,...,0.157889,1.06547,1.68037],[0.180358,-1.49134,-0.943436,...,-1.33622,0.83678,1.06086],[-0.278153,-0.802555,-0.0670313,...,0.483509,0.312948,-0.190234]]"
      ]
     },
     "execution_count": 4,
     "metadata": {},
     "output_type": "execute_result"
    }
   ],
   "source": [
    "inputSample = ot.Sample(dfSample.values)\n",
    "inputSample.setDescription(ot.Description.BuildDefault(len(dfSample.columns),'xi_'))\n",
    "inputSample"
   ]
  },
  {
   "cell_type": "code",
   "execution_count": 5,
   "metadata": {},
   "outputs": [],
   "source": [
    "vonMisesSample = ot.Sample(dfVonMises.values)\n",
    "vonMisesSample.setDescription(ot.Description.BuildDefault(len(dfVonMises.columns),'VM_'))\n",
    "maxDeflSample = ot.Sample(dfMaxDeflection.values)\n",
    "maxDeflSample.setDescription(ot.Description.BuildDefault(len(dfMaxDeflection.columns),'MDef_'))"
   ]
  },
  {
   "cell_type": "code",
   "execution_count": 6,
   "metadata": {},
   "outputs": [],
   "source": [
    "## This value is a nan\n",
    "inputSample.erase(1867)\n",
    "vonMisesSample.erase(1867)\n",
    "maxDeflSample.erase(1867)"
   ]
  },
  {
   "cell_type": "markdown",
   "metadata": {},
   "source": [
    "#### Let's make a metamodel using krieging :"
   ]
  },
  {
   "cell_type": "code",
   "execution_count": 7,
   "metadata": {},
   "outputs": [],
   "source": [
    "trainInput = inputSample[:200]\n",
    "trainOutputVM = vonMisesSample[:200]\n",
    "trainOutputMD = maxDeflSample[:200]"
   ]
  },
  {
   "cell_type": "code",
   "execution_count": 8,
   "metadata": {},
   "outputs": [],
   "source": [
    "ot.RandomGenerator.SetSeed(456)"
   ]
  },
  {
   "cell_type": "markdown",
   "metadata": {},
   "source": [
    "#### First krieging test"
   ]
  },
  {
   "cell_type": "code",
   "execution_count": 9,
   "metadata": {},
   "outputs": [],
   "source": [
    "kriging = pt.build_default_kriging_algo(input_sample=trainInput,\n",
    "                            output_sample=trainOutputMD, basis=None,\n",
    "                            covariance_model=None, noise=None)\n",
    "\n",
    "kriging = pt.estimate_kriging_theta(algo_kriging=kriging,\n",
    "                    lower_bound=1e-4, upper_bound=100, size=5,\n",
    "                    optim_type='global')"
   ]
  },
  {
   "cell_type": "code",
   "execution_count": 10,
   "metadata": {},
   "outputs": [
    {
     "data": {
      "text/html": [
       "<p>MaternModel(scale=[16.6668,16.6668,50.0001,83.3333,83.3333,83.3333,83.3333,50.0001,83.3333,83.3333,50.0001,50.0001,50.0001,50.0001,50.0001,50.0001,50.0001,50.0001]#18, amplitude=[73.1296], nu=2.5)</p>"
      ],
      "text/plain": [
       "class=MaternModel scale=class=Point name=Unnamed dimension=18 values=[16.6668,16.6668,50.0001,83.3333,83.3333,83.3333,83.3333,50.0001,83.3333,83.3333,50.0001,50.0001,50.0001,50.0001,50.0001,50.0001,50.0001,50.0001] amplitude=class=Point name=Unnamed dimension=1 values=[73.1296] nu=2.5"
      ]
     },
     "execution_count": 10,
     "metadata": {},
     "output_type": "execute_result"
    }
   ],
   "source": [
    "kriging_result0 = kriging.getResult()\n",
    "kriging_result0.getCovarianceModel()"
   ]
  },
  {
   "cell_type": "code",
   "execution_count": 11,
   "metadata": {},
   "outputs": [
    {
     "data": {
      "text/plain": [
       "0.9496925470416498"
      ]
     },
     "execution_count": 11,
     "metadata": {},
     "output_type": "execute_result"
    }
   ],
   "source": [
    "pt.compute_Q2(trainInput, trainOutputMD, kriging_result0)"
   ]
  },
  {
   "cell_type": "markdown",
   "metadata": {},
   "source": [
    "#### Second krieging test"
   ]
  },
  {
   "cell_type": "code",
   "execution_count": 12,
   "metadata": {},
   "outputs": [],
   "source": [
    "ot.RandomGenerator.SetSeed(456)"
   ]
  },
  {
   "cell_type": "code",
   "execution_count": 13,
   "metadata": {},
   "outputs": [],
   "source": [
    "ot.RandomGenerator.SetSeed(456)\n",
    "kriging = pt.build_default_kriging_algo(input_sample=trainInput,\n",
    "                            output_sample=trainOutputMD, basis=None,\n",
    "                            covariance_model=None, noise=None)\n",
    "\n",
    "kriging = pt.estimate_kriging_theta(algo_kriging=kriging,\n",
    "                    lower_bound=1e-4, upper_bound=100, size=5,\n",
    "                    optim_type='best_start')"
   ]
  },
  {
   "cell_type": "code",
   "execution_count": 14,
   "metadata": {},
   "outputs": [
    {
     "data": {
      "text/html": [
       "<p>MaternModel(scale=[6.56042,19.0263,52.6166,56.6879,79.7517,68.4101,35.8403,59.3843,85.3107,35.9394,82.0625,59.4131,48.7409,74.8419,93.6092,83.0336,25.2447,75.9991]#18, amplitude=[38.3753], nu=2.5)</p>"
      ],
      "text/plain": [
       "class=MaternModel scale=class=Point name=Unnamed dimension=18 values=[6.56042,19.0263,52.6166,56.6879,79.7517,68.4101,35.8403,59.3843,85.3107,35.9394,82.0625,59.4131,48.7409,74.8419,93.6092,83.0336,25.2447,75.9991] amplitude=class=Point name=Unnamed dimension=1 values=[38.3753] nu=2.5"
      ]
     },
     "execution_count": 14,
     "metadata": {},
     "output_type": "execute_result"
    }
   ],
   "source": [
    "kriging_result1 = kriging.getResult()\n",
    "kriging_result1.getCovarianceModel()"
   ]
  },
  {
   "cell_type": "code",
   "execution_count": 15,
   "metadata": {},
   "outputs": [
    {
     "data": {
      "text/plain": [
       "0.9440307820253119"
      ]
     },
     "execution_count": 15,
     "metadata": {},
     "output_type": "execute_result"
    }
   ],
   "source": [
    "pt.compute_Q2(trainInput, trainOutputMD, kriging_result1)"
   ]
  },
  {
   "cell_type": "code",
   "execution_count": 16,
   "metadata": {},
   "outputs": [
    {
     "data": {
      "text/html": [
       "<TABLE><TR><TD></TD><TH>MDef_0</TH></TR>\n",
       "<TR><TH>0</TH><TD>17.33836</TD></TR>\n",
       "<TR><TH>1</TH><TD>23.24756</TD></TR>\n",
       "<TR><TH>2</TH><TD>40.74504</TD></TR>\n",
       "<TR><TD COLSPAN=\"2\">...</TD></TR>\n",
       "<TR><TH>1996</TH><TD>14.85943</TD></TR>\n",
       "<TR><TH>1997</TH><TD>18.97441</TD></TR>\n",
       "<TR><TH>1998</TH><TD>24.08687</TD></TR>\n",
       "</TABLE>"
      ],
      "text/plain": [
       "class=Sample name=Unnamed implementation=class=SampleImplementation name=Unnamed size=1999 dimension=1 description=[MDef_0] data=[[17.3384],[23.2476],[40.745],...,[14.8594],[18.9744],[24.0869]]"
      ]
     },
     "execution_count": 16,
     "metadata": {},
     "output_type": "execute_result"
    }
   ],
   "source": [
    "maxDeflSample"
   ]
  },
  {
   "cell_type": "code",
   "execution_count": 17,
   "metadata": {},
   "outputs": [],
   "source": [
    "val = ot.MetaModelValidation(inputSample[200:], maxDeflSample[200:], kriging_result1.getMetaModel())\n",
    "\n",
    "# Compute the first indicator : q2\n",
    "q2 = val.computePredictivityFactor()\n",
    "\n",
    "# Get the residual\n",
    "residual = val.getResidualSample()\n",
    "\n",
    "# Get the histogram of residual\n",
    "histoResidual = val.getResidualDistribution(False)\n",
    "\n",
    "# Draw the validation graph\n",
    "graph = val.drawValidation()"
   ]
  },
  {
   "cell_type": "code",
   "execution_count": 18,
   "metadata": {},
   "outputs": [
    {
     "data": {
      "image/png": "[encoded data removed]",
      "text/plain": [
       "class=Graph name=Metamodel validation - Q2 = 96.4732 % implementation=class=GraphImplementation name=Metamodel validation - Q2 = 96.4732 % title=Metamodel validation - Q2 = 96.4732 % xTitle=model yTitle=metamodel axes=ON grid=ON legendposition= legendFontSize=1 drawables=[class=Drawable name=Unnamed implementation=class=Curve name=Unnamed derived from class=DrawableImplementation name=Unnamed legend= data=class=Sample name=Unnamed implementation=class=SampleImplementation name=Unnamed size=1799 dimension=2 data=[[26.8583,26.8583],[18.4257,18.4257],[21.4949,21.4949],...,[14.8594,14.8594],[18.9744,18.9744],[24.0869,24.0869]] color=blue fillStyle=solid lineStyle=solid pointStyle=none lineWidth=1,class=Drawable name=Unnamed implementation=class=Cloud name=Unnamed derived from class=DrawableImplementation name=Unnamed legend= data=class=Sample name=Unnamed implementation=class=SampleImplementation name=Unnamed size=1799 dimension=2 data=[[26.8583,26.89],[18.4257,18.7525],[21.4949,21.3199],...,[14.8594,15.4878],[18.9744,18.9218],[24.0869,24.2854]] color=red fillStyle=solid lineStyle=solid pointStyle=plus lineWidth=1]"
      ]
     },
     "execution_count": 18,
     "metadata": {},
     "output_type": "execute_result"
    }
   ],
   "source": [
    "graph"
   ]
  },
  {
   "cell_type": "code",
   "execution_count": 19,
   "metadata": {},
   "outputs": [
    {
     "data": {
      "text/plain": [
       "array([], shape=(0, 2), dtype=int64)"
      ]
     },
     "execution_count": 19,
     "metadata": {},
     "output_type": "execute_result"
    }
   ],
   "source": [
    "np.argwhere(np.isnan(maxDeflSample))"
   ]
  },
  {
   "cell_type": "code",
   "execution_count": 20,
   "metadata": {},
   "outputs": [
    {
     "data": {
      "text/plain": [
       "0.9647315578529055"
      ]
     },
     "execution_count": 20,
     "metadata": {},
     "output_type": "execute_result"
    }
   ],
   "source": [
    "q2"
   ]
  },
  {
   "cell_type": "markdown",
   "metadata": {},
   "source": [
    "**Observations :** \n",
    "- The approximation of the max deflection through the krieging metamodel is not bad at all with a q2 of 0.96\n",
    "- We can still see some outliers"
   ]
  },
  {
   "cell_type": "markdown",
   "metadata": {},
   "source": [
    "#### Rather then directly analysing the other output of the function, the von mises stress field, we will rather regenerate a new data set, with an entirely randomly generated input sample, rather than taking the 200 first points of LHS DOE"
   ]
  },
  {
   "cell_type": "code",
   "execution_count": 21,
   "metadata": {},
   "outputs": [
    {
     "data": {
      "text/plain": [
       "['vonMises.csv',\n",
       " 'sample2000_rand.csv',\n",
       " 'vonMises_rand.csv',\n",
       " 'maxDefl_rand.csv',\n",
       " 'sample2000.csv',\n",
       " 'maxDefl.csv']"
      ]
     },
     "execution_count": 21,
     "metadata": {},
     "output_type": "execute_result"
    }
   ],
   "source": [
    "import os\n",
    "import pandas as pd\n",
    "os.listdir('MetaModelSamples')"
   ]
  },
  {
   "cell_type": "code",
   "execution_count": 22,
   "metadata": {},
   "outputs": [],
   "source": [
    "dfVonMises = pd.read_csv('MetaModelSamples/vonMises_rand.csv',sep=';',  header=None)\n",
    "dfMaxDeflection = pd.read_csv('MetaModelSamples/maxDefl_rand.csv', sep=';', header=None)\n",
    "dfSample = pd.read_csv('MetaModelSamples/sample2000_rand.csv', sep=';')"
   ]
  },
  {
   "cell_type": "code",
   "execution_count": 23,
   "metadata": {},
   "outputs": [],
   "source": [
    "whereNan = list(set(np.argwhere(np.isnan(dfVonMises.values))[:,0]))[0]"
   ]
  },
  {
   "cell_type": "code",
   "execution_count": 24,
   "metadata": {},
   "outputs": [],
   "source": [
    "inputSample_rand = ot.Sample(dfSample.values)\n",
    "inputSample_rand.setDescription(ot.Description.BuildDefault(len(dfSample.columns),'xi_'))\n",
    "vonMisesSample_rand = ot.Sample(dfVonMises.values)\n",
    "vonMisesSample_rand.setDescription(ot.Description.BuildDefault(len(dfVonMises.columns),'VM_'))\n",
    "maxDeflSample_rand = ot.Sample(dfMaxDeflection.values)\n",
    "maxDeflSample_rand.setDescription(ot.Description.BuildDefault(len(dfMaxDeflection.columns),'MDef_'))"
   ]
  },
  {
   "cell_type": "code",
   "execution_count": 25,
   "metadata": {},
   "outputs": [],
   "source": [
    "inputSample_rand.erase(int(whereNan))\n",
    "vonMisesSample_rand.erase(int(whereNan))\n",
    "maxDeflSample_rand.erase(int(whereNan))"
   ]
  },
  {
   "cell_type": "markdown",
   "metadata": {},
   "source": [
    "**Now that we have regenerated new samples and outputs, we can redo our krieging experiment:**"
   ]
  },
  {
   "cell_type": "markdown",
   "metadata": {},
   "source": [
    "#### Let's define the initial values : "
   ]
  },
  {
   "cell_type": "code",
   "execution_count": 26,
   "metadata": {},
   "outputs": [],
   "source": [
    "xmin = -10 # borne inférieur de la variable d'entrée x\n",
    "xmax = 10 # borne supérieure de la variable d'entrée x\n",
    "n_pt = 100 # nombre des points du plan d'expériences\n",
    "size_multistart = 50 # nombre de points de départ pour les options muti_start, et best_start"
   ]
  },
  {
   "cell_type": "code",
   "execution_count": 27,
   "metadata": {},
   "outputs": [],
   "source": [
    "inputSample2_train = inputSample_rand[:n_pt]\n",
    "outputVM2_train = vonMisesSample_rand[:n_pt]\n",
    "outputMD2_train = maxDeflSample_rand[:n_pt]\n",
    "\n",
    "inputSample2_test = inputSample_rand[n_pt:]\n",
    "outputVM2_test = vonMisesSample_rand[n_pt:]\n",
    "outputMD2_test = maxDeflSample_rand[n_pt:]"
   ]
  },
  {
   "cell_type": "markdown",
   "metadata": {},
   "source": [
    "#### Optimisation with the option \"multi_start\".\n",
    "##### We will do the krieging for the maximal deflection (only one dimensional output)"
   ]
  },
  {
   "cell_type": "code",
   "execution_count": 28,
   "metadata": {},
   "outputs": [],
   "source": [
    "ot.RandomGenerator.SetSeed(456)"
   ]
  },
  {
   "cell_type": "code",
   "execution_count": 29,
   "metadata": {},
   "outputs": [
    {
     "name": "stderr",
     "output_type": "stream",
     "text": [
      "<ipython-input-29-edb186eb0f7a>:1: DeprecationWarning: Using or importing the ABCs from 'collections' instead of from 'collections.abc' is deprecated since Python 3.3, and in 3.9 it will stop working\n",
      "  from collections import Sequence, Iterable\n"
     ]
    },
    {
     "name": "stdout",
     "output_type": "stream",
     "text": [
      "Q2: 0.9777533355735761\n"
     ]
    }
   ],
   "source": [
    "from collections import Sequence, Iterable\n",
    "\n",
    "# Construction d'un modèle initiale de l'algorithme de krigeage.\n",
    "algo_kriging = pt.build_default_kriging_algo(inputSample2_train, outputMD2_train, basis=None,\n",
    "                            covariance_model=None, noise=None)\n",
    "\n",
    "# Optimisation des paramètres de krigeage en paratant de l'algorithme initial.\n",
    "kriging_algo = pt.estimate_kriging_theta(algo_kriging, lower_bound=None, upper_bound=None, \n",
    "                                           size=size_multistart, optim_type='multi_start')\n",
    "\n",
    "# Récupérer les métamodèles et calculer les coefficients Q2\n",
    "if isinstance(kriging_algo, (Sequence, Iterable, list)):\n",
    "    print('Is list')\n",
    "    kriging_result = []\n",
    "    for krig_algo in kriging_algo: \n",
    "        kriging_result.append(krig_algo.getResult())\n",
    "else : \n",
    "    kriging_result = kriging_algo.getResult()\n",
    "\n",
    "if isinstance(kriging_result,(Sequence, Iterable, list)):\n",
    "    print('Is list')\n",
    "    kriging_meta = []\n",
    "    Q2 = []\n",
    "    for krig_result in kriging_result:\n",
    "        kriging_meta.append(krig_result.getMetaModel())\n",
    "\n",
    "        # calcul de Q2 pour les deux métamodèles\n",
    "        Q2.append(pt.compute_Q2(input_sample, output_sample, krig_result))\n",
    "else :\n",
    "    kriging_meta = kriging_result.getMetaModel()\n",
    "    Q2 = pt.compute_Q2(inputSample2_test, outputMD2_test, kriging_result)\n",
    "print('Q2:', Q2)"
   ]
  },
  {
   "cell_type": "code",
   "execution_count": 30,
   "metadata": {},
   "outputs": [],
   "source": [
    "val = ot.MetaModelValidation(inputSample2_test, outputMD2_test, kriging_meta)\n",
    "\n",
    "# Compute the978002 first indicator : q2\n",
    "q2 = val.computePredictivityFactor()\n",
    "\n",
    "# Get the residual\n",
    "residual = val.getResidualSample()\n",
    "\n",
    "# Get the histogram of residual\n",
    "histoResidual = val.getResidualDistribution(False)\n",
    "\n",
    "# Draw the validation graph\n",
    "graph = val.drawValidation()"
   ]
  },
  {
   "cell_type": "code",
   "execution_count": 31,
   "metadata": {},
   "outputs": [
    {
     "data": {
      "image/png": "[encoded data removed]",
      "text/plain": [
       "class=Graph name=Metamodel validation - Q2 = 80.5955 % implementation=class=GraphImplementation name=Metamodel validation - Q2 = 80.5955 % title=Metamodel validation - Q2 = 80.5955 % xTitle=model yTitle=metamodel axes=ON grid=ON legendposition= legendFontSize=1 drawables=[class=Drawable name=Unnamed implementation=class=Curve name=Unnamed derived from class=DrawableImplementation name=Unnamed legend= data=class=Sample name=Unnamed implementation=class=SampleImplementation name=Unnamed size=1899 dimension=2 data=[[36.9501,36.9501],[34.1055,34.1055],[17.3564,17.3564],...,[22.2658,22.2658],[27.1273,27.1273],[16.4587,16.4587]] color=blue fillStyle=solid lineStyle=solid pointStyle=none lineWidth=1,class=Drawable name=Unnamed implementation=class=Cloud name=Unnamed derived from class=DrawableImplementation name=Unnamed legend= data=class=Sample name=Unnamed implementation=class=SampleImplementation name=Unnamed size=1899 dimension=2 data=[[36.9501,38.3863],[34.1055,33.6435],[17.3564,17.66],...,[22.2658,21.9578],[27.1273,27.6559],[16.4587,17.5281]] color=red fillStyle=solid lineStyle=solid pointStyle=plus lineWidth=1]"
      ]
     },
     "execution_count": 31,
     "metadata": {},
     "output_type": "execute_result"
    }
   ],
   "source": [
    "graph"
   ]
  },
  {
   "cell_type": "markdown",
   "metadata": {},
   "source": [
    "#### Optimisation with the option \"best_start\".\n",
    "##### Krieging for the maximal deflection (only one dimensional output)"
   ]
  },
  {
   "cell_type": "code",
   "execution_count": 32,
   "metadata": {},
   "outputs": [],
   "source": [
    "ot.RandomGenerator.SetSeed(456)"
   ]
  },
  {
   "cell_type": "code",
   "execution_count": 33,
   "metadata": {},
   "outputs": [
    {
     "name": "stdout",
     "output_type": "stream",
     "text": [
      "Q2: 0.9780043178701491\n"
     ]
    }
   ],
   "source": [
    "\n",
    "# Construction d'un modèle initiale de l'algorithme de krigeage.\n",
    "algo_kriging = pt.build_default_kriging_algo(inputSample2_train, outputMD2_train, basis=None,\n",
    "                            covariance_model=None, noise=None)\n",
    "\n",
    "# Optimisation des paramètres de krigeage en paratant de l'algorithme initial.\n",
    "kriging_algo = pt.estimate_kriging_theta(algo_kriging, lower_bound=None, upper_bound=None, \n",
    "                                           size=size_multistart, optim_type='best_start')\n",
    "\n",
    "# Récupérer les métamodèles et calculer les coefficients Q2\n",
    "if isinstance(kriging_algo, (Sequence, Iterable, list)):\n",
    "    print('Is list')\n",
    "    kriging_result = []\n",
    "    for krig_algo in kriging_algo: \n",
    "        kriging_result.append(krig_algo.getResult())\n",
    "else : \n",
    "    kriging_result = kriging_algo.getResult()\n",
    "\n",
    "if isinstance(kriging_result,(Sequence, Iterable, list)):\n",
    "    print('Is list')\n",
    "    kriging_meta = []\n",
    "    Q2 = []\n",
    "    for krig_result in kriging_result:\n",
    "        kriging_meta.append(krig_result.getMetaModel())\n",
    "\n",
    "        # calcul de Q2 pour les deux métamodèles\n",
    "        Q2.append(pt.compute_Q2(input_sample, output_sample, krig_result))\n",
    "else :\n",
    "    kriging_meta = kriging_result.getMetaModel()\n",
    "    Q2 = pt.compute_Q2(inputSample2_test, outputMD2_test, kriging_result)\n",
    "print('Q2:', Q2)"
   ]
  },
  {
   "cell_type": "code",
   "execution_count": 34,
   "metadata": {},
   "outputs": [],
   "source": [
    "val = ot.MetaModelValidation(inputSample2_test, outputMD2_test, kriging_meta)\n",
    "\n",
    "# Compute the first indicator : q2\n",
    "q2 = val.computePredictivityFactor()\n",
    "\n",
    "# Get the residual\n",
    "residual = val.getResidualSample()\n",
    "\n",
    "# Get the histogram of residual\n",
    "histoResidual = val.getResidualDistribution(False)\n",
    "\n",
    "# Draw the validation graph\n",
    "graph = val.drawValidation()"
   ]
  },
  {
   "cell_type": "code",
   "execution_count": 35,
   "metadata": {},
   "outputs": [
    {
     "data": {
      "image/png": "[encoded data removed]",
      "text/plain": [
       "class=Graph name=Metamodel validation - Q2 = 80.6042 % implementation=class=GraphImplementation name=Metamodel validation - Q2 = 80.6042 % title=Metamodel validation - Q2 = 80.6042 % xTitle=model yTitle=metamodel axes=ON grid=ON legendposition= legendFontSize=1 drawables=[class=Drawable name=Unnamed implementation=class=Curve name=Unnamed derived from class=DrawableImplementation name=Unnamed legend= data=class=Sample name=Unnamed implementation=class=SampleImplementation name=Unnamed size=1899 dimension=2 data=[[36.9501,36.9501],[34.1055,34.1055],[17.3564,17.3564],...,[22.2658,22.2658],[27.1273,27.1273],[16.4587,16.4587]] color=blue fillStyle=solid lineStyle=solid pointStyle=none lineWidth=1,class=Drawable name=Unnamed implementation=class=Cloud name=Unnamed derived from class=DrawableImplementation name=Unnamed legend= data=class=Sample name=Unnamed implementation=class=SampleImplementation name=Unnamed size=1899 dimension=2 data=[[36.9501,38.4042],[34.1055,33.4988],[17.3564,17.6132],...,[22.2658,21.9318],[27.1273,27.569],[16.4587,17.5182]] color=red fillStyle=solid lineStyle=solid pointStyle=plus lineWidth=1]"
      ]
     },
     "execution_count": 35,
     "metadata": {},
     "output_type": "execute_result"
    }
   ],
   "source": [
    "graph"
   ]
  },
  {
   "cell_type": "markdown",
   "metadata": {},
   "source": [
    "**We see that already with multi_start and the 100 points the krieging results are excellent. Changing the optimisation type has not as much of an inluence.**\n",
    "Let's redo the krieging with less points : "
   ]
  },
  {
   "cell_type": "code",
   "execution_count": 36,
   "metadata": {},
   "outputs": [],
   "source": [
    "xmin = -10 # borne inférieur de la variable d'entrée x\n",
    "xmax = 10 # borne supérieure de la variable d'entrée x\n",
    "n_pt = 25 # nombre des points du plan d'expériences\n",
    "size_multistart = 10# nombre de points de départ pour les options muti_start, et best_start"
   ]
  },
  {
   "cell_type": "code",
   "execution_count": 37,
   "metadata": {},
   "outputs": [],
   "source": [
    "inputSample2_train = inputSample_rand[:n_pt]\n",
    "outputVM2_train = vonMisesSample_rand[:n_pt]\n",
    "outputMD2_train = maxDeflSample_rand[:n_pt]\n",
    "\n",
    "inputSample2_test = inputSample_rand[n_pt:]\n",
    "outputVM2_test = vonMisesSample_rand[n_pt:]\n",
    "outputMD2_test = maxDeflSample_rand[n_pt:]"
   ]
  },
  {
   "cell_type": "markdown",
   "metadata": {},
   "source": [
    "#### Optimisation with the option \"multi_start\".\n",
    "##### We will do the krieging for the maximal deflection (only one dimensional output)"
   ]
  },
  {
   "cell_type": "code",
   "execution_count": 38,
   "metadata": {},
   "outputs": [],
   "source": [
    "ot.RandomGenerator.SetSeed(456)"
   ]
  },
  {
   "cell_type": "code",
   "execution_count": 39,
   "metadata": {},
   "outputs": [
    {
     "name": "stdout",
     "output_type": "stream",
     "text": [
      "Q2: -5.440557875280305e-05\n"
     ]
    }
   ],
   "source": [
    "from collections import Sequence, Iterable\n",
    "\n",
    "# Construction d'un modèle initiale de l'algorithme de krigeage.\n",
    "algo_kriging = pt.build_default_kriging_algo(inputSample2_train, outputMD2_train, basis=None,\n",
    "                            covariance_model=None, noise=None)\n",
    "\n",
    "# Optimisation des paramètres de krigeage en paratant de l'algorithme initial.\n",
    "kriging_algo = pt.estimate_kriging_theta(algo_kriging, lower_bound=None, upper_bound=None, \n",
    "                                           size=size_multistart, optim_type='multi_start')\n",
    "\n",
    "# Récupérer les métamodèles et calculer les coefficients Q2\n",
    "if isinstance(kriging_algo, (Sequence, Iterable, list)):\n",
    "    print('Is list')\n",
    "    kriging_result = []\n",
    "    for krig_algo in kriging_algo: \n",
    "        kriging_result.append(krig_algo.getResult())\n",
    "else : \n",
    "    kriging_result = kriging_algo.getResult()\n",
    "\n",
    "if isinstance(kriging_result,(Sequence, Iterable, list)):\n",
    "    print('Is list')\n",
    "    kriging_meta = []\n",
    "    Q2 = []\n",
    "    for krig_result in kriging_result:\n",
    "        kriging_meta.append(krig_result.getMetaModel())\n",
    "\n",
    "        # calcul de Q2 pour les deux métamodèles\n",
    "        Q2.append(pt.compute_Q2(input_sample, output_sample, krig_result))\n",
    "else :\n",
    "    kriging_meta = kriging_result.getMetaModel()\n",
    "    Q2 = pt.compute_Q2(inputSample2_test, outputMD2_test, kriging_result)\n",
    "print('Q2:', Q2)"
   ]
  },
  {
   "cell_type": "code",
   "execution_count": 40,
   "metadata": {},
   "outputs": [],
   "source": [
    "val = ot.MetaModelValidation(inputSample2_test, outputMD2_test, kriging_meta)\n",
    "\n",
    "# Compute the first indicator : q2\n",
    "q2 = val.computePredictivityFactor()\n",
    "\n",
    "# Get the residual\n",
    "residual = val.getResidualSample()\n",
    "\n",
    "# Get the histogram of residual\n",
    "histoResidual = val.getResidualDistribution(False)\n",
    "\n",
    "# Draw the validation graph\n",
    "graph = val.drawValidation()"
   ]
  },
  {
   "cell_type": "code",
   "execution_count": 41,
   "metadata": {},
   "outputs": [
    {
     "data": {
      "image/png": "[encoded data removed]",
      "text/plain": [
       "class=Graph name=Metamodel validation - Q2 = -0.271467 % implementation=class=GraphImplementation name=Metamodel validation - Q2 = -0.271467 % title=Metamodel validation - Q2 = -0.271467 % xTitle=model yTitle=metamodel axes=ON grid=ON legendposition= legendFontSize=1 drawables=[class=Drawable name=Unnamed implementation=class=Curve name=Unnamed derived from class=DrawableImplementation name=Unnamed legend= data=class=Sample name=Unnamed implementation=class=SampleImplementation name=Unnamed size=1974 dimension=2 data=[[19.5942,19.5942],[23.7806,23.7806],[19.367,19.367],...,[22.2658,22.2658],[27.1273,27.1273],[16.4587,16.4587]] color=blue fillStyle=solid lineStyle=solid pointStyle=none lineWidth=1,class=Drawable name=Unnamed implementation=class=Cloud name=Unnamed derived from class=DrawableImplementation name=Unnamed legend= data=class=Sample name=Unnamed implementation=class=SampleImplementation name=Unnamed size=1974 dimension=2 data=[[19.5942,21.9417],[23.7806,21.9053],[19.367,21.9417],...,[22.2658,21.9417],[27.1273,21.9417],[16.4587,21.9417]] color=red fillStyle=solid lineStyle=solid pointStyle=plus lineWidth=1]"
      ]
     },
     "execution_count": 41,
     "metadata": {},
     "output_type": "execute_result"
    }
   ],
   "source": [
    "graph"
   ]
  },
  {
   "cell_type": "markdown",
   "metadata": {},
   "source": [
    "#### Optimisation with the option \"best_start\".\n",
    "##### Krieging for the maximal deflection (only one dimensional output)"
   ]
  },
  {
   "cell_type": "code",
   "execution_count": 42,
   "metadata": {},
   "outputs": [],
   "source": [
    "ot.RandomGenerator.SetSeed(456)"
   ]
  },
  {
   "cell_type": "code",
   "execution_count": null,
   "metadata": {},
   "outputs": [],
   "source": [
    "\n",
    "# Construction d'un modèle initiale de l'algorithme de krigeage.\n",
    "algo_kriging = pt.build_default_kriging_algo(inputSample2_train, outputMD2_train, basis=None,\n",
    "                            covariance_model=None, noise=None)\n",
    "\n",
    "# Optimisation des paramètres de krigeage en paratant de l'algorithme initial.\n",
    "kriging_algo = pt.estimate_kriging_theta(algo_kriging, lower_bound=None, upper_bound=None, \n",
    "                                           size=size_multistart, optim_type='best_start')\n",
    "\n",
    "# Récupérer les métamodèles et calculer les coefficients Q2\n",
    "if isinstance(kriging_algo, (Sequence, Iterable, list)):\n",
    "    print('Is list')\n",
    "    kriging_result = []\n",
    "    for krig_algo in kriging_algo: \n",
    "        kriging_result.append(krig_algo.getResult())\n",
    "else : \n",
    "    kriging_result = kriging_algo.getResult()\n",
    "\n",
    "if isinstance(kriging_result,(Sequence, Iterable, list)):\n",
    "    print('Is list')\n",
    "    kriging_meta = []\n",
    "    Q2 = []\n",
    "    for krig_result in kriging_result:\n",
    "        kriging_meta.append(krig_result.getMetaModel())\n",
    "\n",
    "        # calcul de Q2 pour les deux métamodèles\n",
    "        Q2.append(pt.compute_Q2(input_sample, output_sample, krig_result))\n",
    "else :\n",
    "    kriging_meta = kriging_result.getMetaModel()\n",
    "    Q2 = pt.compute_Q2(inputSample2_test, outputMD2_test, kriging_result)\n",
    "print('Q2:', Q2)"
   ]
  },
  {
   "cell_type": "code",
   "execution_count": null,
   "metadata": {},
   "outputs": [],
   "source": [
    "val = ot.MetaModelValidation(inputSample2_test, outputMD2_test, kriging_meta)\n",
    "\n",
    "# Compute the first indicator : q2\n",
    "q2 = val.computePredictivityFactor()\n",
    "\n",
    "# Get the residual\n",
    "residual = val.getResidualSample()\n",
    "\n",
    "# Get the histogram of residual\n",
    "histoResidual = val.getResidualDistribution(False)\n",
    "\n",
    "# Draw the validation graph\n",
    "graph = val.drawValidation()"
   ]
  },
  {
   "cell_type": "code",
   "execution_count": null,
   "metadata": {},
   "outputs": [],
   "source": [
    "graph"
   ]
  },
  {
   "cell_type": "markdown",
   "metadata": {},
   "source": [
    "# Now that we have analyzed a bit the single output function (maximum deflection), we can now begin to create the metamodel of the multidimensional output, the Von Mises Stress Field. \n",
    "### We will do somethin similar to before, wuth first 200 points, than 100 and than 25 and we will use the two start methods. "
   ]
  },
  {
   "cell_type": "code",
   "execution_count": null,
   "metadata": {},
   "outputs": [],
   "source": [
    "xmin = -10 # borne inférieur de la variable d'entrée x\n",
    "xmax = 10 # borne supérieure de la variable d'entrée x\n",
    "n_pt = 50 # nombre des points du plan d'expériences\n",
    "size_multistart = 3 # nombre de points de départ pour les options muti_start, et best_start"
   ]
  },
  {
   "cell_type": "code",
   "execution_count": null,
   "metadata": {},
   "outputs": [],
   "source": [
    "inputSample2_train = inputSample_rand[:n_pt]\n",
    "outputVM2_train = vonMisesSample_rand[:n_pt]\n",
    "outputMD2_train = maxDeflSample_rand[:n_pt]\n",
    "\n",
    "inputSample2_test = inputSample_rand[n_pt:]\n",
    "outputVM2_test = vonMisesSample_rand[n_pt:]\n",
    "outputMD2_test = maxDeflSample_rand[n_pt:]"
   ]
  },
  {
   "cell_type": "markdown",
   "metadata": {},
   "source": [
    "#### Optimisation with the option \"multi_start\".\n",
    "##### We will do the krieging for the maximal deflection (only one dimensional output)"
   ]
  },
  {
   "cell_type": "code",
   "execution_count": null,
   "metadata": {},
   "outputs": [],
   "source": [
    "ot.RandomGenerator.SetSeed(456)"
   ]
  },
  {
   "cell_type": "code",
   "execution_count": null,
   "metadata": {},
   "outputs": [],
   "source": [
    "from collections import Sequence, Iterable\n",
    "\n",
    "# Construction d'un modèle initiale de l'algorithme de krigeage.\n",
    "algo_kriging = pt.build_default_kriging_algo(inputSample2_train, outputVM2_train, basis=None,\n",
    "                            covariance_model=None, noise=None)\n",
    "\n",
    "# Optimisation des paramètres de krigeage en paratant de l'algorithme initial.\n",
    "kriging_algo = pt.estimate_kriging_theta(algDeflectiono_kriging, lower_bound=None, upper_bound=None, \n",
    "                                           size=size_multistart, optim_type='best_start')\n",
    "\n",
    "# Récupérer les métamodèles et calculer les coefficients Q2\n",
    "if isinstance(kriging_algo, (Sequence, Iterable, list)):\n",
    "    print('Is list')\n",
    "    kriging_result = []\n",
    "    for krig_algo in kriging_algo: \n",
    "        kriging_result.append(krig_algo.getResult())\n",
    "else : \n",
    "    kriging_result = kriging_algo.getResult()\n",
    "\n",
    "if isinstance(kriging_result,(Sequence, Iterable, list)):\n",
    "    print('Is list')\n",
    "    kriging_meta = []\n",
    "    Q2 = []\n",
    "    for krig_result in kriging_result:\n",
    "        kriging_meta.append(krig_result.getMetaModel())\n",
    "\n",
    "        # calcul de Q2 pour les deux métamodèles\n",
    "        Q2.append(pt.compute_Q2(inputSample2_test, outputVM2_test, krig_result))\n",
    "else :\n",
    "    kriging_meta = kriging_result.getMetaModel()\n",
    "    Q2 = pt.compute_Q2(inputSample2_test, outputVM2_test, kriging_result)\n",
    "print('Q2:', Q2)"
   ]
  },
  {
   "cell_type": "code",
   "execution_count": null,
   "metadata": {},
   "outputs": [],
   "source": [
    "r2s = []\n",
    "residuals = []\n",
    "for i, metamod in enumerate(kriging_meta) : \n",
    "    val = ot.MetaModelValidation(inputSample2_test, outputVM2_test[:,i], metamod)\n",
    "\n",
    "    # Compute the first indicator : r2\n",
    "    r2 = val.computePredictivityFactor()\n",
    "    # Get the residual\n",
    "    residual = val.getResidualSample()\n",
    "    # Get the histogram of residual\n",
    "    histoResidual = val.getResidualDistribution(False)\n",
    "    r2s.append(r2)\n",
    "    residuals.append(residual)\n",
    "    # Draw the validation graph\n",
    "    graph = val.drawValidation()\n",
    "    ot.Show(graph)"
   ]
  },
  {
   "cell_type": "code",
   "execution_count": null,
   "metadata": {},
   "outputs": [],
   "source": [
    "r2s"
   ]
  },
  {
   "cell_type": "code",
   "execution_count": null,
   "metadata": {},
   "outputs": [],
   "source": [
    "residuals"
   ]
  },
  {
   "cell_type": "code",
   "execution_count": null,
   "metadata": {},
   "outputs": [],
   "source": []
  },
  {
   "cell_type": "code",
   "execution_count": null,
   "metadata": {},
   "outputs": [],
   "source": []
  }
 ],
 "metadata": {
  "kernelspec": {
   "display_name": "Python 3",
   "language": "python",
   "name": "python3"
  },
  "language_info": {
   "codemirror_mode": {
    "name": "ipython",
    "version": 3
   },
   "file_extension": ".py",
   "mimetype": "text/x-python",
   "name": "python",
   "nbconvert_exporter": "python",
   "pygments_lexer": "ipython3",
   "version": "3.8.6"
  }
 },
 "nbformat": 4,
 "nbformat_minor": 4
}
