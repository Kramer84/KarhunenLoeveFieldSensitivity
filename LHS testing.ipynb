{
 "cells": [
  {
   "cell_type": "code",
   "execution_count": 1,
   "metadata": {},
   "outputs": [],
   "source": [
    "try:\n",
    "    import anastruct, openturns, numba, joblib\n",
    "except:\n",
    "    import os\n",
    "    if os.sys.platform == 'linux' :\n",
    "        file_path = 'sensitivityEnv.yml'\n",
    "        os.system('conda env create -f'+file_path)\n",
    "        # to have the right modules installed\n",
    "        print('now activate the environment and restart jupyter with other kernel')\n",
    "    else :\n",
    "        print('Do it alone')"
   ]
  },
  {
   "cell_type": "code",
   "execution_count": 2,
   "metadata": {},
   "outputs": [
    {
     "name": "stdout",
     "output_type": "stream",
     "text": [
      "trend function args:  ['x']  trend function:  210000 \n",
      "\n",
      "Please be aware that the number of elements in the argument list has to be the same as the dimension of the process:  1\n",
      "trend function args:  ['x']  trend function:  10 \n",
      "\n",
      "Please be aware that the number of elements in the argument list has to be the same as the dimension of the process:  1\n"
     ]
    }
   ],
   "source": [
    "import NdGaussianProcessSensitivity as ngps\n",
    "import NdGaussianProcessConstructor as ngpc\n",
    "# Classes utilitaires\n",
    "import numpy                        as np\n",
    "import openturns                    as ot\n",
    "import matplotlib.pyplot            as plt\n",
    "from   importlib                import reload \n",
    "\n",
    "# on importe aussi les fonctions à étudier\n",
    "import RandomBeamGenerationClass    as rbgc"
   ]
  },
  {
   "cell_type": "code",
   "execution_count": 3,
   "metadata": {},
   "outputs": [
    {
     "name": "stdout",
     "output_type": "stream",
     "text": [
      "trend function args:  ['x']  trend function:  210000 \n",
      "\n",
      "Please be aware that the number of elements in the argument list has to be the same as the dimension of the process:  1\n",
      "trend function args:  ['x']  trend function:  10 \n",
      "\n",
      "Please be aware that the number of elements in the argument list has to be the same as the dimension of the process:  1\n"
     ]
    }
   ],
   "source": [
    "# process governing the young modulus for each element      (MPa)\n",
    "process_E = ngpc.NdGaussianProcessConstructor(dimension=1,\n",
    "                                              grid_shape=[[0,1000,100],],\n",
    "                                              covariance_model={'NameModel':'MaternModel',\n",
    "                                                                'amplitude':5000.,\n",
    "                                                                'scale':300,\n",
    "                                                                'nu':13/3},\n",
    "                                              trend_arguments=['x'],trend_function=210000)\n",
    "process_E.setName('E_')\n",
    "\n",
    "\n",
    "# process governing the diameter for each element          (mm)\n",
    "process_D = ngpc.NdGaussianProcessConstructor(dimension=1,\n",
    "                                              grid_shape=[[0,1000,100],],\n",
    "                                              covariance_model={'NameModel':'MaternModel',\n",
    "                                                                'amplitude':.3,\n",
    "                                                                'scale':250,\n",
    "                                                                'nu':7.4/3},\n",
    "                                              trend_arguments=['x'],trend_function=10)\n",
    "process_D.setName('D_')\n",
    "\n",
    "\n",
    "# random variable for the density of the material (kg/m³)\n",
    "rho         = 7850.\n",
    "sigma       = 250\n",
    "nameD       = 'Rho'\n",
    "RV_Rho = ngpc.NormalDistribution(mu = rho, sigma = sigma, name = nameD)\n",
    "\n",
    "\n",
    "# random variable for the position of the force   (mm) \n",
    "middle       = 500\n",
    "sigma_f      = 50\n",
    "namePos     = 'FP'\n",
    "RV_Fpos = ngpc.NormalDistribution(mu = middle, sigma = sigma_f, name = namePos)\n",
    "\n",
    "\n",
    "# random variable for the norm of the force    (N)\n",
    "muForce       = 100\n",
    "# we go from sigma = 15 to sigma = 1.5, as the influence is too important\n",
    "sigma_Fnor    = 1.5\n",
    "nameNor       = 'FN'\n",
    "RV_Fnorm = ngpc.NormalDistribution(mu = muForce, sigma = sigma_Fnor, name = nameNor)"
   ]
  },
  {
   "cell_type": "code",
   "execution_count": 4,
   "metadata": {},
   "outputs": [],
   "source": [
    "from importlib import reload\n",
    "reload(ngps)\n",
    "outputVariables = {'out1' :\n",
    "                   {\n",
    "                         'name'     : 'VonMisesStress',\n",
    "                         'position' : 0,\n",
    "                         'shape'    : (102,)  \n",
    "                    },\n",
    "                   'out2' :\n",
    "                   {\n",
    "                        'name'      : 'maxDeflection',\n",
    "                        'position'  : 1,\n",
    "                        'shape'     : (1,)\n",
    "                   }\n",
    "                  }\n",
    "#Pour utiliser notre fonction, un wrapper a été spécialement écrit pour faciliter l'accès aux fonctions mais\n",
    "#ce choix est entièrement dépendant de la manière dont a été définie la fonction sur laquelle vous travaillez.\n",
    "functionWrapper = rbgc.sampleAndSoloFunctionWrapper(process_E, process_D, RV_Rho, RV_Fpos, RV_Fnorm)\n"
   ]
  },
  {
   "cell_type": "code",
   "execution_count": 5,
   "metadata": {},
   "outputs": [
    {
     "name": "stdout",
     "output_type": "stream",
     "text": [
      "Input Variables are (without Karhunen Loeve Decomposition) :\n",
      " ['E_', 'D_', 'Rho', 'FP', 'FN'] \n",
      "\n",
      "Output Variables are :\n",
      " ['VonMisesStress', 'maxDeflection'] \n",
      "\n",
      "trend function args:  ['x']  trend function:  210000 \n",
      "\n",
      "Please be aware that the number of elements in the argument list has to be the same as the dimension of the process:  1\n",
      "trend function args:  ['x']  trend function:  10 \n",
      "\n",
      "Please be aware that the number of elements in the argument list has to be the same as the dimension of the process:  1\n"
     ]
    }
   ],
   "source": [
    "inputVarList = [process_E, process_D, RV_Rho, RV_Fpos, RV_Fnorm]\n",
    "# We also the need the two functions of the model (one for samples, the other for single evaluations)\n",
    "# In our case, as our model is defined as a class, we have to first create the model, \n",
    "# but it also could just be just two functions taking as an input the fields and RVs\n",
    "soloFunction   = functionWrapper.randomBeamFunctionSolo\n",
    "sampleFunction = functionWrapper.randomBeamFunctionSample\n",
    "##\n",
    "size           = 100 ## Number of samples for our sobol indicies experiment (kept low here to make things faster)\n",
    "##\n",
    "reload(ngps)\n",
    "##\n",
    "processSensitivityAnalysis = ngps.NdGaussianProcessSensitivityAnalysis(inputVarList, \n",
    "                                                                       outputVariables,\n",
    "                                                                       sampleFunction,\n",
    "                                                                       soloFunction,\n",
    "                                                                       size)"
   ]
  },
  {
   "cell_type": "code",
   "execution_count": 6,
   "metadata": {},
   "outputs": [],
   "source": [
    "composedDist = processSensitivityAnalysis.wrappedFunction.KLComposedDistribution"
   ]
  },
  {
   "cell_type": "code",
   "execution_count": 7,
   "metadata": {},
   "outputs": [
    {
     "data": {
      "text/html": [
       "<TABLE><TR><TD></TD><TH>X0</TH><TH>X1</TH><TH>X2</TH><TH>X3</TH><TH>X4</TH><TH>X5</TH><TH>X6</TH><TH>X7</TH><TH>X8</TH><TH>X9</TH><TH>X10</TH><TH>X11</TH><TH>X12</TH><TH>X13</TH><TH>X14</TH><TH>X15</TH><TH>X16</TH><TH>X17</TH><TH>X18</TH><TH>X19</TH><TH>X20</TH><TH>X21</TH><TH>X22</TH><TH>X23</TH></TR>\n",
       "<TR><TD>0</TD><TD>52.71401673485741</TD><TD>-0.6190113037047741</TD><TD>23.347458290605736</TD><TD>0.06347807086528537</TD><TD>17.41492560497797</TD><TD>0.7344083880759388</TD><TD>13.494358599694156</TD><TD>-1.2792267624296643</TD><TD>46.11930726728617</TD><TD>0.7073937542220261</TD><TD>18.86875807097596</TD><TD>-0.1838631550118829</TD><TD>13.478786634538835</TD><TD>-0.2098030543238163</TD><TD>9.418215574762641</TD><TD>-0.0742153432202242</TD><TD>6.482390834231902</TD><TD>-1.574400318851566</TD><TD>7.343659725904404</TD><TD>0.03294407621803525</TD><TD>5.142462253908853</TD><TD>8044.593183293306</TD><TD>516.8999498906726</TD><TD>100.30546677648667</TD></TR>\n",
       "<TR><TD>1</TD><TD>55.66752989714323</TD><TD>-1.4091655733844421</TD><TD>25.136697556135022</TD><TD>0.1028755194637434</TD><TD>16.369768427992458</TD><TD>1.3649305326728758</TD><TD>14.898406127957335</TD><TD>-0.11519985573748011</TD><TD>46.54834649952778</TD><TD>1.379185178985446</TD><TD>18.686466674366354</TD><TD>1.5673453190855584</TD><TD>13.220748849410503</TD><TD>0.4794748613588794</TD><TD>9.119845224653075</TD><TD>-0.2880722782284593</TD><TD>7.074061789406534</TD><TD>-1.0552032483764697</TD><TD>7.2785224568945806</TD><TD>0.11195135126997476</TD><TD>7.011007232304429</TD><TD>7361.834957850768</TD><TD>557.4959972051532</TD><TD>99.08908058354628</TD></TR>\n",
       "<TR><TD>2</TD><TD>56.317782258564954</TD><TD>1.6348979650901296</TD><TD>24.45085414189981</TD><TD>1.2276931985943609</TD><TD>15.930941561514016</TD><TD>0.3406613268720971</TD><TD>14.166507616614844</TD><TD>-0.10766332726825542</TD><TD>45.792070037125434</TD><TD>-0.3942708385227068</TD><TD>19.600411268172664</TD><TD>0.7704768616877736</TD><TD>12.618084798381323</TD><TD>-0.7553114640709261</TD><TD>10.300283626198684</TD><TD>-0.8130074962375727</TD><TD>7.565532957718137</TD><TD>-0.9519001257613666</TD><TD>6.584632368253358</TD><TD>-0.226705312041951</TD><TD>6.014145927995408</TD><TD>7714.683129583718</TD><TD>429.04301126060733</TD><TD>101.16790738313932</TD></TR>\n",
       "<TR><TD>3</TD><TD>54.35026437442136</TD><TD>0.5179503946933574</TD><TD>23.77277044430537</TD><TD>-0.21523723843188408</TD><TD>18.149253016670325</TD><TD>-0.10887270338417562</TD><TD>14.748156013898942</TD><TD>-0.26883828215656563</TD><TD>49.142965519232504</TD><TD>1.5177908869684447</TD><TD>19.13166574469797</TD><TD>-0.0921641607193318</TD><TD>13.495220198097511</TD><TD>1.2333132192511573</TD><TD>9.425903421662488</TD><TD>-0.7658362438335572</TD><TD>9.268389431436717</TD><TD>-1.7975863799591314</TD><TD>7.838417373430559</TD><TD>-0.6633887212098494</TD><TD>6.820830575878595</TD><TD>7674.928952591688</TD><TD>461.1310745192345</TD><TD>97.81004323841216</TD></TR>\n",
       "<TR><TD>4</TD><TD>53.705801367227814</TD><TD>1.3578726608594913</TD><TD>24.5833838714377</TD><TD>0.9829314210056196</TD><TD>17.145325125400213</TD><TD>0.16716641859221765</TD><TD>14.5404418166184</TD><TD>-0.8431975107650324</TD><TD>49.389685909683955</TD><TD>0.5146476244786371</TD><TD>17.842104695297326</TD><TD>-0.8686692635217054</TD><TD>12.500876683348947</TD><TD>0.07853006867707311</TD><TD>9.182823545771571</TD><TD>-0.8146405534788224</TD><TD>7.120959449905637</TD><TD>0.35955030764862855</TD><TD>5.809572676568832</TD><TD>0.23007461055775663</TD><TD>4.25693339838984</TD><TD>8106.573630500882</TD><TD>577.5973735497788</TD><TD>99.65545440014864</TD></TR>\n",
       "<TR><TD>5</TD><TD>54.028458662931044</TD><TD>-0.591316651037037</TD><TD>25.537826250946797</TD><TD>-1.0146246308449907</TD><TD>19.028266136784524</TD><TD>0.3785184142027179</TD><TD>15.435716465269172</TD><TD>0.6738632233384829</TD><TD>48.05280236639485</TD><TD>-0.036589299238659986</TD><TD>18.77051125441508</TD><TD>-0.9037403627869925</TD><TD>13.951445514383941</TD><TD>0.5085574029574945</TD><TD>10.164913326672151</TD><TD>-0.5900253204566203</TD><TD>7.555245353576943</TD><TD>-1.5693684290968224</TD><TD>5.660991471475317</TD><TD>-0.8229669823037163</TD><TD>4.367441428839301</TD><TD>8036.985088759626</TD><TD>465.0180366996839</TD><TD>102.53866584032077</TD></TR>\n",
       "<TR><TD>6</TD><TD>55.04806415509966</TD><TD>0.017434814545807937</TD><TD>24.96895882273232</TD><TD>-0.48748419376755914</TD><TD>17.359087269040995</TD><TD>1.2695963506795378</TD><TD>15.318036233489599</TD><TD>-0.032489402296360104</TD><TD>47.42869065362147</TD><TD>1.6888718842111954</TD><TD>19.259653252798937</TD><TD>0.9283069660851</TD><TD>12.168502941121455</TD><TD>1.614875324440376</TD><TD>10.816412287924752</TD><TD>0.9873927133513337</TD><TD>8.330426662726111</TD><TD>-0.9655571187303511</TD><TD>8.707491865919597</TD><TD>-0.6844604605114648</TD><TD>6.920341066537388</TD><TD>7828.162490600241</TD><TD>448.58132976971297</TD><TD>98.61322848010157</TD></TR>\n",
       "<TR><TD>7</TD><TD>55.75461420534138</TD><TD>1.6047316151040096</TD><TD>24.046762542025423</TD><TD>-1.7703758211804053</TD><TD>18.96162484340842</TD><TD>0.350308586879386</TD><TD>13.049330564326986</TD><TD>-0.36953161305550963</TD><TD>46.35471798143291</TD><TD>-0.1740326753421411</TD><TD>19.009322848068564</TD><TD>-0.743796648361196</TD><TD>13.372753542541812</TD><TD>-0.5210122362640109</TD><TD>9.98108011419025</TD><TD>-0.07568798292951566</TD><TD>10.03521278220138</TD><TD>-0.6438481027232332</TD><TD>5.522654497762839</TD><TD>-0.6297878630854878</TD><TD>4.366696617370618</TD><TD>7660.367959171212</TD><TD>563.5750980934057</TD><TD>96.5004625543567</TD></TR>\n",
       "<TR><TD>8</TD><TD>54.18177411766347</TD><TD>-1.3351332177892912</TD><TD>25.320335933311608</TD><TD>0.2694289896963941</TD><TD>17.72153175282488</TD><TD>-1.9263385368223005</TD><TD>14.91093772051243</TD><TD>-0.6684144646731988</TD><TD>46.240237439084794</TD><TD>1.1409279989280796</TD><TD>17.96614984811437</TD><TD>-0.1392524161159307</TD><TD>11.562072427420611</TD><TD>0.011717424355843577</TD><TD>10.714694682148654</TD><TD>-1.253229152056787</TD><TD>7.1405965061116135</TD><TD>0.0017565621830497383</TD><TD>6.1989589069951965</TD><TD>1.6773465932919642</TD><TD>3.4394357154032904</TD><TD>7479.142628173864</TD><TD>480.9353403750371</TD><TD>98.89173797104449</TD></TR>\n",
       "<TR><TD>9</TD><TD>53.719074015836085</TD><TD>-0.6304691488838121</TD><TD>22.597898088520626</TD><TD>-0.14952067861105914</TD><TD>18.235122452464708</TD><TD>0.7931647999319315</TD><TD>15.94971987840658</TD><TD>-0.569377742960257</TD><TD>46.194595300013994</TD><TD>-0.4071477811284578</TD><TD>19.376671404551598</TD><TD>-1.1733347092351547</TD><TD>14.077546258425006</TD><TD>-1.6375370584949565</TD><TD>10.097798377814405</TD><TD>0.5875234136171191</TD><TD>7.375059484560971</TD><TD>-0.8417137787832973</TD><TD>8.677195688505943</TD><TD>0.09362647556935788</TD><TD>6.167652192818894</TD><TD>7655.081959313289</TD><TD>439.27075922677454</TD><TD>98.38368079642723</TD></TR>\n",
       "</TABLE>"
      ],
      "text/plain": [
       "class=Sample name=ComposedDistribution implementation=class=SampleImplementation name=ComposedDistribution size=10 dimension=24 description=[X0,X1,X2,X3,X4,X5,X6,X7,X8,X9,X10,X11,X12,X13,X14,X15,X16,X17,X18,X19,X20,X21,X22,X23] data=[[52.714,-0.619011,23.3475,0.0634781,17.4149,0.734408,13.4944,-1.27923,46.1193,0.707394,18.8688,-0.183863,13.4788,-0.209803,9.41822,-0.0742153,6.48239,-1.5744,7.34366,0.0329441,5.14246,8044.59,516.9,100.305],[55.6675,-1.40917,25.1367,0.102876,16.3698,1.36493,14.8984,-0.1152,46.5483,1.37919,18.6865,1.56735,13.2207,0.479475,9.11985,-0.288072,7.07406,-1.0552,7.27852,0.111951,7.01101,7361.83,557.496,99.0891],[56.3178,1.6349,24.4509,1.22769,15.9309,0.340661,14.1665,-0.107663,45.7921,-0.394271,19.6004,0.770477,12.6181,-0.755311,10.3003,-0.813007,7.56553,-0.9519,6.58463,-0.226705,6.01415,7714.68,429.043,101.168],[54.3503,0.51795,23.7728,-0.215237,18.1493,-0.108873,14.7482,-0.268838,49.143,1.51779,19.1317,-0.0921642,13.4952,1.23331,9.4259,-0.765836,9.26839,-1.79759,7.83842,-0.663389,6.82083,7674.93,461.131,97.81],[53.7058,1.35787,24.5834,0.982931,17.1453,0.167166,14.5404,-0.843198,49.3897,0.514648,17.8421,-0.868669,12.5009,0.0785301,9.18282,-0.814641,7.12096,0.35955,5.80957,0.230075,4.25693,8106.57,577.597,99.6555],[54.0285,-0.591317,25.5378,-1.01462,19.0283,0.378518,15.4357,0.673863,48.0528,-0.0365893,18.7705,-0.90374,13.9514,0.508557,10.1649,-0.590025,7.55525,-1.56937,5.66099,-0.822967,4.36744,8036.99,465.018,102.539],[55.0481,0.0174348,24.969,-0.487484,17.3591,1.2696,15.318,-0.0324894,47.4287,1.68887,19.2597,0.928307,12.1685,1.61488,10.8164,0.987393,8.33043,-0.965557,8.70749,-0.68446,6.92034,7828.16,448.581,98.6132],[55.7546,1.60473,24.0468,-1.77038,18.9616,0.350309,13.0493,-0.369532,46.3547,-0.174033,19.0093,-0.743797,13.3728,-0.521012,9.98108,-0.075688,10.0352,-0.643848,5.52265,-0.629788,4.3667,7660.37,563.575,96.5005],[54.1818,-1.33513,25.3203,0.269429,17.7215,-1.92634,14.9109,-0.668414,46.2402,1.14093,17.9661,-0.139252,11.5621,0.0117174,10.7147,-1.25323,7.1406,0.00175656,6.19896,1.67735,3.43944,7479.14,480.935,98.8917],[53.7191,-0.630469,22.5979,-0.149521,18.2351,0.793165,15.9497,-0.569378,46.1946,-0.407148,19.3767,-1.17333,14.0775,-1.63754,10.0978,0.587523,7.37506,-0.841714,8.6772,0.0936265,6.16765,7655.08,439.271,98.3837]]"
      ]
     },
     "execution_count": 7,
     "metadata": {},
     "output_type": "execute_result"
    }
   ],
   "source": [
    "composedDist.getSample(10)"
   ]
  },
  {
   "cell_type": "code",
   "execution_count": 8,
   "metadata": {},
   "outputs": [
    {
     "name": "stdout",
     "output_type": "stream",
     "text": [
      "['E_', 'D_', 'Rho', 'FP', 'FN']\n",
      "['E_xi_0', 'E_xi_1', 'E_xi_2', 'E_xi_3', 'E_xi_4', 'E_xi_5', 'E_xi_6', 'E_xi_7', 'D_xi_0', 'D_xi_1', 'D_xi_2', 'D_xi_3', 'D_xi_4', 'D_xi_5', 'D_xi_6', 'D_xi_7', 'D_xi_8', 'D_xi_9', 'D_xi_10', 'D_xi_11', 'D_xi_12', 'Rho', 'FP', 'FN']\n",
      "['var0', 'var1', 'var2', 'var3', 'var4']\n"
     ]
    }
   ],
   "source": [
    "print(processSensitivityAnalysis.wrappedFunction.inputVarNames)\n",
    "print(processSensitivityAnalysis.wrappedFunction.inputVarNamesKL)\n",
    "print(processSensitivityAnalysis.wrappedFunction._inputVarOrdering)"
   ]
  },
  {
   "cell_type": "code",
   "execution_count": null,
   "metadata": {},
   "outputs": [],
   "source": []
  },
  {
   "cell_type": "code",
   "execution_count": 9,
   "metadata": {},
   "outputs": [],
   "source": [
    "import customWraps as cw"
   ]
  },
  {
   "cell_type": "code",
   "execution_count": 10,
   "metadata": {},
   "outputs": [],
   "source": [
    "@cw.timing\n",
    "def getLHSExperiment(distribution, size, alwaysShuffle, randomShift):\n",
    "    return ot.LHSExperiment(distribution, size, alwaysShuffle, randomShift).generate()"
   ]
  },
  {
   "cell_type": "code",
   "execution_count": 11,
   "metadata": {},
   "outputs": [
    {
     "name": "stdout",
     "output_type": "stream",
     "text": [
      "timed  0.049272776  s for function \" getLHSExperiment \"\n"
     ]
    }
   ],
   "source": [
    "exp = getLHSExperiment(composedDist, 2000, True, True)"
   ]
  },
  {
   "cell_type": "code",
   "execution_count": 12,
   "metadata": {},
   "outputs": [
    {
     "name": "stdout",
     "output_type": "stream",
     "text": [
      "That works really fast!\n"
     ]
    },
    {
     "data": {
      "text/html": [
       "<TABLE><TR><TH></TH><TH>X0</TH><TH>X1</TH><TH>X2</TH><TH COLSPAN=\"18\">...</TH><TH>X21</TH><TH>X22</TH><TH>X23</TH></TR>\n",
       "<TR><TD>0</TD><TD>54.91715772135215</TD><TD>1.7385374735517234</TD><TD>25.844708288872965<TD COLSPAN=\"18\">...</TD><TD>7905.803294473905</TD><TD>517.9683086726093</TD><TD>100.45026136100755</TD></TR>\n",
       "<TR><TD>1</TD><TD>52.27208928125695</TD><TD>-0.5914911734874352</TD><TD>24.20682243687914<TD COLSPAN=\"18\">...</TD><TD>7436.591448214523</TD><TD>513.713242224594</TD><TD>97.9912714248443</TD></TR>\n",
       "<TR><TD>2</TD><TD>54.96939250827567</TD><TD>-0.27800102887758843</TD><TD>22.481559715642152<TD COLSPAN=\"18\">...</TD><TD>7712.356784061976</TD><TD>445.38361554080427</TD><TD>99.59092971291217</TD></TR>\n",
       "<TR><TD COLSPAN=\"25\">...</TD></TR>\n",
       "<TR><TD>1997</TD><TD>54.90634596036298</TD><TD>-0.33115136820353186</TD><TD>23.20917984749819<TD COLSPAN=\"18\">...</TD><TD>7564.913384288518</TD><TD>561.111494934655</TD><TD>99.83016264563018</TD></TR>\n",
       "<TR><TD>1998</TD><TD>53.75330519376919</TD><TD>0.18776635714233603</TD><TD>22.34433947922745<TD COLSPAN=\"18\">...</TD><TD>7802.594858546052</TD><TD>491.4335304015241</TD><TD>100.53207456764935</TD></TR>\n",
       "<TR><TD>1999</TD><TD>54.30883152956916</TD><TD>0.7022654918435294</TD><TD>25.107537213851362<TD COLSPAN=\"18\">...</TD><TD>7617.009113769342</TD><TD>515.8732657025348</TD><TD>99.23099609171527</TD></TR>\n",
       "</TABLE>"
      ],
      "text/plain": [
       "class=Sample name=Unnamed implementation=class=SampleImplementation name=Unnamed size=2000 dimension=24 description=[X0,X1,X2,...,X21,X22,X23] data=[[54.9172,1.73854,25.8447,...,7905.8,517.968,100.45],[52.2721,-0.591491,24.2068,...,7436.59,513.713,97.9913],[54.9694,-0.278001,22.4816,...,7712.36,445.384,99.5909],...,[54.9063,-0.331151,23.2092,...,7564.91,561.111,99.8302],[53.7533,0.187766,22.3443,...,7802.59,491.434,100.532],[54.3088,0.702265,25.1075,...,7617.01,515.873,99.231]]"
      ]
     },
     "execution_count": 12,
     "metadata": {},
     "output_type": "execute_result"
    }
   ],
   "source": [
    "print('That works really fast!')\n",
    "exp"
   ]
  },
  {
   "cell_type": "code",
   "execution_count": 201,
   "metadata": {},
   "outputs": [
    {
     "data": {
      "text/plain": [
       "<module 'NdGaussianProcessExperimentGeneration' from '/home/motherloadubu/Documents/project_PHIMECA/stochastic_process_analysis/NdGaussianProcessExperimentGeneration.py'>"
      ]
     },
     "execution_count": 201,
     "metadata": {},
     "output_type": "execute_result"
    }
   ],
   "source": [
    "import NdGaussianProcessExperimentGeneration as ngpeg\n",
    "reload(ngpeg)"
   ]
  },
  {
   "cell_type": "code",
   "execution_count": 202,
   "metadata": {},
   "outputs": [
    {
     "name": "stdout",
     "output_type": "stream",
     "text": [
      "Generation types:\n",
      "1 : Random (default)\n",
      "2 : LHS\n",
      "3 : LowDiscrepancySequence\n",
      "4 : SimulatedAnnealingLHS\n"
     ]
    }
   ],
   "source": [
    "test = ngpeg.NdGaussianProcessExperiment()"
   ]
  },
  {
   "cell_type": "code",
   "execution_count": 203,
   "metadata": {},
   "outputs": [],
   "source": [
    "test.setSampleSize(100)"
   ]
  },
  {
   "cell_type": "code",
   "execution_count": 204,
   "metadata": {},
   "outputs": [],
   "source": [
    "test.setOTPyFunctionWrapper(processSensitivityAnalysis.wrappedFunction)"
   ]
  },
  {
   "cell_type": "code",
   "execution_count": 205,
   "metadata": {},
   "outputs": [],
   "source": [
    "test.setGenType(1)\n",
    "test.generateSample()"
   ]
  },
  {
   "cell_type": "code",
   "execution_count": 206,
   "metadata": {},
   "outputs": [],
   "source": [
    "test.setGenType(2)\n",
    "test.generateSample()"
   ]
  },
  {
   "cell_type": "code",
   "execution_count": 207,
   "metadata": {},
   "outputs": [],
   "source": [
    "test.setGenType(3)\n",
    "test.generateSample(sequence='Halton')"
   ]
  },
  {
   "cell_type": "code",
   "execution_count": 208,
   "metadata": {},
   "outputs": [
    {
     "name": "stdout",
     "output_type": "stream",
     "text": [
      "undefined parameter 'SpaceFilling', setting to default 'SpaceFillingC2'\n",
      "undefined parameter 'TemperatureProfile', setting default GeometricProfile\n"
     ]
    }
   ],
   "source": [
    "test.setGenType(4)\n",
    "arr=test.generateSample()"
   ]
  },
  {
   "cell_type": "code",
   "execution_count": 209,
   "metadata": {},
   "outputs": [
    {
     "name": "stdout",
     "output_type": "stream",
     "text": [
      "['E_', 'D_', 'Rho', 'FP', 'FN']\n",
      "['E_xi_0', 'E_xi_1', 'E_xi_2', 'E_xi_3', 'E_xi_4', 'E_xi_5', 'E_xi_6', 'E_xi_7', 'D_xi_0', 'D_xi_1', 'D_xi_2', 'D_xi_3', 'D_xi_4', 'D_xi_5', 'D_xi_6', 'D_xi_7', 'D_xi_8', 'D_xi_9', 'D_xi_10', 'D_xi_11', 'D_xi_12', 'Rho', 'FP', 'FN']\n",
      "i= 0 k= 1 jump= 0\n",
      "i= 0 k= 2 jump= 0\n",
      "i= 0 k= 3 jump= 0\n",
      "i= 0 k= 4 jump= 0\n",
      "i= 0 k= 5 jump= 0\n",
      "i= 0 k= 6 jump= 0\n",
      "i= 0 k= 7 jump= 0\n",
      "i= 0 k= 8 jump= 0\n",
      "i= 1 k= 1 jump= 7\n",
      "i= 1 k= 2 jump= 7\n",
      "i= 1 k= 3 jump= 7\n",
      "i= 1 k= 4 jump= 7\n",
      "i= 1 k= 5 jump= 7\n",
      "i= 1 k= 6 jump= 7\n",
      "i= 1 k= 7 jump= 7\n",
      "i= 1 k= 8 jump= 7\n",
      "i= 1 k= 9 jump= 7\n",
      "i= 1 k= 10 jump= 7\n",
      "i= 1 k= 11 jump= 7\n",
      "i= 1 k= 12 jump= 7\n",
      "i= 1 k= 13 jump= 7\n",
      "i= 2 k= 1 jump= 19\n",
      "i= 3 k= 1 jump= 19\n",
      "i= 4 k= 1 jump= 19\n"
     ]
    }
   ],
   "source": [
    "print(test.inputVarNames)\n",
    "print(test.inputVarNamesKL)\n",
    "test.getDataFieldAndRV()"
   ]
  },
  {
   "cell_type": "code",
   "execution_count": 210,
   "metadata": {},
   "outputs": [
    {
     "data": {
      "text/plain": [
       "[8, 13, 1, 1, 1]"
      ]
     },
     "execution_count": 210,
     "metadata": {},
     "output_type": "execute_result"
    }
   ],
   "source": [
    "test.dataMixSamples"
   ]
  },
  {
   "cell_type": "code",
   "execution_count": 211,
   "metadata": {},
   "outputs": [
    {
     "data": {
      "text/plain": [
       "(100, 24)"
      ]
     },
     "execution_count": 211,
     "metadata": {},
     "output_type": "execute_result"
    }
   ],
   "source": [
    "test.sample_A.shape"
   ]
  },
  {
   "cell_type": "code",
   "execution_count": 212,
   "metadata": {},
   "outputs": [],
   "source": [
    "test.getExperiment()"
   ]
  },
  {
   "cell_type": "code",
   "execution_count": 213,
   "metadata": {},
   "outputs": [
    {
     "data": {
      "text/plain": [
       "(700, 24)"
      ]
     },
     "execution_count": 213,
     "metadata": {},
     "output_type": "execute_result"
    }
   ],
   "source": [
    "test.experimentSample.shape"
   ]
  },
  {
   "cell_type": "code",
   "execution_count": 214,
   "metadata": {},
   "outputs": [
    {
     "data": {
      "text/plain": [
       "array([0, 1, 2, 3, 4, 5, 6, 7])"
      ]
     },
     "execution_count": 214,
     "metadata": {},
     "output_type": "execute_result"
    }
   ],
   "source": [
    "np.unique(np.argwhere(test.experimentSample[200:300,...]==test.sample_B)[...,1])"
   ]
  },
  {
   "cell_type": "code",
   "execution_count": 215,
   "metadata": {},
   "outputs": [
    {
     "data": {
      "text/plain": [
       "array([ 8,  9, 10, 11, 12, 13, 14, 15, 16, 17, 18, 19, 20])"
      ]
     },
     "execution_count": 215,
     "metadata": {},
     "output_type": "execute_result"
    }
   ],
   "source": [
    "np.unique(np.argwhere(test.experimentSample[300:400,...]==test.sample_B)[...,1])"
   ]
  },
  {
   "cell_type": "code",
   "execution_count": 216,
   "metadata": {},
   "outputs": [
    {
     "data": {
      "text/plain": [
       "array([21])"
      ]
     },
     "execution_count": 216,
     "metadata": {},
     "output_type": "execute_result"
    }
   ],
   "source": [
    "np.unique(np.argwhere(test.experimentSample[400:500,...]==test.sample_B)[...,1])"
   ]
  },
  {
   "cell_type": "code",
   "execution_count": 217,
   "metadata": {},
   "outputs": [
    {
     "data": {
      "text/plain": [
       "array([22])"
      ]
     },
     "execution_count": 217,
     "metadata": {},
     "output_type": "execute_result"
    }
   ],
   "source": [
    "np.unique(np.argwhere(test.experimentSample[500:600,...]==test.sample_B)[...,1])"
   ]
  },
  {
   "cell_type": "code",
   "execution_count": 218,
   "metadata": {},
   "outputs": [
    {
     "data": {
      "text/plain": [
       "array([23])"
      ]
     },
     "execution_count": 218,
     "metadata": {},
     "output_type": "execute_result"
    }
   ],
   "source": [
    "np.unique(np.argwhere(test.experimentSample[600:700,...]==test.sample_B)[...,1])"
   ]
  },
  {
   "cell_type": "code",
   "execution_count": null,
   "metadata": {},
   "outputs": [],
   "source": []
  },
  {
   "cell_type": "code",
   "execution_count": null,
   "metadata": {},
   "outputs": [],
   "source": []
  }
 ],
 "metadata": {
  "kernelspec": {
   "display_name": "Python 3",
   "language": "python",
   "name": "python3"
  },
  "language_info": {
   "codemirror_mode": {
    "name": "ipython",
    "version": 3
   },
   "file_extension": ".py",
   "mimetype": "text/x-python",
   "name": "python",
   "nbconvert_exporter": "python",
   "pygments_lexer": "ipython3",
   "version": "3.6.7"
  }
 },
 "nbformat": 4,
 "nbformat_minor": 4
}
