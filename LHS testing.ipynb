{
 "cells": [
  {
   "cell_type": "code",
   "execution_count": 1,
   "metadata": {},
   "outputs": [],
   "source": [
    "try:\n",
    "    import anastruct, openturns, numba, joblib\n",
    "except:\n",
    "    import os\n",
    "    if os.sys.platform == 'linux' :\n",
    "        file_path = 'sensitivityEnv.yml'\n",
    "        os.system('conda env create -f'+file_path)\n",
    "        # to have the right modules installed\n",
    "        print('now activate the environment and restart jupyter with other kernel')\n",
    "    else :\n",
    "        print('Do it alone')"
   ]
  },
  {
   "cell_type": "code",
   "execution_count": 2,
   "metadata": {},
   "outputs": [
    {
     "name": "stdout",
     "output_type": "stream",
     "text": [
      "trend function args:  ['x']  trend function:  210000 \n",
      "\n",
      "Please be aware that the number of elements in the argument list has to be the same as the dimension of the process:  1\n",
      "trend function args:  ['x']  trend function:  10 \n",
      "\n",
      "Please be aware that the number of elements in the argument list has to be the same as the dimension of the process:  1\n",
      "Populating the interactive namespace from numpy and matplotlib\n"
     ]
    }
   ],
   "source": [
    "import NdGaussianProcessSensitivity_MOD as ngps\n",
    "import NdGaussianProcessConstructor as ngpc\n",
    "# Classes utilitaires\n",
    "import numpy                        as np\n",
    "import openturns                    as ot\n",
    "import matplotlib.pyplot            as plt\n",
    "from   importlib                import reload \n",
    "\n",
    "# on importe aussi les fonctions à étudier\n",
    "import RandomBeamGenerationClass    as rbgc\n",
    "\n",
    "%pylab inline\n",
    "pylab.rcParams['figure.figsize'] = (15, 9)"
   ]
  },
  {
   "cell_type": "code",
   "execution_count": 3,
   "metadata": {},
   "outputs": [
    {
     "name": "stdout",
     "output_type": "stream",
     "text": [
      "trend function args:  ['x']  trend function:  210000 \n",
      "\n",
      "Please be aware that the number of elements in the argument list has to be the same as the dimension of the process:  1\n",
      "trend function args:  ['x']  trend function:  10 \n",
      "\n",
      "Please be aware that the number of elements in the argument list has to be the same as the dimension of the process:  1\n"
     ]
    }
   ],
   "source": [
    "# process governing the young modulus for each element      (MPa)\n",
    "process_E = ngpc.NdGaussianProcessConstructor(dimension=1,\n",
    "                                              grid_shape=[[0,1000,100],],\n",
    "                                              covariance_model={'NameModel':'MaternModel',\n",
    "                                                                'amplitude':5000.,\n",
    "                                                                'scale':300,\n",
    "                                                                'nu':13/3},\n",
    "                                              trend_arguments=['x'],trend_function=210000)\n",
    "process_E.setName('E_')\n",
    "\n",
    "\n",
    "# process governing the diameter for each element          (mm)\n",
    "process_D = ngpc.NdGaussianProcessConstructor(dimension=1,\n",
    "                                              grid_shape=[[0,1000,100],],\n",
    "                                              covariance_model={'NameModel':'MaternModel',\n",
    "                                                                'amplitude':.3,\n",
    "                                                                'scale':250,\n",
    "                                                                'nu':7.4/3},\n",
    "                                              trend_arguments=['x'],trend_function=10)\n",
    "process_D.setName('D_')\n",
    "\n",
    "\n",
    "# random variable for the density of the material (kg/m³)\n",
    "rho         = 7850.\n",
    "sigma       = 250\n",
    "nameD       = 'Rho'\n",
    "RV_Rho = ngpc.NormalDistribution(mu = rho, sigma = sigma, name = nameD)\n",
    "\n",
    "\n",
    "# random variable for the position of the force   (mm) \n",
    "middle       = 500\n",
    "sigma_f      = 50\n",
    "namePos     = 'FP'\n",
    "RV_Fpos = ngpc.NormalDistribution(mu = middle, sigma = sigma_f, name = namePos)\n",
    "\n",
    "\n",
    "# random variable for the norm of the force    (N)\n",
    "muForce       = 100\n",
    "# we go from sigma = 15 to sigma = 1.5, as the influence is too important\n",
    "sigma_Fnor    = 1.5\n",
    "nameNor       = 'FN'\n",
    "RV_Fnorm = ngpc.NormalDistribution(mu = muForce, sigma = sigma_Fnor, name = nameNor)"
   ]
  },
  {
   "cell_type": "code",
   "execution_count": 4,
   "metadata": {},
   "outputs": [],
   "source": [
    "from importlib import reload\n",
    "reload(ngps)\n",
    "outputVariables = {'out1' :\n",
    "                   {\n",
    "                         'name'     : 'VonMisesStress',\n",
    "                         'position' : 0,\n",
    "                         'shape'    : (102,)  \n",
    "                    },\n",
    "                   'out2' :\n",
    "                   {\n",
    "                        'name'      : 'maxDeflection',\n",
    "                        'position'  : 1,\n",
    "                        'shape'     : (1,)\n",
    "                   }\n",
    "                  }\n",
    "#Pour utiliser notre fonction, un wrapper a été spécialement écrit pour faciliter l'accès aux fonctions mais\n",
    "#ce choix est entièrement dépendant de la manière dont a été définie la fonction sur laquelle vous travaillez.\n",
    "functionWrapper = rbgc.sampleAndSoloFunctionWrapper(process_E, process_D, RV_Rho, RV_Fpos, RV_Fnorm)\n"
   ]
  },
  {
   "cell_type": "code",
   "execution_count": 6,
   "metadata": {},
   "outputs": [
    {
     "name": "stdout",
     "output_type": "stream",
     "text": [
      "Input Variables are (without Karhunen Loeve Decomposition) :\n",
      " ['E_', 'D_', 'Rho', 'FP', 'FN'] \n",
      "\n",
      "Output Variables are :\n",
      " ['VonMisesStress', 'maxDeflection'] \n",
      "\n",
      "trend function args:  ['x']  trend function:  210000 \n",
      "\n",
      "Please be aware that the number of elements in the argument list has to be the same as the dimension of the process:  1\n",
      "trend function args:  ['x']  trend function:  10 \n",
      "\n",
      "Please be aware that the number of elements in the argument list has to be the same as the dimension of the process:  1\n"
     ]
    }
   ],
   "source": [
    "inputVarList = [process_E, process_D, RV_Rho, RV_Fpos, RV_Fnorm]\n",
    "# We also the need the two functions of the model (one for samples, the other for single evaluations)\n",
    "# In our case, as our model is defined as a class, we have to first create the model, \n",
    "# but it also could just be just two functions taking as an input the fields and RVs\n",
    "soloFunction   = functionWrapper.randomBeamFunctionSolo\n",
    "sampleFunction = functionWrapper.randomBeamFunctionSample\n",
    "##\n",
    "size           = 10000 ## Number of samples for our sobol indicies experiment (kept low here to make things faster)\n",
    "##\n",
    "reload(ngps)\n",
    "##\n",
    "processSensitivityAnalysis = ngps.NdGaussianProcessSensitivityAnalysis(inputVarList, \n",
    "                                                                       outputVariables,\n",
    "                                                                       sampleFunction,\n",
    "                                                                       soloFunction,\n",
    "                                                                       size)"
   ]
  },
  {
   "cell_type": "code",
   "execution_count": 7,
   "metadata": {
    "scrolled": true
   },
   "outputs": [
    {
     "name": "stdout",
     "output_type": "stream",
     "text": [
      "Generation types:\n",
      "1 : Random (default)\n",
      "2 : LHS\n",
      "3 : LowDiscrepancySequence\n",
      "4 : SimulatedAnnealingLHS\n",
      "Choosen generation method is Random (default)\n",
      "number of samples for sobol experiment =  70000 \n",
      "\n",
      "input design is:  [[ 5.61299588e+01 -3.62610846e-01  2.34431593e+01 ...  8.08531372e+03\n",
      "   4.44238030e+02  1.01956377e+02]\n",
      " [ 5.56365103e+01 -4.00022375e-02  2.29372180e+01 ...  7.70515944e+03\n",
      "   5.91024860e+02  1.01433002e+02]\n",
      " [ 5.47623277e+01 -6.18084560e-01  2.40932585e+01 ...  7.84152701e+03\n",
      "   5.39347817e+02  1.02704530e+02]\n",
      " ...\n",
      " [ 5.53838192e+01  2.44978470e-01  2.45033438e+01 ...  7.65045551e+03\n",
      "   5.65377459e+02  1.01008132e+02]\n",
      " [ 5.27615652e+01 -3.45988708e-01  2.18345585e+01 ...  8.17411477e+03\n",
      "   5.12754280e+02  9.97154806e+01]\n",
      " [ 5.43644685e+01  1.41068948e+00  2.23454548e+01 ...  7.74376008e+03\n",
      "   4.37446563e+02  9.65653002e+01]]\n"
     ]
    }
   ],
   "source": [
    "processSensitivityAnalysis.prepareSobolIndicesExperiment()"
   ]
  },
  {
   "cell_type": "code",
   "execution_count": 8,
   "metadata": {},
   "outputs": [
    {
     "name": "stderr",
     "output_type": "stream",
     "text": [
      "[Parallel(n_jobs=-1)]: Using backend LokyBackend with 8 concurrent workers.\n",
      "[Parallel(n_jobs=-1)]: Done   2 tasks      | elapsed:   13.0s\n",
      "[Parallel(n_jobs=-1)]: Done   9 tasks      | elapsed:   13.5s\n",
      "[Parallel(n_jobs=-1)]: Done  16 tasks      | elapsed:   13.8s\n",
      "[Parallel(n_jobs=-1)]: Done  25 tasks      | elapsed:   14.1s\n",
      "[Parallel(n_jobs=-1)]: Done  34 tasks      | elapsed:   14.4s\n",
      "[Parallel(n_jobs=-1)]: Done  45 tasks      | elapsed:   14.7s\n",
      "[Parallel(n_jobs=-1)]: Done  56 tasks      | elapsed:   15.1s\n",
      "[Parallel(n_jobs=-1)]: Done  69 tasks      | elapsed:   15.6s\n",
      "[Parallel(n_jobs=-1)]: Done  82 tasks      | elapsed:   16.0s\n",
      "[Parallel(n_jobs=-1)]: Done  97 tasks      | elapsed:   16.5s\n",
      "[Parallel(n_jobs=-1)]: Done 112 tasks      | elapsed:   16.9s\n",
      "[Parallel(n_jobs=-1)]: Done 129 tasks      | elapsed:   17.5s\n",
      "[Parallel(n_jobs=-1)]: Done 146 tasks      | elapsed:   18.1s\n",
      "[Parallel(n_jobs=-1)]: Done 165 tasks      | elapsed:   18.7s\n",
      "[Parallel(n_jobs=-1)]: Done 184 tasks      | elapsed:   19.3s\n",
      "[Parallel(n_jobs=-1)]: Done 205 tasks      | elapsed:   20.1s\n",
      "[Parallel(n_jobs=-1)]: Done 226 tasks      | elapsed:   20.8s\n",
      "[Parallel(n_jobs=-1)]: Done 249 tasks      | elapsed:   21.6s\n",
      "[Parallel(n_jobs=-1)]: Done 272 tasks      | elapsed:   22.4s\n",
      "[Parallel(n_jobs=-1)]: Done 297 tasks      | elapsed:   23.3s\n",
      "[Parallel(n_jobs=-1)]: Done 322 tasks      | elapsed:   24.1s\n",
      "[Parallel(n_jobs=-1)]: Done 349 tasks      | elapsed:   25.0s\n",
      "[Parallel(n_jobs=-1)]: Done 376 tasks      | elapsed:   25.9s\n",
      "[Parallel(n_jobs=-1)]: Done 405 tasks      | elapsed:   26.8s\n",
      "[Parallel(n_jobs=-1)]: Done 434 tasks      | elapsed:   27.9s\n",
      "[Parallel(n_jobs=-1)]: Done 465 tasks      | elapsed:   28.9s\n",
      "[Parallel(n_jobs=-1)]: Done 496 tasks      | elapsed:   29.9s\n",
      "[Parallel(n_jobs=-1)]: Done 529 tasks      | elapsed:   31.1s\n",
      "[Parallel(n_jobs=-1)]: Done 562 tasks      | elapsed:   32.1s\n",
      "[Parallel(n_jobs=-1)]: Done 597 tasks      | elapsed:   33.2s\n",
      "[Parallel(n_jobs=-1)]: Done 632 tasks      | elapsed:   34.4s\n",
      "[Parallel(n_jobs=-1)]: Done 669 tasks      | elapsed:   35.6s\n",
      "[Parallel(n_jobs=-1)]: Done 706 tasks      | elapsed:   36.8s\n",
      "[Parallel(n_jobs=-1)]: Done 745 tasks      | elapsed:   38.1s\n",
      "[Parallel(n_jobs=-1)]: Done 784 tasks      | elapsed:   39.4s\n",
      "[Parallel(n_jobs=-1)]: Done 825 tasks      | elapsed:   40.8s\n",
      "[Parallel(n_jobs=-1)]: Done 866 tasks      | elapsed:   42.2s\n",
      "[Parallel(n_jobs=-1)]: Done 909 tasks      | elapsed:   43.7s\n",
      "[Parallel(n_jobs=-1)]: Done 952 tasks      | elapsed:   45.1s\n",
      "[Parallel(n_jobs=-1)]: Done 997 tasks      | elapsed:   46.5s\n",
      "[Parallel(n_jobs=-1)]: Done 1042 tasks      | elapsed:   48.0s\n",
      "[Parallel(n_jobs=-1)]: Done 1089 tasks      | elapsed:   49.6s\n",
      "[Parallel(n_jobs=-1)]: Done 1136 tasks      | elapsed:   51.0s\n",
      "[Parallel(n_jobs=-1)]: Done 1185 tasks      | elapsed:   52.7s\n",
      "[Parallel(n_jobs=-1)]: Done 1234 tasks      | elapsed:   54.4s\n",
      "[Parallel(n_jobs=-1)]: Done 1285 tasks      | elapsed:   56.1s\n",
      "[Parallel(n_jobs=-1)]: Done 1336 tasks      | elapsed:   57.8s\n",
      "[Parallel(n_jobs=-1)]: Done 1389 tasks      | elapsed:   59.5s\n",
      "[Parallel(n_jobs=-1)]: Done 1442 tasks      | elapsed:  1.0min\n",
      "[Parallel(n_jobs=-1)]: Done 1497 tasks      | elapsed:  1.0min\n",
      "[Parallel(n_jobs=-1)]: Done 1552 tasks      | elapsed:  1.1min\n",
      "[Parallel(n_jobs=-1)]: Done 1609 tasks      | elapsed:  1.1min\n",
      "[Parallel(n_jobs=-1)]: Done 1666 tasks      | elapsed:  1.1min\n",
      "[Parallel(n_jobs=-1)]: Done 1725 tasks      | elapsed:  1.2min\n",
      "[Parallel(n_jobs=-1)]: Done 1784 tasks      | elapsed:  1.2min\n",
      "[Parallel(n_jobs=-1)]: Done 1845 tasks      | elapsed:  1.2min\n",
      "[Parallel(n_jobs=-1)]: Done 1906 tasks      | elapsed:  1.3min\n",
      "[Parallel(n_jobs=-1)]: Done 1969 tasks      | elapsed:  1.3min\n",
      "[Parallel(n_jobs=-1)]: Done 2032 tasks      | elapsed:  1.3min\n",
      "[Parallel(n_jobs=-1)]: Done 2097 tasks      | elapsed:  1.4min\n",
      "[Parallel(n_jobs=-1)]: Done 2162 tasks      | elapsed:  1.4min\n",
      "[Parallel(n_jobs=-1)]: Done 2229 tasks      | elapsed:  1.4min\n",
      "[Parallel(n_jobs=-1)]: Done 2296 tasks      | elapsed:  1.5min\n",
      "[Parallel(n_jobs=-1)]: Done 2365 tasks      | elapsed:  1.5min\n",
      "[Parallel(n_jobs=-1)]: Done 2434 tasks      | elapsed:  1.6min\n",
      "[Parallel(n_jobs=-1)]: Done 2505 tasks      | elapsed:  1.6min\n",
      "[Parallel(n_jobs=-1)]: Done 2576 tasks      | elapsed:  1.6min\n",
      "[Parallel(n_jobs=-1)]: Done 2649 tasks      | elapsed:  1.7min\n",
      "[Parallel(n_jobs=-1)]: Done 2722 tasks      | elapsed:  1.7min\n",
      "[Parallel(n_jobs=-1)]: Done 2797 tasks      | elapsed:  1.8min\n",
      "[Parallel(n_jobs=-1)]: Done 2872 tasks      | elapsed:  1.8min\n",
      "[Parallel(n_jobs=-1)]: Done 2949 tasks      | elapsed:  1.8min\n",
      "[Parallel(n_jobs=-1)]: Done 3026 tasks      | elapsed:  1.9min\n",
      "[Parallel(n_jobs=-1)]: Done 3105 tasks      | elapsed:  1.9min\n",
      "[Parallel(n_jobs=-1)]: Done 3184 tasks      | elapsed:  2.0min\n",
      "[Parallel(n_jobs=-1)]: Done 3265 tasks      | elapsed:  2.0min\n",
      "[Parallel(n_jobs=-1)]: Done 3346 tasks      | elapsed:  2.1min\n",
      "[Parallel(n_jobs=-1)]: Done 3429 tasks      | elapsed:  2.1min\n",
      "[Parallel(n_jobs=-1)]: Done 3512 tasks      | elapsed:  2.1min\n",
      "[Parallel(n_jobs=-1)]: Done 3597 tasks      | elapsed:  2.2min\n",
      "[Parallel(n_jobs=-1)]: Done 3682 tasks      | elapsed:  2.2min\n",
      "[Parallel(n_jobs=-1)]: Done 3769 tasks      | elapsed:  2.3min\n",
      "[Parallel(n_jobs=-1)]: Done 3856 tasks      | elapsed:  2.3min\n",
      "[Parallel(n_jobs=-1)]: Done 3945 tasks      | elapsed:  2.4min\n",
      "[Parallel(n_jobs=-1)]: Done 4034 tasks      | elapsed:  2.4min\n",
      "[Parallel(n_jobs=-1)]: Done 4125 tasks      | elapsed:  2.5min\n",
      "[Parallel(n_jobs=-1)]: Done 4216 tasks      | elapsed:  2.5min\n",
      "[Parallel(n_jobs=-1)]: Done 4309 tasks      | elapsed:  2.6min\n",
      "[Parallel(n_jobs=-1)]: Done 4402 tasks      | elapsed:  2.6min\n",
      "[Parallel(n_jobs=-1)]: Done 4497 tasks      | elapsed:  2.7min\n",
      "[Parallel(n_jobs=-1)]: Done 4592 tasks      | elapsed:  2.7min\n",
      "[Parallel(n_jobs=-1)]: Done 4689 tasks      | elapsed:  2.8min\n",
      "[Parallel(n_jobs=-1)]: Done 4786 tasks      | elapsed:  2.8min\n",
      "[Parallel(n_jobs=-1)]: Done 4885 tasks      | elapsed:  2.9min\n",
      "[Parallel(n_jobs=-1)]: Done 4984 tasks      | elapsed:  3.0min\n",
      "[Parallel(n_jobs=-1)]: Done 5085 tasks      | elapsed:  3.0min\n",
      "[Parallel(n_jobs=-1)]: Done 5186 tasks      | elapsed:  3.1min\n",
      "[Parallel(n_jobs=-1)]: Done 5289 tasks      | elapsed:  3.1min\n",
      "[Parallel(n_jobs=-1)]: Done 5392 tasks      | elapsed:  3.2min\n",
      "[Parallel(n_jobs=-1)]: Done 5497 tasks      | elapsed:  3.2min\n",
      "[Parallel(n_jobs=-1)]: Done 5602 tasks      | elapsed:  3.3min\n",
      "[Parallel(n_jobs=-1)]: Done 5709 tasks      | elapsed:  3.4min\n",
      "[Parallel(n_jobs=-1)]: Done 5816 tasks      | elapsed:  3.4min\n",
      "[Parallel(n_jobs=-1)]: Done 5925 tasks      | elapsed:  3.5min\n",
      "[Parallel(n_jobs=-1)]: Done 6034 tasks      | elapsed:  3.5min\n",
      "[Parallel(n_jobs=-1)]: Done 6145 tasks      | elapsed:  3.6min\n",
      "[Parallel(n_jobs=-1)]: Done 6256 tasks      | elapsed:  3.7min\n",
      "[Parallel(n_jobs=-1)]: Done 6369 tasks      | elapsed:  3.7min\n",
      "[Parallel(n_jobs=-1)]: Done 6482 tasks      | elapsed:  3.8min\n",
      "[Parallel(n_jobs=-1)]: Done 6597 tasks      | elapsed:  3.8min\n",
      "[Parallel(n_jobs=-1)]: Done 6712 tasks      | elapsed:  3.9min\n",
      "[Parallel(n_jobs=-1)]: Done 6829 tasks      | elapsed:  4.0min\n",
      "[Parallel(n_jobs=-1)]: Done 6946 tasks      | elapsed:  4.0min\n",
      "[Parallel(n_jobs=-1)]: Done 7065 tasks      | elapsed:  4.1min\n",
      "[Parallel(n_jobs=-1)]: Done 7184 tasks      | elapsed:  4.2min\n",
      "[Parallel(n_jobs=-1)]: Done 7305 tasks      | elapsed:  4.2min\n",
      "[Parallel(n_jobs=-1)]: Done 7426 tasks      | elapsed:  4.3min\n",
      "[Parallel(n_jobs=-1)]: Done 7549 tasks      | elapsed:  4.4min\n",
      "[Parallel(n_jobs=-1)]: Done 7672 tasks      | elapsed:  4.4min\n",
      "[Parallel(n_jobs=-1)]: Done 7797 tasks      | elapsed:  4.5min\n",
      "[Parallel(n_jobs=-1)]: Done 7922 tasks      | elapsed:  4.6min\n",
      "[Parallel(n_jobs=-1)]: Done 8049 tasks      | elapsed:  4.6min\n",
      "[Parallel(n_jobs=-1)]: Done 8176 tasks      | elapsed:  4.7min\n",
      "[Parallel(n_jobs=-1)]: Done 8305 tasks      | elapsed:  4.8min\n",
      "[Parallel(n_jobs=-1)]: Done 8434 tasks      | elapsed:  4.9min\n",
      "[Parallel(n_jobs=-1)]: Done 8565 tasks      | elapsed:  4.9min\n",
      "[Parallel(n_jobs=-1)]: Done 8696 tasks      | elapsed:  5.0min\n",
      "[Parallel(n_jobs=-1)]: Done 8829 tasks      | elapsed:  5.1min\n",
      "[Parallel(n_jobs=-1)]: Done 8962 tasks      | elapsed:  5.1min\n",
      "[Parallel(n_jobs=-1)]: Done 9097 tasks      | elapsed:  5.2min\n"
     ]
    },
    {
     "name": "stderr",
     "output_type": "stream",
     "text": [
      "[Parallel(n_jobs=-1)]: Done 9232 tasks      | elapsed:  5.3min\n",
      "[Parallel(n_jobs=-1)]: Done 9369 tasks      | elapsed:  5.4min\n",
      "[Parallel(n_jobs=-1)]: Done 9506 tasks      | elapsed:  5.4min\n",
      "[Parallel(n_jobs=-1)]: Done 9645 tasks      | elapsed:  5.5min\n",
      "[Parallel(n_jobs=-1)]: Done 9784 tasks      | elapsed:  5.6min\n",
      "[Parallel(n_jobs=-1)]: Done 9925 tasks      | elapsed:  5.7min\n",
      "[Parallel(n_jobs=-1)]: Done 10066 tasks      | elapsed:  5.8min\n",
      "[Parallel(n_jobs=-1)]: Done 10209 tasks      | elapsed:  5.8min\n",
      "[Parallel(n_jobs=-1)]: Done 10352 tasks      | elapsed:  5.9min\n",
      "[Parallel(n_jobs=-1)]: Done 10497 tasks      | elapsed:  6.0min\n",
      "[Parallel(n_jobs=-1)]: Done 10642 tasks      | elapsed:  6.1min\n",
      "[Parallel(n_jobs=-1)]: Done 10789 tasks      | elapsed:  6.1min\n",
      "[Parallel(n_jobs=-1)]: Done 10936 tasks      | elapsed:  6.2min\n",
      "[Parallel(n_jobs=-1)]: Done 11085 tasks      | elapsed:  6.3min\n",
      "[Parallel(n_jobs=-1)]: Done 11234 tasks      | elapsed:  6.4min\n",
      "[Parallel(n_jobs=-1)]: Done 11385 tasks      | elapsed:  6.5min\n",
      "[Parallel(n_jobs=-1)]: Done 11536 tasks      | elapsed:  6.6min\n",
      "[Parallel(n_jobs=-1)]: Done 11689 tasks      | elapsed:  6.6min\n",
      "[Parallel(n_jobs=-1)]: Done 11842 tasks      | elapsed:  6.7min\n",
      "[Parallel(n_jobs=-1)]: Done 11997 tasks      | elapsed:  6.8min\n",
      "[Parallel(n_jobs=-1)]: Done 12152 tasks      | elapsed:  6.9min\n",
      "[Parallel(n_jobs=-1)]: Done 12309 tasks      | elapsed:  7.0min\n",
      "[Parallel(n_jobs=-1)]: Done 12466 tasks      | elapsed:  7.1min\n",
      "[Parallel(n_jobs=-1)]: Done 12625 tasks      | elapsed:  7.2min\n",
      "[Parallel(n_jobs=-1)]: Done 12784 tasks      | elapsed:  7.3min\n",
      "[Parallel(n_jobs=-1)]: Done 12945 tasks      | elapsed:  7.3min\n",
      "[Parallel(n_jobs=-1)]: Done 13106 tasks      | elapsed:  7.4min\n",
      "[Parallel(n_jobs=-1)]: Done 13269 tasks      | elapsed:  7.5min\n",
      "[Parallel(n_jobs=-1)]: Done 13432 tasks      | elapsed:  7.6min\n",
      "[Parallel(n_jobs=-1)]: Done 13597 tasks      | elapsed:  7.7min\n",
      "[Parallel(n_jobs=-1)]: Done 13762 tasks      | elapsed:  7.8min\n",
      "[Parallel(n_jobs=-1)]: Done 13929 tasks      | elapsed:  7.9min\n",
      "[Parallel(n_jobs=-1)]: Done 14096 tasks      | elapsed:  8.0min\n",
      "[Parallel(n_jobs=-1)]: Done 14265 tasks      | elapsed:  8.1min\n",
      "[Parallel(n_jobs=-1)]: Done 14434 tasks      | elapsed:  8.2min\n",
      "[Parallel(n_jobs=-1)]: Done 14605 tasks      | elapsed:  8.3min\n",
      "[Parallel(n_jobs=-1)]: Done 14776 tasks      | elapsed:  8.4min\n",
      "[Parallel(n_jobs=-1)]: Done 14949 tasks      | elapsed:  8.5min\n",
      "[Parallel(n_jobs=-1)]: Done 15122 tasks      | elapsed:  8.6min\n",
      "[Parallel(n_jobs=-1)]: Done 15297 tasks      | elapsed:  8.7min\n",
      "[Parallel(n_jobs=-1)]: Done 15472 tasks      | elapsed:  8.8min\n",
      "[Parallel(n_jobs=-1)]: Done 15649 tasks      | elapsed:  8.9min\n",
      "[Parallel(n_jobs=-1)]: Done 15826 tasks      | elapsed:  9.0min\n",
      "[Parallel(n_jobs=-1)]: Done 16005 tasks      | elapsed:  9.1min\n",
      "[Parallel(n_jobs=-1)]: Done 16184 tasks      | elapsed:  9.2min\n",
      "[Parallel(n_jobs=-1)]: Done 16365 tasks      | elapsed:  9.3min\n",
      "[Parallel(n_jobs=-1)]: Done 16546 tasks      | elapsed:  9.4min\n",
      "[Parallel(n_jobs=-1)]: Done 16729 tasks      | elapsed:  9.5min\n",
      "[Parallel(n_jobs=-1)]: Done 16912 tasks      | elapsed:  9.6min\n",
      "[Parallel(n_jobs=-1)]: Done 17097 tasks      | elapsed:  9.7min\n",
      "[Parallel(n_jobs=-1)]: Done 17282 tasks      | elapsed:  9.8min\n",
      "[Parallel(n_jobs=-1)]: Done 17469 tasks      | elapsed:  9.9min\n",
      "[Parallel(n_jobs=-1)]: Done 17656 tasks      | elapsed: 10.0min\n",
      "[Parallel(n_jobs=-1)]: Done 17845 tasks      | elapsed: 10.1min\n",
      "[Parallel(n_jobs=-1)]: Done 18034 tasks      | elapsed: 10.2min\n",
      "[Parallel(n_jobs=-1)]: Done 18225 tasks      | elapsed: 10.3min\n",
      "[Parallel(n_jobs=-1)]: Done 18416 tasks      | elapsed: 10.4min\n",
      "[Parallel(n_jobs=-1)]: Done 18609 tasks      | elapsed: 10.5min\n",
      "[Parallel(n_jobs=-1)]: Done 18802 tasks      | elapsed: 10.7min\n",
      "[Parallel(n_jobs=-1)]: Done 18997 tasks      | elapsed: 10.8min\n",
      "[Parallel(n_jobs=-1)]: Done 19192 tasks      | elapsed: 10.9min\n",
      "[Parallel(n_jobs=-1)]: Done 19389 tasks      | elapsed: 11.0min\n",
      "[Parallel(n_jobs=-1)]: Done 19586 tasks      | elapsed: 11.1min\n",
      "[Parallel(n_jobs=-1)]: Done 19785 tasks      | elapsed: 11.2min\n",
      "[Parallel(n_jobs=-1)]: Done 19984 tasks      | elapsed: 11.3min\n",
      "[Parallel(n_jobs=-1)]: Done 20185 tasks      | elapsed: 11.4min\n",
      "[Parallel(n_jobs=-1)]: Done 20386 tasks      | elapsed: 11.5min\n",
      "[Parallel(n_jobs=-1)]: Done 20589 tasks      | elapsed: 11.6min\n",
      "[Parallel(n_jobs=-1)]: Done 20792 tasks      | elapsed: 11.7min\n",
      "[Parallel(n_jobs=-1)]: Done 20997 tasks      | elapsed: 11.9min\n",
      "[Parallel(n_jobs=-1)]: Done 21202 tasks      | elapsed: 12.0min\n",
      "[Parallel(n_jobs=-1)]: Done 21409 tasks      | elapsed: 12.1min\n",
      "[Parallel(n_jobs=-1)]: Done 21616 tasks      | elapsed: 12.2min\n",
      "[Parallel(n_jobs=-1)]: Done 21825 tasks      | elapsed: 12.3min\n",
      "[Parallel(n_jobs=-1)]: Done 22034 tasks      | elapsed: 12.4min\n",
      "[Parallel(n_jobs=-1)]: Done 22245 tasks      | elapsed: 12.6min\n",
      "[Parallel(n_jobs=-1)]: Done 22456 tasks      | elapsed: 12.7min\n",
      "[Parallel(n_jobs=-1)]: Done 22669 tasks      | elapsed: 12.8min\n",
      "[Parallel(n_jobs=-1)]: Done 22882 tasks      | elapsed: 12.9min\n",
      "[Parallel(n_jobs=-1)]: Done 23097 tasks      | elapsed: 13.0min\n",
      "[Parallel(n_jobs=-1)]: Done 23312 tasks      | elapsed: 13.2min\n",
      "[Parallel(n_jobs=-1)]: Done 23529 tasks      | elapsed: 13.3min\n",
      "[Parallel(n_jobs=-1)]: Done 23746 tasks      | elapsed: 13.4min\n",
      "[Parallel(n_jobs=-1)]: Done 23965 tasks      | elapsed: 13.5min\n",
      "[Parallel(n_jobs=-1)]: Done 24184 tasks      | elapsed: 13.6min\n",
      "[Parallel(n_jobs=-1)]: Done 24405 tasks      | elapsed: 13.8min\n",
      "[Parallel(n_jobs=-1)]: Done 24626 tasks      | elapsed: 13.9min\n",
      "[Parallel(n_jobs=-1)]: Done 24849 tasks      | elapsed: 14.0min\n",
      "[Parallel(n_jobs=-1)]: Done 25072 tasks      | elapsed: 14.1min\n",
      "[Parallel(n_jobs=-1)]: Done 25297 tasks      | elapsed: 14.3min\n",
      "[Parallel(n_jobs=-1)]: Done 25522 tasks      | elapsed: 14.4min\n",
      "[Parallel(n_jobs=-1)]: Done 25749 tasks      | elapsed: 14.5min\n",
      "[Parallel(n_jobs=-1)]: Done 25976 tasks      | elapsed: 14.6min\n",
      "[Parallel(n_jobs=-1)]: Done 26205 tasks      | elapsed: 14.8min\n",
      "[Parallel(n_jobs=-1)]: Done 26434 tasks      | elapsed: 14.9min\n",
      "[Parallel(n_jobs=-1)]: Done 26665 tasks      | elapsed: 15.0min\n",
      "[Parallel(n_jobs=-1)]: Done 26896 tasks      | elapsed: 15.2min\n",
      "[Parallel(n_jobs=-1)]: Done 27129 tasks      | elapsed: 15.3min\n",
      "[Parallel(n_jobs=-1)]: Done 27362 tasks      | elapsed: 15.4min\n",
      "[Parallel(n_jobs=-1)]: Done 27597 tasks      | elapsed: 15.5min\n",
      "[Parallel(n_jobs=-1)]: Done 27832 tasks      | elapsed: 15.7min\n",
      "[Parallel(n_jobs=-1)]: Done 28069 tasks      | elapsed: 15.8min\n",
      "[Parallel(n_jobs=-1)]: Done 28306 tasks      | elapsed: 15.9min\n",
      "[Parallel(n_jobs=-1)]: Done 28545 tasks      | elapsed: 16.1min\n",
      "[Parallel(n_jobs=-1)]: Done 28784 tasks      | elapsed: 16.2min\n",
      "[Parallel(n_jobs=-1)]: Done 29025 tasks      | elapsed: 16.3min\n",
      "[Parallel(n_jobs=-1)]: Done 29266 tasks      | elapsed: 16.5min\n",
      "[Parallel(n_jobs=-1)]: Done 29509 tasks      | elapsed: 16.6min\n",
      "[Parallel(n_jobs=-1)]: Done 29752 tasks      | elapsed: 16.7min\n",
      "[Parallel(n_jobs=-1)]: Done 29997 tasks      | elapsed: 16.9min\n",
      "[Parallel(n_jobs=-1)]: Done 30242 tasks      | elapsed: 17.0min\n",
      "[Parallel(n_jobs=-1)]: Done 30489 tasks      | elapsed: 17.2min\n",
      "[Parallel(n_jobs=-1)]: Done 30736 tasks      | elapsed: 17.3min\n",
      "[Parallel(n_jobs=-1)]: Done 30985 tasks      | elapsed: 17.4min\n",
      "[Parallel(n_jobs=-1)]: Done 31234 tasks      | elapsed: 17.6min\n",
      "[Parallel(n_jobs=-1)]: Done 31485 tasks      | elapsed: 17.7min\n",
      "[Parallel(n_jobs=-1)]: Done 31736 tasks      | elapsed: 17.8min\n",
      "[Parallel(n_jobs=-1)]: Done 31989 tasks      | elapsed: 18.0min\n",
      "[Parallel(n_jobs=-1)]: Done 32242 tasks      | elapsed: 18.1min\n",
      "[Parallel(n_jobs=-1)]: Done 32497 tasks      | elapsed: 18.3min\n",
      "[Parallel(n_jobs=-1)]: Done 32752 tasks      | elapsed: 18.4min\n",
      "[Parallel(n_jobs=-1)]: Done 33009 tasks      | elapsed: 18.6min\n",
      "[Parallel(n_jobs=-1)]: Done 33266 tasks      | elapsed: 18.7min\n",
      "[Parallel(n_jobs=-1)]: Done 33525 tasks      | elapsed: 18.8min\n",
      "[Parallel(n_jobs=-1)]: Done 33784 tasks      | elapsed: 19.0min\n",
      "[Parallel(n_jobs=-1)]: Done 34045 tasks      | elapsed: 19.1min\n",
      "[Parallel(n_jobs=-1)]: Done 34306 tasks      | elapsed: 19.3min\n",
      "[Parallel(n_jobs=-1)]: Done 34569 tasks      | elapsed: 19.4min\n",
      "[Parallel(n_jobs=-1)]: Done 34832 tasks      | elapsed: 19.6min\n"
     ]
    },
    {
     "name": "stderr",
     "output_type": "stream",
     "text": [
      "[Parallel(n_jobs=-1)]: Done 35097 tasks      | elapsed: 19.7min\n",
      "[Parallel(n_jobs=-1)]: Done 35362 tasks      | elapsed: 19.9min\n",
      "[Parallel(n_jobs=-1)]: Done 35629 tasks      | elapsed: 20.0min\n",
      "[Parallel(n_jobs=-1)]: Done 35896 tasks      | elapsed: 20.2min\n",
      "[Parallel(n_jobs=-1)]: Done 36165 tasks      | elapsed: 20.3min\n",
      "[Parallel(n_jobs=-1)]: Done 36434 tasks      | elapsed: 20.5min\n",
      "[Parallel(n_jobs=-1)]: Done 36705 tasks      | elapsed: 20.6min\n",
      "[Parallel(n_jobs=-1)]: Done 36976 tasks      | elapsed: 20.8min\n",
      "[Parallel(n_jobs=-1)]: Done 37249 tasks      | elapsed: 20.9min\n",
      "[Parallel(n_jobs=-1)]: Done 37522 tasks      | elapsed: 21.1min\n",
      "[Parallel(n_jobs=-1)]: Done 37797 tasks      | elapsed: 21.2min\n",
      "[Parallel(n_jobs=-1)]: Done 38072 tasks      | elapsed: 21.4min\n",
      "[Parallel(n_jobs=-1)]: Done 38349 tasks      | elapsed: 21.5min\n",
      "[Parallel(n_jobs=-1)]: Done 38626 tasks      | elapsed: 21.7min\n",
      "[Parallel(n_jobs=-1)]: Done 38905 tasks      | elapsed: 21.8min\n",
      "[Parallel(n_jobs=-1)]: Done 39184 tasks      | elapsed: 22.0min\n",
      "[Parallel(n_jobs=-1)]: Done 39465 tasks      | elapsed: 22.1min\n",
      "[Parallel(n_jobs=-1)]: Done 39746 tasks      | elapsed: 22.3min\n",
      "[Parallel(n_jobs=-1)]: Done 40029 tasks      | elapsed: 22.4min\n",
      "[Parallel(n_jobs=-1)]: Done 40312 tasks      | elapsed: 22.6min\n",
      "[Parallel(n_jobs=-1)]: Done 40597 tasks      | elapsed: 22.8min\n",
      "[Parallel(n_jobs=-1)]: Done 40882 tasks      | elapsed: 22.9min\n",
      "[Parallel(n_jobs=-1)]: Done 41169 tasks      | elapsed: 23.1min\n",
      "[Parallel(n_jobs=-1)]: Done 41456 tasks      | elapsed: 23.2min\n",
      "[Parallel(n_jobs=-1)]: Done 41745 tasks      | elapsed: 23.4min\n",
      "[Parallel(n_jobs=-1)]: Done 42034 tasks      | elapsed: 23.6min\n",
      "[Parallel(n_jobs=-1)]: Done 42325 tasks      | elapsed: 23.7min\n",
      "[Parallel(n_jobs=-1)]: Done 42616 tasks      | elapsed: 23.9min\n",
      "[Parallel(n_jobs=-1)]: Done 42909 tasks      | elapsed: 24.0min\n",
      "[Parallel(n_jobs=-1)]: Done 43202 tasks      | elapsed: 24.2min\n",
      "[Parallel(n_jobs=-1)]: Done 43497 tasks      | elapsed: 24.4min\n",
      "[Parallel(n_jobs=-1)]: Done 43792 tasks      | elapsed: 24.5min\n",
      "[Parallel(n_jobs=-1)]: Done 44089 tasks      | elapsed: 24.7min\n",
      "[Parallel(n_jobs=-1)]: Done 44386 tasks      | elapsed: 24.9min\n",
      "[Parallel(n_jobs=-1)]: Done 44685 tasks      | elapsed: 25.0min\n",
      "[Parallel(n_jobs=-1)]: Done 44984 tasks      | elapsed: 25.2min\n",
      "[Parallel(n_jobs=-1)]: Done 45285 tasks      | elapsed: 25.4min\n",
      "[Parallel(n_jobs=-1)]: Done 45586 tasks      | elapsed: 25.5min\n",
      "[Parallel(n_jobs=-1)]: Done 45889 tasks      | elapsed: 25.7min\n",
      "[Parallel(n_jobs=-1)]: Done 46192 tasks      | elapsed: 25.9min\n",
      "[Parallel(n_jobs=-1)]: Done 46497 tasks      | elapsed: 26.0min\n",
      "[Parallel(n_jobs=-1)]: Done 46802 tasks      | elapsed: 26.2min\n",
      "[Parallel(n_jobs=-1)]: Done 47109 tasks      | elapsed: 26.4min\n",
      "[Parallel(n_jobs=-1)]: Done 47416 tasks      | elapsed: 26.5min\n",
      "[Parallel(n_jobs=-1)]: Done 47725 tasks      | elapsed: 26.7min\n",
      "[Parallel(n_jobs=-1)]: Done 48034 tasks      | elapsed: 26.9min\n",
      "[Parallel(n_jobs=-1)]: Done 48345 tasks      | elapsed: 27.1min\n",
      "[Parallel(n_jobs=-1)]: Done 48656 tasks      | elapsed: 27.2min\n",
      "[Parallel(n_jobs=-1)]: Done 48969 tasks      | elapsed: 27.4min\n",
      "[Parallel(n_jobs=-1)]: Done 49282 tasks      | elapsed: 27.6min\n",
      "[Parallel(n_jobs=-1)]: Done 49597 tasks      | elapsed: 27.7min\n",
      "[Parallel(n_jobs=-1)]: Done 49912 tasks      | elapsed: 27.9min\n",
      "[Parallel(n_jobs=-1)]: Done 50229 tasks      | elapsed: 28.1min\n",
      "[Parallel(n_jobs=-1)]: Done 50546 tasks      | elapsed: 28.3min\n",
      "[Parallel(n_jobs=-1)]: Done 50865 tasks      | elapsed: 28.4min\n",
      "[Parallel(n_jobs=-1)]: Done 51184 tasks      | elapsed: 28.6min\n",
      "[Parallel(n_jobs=-1)]: Done 51505 tasks      | elapsed: 28.8min\n",
      "[Parallel(n_jobs=-1)]: Done 51826 tasks      | elapsed: 29.0min\n",
      "[Parallel(n_jobs=-1)]: Done 52149 tasks      | elapsed: 29.2min\n",
      "[Parallel(n_jobs=-1)]: Done 52472 tasks      | elapsed: 29.4min\n",
      "[Parallel(n_jobs=-1)]: Done 52797 tasks      | elapsed: 29.6min\n",
      "[Parallel(n_jobs=-1)]: Done 53122 tasks      | elapsed: 29.8min\n",
      "[Parallel(n_jobs=-1)]: Done 53449 tasks      | elapsed: 30.0min\n",
      "[Parallel(n_jobs=-1)]: Done 53776 tasks      | elapsed: 30.1min\n",
      "[Parallel(n_jobs=-1)]: Done 54105 tasks      | elapsed: 30.3min\n",
      "[Parallel(n_jobs=-1)]: Done 54434 tasks      | elapsed: 30.5min\n",
      "[Parallel(n_jobs=-1)]: Done 54765 tasks      | elapsed: 30.7min\n",
      "[Parallel(n_jobs=-1)]: Done 55096 tasks      | elapsed: 30.9min\n",
      "[Parallel(n_jobs=-1)]: Done 55429 tasks      | elapsed: 31.1min\n",
      "[Parallel(n_jobs=-1)]: Done 55762 tasks      | elapsed: 31.2min\n",
      "[Parallel(n_jobs=-1)]: Done 56097 tasks      | elapsed: 31.4min\n",
      "[Parallel(n_jobs=-1)]: Done 56432 tasks      | elapsed: 31.6min\n",
      "[Parallel(n_jobs=-1)]: Done 56769 tasks      | elapsed: 31.8min\n",
      "[Parallel(n_jobs=-1)]: Done 57106 tasks      | elapsed: 32.0min\n",
      "[Parallel(n_jobs=-1)]: Done 57445 tasks      | elapsed: 32.2min\n",
      "[Parallel(n_jobs=-1)]: Done 57784 tasks      | elapsed: 32.4min\n",
      "[Parallel(n_jobs=-1)]: Done 58125 tasks      | elapsed: 32.6min\n",
      "[Parallel(n_jobs=-1)]: Done 58466 tasks      | elapsed: 32.7min\n",
      "[Parallel(n_jobs=-1)]: Done 58809 tasks      | elapsed: 32.9min\n",
      "[Parallel(n_jobs=-1)]: Done 59152 tasks      | elapsed: 33.1min\n",
      "[Parallel(n_jobs=-1)]: Done 59497 tasks      | elapsed: 33.4min\n",
      "[Parallel(n_jobs=-1)]: Done 59842 tasks      | elapsed: 33.6min\n",
      "[Parallel(n_jobs=-1)]: Done 60189 tasks      | elapsed: 33.8min\n",
      "[Parallel(n_jobs=-1)]: Done 60536 tasks      | elapsed: 34.0min\n",
      "[Parallel(n_jobs=-1)]: Done 60885 tasks      | elapsed: 34.2min\n",
      "[Parallel(n_jobs=-1)]: Done 61234 tasks      | elapsed: 34.4min\n",
      "[Parallel(n_jobs=-1)]: Done 61585 tasks      | elapsed: 34.6min\n",
      "[Parallel(n_jobs=-1)]: Done 61936 tasks      | elapsed: 34.8min\n",
      "[Parallel(n_jobs=-1)]: Done 62289 tasks      | elapsed: 35.0min\n",
      "[Parallel(n_jobs=-1)]: Done 62642 tasks      | elapsed: 35.1min\n",
      "[Parallel(n_jobs=-1)]: Done 62997 tasks      | elapsed: 35.3min\n",
      "[Parallel(n_jobs=-1)]: Done 63352 tasks      | elapsed: 35.5min\n",
      "[Parallel(n_jobs=-1)]: Done 63709 tasks      | elapsed: 35.8min\n",
      "[Parallel(n_jobs=-1)]: Done 64066 tasks      | elapsed: 36.0min\n",
      "[Parallel(n_jobs=-1)]: Done 64425 tasks      | elapsed: 36.2min\n",
      "[Parallel(n_jobs=-1)]: Done 64784 tasks      | elapsed: 36.4min\n",
      "[Parallel(n_jobs=-1)]: Done 65145 tasks      | elapsed: 36.6min\n",
      "[Parallel(n_jobs=-1)]: Done 65506 tasks      | elapsed: 36.8min\n",
      "[Parallel(n_jobs=-1)]: Done 65869 tasks      | elapsed: 36.9min\n",
      "[Parallel(n_jobs=-1)]: Done 66232 tasks      | elapsed: 37.2min\n",
      "[Parallel(n_jobs=-1)]: Done 66597 tasks      | elapsed: 37.4min\n",
      "[Parallel(n_jobs=-1)]: Done 66962 tasks      | elapsed: 37.6min\n",
      "[Parallel(n_jobs=-1)]: Done 67329 tasks      | elapsed: 37.8min\n",
      "[Parallel(n_jobs=-1)]: Done 67696 tasks      | elapsed: 38.0min\n",
      "[Parallel(n_jobs=-1)]: Done 68065 tasks      | elapsed: 38.2min\n",
      "[Parallel(n_jobs=-1)]: Done 68434 tasks      | elapsed: 38.4min\n",
      "[Parallel(n_jobs=-1)]: Done 68805 tasks      | elapsed: 38.6min\n",
      "[Parallel(n_jobs=-1)]: Done 69176 tasks      | elapsed: 38.8min\n",
      "[Parallel(n_jobs=-1)]: Done 69549 tasks      | elapsed: 39.0min\n",
      "[Parallel(n_jobs=-1)]: Done 69922 tasks      | elapsed: 39.2min\n",
      "[Parallel(n_jobs=-1)]: Done 70000 out of 70000 | elapsed: 39.2min finished\n"
     ]
    },
    {
     "name": "stdout",
     "output_type": "stream",
     "text": [
      "shape deflection:  (70000, 103)  should be [N,10X] something\n",
      "deflection std deviation  nan\n",
      "timed  2398.258866072  s for function \" randomBeamFunctionSample \"\n",
      "Converting list of outputs into matrix: \n",
      "Element  1  has shape  (70000, 102)\n",
      "Element  2  has shape  (70000,)\n",
      "Final shape matrix:  (70000, 103)\n",
      "Columns where nan :  [ 7318  8310  9819 10799 13453 13753 15678 16499 17417 20920 27318 29580\n",
      " 29985 30920 37318 39580 39819 47318 48310 49819 50113 50156 50787 51344\n",
      " 53169 53453 53753 56499 56517 57417 58531 67318 68310 69819] \n",
      "\n",
      "There were  34  errors (numpy.nan) while processing, trying to regenerate missing outputs \n",
      "\n",
      "index to change:  [ 7318 17318 27318 37318 47318 57318 67318]\n",
      "Generation types:\n",
      "1 : Random (default)\n",
      "2 : LHS\n",
      "3 : LowDiscrepancySequence\n",
      "4 : SimulatedAnnealingLHS\n",
      "Choosen generation method is Random (default)\n"
     ]
    },
    {
     "name": "stderr",
     "output_type": "stream",
     "text": [
      "[Parallel(n_jobs=-1)]: Using backend LokyBackend with 8 concurrent workers.\n",
      "[Parallel(n_jobs=-1)]: Done   1 tasks      | elapsed:    0.2s\n",
      "[Parallel(n_jobs=-1)]: Done   2 out of   7 | elapsed:    0.2s remaining:    0.6s\n",
      "[Parallel(n_jobs=-1)]: Done   3 out of   7 | elapsed:    0.3s remaining:    0.4s\n",
      "[Parallel(n_jobs=-1)]: Done   4 out of   7 | elapsed:    0.3s remaining:    0.2s\n",
      "[Parallel(n_jobs=-1)]: Done   5 out of   7 | elapsed:    0.3s remaining:    0.1s\n",
      "[Parallel(n_jobs=-1)]: Done   7 out of   7 | elapsed:    0.3s remaining:    0.0s\n",
      "[Parallel(n_jobs=-1)]: Done   7 out of   7 | elapsed:    0.3s finished\n",
      "[Parallel(n_jobs=-1)]: Using backend LokyBackend with 8 concurrent workers.\n"
     ]
    },
    {
     "name": "stdout",
     "output_type": "stream",
     "text": [
      "shape deflection:  (7, 103)  should be [N,10X] something\n",
      "deflection std deviation  0.24190494370212748\n",
      "timed  0.308596134  s for function \" randomBeamFunctionSample \"\n",
      "Converting list of outputs into matrix: \n",
      "Element  1  has shape  (7, 102)\n",
      "Element  2  has shape  (7,)\n",
      "Final shape matrix:  (7, 103)\n",
      "index to change:  [ 8310 18310 28310 38310 48310 58310 68310]\n",
      "Generation types:\n",
      "1 : Random (default)\n",
      "2 : LHS\n",
      "3 : LowDiscrepancySequence\n",
      "4 : SimulatedAnnealingLHS\n",
      "Choosen generation method is Random (default)\n"
     ]
    },
    {
     "name": "stderr",
     "output_type": "stream",
     "text": [
      "[Parallel(n_jobs=-1)]: Done   1 tasks      | elapsed:    0.2s\n",
      "[Parallel(n_jobs=-1)]: Batch computation too fast (0.1914s.) Setting batch_size=2.\n",
      "[Parallel(n_jobs=-1)]: Done   2 out of   7 | elapsed:    0.2s remaining:    0.5s\n",
      "[Parallel(n_jobs=-1)]: Done   3 out of   7 | elapsed:    0.2s remaining:    0.3s\n",
      "[Parallel(n_jobs=-1)]: Done   4 out of   7 | elapsed:    0.2s remaining:    0.2s\n",
      "[Parallel(n_jobs=-1)]: Done   5 out of   7 | elapsed:    0.3s remaining:    0.1s\n",
      "[Parallel(n_jobs=-1)]: Done   7 out of   7 | elapsed:    0.3s remaining:    0.0s\n",
      "[Parallel(n_jobs=-1)]: Done   7 out of   7 | elapsed:    0.3s finished\n",
      "[Parallel(n_jobs=-1)]: Using backend LokyBackend with 8 concurrent workers.\n"
     ]
    },
    {
     "name": "stdout",
     "output_type": "stream",
     "text": [
      "shape deflection:  (7, 103)  should be [N,10X] something\n",
      "deflection std deviation  1.6046311547080163\n",
      "timed  0.296101332  s for function \" randomBeamFunctionSample \"\n",
      "Converting list of outputs into matrix: \n",
      "Element  1  has shape  (7, 102)\n",
      "Element  2  has shape  (7,)\n",
      "Final shape matrix:  (7, 103)\n",
      "index to change:  [ 9819 19819 29819 39819 49819 59819 69819]\n",
      "Generation types:\n",
      "1 : Random (default)\n",
      "2 : LHS\n",
      "3 : LowDiscrepancySequence\n",
      "4 : SimulatedAnnealingLHS\n",
      "Choosen generation method is Random (default)\n"
     ]
    },
    {
     "name": "stderr",
     "output_type": "stream",
     "text": [
      "[Parallel(n_jobs=-1)]: Done   1 tasks      | elapsed:    0.2s\n",
      "[Parallel(n_jobs=-1)]: Batch computation too fast (0.1911s.) Setting batch_size=2.\n",
      "[Parallel(n_jobs=-1)]: Done   2 out of   7 | elapsed:    0.2s remaining:    0.5s\n",
      "[Parallel(n_jobs=-1)]: Done   3 out of   7 | elapsed:    0.2s remaining:    0.3s\n",
      "[Parallel(n_jobs=-1)]: Done   4 out of   7 | elapsed:    0.2s remaining:    0.2s\n",
      "[Parallel(n_jobs=-1)]: Done   5 out of   7 | elapsed:    0.3s remaining:    0.1s\n",
      "[Parallel(n_jobs=-1)]: Done   7 out of   7 | elapsed:    0.3s remaining:    0.0s\n",
      "[Parallel(n_jobs=-1)]: Done   7 out of   7 | elapsed:    0.3s finished\n",
      "[Parallel(n_jobs=-1)]: Using backend LokyBackend with 8 concurrent workers.\n"
     ]
    },
    {
     "name": "stdout",
     "output_type": "stream",
     "text": [
      "shape deflection:  (7, 103)  should be [N,10X] something\n",
      "deflection std deviation  0.6191353879540673\n",
      "timed  0.279639959  s for function \" randomBeamFunctionSample \"\n",
      "Converting list of outputs into matrix: \n",
      "Element  1  has shape  (7, 102)\n",
      "Element  2  has shape  (7,)\n",
      "Final shape matrix:  (7, 103)\n",
      "index to change:  [  799 10799 20799 30799 40799 50799 60799]\n",
      "Generation types:\n",
      "1 : Random (default)\n",
      "2 : LHS\n",
      "3 : LowDiscrepancySequence\n",
      "4 : SimulatedAnnealingLHS\n",
      "Choosen generation method is Random (default)\n"
     ]
    },
    {
     "name": "stderr",
     "output_type": "stream",
     "text": [
      "[Parallel(n_jobs=-1)]: Done   1 tasks      | elapsed:    0.2s\n",
      "[Parallel(n_jobs=-1)]: Batch computation too fast (0.1965s.) Setting batch_size=2.\n",
      "[Parallel(n_jobs=-1)]: Done   2 out of   7 | elapsed:    0.2s remaining:    0.6s\n",
      "[Parallel(n_jobs=-1)]: Done   3 out of   7 | elapsed:    0.2s remaining:    0.3s\n",
      "[Parallel(n_jobs=-1)]: Done   4 out of   7 | elapsed:    0.2s remaining:    0.2s\n",
      "[Parallel(n_jobs=-1)]: Done   5 out of   7 | elapsed:    0.3s remaining:    0.1s\n",
      "[Parallel(n_jobs=-1)]: Done   7 out of   7 | elapsed:    0.3s remaining:    0.0s\n",
      "[Parallel(n_jobs=-1)]: Done   7 out of   7 | elapsed:    0.3s finished\n",
      "[Parallel(n_jobs=-1)]: Using backend LokyBackend with 8 concurrent workers.\n"
     ]
    },
    {
     "name": "stdout",
     "output_type": "stream",
     "text": [
      "shape deflection:  (7, 103)  should be [N,10X] something\n",
      "deflection std deviation  2.1965020068867305\n",
      "timed  0.286851883  s for function \" randomBeamFunctionSample \"\n",
      "Converting list of outputs into matrix: \n",
      "Element  1  has shape  (7, 102)\n",
      "Element  2  has shape  (7,)\n",
      "Final shape matrix:  (7, 103)\n",
      "index to change:  [ 3453 13453 23453 33453 43453 53453 63453]\n",
      "Generation types:\n",
      "1 : Random (default)\n",
      "2 : LHS\n",
      "3 : LowDiscrepancySequence\n",
      "4 : SimulatedAnnealingLHS\n",
      "Choosen generation method is Random (default)\n"
     ]
    },
    {
     "name": "stderr",
     "output_type": "stream",
     "text": [
      "[Parallel(n_jobs=-1)]: Done   1 tasks      | elapsed:    0.2s\n",
      "[Parallel(n_jobs=-1)]: Done   2 out of   7 | elapsed:    0.2s remaining:    0.5s\n",
      "[Parallel(n_jobs=-1)]: Done   3 out of   7 | elapsed:    0.2s remaining:    0.3s\n",
      "[Parallel(n_jobs=-1)]: Done   4 out of   7 | elapsed:    0.2s remaining:    0.2s\n",
      "[Parallel(n_jobs=-1)]: Done   5 out of   7 | elapsed:    0.3s remaining:    0.1s\n",
      "[Parallel(n_jobs=-1)]: Done   7 out of   7 | elapsed:    0.3s remaining:    0.0s\n",
      "[Parallel(n_jobs=-1)]: Done   7 out of   7 | elapsed:    0.3s finished\n",
      "[Parallel(n_jobs=-1)]: Using backend LokyBackend with 8 concurrent workers.\n"
     ]
    },
    {
     "name": "stdout",
     "output_type": "stream",
     "text": [
      "shape deflection:  (7, 103)  should be [N,10X] something\n",
      "deflection std deviation  2.2485307107027133\n",
      "timed  0.304225922  s for function \" randomBeamFunctionSample \"\n",
      "Converting list of outputs into matrix: \n",
      "Element  1  has shape  (7, 102)\n",
      "Element  2  has shape  (7,)\n",
      "Final shape matrix:  (7, 103)\n",
      "index to change:  [ 3753 13753 23753 33753 43753 53753 63753]\n",
      "Generation types:\n",
      "1 : Random (default)\n",
      "2 : LHS\n",
      "3 : LowDiscrepancySequence\n",
      "4 : SimulatedAnnealingLHS\n",
      "Choosen generation method is Random (default)\n"
     ]
    },
    {
     "name": "stderr",
     "output_type": "stream",
     "text": [
      "[Parallel(n_jobs=-1)]: Done   1 tasks      | elapsed:    0.2s\n",
      "[Parallel(n_jobs=-1)]: Batch computation too fast (0.1915s.) Setting batch_size=2.\n",
      "[Parallel(n_jobs=-1)]: Done   2 out of   7 | elapsed:    0.2s remaining:    0.5s\n",
      "[Parallel(n_jobs=-1)]: Done   3 out of   7 | elapsed:    0.2s remaining:    0.3s\n",
      "[Parallel(n_jobs=-1)]: Done   4 out of   7 | elapsed:    0.2s remaining:    0.2s\n",
      "[Parallel(n_jobs=-1)]: Done   5 out of   7 | elapsed:    0.2s remaining:    0.1s\n",
      "[Parallel(n_jobs=-1)]: Done   7 out of   7 | elapsed:    0.3s remaining:    0.0s\n",
      "[Parallel(n_jobs=-1)]: Done   7 out of   7 | elapsed:    0.3s finished\n",
      "[Parallel(n_jobs=-1)]: Using backend LokyBackend with 8 concurrent workers.\n"
     ]
    },
    {
     "name": "stdout",
     "output_type": "stream",
     "text": [
      "shape deflection:  (7, 103)  should be [N,10X] something\n",
      "deflection std deviation  0.3891784868938455\n",
      "timed  0.276418686  s for function \" randomBeamFunctionSample \"\n",
      "Converting list of outputs into matrix: \n",
      "Element  1  has shape  (7, 102)\n",
      "Element  2  has shape  (7,)\n",
      "Final shape matrix:  (7, 103)\n",
      "index to change:  [ 5678 15678 25678 35678 45678 55678 65678]\n",
      "Generation types:\n",
      "1 : Random (default)\n",
      "2 : LHS\n",
      "3 : LowDiscrepancySequence\n",
      "4 : SimulatedAnnealingLHS\n",
      "Choosen generation method is Random (default)\n"
     ]
    },
    {
     "name": "stderr",
     "output_type": "stream",
     "text": [
      "[Parallel(n_jobs=-1)]: Done   1 tasks      | elapsed:    0.2s\n",
      "[Parallel(n_jobs=-1)]: Done   2 out of   7 | elapsed:    0.2s remaining:    0.5s\n",
      "[Parallel(n_jobs=-1)]: Done   3 out of   7 | elapsed:    0.2s remaining:    0.3s\n",
      "[Parallel(n_jobs=-1)]: Done   4 out of   7 | elapsed:    0.2s remaining:    0.2s\n",
      "[Parallel(n_jobs=-1)]: Done   5 out of   7 | elapsed:    0.3s remaining:    0.1s\n",
      "[Parallel(n_jobs=-1)]: Done   7 out of   7 | elapsed:    0.3s remaining:    0.0s\n",
      "[Parallel(n_jobs=-1)]: Done   7 out of   7 | elapsed:    0.3s finished\n",
      "[Parallel(n_jobs=-1)]: Using backend LokyBackend with 8 concurrent workers.\n"
     ]
    },
    {
     "name": "stdout",
     "output_type": "stream",
     "text": [
      "shape deflection:  (7, 103)  should be [N,10X] something\n",
      "deflection std deviation  0.4149362533063084\n",
      "timed  0.304359198  s for function \" randomBeamFunctionSample \"\n",
      "Converting list of outputs into matrix: \n",
      "Element  1  has shape  (7, 102)\n",
      "Element  2  has shape  (7,)\n",
      "Final shape matrix:  (7, 103)\n",
      "index to change:  [ 6499 16499 26499 36499 46499 56499 66499]\n",
      "Generation types:\n",
      "1 : Random (default)\n",
      "2 : LHS\n",
      "3 : LowDiscrepancySequence\n",
      "4 : SimulatedAnnealingLHS\n",
      "Choosen generation method is Random (default)\n"
     ]
    },
    {
     "name": "stderr",
     "output_type": "stream",
     "text": [
      "[Parallel(n_jobs=-1)]: Done   1 tasks      | elapsed:    0.2s\n",
      "[Parallel(n_jobs=-1)]: Done   2 out of   7 | elapsed:    0.2s remaining:    0.5s\n",
      "[Parallel(n_jobs=-1)]: Done   3 out of   7 | elapsed:    0.2s remaining:    0.3s\n",
      "[Parallel(n_jobs=-1)]: Done   4 out of   7 | elapsed:    0.3s remaining:    0.2s\n",
      "[Parallel(n_jobs=-1)]: Done   5 out of   7 | elapsed:    0.3s remaining:    0.1s\n",
      "[Parallel(n_jobs=-1)]: Done   7 out of   7 | elapsed:    0.3s remaining:    0.0s\n",
      "[Parallel(n_jobs=-1)]: Done   7 out of   7 | elapsed:    0.3s finished\n",
      "[Parallel(n_jobs=-1)]: Using backend LokyBackend with 8 concurrent workers.\n"
     ]
    },
    {
     "name": "stdout",
     "output_type": "stream",
     "text": [
      "shape deflection:  (7, 103)  should be [N,10X] something\n",
      "deflection std deviation  0.8128189276497192\n",
      "timed  0.342855215  s for function \" randomBeamFunctionSample \"\n",
      "Converting list of outputs into matrix: \n",
      "Element  1  has shape  (7, 102)\n",
      "Element  2  has shape  (7,)\n",
      "Final shape matrix:  (7, 103)\n",
      "index to change:  [ 7417 17417 27417 37417 47417 57417 67417]\n",
      "Generation types:\n",
      "1 : Random (default)\n",
      "2 : LHS\n",
      "3 : LowDiscrepancySequence\n",
      "4 : SimulatedAnnealingLHS\n",
      "Choosen generation method is Random (default)\n"
     ]
    },
    {
     "name": "stderr",
     "output_type": "stream",
     "text": [
      "[Parallel(n_jobs=-1)]: Done   1 tasks      | elapsed:    0.2s\n",
      "[Parallel(n_jobs=-1)]: Done   2 out of   7 | elapsed:    0.2s remaining:    0.5s\n",
      "[Parallel(n_jobs=-1)]: Done   3 out of   7 | elapsed:    0.2s remaining:    0.3s\n",
      "[Parallel(n_jobs=-1)]: Done   4 out of   7 | elapsed:    0.2s remaining:    0.2s\n",
      "[Parallel(n_jobs=-1)]: Done   5 out of   7 | elapsed:    0.3s remaining:    0.1s\n",
      "[Parallel(n_jobs=-1)]: Done   7 out of   7 | elapsed:    0.3s remaining:    0.0s\n",
      "[Parallel(n_jobs=-1)]: Done   7 out of   7 | elapsed:    0.3s finished\n",
      "[Parallel(n_jobs=-1)]: Using backend LokyBackend with 8 concurrent workers.\n"
     ]
    },
    {
     "name": "stdout",
     "output_type": "stream",
     "text": [
      "shape deflection:  (7, 103)  should be [N,10X] something\n",
      "deflection std deviation  0.6695856642779956\n",
      "timed  0.311692238  s for function \" randomBeamFunctionSample \"\n",
      "Converting list of outputs into matrix: \n",
      "Element  1  has shape  (7, 102)\n",
      "Element  2  has shape  (7,)\n",
      "Final shape matrix:  (7, 103)\n",
      "index to change:  [  920 10920 20920 30920 40920 50920 60920]\n",
      "Generation types:\n",
      "1 : Random (default)\n",
      "2 : LHS\n",
      "3 : LowDiscrepancySequence\n",
      "4 : SimulatedAnnealingLHS\n",
      "Choosen generation method is Random (default)\n"
     ]
    },
    {
     "name": "stderr",
     "output_type": "stream",
     "text": [
      "[Parallel(n_jobs=-1)]: Done   1 tasks      | elapsed:    0.2s\n",
      "[Parallel(n_jobs=-1)]: Batch computation too fast (0.1825s.) Setting batch_size=2.\n",
      "[Parallel(n_jobs=-1)]: Done   2 out of   7 | elapsed:    0.2s remaining:    0.5s\n",
      "[Parallel(n_jobs=-1)]: Done   3 out of   7 | elapsed:    0.2s remaining:    0.3s\n",
      "[Parallel(n_jobs=-1)]: Done   4 out of   7 | elapsed:    0.2s remaining:    0.2s\n",
      "[Parallel(n_jobs=-1)]: Done   5 out of   7 | elapsed:    0.3s remaining:    0.1s\n",
      "[Parallel(n_jobs=-1)]: Done   7 out of   7 | elapsed:    0.3s remaining:    0.0s\n",
      "[Parallel(n_jobs=-1)]: Done   7 out of   7 | elapsed:    0.3s finished\n",
      "[Parallel(n_jobs=-1)]: Using backend LokyBackend with 8 concurrent workers.\n"
     ]
    },
    {
     "name": "stdout",
     "output_type": "stream",
     "text": [
      "shape deflection:  (7, 103)  should be [N,10X] something\n",
      "deflection std deviation  0.7181259295403732\n",
      "timed  0.30142045  s for function \" randomBeamFunctionSample \"\n",
      "Converting list of outputs into matrix: \n",
      "Element  1  has shape  (7, 102)\n",
      "Element  2  has shape  (7,)\n",
      "Final shape matrix:  (7, 103)\n",
      "index to change:  [ 7318 17318 27318 37318 47318 57318 67318]\n",
      "Generation types:\n",
      "1 : Random (default)\n",
      "2 : LHS\n",
      "3 : LowDiscrepancySequence\n",
      "4 : SimulatedAnnealingLHS\n",
      "Choosen generation method is Random (default)\n"
     ]
    },
    {
     "name": "stderr",
     "output_type": "stream",
     "text": [
      "[Parallel(n_jobs=-1)]: Done   1 tasks      | elapsed:    0.2s\n",
      "[Parallel(n_jobs=-1)]: Batch computation too fast (0.1989s.) Setting batch_size=2.\n",
      "[Parallel(n_jobs=-1)]: Done   2 out of   7 | elapsed:    0.2s remaining:    0.5s\n",
      "[Parallel(n_jobs=-1)]: Done   3 out of   7 | elapsed:    0.3s remaining:    0.3s\n",
      "[Parallel(n_jobs=-1)]: Done   4 out of   7 | elapsed:    0.3s remaining:    0.2s\n",
      "[Parallel(n_jobs=-1)]: Done   5 out of   7 | elapsed:    0.3s remaining:    0.1s\n",
      "[Parallel(n_jobs=-1)]: Done   7 out of   7 | elapsed:    0.3s remaining:    0.0s\n",
      "[Parallel(n_jobs=-1)]: Done   7 out of   7 | elapsed:    0.3s finished\n",
      "[Parallel(n_jobs=-1)]: Using backend LokyBackend with 8 concurrent workers.\n"
     ]
    },
    {
     "name": "stdout",
     "output_type": "stream",
     "text": [
      "shape deflection:  (7, 103)  should be [N,10X] something\n",
      "deflection std deviation  2.0336228677935\n",
      "timed  0.333547115  s for function \" randomBeamFunctionSample \"\n",
      "Converting list of outputs into matrix: \n",
      "Element  1  has shape  (7, 102)\n",
      "Element  2  has shape  (7,)\n",
      "Final shape matrix:  (7, 103)\n",
      "index to change:  [ 9580 19580 29580 39580 49580 59580 69580]\n",
      "Generation types:\n",
      "1 : Random (default)\n",
      "2 : LHS\n",
      "3 : LowDiscrepancySequence\n",
      "4 : SimulatedAnnealingLHS\n",
      "Choosen generation method is Random (default)\n"
     ]
    },
    {
     "name": "stderr",
     "output_type": "stream",
     "text": [
      "[Parallel(n_jobs=-1)]: Done   1 tasks      | elapsed:    0.2s\n",
      "[Parallel(n_jobs=-1)]: Done   2 out of   7 | elapsed:    0.2s remaining:    0.6s\n",
      "[Parallel(n_jobs=-1)]: Done   3 out of   7 | elapsed:    0.2s remaining:    0.3s\n",
      "[Parallel(n_jobs=-1)]: Done   4 out of   7 | elapsed:    0.2s remaining:    0.2s\n",
      "[Parallel(n_jobs=-1)]: Done   5 out of   7 | elapsed:    0.3s remaining:    0.1s\n",
      "[Parallel(n_jobs=-1)]: Done   7 out of   7 | elapsed:    0.3s remaining:    0.0s\n",
      "[Parallel(n_jobs=-1)]: Done   7 out of   7 | elapsed:    0.3s finished\n",
      "[Parallel(n_jobs=-1)]: Using backend LokyBackend with 8 concurrent workers.\n"
     ]
    },
    {
     "name": "stdout",
     "output_type": "stream",
     "text": [
      "shape deflection:  (7, 103)  should be [N,10X] something\n",
      "deflection std deviation  0.8760808446933689\n",
      "timed  0.286774397  s for function \" randomBeamFunctionSample \"\n",
      "Converting list of outputs into matrix: \n",
      "Element  1  has shape  (7, 102)\n",
      "Element  2  has shape  (7,)\n",
      "Final shape matrix:  (7, 103)\n",
      "index to change:  [ 9985 19985 29985 39985 49985 59985 69985]\n",
      "Generation types:\n",
      "1 : Random (default)\n",
      "2 : LHS\n",
      "3 : LowDiscrepancySequence\n",
      "4 : SimulatedAnnealingLHS\n",
      "Choosen generation method is Random (default)\n"
     ]
    },
    {
     "name": "stderr",
     "output_type": "stream",
     "text": [
      "[Parallel(n_jobs=-1)]: Done   1 tasks      | elapsed:    0.2s\n",
      "[Parallel(n_jobs=-1)]: Batch computation too fast (0.1883s.) Setting batch_size=2.\n",
      "[Parallel(n_jobs=-1)]: Done   2 out of   7 | elapsed:    0.2s remaining:    0.6s\n",
      "[Parallel(n_jobs=-1)]: Done   3 out of   7 | elapsed:    0.2s remaining:    0.3s\n",
      "[Parallel(n_jobs=-1)]: Done   4 out of   7 | elapsed:    0.2s remaining:    0.2s\n",
      "[Parallel(n_jobs=-1)]: Done   5 out of   7 | elapsed:    0.3s remaining:    0.1s\n",
      "[Parallel(n_jobs=-1)]: Done   7 out of   7 | elapsed:    0.3s remaining:    0.0s\n",
      "[Parallel(n_jobs=-1)]: Done   7 out of   7 | elapsed:    0.3s finished\n",
      "[Parallel(n_jobs=-1)]: Using backend LokyBackend with 8 concurrent workers.\n"
     ]
    },
    {
     "name": "stdout",
     "output_type": "stream",
     "text": [
      "shape deflection:  (7, 103)  should be [N,10X] something\n",
      "deflection std deviation  1.056975718462188\n",
      "timed  0.28699708  s for function \" randomBeamFunctionSample \"\n",
      "Converting list of outputs into matrix: \n",
      "Element  1  has shape  (7, 102)\n",
      "Element  2  has shape  (7,)\n",
      "Final shape matrix:  (7, 103)\n",
      "index to change:  [  920 10920 20920 30920 40920 50920 60920]\n",
      "Generation types:\n",
      "1 : Random (default)\n",
      "2 : LHS\n",
      "3 : LowDiscrepancySequence\n",
      "4 : SimulatedAnnealingLHS\n",
      "Choosen generation method is Random (default)\n"
     ]
    },
    {
     "name": "stderr",
     "output_type": "stream",
     "text": [
      "[Parallel(n_jobs=-1)]: Done   1 tasks      | elapsed:    0.2s\n",
      "[Parallel(n_jobs=-1)]: Done   2 out of   7 | elapsed:    0.2s remaining:    0.6s\n",
      "[Parallel(n_jobs=-1)]: Done   3 out of   7 | elapsed:    0.2s remaining:    0.3s\n",
      "[Parallel(n_jobs=-1)]: Done   4 out of   7 | elapsed:    0.3s remaining:    0.2s\n",
      "[Parallel(n_jobs=-1)]: Done   5 out of   7 | elapsed:    0.3s remaining:    0.1s\n",
      "[Parallel(n_jobs=-1)]: Done   7 out of   7 | elapsed:    0.3s remaining:    0.0s\n",
      "[Parallel(n_jobs=-1)]: Done   7 out of   7 | elapsed:    0.3s finished\n",
      "[Parallel(n_jobs=-1)]: Using backend LokyBackend with 8 concurrent workers.\n"
     ]
    },
    {
     "name": "stdout",
     "output_type": "stream",
     "text": [
      "shape deflection:  (7, 103)  should be [N,10X] something\n",
      "deflection std deviation  1.2694131370192352\n",
      "timed  0.28729701  s for function \" randomBeamFunctionSample \"\n",
      "Converting list of outputs into matrix: \n",
      "Element  1  has shape  (7, 102)\n",
      "Element  2  has shape  (7,)\n",
      "Final shape matrix:  (7, 103)\n",
      "index to change:  [ 7318 17318 27318 37318 47318 57318 67318]\n",
      "Generation types:\n",
      "1 : Random (default)\n",
      "2 : LHS\n",
      "3 : LowDiscrepancySequence\n",
      "4 : SimulatedAnnealingLHS\n",
      "Choosen generation method is Random (default)\n"
     ]
    },
    {
     "name": "stderr",
     "output_type": "stream",
     "text": [
      "[Parallel(n_jobs=-1)]: Done   1 tasks      | elapsed:    0.2s\n",
      "[Parallel(n_jobs=-1)]: Done   2 out of   7 | elapsed:    0.2s remaining:    0.6s\n",
      "[Parallel(n_jobs=-1)]: Done   3 out of   7 | elapsed:    0.3s remaining:    0.4s\n",
      "[Parallel(n_jobs=-1)]: Done   4 out of   7 | elapsed:    0.3s remaining:    0.2s\n",
      "[Parallel(n_jobs=-1)]: Done   5 out of   7 | elapsed:    0.3s remaining:    0.1s\n",
      "[Parallel(n_jobs=-1)]: Done   7 out of   7 | elapsed:    0.3s remaining:    0.0s\n",
      "[Parallel(n_jobs=-1)]: Done   7 out of   7 | elapsed:    0.3s finished\n",
      "[Parallel(n_jobs=-1)]: Using backend LokyBackend with 8 concurrent workers.\n"
     ]
    },
    {
     "name": "stdout",
     "output_type": "stream",
     "text": [
      "shape deflection:  (7, 103)  should be [N,10X] something\n",
      "deflection std deviation  0.7346984681776675\n",
      "timed  0.30085969  s for function \" randomBeamFunctionSample \"\n",
      "Converting list of outputs into matrix: \n",
      "Element  1  has shape  (7, 102)\n",
      "Element  2  has shape  (7,)\n",
      "Final shape matrix:  (7, 103)\n",
      "index to change:  [ 9580 19580 29580 39580 49580 59580 69580]\n",
      "Generation types:\n",
      "1 : Random (default)\n",
      "2 : LHS\n",
      "3 : LowDiscrepancySequence\n",
      "4 : SimulatedAnnealingLHS\n",
      "Choosen generation method is Random (default)\n"
     ]
    },
    {
     "name": "stderr",
     "output_type": "stream",
     "text": [
      "[Parallel(n_jobs=-1)]: Done   1 tasks      | elapsed:    0.2s\n",
      "[Parallel(n_jobs=-1)]: Batch computation too fast (0.1922s.) Setting batch_size=2.\n",
      "[Parallel(n_jobs=-1)]: Done   2 out of   7 | elapsed:    0.2s remaining:    0.5s\n",
      "[Parallel(n_jobs=-1)]: Done   3 out of   7 | elapsed:    0.2s remaining:    0.3s\n",
      "[Parallel(n_jobs=-1)]: Done   4 out of   7 | elapsed:    0.2s remaining:    0.2s\n",
      "[Parallel(n_jobs=-1)]: Done   5 out of   7 | elapsed:    0.3s remaining:    0.1s\n",
      "[Parallel(n_jobs=-1)]: Done   7 out of   7 | elapsed:    0.3s remaining:    0.0s\n",
      "[Parallel(n_jobs=-1)]: Done   7 out of   7 | elapsed:    0.3s finished\n",
      "[Parallel(n_jobs=-1)]: Using backend LokyBackend with 8 concurrent workers.\n"
     ]
    },
    {
     "name": "stdout",
     "output_type": "stream",
     "text": [
      "shape deflection:  (7, 103)  should be [N,10X] something\n",
      "deflection std deviation  1.5129993141408935\n",
      "timed  0.286941767  s for function \" randomBeamFunctionSample \"\n",
      "Converting list of outputs into matrix: \n",
      "Element  1  has shape  (7, 102)\n",
      "Element  2  has shape  (7,)\n",
      "Final shape matrix:  (7, 103)\n",
      "index to change:  [ 9819 19819 29819 39819 49819 59819 69819]\n",
      "Generation types:\n",
      "1 : Random (default)\n",
      "2 : LHS\n",
      "3 : LowDiscrepancySequence\n",
      "4 : SimulatedAnnealingLHS\n",
      "Choosen generation method is Random (default)\n"
     ]
    },
    {
     "name": "stderr",
     "output_type": "stream",
     "text": [
      "[Parallel(n_jobs=-1)]: Done   1 tasks      | elapsed:    0.2s\n",
      "[Parallel(n_jobs=-1)]: Done   2 out of   7 | elapsed:    0.2s remaining:    0.5s\n",
      "[Parallel(n_jobs=-1)]: Done   3 out of   7 | elapsed:    0.2s remaining:    0.3s\n",
      "[Parallel(n_jobs=-1)]: Done   4 out of   7 | elapsed:    0.2s remaining:    0.2s\n",
      "[Parallel(n_jobs=-1)]: Done   5 out of   7 | elapsed:    0.3s remaining:    0.1s\n",
      "[Parallel(n_jobs=-1)]: Done   7 out of   7 | elapsed:    0.3s remaining:    0.0s\n",
      "[Parallel(n_jobs=-1)]: Done   7 out of   7 | elapsed:    0.3s finished\n",
      "[Parallel(n_jobs=-1)]: Using backend LokyBackend with 8 concurrent workers.\n"
     ]
    },
    {
     "name": "stdout",
     "output_type": "stream",
     "text": [
      "shape deflection:  (7, 103)  should be [N,10X] something\n",
      "deflection std deviation  0.8550998026972843\n",
      "timed  0.278244019  s for function \" randomBeamFunctionSample \"\n",
      "Converting list of outputs into matrix: \n",
      "Element  1  has shape  (7, 102)\n",
      "Element  2  has shape  (7,)\n",
      "Final shape matrix:  (7, 103)\n",
      "index to change:  [ 7318 17318 27318 37318 47318 57318 67318]\n",
      "Generation types:\n",
      "1 : Random (default)\n",
      "2 : LHS\n",
      "3 : LowDiscrepancySequence\n",
      "4 : SimulatedAnnealingLHS\n",
      "Choosen generation method is Random (default)\n"
     ]
    },
    {
     "name": "stderr",
     "output_type": "stream",
     "text": [
      "[Parallel(n_jobs=-1)]: Done   1 tasks      | elapsed:    0.2s\n",
      "[Parallel(n_jobs=-1)]: Done   2 out of   7 | elapsed:    0.2s remaining:    0.5s\n",
      "[Parallel(n_jobs=-1)]: Done   3 out of   7 | elapsed:    0.2s remaining:    0.3s\n",
      "[Parallel(n_jobs=-1)]: Done   4 out of   7 | elapsed:    0.2s remaining:    0.2s\n",
      "[Parallel(n_jobs=-1)]: Done   5 out of   7 | elapsed:    0.3s remaining:    0.1s\n",
      "[Parallel(n_jobs=-1)]: Done   7 out of   7 | elapsed:    0.3s remaining:    0.0s\n",
      "[Parallel(n_jobs=-1)]: Done   7 out of   7 | elapsed:    0.3s finished\n",
      "[Parallel(n_jobs=-1)]: Using backend LokyBackend with 8 concurrent workers.\n"
     ]
    },
    {
     "name": "stdout",
     "output_type": "stream",
     "text": [
      "shape deflection:  (7, 103)  should be [N,10X] something\n",
      "deflection std deviation  0.8216425132858741\n",
      "timed  0.300178289  s for function \" randomBeamFunctionSample \"\n",
      "Converting list of outputs into matrix: \n",
      "Element  1  has shape  (7, 102)\n",
      "Element  2  has shape  (7,)\n",
      "Final shape matrix:  (7, 103)\n",
      "index to change:  [ 8310 18310 28310 38310 48310 58310 68310]\n",
      "Generation types:\n",
      "1 : Random (default)\n",
      "2 : LHS\n",
      "3 : LowDiscrepancySequence\n",
      "4 : SimulatedAnnealingLHS\n",
      "Choosen generation method is Random (default)\n"
     ]
    },
    {
     "name": "stderr",
     "output_type": "stream",
     "text": [
      "[Parallel(n_jobs=-1)]: Done   1 tasks      | elapsed:    0.2s\n",
      "[Parallel(n_jobs=-1)]: Done   2 out of   7 | elapsed:    0.2s remaining:    0.6s\n",
      "[Parallel(n_jobs=-1)]: Done   3 out of   7 | elapsed:    0.3s remaining:    0.3s\n",
      "[Parallel(n_jobs=-1)]: Done   4 out of   7 | elapsed:    0.3s remaining:    0.2s\n",
      "[Parallel(n_jobs=-1)]: Done   5 out of   7 | elapsed:    0.3s remaining:    0.1s\n",
      "[Parallel(n_jobs=-1)]: Done   7 out of   7 | elapsed:    0.3s remaining:    0.0s\n",
      "[Parallel(n_jobs=-1)]: Done   7 out of   7 | elapsed:    0.3s finished\n",
      "[Parallel(n_jobs=-1)]: Using backend LokyBackend with 8 concurrent workers.\n"
     ]
    },
    {
     "name": "stdout",
     "output_type": "stream",
     "text": [
      "shape deflection:  (7, 103)  should be [N,10X] something\n",
      "deflection std deviation  1.378459845074483\n",
      "timed  0.307104111  s for function \" randomBeamFunctionSample \"\n",
      "Converting list of outputs into matrix: \n",
      "Element  1  has shape  (7, 102)\n",
      "Element  2  has shape  (7,)\n",
      "Final shape matrix:  (7, 103)\n",
      "index to change:  [ 9819 19819 29819 39819 49819 59819 69819]\n",
      "Generation types:\n",
      "1 : Random (default)\n",
      "2 : LHS\n",
      "3 : LowDiscrepancySequence\n",
      "4 : SimulatedAnnealingLHS\n",
      "Choosen generation method is Random (default)\n"
     ]
    },
    {
     "name": "stderr",
     "output_type": "stream",
     "text": [
      "[Parallel(n_jobs=-1)]: Done   1 tasks      | elapsed:    0.2s\n",
      "[Parallel(n_jobs=-1)]: Batch computation too fast (0.1983s.) Setting batch_size=2.\n",
      "[Parallel(n_jobs=-1)]: Done   2 out of   7 | elapsed:    0.2s remaining:    0.5s\n",
      "[Parallel(n_jobs=-1)]: Done   3 out of   7 | elapsed:    0.2s remaining:    0.3s\n",
      "[Parallel(n_jobs=-1)]: Done   4 out of   7 | elapsed:    0.3s remaining:    0.2s\n",
      "[Parallel(n_jobs=-1)]: Done   5 out of   7 | elapsed:    0.3s remaining:    0.1s\n",
      "[Parallel(n_jobs=-1)]: Done   7 out of   7 | elapsed:    0.3s remaining:    0.0s\n",
      "[Parallel(n_jobs=-1)]: Done   7 out of   7 | elapsed:    0.3s finished\n",
      "[Parallel(n_jobs=-1)]: Using backend LokyBackend with 8 concurrent workers.\n"
     ]
    },
    {
     "name": "stdout",
     "output_type": "stream",
     "text": [
      "shape deflection:  (7, 103)  should be [N,10X] something\n",
      "deflection std deviation  0.5035855307381923\n",
      "timed  0.286973953  s for function \" randomBeamFunctionSample \"\n",
      "Converting list of outputs into matrix: \n",
      "Element  1  has shape  (7, 102)\n",
      "Element  2  has shape  (7,)\n",
      "Final shape matrix:  (7, 103)\n",
      "index to change:  [  113 10113 20113 30113 40113 50113 60113]\n",
      "Generation types:\n",
      "1 : Random (default)\n",
      "2 : LHS\n",
      "3 : LowDiscrepancySequence\n",
      "4 : SimulatedAnnealingLHS\n",
      "Choosen generation method is Random (default)\n"
     ]
    },
    {
     "name": "stderr",
     "output_type": "stream",
     "text": [
      "[Parallel(n_jobs=-1)]: Done   1 tasks      | elapsed:    0.2s\n",
      "[Parallel(n_jobs=-1)]: Batch computation too fast (0.1763s.) Setting batch_size=2.\n",
      "[Parallel(n_jobs=-1)]: Done   2 out of   7 | elapsed:    0.2s remaining:    0.5s\n",
      "[Parallel(n_jobs=-1)]: Done   3 out of   7 | elapsed:    0.2s remaining:    0.3s\n",
      "[Parallel(n_jobs=-1)]: Done   4 out of   7 | elapsed:    0.2s remaining:    0.2s\n",
      "[Parallel(n_jobs=-1)]: Done   5 out of   7 | elapsed:    0.3s remaining:    0.1s\n",
      "[Parallel(n_jobs=-1)]: Done   7 out of   7 | elapsed:    0.3s remaining:    0.0s\n",
      "[Parallel(n_jobs=-1)]: Done   7 out of   7 | elapsed:    0.3s finished\n",
      "[Parallel(n_jobs=-1)]: Using backend LokyBackend with 8 concurrent workers.\n"
     ]
    },
    {
     "name": "stdout",
     "output_type": "stream",
     "text": [
      "shape deflection:  (7, 103)  should be [N,10X] something\n",
      "deflection std deviation  0.9429333501853691\n",
      "timed  0.285041571  s for function \" randomBeamFunctionSample \"\n",
      "Converting list of outputs into matrix: \n",
      "Element  1  has shape  (7, 102)\n",
      "Element  2  has shape  (7,)\n",
      "Final shape matrix:  (7, 103)\n",
      "index to change:  [  156 10156 20156 30156 40156 50156 60156]\n",
      "Generation types:\n",
      "1 : Random (default)\n",
      "2 : LHS\n",
      "3 : LowDiscrepancySequence\n",
      "4 : SimulatedAnnealingLHS\n",
      "Choosen generation method is Random (default)\n"
     ]
    },
    {
     "name": "stderr",
     "output_type": "stream",
     "text": [
      "[Parallel(n_jobs=-1)]: Done   1 tasks      | elapsed:    0.2s\n",
      "[Parallel(n_jobs=-1)]: Done   2 out of   7 | elapsed:    0.2s remaining:    0.5s\n",
      "[Parallel(n_jobs=-1)]: Done   3 out of   7 | elapsed:    0.2s remaining:    0.3s\n",
      "[Parallel(n_jobs=-1)]: Done   4 out of   7 | elapsed:    0.3s remaining:    0.2s\n",
      "[Parallel(n_jobs=-1)]: Done   5 out of   7 | elapsed:    0.3s remaining:    0.1s\n",
      "[Parallel(n_jobs=-1)]: Done   7 out of   7 | elapsed:    0.3s remaining:    0.0s\n",
      "[Parallel(n_jobs=-1)]: Done   7 out of   7 | elapsed:    0.3s finished\n",
      "[Parallel(n_jobs=-1)]: Using backend LokyBackend with 8 concurrent workers.\n"
     ]
    },
    {
     "name": "stdout",
     "output_type": "stream",
     "text": [
      "shape deflection:  (7, 103)  should be [N,10X] something\n",
      "deflection std deviation  3.329931253736257\n",
      "timed  0.29946661  s for function \" randomBeamFunctionSample \"\n",
      "Converting list of outputs into matrix: \n",
      "Element  1  has shape  (7, 102)\n",
      "Element  2  has shape  (7,)\n",
      "Final shape matrix:  (7, 103)\n",
      "index to change:  [  787 10787 20787 30787 40787 50787 60787]\n",
      "Generation types:\n",
      "1 : Random (default)\n",
      "2 : LHS\n",
      "3 : LowDiscrepancySequence\n",
      "4 : SimulatedAnnealingLHS\n",
      "Choosen generation method is Random (default)\n"
     ]
    },
    {
     "name": "stderr",
     "output_type": "stream",
     "text": [
      "[Parallel(n_jobs=-1)]: Done   1 tasks      | elapsed:    0.2s\n",
      "[Parallel(n_jobs=-1)]: Batch computation too fast (0.1914s.) Setting batch_size=2.\n",
      "[Parallel(n_jobs=-1)]: Done   2 out of   7 | elapsed:    0.2s remaining:    0.6s\n",
      "[Parallel(n_jobs=-1)]: Done   3 out of   7 | elapsed:    0.2s remaining:    0.3s\n",
      "[Parallel(n_jobs=-1)]: Done   4 out of   7 | elapsed:    0.2s remaining:    0.2s\n",
      "[Parallel(n_jobs=-1)]: Done   5 out of   7 | elapsed:    0.3s remaining:    0.1s\n",
      "[Parallel(n_jobs=-1)]: Done   7 out of   7 | elapsed:    0.3s remaining:    0.0s\n",
      "[Parallel(n_jobs=-1)]: Done   7 out of   7 | elapsed:    0.3s finished\n",
      "[Parallel(n_jobs=-1)]: Using backend LokyBackend with 8 concurrent workers.\n"
     ]
    },
    {
     "name": "stdout",
     "output_type": "stream",
     "text": [
      "shape deflection:  (7, 103)  should be [N,10X] something\n",
      "deflection std deviation  0.5910085281559246\n",
      "timed  0.291189671  s for function \" randomBeamFunctionSample \"\n",
      "Converting list of outputs into matrix: \n",
      "Element  1  has shape  (7, 102)\n",
      "Element  2  has shape  (7,)\n",
      "Final shape matrix:  (7, 103)\n",
      "index to change:  [ 1344 11344 21344 31344 41344 51344 61344]\n",
      "Generation types:\n",
      "1 : Random (default)\n",
      "2 : LHS\n",
      "3 : LowDiscrepancySequence\n",
      "4 : SimulatedAnnealingLHS\n",
      "Choosen generation method is Random (default)\n"
     ]
    },
    {
     "name": "stderr",
     "output_type": "stream",
     "text": [
      "[Parallel(n_jobs=-1)]: Done   1 tasks      | elapsed:    0.2s\n",
      "[Parallel(n_jobs=-1)]: Batch computation too fast (0.1911s.) Setting batch_size=2.\n",
      "[Parallel(n_jobs=-1)]: Done   2 out of   7 | elapsed:    0.2s remaining:    0.5s\n",
      "[Parallel(n_jobs=-1)]: Done   3 out of   7 | elapsed:    0.2s remaining:    0.3s\n",
      "[Parallel(n_jobs=-1)]: Done   4 out of   7 | elapsed:    0.3s remaining:    0.2s\n",
      "[Parallel(n_jobs=-1)]: Done   5 out of   7 | elapsed:    0.3s remaining:    0.1s\n",
      "[Parallel(n_jobs=-1)]: Done   7 out of   7 | elapsed:    0.3s remaining:    0.0s\n",
      "[Parallel(n_jobs=-1)]: Done   7 out of   7 | elapsed:    0.3s finished\n",
      "[Parallel(n_jobs=-1)]: Using backend LokyBackend with 8 concurrent workers.\n"
     ]
    },
    {
     "name": "stdout",
     "output_type": "stream",
     "text": [
      "shape deflection:  (7, 103)  should be [N,10X] something\n",
      "deflection std deviation  0.46690330525895973\n",
      "timed  0.340366602  s for function \" randomBeamFunctionSample \"\n",
      "Converting list of outputs into matrix: \n",
      "Element  1  has shape  (7, 102)\n",
      "Element  2  has shape  (7,)\n",
      "Final shape matrix:  (7, 103)\n",
      "index to change:  [ 3169 13169 23169 33169 43169 53169 63169]\n",
      "Generation types:\n",
      "1 : Random (default)\n",
      "2 : LHS\n",
      "3 : LowDiscrepancySequence\n",
      "4 : SimulatedAnnealingLHS\n",
      "Choosen generation method is Random (default)\n"
     ]
    },
    {
     "name": "stderr",
     "output_type": "stream",
     "text": [
      "[Parallel(n_jobs=-1)]: Done   1 tasks      | elapsed:    0.2s\n",
      "[Parallel(n_jobs=-1)]: Done   2 out of   7 | elapsed:    0.2s remaining:    0.6s\n",
      "[Parallel(n_jobs=-1)]: Done   3 out of   7 | elapsed:    0.2s remaining:    0.3s\n",
      "[Parallel(n_jobs=-1)]: Done   4 out of   7 | elapsed:    0.2s remaining:    0.2s\n",
      "[Parallel(n_jobs=-1)]: Done   5 out of   7 | elapsed:    0.3s remaining:    0.1s\n",
      "[Parallel(n_jobs=-1)]: Done   7 out of   7 | elapsed:    0.3s remaining:    0.0s\n",
      "[Parallel(n_jobs=-1)]: Done   7 out of   7 | elapsed:    0.3s finished\n",
      "[Parallel(n_jobs=-1)]: Using backend LokyBackend with 8 concurrent workers.\n"
     ]
    },
    {
     "name": "stdout",
     "output_type": "stream",
     "text": [
      "shape deflection:  (7, 103)  should be [N,10X] something\n",
      "deflection std deviation  1.112678753529557\n",
      "timed  0.297563553  s for function \" randomBeamFunctionSample \"\n",
      "Converting list of outputs into matrix: \n",
      "Element  1  has shape  (7, 102)\n",
      "Element  2  has shape  (7,)\n",
      "Final shape matrix:  (7, 103)\n",
      "index to change:  [ 3453 13453 23453 33453 43453 53453 63453]\n",
      "Generation types:\n",
      "1 : Random (default)\n",
      "2 : LHS\n",
      "3 : LowDiscrepancySequence\n",
      "4 : SimulatedAnnealingLHS\n",
      "Choosen generation method is Random (default)\n"
     ]
    },
    {
     "name": "stderr",
     "output_type": "stream",
     "text": [
      "[Parallel(n_jobs=-1)]: Done   1 tasks      | elapsed:    0.2s\n",
      "[Parallel(n_jobs=-1)]: Done   2 out of   7 | elapsed:    0.2s remaining:    0.6s\n",
      "[Parallel(n_jobs=-1)]: Done   3 out of   7 | elapsed:    0.2s remaining:    0.3s\n",
      "[Parallel(n_jobs=-1)]: Done   4 out of   7 | elapsed:    0.2s remaining:    0.2s\n",
      "[Parallel(n_jobs=-1)]: Done   5 out of   7 | elapsed:    0.3s remaining:    0.1s\n",
      "[Parallel(n_jobs=-1)]: Done   7 out of   7 | elapsed:    0.3s remaining:    0.0s\n",
      "[Parallel(n_jobs=-1)]: Done   7 out of   7 | elapsed:    0.3s finished\n",
      "[Parallel(n_jobs=-1)]: Using backend LokyBackend with 8 concurrent workers.\n"
     ]
    },
    {
     "name": "stdout",
     "output_type": "stream",
     "text": [
      "shape deflection:  (7, 103)  should be [N,10X] something\n",
      "deflection std deviation  1.696881162426494\n",
      "timed  0.313745737  s for function \" randomBeamFunctionSample \"\n",
      "Converting list of outputs into matrix: \n",
      "Element  1  has shape  (7, 102)\n",
      "Element  2  has shape  (7,)\n",
      "Final shape matrix:  (7, 103)\n",
      "index to change:  [ 3753 13753 23753 33753 43753 53753 63753]\n",
      "Generation types:\n",
      "1 : Random (default)\n",
      "2 : LHS\n",
      "3 : LowDiscrepancySequence\n",
      "4 : SimulatedAnnealingLHS\n",
      "Choosen generation method is Random (default)\n"
     ]
    },
    {
     "name": "stderr",
     "output_type": "stream",
     "text": [
      "[Parallel(n_jobs=-1)]: Done   1 tasks      | elapsed:    0.2s\n",
      "[Parallel(n_jobs=-1)]: Done   2 out of   7 | elapsed:    0.2s remaining:    0.5s\n",
      "[Parallel(n_jobs=-1)]: Done   3 out of   7 | elapsed:    0.2s remaining:    0.3s\n",
      "[Parallel(n_jobs=-1)]: Done   4 out of   7 | elapsed:    0.2s remaining:    0.2s\n",
      "[Parallel(n_jobs=-1)]: Done   5 out of   7 | elapsed:    0.3s remaining:    0.1s\n",
      "[Parallel(n_jobs=-1)]: Done   7 out of   7 | elapsed:    0.3s remaining:    0.0s\n",
      "[Parallel(n_jobs=-1)]: Done   7 out of   7 | elapsed:    0.3s finished\n",
      "[Parallel(n_jobs=-1)]: Using backend LokyBackend with 8 concurrent workers.\n"
     ]
    },
    {
     "name": "stdout",
     "output_type": "stream",
     "text": [
      "shape deflection:  (7, 103)  should be [N,10X] something\n",
      "deflection std deviation  0.6394858991693586\n",
      "timed  0.294585705  s for function \" randomBeamFunctionSample \"\n",
      "Converting list of outputs into matrix: \n",
      "Element  1  has shape  (7, 102)\n",
      "Element  2  has shape  (7,)\n",
      "Final shape matrix:  (7, 103)\n",
      "index to change:  [ 6499 16499 26499 36499 46499 56499 66499]\n",
      "Generation types:\n",
      "1 : Random (default)\n",
      "2 : LHS\n",
      "3 : LowDiscrepancySequence\n",
      "4 : SimulatedAnnealingLHS\n",
      "Choosen generation method is Random (default)\n"
     ]
    },
    {
     "name": "stderr",
     "output_type": "stream",
     "text": [
      "[Parallel(n_jobs=-1)]: Done   1 tasks      | elapsed:    0.2s\n",
      "[Parallel(n_jobs=-1)]: Batch computation too fast (0.1869s.) Setting batch_size=2.\n",
      "[Parallel(n_jobs=-1)]: Done   2 out of   7 | elapsed:    0.2s remaining:    0.5s\n",
      "[Parallel(n_jobs=-1)]: Done   3 out of   7 | elapsed:    0.2s remaining:    0.3s\n",
      "[Parallel(n_jobs=-1)]: Done   4 out of   7 | elapsed:    0.2s remaining:    0.2s\n",
      "[Parallel(n_jobs=-1)]: Done   5 out of   7 | elapsed:    0.2s remaining:    0.1s\n",
      "[Parallel(n_jobs=-1)]: Done   7 out of   7 | elapsed:    0.3s remaining:    0.0s\n",
      "[Parallel(n_jobs=-1)]: Done   7 out of   7 | elapsed:    0.3s finished\n",
      "[Parallel(n_jobs=-1)]: Using backend LokyBackend with 8 concurrent workers.\n"
     ]
    },
    {
     "name": "stdout",
     "output_type": "stream",
     "text": [
      "shape deflection:  (7, 103)  should be [N,10X] something\n",
      "deflection std deviation  1.4212455310994505\n",
      "timed  0.283875465  s for function \" randomBeamFunctionSample \"\n",
      "Converting list of outputs into matrix: \n",
      "Element  1  has shape  (7, 102)\n",
      "Element  2  has shape  (7,)\n",
      "Final shape matrix:  (7, 103)\n",
      "index to change:  [ 6517 16517 26517 36517 46517 56517 66517]\n",
      "Generation types:\n",
      "1 : Random (default)\n",
      "2 : LHS\n",
      "3 : LowDiscrepancySequence\n",
      "4 : SimulatedAnnealingLHS\n",
      "Choosen generation method is Random (default)\n"
     ]
    },
    {
     "name": "stderr",
     "output_type": "stream",
     "text": [
      "[Parallel(n_jobs=-1)]: Done   1 tasks      | elapsed:    0.2s\n",
      "[Parallel(n_jobs=-1)]: Batch computation too fast (0.1864s.) Setting batch_size=2.\n",
      "[Parallel(n_jobs=-1)]: Done   2 out of   7 | elapsed:    0.2s remaining:    0.5s\n",
      "[Parallel(n_jobs=-1)]: Done   3 out of   7 | elapsed:    0.2s remaining:    0.3s\n",
      "[Parallel(n_jobs=-1)]: Done   4 out of   7 | elapsed:    0.3s remaining:    0.2s\n",
      "[Parallel(n_jobs=-1)]: Done   5 out of   7 | elapsed:    0.3s remaining:    0.1s\n",
      "[Parallel(n_jobs=-1)]: Done   7 out of   7 | elapsed:    0.3s remaining:    0.0s\n",
      "[Parallel(n_jobs=-1)]: Done   7 out of   7 | elapsed:    0.3s finished\n",
      "[Parallel(n_jobs=-1)]: Using backend LokyBackend with 8 concurrent workers.\n"
     ]
    },
    {
     "name": "stdout",
     "output_type": "stream",
     "text": [
      "shape deflection:  (7, 103)  should be [N,10X] something\n",
      "deflection std deviation  1.097938038262522\n",
      "timed  0.290994883  s for function \" randomBeamFunctionSample \"\n",
      "Converting list of outputs into matrix: \n",
      "Element  1  has shape  (7, 102)\n",
      "Element  2  has shape  (7,)\n",
      "Final shape matrix:  (7, 103)\n",
      "index to change:  [ 7417 17417 27417 37417 47417 57417 67417]\n",
      "Generation types:\n",
      "1 : Random (default)\n",
      "2 : LHS\n",
      "3 : LowDiscrepancySequence\n",
      "4 : SimulatedAnnealingLHS\n",
      "Choosen generation method is Random (default)\n"
     ]
    },
    {
     "name": "stderr",
     "output_type": "stream",
     "text": [
      "[Parallel(n_jobs=-1)]: Done   1 tasks      | elapsed:    0.2s\n",
      "[Parallel(n_jobs=-1)]: Batch computation too fast (0.1973s.) Setting batch_size=2.\n",
      "[Parallel(n_jobs=-1)]: Done   2 out of   7 | elapsed:    0.2s remaining:    0.5s\n",
      "[Parallel(n_jobs=-1)]: Done   3 out of   7 | elapsed:    0.2s remaining:    0.3s\n",
      "[Parallel(n_jobs=-1)]: Done   4 out of   7 | elapsed:    0.2s remaining:    0.2s\n",
      "[Parallel(n_jobs=-1)]: Done   5 out of   7 | elapsed:    0.3s remaining:    0.1s\n",
      "[Parallel(n_jobs=-1)]: Done   7 out of   7 | elapsed:    0.3s remaining:    0.0s\n",
      "[Parallel(n_jobs=-1)]: Done   7 out of   7 | elapsed:    0.3s finished\n",
      "[Parallel(n_jobs=-1)]: Using backend LokyBackend with 8 concurrent workers.\n"
     ]
    },
    {
     "name": "stdout",
     "output_type": "stream",
     "text": [
      "shape deflection:  (7, 103)  should be [N,10X] something\n",
      "deflection std deviation  0.7858767551134734\n",
      "timed  0.275742292  s for function \" randomBeamFunctionSample \"\n",
      "Converting list of outputs into matrix: \n",
      "Element  1  has shape  (7, 102)\n",
      "Element  2  has shape  (7,)\n",
      "Final shape matrix:  (7, 103)\n",
      "index to change:  [ 8531 18531 28531 38531 48531 58531 68531]\n",
      "Generation types:\n",
      "1 : Random (default)\n",
      "2 : LHS\n",
      "3 : LowDiscrepancySequence\n",
      "4 : SimulatedAnnealingLHS\n",
      "Choosen generation method is Random (default)\n"
     ]
    },
    {
     "name": "stderr",
     "output_type": "stream",
     "text": [
      "[Parallel(n_jobs=-1)]: Done   1 tasks      | elapsed:    0.2s\n",
      "[Parallel(n_jobs=-1)]: Batch computation too fast (0.1867s.) Setting batch_size=2.\n",
      "[Parallel(n_jobs=-1)]: Done   2 out of   7 | elapsed:    0.2s remaining:    0.6s\n",
      "[Parallel(n_jobs=-1)]: Done   3 out of   7 | elapsed:    0.2s remaining:    0.3s\n",
      "[Parallel(n_jobs=-1)]: Done   4 out of   7 | elapsed:    0.2s remaining:    0.2s\n",
      "[Parallel(n_jobs=-1)]: Done   5 out of   7 | elapsed:    0.3s remaining:    0.1s\n",
      "[Parallel(n_jobs=-1)]: Done   7 out of   7 | elapsed:    0.3s remaining:    0.0s\n",
      "[Parallel(n_jobs=-1)]: Done   7 out of   7 | elapsed:    0.3s finished\n",
      "[Parallel(n_jobs=-1)]: Using backend LokyBackend with 8 concurrent workers.\n"
     ]
    },
    {
     "name": "stdout",
     "output_type": "stream",
     "text": [
      "shape deflection:  (7, 103)  should be [N,10X] something\n",
      "deflection std deviation  0.7797703444983377\n",
      "timed  0.321425915  s for function \" randomBeamFunctionSample \"\n",
      "Converting list of outputs into matrix: \n",
      "Element  1  has shape  (7, 102)\n",
      "Element  2  has shape  (7,)\n",
      "Final shape matrix:  (7, 103)\n",
      "index to change:  [ 7318 17318 27318 37318 47318 57318 67318]\n",
      "Generation types:\n",
      "1 : Random (default)\n",
      "2 : LHS\n",
      "3 : LowDiscrepancySequence\n",
      "4 : SimulatedAnnealingLHS\n",
      "Choosen generation method is Random (default)\n"
     ]
    },
    {
     "name": "stderr",
     "output_type": "stream",
     "text": [
      "[Parallel(n_jobs=-1)]: Done   1 tasks      | elapsed:    0.2s\n",
      "[Parallel(n_jobs=-1)]: Done   2 out of   7 | elapsed:    0.2s remaining:    0.5s\n",
      "[Parallel(n_jobs=-1)]: Done   3 out of   7 | elapsed:    0.2s remaining:    0.3s\n",
      "[Parallel(n_jobs=-1)]: Done   4 out of   7 | elapsed:    0.3s remaining:    0.2s\n",
      "[Parallel(n_jobs=-1)]: Done   5 out of   7 | elapsed:    0.3s remaining:    0.1s\n",
      "[Parallel(n_jobs=-1)]: Done   7 out of   7 | elapsed:    0.3s remaining:    0.0s\n",
      "[Parallel(n_jobs=-1)]: Done   7 out of   7 | elapsed:    0.3s finished\n",
      "[Parallel(n_jobs=-1)]: Using backend LokyBackend with 8 concurrent workers.\n"
     ]
    },
    {
     "name": "stdout",
     "output_type": "stream",
     "text": [
      "shape deflection:  (7, 103)  should be [N,10X] something\n",
      "deflection std deviation  0.6265848438683868\n",
      "timed  0.313908815  s for function \" randomBeamFunctionSample \"\n",
      "Converting list of outputs into matrix: \n",
      "Element  1  has shape  (7, 102)\n",
      "Element  2  has shape  (7,)\n",
      "Final shape matrix:  (7, 103)\n",
      "index to change:  [ 8310 18310 28310 38310 48310 58310 68310]\n",
      "Generation types:\n",
      "1 : Random (default)\n",
      "2 : LHS\n",
      "3 : LowDiscrepancySequence\n",
      "4 : SimulatedAnnealingLHS\n",
      "Choosen generation method is Random (default)\n"
     ]
    },
    {
     "name": "stderr",
     "output_type": "stream",
     "text": [
      "[Parallel(n_jobs=-1)]: Done   1 tasks      | elapsed:    0.2s\n",
      "[Parallel(n_jobs=-1)]: Done   2 out of   7 | elapsed:    0.2s remaining:    0.5s\n",
      "[Parallel(n_jobs=-1)]: Done   3 out of   7 | elapsed:    0.2s remaining:    0.3s\n",
      "[Parallel(n_jobs=-1)]: Done   4 out of   7 | elapsed:    0.3s remaining:    0.2s\n",
      "[Parallel(n_jobs=-1)]: Done   5 out of   7 | elapsed:    0.3s remaining:    0.1s\n",
      "[Parallel(n_jobs=-1)]: Done   7 out of   7 | elapsed:    0.3s remaining:    0.0s\n",
      "[Parallel(n_jobs=-1)]: Done   7 out of   7 | elapsed:    0.3s finished\n",
      "[Parallel(n_jobs=-1)]: Using backend LokyBackend with 8 concurrent workers.\n"
     ]
    },
    {
     "name": "stdout",
     "output_type": "stream",
     "text": [
      "shape deflection:  (7, 103)  should be [N,10X] something\n",
      "deflection std deviation  0.4168560379449737\n",
      "timed  0.296957254  s for function \" randomBeamFunctionSample \"\n",
      "Converting list of outputs into matrix: \n",
      "Element  1  has shape  (7, 102)\n",
      "Element  2  has shape  (7,)\n",
      "Final shape matrix:  (7, 103)\n",
      "index to change:  [ 9819 19819 29819 39819 49819 59819 69819]\n",
      "Generation types:\n",
      "1 : Random (default)\n",
      "2 : LHS\n",
      "3 : LowDiscrepancySequence\n",
      "4 : SimulatedAnnealingLHS\n",
      "Choosen generation method is Random (default)\n"
     ]
    },
    {
     "name": "stderr",
     "output_type": "stream",
     "text": [
      "[Parallel(n_jobs=-1)]: Done   1 tasks      | elapsed:    0.2s\n",
      "[Parallel(n_jobs=-1)]: Batch computation too fast (0.1706s.) Setting batch_size=2.\n",
      "[Parallel(n_jobs=-1)]: Done   2 out of   7 | elapsed:    0.2s remaining:    0.5s\n",
      "[Parallel(n_jobs=-1)]: Done   3 out of   7 | elapsed:    0.2s remaining:    0.3s\n",
      "[Parallel(n_jobs=-1)]: Done   4 out of   7 | elapsed:    0.2s remaining:    0.2s\n",
      "[Parallel(n_jobs=-1)]: Done   5 out of   7 | elapsed:    0.3s remaining:    0.1s\n",
      "[Parallel(n_jobs=-1)]: Done   7 out of   7 | elapsed:    0.3s remaining:    0.0s\n",
      "[Parallel(n_jobs=-1)]: Done   7 out of   7 | elapsed:    0.3s finished\n"
     ]
    },
    {
     "name": "stdout",
     "output_type": "stream",
     "text": [
      "shape deflection:  (7, 103)  should be [N,10X] something\n",
      "deflection std deviation  0.4183380141846645\n",
      "timed  0.277989388  s for function \" randomBeamFunctionSample \"\n",
      "Converting list of outputs into matrix: \n",
      "Element  1  has shape  (7, 102)\n",
      "Element  2  has shape  (7,)\n",
      "Final shape matrix:  (7, 103)\n",
      " - Post replacement assertion passed - \n",
      "\n",
      "Transforming matrix of shape  (70000, 103)\n",
      "Into list of Ndarrays according to output definition\n",
      "Dimension output  0  is  102\n",
      "Intermediary shape is : (70000, 102)\n",
      "new shape is:  [70000, 102]\n",
      "Output element  0  has shape  (70000, 102)\n",
      "Dimension output  1  is  1\n",
      "Intermediary shape is : (70000, 1)\n",
      "new shape is:  [70000, 1]\n",
      "Output element  1  has shape  (70000,)\n"
     ]
    }
   ],
   "source": [
    "processSensitivityAnalysis.getOutputDesignAndPostprocess()"
   ]
  },
  {
   "cell_type": "code",
   "execution_count": 9,
   "metadata": {},
   "outputs": [
    {
     "data": {
      "text/plain": [
       "[array([[ 1.69385858,  5.99197799, 11.52267645, ..., 14.84732942,\n",
       "         10.06326972,  5.25906439],\n",
       "        [ 1.33662012,  4.89266792,  9.44783856, ..., 21.60601514,\n",
       "         14.71478867,  7.71052711],\n",
       "        [ 1.40110464,  4.95341003,  9.5774803 , ..., 16.96957864,\n",
       "         11.39684593,  5.91162061],\n",
       "        ...,\n",
       "        [ 1.21121088,  4.09826848,  7.81457816, ..., 15.11237083,\n",
       "         10.28464245,  5.41302427],\n",
       "        [ 1.35545545,  4.69049139,  9.10699828, ..., 15.43905786,\n",
       "         10.44733038,  5.45664077],\n",
       "        [ 1.76645994,  6.48841987, 12.48677684, ..., 12.98849951,\n",
       "          8.82367731,  4.62474099]]),\n",
       " array([5.25906439, 7.71052711, 5.91162061, ..., 5.41302427, 5.45664077,\n",
       "        4.62474099])]"
      ]
     },
     "execution_count": 9,
     "metadata": {},
     "output_type": "execute_result"
    }
   ],
   "source": [
    "import NdGaussianProcessSensitivityIndices as ngpsi\n",
    "reload(ngpsi)\n",
    "processSensitivityAnalysis.outputDesignList"
   ]
  },
  {
   "cell_type": "code",
   "execution_count": 10,
   "metadata": {},
   "outputs": [
    {
     "name": "stdout",
     "output_type": "stream",
     "text": [
      "There are 5 indices to get in (102,) dimensions with 102 elements\n",
      "There are 5 indices to get in 1 dimensions with 1 elements\n"
     ]
    }
   ],
   "source": [
    "output = processSensitivityAnalysis.outputDesignList\n",
    "output1 = output[0]\n",
    "output2 = output[1]\n",
    "S, Stot = ngpsi.NdGaussianProcessSensitivityIndicesBase.getSobolIndices(output1,10000)\n",
    "S2, Stot2 = ngpsi.NdGaussianProcessSensitivityIndicesBase.getSobolIndices(output2,10000)"
   ]
  },
  {
   "cell_type": "code",
   "execution_count": 11,
   "metadata": {
    "scrolled": true
   },
   "outputs": [
    {
     "data": {
      "text/plain": [
       "<matplotlib.image.AxesImage at 0x7f4b2031dcf8>"
      ]
     },
     "execution_count": 11,
     "metadata": {},
     "output_type": "execute_result"
    },
    {
     "data": {
      "image/png": "[encoded data removed]",
      "text/plain": [
       "<Figure size 1080x648 with 1 Axes>"
      ]
     },
     "metadata": {
      "needs_background": "light"
     },
     "output_type": "display_data"
    }
   ],
   "source": [
    "composedDist = processSensitivityAnalysis.wrappedFunction.KLComposedDistribution\n",
    "plt.imshow(S)"
   ]
  },
  {
   "cell_type": "code",
   "execution_count": 14,
   "metadata": {
    "scrolled": false
   },
   "outputs": [
    {
     "data": {
      "text/plain": [
       "array([0.00286095, 0.42822981, 0.00230379, 0.5474147 , 0.01373425])"
      ]
     },
     "execution_count": 14,
     "metadata": {},
     "output_type": "execute_result"
    }
   ],
   "source": [
    "S[...,0:5]\n",
    "S2"
   ]
  },
  {
   "cell_type": "code",
   "execution_count": 13,
   "metadata": {
    "scrolled": false
   },
   "outputs": [
    {
     "data": {
      "text/plain": [
       "[None, None, None, None, None]"
      ]
     },
     "execution_count": 13,
     "metadata": {},
     "output_type": "execute_result"
    }
   ],
   "source": [
    "sob = list(S2)\n",
    "Sobol=list()\n",
    "[Sobol.append(round(x,3)) for x in sob]"
   ]
  },
  {
   "cell_type": "code",
   "execution_count": 36,
   "metadata": {},
   "outputs": [
    {
     "data": {
      "image/png": "[encoded data removed]",
      "text/plain": [
       "<Figure size 432x288 with 1 Axes>"
      ]
     },
     "metadata": {
      "needs_background": "light"
     },
     "output_type": "display_data"
    }
   ],
   "source": [
    "im = plt.imshow(S)"
   ]
  },
  {
   "cell_type": "code",
   "execution_count": 37,
   "metadata": {},
   "outputs": [],
   "source": [
    "plt.show(im)"
   ]
  },
  {
   "cell_type": "code",
   "execution_count": 14,
   "metadata": {},
   "outputs": [
    {
     "name": "stdout",
     "output_type": "stream",
     "text": [
      "['E_', 'D_', 'Rho', 'FP', 'FN']\n",
      "['E_xi_0', 'E_xi_1', 'E_xi_2', 'E_xi_3', 'E_xi_4', 'E_xi_5', 'E_xi_6', 'E_xi_7', 'D_xi_0', 'D_xi_1', 'D_xi_2', 'D_xi_3', 'D_xi_4', 'D_xi_5', 'D_xi_6', 'D_xi_7', 'D_xi_8', 'D_xi_9', 'D_xi_10', 'D_xi_11', 'D_xi_12', 'Rho', 'FP', 'FN']\n",
      "['var0', 'var1', 'var2', 'var3', 'var4']\n"
     ]
    }
   ],
   "source": [
    "print(processSensitivityAnalysis.wrappedFunction.inputVarNames)\n",
    "print(processSensitivityAnalysis.wrappedFunction.inputVarNamesKL)\n",
    "print(processSensitivityAnalysis.wrappedFunction._inputVarOrdering)"
   ]
  },
  {
   "cell_type": "code",
   "execution_count": null,
   "metadata": {},
   "outputs": [],
   "source": []
  },
  {
   "cell_type": "code",
   "execution_count": 12,
   "metadata": {},
   "outputs": [],
   "source": [
    "import customWraps as cw"
   ]
  },
  {
   "cell_type": "code",
   "execution_count": 13,
   "metadata": {},
   "outputs": [],
   "source": [
    "@cw.timing\n",
    "def getLHSExperiment(distribution, size, alwaysShuffle, randomShift):\n",
    "    return ot.LHSExperiment(distribution, size, alwaysShuffle, randomShift).generate()"
   ]
  },
  {
   "cell_type": "code",
   "execution_count": 14,
   "metadata": {},
   "outputs": [
    {
     "name": "stdout",
     "output_type": "stream",
     "text": [
      "timed  0.040719986  s for function \" getLHSExperiment \"\n"
     ]
    }
   ],
   "source": [
    "exp = getLHSExperiment(composedDist, 2000, True, True)"
   ]
  },
  {
   "cell_type": "code",
   "execution_count": 15,
   "metadata": {},
   "outputs": [
    {
     "name": "stdout",
     "output_type": "stream",
     "text": [
      "That works really fast!\n"
     ]
    },
    {
     "data": {
      "text/html": [
       "<TABLE><TR><TH></TH><TH>X0</TH><TH>X1</TH><TH>X2</TH><TH COLSPAN=\"18\">...</TH><TH>X21</TH><TH>X22</TH><TH>X23</TH></TR>\n",
       "<TR><TD>0</TD><TD>55.79033269728237</TD><TD>-0.19098185493210715</TD><TD>23.283969210695176<TD COLSPAN=\"18\">...</TD><TD>8005.524793957302</TD><TD>484.73561116938885</TD><TD>101.64863260724084</TD></TR>\n",
       "<TR><TD>1</TD><TD>55.333491276247884</TD><TD>1.3712593607868964</TD><TD>24.20841863903222<TD COLSPAN=\"18\">...</TD><TD>7653.50976204961</TD><TD>481.9859412832348</TD><TD>97.72070938147876</TD></TR>\n",
       "<TR><TD>2</TD><TD>54.202336863482806</TD><TD>0.8713551721507448</TD><TD>23.859810842167406<TD COLSPAN=\"18\">...</TD><TD>7814.162503617186</TD><TD>407.55489907365524</TD><TD>99.99375393705621</TD></TR>\n",
       "<TR><TD COLSPAN=\"25\">...</TD></TR>\n",
       "<TR><TD>1997</TD><TD>54.851463546533154</TD><TD>-0.5239463721670796</TD><TD>24.219277385649654<TD COLSPAN=\"18\">...</TD><TD>8217.194258966842</TD><TD>477.8411794090323</TD><TD>99.50374356968953</TD></TR>\n",
       "<TR><TD>1998</TD><TD>54.40464522348954</TD><TD>-0.3293520205616215</TD><TD>25.966400126230262<TD COLSPAN=\"18\">...</TD><TD>7412.336856933777</TD><TD>507.69024038517824</TD><TD>98.94227460619537</TD></TR>\n",
       "<TR><TD>1999</TD><TD>54.34661766684137</TD><TD>-0.5701349001063507</TD><TD>24.411461830266525<TD COLSPAN=\"18\">...</TD><TD>7878.010110100623</TD><TD>402.96362061509814</TD><TD>99.9011092586734</TD></TR>\n",
       "</TABLE>"
      ],
      "text/plain": [
       "class=Sample name=Unnamed implementation=class=SampleImplementation name=Unnamed size=2000 dimension=24 description=[X0,X1,X2,...,X21,X22,X23] data=[[55.7903,-0.190982,23.284,...,8005.52,484.736,101.649],[55.3335,1.37126,24.2084,...,7653.51,481.986,97.7207],[54.2023,0.871355,23.8598,...,7814.16,407.555,99.9938],...,[54.8515,-0.523946,24.2193,...,8217.19,477.841,99.5037],[54.4046,-0.329352,25.9664,...,7412.34,507.69,98.9423],[54.3466,-0.570135,24.4115,...,7878.01,402.964,99.9011]]"
      ]
     },
     "execution_count": 15,
     "metadata": {},
     "output_type": "execute_result"
    }
   ],
   "source": [
    "print('That works really fast!')\n",
    "exp"
   ]
  },
  {
   "cell_type": "code",
   "execution_count": 55,
   "metadata": {},
   "outputs": [
    {
     "data": {
      "text/plain": [
       "<module 'NdGaussianProcessExperimentGeneration' from '/home/motherloadubu/Documents/project_PHIMECA/stochastic_process_analysis/NdGaussianProcessExperimentGeneration.py'>"
      ]
     },
     "execution_count": 55,
     "metadata": {},
     "output_type": "execute_result"
    }
   ],
   "source": [
    "import NdGaussianProcessExperimentGeneration as ngpeg\n",
    "reload(ngpeg)"
   ]
  },
  {
   "cell_type": "code",
   "execution_count": 56,
   "metadata": {},
   "outputs": [
    {
     "name": "stdout",
     "output_type": "stream",
     "text": [
      "Generation types:\n",
      "1 : Random (default)\n",
      "2 : LHS\n",
      "3 : LowDiscrepancySequence\n",
      "4 : SimulatedAnnealingLHS\n"
     ]
    }
   ],
   "source": [
    "test0 = ngpeg.NdGaussianProcessExperiment(processSensitivityAnalysis.sampleSize,\n",
    "                                         processSensitivityAnalysis.wrappedFunction)"
   ]
  },
  {
   "cell_type": "code",
   "execution_count": 57,
   "metadata": {},
   "outputs": [
    {
     "data": {
      "text/plain": [
       "array([[ 5.50346146e+01,  9.81992100e-02,  2.47360736e+01, ...,\n",
       "         7.45248899e+03,  6.01817823e+02,  1.01293963e+02],\n",
       "       [ 5.37555756e+01,  1.29455188e-01,  2.28109014e+01, ...,\n",
       "         7.95669043e+03,  4.37887664e+02,  9.96609256e+01],\n",
       "       [ 5.53507742e+01, -1.25225486e+00,  2.43850209e+01, ...,\n",
       "         7.96235937e+03,  4.37713257e+02,  1.00149113e+02],\n",
       "       ...,\n",
       "       [ 5.60095120e+01,  7.35625214e-01,  2.33273992e+01, ...,\n",
       "         8.07962019e+03,  5.26993032e+02,  1.00278874e+02],\n",
       "       [ 5.65213904e+01,  3.75193848e-01,  2.45633504e+01, ...,\n",
       "         7.82180335e+03,  5.20321230e+02,  9.79694576e+01],\n",
       "       [ 5.47746640e+01,  1.08818884e+00,  2.43071075e+01, ...,\n",
       "         7.95333093e+03,  5.59042152e+02,  9.89984624e+01]])"
      ]
     },
     "execution_count": 57,
     "metadata": {},
     "output_type": "execute_result"
    }
   ],
   "source": [
    "test0.generate()"
   ]
  },
  {
   "cell_type": "code",
   "execution_count": 49,
   "metadata": {},
   "outputs": [],
   "source": [
    "test0.getDataFieldAndRV()"
   ]
  },
  {
   "cell_type": "code",
   "execution_count": 50,
   "metadata": {},
   "outputs": [],
   "source": [
    "test0.getExperiment()"
   ]
  },
  {
   "cell_type": "code",
   "execution_count": 22,
   "metadata": {},
   "outputs": [
    {
     "name": "stdout",
     "output_type": "stream",
     "text": [
      "Generation types:\n",
      "1 : Random (default)\n",
      "2 : LHS\n",
      "3 : LowDiscrepancySequence\n",
      "4 : SimulatedAnnealingLHS\n"
     ]
    }
   ],
   "source": [
    "test = ngpeg.NdGaussianProcessExperiment()"
   ]
  },
  {
   "cell_type": "code",
   "execution_count": 23,
   "metadata": {},
   "outputs": [],
   "source": [
    "test.setSampleSize(100)"
   ]
  },
  {
   "cell_type": "code",
   "execution_count": 24,
   "metadata": {},
   "outputs": [],
   "source": [
    "test.setOTPyFunctionWrapper(processSensitivityAnalysis.wrappedFunction)"
   ]
  },
  {
   "cell_type": "code",
   "execution_count": 25,
   "metadata": {},
   "outputs": [],
   "source": [
    "test.setGenType(1)\n",
    "test.generateSample()"
   ]
  },
  {
   "cell_type": "code",
   "execution_count": 26,
   "metadata": {},
   "outputs": [],
   "source": [
    "test.setGenType(2)\n",
    "test.generateSample()"
   ]
  },
  {
   "cell_type": "code",
   "execution_count": 27,
   "metadata": {},
   "outputs": [],
   "source": [
    "test.setGenType(3)\n",
    "test.generateSample(sequence='Halton')"
   ]
  },
  {
   "cell_type": "code",
   "execution_count": 28,
   "metadata": {},
   "outputs": [
    {
     "name": "stdout",
     "output_type": "stream",
     "text": [
      "undefined parameter 'SpaceFilling', setting to default 'SpaceFillingC2'\n",
      "undefined parameter 'TemperatureProfile', setting default GeometricProfile\n"
     ]
    }
   ],
   "source": [
    "test.setGenType(4)\n",
    "arr=test.generateSample()"
   ]
  },
  {
   "cell_type": "code",
   "execution_count": 29,
   "metadata": {},
   "outputs": [
    {
     "name": "stdout",
     "output_type": "stream",
     "text": [
      "['E_', 'D_', 'Rho', 'FP', 'FN']\n",
      "['E_xi_0', 'E_xi_1', 'E_xi_2', 'E_xi_3', 'E_xi_4', 'E_xi_5', 'E_xi_6', 'E_xi_7', 'D_xi_0', 'D_xi_1', 'D_xi_2', 'D_xi_3', 'D_xi_4', 'D_xi_5', 'D_xi_6', 'D_xi_7', 'D_xi_8', 'D_xi_9', 'D_xi_10', 'D_xi_11', 'D_xi_12', 'Rho', 'FP', 'FN']\n"
     ]
    }
   ],
   "source": [
    "print(test.inputVarNames)\n",
    "print(test.inputVarNamesKL)\n",
    "test.getDataFieldAndRV()"
   ]
  },
  {
   "cell_type": "code",
   "execution_count": 30,
   "metadata": {},
   "outputs": [
    {
     "data": {
      "text/plain": [
       "[8, 13, 1, 1, 1]"
      ]
     },
     "execution_count": 30,
     "metadata": {},
     "output_type": "execute_result"
    }
   ],
   "source": [
    "test.dataMixSamples"
   ]
  },
  {
   "cell_type": "code",
   "execution_count": 31,
   "metadata": {},
   "outputs": [
    {
     "data": {
      "text/plain": [
       "(100, 24)"
      ]
     },
     "execution_count": 31,
     "metadata": {},
     "output_type": "execute_result"
    }
   ],
   "source": [
    "test.sample_A.shape"
   ]
  },
  {
   "cell_type": "code",
   "execution_count": 32,
   "metadata": {},
   "outputs": [],
   "source": [
    "test.getExperiment()"
   ]
  },
  {
   "cell_type": "code",
   "execution_count": 33,
   "metadata": {},
   "outputs": [
    {
     "data": {
      "text/plain": [
       "(700, 24)"
      ]
     },
     "execution_count": 33,
     "metadata": {},
     "output_type": "execute_result"
    }
   ],
   "source": [
    "test.experimentSample.shape"
   ]
  },
  {
   "cell_type": "code",
   "execution_count": 34,
   "metadata": {},
   "outputs": [
    {
     "data": {
      "text/plain": [
       "array([ 0,  1,  2,  3,  4,  5,  6,  7,  8,  9, 10, 11, 12, 13, 14, 15, 16,\n",
       "       17, 18, 19, 20, 21, 22, 23])"
      ]
     },
     "execution_count": 34,
     "metadata": {},
     "output_type": "execute_result"
    }
   ],
   "source": [
    "np.unique(np.argwhere(test.experimentSample[100:200,...]==test.sample_B)[...,1])"
   ]
  },
  {
   "cell_type": "code",
   "execution_count": 35,
   "metadata": {},
   "outputs": [
    {
     "data": {
      "text/plain": [
       "array([0, 1, 2, 3, 4, 5, 6, 7])"
      ]
     },
     "execution_count": 35,
     "metadata": {},
     "output_type": "execute_result"
    }
   ],
   "source": [
    "np.unique(np.argwhere(test.experimentSample[200:300,...]==test.sample_B)[...,1])"
   ]
  },
  {
   "cell_type": "code",
   "execution_count": 36,
   "metadata": {},
   "outputs": [
    {
     "data": {
      "text/plain": [
       "array([ 8,  9, 10, 11, 12, 13, 14, 15, 16, 17, 18, 19, 20])"
      ]
     },
     "execution_count": 36,
     "metadata": {},
     "output_type": "execute_result"
    }
   ],
   "source": [
    "np.unique(np.argwhere(test.experimentSample[300:400,...]==test.sample_B)[...,1])"
   ]
  },
  {
   "cell_type": "code",
   "execution_count": 37,
   "metadata": {},
   "outputs": [
    {
     "data": {
      "text/plain": [
       "array([21])"
      ]
     },
     "execution_count": 37,
     "metadata": {},
     "output_type": "execute_result"
    }
   ],
   "source": [
    "np.unique(np.argwhere(test.experimentSample[400:500,...]==test.sample_B)[...,1])"
   ]
  },
  {
   "cell_type": "code",
   "execution_count": 38,
   "metadata": {},
   "outputs": [
    {
     "data": {
      "text/plain": [
       "array([22])"
      ]
     },
     "execution_count": 38,
     "metadata": {},
     "output_type": "execute_result"
    }
   ],
   "source": [
    "np.unique(np.argwhere(test.experimentSample[500:600,...]==test.sample_B)[...,1])"
   ]
  },
  {
   "cell_type": "code",
   "execution_count": 39,
   "metadata": {},
   "outputs": [
    {
     "data": {
      "text/plain": [
       "array([23])"
      ]
     },
     "execution_count": 39,
     "metadata": {},
     "output_type": "execute_result"
    }
   ],
   "source": [
    "np.unique(np.argwhere(test.experimentSample[600:700,...]==test.sample_B)[...,1])"
   ]
  },
  {
   "cell_type": "markdown",
   "metadata": {},
   "source": [
    "Everything works alright, we get our samples as expected."
   ]
  },
  {
   "cell_type": "code",
   "execution_count": null,
   "metadata": {},
   "outputs": [],
   "source": []
  }
 ],
 "metadata": {
  "kernelspec": {
   "display_name": "Python 3",
   "language": "python",
   "name": "python3"
  },
  "language_info": {
   "codemirror_mode": {
    "name": "ipython",
    "version": 3
   },
   "file_extension": ".py",
   "mimetype": "text/x-python",
   "name": "python",
   "nbconvert_exporter": "python",
   "pygments_lexer": "ipython3",
   "version": "3.6.7"
  }
 },
 "nbformat": 4,
 "nbformat_minor": 4
}
