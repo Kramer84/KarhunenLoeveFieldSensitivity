{
 "cells": [
  {
   "cell_type": "code",
   "execution_count": 1,
   "metadata": {},
   "outputs": [],
   "source": [
    "try:\n",
    "    import anastruct, openturns, numba, joblib\n",
    "except:\n",
    "    import os\n",
    "    if os.sys.platform == 'linux' :\n",
    "        file_path = 'sensitivityEnv.yml'\n",
    "        os.system('conda env create -f'+file_path)\n",
    "        # to have the right modules installed\n",
    "        print('now activate the environment and restart jupyter with other kernel')\n",
    "    else :\n",
    "        print('Do it alone')"
   ]
  },
  {
   "cell_type": "code",
   "execution_count": 2,
   "metadata": {},
   "outputs": [
    {
     "name": "stdout",
     "output_type": "stream",
     "text": [
      "trend function args:  ['x']  trend function:  210000 \n",
      "\n",
      "Please be aware that the number of elements in the argument list has to be the same as the dimension of the process:  1\n",
      "trend function args:  ['x']  trend function:  10 \n",
      "\n",
      "Please be aware that the number of elements in the argument list has to be the same as the dimension of the process:  1\n",
      "Populating the interactive namespace from numpy and matplotlib\n"
     ]
    }
   ],
   "source": [
    "import NdGaussianProcessSensitivity_MOD as ngps\n",
    "import NdGaussianProcessConstructor as ngpc\n",
    "# Classes utilitaires\n",
    "import numpy                        as np\n",
    "import openturns                    as ot\n",
    "import matplotlib.pyplot            as plt\n",
    "from   importlib                import reload \n",
    "\n",
    "# on importe aussi les fonctions à étudier\n",
    "import RandomBeamGenerationClass    as rbgc\n",
    "\n",
    "%pylab inline\n",
    "pylab.rcParams['figure.figsize'] = (13, 5)"
   ]
  },
  {
   "cell_type": "code",
   "execution_count": 3,
   "metadata": {},
   "outputs": [
    {
     "name": "stdout",
     "output_type": "stream",
     "text": [
      "trend function args:  ['x']  trend function:  210000 \n",
      "\n",
      "Please be aware that the number of elements in the argument list has to be the same as the dimension of the process:  1\n",
      "trend function args:  ['x']  trend function:  10 \n",
      "\n",
      "Please be aware that the number of elements in the argument list has to be the same as the dimension of the process:  1\n"
     ]
    }
   ],
   "source": [
    "# process governing the young modulus for each element      (MPa)\n",
    "process_E = ngpc.NdGaussianProcessConstructor(dimension=1,\n",
    "                                              grid_shape=[[0,1000,100],],\n",
    "                                              covariance_model={'NameModel':'MaternModel',\n",
    "                                                                'amplitude':3150.,\n",
    "                                                                'scale':300,\n",
    "                                                                'nu':13/3},\n",
    "                                              trend_arguments=['x'],trend_function=210000)\n",
    "process_E.setName('E_')\n",
    "\n",
    "\n",
    "# process governing the diameter for each element          (mm)\n",
    "process_D = ngpc.NdGaussianProcessConstructor(dimension=1,\n",
    "                                              grid_shape=[[0,1000,100],],\n",
    "                                              covariance_model={'NameModel':'MaternModel',\n",
    "                                                                'amplitude':.15,\n",
    "                                                                'scale':250,\n",
    "                                                                'nu':7.4/3},\n",
    "                                              trend_arguments=['x'],trend_function=10)\n",
    "process_D.setName('D_')\n",
    "\n",
    "\n",
    "# random variable for the density of the material (kg/m³)\n",
    "rho         = 7850.\n",
    "sigma       = 117.5\n",
    "nameD       = 'Rho'\n",
    "RV_Rho = ngpc.NormalDistribution(mu = rho, sigma = sigma, name = nameD)\n",
    "\n",
    "\n",
    "# random variable for the position of the force   (mm) \n",
    "middle       = 500\n",
    "sigma_f      = 7.5\n",
    "namePos     = 'FP'\n",
    "RV_Fpos = ngpc.NormalDistribution(mu = middle, sigma = sigma_f, name = namePos)\n",
    "\n",
    "\n",
    "# random variable for the norm of the force    (N)\n",
    "muForce       = 100\n",
    "# we go from sigma = 15 to sigma = 1.5, as the influence is too important\n",
    "sigma_Fnor    = 1.5\n",
    "nameNor       = 'FN'\n",
    "RV_Fnorm = ngpc.NormalDistribution(mu = muForce, sigma = sigma_Fnor, name = nameNor)"
   ]
  },
  {
   "cell_type": "code",
   "execution_count": 4,
   "metadata": {},
   "outputs": [],
   "source": [
    "from importlib import reload\n",
    "reload(ngps)\n",
    "outputVariables = {'out1' :\n",
    "                   {\n",
    "                         'name'     : 'VonMisesStress',\n",
    "                         'position' : 0,\n",
    "                         'shape'    : (102,)  \n",
    "                    },\n",
    "                   'out2' :\n",
    "                   {\n",
    "                        'name'      : 'maxDeflection',\n",
    "                        'position'  : 1,\n",
    "                        'shape'     : (1,)\n",
    "                   }\n",
    "                  }\n",
    "#Pour utiliser notre fonction, un wrapper a été spécialement écrit pour faciliter l'accès aux fonctions mais\n",
    "#ce choix est entièrement dépendant de la manière dont a été définie la fonction sur laquelle vous travaillez.\n",
    "functionWrapper = rbgc.sampleAndSoloFunctionWrapper(process_E, process_D, RV_Rho, RV_Fpos, RV_Fnorm)\n"
   ]
  },
  {
   "cell_type": "code",
   "execution_count": 5,
   "metadata": {},
   "outputs": [
    {
     "name": "stdout",
     "output_type": "stream",
     "text": [
      "Input Variables are (without Karhunen Loeve Decomposition) :\n",
      " ['E_', 'D_', 'Rho', 'FP', 'FN'] \n",
      "\n",
      "Output Variables are :\n",
      " ['VonMisesStress', 'maxDeflection'] \n",
      "\n",
      "trend function args:  ['x']  trend function:  210000 \n",
      "\n",
      "Please be aware that the number of elements in the argument list has to be the same as the dimension of the process:  1\n",
      "trend function args:  ['x']  trend function:  10 \n",
      "\n",
      "Please be aware that the number of elements in the argument list has to be the same as the dimension of the process:  1\n"
     ]
    }
   ],
   "source": [
    "inputVarList = [process_E, process_D, RV_Rho, RV_Fpos, RV_Fnorm]\n",
    "# We also the need the two functions of the model (one for samples, the other for single evaluations)\n",
    "# In our case, as our model is defined as a class, we have to first create the model, \n",
    "# but it also could just be just two functions taking as an input the fields and RVs\n",
    "soloFunction   = functionWrapper.randomBeamFunctionSolo\n",
    "sampleFunction = functionWrapper.randomBeamFunctionSample\n",
    "##\n",
    "size           = 10000 ## Number of samples for our sobol indicies experiment (kept low here to make things faster)\n",
    "##\n",
    "reload(ngps)\n",
    "##\n",
    "processSensitivityAnalysis = ngps.NdGaussianProcessSensitivityAnalysis(inputVarList, \n",
    "                                                                       outputVariables,\n",
    "                                                                       sampleFunction,\n",
    "                                                                       soloFunction,\n",
    "                                                                       size)"
   ]
  },
  {
   "cell_type": "code",
   "execution_count": 6,
   "metadata": {
    "scrolled": true
   },
   "outputs": [
    {
     "name": "stdout",
     "output_type": "stream",
     "text": [
      "Generation types:\n",
      "1 : Random (default)\n",
      "2 : LHS\n",
      "3 : LowDiscrepancySequence\n",
      "4 : SimulatedAnnealingLHS\n",
      "Choosen generation method is Random (default)\n",
      "number of samples for sobol experiment =  70000 \n",
      "\n",
      "input design is:  [[ 8.48665236e+01  6.90071063e-01  3.83240516e+01 ...  7.87401141e+03\n",
      "   5.05421939e+02  9.75840749e+01]\n",
      " [ 8.78200369e+01  6.07561060e-01  3.85704894e+01 ...  7.95315586e+03\n",
      "   4.97851721e+02  1.01198313e+02]\n",
      " [ 8.84702893e+01  1.36249483e+00  3.73533402e+01 ...  7.73771012e+03\n",
      "   5.00051116e+02  9.86893492e+01]\n",
      " ...\n",
      " [ 8.61853898e+01 -1.42292882e+00  3.77437754e+01 ...  7.82780218e+03\n",
      "   4.96401442e+02  1.00947767e+02]\n",
      " [ 8.77319356e+01 -1.36724434e+00  3.87982374e+01 ...  7.78201210e+03\n",
      "   5.06232954e+02  9.78877494e+01]\n",
      " [ 8.62791847e+01  2.49802721e-01  3.80560573e+01 ...  7.87459873e+03\n",
      "   4.98005572e+02  9.94324296e+01]]\n"
     ]
    }
   ],
   "source": [
    "processSensitivityAnalysis.prepareSobolIndicesExperiment()"
   ]
  },
  {
   "cell_type": "code",
   "execution_count": 7,
   "metadata": {},
   "outputs": [
    {
     "name": "stderr",
     "output_type": "stream",
     "text": [
      "[Parallel(n_jobs=-1)]: Using backend LokyBackend with 8 concurrent workers.\n",
      "[Parallel(n_jobs=-1)]: Done   2 tasks      | elapsed:   12.4s\n",
      "[Parallel(n_jobs=-1)]: Done   9 tasks      | elapsed:   13.0s\n",
      "[Parallel(n_jobs=-1)]: Done  16 tasks      | elapsed:   13.3s\n",
      "[Parallel(n_jobs=-1)]: Done  25 tasks      | elapsed:   13.6s\n",
      "[Parallel(n_jobs=-1)]: Done  34 tasks      | elapsed:   14.0s\n",
      "[Parallel(n_jobs=-1)]: Done  45 tasks      | elapsed:   14.3s\n",
      "[Parallel(n_jobs=-1)]: Done  56 tasks      | elapsed:   14.7s\n",
      "[Parallel(n_jobs=-1)]: Done  69 tasks      | elapsed:   15.1s\n",
      "[Parallel(n_jobs=-1)]: Done  82 tasks      | elapsed:   15.6s\n",
      "[Parallel(n_jobs=-1)]: Done  97 tasks      | elapsed:   16.1s\n",
      "[Parallel(n_jobs=-1)]: Done 112 tasks      | elapsed:   16.5s\n",
      "[Parallel(n_jobs=-1)]: Done 129 tasks      | elapsed:   17.1s\n",
      "[Parallel(n_jobs=-1)]: Done 146 tasks      | elapsed:   17.7s\n",
      "[Parallel(n_jobs=-1)]: Done 165 tasks      | elapsed:   18.3s\n",
      "[Parallel(n_jobs=-1)]: Done 184 tasks      | elapsed:   19.0s\n",
      "[Parallel(n_jobs=-1)]: Done 205 tasks      | elapsed:   19.6s\n",
      "[Parallel(n_jobs=-1)]: Done 226 tasks      | elapsed:   20.3s\n",
      "[Parallel(n_jobs=-1)]: Done 249 tasks      | elapsed:   21.1s\n",
      "[Parallel(n_jobs=-1)]: Done 272 tasks      | elapsed:   21.8s\n",
      "[Parallel(n_jobs=-1)]: Done 297 tasks      | elapsed:   22.7s\n",
      "[Parallel(n_jobs=-1)]: Done 322 tasks      | elapsed:   23.5s\n",
      "[Parallel(n_jobs=-1)]: Done 349 tasks      | elapsed:   24.5s\n",
      "[Parallel(n_jobs=-1)]: Done 376 tasks      | elapsed:   25.3s\n",
      "[Parallel(n_jobs=-1)]: Done 405 tasks      | elapsed:   26.3s\n",
      "[Parallel(n_jobs=-1)]: Done 434 tasks      | elapsed:   27.3s\n",
      "[Parallel(n_jobs=-1)]: Done 465 tasks      | elapsed:   28.4s\n",
      "[Parallel(n_jobs=-1)]: Done 496 tasks      | elapsed:   29.4s\n",
      "[Parallel(n_jobs=-1)]: Done 529 tasks      | elapsed:   30.5s\n",
      "[Parallel(n_jobs=-1)]: Done 562 tasks      | elapsed:   31.7s\n",
      "[Parallel(n_jobs=-1)]: Done 597 tasks      | elapsed:   32.8s\n",
      "[Parallel(n_jobs=-1)]: Done 632 tasks      | elapsed:   34.0s\n",
      "[Parallel(n_jobs=-1)]: Done 669 tasks      | elapsed:   35.2s\n",
      "[Parallel(n_jobs=-1)]: Done 706 tasks      | elapsed:   36.5s\n",
      "[Parallel(n_jobs=-1)]: Done 745 tasks      | elapsed:   37.8s\n",
      "[Parallel(n_jobs=-1)]: Done 784 tasks      | elapsed:   39.1s\n",
      "[Parallel(n_jobs=-1)]: Done 825 tasks      | elapsed:   40.5s\n",
      "[Parallel(n_jobs=-1)]: Done 866 tasks      | elapsed:   41.9s\n",
      "[Parallel(n_jobs=-1)]: Done 909 tasks      | elapsed:   43.3s\n",
      "[Parallel(n_jobs=-1)]: Done 952 tasks      | elapsed:   44.8s\n",
      "[Parallel(n_jobs=-1)]: Done 997 tasks      | elapsed:   46.3s\n",
      "[Parallel(n_jobs=-1)]: Done 1042 tasks      | elapsed:   47.8s\n",
      "[Parallel(n_jobs=-1)]: Done 1089 tasks      | elapsed:   49.4s\n",
      "[Parallel(n_jobs=-1)]: Done 1136 tasks      | elapsed:   50.9s\n",
      "[Parallel(n_jobs=-1)]: Done 1185 tasks      | elapsed:   52.5s\n",
      "[Parallel(n_jobs=-1)]: Done 1234 tasks      | elapsed:   54.2s\n",
      "[Parallel(n_jobs=-1)]: Done 1285 tasks      | elapsed:   55.9s\n",
      "[Parallel(n_jobs=-1)]: Done 1336 tasks      | elapsed:   57.5s\n",
      "[Parallel(n_jobs=-1)]: Done 1389 tasks      | elapsed:   59.2s\n",
      "[Parallel(n_jobs=-1)]: Done 1442 tasks      | elapsed:  1.0min\n",
      "[Parallel(n_jobs=-1)]: Done 1497 tasks      | elapsed:  1.0min\n",
      "[Parallel(n_jobs=-1)]: Done 1552 tasks      | elapsed:  1.1min\n",
      "[Parallel(n_jobs=-1)]: Done 1609 tasks      | elapsed:  1.1min\n",
      "[Parallel(n_jobs=-1)]: Done 1666 tasks      | elapsed:  1.1min\n",
      "[Parallel(n_jobs=-1)]: Done 1725 tasks      | elapsed:  1.2min\n",
      "[Parallel(n_jobs=-1)]: Done 1784 tasks      | elapsed:  1.2min\n",
      "[Parallel(n_jobs=-1)]: Done 1845 tasks      | elapsed:  1.2min\n",
      "[Parallel(n_jobs=-1)]: Done 1906 tasks      | elapsed:  1.3min\n",
      "[Parallel(n_jobs=-1)]: Done 1969 tasks      | elapsed:  1.3min\n",
      "[Parallel(n_jobs=-1)]: Done 2032 tasks      | elapsed:  1.3min\n",
      "[Parallel(n_jobs=-1)]: Done 2097 tasks      | elapsed:  1.4min\n",
      "[Parallel(n_jobs=-1)]: Done 2162 tasks      | elapsed:  1.4min\n",
      "[Parallel(n_jobs=-1)]: Done 2229 tasks      | elapsed:  1.5min\n",
      "[Parallel(n_jobs=-1)]: Done 2296 tasks      | elapsed:  1.5min\n",
      "[Parallel(n_jobs=-1)]: Done 2365 tasks      | elapsed:  1.5min\n",
      "[Parallel(n_jobs=-1)]: Done 2434 tasks      | elapsed:  1.6min\n",
      "[Parallel(n_jobs=-1)]: Done 2505 tasks      | elapsed:  1.6min\n",
      "[Parallel(n_jobs=-1)]: Done 2576 tasks      | elapsed:  1.6min\n",
      "[Parallel(n_jobs=-1)]: Done 2649 tasks      | elapsed:  1.7min\n",
      "[Parallel(n_jobs=-1)]: Done 2722 tasks      | elapsed:  1.7min\n",
      "[Parallel(n_jobs=-1)]: Done 2797 tasks      | elapsed:  1.8min\n",
      "[Parallel(n_jobs=-1)]: Done 2872 tasks      | elapsed:  1.8min\n",
      "[Parallel(n_jobs=-1)]: Done 2949 tasks      | elapsed:  1.8min\n",
      "[Parallel(n_jobs=-1)]: Done 3026 tasks      | elapsed:  1.9min\n",
      "[Parallel(n_jobs=-1)]: Done 3105 tasks      | elapsed:  1.9min\n",
      "[Parallel(n_jobs=-1)]: Done 3184 tasks      | elapsed:  2.0min\n",
      "[Parallel(n_jobs=-1)]: Done 3265 tasks      | elapsed:  2.0min\n",
      "[Parallel(n_jobs=-1)]: Done 3346 tasks      | elapsed:  2.1min\n",
      "[Parallel(n_jobs=-1)]: Done 3429 tasks      | elapsed:  2.1min\n",
      "[Parallel(n_jobs=-1)]: Done 3512 tasks      | elapsed:  2.2min\n",
      "[Parallel(n_jobs=-1)]: Done 3597 tasks      | elapsed:  2.2min\n",
      "[Parallel(n_jobs=-1)]: Done 3682 tasks      | elapsed:  2.3min\n",
      "[Parallel(n_jobs=-1)]: Done 3769 tasks      | elapsed:  2.3min\n",
      "[Parallel(n_jobs=-1)]: Done 3856 tasks      | elapsed:  2.3min\n",
      "[Parallel(n_jobs=-1)]: Done 3945 tasks      | elapsed:  2.4min\n",
      "[Parallel(n_jobs=-1)]: Done 4034 tasks      | elapsed:  2.4min\n",
      "[Parallel(n_jobs=-1)]: Done 4125 tasks      | elapsed:  2.5min\n",
      "[Parallel(n_jobs=-1)]: Done 4216 tasks      | elapsed:  2.5min\n",
      "[Parallel(n_jobs=-1)]: Done 4309 tasks      | elapsed:  2.6min\n",
      "[Parallel(n_jobs=-1)]: Done 4402 tasks      | elapsed:  2.6min\n",
      "[Parallel(n_jobs=-1)]: Done 4497 tasks      | elapsed:  2.7min\n",
      "[Parallel(n_jobs=-1)]: Done 4592 tasks      | elapsed:  2.8min\n",
      "[Parallel(n_jobs=-1)]: Done 4689 tasks      | elapsed:  2.8min\n",
      "[Parallel(n_jobs=-1)]: Done 4786 tasks      | elapsed:  2.9min\n",
      "[Parallel(n_jobs=-1)]: Done 4885 tasks      | elapsed:  2.9min\n",
      "[Parallel(n_jobs=-1)]: Done 4984 tasks      | elapsed:  3.0min\n",
      "[Parallel(n_jobs=-1)]: Done 5085 tasks      | elapsed:  3.0min\n",
      "[Parallel(n_jobs=-1)]: Done 5186 tasks      | elapsed:  3.1min\n",
      "[Parallel(n_jobs=-1)]: Done 5289 tasks      | elapsed:  3.1min\n",
      "[Parallel(n_jobs=-1)]: Done 5392 tasks      | elapsed:  3.2min\n",
      "[Parallel(n_jobs=-1)]: Done 5497 tasks      | elapsed:  3.3min\n",
      "[Parallel(n_jobs=-1)]: Done 5602 tasks      | elapsed:  3.3min\n",
      "[Parallel(n_jobs=-1)]: Done 5709 tasks      | elapsed:  3.4min\n",
      "[Parallel(n_jobs=-1)]: Done 5816 tasks      | elapsed:  3.4min\n",
      "[Parallel(n_jobs=-1)]: Done 5925 tasks      | elapsed:  3.5min\n",
      "[Parallel(n_jobs=-1)]: Done 6034 tasks      | elapsed:  3.6min\n",
      "[Parallel(n_jobs=-1)]: Done 6145 tasks      | elapsed:  3.6min\n",
      "[Parallel(n_jobs=-1)]: Done 6256 tasks      | elapsed:  3.7min\n",
      "[Parallel(n_jobs=-1)]: Done 6369 tasks      | elapsed:  3.7min\n",
      "[Parallel(n_jobs=-1)]: Done 6482 tasks      | elapsed:  3.8min\n",
      "[Parallel(n_jobs=-1)]: Done 6597 tasks      | elapsed:  3.9min\n",
      "[Parallel(n_jobs=-1)]: Done 6712 tasks      | elapsed:  3.9min\n",
      "[Parallel(n_jobs=-1)]: Done 6829 tasks      | elapsed:  4.0min\n",
      "[Parallel(n_jobs=-1)]: Done 6946 tasks      | elapsed:  4.1min\n",
      "[Parallel(n_jobs=-1)]: Done 7065 tasks      | elapsed:  4.2min\n",
      "[Parallel(n_jobs=-1)]: Done 7184 tasks      | elapsed:  4.2min\n",
      "[Parallel(n_jobs=-1)]: Done 7305 tasks      | elapsed:  4.3min\n",
      "[Parallel(n_jobs=-1)]: Done 7426 tasks      | elapsed:  4.4min\n",
      "[Parallel(n_jobs=-1)]: Done 7549 tasks      | elapsed:  4.5min\n",
      "[Parallel(n_jobs=-1)]: Done 7672 tasks      | elapsed:  4.6min\n",
      "[Parallel(n_jobs=-1)]: Done 7797 tasks      | elapsed:  4.6min\n",
      "[Parallel(n_jobs=-1)]: Done 7922 tasks      | elapsed:  4.7min\n",
      "[Parallel(n_jobs=-1)]: Done 8049 tasks      | elapsed:  4.8min\n",
      "[Parallel(n_jobs=-1)]: Done 8176 tasks      | elapsed:  4.9min\n",
      "[Parallel(n_jobs=-1)]: Done 8305 tasks      | elapsed:  5.0min\n",
      "[Parallel(n_jobs=-1)]: Done 8434 tasks      | elapsed:  5.1min\n",
      "[Parallel(n_jobs=-1)]: Done 8565 tasks      | elapsed:  5.2min\n",
      "[Parallel(n_jobs=-1)]: Done 8696 tasks      | elapsed:  5.3min\n",
      "[Parallel(n_jobs=-1)]: Done 8829 tasks      | elapsed:  5.4min\n",
      "[Parallel(n_jobs=-1)]: Done 8962 tasks      | elapsed:  5.5min\n",
      "[Parallel(n_jobs=-1)]: Done 9097 tasks      | elapsed:  5.6min\n"
     ]
    },
    {
     "name": "stderr",
     "output_type": "stream",
     "text": [
      "[Parallel(n_jobs=-1)]: Done 9232 tasks      | elapsed:  5.6min\n",
      "[Parallel(n_jobs=-1)]: Done 9369 tasks      | elapsed:  5.7min\n",
      "[Parallel(n_jobs=-1)]: Done 9506 tasks      | elapsed:  5.8min\n",
      "[Parallel(n_jobs=-1)]: Done 9645 tasks      | elapsed:  5.9min\n",
      "[Parallel(n_jobs=-1)]: Done 9784 tasks      | elapsed:  6.0min\n",
      "[Parallel(n_jobs=-1)]: Done 9925 tasks      | elapsed:  6.1min\n",
      "[Parallel(n_jobs=-1)]: Done 10066 tasks      | elapsed:  6.1min\n",
      "[Parallel(n_jobs=-1)]: Done 10209 tasks      | elapsed:  6.2min\n",
      "[Parallel(n_jobs=-1)]: Done 10352 tasks      | elapsed:  6.3min\n",
      "[Parallel(n_jobs=-1)]: Done 10497 tasks      | elapsed:  6.4min\n",
      "[Parallel(n_jobs=-1)]: Done 10642 tasks      | elapsed:  6.5min\n",
      "[Parallel(n_jobs=-1)]: Done 10789 tasks      | elapsed:  6.6min\n",
      "[Parallel(n_jobs=-1)]: Done 10936 tasks      | elapsed:  6.7min\n",
      "[Parallel(n_jobs=-1)]: Done 11085 tasks      | elapsed:  6.8min\n",
      "[Parallel(n_jobs=-1)]: Done 11234 tasks      | elapsed:  6.8min\n",
      "[Parallel(n_jobs=-1)]: Done 11385 tasks      | elapsed:  6.9min\n",
      "[Parallel(n_jobs=-1)]: Done 11536 tasks      | elapsed:  7.0min\n",
      "[Parallel(n_jobs=-1)]: Done 11689 tasks      | elapsed:  7.1min\n",
      "[Parallel(n_jobs=-1)]: Done 11842 tasks      | elapsed:  7.2min\n",
      "[Parallel(n_jobs=-1)]: Done 11997 tasks      | elapsed:  7.3min\n",
      "[Parallel(n_jobs=-1)]: Done 12152 tasks      | elapsed:  7.4min\n",
      "[Parallel(n_jobs=-1)]: Done 12309 tasks      | elapsed:  7.5min\n",
      "[Parallel(n_jobs=-1)]: Done 12466 tasks      | elapsed:  7.6min\n",
      "[Parallel(n_jobs=-1)]: Done 12625 tasks      | elapsed:  7.7min\n",
      "[Parallel(n_jobs=-1)]: Done 12784 tasks      | elapsed:  7.8min\n",
      "[Parallel(n_jobs=-1)]: Done 12945 tasks      | elapsed:  7.9min\n",
      "[Parallel(n_jobs=-1)]: Done 13106 tasks      | elapsed:  8.0min\n",
      "[Parallel(n_jobs=-1)]: Done 13269 tasks      | elapsed:  8.1min\n",
      "[Parallel(n_jobs=-1)]: Done 13432 tasks      | elapsed:  8.2min\n",
      "[Parallel(n_jobs=-1)]: Done 13597 tasks      | elapsed:  8.3min\n",
      "[Parallel(n_jobs=-1)]: Done 13762 tasks      | elapsed:  8.4min\n",
      "[Parallel(n_jobs=-1)]: Done 13929 tasks      | elapsed:  8.5min\n",
      "[Parallel(n_jobs=-1)]: Done 14096 tasks      | elapsed:  8.6min\n",
      "[Parallel(n_jobs=-1)]: Done 14265 tasks      | elapsed:  8.7min\n",
      "[Parallel(n_jobs=-1)]: Done 14434 tasks      | elapsed:  8.8min\n",
      "[Parallel(n_jobs=-1)]: Done 14605 tasks      | elapsed:  8.9min\n",
      "[Parallel(n_jobs=-1)]: Done 14776 tasks      | elapsed:  9.0min\n",
      "[Parallel(n_jobs=-1)]: Done 14949 tasks      | elapsed:  9.1min\n",
      "[Parallel(n_jobs=-1)]: Done 15122 tasks      | elapsed:  9.2min\n",
      "[Parallel(n_jobs=-1)]: Done 15297 tasks      | elapsed:  9.3min\n",
      "[Parallel(n_jobs=-1)]: Done 15472 tasks      | elapsed:  9.5min\n",
      "[Parallel(n_jobs=-1)]: Done 15649 tasks      | elapsed:  9.6min\n",
      "[Parallel(n_jobs=-1)]: Done 15826 tasks      | elapsed:  9.7min\n",
      "[Parallel(n_jobs=-1)]: Done 16005 tasks      | elapsed:  9.8min\n",
      "[Parallel(n_jobs=-1)]: Done 16184 tasks      | elapsed:  9.9min\n",
      "[Parallel(n_jobs=-1)]: Done 16365 tasks      | elapsed: 10.0min\n",
      "[Parallel(n_jobs=-1)]: Done 16546 tasks      | elapsed: 10.1min\n",
      "[Parallel(n_jobs=-1)]: Done 16729 tasks      | elapsed: 10.2min\n",
      "[Parallel(n_jobs=-1)]: Done 16912 tasks      | elapsed: 10.3min\n",
      "[Parallel(n_jobs=-1)]: Done 17097 tasks      | elapsed: 10.5min\n",
      "[Parallel(n_jobs=-1)]: Done 17282 tasks      | elapsed: 10.6min\n",
      "[Parallel(n_jobs=-1)]: Done 17469 tasks      | elapsed: 10.7min\n",
      "[Parallel(n_jobs=-1)]: Done 17656 tasks      | elapsed: 10.8min\n",
      "[Parallel(n_jobs=-1)]: Done 17845 tasks      | elapsed: 10.9min\n",
      "[Parallel(n_jobs=-1)]: Done 18034 tasks      | elapsed: 11.0min\n",
      "[Parallel(n_jobs=-1)]: Done 18225 tasks      | elapsed: 11.1min\n",
      "[Parallel(n_jobs=-1)]: Done 18416 tasks      | elapsed: 11.3min\n",
      "[Parallel(n_jobs=-1)]: Done 18609 tasks      | elapsed: 11.4min\n",
      "[Parallel(n_jobs=-1)]: Done 18802 tasks      | elapsed: 11.5min\n",
      "[Parallel(n_jobs=-1)]: Done 18997 tasks      | elapsed: 11.6min\n",
      "[Parallel(n_jobs=-1)]: Done 19192 tasks      | elapsed: 11.7min\n",
      "[Parallel(n_jobs=-1)]: Done 19389 tasks      | elapsed: 11.9min\n",
      "[Parallel(n_jobs=-1)]: Done 19586 tasks      | elapsed: 12.0min\n",
      "[Parallel(n_jobs=-1)]: Done 19785 tasks      | elapsed: 12.1min\n",
      "[Parallel(n_jobs=-1)]: Done 19984 tasks      | elapsed: 12.2min\n",
      "[Parallel(n_jobs=-1)]: Done 20185 tasks      | elapsed: 12.4min\n",
      "[Parallel(n_jobs=-1)]: Done 20386 tasks      | elapsed: 12.5min\n",
      "[Parallel(n_jobs=-1)]: Done 20589 tasks      | elapsed: 12.6min\n",
      "[Parallel(n_jobs=-1)]: Done 20792 tasks      | elapsed: 12.7min\n",
      "[Parallel(n_jobs=-1)]: Done 20997 tasks      | elapsed: 12.8min\n",
      "[Parallel(n_jobs=-1)]: Done 21202 tasks      | elapsed: 12.9min\n",
      "[Parallel(n_jobs=-1)]: Done 21409 tasks      | elapsed: 13.1min\n",
      "[Parallel(n_jobs=-1)]: Done 21616 tasks      | elapsed: 13.2min\n",
      "[Parallel(n_jobs=-1)]: Done 21825 tasks      | elapsed: 13.3min\n",
      "[Parallel(n_jobs=-1)]: Done 22034 tasks      | elapsed: 13.4min\n",
      "[Parallel(n_jobs=-1)]: Done 22245 tasks      | elapsed: 13.6min\n",
      "[Parallel(n_jobs=-1)]: Done 22456 tasks      | elapsed: 13.7min\n",
      "[Parallel(n_jobs=-1)]: Done 22669 tasks      | elapsed: 13.8min\n",
      "[Parallel(n_jobs=-1)]: Done 22882 tasks      | elapsed: 13.9min\n",
      "[Parallel(n_jobs=-1)]: Done 23097 tasks      | elapsed: 14.1min\n",
      "[Parallel(n_jobs=-1)]: Done 23312 tasks      | elapsed: 14.2min\n",
      "[Parallel(n_jobs=-1)]: Done 23529 tasks      | elapsed: 14.3min\n",
      "[Parallel(n_jobs=-1)]: Done 23746 tasks      | elapsed: 14.4min\n",
      "[Parallel(n_jobs=-1)]: Done 23965 tasks      | elapsed: 14.6min\n",
      "[Parallel(n_jobs=-1)]: Done 24184 tasks      | elapsed: 14.7min\n",
      "[Parallel(n_jobs=-1)]: Done 24405 tasks      | elapsed: 14.8min\n",
      "[Parallel(n_jobs=-1)]: Done 24626 tasks      | elapsed: 15.0min\n",
      "[Parallel(n_jobs=-1)]: Done 24849 tasks      | elapsed: 15.1min\n",
      "[Parallel(n_jobs=-1)]: Done 25072 tasks      | elapsed: 15.2min\n",
      "[Parallel(n_jobs=-1)]: Done 25297 tasks      | elapsed: 15.3min\n",
      "[Parallel(n_jobs=-1)]: Done 25522 tasks      | elapsed: 15.5min\n",
      "[Parallel(n_jobs=-1)]: Done 25749 tasks      | elapsed: 15.6min\n",
      "[Parallel(n_jobs=-1)]: Done 25976 tasks      | elapsed: 15.7min\n",
      "[Parallel(n_jobs=-1)]: Done 26205 tasks      | elapsed: 15.9min\n",
      "[Parallel(n_jobs=-1)]: Done 26434 tasks      | elapsed: 16.0min\n",
      "[Parallel(n_jobs=-1)]: Done 26665 tasks      | elapsed: 16.2min\n",
      "[Parallel(n_jobs=-1)]: Done 26896 tasks      | elapsed: 16.3min\n",
      "[Parallel(n_jobs=-1)]: Done 27129 tasks      | elapsed: 16.5min\n",
      "[Parallel(n_jobs=-1)]: Done 27362 tasks      | elapsed: 16.6min\n",
      "[Parallel(n_jobs=-1)]: Done 27597 tasks      | elapsed: 16.8min\n",
      "[Parallel(n_jobs=-1)]: Done 27832 tasks      | elapsed: 16.9min\n",
      "[Parallel(n_jobs=-1)]: Done 28069 tasks      | elapsed: 17.0min\n",
      "[Parallel(n_jobs=-1)]: Done 28306 tasks      | elapsed: 17.2min\n",
      "[Parallel(n_jobs=-1)]: Done 28545 tasks      | elapsed: 17.3min\n",
      "[Parallel(n_jobs=-1)]: Done 28784 tasks      | elapsed: 17.5min\n",
      "[Parallel(n_jobs=-1)]: Done 29025 tasks      | elapsed: 17.6min\n",
      "[Parallel(n_jobs=-1)]: Done 29266 tasks      | elapsed: 17.8min\n",
      "[Parallel(n_jobs=-1)]: Done 29509 tasks      | elapsed: 17.9min\n",
      "[Parallel(n_jobs=-1)]: Done 29752 tasks      | elapsed: 18.1min\n",
      "[Parallel(n_jobs=-1)]: Done 29997 tasks      | elapsed: 18.2min\n",
      "[Parallel(n_jobs=-1)]: Done 30242 tasks      | elapsed: 18.3min\n",
      "[Parallel(n_jobs=-1)]: Done 30489 tasks      | elapsed: 18.5min\n",
      "[Parallel(n_jobs=-1)]: Done 30736 tasks      | elapsed: 18.6min\n",
      "[Parallel(n_jobs=-1)]: Done 30985 tasks      | elapsed: 18.8min\n",
      "[Parallel(n_jobs=-1)]: Done 31234 tasks      | elapsed: 18.9min\n",
      "[Parallel(n_jobs=-1)]: Done 31485 tasks      | elapsed: 19.1min\n",
      "[Parallel(n_jobs=-1)]: Done 31736 tasks      | elapsed: 19.2min\n",
      "[Parallel(n_jobs=-1)]: Done 31989 tasks      | elapsed: 19.4min\n",
      "[Parallel(n_jobs=-1)]: Done 32242 tasks      | elapsed: 19.5min\n",
      "[Parallel(n_jobs=-1)]: Done 32497 tasks      | elapsed: 19.7min\n",
      "[Parallel(n_jobs=-1)]: Done 32752 tasks      | elapsed: 19.8min\n",
      "[Parallel(n_jobs=-1)]: Done 33009 tasks      | elapsed: 20.0min\n",
      "[Parallel(n_jobs=-1)]: Done 33266 tasks      | elapsed: 20.1min\n",
      "[Parallel(n_jobs=-1)]: Done 33525 tasks      | elapsed: 20.3min\n",
      "[Parallel(n_jobs=-1)]: Done 33784 tasks      | elapsed: 20.4min\n",
      "[Parallel(n_jobs=-1)]: Done 34045 tasks      | elapsed: 20.6min\n",
      "[Parallel(n_jobs=-1)]: Done 34306 tasks      | elapsed: 20.7min\n",
      "[Parallel(n_jobs=-1)]: Done 34569 tasks      | elapsed: 20.9min\n",
      "[Parallel(n_jobs=-1)]: Done 34832 tasks      | elapsed: 21.1min\n"
     ]
    },
    {
     "name": "stderr",
     "output_type": "stream",
     "text": [
      "[Parallel(n_jobs=-1)]: Done 35097 tasks      | elapsed: 21.2min\n",
      "[Parallel(n_jobs=-1)]: Done 35362 tasks      | elapsed: 21.4min\n",
      "[Parallel(n_jobs=-1)]: Done 35629 tasks      | elapsed: 21.5min\n",
      "[Parallel(n_jobs=-1)]: Done 35896 tasks      | elapsed: 21.7min\n",
      "[Parallel(n_jobs=-1)]: Done 36165 tasks      | elapsed: 21.9min\n",
      "[Parallel(n_jobs=-1)]: Done 36434 tasks      | elapsed: 22.0min\n",
      "[Parallel(n_jobs=-1)]: Done 36705 tasks      | elapsed: 22.2min\n",
      "[Parallel(n_jobs=-1)]: Done 36976 tasks      | elapsed: 22.3min\n",
      "[Parallel(n_jobs=-1)]: Done 37249 tasks      | elapsed: 22.5min\n",
      "[Parallel(n_jobs=-1)]: Done 37522 tasks      | elapsed: 22.7min\n",
      "[Parallel(n_jobs=-1)]: Done 37797 tasks      | elapsed: 22.8min\n",
      "[Parallel(n_jobs=-1)]: Done 38072 tasks      | elapsed: 23.0min\n",
      "[Parallel(n_jobs=-1)]: Done 38349 tasks      | elapsed: 23.2min\n",
      "[Parallel(n_jobs=-1)]: Done 38626 tasks      | elapsed: 23.3min\n",
      "[Parallel(n_jobs=-1)]: Done 38905 tasks      | elapsed: 23.5min\n",
      "[Parallel(n_jobs=-1)]: Done 39184 tasks      | elapsed: 23.7min\n",
      "[Parallel(n_jobs=-1)]: Done 39465 tasks      | elapsed: 23.8min\n",
      "[Parallel(n_jobs=-1)]: Done 39746 tasks      | elapsed: 24.0min\n",
      "[Parallel(n_jobs=-1)]: Done 40029 tasks      | elapsed: 24.2min\n",
      "[Parallel(n_jobs=-1)]: Done 40312 tasks      | elapsed: 24.4min\n",
      "[Parallel(n_jobs=-1)]: Done 40597 tasks      | elapsed: 24.5min\n",
      "[Parallel(n_jobs=-1)]: Done 40882 tasks      | elapsed: 24.7min\n",
      "[Parallel(n_jobs=-1)]: Done 41169 tasks      | elapsed: 24.9min\n",
      "[Parallel(n_jobs=-1)]: Done 41456 tasks      | elapsed: 25.0min\n",
      "[Parallel(n_jobs=-1)]: Done 41745 tasks      | elapsed: 25.2min\n",
      "[Parallel(n_jobs=-1)]: Done 42034 tasks      | elapsed: 25.4min\n",
      "[Parallel(n_jobs=-1)]: Done 42325 tasks      | elapsed: 25.6min\n",
      "[Parallel(n_jobs=-1)]: Done 42616 tasks      | elapsed: 25.7min\n",
      "[Parallel(n_jobs=-1)]: Done 42909 tasks      | elapsed: 25.9min\n",
      "[Parallel(n_jobs=-1)]: Done 43202 tasks      | elapsed: 26.1min\n",
      "[Parallel(n_jobs=-1)]: Done 43497 tasks      | elapsed: 26.3min\n",
      "[Parallel(n_jobs=-1)]: Done 43792 tasks      | elapsed: 26.4min\n",
      "[Parallel(n_jobs=-1)]: Done 44089 tasks      | elapsed: 26.6min\n",
      "[Parallel(n_jobs=-1)]: Done 44386 tasks      | elapsed: 26.8min\n",
      "[Parallel(n_jobs=-1)]: Done 44685 tasks      | elapsed: 27.0min\n",
      "[Parallel(n_jobs=-1)]: Done 44984 tasks      | elapsed: 27.2min\n",
      "[Parallel(n_jobs=-1)]: Done 45285 tasks      | elapsed: 27.3min\n",
      "[Parallel(n_jobs=-1)]: Done 45586 tasks      | elapsed: 27.5min\n",
      "[Parallel(n_jobs=-1)]: Done 45889 tasks      | elapsed: 27.7min\n",
      "[Parallel(n_jobs=-1)]: Done 46192 tasks      | elapsed: 27.9min\n",
      "[Parallel(n_jobs=-1)]: Done 46497 tasks      | elapsed: 28.0min\n",
      "[Parallel(n_jobs=-1)]: Done 46802 tasks      | elapsed: 28.2min\n",
      "[Parallel(n_jobs=-1)]: Done 47109 tasks      | elapsed: 28.4min\n",
      "[Parallel(n_jobs=-1)]: Done 47416 tasks      | elapsed: 28.6min\n",
      "[Parallel(n_jobs=-1)]: Done 47725 tasks      | elapsed: 28.7min\n",
      "[Parallel(n_jobs=-1)]: Done 48034 tasks      | elapsed: 28.9min\n",
      "[Parallel(n_jobs=-1)]: Done 48345 tasks      | elapsed: 29.1min\n",
      "[Parallel(n_jobs=-1)]: Done 48656 tasks      | elapsed: 29.3min\n",
      "[Parallel(n_jobs=-1)]: Done 48969 tasks      | elapsed: 29.5min\n",
      "[Parallel(n_jobs=-1)]: Done 49282 tasks      | elapsed: 29.6min\n",
      "[Parallel(n_jobs=-1)]: Done 49597 tasks      | elapsed: 29.8min\n",
      "[Parallel(n_jobs=-1)]: Done 49912 tasks      | elapsed: 30.0min\n",
      "[Parallel(n_jobs=-1)]: Done 50229 tasks      | elapsed: 30.2min\n",
      "[Parallel(n_jobs=-1)]: Done 50546 tasks      | elapsed: 30.4min\n",
      "[Parallel(n_jobs=-1)]: Done 50865 tasks      | elapsed: 30.5min\n",
      "[Parallel(n_jobs=-1)]: Done 51184 tasks      | elapsed: 30.7min\n",
      "[Parallel(n_jobs=-1)]: Done 51505 tasks      | elapsed: 30.9min\n",
      "[Parallel(n_jobs=-1)]: Done 51826 tasks      | elapsed: 31.1min\n",
      "[Parallel(n_jobs=-1)]: Done 52149 tasks      | elapsed: 31.3min\n",
      "[Parallel(n_jobs=-1)]: Done 52472 tasks      | elapsed: 31.5min\n",
      "[Parallel(n_jobs=-1)]: Done 52797 tasks      | elapsed: 31.6min\n",
      "[Parallel(n_jobs=-1)]: Done 53122 tasks      | elapsed: 31.8min\n",
      "[Parallel(n_jobs=-1)]: Done 53449 tasks      | elapsed: 32.0min\n",
      "[Parallel(n_jobs=-1)]: Done 53776 tasks      | elapsed: 32.2min\n",
      "[Parallel(n_jobs=-1)]: Done 54105 tasks      | elapsed: 32.4min\n",
      "[Parallel(n_jobs=-1)]: Done 54434 tasks      | elapsed: 32.6min\n",
      "[Parallel(n_jobs=-1)]: Done 54765 tasks      | elapsed: 32.8min\n",
      "[Parallel(n_jobs=-1)]: Done 55096 tasks      | elapsed: 32.9min\n",
      "[Parallel(n_jobs=-1)]: Done 55429 tasks      | elapsed: 33.1min\n",
      "[Parallel(n_jobs=-1)]: Done 55762 tasks      | elapsed: 33.3min\n",
      "[Parallel(n_jobs=-1)]: Done 56097 tasks      | elapsed: 33.5min\n",
      "[Parallel(n_jobs=-1)]: Done 56432 tasks      | elapsed: 33.7min\n",
      "[Parallel(n_jobs=-1)]: Done 56769 tasks      | elapsed: 33.9min\n",
      "[Parallel(n_jobs=-1)]: Done 57106 tasks      | elapsed: 34.1min\n",
      "[Parallel(n_jobs=-1)]: Done 57445 tasks      | elapsed: 34.3min\n",
      "[Parallel(n_jobs=-1)]: Done 57784 tasks      | elapsed: 34.5min\n",
      "[Parallel(n_jobs=-1)]: Done 58125 tasks      | elapsed: 34.7min\n",
      "[Parallel(n_jobs=-1)]: Done 58466 tasks      | elapsed: 34.9min\n",
      "[Parallel(n_jobs=-1)]: Done 58809 tasks      | elapsed: 35.0min\n",
      "[Parallel(n_jobs=-1)]: Done 59152 tasks      | elapsed: 35.2min\n",
      "[Parallel(n_jobs=-1)]: Done 59497 tasks      | elapsed: 35.4min\n",
      "[Parallel(n_jobs=-1)]: Done 59842 tasks      | elapsed: 35.6min\n",
      "[Parallel(n_jobs=-1)]: Done 60189 tasks      | elapsed: 35.8min\n",
      "[Parallel(n_jobs=-1)]: Done 60536 tasks      | elapsed: 36.0min\n",
      "[Parallel(n_jobs=-1)]: Done 60885 tasks      | elapsed: 36.2min\n",
      "[Parallel(n_jobs=-1)]: Done 61234 tasks      | elapsed: 36.4min\n",
      "[Parallel(n_jobs=-1)]: Done 61585 tasks      | elapsed: 36.6min\n",
      "[Parallel(n_jobs=-1)]: Done 61936 tasks      | elapsed: 36.8min\n",
      "[Parallel(n_jobs=-1)]: Done 62289 tasks      | elapsed: 37.0min\n",
      "[Parallel(n_jobs=-1)]: Done 62642 tasks      | elapsed: 37.3min\n",
      "[Parallel(n_jobs=-1)]: Done 62997 tasks      | elapsed: 37.5min\n",
      "[Parallel(n_jobs=-1)]: Done 63352 tasks      | elapsed: 37.7min\n",
      "[Parallel(n_jobs=-1)]: Done 63709 tasks      | elapsed: 37.9min\n",
      "[Parallel(n_jobs=-1)]: Done 64066 tasks      | elapsed: 38.1min\n",
      "[Parallel(n_jobs=-1)]: Done 64425 tasks      | elapsed: 38.3min\n",
      "[Parallel(n_jobs=-1)]: Done 64784 tasks      | elapsed: 38.5min\n",
      "[Parallel(n_jobs=-1)]: Done 65145 tasks      | elapsed: 38.7min\n",
      "[Parallel(n_jobs=-1)]: Done 65506 tasks      | elapsed: 38.9min\n",
      "[Parallel(n_jobs=-1)]: Done 65869 tasks      | elapsed: 39.1min\n",
      "[Parallel(n_jobs=-1)]: Done 66232 tasks      | elapsed: 39.3min\n",
      "[Parallel(n_jobs=-1)]: Done 66597 tasks      | elapsed: 39.5min\n",
      "[Parallel(n_jobs=-1)]: Done 66962 tasks      | elapsed: 39.7min\n",
      "[Parallel(n_jobs=-1)]: Done 67329 tasks      | elapsed: 39.9min\n",
      "[Parallel(n_jobs=-1)]: Done 67696 tasks      | elapsed: 40.2min\n",
      "[Parallel(n_jobs=-1)]: Done 68065 tasks      | elapsed: 40.4min\n",
      "[Parallel(n_jobs=-1)]: Done 68434 tasks      | elapsed: 40.6min\n",
      "[Parallel(n_jobs=-1)]: Done 68805 tasks      | elapsed: 40.8min\n",
      "[Parallel(n_jobs=-1)]: Done 69176 tasks      | elapsed: 41.0min\n",
      "[Parallel(n_jobs=-1)]: Done 69549 tasks      | elapsed: 41.2min\n",
      "[Parallel(n_jobs=-1)]: Done 69922 tasks      | elapsed: 41.5min\n",
      "[Parallel(n_jobs=-1)]: Done 70000 out of 70000 | elapsed: 41.5min finished\n"
     ]
    },
    {
     "name": "stdout",
     "output_type": "stream",
     "text": [
      "shape deflection:  (70000, 103)  should be [N,10X] something\n",
      "deflection std deviation  nan\n",
      "timed  2491.524522066  s for function \" randomBeamFunctionSample \"\n",
      "Converting list of outputs into matrix: \n",
      "Element  1  has shape  (70000, 102)\n",
      "Element  2  has shape  (70000,)\n",
      "Final shape matrix:  (70000, 103)\n",
      "Columns where nan :  [ 1269  2065  6501 17637 18983 19499 21074 23157 26501 30711 31074 31269\n",
      " 33157 36501 41269 42065 46501 58983 61269 62065 66501] \n",
      "\n",
      "There were  21  errors (numpy.nan) while processing, trying to regenerate missing outputs \n",
      "\n",
      "index to change:  [ 1269 11269 21269 31269 41269 51269 61269]\n",
      "Generation types:\n",
      "1 : Random (default)\n",
      "2 : LHS\n",
      "3 : LowDiscrepancySequence\n",
      "4 : SimulatedAnnealingLHS\n",
      "Choosen generation method is Random (default)\n"
     ]
    },
    {
     "name": "stderr",
     "output_type": "stream",
     "text": [
      "[Parallel(n_jobs=-1)]: Using backend LokyBackend with 8 concurrent workers.\n",
      "[Parallel(n_jobs=-1)]: Done   1 tasks      | elapsed:    0.2s\n",
      "[Parallel(n_jobs=-1)]: Done   2 out of   7 | elapsed:    0.2s remaining:    0.6s\n",
      "[Parallel(n_jobs=-1)]: Done   3 out of   7 | elapsed:    0.2s remaining:    0.3s\n",
      "[Parallel(n_jobs=-1)]: Done   4 out of   7 | elapsed:    0.3s remaining:    0.2s\n",
      "[Parallel(n_jobs=-1)]: Done   5 out of   7 | elapsed:    0.3s remaining:    0.1s\n",
      "[Parallel(n_jobs=-1)]: Done   7 out of   7 | elapsed:    0.3s remaining:    0.0s\n",
      "[Parallel(n_jobs=-1)]: Done   7 out of   7 | elapsed:    0.3s finished\n",
      "[Parallel(n_jobs=-1)]: Using backend LokyBackend with 8 concurrent workers.\n"
     ]
    },
    {
     "name": "stdout",
     "output_type": "stream",
     "text": [
      "shape deflection:  (7, 103)  should be [N,10X] something\n",
      "deflection std deviation  0.687705192040281\n",
      "timed  0.311278582  s for function \" randomBeamFunctionSample \"\n",
      "Converting list of outputs into matrix: \n",
      "Element  1  has shape  (7, 102)\n",
      "Element  2  has shape  (7,)\n",
      "Final shape matrix:  (7, 103)\n",
      "index to change:  [ 2065 12065 22065 32065 42065 52065 62065]\n",
      "Generation types:\n",
      "1 : Random (default)\n",
      "2 : LHS\n",
      "3 : LowDiscrepancySequence\n",
      "4 : SimulatedAnnealingLHS\n",
      "Choosen generation method is Random (default)\n"
     ]
    },
    {
     "name": "stderr",
     "output_type": "stream",
     "text": [
      "[Parallel(n_jobs=-1)]: Done   1 tasks      | elapsed:    0.2s\n",
      "[Parallel(n_jobs=-1)]: Done   2 out of   7 | elapsed:    0.2s remaining:    0.6s\n",
      "[Parallel(n_jobs=-1)]: Done   3 out of   7 | elapsed:    0.2s remaining:    0.3s\n",
      "[Parallel(n_jobs=-1)]: Done   4 out of   7 | elapsed:    0.3s remaining:    0.2s\n",
      "[Parallel(n_jobs=-1)]: Done   5 out of   7 | elapsed:    0.3s remaining:    0.1s\n",
      "[Parallel(n_jobs=-1)]: Done   7 out of   7 | elapsed:    0.3s remaining:    0.0s\n",
      "[Parallel(n_jobs=-1)]: Done   7 out of   7 | elapsed:    0.3s finished\n",
      "[Parallel(n_jobs=-1)]: Using backend LokyBackend with 8 concurrent workers.\n"
     ]
    },
    {
     "name": "stdout",
     "output_type": "stream",
     "text": [
      "shape deflection:  (7, 103)  should be [N,10X] something\n",
      "deflection std deviation  0.24755899564639441\n",
      "timed  0.286616087  s for function \" randomBeamFunctionSample \"\n",
      "Converting list of outputs into matrix: \n",
      "Element  1  has shape  (7, 102)\n",
      "Element  2  has shape  (7,)\n",
      "Final shape matrix:  (7, 103)\n",
      "index to change:  [ 6501 16501 26501 36501 46501 56501 66501]\n",
      "Generation types:\n",
      "1 : Random (default)\n",
      "2 : LHS\n",
      "3 : LowDiscrepancySequence\n",
      "4 : SimulatedAnnealingLHS\n",
      "Choosen generation method is Random (default)\n"
     ]
    },
    {
     "name": "stderr",
     "output_type": "stream",
     "text": [
      "[Parallel(n_jobs=-1)]: Done   1 tasks      | elapsed:    0.2s\n",
      "[Parallel(n_jobs=-1)]: Done   2 out of   7 | elapsed:    0.2s remaining:    0.6s\n",
      "[Parallel(n_jobs=-1)]: Done   3 out of   7 | elapsed:    0.2s remaining:    0.3s\n",
      "[Parallel(n_jobs=-1)]: Done   4 out of   7 | elapsed:    0.2s remaining:    0.2s\n",
      "[Parallel(n_jobs=-1)]: Done   5 out of   7 | elapsed:    0.3s remaining:    0.1s\n",
      "[Parallel(n_jobs=-1)]: Done   7 out of   7 | elapsed:    0.3s remaining:    0.0s\n",
      "[Parallel(n_jobs=-1)]: Done   7 out of   7 | elapsed:    0.3s finished\n",
      "[Parallel(n_jobs=-1)]: Using backend LokyBackend with 8 concurrent workers.\n"
     ]
    },
    {
     "name": "stdout",
     "output_type": "stream",
     "text": [
      "shape deflection:  (7, 103)  should be [N,10X] something\n",
      "deflection std deviation  0.2936411019027184\n",
      "timed  0.303256989  s for function \" randomBeamFunctionSample \"\n",
      "Converting list of outputs into matrix: \n",
      "Element  1  has shape  (7, 102)\n",
      "Element  2  has shape  (7,)\n",
      "Final shape matrix:  (7, 103)\n",
      "index to change:  [ 7637 17637 27637 37637 47637 57637 67637]\n",
      "Generation types:\n",
      "1 : Random (default)\n",
      "2 : LHS\n",
      "3 : LowDiscrepancySequence\n",
      "4 : SimulatedAnnealingLHS\n",
      "Choosen generation method is Random (default)\n"
     ]
    },
    {
     "name": "stderr",
     "output_type": "stream",
     "text": [
      "[Parallel(n_jobs=-1)]: Done   1 tasks      | elapsed:    0.2s\n",
      "[Parallel(n_jobs=-1)]: Batch computation too fast (0.1896s.) Setting batch_size=2.\n",
      "[Parallel(n_jobs=-1)]: Done   2 out of   7 | elapsed:    0.2s remaining:    0.5s\n",
      "[Parallel(n_jobs=-1)]: Done   3 out of   7 | elapsed:    0.2s remaining:    0.3s\n",
      "[Parallel(n_jobs=-1)]: Done   4 out of   7 | elapsed:    0.2s remaining:    0.2s\n",
      "[Parallel(n_jobs=-1)]: Done   5 out of   7 | elapsed:    0.3s remaining:    0.1s\n",
      "[Parallel(n_jobs=-1)]: Done   7 out of   7 | elapsed:    0.3s remaining:    0.0s\n",
      "[Parallel(n_jobs=-1)]: Done   7 out of   7 | elapsed:    0.3s finished\n",
      "[Parallel(n_jobs=-1)]: Using backend LokyBackend with 8 concurrent workers.\n"
     ]
    },
    {
     "name": "stdout",
     "output_type": "stream",
     "text": [
      "shape deflection:  (7, 103)  should be [N,10X] something\n",
      "deflection std deviation  0.4442228923028508\n",
      "timed  0.284992218  s for function \" randomBeamFunctionSample \"\n",
      "Converting list of outputs into matrix: \n",
      "Element  1  has shape  (7, 102)\n",
      "Element  2  has shape  (7,)\n",
      "Final shape matrix:  (7, 103)\n",
      "index to change:  [ 8983 18983 28983 38983 48983 58983 68983]\n",
      "Generation types:\n",
      "1 : Random (default)\n",
      "2 : LHS\n",
      "3 : LowDiscrepancySequence\n",
      "4 : SimulatedAnnealingLHS\n",
      "Choosen generation method is Random (default)\n"
     ]
    },
    {
     "name": "stderr",
     "output_type": "stream",
     "text": [
      "[Parallel(n_jobs=-1)]: Done   1 tasks      | elapsed:    0.2s\n",
      "[Parallel(n_jobs=-1)]: Done   2 out of   7 | elapsed:    0.2s remaining:    0.6s\n",
      "[Parallel(n_jobs=-1)]: Done   3 out of   7 | elapsed:    0.3s remaining:    0.4s\n",
      "[Parallel(n_jobs=-1)]: Done   4 out of   7 | elapsed:    0.3s remaining:    0.2s\n",
      "[Parallel(n_jobs=-1)]: Done   5 out of   7 | elapsed:    0.3s remaining:    0.1s\n",
      "[Parallel(n_jobs=-1)]: Done   7 out of   7 | elapsed:    0.4s remaining:    0.0s\n",
      "[Parallel(n_jobs=-1)]: Done   7 out of   7 | elapsed:    0.4s finished\n"
     ]
    },
    {
     "name": "stdout",
     "output_type": "stream",
     "text": [
      "shape deflection:  (7, 103)  should be [N,10X] something\n",
      "deflection std deviation  0.7345280478694428\n",
      "timed  0.364397049  s for function \" randomBeamFunctionSample \"\n",
      "Converting list of outputs into matrix: \n",
      "Element  1  has shape  (7, 102)\n",
      "Element  2  has shape  (7,)\n",
      "Final shape matrix:  (7, 103)\n",
      "index to change:  [ 9499 19499 29499 39499 49499 59499 69499]\n",
      "Generation types:\n",
      "1 : Random (default)\n",
      "2 : LHS\n",
      "3 : LowDiscrepancySequence\n",
      "4 : SimulatedAnnealingLHS\n",
      "Choosen generation method is Random (default)\n"
     ]
    },
    {
     "name": "stderr",
     "output_type": "stream",
     "text": [
      "[Parallel(n_jobs=-1)]: Using backend LokyBackend with 8 concurrent workers.\n",
      "[Parallel(n_jobs=-1)]: Done   1 tasks      | elapsed:    0.2s\n",
      "[Parallel(n_jobs=-1)]: Done   2 out of   7 | elapsed:    0.2s remaining:    0.6s\n",
      "[Parallel(n_jobs=-1)]: Done   3 out of   7 | elapsed:    0.2s remaining:    0.3s\n",
      "[Parallel(n_jobs=-1)]: Done   4 out of   7 | elapsed:    0.3s remaining:    0.2s\n",
      "[Parallel(n_jobs=-1)]: Done   5 out of   7 | elapsed:    0.3s remaining:    0.1s\n",
      "[Parallel(n_jobs=-1)]: Done   7 out of   7 | elapsed:    0.3s remaining:    0.0s\n",
      "[Parallel(n_jobs=-1)]: Done   7 out of   7 | elapsed:    0.3s finished\n",
      "[Parallel(n_jobs=-1)]: Using backend LokyBackend with 8 concurrent workers.\n"
     ]
    },
    {
     "name": "stdout",
     "output_type": "stream",
     "text": [
      "shape deflection:  (7, 103)  should be [N,10X] something\n",
      "deflection std deviation  0.5537907824639052\n",
      "timed  0.300673723  s for function \" randomBeamFunctionSample \"\n",
      "Converting list of outputs into matrix: \n",
      "Element  1  has shape  (7, 102)\n",
      "Element  2  has shape  (7,)\n",
      "Final shape matrix:  (7, 103)\n",
      "index to change:  [ 1074 11074 21074 31074 41074 51074 61074]\n",
      "Generation types:\n",
      "1 : Random (default)\n",
      "2 : LHS\n",
      "3 : LowDiscrepancySequence\n",
      "4 : SimulatedAnnealingLHS\n",
      "Choosen generation method is Random (default)\n"
     ]
    },
    {
     "name": "stderr",
     "output_type": "stream",
     "text": [
      "[Parallel(n_jobs=-1)]: Done   1 tasks      | elapsed:    0.2s\n",
      "[Parallel(n_jobs=-1)]: Done   2 out of   7 | elapsed:    0.2s remaining:    0.6s\n",
      "[Parallel(n_jobs=-1)]: Done   3 out of   7 | elapsed:    0.2s remaining:    0.3s\n",
      "[Parallel(n_jobs=-1)]: Done   4 out of   7 | elapsed:    0.2s remaining:    0.2s\n",
      "[Parallel(n_jobs=-1)]: Done   5 out of   7 | elapsed:    0.2s remaining:    0.1s\n",
      "[Parallel(n_jobs=-1)]: Done   7 out of   7 | elapsed:    0.3s remaining:    0.0s\n",
      "[Parallel(n_jobs=-1)]: Done   7 out of   7 | elapsed:    0.3s finished\n",
      "[Parallel(n_jobs=-1)]: Using backend LokyBackend with 8 concurrent workers.\n"
     ]
    },
    {
     "name": "stdout",
     "output_type": "stream",
     "text": [
      "shape deflection:  (7, 103)  should be [N,10X] something\n",
      "deflection std deviation  1.2715027628972138\n",
      "timed  0.288777113  s for function \" randomBeamFunctionSample \"\n",
      "Converting list of outputs into matrix: \n",
      "Element  1  has shape  (7, 102)\n",
      "Element  2  has shape  (7,)\n",
      "Final shape matrix:  (7, 103)\n",
      "index to change:  [ 3157 13157 23157 33157 43157 53157 63157]\n",
      "Generation types:\n",
      "1 : Random (default)\n",
      "2 : LHS\n",
      "3 : LowDiscrepancySequence\n",
      "4 : SimulatedAnnealingLHS\n",
      "Choosen generation method is Random (default)\n"
     ]
    },
    {
     "name": "stderr",
     "output_type": "stream",
     "text": [
      "[Parallel(n_jobs=-1)]: Done   1 tasks      | elapsed:    0.2s\n",
      "[Parallel(n_jobs=-1)]: Done   2 out of   7 | elapsed:    0.3s remaining:    0.6s\n",
      "[Parallel(n_jobs=-1)]: Done   3 out of   7 | elapsed:    0.3s remaining:    0.4s\n",
      "[Parallel(n_jobs=-1)]: Done   4 out of   7 | elapsed:    0.3s remaining:    0.2s\n",
      "[Parallel(n_jobs=-1)]: Done   5 out of   7 | elapsed:    0.3s remaining:    0.1s\n",
      "[Parallel(n_jobs=-1)]: Done   7 out of   7 | elapsed:    0.3s remaining:    0.0s\n",
      "[Parallel(n_jobs=-1)]: Done   7 out of   7 | elapsed:    0.3s finished\n",
      "[Parallel(n_jobs=-1)]: Using backend LokyBackend with 8 concurrent workers.\n"
     ]
    },
    {
     "name": "stdout",
     "output_type": "stream",
     "text": [
      "shape deflection:  (7, 103)  should be [N,10X] something\n",
      "deflection std deviation  0.8018735894386347\n",
      "timed  0.33791852  s for function \" randomBeamFunctionSample \"\n",
      "Converting list of outputs into matrix: \n",
      "Element  1  has shape  (7, 102)\n",
      "Element  2  has shape  (7,)\n",
      "Final shape matrix:  (7, 103)\n",
      "index to change:  [ 6501 16501 26501 36501 46501 56501 66501]\n",
      "Generation types:\n",
      "1 : Random (default)\n",
      "2 : LHS\n",
      "3 : LowDiscrepancySequence\n",
      "4 : SimulatedAnnealingLHS\n",
      "Choosen generation method is Random (default)\n"
     ]
    },
    {
     "name": "stderr",
     "output_type": "stream",
     "text": [
      "[Parallel(n_jobs=-1)]: Done   1 tasks      | elapsed:    0.2s\n",
      "[Parallel(n_jobs=-1)]: Batch computation too fast (0.1880s.) Setting batch_size=2.\n",
      "[Parallel(n_jobs=-1)]: Done   2 out of   7 | elapsed:    0.2s remaining:    0.5s\n",
      "[Parallel(n_jobs=-1)]: Done   3 out of   7 | elapsed:    0.2s remaining:    0.3s\n",
      "[Parallel(n_jobs=-1)]: Done   4 out of   7 | elapsed:    0.2s remaining:    0.2s\n",
      "[Parallel(n_jobs=-1)]: Done   5 out of   7 | elapsed:    0.3s remaining:    0.1s\n",
      "[Parallel(n_jobs=-1)]: Done   7 out of   7 | elapsed:    0.3s remaining:    0.0s\n",
      "[Parallel(n_jobs=-1)]: Done   7 out of   7 | elapsed:    0.3s finished\n",
      "[Parallel(n_jobs=-1)]: Using backend LokyBackend with 8 concurrent workers.\n"
     ]
    },
    {
     "name": "stdout",
     "output_type": "stream",
     "text": [
      "shape deflection:  (7, 103)  should be [N,10X] something\n",
      "deflection std deviation  0.5075684152691745\n",
      "timed  0.30233407  s for function \" randomBeamFunctionSample \"\n",
      "Converting list of outputs into matrix: \n",
      "Element  1  has shape  (7, 102)\n",
      "Element  2  has shape  (7,)\n",
      "Final shape matrix:  (7, 103)\n",
      "index to change:  [  711 10711 20711 30711 40711 50711 60711]\n",
      "Generation types:\n",
      "1 : Random (default)\n",
      "2 : LHS\n",
      "3 : LowDiscrepancySequence\n",
      "4 : SimulatedAnnealingLHS\n",
      "Choosen generation method is Random (default)\n"
     ]
    },
    {
     "name": "stderr",
     "output_type": "stream",
     "text": [
      "[Parallel(n_jobs=-1)]: Done   1 tasks      | elapsed:    0.2s\n",
      "[Parallel(n_jobs=-1)]: Batch computation too fast (0.1855s.) Setting batch_size=2.\n",
      "[Parallel(n_jobs=-1)]: Done   2 out of   7 | elapsed:    0.2s remaining:    0.6s\n",
      "[Parallel(n_jobs=-1)]: Done   3 out of   7 | elapsed:    0.3s remaining:    0.3s\n",
      "[Parallel(n_jobs=-1)]: Done   4 out of   7 | elapsed:    0.3s remaining:    0.2s\n",
      "[Parallel(n_jobs=-1)]: Done   5 out of   7 | elapsed:    0.3s remaining:    0.1s\n",
      "[Parallel(n_jobs=-1)]: Done   7 out of   7 | elapsed:    0.3s remaining:    0.0s\n",
      "[Parallel(n_jobs=-1)]: Done   7 out of   7 | elapsed:    0.3s finished\n",
      "[Parallel(n_jobs=-1)]: Using backend LokyBackend with 8 concurrent workers.\n"
     ]
    },
    {
     "name": "stdout",
     "output_type": "stream",
     "text": [
      "shape deflection:  (7, 103)  should be [N,10X] something\n",
      "deflection std deviation  0.6819241925870402\n",
      "timed  0.283357143  s for function \" randomBeamFunctionSample \"\n",
      "Converting list of outputs into matrix: \n",
      "Element  1  has shape  (7, 102)\n",
      "Element  2  has shape  (7,)\n",
      "Final shape matrix:  (7, 103)\n",
      "index to change:  [ 1074 11074 21074 31074 41074 51074 61074]\n",
      "Generation types:\n",
      "1 : Random (default)\n",
      "2 : LHS\n",
      "3 : LowDiscrepancySequence\n",
      "4 : SimulatedAnnealingLHS\n",
      "Choosen generation method is Random (default)\n"
     ]
    },
    {
     "name": "stderr",
     "output_type": "stream",
     "text": [
      "[Parallel(n_jobs=-1)]: Done   1 tasks      | elapsed:    0.2s\n",
      "[Parallel(n_jobs=-1)]: Batch computation too fast (0.1999s.) Setting batch_size=2.\n",
      "[Parallel(n_jobs=-1)]: Done   2 out of   7 | elapsed:    0.2s remaining:    0.5s\n",
      "[Parallel(n_jobs=-1)]: Done   3 out of   7 | elapsed:    0.2s remaining:    0.3s\n",
      "[Parallel(n_jobs=-1)]: Done   4 out of   7 | elapsed:    0.2s remaining:    0.2s\n",
      "[Parallel(n_jobs=-1)]: Done   5 out of   7 | elapsed:    0.3s remaining:    0.1s\n",
      "[Parallel(n_jobs=-1)]: Done   7 out of   7 | elapsed:    0.3s remaining:    0.0s\n",
      "[Parallel(n_jobs=-1)]: Done   7 out of   7 | elapsed:    0.3s finished\n",
      "[Parallel(n_jobs=-1)]: Using backend LokyBackend with 8 concurrent workers.\n"
     ]
    },
    {
     "name": "stdout",
     "output_type": "stream",
     "text": [
      "shape deflection:  (7, 103)  should be [N,10X] something\n",
      "deflection std deviation  0.9341030299790577\n",
      "timed  0.294952631  s for function \" randomBeamFunctionSample \"\n",
      "Converting list of outputs into matrix: \n",
      "Element  1  has shape  (7, 102)\n",
      "Element  2  has shape  (7,)\n",
      "Final shape matrix:  (7, 103)\n",
      "index to change:  [ 1269 11269 21269 31269 41269 51269 61269]\n",
      "Generation types:\n",
      "1 : Random (default)\n",
      "2 : LHS\n",
      "3 : LowDiscrepancySequence\n",
      "4 : SimulatedAnnealingLHS\n",
      "Choosen generation method is Random (default)\n"
     ]
    },
    {
     "name": "stderr",
     "output_type": "stream",
     "text": [
      "[Parallel(n_jobs=-1)]: Done   1 tasks      | elapsed:    0.2s\n",
      "[Parallel(n_jobs=-1)]: Done   2 out of   7 | elapsed:    0.2s remaining:    0.6s\n",
      "[Parallel(n_jobs=-1)]: Done   3 out of   7 | elapsed:    0.2s remaining:    0.3s\n",
      "[Parallel(n_jobs=-1)]: Done   4 out of   7 | elapsed:    0.3s remaining:    0.2s\n",
      "[Parallel(n_jobs=-1)]: Done   5 out of   7 | elapsed:    0.3s remaining:    0.1s\n",
      "[Parallel(n_jobs=-1)]: Done   7 out of   7 | elapsed:    0.3s remaining:    0.0s\n",
      "[Parallel(n_jobs=-1)]: Done   7 out of   7 | elapsed:    0.3s finished\n",
      "[Parallel(n_jobs=-1)]: Using backend LokyBackend with 8 concurrent workers.\n"
     ]
    },
    {
     "name": "stdout",
     "output_type": "stream",
     "text": [
      "shape deflection:  (7, 103)  should be [N,10X] something\n",
      "deflection std deviation  0.4312293086032127\n",
      "timed  0.328228712  s for function \" randomBeamFunctionSample \"\n",
      "Converting list of outputs into matrix: \n",
      "Element  1  has shape  (7, 102)\n",
      "Element  2  has shape  (7,)\n",
      "Final shape matrix:  (7, 103)\n",
      "index to change:  [ 3157 13157 23157 33157 43157 53157 63157]\n",
      "Generation types:\n",
      "1 : Random (default)\n",
      "2 : LHS\n",
      "3 : LowDiscrepancySequence\n",
      "4 : SimulatedAnnealingLHS\n",
      "Choosen generation method is Random (default)\n"
     ]
    },
    {
     "name": "stderr",
     "output_type": "stream",
     "text": [
      "[Parallel(n_jobs=-1)]: Done   1 tasks      | elapsed:    0.2s\n",
      "[Parallel(n_jobs=-1)]: Done   2 out of   7 | elapsed:    0.2s remaining:    0.6s\n",
      "[Parallel(n_jobs=-1)]: Done   3 out of   7 | elapsed:    0.2s remaining:    0.3s\n",
      "[Parallel(n_jobs=-1)]: Done   4 out of   7 | elapsed:    0.2s remaining:    0.2s\n",
      "[Parallel(n_jobs=-1)]: Done   5 out of   7 | elapsed:    0.3s remaining:    0.1s\n",
      "[Parallel(n_jobs=-1)]: Done   7 out of   7 | elapsed:    0.3s remaining:    0.0s\n",
      "[Parallel(n_jobs=-1)]: Done   7 out of   7 | elapsed:    0.3s finished\n",
      "[Parallel(n_jobs=-1)]: Using backend LokyBackend with 8 concurrent workers.\n"
     ]
    },
    {
     "name": "stdout",
     "output_type": "stream",
     "text": [
      "shape deflection:  (7, 103)  should be [N,10X] something\n",
      "deflection std deviation  0.3551732498678581\n",
      "timed  0.287682533  s for function \" randomBeamFunctionSample \"\n",
      "Converting list of outputs into matrix: \n",
      "Element  1  has shape  (7, 102)\n",
      "Element  2  has shape  (7,)\n",
      "Final shape matrix:  (7, 103)\n",
      "index to change:  [ 6501 16501 26501 36501 46501 56501 66501]\n",
      "Generation types:\n",
      "1 : Random (default)\n",
      "2 : LHS\n",
      "3 : LowDiscrepancySequence\n",
      "4 : SimulatedAnnealingLHS\n",
      "Choosen generation method is Random (default)\n"
     ]
    },
    {
     "name": "stderr",
     "output_type": "stream",
     "text": [
      "[Parallel(n_jobs=-1)]: Done   1 tasks      | elapsed:    0.2s\n",
      "[Parallel(n_jobs=-1)]: Batch computation too fast (0.1924s.) Setting batch_size=2.\n",
      "[Parallel(n_jobs=-1)]: Done   2 out of   7 | elapsed:    0.2s remaining:    0.6s\n",
      "[Parallel(n_jobs=-1)]: Done   3 out of   7 | elapsed:    0.2s remaining:    0.3s\n",
      "[Parallel(n_jobs=-1)]: Done   4 out of   7 | elapsed:    0.2s remaining:    0.2s\n",
      "[Parallel(n_jobs=-1)]: Done   5 out of   7 | elapsed:    0.3s remaining:    0.1s\n",
      "[Parallel(n_jobs=-1)]: Done   7 out of   7 | elapsed:    0.3s remaining:    0.0s\n",
      "[Parallel(n_jobs=-1)]: Done   7 out of   7 | elapsed:    0.3s finished\n",
      "[Parallel(n_jobs=-1)]: Using backend LokyBackend with 8 concurrent workers.\n"
     ]
    },
    {
     "name": "stdout",
     "output_type": "stream",
     "text": [
      "shape deflection:  (7, 103)  should be [N,10X] something\n",
      "deflection std deviation  0.2791415002361885\n",
      "timed  0.291051149  s for function \" randomBeamFunctionSample \"\n",
      "Converting list of outputs into matrix: \n",
      "Element  1  has shape  (7, 102)\n",
      "Element  2  has shape  (7,)\n",
      "Final shape matrix:  (7, 103)\n",
      "index to change:  [ 1269 11269 21269 31269 41269 51269 61269]\n",
      "Generation types:\n",
      "1 : Random (default)\n",
      "2 : LHS\n",
      "3 : LowDiscrepancySequence\n",
      "4 : SimulatedAnnealingLHS\n",
      "Choosen generation method is Random (default)\n"
     ]
    },
    {
     "name": "stderr",
     "output_type": "stream",
     "text": [
      "[Parallel(n_jobs=-1)]: Done   1 tasks      | elapsed:    0.2s\n",
      "[Parallel(n_jobs=-1)]: Done   2 out of   7 | elapsed:    0.2s remaining:    0.6s\n",
      "[Parallel(n_jobs=-1)]: Done   3 out of   7 | elapsed:    0.3s remaining:    0.3s\n",
      "[Parallel(n_jobs=-1)]: Done   4 out of   7 | elapsed:    0.3s remaining:    0.2s\n",
      "[Parallel(n_jobs=-1)]: Done   5 out of   7 | elapsed:    0.3s remaining:    0.1s\n",
      "[Parallel(n_jobs=-1)]: Done   7 out of   7 | elapsed:    0.3s remaining:    0.0s\n",
      "[Parallel(n_jobs=-1)]: Done   7 out of   7 | elapsed:    0.3s finished\n",
      "[Parallel(n_jobs=-1)]: Using backend LokyBackend with 8 concurrent workers.\n"
     ]
    },
    {
     "name": "stdout",
     "output_type": "stream",
     "text": [
      "shape deflection:  (7, 103)  should be [N,10X] something\n",
      "deflection std deviation  0.594157484826323\n",
      "timed  0.33878541  s for function \" randomBeamFunctionSample \"\n",
      "Converting list of outputs into matrix: \n",
      "Element  1  has shape  (7, 102)\n",
      "Element  2  has shape  (7,)\n",
      "Final shape matrix:  (7, 103)\n",
      "index to change:  [ 2065 12065 22065 32065 42065 52065 62065]\n",
      "Generation types:\n",
      "1 : Random (default)\n",
      "2 : LHS\n",
      "3 : LowDiscrepancySequence\n",
      "4 : SimulatedAnnealingLHS\n",
      "Choosen generation method is Random (default)\n"
     ]
    },
    {
     "name": "stderr",
     "output_type": "stream",
     "text": [
      "[Parallel(n_jobs=-1)]: Done   1 tasks      | elapsed:    0.2s\n",
      "[Parallel(n_jobs=-1)]: Batch computation too fast (0.1995s.) Setting batch_size=2.\n",
      "[Parallel(n_jobs=-1)]: Done   2 out of   7 | elapsed:    0.2s remaining:    0.6s\n",
      "[Parallel(n_jobs=-1)]: Done   3 out of   7 | elapsed:    0.3s remaining:    0.3s\n",
      "[Parallel(n_jobs=-1)]: Done   4 out of   7 | elapsed:    0.3s remaining:    0.2s\n",
      "[Parallel(n_jobs=-1)]: Done   5 out of   7 | elapsed:    0.3s remaining:    0.1s\n",
      "[Parallel(n_jobs=-1)]: Done   7 out of   7 | elapsed:    0.3s remaining:    0.0s\n",
      "[Parallel(n_jobs=-1)]: Done   7 out of   7 | elapsed:    0.3s finished\n",
      "[Parallel(n_jobs=-1)]: Using backend LokyBackend with 8 concurrent workers.\n"
     ]
    },
    {
     "name": "stdout",
     "output_type": "stream",
     "text": [
      "shape deflection:  (7, 103)  should be [N,10X] something\n",
      "deflection std deviation  1.2916013529115347\n",
      "timed  0.284061909  s for function \" randomBeamFunctionSample \"\n",
      "Converting list of outputs into matrix: \n",
      "Element  1  has shape  (7, 102)\n",
      "Element  2  has shape  (7,)\n",
      "Final shape matrix:  (7, 103)\n",
      "index to change:  [ 6501 16501 26501 36501 46501 56501 66501]\n",
      "Generation types:\n",
      "1 : Random (default)\n",
      "2 : LHS\n",
      "3 : LowDiscrepancySequence\n",
      "4 : SimulatedAnnealingLHS\n",
      "Choosen generation method is Random (default)\n"
     ]
    },
    {
     "name": "stderr",
     "output_type": "stream",
     "text": [
      "[Parallel(n_jobs=-1)]: Done   1 tasks      | elapsed:    0.2s\n",
      "[Parallel(n_jobs=-1)]: Done   2 out of   7 | elapsed:    0.2s remaining:    0.6s\n",
      "[Parallel(n_jobs=-1)]: Done   3 out of   7 | elapsed:    0.2s remaining:    0.3s\n",
      "[Parallel(n_jobs=-1)]: Done   4 out of   7 | elapsed:    0.3s remaining:    0.2s\n",
      "[Parallel(n_jobs=-1)]: Done   5 out of   7 | elapsed:    0.3s remaining:    0.1s\n",
      "[Parallel(n_jobs=-1)]: Done   7 out of   7 | elapsed:    0.3s remaining:    0.0s\n",
      "[Parallel(n_jobs=-1)]: Done   7 out of   7 | elapsed:    0.3s finished\n",
      "[Parallel(n_jobs=-1)]: Using backend LokyBackend with 8 concurrent workers.\n"
     ]
    },
    {
     "name": "stdout",
     "output_type": "stream",
     "text": [
      "shape deflection:  (7, 103)  should be [N,10X] something\n",
      "deflection std deviation  0.26789551487702956\n",
      "timed  0.292675495  s for function \" randomBeamFunctionSample \"\n",
      "Converting list of outputs into matrix: \n",
      "Element  1  has shape  (7, 102)\n",
      "Element  2  has shape  (7,)\n",
      "Final shape matrix:  (7, 103)\n",
      "index to change:  [ 8983 18983 28983 38983 48983 58983 68983]\n",
      "Generation types:\n",
      "1 : Random (default)\n",
      "2 : LHS\n",
      "3 : LowDiscrepancySequence\n",
      "4 : SimulatedAnnealingLHS\n",
      "Choosen generation method is Random (default)\n"
     ]
    },
    {
     "name": "stderr",
     "output_type": "stream",
     "text": [
      "[Parallel(n_jobs=-1)]: Done   1 tasks      | elapsed:    0.2s\n",
      "[Parallel(n_jobs=-1)]: Done   2 out of   7 | elapsed:    0.2s remaining:    0.6s\n",
      "[Parallel(n_jobs=-1)]: Done   3 out of   7 | elapsed:    0.2s remaining:    0.3s\n",
      "[Parallel(n_jobs=-1)]: Done   4 out of   7 | elapsed:    0.2s remaining:    0.2s\n",
      "[Parallel(n_jobs=-1)]: Done   5 out of   7 | elapsed:    0.3s remaining:    0.1s\n",
      "[Parallel(n_jobs=-1)]: Done   7 out of   7 | elapsed:    0.3s remaining:    0.0s\n",
      "[Parallel(n_jobs=-1)]: Done   7 out of   7 | elapsed:    0.3s finished\n",
      "[Parallel(n_jobs=-1)]: Using backend LokyBackend with 8 concurrent workers.\n"
     ]
    },
    {
     "name": "stdout",
     "output_type": "stream",
     "text": [
      "shape deflection:  (7, 103)  should be [N,10X] something\n",
      "deflection std deviation  0.5488047694890013\n",
      "timed  0.276690006  s for function \" randomBeamFunctionSample \"\n",
      "Converting list of outputs into matrix: \n",
      "Element  1  has shape  (7, 102)\n",
      "Element  2  has shape  (7,)\n",
      "Final shape matrix:  (7, 103)\n",
      "index to change:  [ 1269 11269 21269 31269 41269 51269 61269]\n",
      "Generation types:\n",
      "1 : Random (default)\n",
      "2 : LHS\n",
      "3 : LowDiscrepancySequence\n",
      "4 : SimulatedAnnealingLHS\n",
      "Choosen generation method is Random (default)\n"
     ]
    },
    {
     "name": "stderr",
     "output_type": "stream",
     "text": [
      "[Parallel(n_jobs=-1)]: Done   1 tasks      | elapsed:    0.2s\n",
      "[Parallel(n_jobs=-1)]: Done   2 out of   7 | elapsed:    0.2s remaining:    0.5s\n",
      "[Parallel(n_jobs=-1)]: Done   3 out of   7 | elapsed:    0.2s remaining:    0.3s\n",
      "[Parallel(n_jobs=-1)]: Done   4 out of   7 | elapsed:    0.3s remaining:    0.2s\n",
      "[Parallel(n_jobs=-1)]: Done   5 out of   7 | elapsed:    0.3s remaining:    0.1s\n",
      "[Parallel(n_jobs=-1)]: Done   7 out of   7 | elapsed:    0.3s remaining:    0.0s\n",
      "[Parallel(n_jobs=-1)]: Done   7 out of   7 | elapsed:    0.3s finished\n",
      "[Parallel(n_jobs=-1)]: Using backend LokyBackend with 8 concurrent workers.\n"
     ]
    },
    {
     "name": "stdout",
     "output_type": "stream",
     "text": [
      "shape deflection:  (7, 103)  should be [N,10X] something\n",
      "deflection std deviation  0.45411778795077445\n",
      "timed  0.286396027  s for function \" randomBeamFunctionSample \"\n",
      "Converting list of outputs into matrix: \n",
      "Element  1  has shape  (7, 102)\n",
      "Element  2  has shape  (7,)\n",
      "Final shape matrix:  (7, 103)\n",
      "index to change:  [ 2065 12065 22065 32065 42065 52065 62065]\n",
      "Generation types:\n",
      "1 : Random (default)\n",
      "2 : LHS\n",
      "3 : LowDiscrepancySequence\n",
      "4 : SimulatedAnnealingLHS\n",
      "Choosen generation method is Random (default)\n"
     ]
    },
    {
     "name": "stderr",
     "output_type": "stream",
     "text": [
      "[Parallel(n_jobs=-1)]: Done   1 tasks      | elapsed:    0.2s\n",
      "[Parallel(n_jobs=-1)]: Done   2 out of   7 | elapsed:    0.2s remaining:    0.5s\n",
      "[Parallel(n_jobs=-1)]: Done   3 out of   7 | elapsed:    0.3s remaining:    0.3s\n",
      "[Parallel(n_jobs=-1)]: Done   4 out of   7 | elapsed:    0.3s remaining:    0.2s\n",
      "[Parallel(n_jobs=-1)]: Done   5 out of   7 | elapsed:    0.3s remaining:    0.1s\n",
      "[Parallel(n_jobs=-1)]: Done   7 out of   7 | elapsed:    0.3s remaining:    0.0s\n",
      "[Parallel(n_jobs=-1)]: Done   7 out of   7 | elapsed:    0.3s finished\n",
      "[Parallel(n_jobs=-1)]: Using backend LokyBackend with 8 concurrent workers.\n"
     ]
    },
    {
     "name": "stdout",
     "output_type": "stream",
     "text": [
      "shape deflection:  (7, 103)  should be [N,10X] something\n",
      "deflection std deviation  1.4409677388761906\n",
      "timed  0.279383421  s for function \" randomBeamFunctionSample \"\n",
      "Converting list of outputs into matrix: \n",
      "Element  1  has shape  (7, 102)\n",
      "Element  2  has shape  (7,)\n",
      "Final shape matrix:  (7, 103)\n",
      "index to change:  [ 6501 16501 26501 36501 46501 56501 66501]\n",
      "Generation types:\n",
      "1 : Random (default)\n",
      "2 : LHS\n",
      "3 : LowDiscrepancySequence\n",
      "4 : SimulatedAnnealingLHS\n",
      "Choosen generation method is Random (default)\n"
     ]
    },
    {
     "name": "stderr",
     "output_type": "stream",
     "text": [
      "[Parallel(n_jobs=-1)]: Done   1 tasks      | elapsed:    0.2s\n",
      "[Parallel(n_jobs=-1)]: Batch computation too fast (0.1963s.) Setting batch_size=2.\n",
      "[Parallel(n_jobs=-1)]: Done   2 out of   7 | elapsed:    0.2s remaining:    0.6s\n",
      "[Parallel(n_jobs=-1)]: Done   3 out of   7 | elapsed:    0.2s remaining:    0.3s\n",
      "[Parallel(n_jobs=-1)]: Done   4 out of   7 | elapsed:    0.3s remaining:    0.2s\n",
      "[Parallel(n_jobs=-1)]: Done   5 out of   7 | elapsed:    0.3s remaining:    0.1s\n",
      "[Parallel(n_jobs=-1)]: Done   7 out of   7 | elapsed:    0.3s remaining:    0.0s\n",
      "[Parallel(n_jobs=-1)]: Done   7 out of   7 | elapsed:    0.3s finished\n"
     ]
    },
    {
     "name": "stdout",
     "output_type": "stream",
     "text": [
      "shape deflection:  (7, 103)  should be [N,10X] something\n",
      "deflection std deviation  0.6373649869333786\n",
      "timed  0.312259674  s for function \" randomBeamFunctionSample \"\n",
      "Converting list of outputs into matrix: \n",
      "Element  1  has shape  (7, 102)\n",
      "Element  2  has shape  (7,)\n",
      "Final shape matrix:  (7, 103)\n",
      " - Post replacement assertion passed - \n",
      "\n",
      "Transforming matrix of shape  (70000, 103)\n",
      "Into list of Ndarrays according to output definition\n",
      "Dimension output  0  is  102\n",
      "Intermediary shape is : (70000, 102)\n",
      "new shape is:  [70000, 102]\n",
      "Output element  0  has shape  (70000, 102)\n",
      "Dimension output  1  is  1\n",
      "Intermediary shape is : (70000, 1)\n",
      "new shape is:  [70000, 1]\n",
      "Output element  1  has shape  (70000,)\n"
     ]
    }
   ],
   "source": [
    "processSensitivityAnalysis.getOutputDesignAndPostprocess()"
   ]
  },
  {
   "cell_type": "code",
   "execution_count": 9,
   "metadata": {},
   "outputs": [
    {
     "data": {
      "text/plain": [
       "[array([[ 1.45571006,  5.1332028 ,  9.85421913, ..., 14.26174709,\n",
       "          9.62451301,  5.01870349],\n",
       "        [ 1.47372439,  5.13686167,  9.86622782, ..., 15.50903072,\n",
       "         10.51802909,  5.50492538],\n",
       "        [ 1.52121361,  5.47105325, 10.5654129 , ..., 14.5148092 ,\n",
       "          9.81923271,  5.13012565],\n",
       "        ...,\n",
       "        [ 1.52281201,  5.3800783 , 10.32861633, ..., 14.45971736,\n",
       "          9.80328866,  5.13442073],\n",
       "        [ 1.4134061 ,  4.95456457,  9.54133936, ..., 14.99629837,\n",
       "         10.12160977,  5.27460464],\n",
       "        [ 1.47997222,  5.2268161 , 10.07942607, ..., 14.80881292,\n",
       "         10.05535253,  5.27080633]]),\n",
       " array([5.01870349, 5.50492538, 5.13012565, ..., 5.13442073, 5.27460464,\n",
       "        5.27080633])]"
      ]
     },
     "execution_count": 9,
     "metadata": {},
     "output_type": "execute_result"
    }
   ],
   "source": [
    "import NdGaussianProcessSensitivityIndices as ngpsi\n",
    "reload(ngpsi)\n",
    "processSensitivityAnalysis.outputDesignList"
   ]
  },
  {
   "cell_type": "code",
   "execution_count": 10,
   "metadata": {},
   "outputs": [
    {
     "name": "stdout",
     "output_type": "stream",
     "text": [
      "There are 5 indices to get in (102,) dimensions with 102 elements\n",
      "There are 5 indices to get in 1 dimensions with 1 elements\n"
     ]
    }
   ],
   "source": [
    "output = processSensitivityAnalysis.outputDesignList\n",
    "output1 = output[0]\n",
    "output2 = output[1]\n",
    "S, Stot = ngpsi.NdGaussianProcessSensitivityIndicesBase.getSobolIndices(output1,10000)\n",
    "S2, Stot2 = ngpsi.NdGaussianProcessSensitivityIndicesBase.getSobolIndices(output2,10000)"
   ]
  },
  {
   "cell_type": "code",
   "execution_count": 11,
   "metadata": {
    "scrolled": true
   },
   "outputs": [
    {
     "data": {
      "text/plain": [
       "<matplotlib.colorbar.Colorbar at 0x7fda2736cf28>"
      ]
     },
     "execution_count": 11,
     "metadata": {},
     "output_type": "execute_result"
    },
    {
     "data": {
      "image/png": "[encoded data removed]",
      "text/plain": [
       "<Figure size 936x360 with 2 Axes>"
      ]
     },
     "metadata": {
      "needs_background": "light"
     },
     "output_type": "display_data"
    }
   ],
   "source": [
    "#composedDist = processSensitivityAnalysis.wrappedFunction.KLComposedDistribution\n",
    "plt.yticks([0,1,2,3,4],[\"Module d'Young\",'Diametre','Densité','Position Force','Norme Force'])\n",
    "x=plt.imshow(S, cmap='CMRmap',aspect='auto')\n",
    "plt.colorbar()"
   ]
  },
  {
   "cell_type": "code",
   "execution_count": null,
   "metadata": {},
   "outputs": [],
   "source": []
  },
  {
   "cell_type": "code",
   "execution_count": 12,
   "metadata": {
    "scrolled": false
   },
   "outputs": [
    {
     "data": {
      "text/plain": [
       "array([-0.01418522,  0.83809877, -0.01386103,  0.12272222,  0.08087469])"
      ]
     },
     "execution_count": 12,
     "metadata": {},
     "output_type": "execute_result"
    }
   ],
   "source": [
    "S[...,0:5]\n",
    "S2"
   ]
  },
  {
   "cell_type": "code",
   "execution_count": 15,
   "metadata": {
    "scrolled": false
   },
   "outputs": [
    {
     "data": {
      "text/plain": [
       "[None, None, None, None, None]"
      ]
     },
     "execution_count": 15,
     "metadata": {},
     "output_type": "execute_result"
    }
   ],
   "source": [
    "sob = list(S2)\n",
    "Sobol=list()\n",
    "[Sobol.append(round(x,3)) for x in sob]"
   ]
  },
  {
   "cell_type": "code",
   "execution_count": 36,
   "metadata": {},
   "outputs": [
    {
     "data": {
      "image/png": "[encoded data removed]",
      "text/plain": [
       "<Figure size 432x288 with 1 Axes>"
      ]
     },
     "metadata": {
      "needs_background": "light"
     },
     "output_type": "display_data"
    }
   ],
   "source": [
    "im = plt.imshow(S)"
   ]
  },
  {
   "cell_type": "code",
   "execution_count": 37,
   "metadata": {},
   "outputs": [],
   "source": [
    "plt.show(im)"
   ]
  },
  {
   "cell_type": "code",
   "execution_count": 14,
   "metadata": {},
   "outputs": [
    {
     "name": "stdout",
     "output_type": "stream",
     "text": [
      "['E_', 'D_', 'Rho', 'FP', 'FN']\n",
      "['E_xi_0', 'E_xi_1', 'E_xi_2', 'E_xi_3', 'E_xi_4', 'E_xi_5', 'E_xi_6', 'E_xi_7', 'D_xi_0', 'D_xi_1', 'D_xi_2', 'D_xi_3', 'D_xi_4', 'D_xi_5', 'D_xi_6', 'D_xi_7', 'D_xi_8', 'D_xi_9', 'D_xi_10', 'D_xi_11', 'D_xi_12', 'Rho', 'FP', 'FN']\n",
      "['var0', 'var1', 'var2', 'var3', 'var4']\n"
     ]
    }
   ],
   "source": [
    "print(processSensitivityAnalysis.wrappedFunction.inputVarNames)\n",
    "print(processSensitivityAnalysis.wrappedFunction.inputVarNamesKL)\n",
    "print(processSensitivityAnalysis.wrappedFunction._inputVarOrdering)"
   ]
  },
  {
   "cell_type": "code",
   "execution_count": null,
   "metadata": {},
   "outputs": [],
   "source": []
  },
  {
   "cell_type": "code",
   "execution_count": 12,
   "metadata": {},
   "outputs": [],
   "source": [
    "import customWraps as cw"
   ]
  },
  {
   "cell_type": "code",
   "execution_count": 13,
   "metadata": {},
   "outputs": [],
   "source": [
    "@cw.timing\n",
    "def getLHSExperiment(distribution, size, alwaysShuffle, randomShift):\n",
    "    return ot.LHSExperiment(distribution, size, alwaysShuffle, randomShift).generate()"
   ]
  },
  {
   "cell_type": "code",
   "execution_count": 14,
   "metadata": {},
   "outputs": [
    {
     "name": "stdout",
     "output_type": "stream",
     "text": [
      "timed  0.040719986  s for function \" getLHSExperiment \"\n"
     ]
    }
   ],
   "source": [
    "exp = getLHSExperiment(composedDist, 2000, True, True)"
   ]
  },
  {
   "cell_type": "code",
   "execution_count": 15,
   "metadata": {},
   "outputs": [
    {
     "name": "stdout",
     "output_type": "stream",
     "text": [
      "That works really fast!\n"
     ]
    },
    {
     "data": {
      "text/html": [
       "<TABLE><TR><TH></TH><TH>X0</TH><TH>X1</TH><TH>X2</TH><TH COLSPAN=\"18\">...</TH><TH>X21</TH><TH>X22</TH><TH>X23</TH></TR>\n",
       "<TR><TD>0</TD><TD>55.79033269728237</TD><TD>-0.19098185493210715</TD><TD>23.283969210695176<TD COLSPAN=\"18\">...</TD><TD>8005.524793957302</TD><TD>484.73561116938885</TD><TD>101.64863260724084</TD></TR>\n",
       "<TR><TD>1</TD><TD>55.333491276247884</TD><TD>1.3712593607868964</TD><TD>24.20841863903222<TD COLSPAN=\"18\">...</TD><TD>7653.50976204961</TD><TD>481.9859412832348</TD><TD>97.72070938147876</TD></TR>\n",
       "<TR><TD>2</TD><TD>54.202336863482806</TD><TD>0.8713551721507448</TD><TD>23.859810842167406<TD COLSPAN=\"18\">...</TD><TD>7814.162503617186</TD><TD>407.55489907365524</TD><TD>99.99375393705621</TD></TR>\n",
       "<TR><TD COLSPAN=\"25\">...</TD></TR>\n",
       "<TR><TD>1997</TD><TD>54.851463546533154</TD><TD>-0.5239463721670796</TD><TD>24.219277385649654<TD COLSPAN=\"18\">...</TD><TD>8217.194258966842</TD><TD>477.8411794090323</TD><TD>99.50374356968953</TD></TR>\n",
       "<TR><TD>1998</TD><TD>54.40464522348954</TD><TD>-0.3293520205616215</TD><TD>25.966400126230262<TD COLSPAN=\"18\">...</TD><TD>7412.336856933777</TD><TD>507.69024038517824</TD><TD>98.94227460619537</TD></TR>\n",
       "<TR><TD>1999</TD><TD>54.34661766684137</TD><TD>-0.5701349001063507</TD><TD>24.411461830266525<TD COLSPAN=\"18\">...</TD><TD>7878.010110100623</TD><TD>402.96362061509814</TD><TD>99.9011092586734</TD></TR>\n",
       "</TABLE>"
      ],
      "text/plain": [
       "class=Sample name=Unnamed implementation=class=SampleImplementation name=Unnamed size=2000 dimension=24 description=[X0,X1,X2,...,X21,X22,X23] data=[[55.7903,-0.190982,23.284,...,8005.52,484.736,101.649],[55.3335,1.37126,24.2084,...,7653.51,481.986,97.7207],[54.2023,0.871355,23.8598,...,7814.16,407.555,99.9938],...,[54.8515,-0.523946,24.2193,...,8217.19,477.841,99.5037],[54.4046,-0.329352,25.9664,...,7412.34,507.69,98.9423],[54.3466,-0.570135,24.4115,...,7878.01,402.964,99.9011]]"
      ]
     },
     "execution_count": 15,
     "metadata": {},
     "output_type": "execute_result"
    }
   ],
   "source": [
    "print('That works really fast!')\n",
    "exp"
   ]
  },
  {
   "cell_type": "code",
   "execution_count": 55,
   "metadata": {},
   "outputs": [
    {
     "data": {
      "text/plain": [
       "<module 'NdGaussianProcessExperimentGeneration' from '/home/motherloadubu/Documents/project_PHIMECA/stochastic_process_analysis/NdGaussianProcessExperimentGeneration.py'>"
      ]
     },
     "execution_count": 55,
     "metadata": {},
     "output_type": "execute_result"
    }
   ],
   "source": [
    "import NdGaussianProcessExperimentGeneration as ngpeg\n",
    "reload(ngpeg)"
   ]
  },
  {
   "cell_type": "code",
   "execution_count": 56,
   "metadata": {},
   "outputs": [
    {
     "name": "stdout",
     "output_type": "stream",
     "text": [
      "Generation types:\n",
      "1 : Random (default)\n",
      "2 : LHS\n",
      "3 : LowDiscrepancySequence\n",
      "4 : SimulatedAnnealingLHS\n"
     ]
    }
   ],
   "source": [
    "test0 = ngpeg.NdGaussianProcessExperiment(processSensitivityAnalysis.sampleSize,\n",
    "                                         processSensitivityAnalysis.wrappedFunction)"
   ]
  },
  {
   "cell_type": "code",
   "execution_count": 57,
   "metadata": {},
   "outputs": [
    {
     "data": {
      "text/plain": [
       "array([[ 5.50346146e+01,  9.81992100e-02,  2.47360736e+01, ...,\n",
       "         7.45248899e+03,  6.01817823e+02,  1.01293963e+02],\n",
       "       [ 5.37555756e+01,  1.29455188e-01,  2.28109014e+01, ...,\n",
       "         7.95669043e+03,  4.37887664e+02,  9.96609256e+01],\n",
       "       [ 5.53507742e+01, -1.25225486e+00,  2.43850209e+01, ...,\n",
       "         7.96235937e+03,  4.37713257e+02,  1.00149113e+02],\n",
       "       ...,\n",
       "       [ 5.60095120e+01,  7.35625214e-01,  2.33273992e+01, ...,\n",
       "         8.07962019e+03,  5.26993032e+02,  1.00278874e+02],\n",
       "       [ 5.65213904e+01,  3.75193848e-01,  2.45633504e+01, ...,\n",
       "         7.82180335e+03,  5.20321230e+02,  9.79694576e+01],\n",
       "       [ 5.47746640e+01,  1.08818884e+00,  2.43071075e+01, ...,\n",
       "         7.95333093e+03,  5.59042152e+02,  9.89984624e+01]])"
      ]
     },
     "execution_count": 57,
     "metadata": {},
     "output_type": "execute_result"
    }
   ],
   "source": [
    "test0.generate()"
   ]
  },
  {
   "cell_type": "code",
   "execution_count": 49,
   "metadata": {},
   "outputs": [],
   "source": [
    "test0.getDataFieldAndRV()"
   ]
  },
  {
   "cell_type": "code",
   "execution_count": 50,
   "metadata": {},
   "outputs": [],
   "source": [
    "test0.getExperiment()"
   ]
  },
  {
   "cell_type": "code",
   "execution_count": 22,
   "metadata": {},
   "outputs": [
    {
     "name": "stdout",
     "output_type": "stream",
     "text": [
      "Generation types:\n",
      "1 : Random (default)\n",
      "2 : LHS\n",
      "3 : LowDiscrepancySequence\n",
      "4 : SimulatedAnnealingLHS\n"
     ]
    }
   ],
   "source": [
    "test = ngpeg.NdGaussianProcessExperiment()"
   ]
  },
  {
   "cell_type": "code",
   "execution_count": 23,
   "metadata": {},
   "outputs": [],
   "source": [
    "test.setSampleSize(100)"
   ]
  },
  {
   "cell_type": "code",
   "execution_count": 24,
   "metadata": {},
   "outputs": [],
   "source": [
    "test.setOTPyFunctionWrapper(processSensitivityAnalysis.wrappedFunction)"
   ]
  },
  {
   "cell_type": "code",
   "execution_count": 25,
   "metadata": {},
   "outputs": [],
   "source": [
    "test.setGenType(1)\n",
    "test.generateSample()"
   ]
  },
  {
   "cell_type": "code",
   "execution_count": 26,
   "metadata": {},
   "outputs": [],
   "source": [
    "test.setGenType(2)\n",
    "test.generateSample()"
   ]
  },
  {
   "cell_type": "code",
   "execution_count": 27,
   "metadata": {},
   "outputs": [],
   "source": [
    "test.setGenType(3)\n",
    "test.generateSample(sequence='Halton')"
   ]
  },
  {
   "cell_type": "code",
   "execution_count": 28,
   "metadata": {},
   "outputs": [
    {
     "name": "stdout",
     "output_type": "stream",
     "text": [
      "undefined parameter 'SpaceFilling', setting to default 'SpaceFillingC2'\n",
      "undefined parameter 'TemperatureProfile', setting default GeometricProfile\n"
     ]
    }
   ],
   "source": [
    "test.setGenType(4)\n",
    "arr=test.generateSample()"
   ]
  },
  {
   "cell_type": "code",
   "execution_count": 29,
   "metadata": {},
   "outputs": [
    {
     "name": "stdout",
     "output_type": "stream",
     "text": [
      "['E_', 'D_', 'Rho', 'FP', 'FN']\n",
      "['E_xi_0', 'E_xi_1', 'E_xi_2', 'E_xi_3', 'E_xi_4', 'E_xi_5', 'E_xi_6', 'E_xi_7', 'D_xi_0', 'D_xi_1', 'D_xi_2', 'D_xi_3', 'D_xi_4', 'D_xi_5', 'D_xi_6', 'D_xi_7', 'D_xi_8', 'D_xi_9', 'D_xi_10', 'D_xi_11', 'D_xi_12', 'Rho', 'FP', 'FN']\n"
     ]
    }
   ],
   "source": [
    "print(test.inputVarNames)\n",
    "print(test.inputVarNamesKL)\n",
    "test.getDataFieldAndRV()"
   ]
  },
  {
   "cell_type": "code",
   "execution_count": 30,
   "metadata": {},
   "outputs": [
    {
     "data": {
      "text/plain": [
       "[8, 13, 1, 1, 1]"
      ]
     },
     "execution_count": 30,
     "metadata": {},
     "output_type": "execute_result"
    }
   ],
   "source": [
    "test.dataMixSamples"
   ]
  },
  {
   "cell_type": "code",
   "execution_count": 31,
   "metadata": {},
   "outputs": [
    {
     "data": {
      "text/plain": [
       "(100, 24)"
      ]
     },
     "execution_count": 31,
     "metadata": {},
     "output_type": "execute_result"
    }
   ],
   "source": [
    "test.sample_A.shape"
   ]
  },
  {
   "cell_type": "code",
   "execution_count": 32,
   "metadata": {},
   "outputs": [],
   "source": [
    "test.getExperiment()"
   ]
  },
  {
   "cell_type": "code",
   "execution_count": 33,
   "metadata": {},
   "outputs": [
    {
     "data": {
      "text/plain": [
       "(700, 24)"
      ]
     },
     "execution_count": 33,
     "metadata": {},
     "output_type": "execute_result"
    }
   ],
   "source": [
    "test.experimentSample.shape"
   ]
  },
  {
   "cell_type": "code",
   "execution_count": 34,
   "metadata": {},
   "outputs": [
    {
     "data": {
      "text/plain": [
       "array([ 0,  1,  2,  3,  4,  5,  6,  7,  8,  9, 10, 11, 12, 13, 14, 15, 16,\n",
       "       17, 18, 19, 20, 21, 22, 23])"
      ]
     },
     "execution_count": 34,
     "metadata": {},
     "output_type": "execute_result"
    }
   ],
   "source": [
    "np.unique(np.argwhere(test.experimentSample[100:200,...]==test.sample_B)[...,1])"
   ]
  },
  {
   "cell_type": "code",
   "execution_count": 35,
   "metadata": {},
   "outputs": [
    {
     "data": {
      "text/plain": [
       "array([0, 1, 2, 3, 4, 5, 6, 7])"
      ]
     },
     "execution_count": 35,
     "metadata": {},
     "output_type": "execute_result"
    }
   ],
   "source": [
    "np.unique(np.argwhere(test.experimentSample[200:300,...]==test.sample_B)[...,1])"
   ]
  },
  {
   "cell_type": "code",
   "execution_count": 36,
   "metadata": {},
   "outputs": [
    {
     "data": {
      "text/plain": [
       "array([ 8,  9, 10, 11, 12, 13, 14, 15, 16, 17, 18, 19, 20])"
      ]
     },
     "execution_count": 36,
     "metadata": {},
     "output_type": "execute_result"
    }
   ],
   "source": [
    "np.unique(np.argwhere(test.experimentSample[300:400,...]==test.sample_B)[...,1])"
   ]
  },
  {
   "cell_type": "code",
   "execution_count": 37,
   "metadata": {},
   "outputs": [
    {
     "data": {
      "text/plain": [
       "array([21])"
      ]
     },
     "execution_count": 37,
     "metadata": {},
     "output_type": "execute_result"
    }
   ],
   "source": [
    "np.unique(np.argwhere(test.experimentSample[400:500,...]==test.sample_B)[...,1])"
   ]
  },
  {
   "cell_type": "code",
   "execution_count": 38,
   "metadata": {},
   "outputs": [
    {
     "data": {
      "text/plain": [
       "array([22])"
      ]
     },
     "execution_count": 38,
     "metadata": {},
     "output_type": "execute_result"
    }
   ],
   "source": [
    "np.unique(np.argwhere(test.experimentSample[500:600,...]==test.sample_B)[...,1])"
   ]
  },
  {
   "cell_type": "code",
   "execution_count": 39,
   "metadata": {},
   "outputs": [
    {
     "data": {
      "text/plain": [
       "array([23])"
      ]
     },
     "execution_count": 39,
     "metadata": {},
     "output_type": "execute_result"
    }
   ],
   "source": [
    "np.unique(np.argwhere(test.experimentSample[600:700,...]==test.sample_B)[...,1])"
   ]
  },
  {
   "cell_type": "markdown",
   "metadata": {},
   "source": [
    "Everything works alright, we get our samples as expected."
   ]
  },
  {
   "cell_type": "code",
   "execution_count": null,
   "metadata": {},
   "outputs": [],
   "source": []
  }
 ],
 "metadata": {
  "kernelspec": {
   "display_name": "Python 3",
   "language": "python",
   "name": "python3"
  },
  "language_info": {
   "codemirror_mode": {
    "name": "ipython",
    "version": 3
   },
   "file_extension": ".py",
   "mimetype": "text/x-python",
   "name": "python",
   "nbconvert_exporter": "python",
   "pygments_lexer": "ipython3",
   "version": "3.6.7"
  }
 },
 "nbformat": 4,
 "nbformat_minor": 4
}
