{
 "cells": [
  {
   "cell_type": "code",
   "execution_count": 1,
   "metadata": {},
   "outputs": [],
   "source": [
    "try:\n",
    "    import anastruct, openturns, numba, joblib\n",
    "except:\n",
    "    import os\n",
    "    if os.sys.platform == 'linux' :\n",
    "        file_path = 'sensitivityEnv.yml'\n",
    "        os.system('conda env create -f'+file_path)\n",
    "        # to have the right modules installed\n",
    "        print('now activate the environment and restart jupyter with other kernel')\n",
    "    else :\n",
    "        print('Do it alone')"
   ]
  },
  {
   "cell_type": "code",
   "execution_count": 2,
   "metadata": {},
   "outputs": [
    {
     "name": "stdout",
     "output_type": "stream",
     "text": [
      "trend function args:  ['x']  trend function:  210000 \n",
      "\n",
      "Please be aware that the number of elements in the argument list has to be the same as the dimension of the process:  1\n",
      "trend function args:  ['x']  trend function:  10 \n",
      "\n",
      "Please be aware that the number of elements in the argument list has to be the same as the dimension of the process:  1\n",
      "Populating the interactive namespace from numpy and matplotlib\n"
     ]
    }
   ],
   "source": [
    "import NdGaussianProcessSensitivity_MOD as ngps\n",
    "import NdGaussianProcessConstructor as ngpc\n",
    "# Classes utilitaires\n",
    "import numpy                        as np\n",
    "import openturns                    as ot\n",
    "import matplotlib.pyplot            as plt\n",
    "from   importlib                import reload \n",
    "\n",
    "# on importe aussi les fonctions à étudier\n",
    "import RandomBeamGenerationClass    as rbgc\n",
    "\n",
    "%pylab inline\n",
    "pylab.rcParams['figure.figsize'] = (13, 5)"
   ]
  },
  {
   "cell_type": "code",
   "execution_count": 3,
   "metadata": {},
   "outputs": [
    {
     "name": "stdout",
     "output_type": "stream",
     "text": [
      "trend function args:  ['x']  trend function:  210000 \n",
      "\n",
      "Please be aware that the number of elements in the argument list has to be the same as the dimension of the process:  1\n",
      "trend function args:  ['x']  trend function:  10 \n",
      "\n",
      "Please be aware that the number of elements in the argument list has to be the same as the dimension of the process:  1\n"
     ]
    }
   ],
   "source": [
    "# process governing the young modulus for each element      (MPa)\n",
    "process_E = ngpc.NdGaussianProcessConstructor(dimension=1,\n",
    "                                              grid_shape=[[0,1000,100],],\n",
    "                                              covariance_model={'NameModel':'MaternModel',\n",
    "                                                                'amplitude':3150.,\n",
    "                                                                'scale':300,\n",
    "                                                                'nu':13/3},\n",
    "                                              trend_arguments=['x'],trend_function=210000)\n",
    "process_E.setName('E_')\n",
    "\n",
    "\n",
    "# process governing the diameter for each element          (mm)\n",
    "process_D = ngpc.NdGaussianProcessConstructor(dimension=1,\n",
    "                                              grid_shape=[[0,1000,100],],\n",
    "                                              covariance_model={'NameModel':'MaternModel',\n",
    "                                                                'amplitude':.15,\n",
    "                                                                'scale':250,\n",
    "                                                                'nu':7.4/3},\n",
    "                                              trend_arguments=['x'],trend_function=10)\n",
    "process_D.setName('D_')\n",
    "\n",
    "\n",
    "# random variable for the density of the material (kg/m³)\n",
    "rho         = 7850.\n",
    "sigma       = 117.5\n",
    "nameD       = 'Rho'\n",
    "RV_Rho = ngpc.NormalDistribution(mu = rho, sigma = sigma, name = nameD)\n",
    "\n",
    "\n",
    "# random variable for the position of the force   (mm) \n",
    "middle       = 500\n",
    "sigma_f      = 7.5\n",
    "namePos     = 'FP'\n",
    "RV_Fpos = ngpc.NormalDistribution(mu = middle, sigma = sigma_f, name = namePos)\n",
    "\n",
    "\n",
    "# random variable for the norm of the force    (N)\n",
    "muForce       = 100\n",
    "# we go from sigma = 15 to sigma = 1.5, as the influence is too important\n",
    "sigma_Fnor    = 1.5\n",
    "nameNor       = 'FN'\n",
    "RV_Fnorm = ngpc.NormalDistribution(mu = muForce, sigma = sigma_Fnor, name = nameNor)"
   ]
  },
  {
   "cell_type": "code",
   "execution_count": 4,
   "metadata": {},
   "outputs": [],
   "source": [
    "from importlib import reload\n",
    "reload(ngps)\n",
    "outputVariables = {'out1' :\n",
    "                   {\n",
    "                         'name'     : 'VonMisesStress',\n",
    "                         'position' : 0,\n",
    "                         'shape'    : (102,)  \n",
    "                    },\n",
    "                   'out2' :\n",
    "                   {\n",
    "                        'name'      : 'maxDeflection',\n",
    "                        'position'  : 1,\n",
    "                        'shape'     : (1,)\n",
    "                   }\n",
    "                  }\n",
    "#Pour utiliser notre fonction, un wrapper a été spécialement écrit pour faciliter l'accès aux fonctions mais\n",
    "#ce choix est entièrement dépendant de la manière dont a été définie la fonction sur laquelle vous travaillez.\n",
    "functionWrapper = rbgc.sampleAndSoloFunctionWrapper(process_E, process_D, RV_Rho, RV_Fpos, RV_Fnorm)\n"
   ]
  },
  {
   "cell_type": "code",
   "execution_count": 5,
   "metadata": {},
   "outputs": [
    {
     "name": "stdout",
     "output_type": "stream",
     "text": [
      "trend function args:  ['x']  trend function:  210000 \n",
      "\n",
      "Please be aware that the number of elements in the argument list has to be the same as the dimension of the process:  1\n",
      "trend function args:  ['x']  trend function:  10 \n",
      "\n",
      "Please be aware that the number of elements in the argument list has to be the same as the dimension of the process:  1\n"
     ]
    }
   ],
   "source": [
    "inputVarList = [process_E, process_D, RV_Rho, RV_Fpos, RV_Fnorm]\n",
    "# We also the need the two functions of the model (one for samples, the other for single evaluations)\n",
    "# In our case, as our model is defined as a class, we have to first create the model, \n",
    "# but it also could just be just two functions taking as an input the fields and RVs\n",
    "soloFunction   = functionWrapper.randomBeamFunctionSolo\n",
    "sampleFunction = functionWrapper.randomBeamFunctionSample\n",
    "##\n",
    "size           = 100\n",
    "## Number of samples for our sobol indicies experiment (kept low here to make things faster)\n",
    "##\n",
    "reload(ngps)\n",
    "##\n",
    "processSensitivityAnalysis = ngps.NdGaussianProcessSensitivityAnalysis(inputVarList, \n",
    "                                                                       outputVariables,\n",
    "                                                                       sampleFunction,\n",
    "                                                                       soloFunction,\n",
    "                                                                       size)"
   ]
  },
  {
   "cell_type": "code",
   "execution_count": 6,
   "metadata": {
    "scrolled": true
   },
   "outputs": [
    {
     "name": "stdout",
     "output_type": "stream",
     "text": [
      "len(inputDesign) =  2600\n"
     ]
    }
   ],
   "source": [
    "processSensitivityAnalysis.prepareSobolIndicesExperiment()"
   ]
  },
  {
   "cell_type": "code",
   "execution_count": 7,
   "metadata": {},
   "outputs": [
    {
     "name": "stderr",
     "output_type": "stream",
     "text": [
      "[Parallel(n_jobs=-1)]: Using backend LokyBackend with 4 concurrent workers.\n",
      "[Parallel(n_jobs=-1)]: Done   5 tasks      | elapsed:   12.2s\n",
      "[Parallel(n_jobs=-1)]: Done  10 tasks      | elapsed:   12.6s\n",
      "[Parallel(n_jobs=-1)]: Done  17 tasks      | elapsed:   13.2s\n",
      "[Parallel(n_jobs=-1)]: Done  24 tasks      | elapsed:   13.6s\n",
      "[Parallel(n_jobs=-1)]: Done  33 tasks      | elapsed:   14.3s\n",
      "[Parallel(n_jobs=-1)]: Done  42 tasks      | elapsed:   15.0s\n",
      "[Parallel(n_jobs=-1)]: Done  53 tasks      | elapsed:   15.8s\n",
      "[Parallel(n_jobs=-1)]: Done  64 tasks      | elapsed:   16.6s\n",
      "[Parallel(n_jobs=-1)]: Done  77 tasks      | elapsed:   17.5s\n",
      "[Parallel(n_jobs=-1)]: Done  90 tasks      | elapsed:   19.4s\n",
      "[Parallel(n_jobs=-1)]: Done 105 tasks      | elapsed:   20.8s\n",
      "[Parallel(n_jobs=-1)]: Done 120 tasks      | elapsed:   21.8s\n",
      "[Parallel(n_jobs=-1)]: Done 137 tasks      | elapsed:   23.0s\n",
      "[Parallel(n_jobs=-1)]: Done 154 tasks      | elapsed:   24.1s\n",
      "[Parallel(n_jobs=-1)]: Done 173 tasks      | elapsed:   25.4s\n",
      "[Parallel(n_jobs=-1)]: Done 192 tasks      | elapsed:   26.7s\n",
      "[Parallel(n_jobs=-1)]: Done 213 tasks      | elapsed:   28.3s\n",
      "[Parallel(n_jobs=-1)]: Done 234 tasks      | elapsed:   29.8s\n",
      "[Parallel(n_jobs=-1)]: Done 257 tasks      | elapsed:   31.4s\n",
      "[Parallel(n_jobs=-1)]: Done 280 tasks      | elapsed:   33.2s\n",
      "[Parallel(n_jobs=-1)]: Done 305 tasks      | elapsed:   34.9s\n",
      "[Parallel(n_jobs=-1)]: Done 330 tasks      | elapsed:   36.7s\n",
      "[Parallel(n_jobs=-1)]: Done 357 tasks      | elapsed:   38.5s\n",
      "[Parallel(n_jobs=-1)]: Done 384 tasks      | elapsed:   40.7s\n",
      "[Parallel(n_jobs=-1)]: Done 413 tasks      | elapsed:   42.7s\n",
      "[Parallel(n_jobs=-1)]: Done 442 tasks      | elapsed:   44.6s\n",
      "[Parallel(n_jobs=-1)]: Done 473 tasks      | elapsed:   46.8s\n",
      "[Parallel(n_jobs=-1)]: Done 504 tasks      | elapsed:   48.8s\n",
      "[Parallel(n_jobs=-1)]: Done 537 tasks      | elapsed:   51.2s\n",
      "[Parallel(n_jobs=-1)]: Done 570 tasks      | elapsed:   53.4s\n",
      "[Parallel(n_jobs=-1)]: Done 605 tasks      | elapsed:   55.7s\n",
      "[Parallel(n_jobs=-1)]: Done 640 tasks      | elapsed:   58.0s\n",
      "[Parallel(n_jobs=-1)]: Done 677 tasks      | elapsed:  1.0min\n",
      "[Parallel(n_jobs=-1)]: Done 714 tasks      | elapsed:  1.0min\n",
      "[Parallel(n_jobs=-1)]: Done 753 tasks      | elapsed:  1.1min\n",
      "[Parallel(n_jobs=-1)]: Done 792 tasks      | elapsed:  1.1min\n",
      "[Parallel(n_jobs=-1)]: Done 833 tasks      | elapsed:  1.2min\n",
      "[Parallel(n_jobs=-1)]: Done 874 tasks      | elapsed:  1.2min\n",
      "[Parallel(n_jobs=-1)]: Done 917 tasks      | elapsed:  1.3min\n",
      "[Parallel(n_jobs=-1)]: Done 960 tasks      | elapsed:  1.3min\n",
      "[Parallel(n_jobs=-1)]: Done 1005 tasks      | elapsed:  1.4min\n",
      "[Parallel(n_jobs=-1)]: Done 1050 tasks      | elapsed:  1.4min\n",
      "[Parallel(n_jobs=-1)]: Done 1097 tasks      | elapsed:  1.5min\n",
      "[Parallel(n_jobs=-1)]: Done 1144 tasks      | elapsed:  1.5min\n",
      "[Parallel(n_jobs=-1)]: Done 1193 tasks      | elapsed:  1.6min\n",
      "[Parallel(n_jobs=-1)]: Done 1242 tasks      | elapsed:  1.6min\n",
      "[Parallel(n_jobs=-1)]: Done 1293 tasks      | elapsed:  1.7min\n",
      "[Parallel(n_jobs=-1)]: Done 1344 tasks      | elapsed:  1.8min\n",
      "[Parallel(n_jobs=-1)]: Done 1397 tasks      | elapsed:  1.8min\n",
      "[Parallel(n_jobs=-1)]: Done 1450 tasks      | elapsed:  1.9min\n",
      "[Parallel(n_jobs=-1)]: Done 1505 tasks      | elapsed:  2.0min\n",
      "[Parallel(n_jobs=-1)]: Done 1560 tasks      | elapsed:  2.0min\n",
      "[Parallel(n_jobs=-1)]: Done 1617 tasks      | elapsed:  2.1min\n",
      "[Parallel(n_jobs=-1)]: Done 1674 tasks      | elapsed:  2.2min\n",
      "[Parallel(n_jobs=-1)]: Done 1733 tasks      | elapsed:  2.2min\n",
      "[Parallel(n_jobs=-1)]: Done 1792 tasks      | elapsed:  2.3min\n",
      "[Parallel(n_jobs=-1)]: Done 1853 tasks      | elapsed:  2.4min\n",
      "[Parallel(n_jobs=-1)]: Done 1914 tasks      | elapsed:  2.4min\n",
      "[Parallel(n_jobs=-1)]: Done 1977 tasks      | elapsed:  2.5min\n",
      "[Parallel(n_jobs=-1)]: Done 2040 tasks      | elapsed:  2.6min\n",
      "[Parallel(n_jobs=-1)]: Done 2105 tasks      | elapsed:  2.7min\n",
      "[Parallel(n_jobs=-1)]: Done 2170 tasks      | elapsed:  2.7min\n",
      "[Parallel(n_jobs=-1)]: Done 2237 tasks      | elapsed:  2.8min\n",
      "[Parallel(n_jobs=-1)]: Done 2304 tasks      | elapsed:  2.9min\n",
      "[Parallel(n_jobs=-1)]: Done 2373 tasks      | elapsed:  3.0min\n",
      "[Parallel(n_jobs=-1)]: Done 2442 tasks      | elapsed:  3.0min\n",
      "[Parallel(n_jobs=-1)]: Done 2513 tasks      | elapsed:  3.1min\n",
      "[Parallel(n_jobs=-1)]: Done 2584 tasks      | elapsed:  3.2min\n"
     ]
    },
    {
     "name": "stdout",
     "output_type": "stream",
     "text": [
      "shape deflection:  (2600, 103)  should be [N,10X] something\n",
      "deflection std deviation  1.0689570182482873\n",
      "timed  192.832730055  s for function \" randomBeamFunctionSample \"\n",
      "columns where nan :  []\n",
      "No errors while processing, the function has returned no np.nan.\n"
     ]
    },
    {
     "name": "stderr",
     "output_type": "stream",
     "text": [
      "[Parallel(n_jobs=-1)]: Done 2600 out of 2600 | elapsed:  3.2min finished\n"
     ]
    }
   ],
   "source": [
    "processSensitivityAnalysis.getOutputDesignAndPostprocess()"
   ]
  },
  {
   "cell_type": "code",
   "execution_count": null,
   "metadata": {},
   "outputs": [],
   "source": [
    "import NdGaussianProcessSensitivityIndices as ngpsi\n",
    "reload(ngpsi)\n",
    "processSensitivityAnalysis.outputDesignList"
   ]
  },
  {
   "cell_type": "code",
   "execution_count": 10,
   "metadata": {},
   "outputs": [
    {
     "name": "stdout",
     "output_type": "stream",
     "text": [
      "There are 5 indices to get in (102,) dimensions with 102 elements\n",
      "There are 5 indices to get in 1 dimensions with 1 elements\n"
     ]
    }
   ],
   "source": [
    "output = processSensitivityAnalysis.outputDesignList\n",
    "output1 = output[0]\n",
    "output2 = output[1]\n",
    "S, Stot = ngpsi.NdGaussianProcessSensitivityIndicesBase.getSobolIndices(output1,100)\n",
    "S2, Stot2 = ngpsi.NdGaussianProcessSensitivityIndicesBase.getSobolIndices(output2,100)"
   ]
  },
  {
   "cell_type": "code",
   "execution_count": 11,
   "metadata": {
    "scrolled": true
   },
   "outputs": [
    {
     "data": {
      "text/plain": [
       "<matplotlib.colorbar.Colorbar at 0x7fda2736cf28>"
      ]
     },
     "execution_count": 11,
     "metadata": {},
     "output_type": "execute_result"
    },
    {
     "data": {
      "image/png": "[encoded data removed]",
      "text/plain": [
       "<Figure size 936x360 with 2 Axes>"
      ]
     },
     "metadata": {
      "needs_background": "light"
     },
     "output_type": "display_data"
    }
   ],
   "source": [
    "#composedDist = processSensitivityAnalysis.wrappedFunction.KLComposedDistribution\n",
    "plt.yticks([0,1,2,3,4],[\"Module d'Young\",'Diametre','Densité','Position Force','Norme Force'])\n",
    "x=plt.imshow(S, cmap='CMRmap',aspect='auto')\n",
    "plt.colorbar()"
   ]
  },
  {
   "cell_type": "code",
   "execution_count": null,
   "metadata": {},
   "outputs": [],
   "source": []
  },
  {
   "cell_type": "code",
   "execution_count": 12,
   "metadata": {
    "scrolled": false
   },
   "outputs": [
    {
     "data": {
      "text/plain": [
       "array([-0.01418522,  0.83809877, -0.01386103,  0.12272222,  0.08087469])"
      ]
     },
     "execution_count": 12,
     "metadata": {},
     "output_type": "execute_result"
    }
   ],
   "source": [
    "S[...,0:5]\n",
    "S2"
   ]
  },
  {
   "cell_type": "code",
   "execution_count": 15,
   "metadata": {
    "scrolled": false
   },
   "outputs": [
    {
     "data": {
      "text/plain": [
       "[None, None, None, None, None]"
      ]
     },
     "execution_count": 15,
     "metadata": {},
     "output_type": "execute_result"
    }
   ],
   "source": [
    "sob = list(S2)\n",
    "Sobol=list()\n",
    "[Sobol.append(round(x,3)) for x in sob]"
   ]
  },
  {
   "cell_type": "code",
   "execution_count": 36,
   "metadata": {},
   "outputs": [
    {
     "data": {
      "image/png": "[encoded data removed]",
      "text/plain": [
       "<Figure size 432x288 with 1 Axes>"
      ]
     },
     "metadata": {
      "needs_background": "light"
     },
     "output_type": "display_data"
    }
   ],
   "source": [
    "im = plt.imshow(S)"
   ]
  },
  {
   "cell_type": "code",
   "execution_count": 37,
   "metadata": {},
   "outputs": [],
   "source": [
    "plt.show(im)"
   ]
  },
  {
   "cell_type": "code",
   "execution_count": 14,
   "metadata": {},
   "outputs": [
    {
     "name": "stdout",
     "output_type": "stream",
     "text": [
      "['E_', 'D_', 'Rho', 'FP', 'FN']\n",
      "['E_xi_0', 'E_xi_1', 'E_xi_2', 'E_xi_3', 'E_xi_4', 'E_xi_5', 'E_xi_6', 'E_xi_7', 'D_xi_0', 'D_xi_1', 'D_xi_2', 'D_xi_3', 'D_xi_4', 'D_xi_5', 'D_xi_6', 'D_xi_7', 'D_xi_8', 'D_xi_9', 'D_xi_10', 'D_xi_11', 'D_xi_12', 'Rho', 'FP', 'FN']\n",
      "['var0', 'var1', 'var2', 'var3', 'var4']\n"
     ]
    }
   ],
   "source": [
    "print(processSensitivityAnalysis.wrappedFunction.inputVarNames)\n",
    "print(processSensitivityAnalysis.wrappedFunction.inputVarNamesKL)\n",
    "print(processSensitivityAnalysis.wrappedFunction._inputVarOrdering)"
   ]
  },
  {
   "cell_type": "code",
   "execution_count": null,
   "metadata": {},
   "outputs": [],
   "source": []
  },
  {
   "cell_type": "code",
   "execution_count": 12,
   "metadata": {},
   "outputs": [],
   "source": [
    "import customWraps as cw"
   ]
  },
  {
   "cell_type": "code",
   "execution_count": 13,
   "metadata": {},
   "outputs": [],
   "source": [
    "@cw.timing\n",
    "def getLHSExperiment(distribution, size, alwaysShuffle, randomShift):\n",
    "    return ot.LHSExperiment(distribution, size, alwaysShuffle, randomShift).generate()"
   ]
  },
  {
   "cell_type": "code",
   "execution_count": 14,
   "metadata": {},
   "outputs": [
    {
     "name": "stdout",
     "output_type": "stream",
     "text": [
      "timed  0.040719986  s for function \" getLHSExperiment \"\n"
     ]
    }
   ],
   "source": [
    "exp = getLHSExperiment(composedDist, 2000, True, True)"
   ]
  },
  {
   "cell_type": "code",
   "execution_count": 15,
   "metadata": {},
   "outputs": [
    {
     "name": "stdout",
     "output_type": "stream",
     "text": [
      "That works really fast!\n"
     ]
    },
    {
     "data": {
      "text/html": [
       "<TABLE><TR><TH></TH><TH>X0</TH><TH>X1</TH><TH>X2</TH><TH COLSPAN=\"18\">...</TH><TH>X21</TH><TH>X22</TH><TH>X23</TH></TR>\n",
       "<TR><TD>0</TD><TD>55.79033269728237</TD><TD>-0.19098185493210715</TD><TD>23.283969210695176<TD COLSPAN=\"18\">...</TD><TD>8005.524793957302</TD><TD>484.73561116938885</TD><TD>101.64863260724084</TD></TR>\n",
       "<TR><TD>1</TD><TD>55.333491276247884</TD><TD>1.3712593607868964</TD><TD>24.20841863903222<TD COLSPAN=\"18\">...</TD><TD>7653.50976204961</TD><TD>481.9859412832348</TD><TD>97.72070938147876</TD></TR>\n",
       "<TR><TD>2</TD><TD>54.202336863482806</TD><TD>0.8713551721507448</TD><TD>23.859810842167406<TD COLSPAN=\"18\">...</TD><TD>7814.162503617186</TD><TD>407.55489907365524</TD><TD>99.99375393705621</TD></TR>\n",
       "<TR><TD COLSPAN=\"25\">...</TD></TR>\n",
       "<TR><TD>1997</TD><TD>54.851463546533154</TD><TD>-0.5239463721670796</TD><TD>24.219277385649654<TD COLSPAN=\"18\">...</TD><TD>8217.194258966842</TD><TD>477.8411794090323</TD><TD>99.50374356968953</TD></TR>\n",
       "<TR><TD>1998</TD><TD>54.40464522348954</TD><TD>-0.3293520205616215</TD><TD>25.966400126230262<TD COLSPAN=\"18\">...</TD><TD>7412.336856933777</TD><TD>507.69024038517824</TD><TD>98.94227460619537</TD></TR>\n",
       "<TR><TD>1999</TD><TD>54.34661766684137</TD><TD>-0.5701349001063507</TD><TD>24.411461830266525<TD COLSPAN=\"18\">...</TD><TD>7878.010110100623</TD><TD>402.96362061509814</TD><TD>99.9011092586734</TD></TR>\n",
       "</TABLE>"
      ],
      "text/plain": [
       "class=Sample name=Unnamed implementation=class=SampleImplementation name=Unnamed size=2000 dimension=24 description=[X0,X1,X2,...,X21,X22,X23] data=[[55.7903,-0.190982,23.284,...,8005.52,484.736,101.649],[55.3335,1.37126,24.2084,...,7653.51,481.986,97.7207],[54.2023,0.871355,23.8598,...,7814.16,407.555,99.9938],...,[54.8515,-0.523946,24.2193,...,8217.19,477.841,99.5037],[54.4046,-0.329352,25.9664,...,7412.34,507.69,98.9423],[54.3466,-0.570135,24.4115,...,7878.01,402.964,99.9011]]"
      ]
     },
     "execution_count": 15,
     "metadata": {},
     "output_type": "execute_result"
    }
   ],
   "source": [
    "print('That works really fast!')\n",
    "exp"
   ]
  },
  {
   "cell_type": "code",
   "execution_count": 55,
   "metadata": {},
   "outputs": [
    {
     "data": {
      "text/plain": [
       "<module 'NdGaussianProcessExperimentGeneration' from '/home/motherloadubu/Documents/project_PHIMECA/stochastic_process_analysis/NdGaussianProcessExperimentGeneration.py'>"
      ]
     },
     "execution_count": 55,
     "metadata": {},
     "output_type": "execute_result"
    }
   ],
   "source": [
    "import NdGaussianProcessExperimentGeneration as ngpeg\n",
    "reload(ngpeg)"
   ]
  },
  {
   "cell_type": "code",
   "execution_count": 56,
   "metadata": {},
   "outputs": [
    {
     "name": "stdout",
     "output_type": "stream",
     "text": [
      "Generation types:\n",
      "1 : Random (default)\n",
      "2 : LHS\n",
      "3 : LowDiscrepancySequence\n",
      "4 : SimulatedAnnealingLHS\n"
     ]
    }
   ],
   "source": [
    "test0 = ngpeg.NdGaussianProcessExperiment(processSensitivityAnalysis.sampleSize,\n",
    "                                         processSensitivityAnalysis.wrappedFunction)"
   ]
  },
  {
   "cell_type": "code",
   "execution_count": 57,
   "metadata": {},
   "outputs": [
    {
     "data": {
      "text/plain": [
       "array([[ 5.50346146e+01,  9.81992100e-02,  2.47360736e+01, ...,\n",
       "         7.45248899e+03,  6.01817823e+02,  1.01293963e+02],\n",
       "       [ 5.37555756e+01,  1.29455188e-01,  2.28109014e+01, ...,\n",
       "         7.95669043e+03,  4.37887664e+02,  9.96609256e+01],\n",
       "       [ 5.53507742e+01, -1.25225486e+00,  2.43850209e+01, ...,\n",
       "         7.96235937e+03,  4.37713257e+02,  1.00149113e+02],\n",
       "       ...,\n",
       "       [ 5.60095120e+01,  7.35625214e-01,  2.33273992e+01, ...,\n",
       "         8.07962019e+03,  5.26993032e+02,  1.00278874e+02],\n",
       "       [ 5.65213904e+01,  3.75193848e-01,  2.45633504e+01, ...,\n",
       "         7.82180335e+03,  5.20321230e+02,  9.79694576e+01],\n",
       "       [ 5.47746640e+01,  1.08818884e+00,  2.43071075e+01, ...,\n",
       "         7.95333093e+03,  5.59042152e+02,  9.89984624e+01]])"
      ]
     },
     "execution_count": 57,
     "metadata": {},
     "output_type": "execute_result"
    }
   ],
   "source": [
    "test0.generate()"
   ]
  },
  {
   "cell_type": "code",
   "execution_count": 49,
   "metadata": {},
   "outputs": [],
   "source": [
    "test0.getDataFieldAndRV()"
   ]
  },
  {
   "cell_type": "code",
   "execution_count": 50,
   "metadata": {},
   "outputs": [],
   "source": [
    "test0.getExperiment()"
   ]
  },
  {
   "cell_type": "code",
   "execution_count": 22,
   "metadata": {},
   "outputs": [
    {
     "name": "stdout",
     "output_type": "stream",
     "text": [
      "Generation types:\n",
      "1 : Random (default)\n",
      "2 : LHS\n",
      "3 : LowDiscrepancySequence\n",
      "4 : SimulatedAnnealingLHS\n"
     ]
    }
   ],
   "source": [
    "test = ngpeg.NdGaussianProcessExperiment()"
   ]
  },
  {
   "cell_type": "code",
   "execution_count": 23,
   "metadata": {},
   "outputs": [],
   "source": [
    "test.setSampleSize(100)"
   ]
  },
  {
   "cell_type": "code",
   "execution_count": 24,
   "metadata": {},
   "outputs": [],
   "source": [
    "test.setOTPyFunctionWrapper(processSensitivityAnalysis.wrappedFunction)"
   ]
  },
  {
   "cell_type": "code",
   "execution_count": 25,
   "metadata": {},
   "outputs": [],
   "source": [
    "test.setGenType(1)\n",
    "test.generateSample()"
   ]
  },
  {
   "cell_type": "code",
   "execution_count": 26,
   "metadata": {},
   "outputs": [],
   "source": [
    "test.setGenType(2)\n",
    "test.generateSample()"
   ]
  },
  {
   "cell_type": "code",
   "execution_count": 27,
   "metadata": {},
   "outputs": [],
   "source": [
    "test.setGenType(3)\n",
    "test.generateSample(sequence='Halton')"
   ]
  },
  {
   "cell_type": "code",
   "execution_count": 28,
   "metadata": {},
   "outputs": [
    {
     "name": "stdout",
     "output_type": "stream",
     "text": [
      "undefined parameter 'SpaceFilling', setting to default 'SpaceFillingC2'\n",
      "undefined parameter 'TemperatureProfile', setting default GeometricProfile\n"
     ]
    }
   ],
   "source": [
    "test.setGenType(4)\n",
    "arr=test.generateSample()"
   ]
  },
  {
   "cell_type": "code",
   "execution_count": 29,
   "metadata": {},
   "outputs": [
    {
     "name": "stdout",
     "output_type": "stream",
     "text": [
      "['E_', 'D_', 'Rho', 'FP', 'FN']\n",
      "['E_xi_0', 'E_xi_1', 'E_xi_2', 'E_xi_3', 'E_xi_4', 'E_xi_5', 'E_xi_6', 'E_xi_7', 'D_xi_0', 'D_xi_1', 'D_xi_2', 'D_xi_3', 'D_xi_4', 'D_xi_5', 'D_xi_6', 'D_xi_7', 'D_xi_8', 'D_xi_9', 'D_xi_10', 'D_xi_11', 'D_xi_12', 'Rho', 'FP', 'FN']\n"
     ]
    }
   ],
   "source": [
    "print(test.inputVarNames)\n",
    "print(test.inputVarNamesKL)\n",
    "test.getDataFieldAndRV()"
   ]
  },
  {
   "cell_type": "code",
   "execution_count": 30,
   "metadata": {},
   "outputs": [
    {
     "data": {
      "text/plain": [
       "[8, 13, 1, 1, 1]"
      ]
     },
     "execution_count": 30,
     "metadata": {},
     "output_type": "execute_result"
    }
   ],
   "source": [
    "test.dataMixSamples"
   ]
  },
  {
   "cell_type": "code",
   "execution_count": 31,
   "metadata": {},
   "outputs": [
    {
     "data": {
      "text/plain": [
       "(100, 24)"
      ]
     },
     "execution_count": 31,
     "metadata": {},
     "output_type": "execute_result"
    }
   ],
   "source": [
    "test.sample_A.shape"
   ]
  },
  {
   "cell_type": "code",
   "execution_count": 32,
   "metadata": {},
   "outputs": [],
   "source": [
    "test.getExperiment()"
   ]
  },
  {
   "cell_type": "code",
   "execution_count": 33,
   "metadata": {},
   "outputs": [
    {
     "data": {
      "text/plain": [
       "(700, 24)"
      ]
     },
     "execution_count": 33,
     "metadata": {},
     "output_type": "execute_result"
    }
   ],
   "source": [
    "test.experimentSample.shape"
   ]
  },
  {
   "cell_type": "code",
   "execution_count": 34,
   "metadata": {},
   "outputs": [
    {
     "data": {
      "text/plain": [
       "array([ 0,  1,  2,  3,  4,  5,  6,  7,  8,  9, 10, 11, 12, 13, 14, 15, 16,\n",
       "       17, 18, 19, 20, 21, 22, 23])"
      ]
     },
     "execution_count": 34,
     "metadata": {},
     "output_type": "execute_result"
    }
   ],
   "source": [
    "np.unique(np.argwhere(test.experimentSample[100:200,...]==test.sample_B)[...,1])"
   ]
  },
  {
   "cell_type": "code",
   "execution_count": 35,
   "metadata": {},
   "outputs": [
    {
     "data": {
      "text/plain": [
       "array([0, 1, 2, 3, 4, 5, 6, 7])"
      ]
     },
     "execution_count": 35,
     "metadata": {},
     "output_type": "execute_result"
    }
   ],
   "source": [
    "np.unique(np.argwhere(test.experimentSample[200:300,...]==test.sample_B)[...,1])"
   ]
  },
  {
   "cell_type": "code",
   "execution_count": 36,
   "metadata": {},
   "outputs": [
    {
     "data": {
      "text/plain": [
       "array([ 8,  9, 10, 11, 12, 13, 14, 15, 16, 17, 18, 19, 20])"
      ]
     },
     "execution_count": 36,
     "metadata": {},
     "output_type": "execute_result"
    }
   ],
   "source": [
    "np.unique(np.argwhere(test.experimentSample[300:400,...]==test.sample_B)[...,1])"
   ]
  },
  {
   "cell_type": "code",
   "execution_count": 37,
   "metadata": {},
   "outputs": [
    {
     "data": {
      "text/plain": [
       "array([21])"
      ]
     },
     "execution_count": 37,
     "metadata": {},
     "output_type": "execute_result"
    }
   ],
   "source": [
    "np.unique(np.argwhere(test.experimentSample[400:500,...]==test.sample_B)[...,1])"
   ]
  },
  {
   "cell_type": "code",
   "execution_count": 38,
   "metadata": {},
   "outputs": [
    {
     "data": {
      "text/plain": [
       "array([22])"
      ]
     },
     "execution_count": 38,
     "metadata": {},
     "output_type": "execute_result"
    }
   ],
   "source": [
    "np.unique(np.argwhere(test.experimentSample[500:600,...]==test.sample_B)[...,1])"
   ]
  },
  {
   "cell_type": "code",
   "execution_count": 39,
   "metadata": {},
   "outputs": [
    {
     "data": {
      "text/plain": [
       "array([23])"
      ]
     },
     "execution_count": 39,
     "metadata": {},
     "output_type": "execute_result"
    }
   ],
   "source": [
    "np.unique(np.argwhere(test.experimentSample[600:700,...]==test.sample_B)[...,1])"
   ]
  },
  {
   "cell_type": "markdown",
   "metadata": {},
   "source": [
    "Everything works alright, we get our samples as expected."
   ]
  },
  {
   "cell_type": "code",
   "execution_count": null,
   "metadata": {},
   "outputs": [],
   "source": []
  }
 ],
 "metadata": {
  "kernelspec": {
   "display_name": "Python 3",
   "language": "python",
   "name": "python3"
  },
  "language_info": {
   "codemirror_mode": {
    "name": "ipython",
    "version": 3
   },
   "file_extension": ".py",
   "mimetype": "text/x-python",
   "name": "python",
   "nbconvert_exporter": "python",
   "pygments_lexer": "ipython3",
   "version": "3.6.7"
  }
 },
 "nbformat": 4,
 "nbformat_minor": 4
}
