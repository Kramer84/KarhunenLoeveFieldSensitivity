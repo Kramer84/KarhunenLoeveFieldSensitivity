{
 "cells": [
  {
   "cell_type": "code",
   "execution_count": 22,
   "metadata": {},
   "outputs": [],
   "source": [
    "try:\n",
    "    import anastruct, openturns, numba, joblib\n",
    "except:\n",
    "    import os\n",
    "    if os.sys.platform == 'linux' :\n",
    "        file_path = 'sensitivityEnv.yml'\n",
    "        os.system('conda env create -f'+file_path)\n",
    "        # to have the right modules installed\n",
    "        print('now activate the environment and restart jupyter with other kernel')\n",
    "    else :\n",
    "        print('Do it alone')"
   ]
  },
  {
   "cell_type": "code",
   "execution_count": 23,
   "metadata": {},
   "outputs": [
    {
     "name": "stdout",
     "output_type": "stream",
     "text": [
      "Populating the interactive namespace from numpy and matplotlib\n"
     ]
    }
   ],
   "source": [
    "import NdGaussianProcessSensitivity_MOD as ngps\n",
    "import NdGaussianProcessConstructor as ngpc\n",
    "# Classes utilitaires\n",
    "import numpy                        as np\n",
    "import openturns                    as ot\n",
    "import matplotlib.pyplot            as plt\n",
    "from   importlib                import reload \n",
    "\n",
    "# on importe aussi les fonctions à étudier\n",
    "import RandomBeamGenerationClass    as rbgc\n",
    "\n",
    "%pylab inline\n",
    "pylab.rcParams['figure.figsize'] = (15, 9)"
   ]
  },
  {
   "cell_type": "code",
   "execution_count": 24,
   "metadata": {},
   "outputs": [
    {
     "name": "stdout",
     "output_type": "stream",
     "text": [
      "trend function args:  ['x']  trend function:  210000 \n",
      "\n",
      "Please be aware that the number of elements in the argument list has to be the same as the dimension of the process:  1\n",
      "trend function args:  ['x']  trend function:  10 \n",
      "\n",
      "Please be aware that the number of elements in the argument list has to be the same as the dimension of the process:  1\n"
     ]
    }
   ],
   "source": [
    "# process governing the young modulus for each element      (MPa)\n",
    "process_E = ngpc.NdGaussianProcessConstructor(dimension=1,\n",
    "                                              grid_shape=[[0,1000,100],],\n",
    "                                              covariance_model={'NameModel':'MaternModel',\n",
    "                                                                'amplitude':5000.,\n",
    "                                                                'scale':300,\n",
    "                                                                'nu':13/3},\n",
    "                                              trend_arguments=['x'],trend_function=210000)\n",
    "process_E.setName('E_')\n",
    "\n",
    "\n",
    "# process governing the diameter for each element          (mm)\n",
    "process_D = ngpc.NdGaussianProcessConstructor(dimension=1,\n",
    "                                              grid_shape=[[0,1000,100],],\n",
    "                                              covariance_model={'NameModel':'MaternModel',\n",
    "                                                                'amplitude':.3,\n",
    "                                                                'scale':250,\n",
    "                                                                'nu':7.4/3},\n",
    "                                              trend_arguments=['x'],trend_function=10)\n",
    "process_D.setName('D_')\n",
    "\n",
    "\n",
    "# random variable for the density of the material (kg/m³)\n",
    "rho         = 7850.\n",
    "sigma       = 250\n",
    "nameD       = 'Rho'\n",
    "RV_Rho = ngpc.NormalDistribution(mu = rho, sigma = sigma, name = nameD)\n",
    "\n",
    "\n",
    "# random variable for the position of the force   (mm) \n",
    "middle       = 500\n",
    "sigma_f      = 50\n",
    "namePos     = 'FP'\n",
    "RV_Fpos = ngpc.NormalDistribution(mu = middle, sigma = sigma_f, name = namePos)\n",
    "\n",
    "\n",
    "# random variable for the norm of the force    (N)\n",
    "muForce       = 100\n",
    "# we go from sigma = 15 to sigma = 1.5, as the influence is too important\n",
    "sigma_Fnor    = 1.5\n",
    "nameNor       = 'FN'\n",
    "RV_Fnorm = ngpc.NormalDistribution(mu = muForce, sigma = sigma_Fnor, name = nameNor)"
   ]
  },
  {
   "cell_type": "code",
   "execution_count": 25,
   "metadata": {},
   "outputs": [],
   "source": [
    "from importlib import reload\n",
    "reload(ngps)\n",
    "outputVariables = {'out1' :\n",
    "                   {\n",
    "                         'name'     : 'VonMisesStress',\n",
    "                         'position' : 0,\n",
    "                         'shape'    : (102,)  \n",
    "                    },\n",
    "                   'out2' :\n",
    "                   {\n",
    "                        'name'      : 'maxDeflection',\n",
    "                        'position'  : 1,\n",
    "                        'shape'     : (1,)\n",
    "                   }\n",
    "                  }\n",
    "#Pour utiliser notre fonction, un wrapper a été spécialement écrit pour faciliter l'accès aux fonctions mais\n",
    "#ce choix est entièrement dépendant de la manière dont a été définie la fonction sur laquelle vous travaillez.\n",
    "functionWrapper = rbgc.sampleAndSoloFunctionWrapper(process_E, process_D, RV_Rho, RV_Fpos, RV_Fnorm)\n"
   ]
  },
  {
   "cell_type": "code",
   "execution_count": null,
   "metadata": {},
   "outputs": [],
   "source": [
    "inputVarList = [process_E, process_D, RV_Rho, RV_Fpos, RV_Fnorm]\n",
    "# We also the need the two functions of the model (one for samples, the other for single evaluations)\n",
    "# In our case, as our model is defined as a class, we have to first create the model, \n",
    "# but it also could just be just two functions taking as an input the fields and RVs\n",
    "soloFunction   = functionWrapper.randomBeamFunctionSolo\n",
    "sampleFunction = functionWrapper.randomBeamFunctionSample\n",
    "##\n",
    "size           = 2000 ## Number of samples for our sobol indicies experiment (kept low here to make things faster)\n",
    "##\n",
    "reload(ngps)\n",
    "##\n",
    "processSensitivityAnalysis = ngps.NdGaussianProcessSensitivityAnalysis(inputVarList, \n",
    "                                                                       outputVariables,\n",
    "                                                                       sampleFunction,\n",
    "                                                                       soloFunction,\n",
    "                                                                       size)"
   ]
  },
  {
   "cell_type": "code",
   "execution_count": null,
   "metadata": {},
   "outputs": [],
   "source": [
    "processSensitivityAnalysis.prepareSobolIndicesExperiment()"
   ]
  },
  {
   "cell_type": "code",
   "execution_count": null,
   "metadata": {},
   "outputs": [],
   "source": [
    "processSensitivityAnalysis.getOutputDesignAndPostprocess()"
   ]
  },
  {
   "cell_type": "code",
   "execution_count": null,
   "metadata": {},
   "outputs": [],
   "source": [
    "import NdGaussianProcessSensitivityIndices as ngpsi\n",
    "reload(ngpsi)\n",
    "processSensitivityAnalysis.outputDesignList"
   ]
  },
  {
   "cell_type": "code",
   "execution_count": 20,
   "metadata": {},
   "outputs": [
    {
     "name": "stdout",
     "output_type": "stream",
     "text": [
      "Populating the interactive namespace from numpy and matplotlib\n",
      "There are 5 indices to get in (102,) dimensions with 102 elements\n",
      "There are 5 indices to get in 1 dimensions with 1 elements\n"
     ]
    }
   ],
   "source": [
    "output = processSensitivityAnalysis.outputDesignList\n",
    "output1 = output[0]\n",
    "output2 = output[1]\n",
    "S, Stot = ngpsi.NdGaussianProcessSensitivityIndicesBase.getSobolIndices(output1,800)\n",
    "S2, Stot2 = ngpsi.NdGaussianProcessSensitivityIndicesBase.getSobolIndices(output2,800)"
   ]
  },
  {
   "cell_type": "code",
   "execution_count": 21,
   "metadata": {
    "scrolled": true
   },
   "outputs": [
    {
     "data": {
      "text/plain": [
       "<matplotlib.image.AxesImage at 0x7f080925fa58>"
      ]
     },
     "execution_count": 21,
     "metadata": {},
     "output_type": "execute_result"
    },
    {
     "data": {
      "image/png": "[encoded data removed]",
      "text/plain": [
       "<Figure size 1080x648 with 1 Axes>"
      ]
     },
     "metadata": {
      "needs_background": "light"
     },
     "output_type": "display_data"
    }
   ],
   "source": [
    "composedDist = processSensitivityAnalysis.wrappedFunction.KLComposedDistribution\n",
    "plt.imshow(S)"
   ]
  },
  {
   "cell_type": "code",
   "execution_count": 17,
   "metadata": {
    "scrolled": false
   },
   "outputs": [
    {
     "data": {
      "text/plain": [
       "array([[-0.01994839, -0.0308146 , -0.03274779, -0.03435543, -0.03581407],\n",
       "       [ 0.27219881,  0.43220857,  0.44026895,  0.44233892,  0.44447003],\n",
       "       [-0.02002383, -0.03088026, -0.03281251, -0.03441967, -0.03587782],\n",
       "       [ 0.72714773,  0.54497628,  0.53472017,  0.5319345 ,  0.53000425],\n",
       "       [-0.00787639, -0.02229634, -0.02417193, -0.02554516, -0.02672383]])"
      ]
     },
     "execution_count": 17,
     "metadata": {},
     "output_type": "execute_result"
    }
   ],
   "source": [
    "S[...,0:5]"
   ]
  },
  {
   "cell_type": "code",
   "execution_count": 2,
   "metadata": {
    "scrolled": false
   },
   "outputs": [
    {
     "ename": "NameError",
     "evalue": "name 'S2' is not defined",
     "output_type": "error",
     "traceback": [
      "\u001b[0;31m---------------------------------------------------------------------------\u001b[0m",
      "\u001b[0;31mNameError\u001b[0m                                 Traceback (most recent call last)",
      "\u001b[0;32m<ipython-input-2-7f6544e0f4c7>\u001b[0m in \u001b[0;36m<module>\u001b[0;34m\u001b[0m\n\u001b[0;32m----> 1\u001b[0;31m \u001b[0msob\u001b[0m \u001b[0;34m=\u001b[0m \u001b[0mlist\u001b[0m\u001b[0;34m(\u001b[0m\u001b[0mS2\u001b[0m\u001b[0;34m)\u001b[0m\u001b[0;34m\u001b[0m\u001b[0;34m\u001b[0m\u001b[0m\n\u001b[0m\u001b[1;32m      2\u001b[0m \u001b[0mSobol\u001b[0m\u001b[0;34m=\u001b[0m\u001b[0mlist\u001b[0m\u001b[0;34m(\u001b[0m\u001b[0;34m)\u001b[0m\u001b[0;34m\u001b[0m\u001b[0;34m\u001b[0m\u001b[0m\n\u001b[1;32m      3\u001b[0m \u001b[0;34m[\u001b[0m\u001b[0mSobol\u001b[0m\u001b[0;34m.\u001b[0m\u001b[0mappend\u001b[0m\u001b[0;34m(\u001b[0m\u001b[0mround\u001b[0m\u001b[0;34m(\u001b[0m\u001b[0mx\u001b[0m\u001b[0;34m,\u001b[0m\u001b[0;36m3\u001b[0m\u001b[0;34m)\u001b[0m\u001b[0;34m)\u001b[0m \u001b[0;32mfor\u001b[0m \u001b[0mx\u001b[0m \u001b[0;32min\u001b[0m \u001b[0msob\u001b[0m\u001b[0;34m]\u001b[0m\u001b[0;34m\u001b[0m\u001b[0;34m\u001b[0m\u001b[0m\n",
      "\u001b[0;31mNameError\u001b[0m: name 'S2' is not defined"
     ]
    }
   ],
   "source": [
    "sob = list(S2)\n",
    "Sobol=list()\n",
    "[Sobol.append(round(x,3)) for x in sob]"
   ]
  },
  {
   "cell_type": "code",
   "execution_count": 36,
   "metadata": {},
   "outputs": [
    {
     "data": {
      "image/png": "[encoded data removed]",
      "text/plain": [
       "<Figure size 432x288 with 1 Axes>"
      ]
     },
     "metadata": {
      "needs_background": "light"
     },
     "output_type": "display_data"
    }
   ],
   "source": [
    "im = plt.imshow(S)"
   ]
  },
  {
   "cell_type": "code",
   "execution_count": 37,
   "metadata": {},
   "outputs": [],
   "source": [
    "plt.show(im)"
   ]
  },
  {
   "cell_type": "code",
   "execution_count": 14,
   "metadata": {},
   "outputs": [
    {
     "name": "stdout",
     "output_type": "stream",
     "text": [
      "['E_', 'D_', 'Rho', 'FP', 'FN']\n",
      "['E_xi_0', 'E_xi_1', 'E_xi_2', 'E_xi_3', 'E_xi_4', 'E_xi_5', 'E_xi_6', 'E_xi_7', 'D_xi_0', 'D_xi_1', 'D_xi_2', 'D_xi_3', 'D_xi_4', 'D_xi_5', 'D_xi_6', 'D_xi_7', 'D_xi_8', 'D_xi_9', 'D_xi_10', 'D_xi_11', 'D_xi_12', 'Rho', 'FP', 'FN']\n",
      "['var0', 'var1', 'var2', 'var3', 'var4']\n"
     ]
    }
   ],
   "source": [
    "print(processSensitivityAnalysis.wrappedFunction.inputVarNames)\n",
    "print(processSensitivityAnalysis.wrappedFunction.inputVarNamesKL)\n",
    "print(processSensitivityAnalysis.wrappedFunction._inputVarOrdering)"
   ]
  },
  {
   "cell_type": "code",
   "execution_count": null,
   "metadata": {},
   "outputs": [],
   "source": []
  },
  {
   "cell_type": "code",
   "execution_count": 12,
   "metadata": {},
   "outputs": [],
   "source": [
    "import customWraps as cw"
   ]
  },
  {
   "cell_type": "code",
   "execution_count": 13,
   "metadata": {},
   "outputs": [],
   "source": [
    "@cw.timing\n",
    "def getLHSExperiment(distribution, size, alwaysShuffle, randomShift):\n",
    "    return ot.LHSExperiment(distribution, size, alwaysShuffle, randomShift).generate()"
   ]
  },
  {
   "cell_type": "code",
   "execution_count": 14,
   "metadata": {},
   "outputs": [
    {
     "name": "stdout",
     "output_type": "stream",
     "text": [
      "timed  0.040719986  s for function \" getLHSExperiment \"\n"
     ]
    }
   ],
   "source": [
    "exp = getLHSExperiment(composedDist, 2000, True, True)"
   ]
  },
  {
   "cell_type": "code",
   "execution_count": 15,
   "metadata": {},
   "outputs": [
    {
     "name": "stdout",
     "output_type": "stream",
     "text": [
      "That works really fast!\n"
     ]
    },
    {
     "data": {
      "text/html": [
       "<TABLE><TR><TH></TH><TH>X0</TH><TH>X1</TH><TH>X2</TH><TH COLSPAN=\"18\">...</TH><TH>X21</TH><TH>X22</TH><TH>X23</TH></TR>\n",
       "<TR><TD>0</TD><TD>55.79033269728237</TD><TD>-0.19098185493210715</TD><TD>23.283969210695176<TD COLSPAN=\"18\">...</TD><TD>8005.524793957302</TD><TD>484.73561116938885</TD><TD>101.64863260724084</TD></TR>\n",
       "<TR><TD>1</TD><TD>55.333491276247884</TD><TD>1.3712593607868964</TD><TD>24.20841863903222<TD COLSPAN=\"18\">...</TD><TD>7653.50976204961</TD><TD>481.9859412832348</TD><TD>97.72070938147876</TD></TR>\n",
       "<TR><TD>2</TD><TD>54.202336863482806</TD><TD>0.8713551721507448</TD><TD>23.859810842167406<TD COLSPAN=\"18\">...</TD><TD>7814.162503617186</TD><TD>407.55489907365524</TD><TD>99.99375393705621</TD></TR>\n",
       "<TR><TD COLSPAN=\"25\">...</TD></TR>\n",
       "<TR><TD>1997</TD><TD>54.851463546533154</TD><TD>-0.5239463721670796</TD><TD>24.219277385649654<TD COLSPAN=\"18\">...</TD><TD>8217.194258966842</TD><TD>477.8411794090323</TD><TD>99.50374356968953</TD></TR>\n",
       "<TR><TD>1998</TD><TD>54.40464522348954</TD><TD>-0.3293520205616215</TD><TD>25.966400126230262<TD COLSPAN=\"18\">...</TD><TD>7412.336856933777</TD><TD>507.69024038517824</TD><TD>98.94227460619537</TD></TR>\n",
       "<TR><TD>1999</TD><TD>54.34661766684137</TD><TD>-0.5701349001063507</TD><TD>24.411461830266525<TD COLSPAN=\"18\">...</TD><TD>7878.010110100623</TD><TD>402.96362061509814</TD><TD>99.9011092586734</TD></TR>\n",
       "</TABLE>"
      ],
      "text/plain": [
       "class=Sample name=Unnamed implementation=class=SampleImplementation name=Unnamed size=2000 dimension=24 description=[X0,X1,X2,...,X21,X22,X23] data=[[55.7903,-0.190982,23.284,...,8005.52,484.736,101.649],[55.3335,1.37126,24.2084,...,7653.51,481.986,97.7207],[54.2023,0.871355,23.8598,...,7814.16,407.555,99.9938],...,[54.8515,-0.523946,24.2193,...,8217.19,477.841,99.5037],[54.4046,-0.329352,25.9664,...,7412.34,507.69,98.9423],[54.3466,-0.570135,24.4115,...,7878.01,402.964,99.9011]]"
      ]
     },
     "execution_count": 15,
     "metadata": {},
     "output_type": "execute_result"
    }
   ],
   "source": [
    "print('That works really fast!')\n",
    "exp"
   ]
  },
  {
   "cell_type": "code",
   "execution_count": 55,
   "metadata": {},
   "outputs": [
    {
     "data": {
      "text/plain": [
       "<module 'NdGaussianProcessExperimentGeneration' from '/home/motherloadubu/Documents/project_PHIMECA/stochastic_process_analysis/NdGaussianProcessExperimentGeneration.py'>"
      ]
     },
     "execution_count": 55,
     "metadata": {},
     "output_type": "execute_result"
    }
   ],
   "source": [
    "import NdGaussianProcessExperimentGeneration as ngpeg\n",
    "reload(ngpeg)"
   ]
  },
  {
   "cell_type": "code",
   "execution_count": 56,
   "metadata": {},
   "outputs": [
    {
     "name": "stdout",
     "output_type": "stream",
     "text": [
      "Generation types:\n",
      "1 : Random (default)\n",
      "2 : LHS\n",
      "3 : LowDiscrepancySequence\n",
      "4 : SimulatedAnnealingLHS\n"
     ]
    }
   ],
   "source": [
    "test0 = ngpeg.NdGaussianProcessExperiment(processSensitivityAnalysis.sampleSize,\n",
    "                                         processSensitivityAnalysis.wrappedFunction)"
   ]
  },
  {
   "cell_type": "code",
   "execution_count": 57,
   "metadata": {},
   "outputs": [
    {
     "data": {
      "text/plain": [
       "array([[ 5.50346146e+01,  9.81992100e-02,  2.47360736e+01, ...,\n",
       "         7.45248899e+03,  6.01817823e+02,  1.01293963e+02],\n",
       "       [ 5.37555756e+01,  1.29455188e-01,  2.28109014e+01, ...,\n",
       "         7.95669043e+03,  4.37887664e+02,  9.96609256e+01],\n",
       "       [ 5.53507742e+01, -1.25225486e+00,  2.43850209e+01, ...,\n",
       "         7.96235937e+03,  4.37713257e+02,  1.00149113e+02],\n",
       "       ...,\n",
       "       [ 5.60095120e+01,  7.35625214e-01,  2.33273992e+01, ...,\n",
       "         8.07962019e+03,  5.26993032e+02,  1.00278874e+02],\n",
       "       [ 5.65213904e+01,  3.75193848e-01,  2.45633504e+01, ...,\n",
       "         7.82180335e+03,  5.20321230e+02,  9.79694576e+01],\n",
       "       [ 5.47746640e+01,  1.08818884e+00,  2.43071075e+01, ...,\n",
       "         7.95333093e+03,  5.59042152e+02,  9.89984624e+01]])"
      ]
     },
     "execution_count": 57,
     "metadata": {},
     "output_type": "execute_result"
    }
   ],
   "source": [
    "test0.generate()"
   ]
  },
  {
   "cell_type": "code",
   "execution_count": 49,
   "metadata": {},
   "outputs": [],
   "source": [
    "test0.getDataFieldAndRV()"
   ]
  },
  {
   "cell_type": "code",
   "execution_count": 50,
   "metadata": {},
   "outputs": [],
   "source": [
    "test0.getExperiment()"
   ]
  },
  {
   "cell_type": "code",
   "execution_count": 22,
   "metadata": {},
   "outputs": [
    {
     "name": "stdout",
     "output_type": "stream",
     "text": [
      "Generation types:\n",
      "1 : Random (default)\n",
      "2 : LHS\n",
      "3 : LowDiscrepancySequence\n",
      "4 : SimulatedAnnealingLHS\n"
     ]
    }
   ],
   "source": [
    "test = ngpeg.NdGaussianProcessExperiment()"
   ]
  },
  {
   "cell_type": "code",
   "execution_count": 23,
   "metadata": {},
   "outputs": [],
   "source": [
    "test.setSampleSize(100)"
   ]
  },
  {
   "cell_type": "code",
   "execution_count": 24,
   "metadata": {},
   "outputs": [],
   "source": [
    "test.setOTPyFunctionWrapper(processSensitivityAnalysis.wrappedFunction)"
   ]
  },
  {
   "cell_type": "code",
   "execution_count": 25,
   "metadata": {},
   "outputs": [],
   "source": [
    "test.setGenType(1)\n",
    "test.generateSample()"
   ]
  },
  {
   "cell_type": "code",
   "execution_count": 26,
   "metadata": {},
   "outputs": [],
   "source": [
    "test.setGenType(2)\n",
    "test.generateSample()"
   ]
  },
  {
   "cell_type": "code",
   "execution_count": 27,
   "metadata": {},
   "outputs": [],
   "source": [
    "test.setGenType(3)\n",
    "test.generateSample(sequence='Halton')"
   ]
  },
  {
   "cell_type": "code",
   "execution_count": 28,
   "metadata": {},
   "outputs": [
    {
     "name": "stdout",
     "output_type": "stream",
     "text": [
      "undefined parameter 'SpaceFilling', setting to default 'SpaceFillingC2'\n",
      "undefined parameter 'TemperatureProfile', setting default GeometricProfile\n"
     ]
    }
   ],
   "source": [
    "test.setGenType(4)\n",
    "arr=test.generateSample()"
   ]
  },
  {
   "cell_type": "code",
   "execution_count": 29,
   "metadata": {},
   "outputs": [
    {
     "name": "stdout",
     "output_type": "stream",
     "text": [
      "['E_', 'D_', 'Rho', 'FP', 'FN']\n",
      "['E_xi_0', 'E_xi_1', 'E_xi_2', 'E_xi_3', 'E_xi_4', 'E_xi_5', 'E_xi_6', 'E_xi_7', 'D_xi_0', 'D_xi_1', 'D_xi_2', 'D_xi_3', 'D_xi_4', 'D_xi_5', 'D_xi_6', 'D_xi_7', 'D_xi_8', 'D_xi_9', 'D_xi_10', 'D_xi_11', 'D_xi_12', 'Rho', 'FP', 'FN']\n"
     ]
    }
   ],
   "source": [
    "print(test.inputVarNames)\n",
    "print(test.inputVarNamesKL)\n",
    "test.getDataFieldAndRV()"
   ]
  },
  {
   "cell_type": "code",
   "execution_count": 30,
   "metadata": {},
   "outputs": [
    {
     "data": {
      "text/plain": [
       "[8, 13, 1, 1, 1]"
      ]
     },
     "execution_count": 30,
     "metadata": {},
     "output_type": "execute_result"
    }
   ],
   "source": [
    "test.dataMixSamples"
   ]
  },
  {
   "cell_type": "code",
   "execution_count": 31,
   "metadata": {},
   "outputs": [
    {
     "data": {
      "text/plain": [
       "(100, 24)"
      ]
     },
     "execution_count": 31,
     "metadata": {},
     "output_type": "execute_result"
    }
   ],
   "source": [
    "test.sample_A.shape"
   ]
  },
  {
   "cell_type": "code",
   "execution_count": 32,
   "metadata": {},
   "outputs": [],
   "source": [
    "test.getExperiment()"
   ]
  },
  {
   "cell_type": "code",
   "execution_count": 33,
   "metadata": {},
   "outputs": [
    {
     "data": {
      "text/plain": [
       "(700, 24)"
      ]
     },
     "execution_count": 33,
     "metadata": {},
     "output_type": "execute_result"
    }
   ],
   "source": [
    "test.experimentSample.shape"
   ]
  },
  {
   "cell_type": "code",
   "execution_count": 34,
   "metadata": {},
   "outputs": [
    {
     "data": {
      "text/plain": [
       "array([ 0,  1,  2,  3,  4,  5,  6,  7,  8,  9, 10, 11, 12, 13, 14, 15, 16,\n",
       "       17, 18, 19, 20, 21, 22, 23])"
      ]
     },
     "execution_count": 34,
     "metadata": {},
     "output_type": "execute_result"
    }
   ],
   "source": [
    "np.unique(np.argwhere(test.experimentSample[100:200,...]==test.sample_B)[...,1])"
   ]
  },
  {
   "cell_type": "code",
   "execution_count": 35,
   "metadata": {},
   "outputs": [
    {
     "data": {
      "text/plain": [
       "array([0, 1, 2, 3, 4, 5, 6, 7])"
      ]
     },
     "execution_count": 35,
     "metadata": {},
     "output_type": "execute_result"
    }
   ],
   "source": [
    "np.unique(np.argwhere(test.experimentSample[200:300,...]==test.sample_B)[...,1])"
   ]
  },
  {
   "cell_type": "code",
   "execution_count": 36,
   "metadata": {},
   "outputs": [
    {
     "data": {
      "text/plain": [
       "array([ 8,  9, 10, 11, 12, 13, 14, 15, 16, 17, 18, 19, 20])"
      ]
     },
     "execution_count": 36,
     "metadata": {},
     "output_type": "execute_result"
    }
   ],
   "source": [
    "np.unique(np.argwhere(test.experimentSample[300:400,...]==test.sample_B)[...,1])"
   ]
  },
  {
   "cell_type": "code",
   "execution_count": 37,
   "metadata": {},
   "outputs": [
    {
     "data": {
      "text/plain": [
       "array([21])"
      ]
     },
     "execution_count": 37,
     "metadata": {},
     "output_type": "execute_result"
    }
   ],
   "source": [
    "np.unique(np.argwhere(test.experimentSample[400:500,...]==test.sample_B)[...,1])"
   ]
  },
  {
   "cell_type": "code",
   "execution_count": 38,
   "metadata": {},
   "outputs": [
    {
     "data": {
      "text/plain": [
       "array([22])"
      ]
     },
     "execution_count": 38,
     "metadata": {},
     "output_type": "execute_result"
    }
   ],
   "source": [
    "np.unique(np.argwhere(test.experimentSample[500:600,...]==test.sample_B)[...,1])"
   ]
  },
  {
   "cell_type": "code",
   "execution_count": 39,
   "metadata": {},
   "outputs": [
    {
     "data": {
      "text/plain": [
       "array([23])"
      ]
     },
     "execution_count": 39,
     "metadata": {},
     "output_type": "execute_result"
    }
   ],
   "source": [
    "np.unique(np.argwhere(test.experimentSample[600:700,...]==test.sample_B)[...,1])"
   ]
  },
  {
   "cell_type": "markdown",
   "metadata": {},
   "source": [
    "Everything works alright, we get our samples as expected."
   ]
  },
  {
   "cell_type": "code",
   "execution_count": null,
   "metadata": {},
   "outputs": [],
   "source": []
  }
 ],
 "metadata": {
  "kernelspec": {
   "display_name": "Python 3",
   "language": "python",
   "name": "python3"
  },
  "language_info": {
   "codemirror_mode": {
    "name": "ipython",
    "version": 3
   },
   "file_extension": ".py",
   "mimetype": "text/x-python",
   "name": "python",
   "nbconvert_exporter": "python",
   "pygments_lexer": "ipython3",
   "version": "3.6.7"
  }
 },
 "nbformat": 4,
 "nbformat_minor": 4
}
