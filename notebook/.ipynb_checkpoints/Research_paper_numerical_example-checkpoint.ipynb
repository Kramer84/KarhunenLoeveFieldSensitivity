{
 "cells": [
  {
   "cell_type": "markdown",
   "metadata": {},
   "source": [
    "# Time-variant global reliability sensitivity analysis of structures with both input random variables and stochastic processes : \n",
    "## Method validation on included numerical example.\n",
    "\n",
    "In the paper above, their method is tested on a simple numerical example. \n"
   ]
  },
  {
   "cell_type": "code",
   "execution_count": 1,
   "metadata": {},
   "outputs": [],
   "source": [
    "import numpy as np\n",
    "import openturns as ot\n",
    "from numba import jit\n",
    "from joblib import Parallel, delayed\n",
    "from functools import partial\n",
    "import klfs"
   ]
  },
  {
   "cell_type": "code",
   "execution_count": 2,
   "metadata": {},
   "outputs": [],
   "source": [
    "# the limit state function:\n",
    "#@jit(nopython=True)\n",
    "def g(t,x1, x2, y1):\n",
    "    #function returns 1 if limit state is not exceeded on time interval\n",
    "    out_g = np.sin(t)*x1 + np.square(x2) + 3*y1 - 5*(np.sin(t/8) + 1)\n",
    "    return np.int(np.where(out_g<0,1,0).all())\n",
    "\n",
    "# the function for multiprocessing on the limit state function\n",
    "def g_mult(t,x1, x2, y1):\n",
    "    # t is the time grid, and is invarient\n",
    "    x1 = np.array(x1)\n",
    "    N = x1.shape[0]\n",
    "    x2 = np.array(x2)\n",
    "    y1 = np.array(y1)\n",
    "    output = Parallel(n_jobs=-1)(delayed(g) (t,x1[i], x2[i], y1[i]) for i in range(N))\n",
    "    return ot.Point(output)\n"
   ]
  },
  {
   "cell_type": "code",
   "execution_count": 3,
   "metadata": {},
   "outputs": [],
   "source": [
    "x = np.zeros((200,100))\n",
    "uu = g_mult(x,x,x,x)"
   ]
  },
  {
   "cell_type": "code",
   "execution_count": 4,
   "metadata": {},
   "outputs": [],
   "source": [
    "# Let's define a time grid. Let's say 100 samples over 10 seconds \n",
    "dimension = 1\n",
    "NElem = [99]\n",
    "mesher = ot.IntervalMesher(NElem)\n",
    "lowerBound = [0] #s\n",
    "upperBound = [10] #s\n",
    "interval = ot.Interval(lowerBound,upperBound)\n",
    "mesh = mesher.build(interval)\n",
    "# 100 elements of 10 mm"
   ]
  },
  {
   "cell_type": "code",
   "execution_count": 5,
   "metadata": {},
   "outputs": [],
   "source": [
    "# Process Y1:\n",
    "model = ot.ExponentialModel()\n",
    "algo = ot.KarhunenLoeveP1Algorithm(mesh, model)\n",
    "algo.run()\n",
    "kl_results = algo.getResult()\n",
    "kl_results.setName('Y1')\n",
    "\n",
    "# random Normals X1, X2\n",
    "X1 = ot.Normal()\n",
    "X1.setName('X1')\n",
    "X2 = ot.Normal()\n",
    "X2.setName('X2')\n",
    "\n",
    "# The time grid :\n",
    "t = np.array(mesh.getVertices())"
   ]
  },
  {
   "cell_type": "code",
   "execution_count": 6,
   "metadata": {},
   "outputs": [],
   "source": [
    "# let's modify a bit our function as the time grid is invarient...\n",
    "g_mod = partial(g_mult,t)"
   ]
  },
  {
   "cell_type": "code",
   "execution_count": 7,
   "metadata": {},
   "outputs": [],
   "source": [
    "list_kl_results = [X1, X2, kl_results]\n",
    "AggregatedKLRes = klfs.AggregatedKarhunenLoeveResults(list_kl_results)"
   ]
  },
  {
   "cell_type": "code",
   "execution_count": 8,
   "metadata": {},
   "outputs": [],
   "source": [
    "# initialization of the function wrapper : \n",
    "FUNC = klfs.KarhunenLoeveGeneralizedFunctionWrapper(\n",
    "                                AggregatedKarhunenLoeveResults = AggregatedKLRes,\n",
    "                                func        = None, \n",
    "                                func_sample = g_mod,\n",
    "                                n_outputs   = 1)"
   ]
  },
  {
   "cell_type": "code",
   "execution_count": 9,
   "metadata": {},
   "outputs": [
    {
     "name": "stdout",
     "output_type": "stream",
     "text": [
      "Generating samples for the second order indices\n",
      "Samples A and B of size 100000 and dimension 102\n",
      "Experiment for second order generated\n",
      "Experiment of size 800000 and dimension 102\n"
     ]
    }
   ],
   "source": [
    "ot.RandomGenerator.SetSeed(111)\n",
    "size = int(1e5)\n",
    "experiment = klfs.KarhunenLoeveSobolIndicesExperiment(AggregatedKLRes, size, True)\n",
    "sobolExp = experiment.generate()"
   ]
  },
  {
   "cell_type": "code",
   "execution_count": null,
   "metadata": {},
   "outputs": [
    {
     "name": "stdout",
     "output_type": "stream",
     "text": [
      "Lifting as process sample\n"
     ]
    }
   ],
   "source": [
    "response = FUNC(sobolExp)"
   ]
  },
  {
   "cell_type": "code",
   "execution_count": null,
   "metadata": {},
   "outputs": [],
   "source": [
    "sensitivityAnalysis = klfs.SobolKarhunenLoeveFieldSensitivityAlgorithm(computeSecondOrder=True)\n",
    "sensitivityAnalysis.setDesign(sobolExp, response, size)\n",
    "sensitivityAnalysis.setEstimator(ot.SaltelliSensitivityAlgorithm())\n",
    "sensitivityAnalysis.__nSobolIndices__"
   ]
  },
  {
   "cell_type": "code",
   "execution_count": null,
   "metadata": {},
   "outputs": [],
   "source": [
    "sensitivityAnalysis.getFirstOrderIndices()"
   ]
  },
  {
   "cell_type": "code",
   "execution_count": null,
   "metadata": {},
   "outputs": [],
   "source": [
    "sensitivityAnalysis.getTotalOrderIndices()"
   ]
  },
  {
   "cell_type": "code",
   "execution_count": null,
   "metadata": {},
   "outputs": [],
   "source": [
    "display(sensitivityAnalysis.getSecondOrderIndices()[0])"
   ]
  },
  {
   "cell_type": "code",
   "execution_count": null,
   "metadata": {},
   "outputs": [],
   "source": [
    "X  = sensitivityAnalysis.__results__[0]"
   ]
  },
  {
   "cell_type": "code",
   "execution_count": null,
   "metadata": {},
   "outputs": [],
   "source": [
    "Q = X.getFirstOrderIndicesDistribution()"
   ]
  },
  {
   "cell_type": "code",
   "execution_count": null,
   "metadata": {},
   "outputs": [],
   "source": [
    "Q.getMarginal(1).computeBilateralConfidenceInterval(0.95)"
   ]
  },
  {
   "cell_type": "code",
   "execution_count": null,
   "metadata": {},
   "outputs": [],
   "source": []
  },
  {
   "cell_type": "code",
   "execution_count": null,
   "metadata": {},
   "outputs": [],
   "source": []
  },
  {
   "cell_type": "code",
   "execution_count": null,
   "metadata": {},
   "outputs": [],
   "source": []
  }
 ],
 "metadata": {
  "kernelspec": {
   "display_name": "Python 3",
   "language": "python",
   "name": "python3"
  },
  "language_info": {
   "codemirror_mode": {
    "name": "ipython",
    "version": 3
   },
   "file_extension": ".py",
   "mimetype": "text/x-python",
   "name": "python",
   "nbconvert_exporter": "python",
   "pygments_lexer": "ipython3",
   "version": "3.8.8"
  }
 },
 "nbformat": 4,
 "nbformat_minor": 4
}
