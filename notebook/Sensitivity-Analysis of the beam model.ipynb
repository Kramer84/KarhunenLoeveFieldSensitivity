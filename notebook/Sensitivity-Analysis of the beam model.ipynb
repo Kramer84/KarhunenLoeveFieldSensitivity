{
 "cells": [
  {
   "cell_type": "markdown",
   "metadata": {},
   "source": [
    "# Sensitivity Analysis on the beam model\n",
    "This notebook, is an example of the application of the KLFS module on a beam model problem.\n",
    "It is devided into two parts, the first is the computing of SA on the origina beam model, the seond part is the computing of the SA on a kriging metamodel replacing the beam model.0"
   ]
  },
  {
   "cell_type": "code",
   "execution_count": 1,
   "metadata": {},
   "outputs": [
    {
     "name": "stdout",
     "output_type": "stream",
     "text": [
      "len vertices is: 101\n"
     ]
    }
   ],
   "source": [
    "# from here on, all our modules and helper functions are imported\n",
    "from my_functions import *\n",
    "import klfs\n",
    "import beam_example as MODEL\n",
    "import pythontools as pyto"
   ]
  },
  {
   "cell_type": "code",
   "execution_count": 27,
   "metadata": {},
   "outputs": [],
   "source": [
    "# to avoid a bug in openturns\n",
    "import openturns as ot \n",
    "ot.Log.Show(ot.Log.NONE)"
   ]
  },
  {
   "cell_type": "markdown",
   "metadata": {},
   "source": [
    "### Initiate some parameters"
   ]
  },
  {
   "cell_type": "code",
   "execution_count": 3,
   "metadata": {},
   "outputs": [],
   "source": [
    "seed_number = 111 # seed number\n",
    "size_sa = 1e2 # size od the sensitivity anlysis samples\n",
    "second_order_activate = True # activate second order or no in klfs.KarhunenLoeveSobolIndicesExperiment() class\n",
    "size_sa_krig = int(1e5)\n",
    "seed_krig_sa = 1253\n",
    "doe_size_kirg = 150\n",
    "size_validation = 1000"
   ]
  },
  {
   "cell_type": "markdown",
   "metadata": {},
   "source": [
    "### Define the random parameters of the model (stochastic process and classic distribution)"
   ]
  },
  {
   "cell_type": "code",
   "execution_count": 4,
   "metadata": {},
   "outputs": [],
   "source": [
    "# Definition of the model parameters \n",
    "dim          = 1\n",
    "n_elements   = 99\n",
    "min_vertices = 0    #mm\n",
    "max_vertices = 1000 #mm\n",
    "\n",
    "coef_var = .05\n",
    "mean_young,  mean_diam  = 210000, 10  #MPa, mm\n",
    "scale_young, scale_diam = 300,    250 #mm, mm\n",
    "nu_young,    nu_diam    = 5,      5   #scalar\n",
    "\n",
    "mean_pos_force,  mean_norm_force   = 500, 100 #N, mm\n",
    "sigma_pos_force, sigma_norm_force  = 25,  5   #N, mm\n",
    "\n",
    "fem_vertices = get_fem_vertices(min_vertices, max_vertices, n_elements)\n",
    "\n",
    "# Karhunen-Loeve decomposition of two stochastic processes: Young's Modulus and Diameter  \n",
    "kl_results_E = get_process_kl_decomposition(mean = mean_young, coef_var = coef_var, scale = scale_young, \n",
    "                    nu = nu_young, mesh = fem_vertices, dimension = dim, name = 'E_', threshold= 1e-3)\n",
    "\n",
    "kl_results_D = get_process_kl_decomposition(mean = mean_diam, coef_var = coef_var, scale = scale_diam, \n",
    "                    nu = nu_diam, mesh = fem_vertices, dimension = dim, name = 'D_', threshold= 1e-3)\n",
    "# The two scalar random variables : \n",
    "pos_force = ot.Normal(mean_pos_force, sigma_pos_force)\n",
    "pos_force.setName('F_Pos_')\n",
    "\n",
    "norm_force  = ot.Normal(mean_norm_force, sigma_norm_force)\n",
    "norm_force.setName('F_Norm_')"
   ]
  },
  {
   "cell_type": "markdown",
   "metadata": {},
   "source": [
    "### Define the klfs.AggregatedKarhunenLoeveResults()  class"
   ]
  },
  {
   "cell_type": "code",
   "execution_count": 5,
   "metadata": {},
   "outputs": [],
   "source": [
    "# define the list of kl results (stochastic process) and distribution\n",
    "kl_results_list = [kl_results_E, kl_results_D, pos_force, norm_force]\n",
    "# define the class AggregatedKarhunenLoeveResults()\n",
    "AggregatedKLRes = klfs.AggregatedKarhunenLoeveResults(kl_results_list)\n",
    "# set the mean of the stochastic results\n",
    "# for other indices the means are initialized from the distributions\n",
    "AggregatedKLRes.setMean(0, mean_young) \n",
    "AggregatedKLRes.setMean(1, mean_diam) \n",
    "\n",
    "AggregatedKLRes.setLiftWithMean(True)"
   ]
  },
  {
   "cell_type": "markdown",
   "metadata": {},
   "source": [
    "### Define the beam model and define the klfs.KarhunenLoeveGeneralizedFunctionWrapper()"
   ]
  },
  {
   "cell_type": "code",
   "execution_count": 6,
   "metadata": {},
   "outputs": [],
   "source": [
    "# definition of the model :\n",
    "_MODEL = MODEL.PureBeam()\n",
    "# initialization of the function wrapper : \n",
    "FUNC = klfs.KarhunenLoeveGeneralizedFunctionWrapper(\n",
    "            AggregatedKarhunenLoeveResults = AggregatedKLRes,\n",
    "            func        = None, \n",
    "            func_sample = _MODEL.batchEval,\n",
    "            n_outputs   = 2)\n",
    "# FUNC_wSave = function_with_save_wrapper(FUNC) # save function"
   ]
  },
  {
   "cell_type": "markdown",
   "metadata": {},
   "source": [
    "### Generate the experiments samples of the sensitivity analysis "
   ]
  },
  {
   "cell_type": "code",
   "execution_count": 7,
   "metadata": {},
   "outputs": [
    {
     "name": "stdout",
     "output_type": "stream",
     "text": [
      "Generating samples for the second order indices\n",
      "Samples A and B of size 100 and dimension 15\n",
      "Experiment for second order generated\n",
      "Experiment of size 1000 and dimension 15\n"
     ]
    }
   ],
   "source": [
    "ot.RandomGenerator.SetSeed(seed_number)\n",
    "size = int(size_sa)\n",
    "experiment = klfs.KarhunenLoeveSobolIndicesExperiment(AggregatedKLRes, size, second_order_activate)\n",
    "sobolExp = experiment.generate()"
   ]
  },
  {
   "cell_type": "markdown",
   "metadata": {},
   "source": [
    "### Compute the SA experiments samples by the model"
   ]
  },
  {
   "cell_type": "code",
   "execution_count": 8,
   "metadata": {},
   "outputs": [
    {
     "name": "stdout",
     "output_type": "stream",
     "text": [
      "field E shape (1000, 100)\n",
      "var_Fnor shape (1000,)\n",
      "field_E 209227.94579789907 field_D 9.998785002927354 var_Fpos 500.00579414419593 var_Fnor 99.87198933658763\n"
     ]
    },
    {
     "name": "stderr",
     "output_type": "stream",
     "text": [
      "[Parallel(n_jobs=-1)]: Using backend LokyBackend with 4 concurrent workers.\n",
      "[Parallel(n_jobs=-1)]: Done  48 tasks      | elapsed:    2.5s\n",
      "[Parallel(n_jobs=-1)]: Done 348 tasks      | elapsed:   10.0s\n",
      "[Parallel(n_jobs=-1)]: Done 848 tasks      | elapsed:   22.4s\n",
      "[Parallel(n_jobs=-1)]: Done 993 out of 1000 | elapsed:   25.8s remaining:    0.2s\n",
      "[Parallel(n_jobs=-1)]: Done 1000 out of 1000 | elapsed:   25.9s finished\n",
      "/home/braydi/miniconda3/envs/env_test123/lib/python3.9/site-packages/numpy/core/_asarray.py:102: VisibleDeprecationWarning: Creating an ndarray from ragged nested sequences (which is a list-or-tuple of lists-or-tuples-or ndarrays with different lengths or shapes) is deprecated. If you meant to do this, you must specify 'dtype=object' when creating the ndarray.\n",
      "  return array(a, dtype, copy=False, order=order)\n"
     ]
    },
    {
     "name": "stdout",
     "output_type": "stream",
     "text": [
      "shape deflection:  (1000, 101)  should be [N,10X] something\n",
      "deflection std deviation 3.8946727479905205\n",
      "Using the batch evaluation function. Assumes that the outputs are in the\n",
      "same order than for the single evaluation function. This one should only\n",
      "return ProcessSamples, Samples, Lists or numpy arrays.\n",
      "Element is iterable, assumes that first dimension is size of sample\n",
      "Shape is (1000, 100) and dtype is <class 'numpy.float64'>\n",
      "Element 0 of the output tuple returns process samples of dimension 1\n",
      "Element is iterable, assumes that first dimension is size of sample\n",
      "Shape is (1, 1000) and dtype is <class 'numpy.float64'>\n",
      "Element 1 of the output tuple returns process samples of dimension 1\n"
     ]
    }
   ],
   "source": [
    "response = FUNC(sobolExp)"
   ]
  },
  {
   "cell_type": "markdown",
   "metadata": {},
   "source": [
    "### Compute the Sobol indices for SA using the klfs.SobolKarhunenLoeveFieldSensitivityAlgorithm() class"
   ]
  },
  {
   "cell_type": "code",
   "execution_count": 9,
   "metadata": {},
   "outputs": [
    {
     "name": "stdout",
     "output_type": "stream",
     "text": [
      "size initialized 1000\n",
      "Means is\n",
      " [1.48839,13.0524,25.522,37.5734,49.2007,60.4156,71.2315,81.6595,91.7078,101.382,110.685,119.619,128.187,136.389,144.229,151.711,158.842,165.627,172.074,178.194,183.996,189.489,194.684,199.593,204.226,208.593,212.705,216.572,220.168,223.543,226.672,229.601,232.309,234.754,236.967,238.94,240.71,242.219,243.462,244.483,245.307,246.022,246.491,246.819,247.005,247.147,247.234,247.264,247.262,247.222,247.175,247.097,246.997,246.874,246.698,246.452,246.086,245.614,245.069,244.353,243.532,242.525,241.405,240.126,238.634,236.987,235.103,232.972,230.601,227.977,225.169,222.136,218.87,215.386,211.674,207.723,203.521,199.057,194.318,189.29,183.96,178.315,172.34,166.021,159.346,152.303,144.882,137.076,128.878,120.286,111.3,101.922,92.1543,82.0009,71.4637,60.543,49.2368,37.5415,25.4548,12.9925]#100\n",
      "design_elem size, dim 1000 100\n",
      "There are 4 indices to get for 1 outputs with dimensions 100 each.\n",
      "Description all same? [E__0,E__1,E__2,E__3,E__4,E__5,D__0,D__1,D__2,D__3,D__4,D__5,D__6,F_Pos__0,F_Norm__0]#15\n",
      "SobolIndicesName ['E_', 'D_', 'F_Pos_', 'F_Norm_']\n",
      "Input Description is, ['E_', 'D_', 'F_Pos_', 'F_Norm_']\n",
      "number of SI per output: 4\n"
     ]
    }
   ],
   "source": [
    "# Ici on calcule les indices de Sobol' pour le champs de contraintes de von mises\n",
    "\n",
    "sensitivityAnalysis_vonMises = klfs.SobolKarhunenLoeveFieldSensitivityAlgorithm(computeSecondOrder=second_order_activate)\n",
    "sensitivityAnalysis_vonMises.setDesign(sobolExp, response[0], size)\n",
    "sensitivityAnalysis_vonMises.setEstimator(ot.SaltelliSensitivityAlgorithm())\n",
    "print('number of SI per output:',sensitivityAnalysis_vonMises.__nSobolIndices__)"
   ]
  },
  {
   "cell_type": "markdown",
   "metadata": {},
   "source": [
    "### Compute and print sobol indices for VonMises filed output"
   ]
  },
  {
   "cell_type": "code",
   "execution_count": 10,
   "metadata": {},
   "outputs": [
    {
     "name": "stdout",
     "output_type": "stream",
     "text": [
      "Solving...\n",
      " size of samples:  1000\n",
      " number of indices to get 4\n"
     ]
    }
   ],
   "source": [
    "sobol_FO_VonMises = sensitivityAnalysis_vonMises.getFirstOrderIndices()\n",
    "sobol_TO_VonMises = sensitivityAnalysis_vonMises.getTotalOrderIndices()"
   ]
  },
  {
   "cell_type": "code",
   "execution_count": 11,
   "metadata": {},
   "outputs": [
    {
     "name": "stdout",
     "output_type": "stream",
     "text": [
      "Sobol_Y_0_F_Pos_\n",
      "<class 'openturns.func.Field'>\n",
      "100\n"
     ]
    },
    {
     "data": {
      "text/plain": [
       "'SI first order YoungsModulus:'"
      ]
     },
     "metadata": {},
     "output_type": "display_data"
    },
    {
     "data": {
      "text/html": [
       "<TABLE><TR><TD></TD><TH>v0</TH></TR>\n",
       "<TR><TH>0</TH><TD>-0.02501333</TD></TR>\n",
       "<TR><TH>1</TH><TD>0.00708364</TD></TR>\n",
       "<TR><TH>2</TH><TD>0.03240841</TD></TR>\n",
       "<TR><TH>3</TH><TD>0.05665133</TD></TR>\n",
       "<TR><TH>4</TH><TD>0.07803085</TD></TR>\n",
       "</TABLE>"
      ],
      "text/plain": [
       "class=Sample name=Unnamed implementation=class=SampleImplementation name=Unnamed size=5 dimension=1 description=[v0] data=[[-0.0250133],[0.00708364],[0.0324084],[0.0566513],[0.0780308]]"
      ]
     },
     "metadata": {},
     "output_type": "display_data"
    },
    {
     "data": {
      "text/plain": [
       "'SI first order  Diameter:'"
      ]
     },
     "metadata": {},
     "output_type": "display_data"
    },
    {
     "data": {
      "text/html": [
       "<TABLE><TR><TD></TD><TH>v0</TH></TR>\n",
       "<TR><TH>0</TH><TD>0.6803481</TD></TR>\n",
       "<TR><TH>1</TH><TD>0.8455684</TD></TR>\n",
       "<TR><TH>2</TH><TD>0.8158519</TD></TR>\n",
       "<TR><TH>3</TH><TD>0.7810747</TD></TR>\n",
       "<TR><TH>4</TH><TD>0.7464903</TD></TR>\n",
       "</TABLE>"
      ],
      "text/plain": [
       "class=Sample name=Unnamed implementation=class=SampleImplementation name=Unnamed size=5 dimension=1 description=[v0] data=[[0.680348],[0.845568],[0.815852],[0.781075],[0.74649]]"
      ]
     },
     "metadata": {},
     "output_type": "display_data"
    },
    {
     "data": {
      "text/plain": [
       "'SI first order  ForcePos:'"
      ]
     },
     "metadata": {},
     "output_type": "display_data"
    },
    {
     "data": {
      "text/html": [
       "<TABLE><TR><TD></TD><TH>v0</TH></TR>\n",
       "<TR><TH>0</TH><TD>0.1287325</TD></TR>\n",
       "<TR><TH>1</TH><TD>0.08642395</TD></TR>\n",
       "<TR><TH>2</TH><TD>0.1120543</TD></TR>\n",
       "<TR><TH>3</TH><TD>0.1370026</TD></TR>\n",
       "<TR><TH>4</TH><TD>0.1591133</TD></TR>\n",
       "</TABLE>"
      ],
      "text/plain": [
       "class=Sample name=Unnamed implementation=class=SampleImplementation name=Unnamed size=5 dimension=1 description=[v0] data=[[0.128733],[0.0864239],[0.112054],[0.137003],[0.159113]]"
      ]
     },
     "metadata": {},
     "output_type": "display_data"
    },
    {
     "data": {
      "text/plain": [
       "'SI first order  ForceNorm:'"
      ]
     },
     "metadata": {},
     "output_type": "display_data"
    },
    {
     "data": {
      "text/html": [
       "<TABLE><TR><TD></TD><TH>v0</TH></TR>\n",
       "<TR><TH>0</TH><TD>0.2239593</TD></TR>\n",
       "<TR><TH>1</TH><TD>0.16989</TD></TR>\n",
       "<TR><TH>2</TH><TD>0.1877718</TD></TR>\n",
       "<TR><TH>3</TH><TD>0.2038667</TD></TR>\n",
       "<TR><TH>4</TH><TD>0.2166026</TD></TR>\n",
       "</TABLE>"
      ],
      "text/plain": [
       "class=Sample name=Unnamed implementation=class=SampleImplementation name=Unnamed size=5 dimension=1 description=[v0] data=[[0.223959],[0.16989],[0.187772],[0.203867],[0.216603]]"
      ]
     },
     "metadata": {},
     "output_type": "display_data"
    }
   ],
   "source": [
    "print(sobol_FO_VonMises[0][2].getName())\n",
    "print(sobol_FO_VonMises[0][0].__class__)\n",
    "print(sobol_FO_VonMises[0][0].getSize())\n",
    "# Print the sobol indices for the first five VonMises filed elemnts\n",
    "sobol_YoungsModulus = sobol_FO_VonMises[0][0].getValues()\n",
    "display('SI first order YoungsModulus:',sobol_YoungsModulus[:5])\n",
    "sobol_Diameter      = sobol_FO_VonMises[0][1].getValues()\n",
    "display('SI first order  Diameter:',sobol_Diameter[:5])\n",
    "sobol_ForcePos      = sobol_FO_VonMises[0][2].getValues()\n",
    "display('SI first order  ForcePos:',sobol_ForcePos[:5])\n",
    "sobol_ForceNorm     = sobol_FO_VonMises[0][3].getValues()\n",
    "display('SI first order  ForceNorm:',sobol_ForceNorm[:5])"
   ]
  },
  {
   "cell_type": "markdown",
   "metadata": {},
   "source": [
    "### Compute and print sobol indices for maximum deflection output"
   ]
  },
  {
   "cell_type": "code",
   "execution_count": 12,
   "metadata": {},
   "outputs": [
    {
     "name": "stdout",
     "output_type": "stream",
     "text": [
      "size initialized 1000\n",
      "Means is\n",
      " [20.7786]\n",
      "design_elem size, dim 1000 1\n",
      "There are 4 indices to get for 1 outputs with dimensions 1 each.\n",
      "Description all same? [E__0,E__1,E__2,E__3,E__4,E__5,D__0,D__1,D__2,D__3,D__4,D__5,D__6,F_Pos__0,F_Norm__0]#15\n",
      "SobolIndicesName ['E_', 'D_', 'F_Pos_', 'F_Norm_']\n",
      "Input Description is, ['E_', 'D_', 'F_Pos_', 'F_Norm_']\n",
      "Solving...\n",
      " size of samples:  1000\n",
      " number of indices to get 4\n"
     ]
    }
   ],
   "source": [
    "# Ici on calcule les indices de Sobol' pour la déflexion maximale\n",
    "\n",
    "sensitivityAnalysis_maxDefl = klfs.SobolKarhunenLoeveFieldSensitivityAlgorithm(computeSecondOrder=second_order_activate)\n",
    "# ICI il faut prendre response[1][0]\n",
    "sensitivityAnalysis_maxDefl.setDesign(sobolExp, response[1][0], size)\n",
    "sensitivityAnalysis_maxDefl.setEstimator(ot.SaltelliSensitivityAlgorithm())\n",
    "sobol_FO_maxDefl = sensitivityAnalysis_maxDefl.getFirstOrderIndices()\n",
    "sobol_TO_maxDefl = sensitivityAnalysis_maxDefl.getTotalOrderIndices()\n"
   ]
  },
  {
   "cell_type": "code",
   "execution_count": 13,
   "metadata": {},
   "outputs": [
    {
     "name": "stdout",
     "output_type": "stream",
     "text": [
      "Sobol_Unnamed_F_Pos_\n",
      "<class 'openturns.typ.Point'>\n",
      "1\n",
      "sobol_YoungsModulus =  [0.218041] \n",
      " sobol_Diameter =  [1.26453] \n",
      " sobol_ForcePos =  [0.188134] \n",
      " sobol_ForceNorm =  [0.327237]\n"
     ]
    }
   ],
   "source": [
    "print(sobol_FO_maxDefl[0][2].getName())\n",
    "print(sobol_FO_maxDefl[0][0].__class__)\n",
    "print(sobol_FO_maxDefl[0][0].getSize())\n",
    "\n",
    "sobol_YoungsModulus = sobol_FO_maxDefl[0][0]\n",
    "sobol_Diameter      = sobol_FO_maxDefl[0][1]\n",
    "sobol_ForcePos      = sobol_FO_maxDefl[0][2]\n",
    "sobol_ForceNorm     = sobol_FO_maxDefl[0][3]\n",
    "\n",
    "print('sobol_YoungsModulus = ',sobol_YoungsModulus,\n",
    "      '\\n sobol_Diameter = ',sobol_Diameter,\n",
    "      '\\n sobol_ForcePos = ',sobol_ForcePos,\n",
    "      '\\n sobol_ForceNorm = ',sobol_ForceNorm)\n"
   ]
  },
  {
   "cell_type": "markdown",
   "metadata": {},
   "source": [
    "## Compte SA with metamodel of the maximum deflection"
   ]
  },
  {
   "cell_type": "markdown",
   "metadata": {},
   "source": [
    "### Build and validate the kiging metamodel"
   ]
  },
  {
   "cell_type": "code",
   "execution_count": 14,
   "metadata": {},
   "outputs": [],
   "source": [
    "RandomNormalVector = getRandomNormalVector(AggregatedKLRes)"
   ]
  },
  {
   "cell_type": "code",
   "execution_count": 15,
   "metadata": {},
   "outputs": [
    {
     "name": "stdout",
     "output_type": "stream",
     "text": [
      "field E shape (150, 100)\n",
      "var_Fnor shape (150,)\n",
      "field_E 209995.64209072068 field_D 9.998742900677582 var_Fpos 500.10189778823485 var_Fnor 100.00728769954287\n"
     ]
    },
    {
     "name": "stderr",
     "output_type": "stream",
     "text": [
      "[Parallel(n_jobs=-1)]: Using backend LokyBackend with 4 concurrent workers.\n",
      "[Parallel(n_jobs=-1)]: Done  76 tasks      | elapsed:    1.8s\n",
      "[Parallel(n_jobs=-1)]: Done 150 out of 150 | elapsed:    3.5s finished\n",
      "/home/braydi/miniconda3/envs/env_test123/lib/python3.9/site-packages/numpy/core/_asarray.py:102: VisibleDeprecationWarning: Creating an ndarray from ragged nested sequences (which is a list-or-tuple of lists-or-tuples-or ndarrays with different lengths or shapes) is deprecated. If you meant to do this, you must specify 'dtype=object' when creating the ndarray.\n",
      "  return array(a, dtype, copy=False, order=order)\n"
     ]
    },
    {
     "name": "stdout",
     "output_type": "stream",
     "text": [
      "shape deflection:  (150, 101)  should be [N,10X] something\n",
      "deflection std deviation 3.8327581103631885\n",
      "Using the batch evaluation function. Assumes that the outputs are in the\n",
      "same order than for the single evaluation function. This one should only\n",
      "return ProcessSamples, Samples, Lists or numpy arrays.\n",
      "Element is iterable, assumes that first dimension is size of sample\n",
      "Shape is (150, 100) and dtype is <class 'numpy.float64'>\n",
      "Element 0 of the output tuple returns process samples of dimension 1\n",
      "Element is iterable, assumes that first dimension is size of sample\n",
      "Shape is (1, 150) and dtype is <class 'numpy.float64'>\n",
      "Element 1 of the output tuple returns process samples of dimension 1\n",
      "field E shape (1000, 100)\n",
      "var_Fnor shape (1000,)\n",
      "field_E 210002.4235761342 field_D 10.000061089934388 var_Fpos 500.0067716224304 var_Fnor 99.9910585678642\n"
     ]
    },
    {
     "name": "stderr",
     "output_type": "stream",
     "text": [
      "[Parallel(n_jobs=-1)]: Using backend LokyBackend with 4 concurrent workers.\n",
      "[Parallel(n_jobs=-1)]: Done  76 tasks      | elapsed:    2.1s\n",
      "[Parallel(n_jobs=-1)]: Done 376 tasks      | elapsed:   10.5s\n",
      "[Parallel(n_jobs=-1)]: Done 876 tasks      | elapsed:   24.2s\n",
      "[Parallel(n_jobs=-1)]: Done 1000 out of 1000 | elapsed:   27.0s finished\n"
     ]
    },
    {
     "name": "stdout",
     "output_type": "stream",
     "text": [
      "shape deflection:  (1000, 101)  should be [N,10X] something\n",
      "deflection std deviation 3.823047330471203\n",
      "Using the batch evaluation function. Assumes that the outputs are in the\n",
      "same order than for the single evaluation function. This one should only\n",
      "return ProcessSamples, Samples, Lists or numpy arrays.\n",
      "Element is iterable, assumes that first dimension is size of sample\n",
      "Shape is (1000, 100) and dtype is <class 'numpy.float64'>\n",
      "Element 0 of the output tuple returns process samples of dimension 1\n",
      "Element is iterable, assumes that first dimension is size of sample\n",
      "Shape is (1, 1000) and dtype is <class 'numpy.float64'>\n",
      "Element 1 of the output tuple returns process samples of dimension 1\n"
     ]
    }
   ],
   "source": [
    "# DOE samples\n",
    "doe_kriging_LHS = optimizedLHS(RandomNormalVector, doe_size_kirg, 758295729577843)  #SEED: 758295729577843\n",
    "response_doe = FUNC(doe_kriging_LHS)\n",
    "doe_kriging_LHS_MD = response_doe[1][0]\n",
    "# Validation samples\n",
    "doe_kriging_validation = optimizedLHS(RandomNormalVector, size_validation, 315681856881426) #SEED: 315681856881426\n",
    "response_validation = FUNC(doe_kriging_validation)\n",
    "doe_kriging_validation_MD = response_validation[1][0]"
   ]
  },
  {
   "cell_type": "code",
   "execution_count": 16,
   "metadata": {},
   "outputs": [],
   "source": [
    "# Definition d'un krigeage avec une seule sortie et avec des valeurs des paramètres prises par défaut\n",
    "krig_MD = pyto.KrigingModel(input_sample=doe_kriging_LHS, output_sample=doe_kriging_LHS_MD)"
   ]
  },
  {
   "cell_type": "code",
   "execution_count": 17,
   "metadata": {},
   "outputs": [],
   "source": [
    "# lower_bound=None, upper_bound=None, size=100, optim_type='multi_start'\n",
    "kriging_default = krig_MD.run_optim()"
   ]
  },
  {
   "cell_type": "code",
   "execution_count": 18,
   "metadata": {},
   "outputs": [
    {
     "data": {
      "text/html": [
       "<div>\n",
       "<style scoped>\n",
       "    .dataframe tbody tr th:only-of-type {\n",
       "        vertical-align: middle;\n",
       "    }\n",
       "\n",
       "    .dataframe tbody tr th {\n",
       "        vertical-align: top;\n",
       "    }\n",
       "\n",
       "    .dataframe thead th {\n",
       "        text-align: right;\n",
       "    }\n",
       "</style>\n",
       "<table border=\"1\" class=\"dataframe\">\n",
       "  <thead>\n",
       "    <tr style=\"text-align: right;\">\n",
       "      <th></th>\n",
       "      <th>v0</th>\n",
       "    </tr>\n",
       "  </thead>\n",
       "  <tbody>\n",
       "    <tr>\n",
       "      <th>Q2</th>\n",
       "      <td>0.992094</td>\n",
       "    </tr>\n",
       "  </tbody>\n",
       "</table>\n",
       "</div>"
      ],
      "text/plain": [
       "          v0\n",
       "Q2  0.992094"
      ]
     },
     "metadata": {},
     "output_type": "display_data"
    }
   ],
   "source": [
    "## calcul des valeurs de q2 pour les métamodèles construits par la méthode \"fit\"\n",
    "## remarque: le calcul de q2 pour les métamodèles construit avec \"fit_by_integration\" n'ai pas disponble\n",
    "display(krig_MD.compute_q2())"
   ]
  },
  {
   "cell_type": "code",
   "execution_count": 19,
   "metadata": {},
   "outputs": [
    {
     "data": {
      "text/html": [
       "<div>\n",
       "<style scoped>\n",
       "    .dataframe tbody tr th:only-of-type {\n",
       "        vertical-align: middle;\n",
       "    }\n",
       "\n",
       "    .dataframe tbody tr th {\n",
       "        vertical-align: top;\n",
       "    }\n",
       "\n",
       "    .dataframe thead th {\n",
       "        text-align: right;\n",
       "    }\n",
       "</style>\n",
       "<table border=\"1\" class=\"dataframe\">\n",
       "  <thead>\n",
       "    <tr style=\"text-align: right;\">\n",
       "      <th></th>\n",
       "      <th>v0</th>\n",
       "    </tr>\n",
       "  </thead>\n",
       "  <tbody>\n",
       "    <tr>\n",
       "      <th>R2</th>\n",
       "      <td>[0.9913787678733105]</td>\n",
       "    </tr>\n",
       "  </tbody>\n",
       "</table>\n",
       "</div>"
      ],
      "text/plain": [
       "                      v0\n",
       "R2  [0.9913787678733105]"
      ]
     },
     "metadata": {},
     "output_type": "display_data"
    }
   ],
   "source": [
    " ## calcul des valeurs de r2 pour les métamodèles en se basant sur les échantillons test\n",
    "display(krig_MD.compute_r2(doe_kriging_validation, doe_kriging_validation_MD))"
   ]
  },
  {
   "cell_type": "code",
   "execution_count": 20,
   "metadata": {},
   "outputs": [
    {
     "name": "stderr",
     "output_type": "stream",
     "text": [
      "/home/braydi/miniconda3/envs/env_test123/lib/python3.9/site-packages/pythontools-0.0.1-py3.9.egg/pythontools/_kriging_module.py:406: UserWarning: Matplotlib is currently using module://matplotlib_inline.backend_inline, which is a non-GUI backend, so cannot show the figure.\n"
     ]
    },
    {
     "data": {
      "text/plain": [
       "[<Figure size 576x576 with 1 Axes>]"
      ]
     },
     "execution_count": 20,
     "metadata": {},
     "output_type": "execute_result"
    },
    {
     "data": {
      "image/png": "[encoded data removed]",
      "text/plain": [
       "<Figure size 576x576 with 1 Axes>"
      ]
     },
     "metadata": {
      "needs_background": "light"
     },
     "output_type": "display_data"
    }
   ],
   "source": [
    "krig_MD.draw_validation()"
   ]
  },
  {
   "cell_type": "code",
   "execution_count": 21,
   "metadata": {},
   "outputs": [],
   "source": [
    "## get the metamodel function\n",
    "meta_krig_MD = krig_MD.get_metamodel()"
   ]
  },
  {
   "cell_type": "markdown",
   "metadata": {},
   "source": [
    "### SA with Metamodel"
   ]
  },
  {
   "cell_type": "code",
   "execution_count": 22,
   "metadata": {},
   "outputs": [],
   "source": [
    "def getSobolExperiment(aggregated_karhunen_loeve_results, size, seed, secondOrder=second_order_activate):\n",
    "    ot.RandomGenerator.SetSeed(seed)\n",
    "    experiment = klfs.KarhunenLoeveSobolIndicesExperiment(aggregated_karhunen_loeve_results, size, secondOrder)\n",
    "    sobolExp = experiment.generate()\n",
    "    return sobolExp, experiment"
   ]
  },
  {
   "cell_type": "code",
   "execution_count": 23,
   "metadata": {},
   "outputs": [
    {
     "name": "stdout",
     "output_type": "stream",
     "text": [
      "Generating samples for the second order indices\n",
      "Samples A and B of size 100000 and dimension 15\n",
      "Experiment for second order generated\n",
      "Experiment of size 1000000 and dimension 15\n"
     ]
    }
   ],
   "source": [
    "sobol_experiment_krig, experiment_krig = getSobolExperiment(AggregatedKLRes, size_sa_krig, seed_krig_sa) "
   ]
  },
  {
   "cell_type": "code",
   "execution_count": 24,
   "metadata": {},
   "outputs": [],
   "source": [
    "results_krig_MD = meta_krig_MD(sobol_experiment_krig)"
   ]
  },
  {
   "cell_type": "code",
   "execution_count": 25,
   "metadata": {},
   "outputs": [
    {
     "name": "stdout",
     "output_type": "stream",
     "text": [
      "size initialized 1000000\n",
      "Means is\n",
      " [20.6772]\n",
      "design_elem size, dim 1000000 1\n",
      "There are 4 indices to get for 1 outputs with dimensions 1 each.\n",
      "Description all same? [E__0,E__1,E__2,E__3,E__4,E__5,D__0,D__1,D__2,D__3,D__4,D__5,D__6,F_Pos__0,F_Norm__0]#15\n",
      "SobolIndicesName ['E_', 'D_', 'F_Pos_', 'F_Norm_']\n",
      "Input Description is, ['E_', 'D_', 'F_Pos_', 'F_Norm_']\n",
      "Solving...\n",
      " size of samples:  1000000\n",
      " number of indices to get 4\n"
     ]
    }
   ],
   "source": [
    "# Ici on calcule les indices de Sobol' pour la déflexion maximale\n",
    "SA_maxDefl_krig = klfs.SobolKarhunenLoeveFieldSensitivityAlgorithm(\n",
    "    computeSecondOrder=second_order_activate)\n",
    "SA_maxDefl_krig.setDesign(sobol_experiment_krig, results_krig_MD, size_sa_krig)\n",
    "SA_maxDefl_krig.setEstimator(ot.SaltelliSensitivityAlgorithm())\n",
    "sobol_FO_maxDefl_krig = SA_maxDefl_krig.getFirstOrderIndices()\n",
    "sobol_TO_maxDefl_krig = SA_maxDefl_krig.getTotalOrderIndices()"
   ]
  },
  {
   "cell_type": "code",
   "execution_count": 26,
   "metadata": {},
   "outputs": [
    {
     "name": "stdout",
     "output_type": "stream",
     "text": [
      "Sobol_Unnamed_F_Pos_\n",
      "<class 'openturns.typ.Point'>\n",
      "1\n",
      "sobol_YoungsModulus =  [0.0515591] \n",
      " sobol_Diameter =  [0.87262] \n",
      " sobol_ForcePos =  [-0.00354409] \n",
      " sobol_ForceNorm =  [0.0650373]\n",
      "len vertices is: 101\n",
      "len vertices is: 101\n",
      "len vertices is: 101\n",
      "len vertices is: 101\n"
     ]
    }
   ],
   "source": [
    "# Print the results of the SI first order for each input\n",
    "print(sobol_FO_maxDefl_krig[0][2].getName())\n",
    "print(sobol_FO_maxDefl_krig[0][0].__class__)\n",
    "print(sobol_FO_maxDefl_krig[0][0].getSize())\n",
    "\n",
    "sobol_YoungsModulus = sobol_FO_maxDefl_krig[0][0]\n",
    "sobol_Diameter      = sobol_FO_maxDefl_krig[0][1]\n",
    "sobol_ForcePos      = sobol_FO_maxDefl_krig[0][2]\n",
    "sobol_ForceNorm     = sobol_FO_maxDefl_krig[0][3]\n",
    "\n",
    "print('sobol_YoungsModulus = ',sobol_YoungsModulus,\n",
    "      '\\n sobol_Diameter = ',sobol_Diameter,\n",
    "      '\\n sobol_ForcePos = ',sobol_ForcePos,\n",
    "      '\\n sobol_ForceNorm = ',sobol_ForceNorm )"
   ]
  }
 ],
 "metadata": {
  "kernelspec": {
   "display_name": "Python 3 (ipykernel)",
   "language": "python",
   "name": "python3"
  },
  "language_info": {
   "codemirror_mode": {
    "name": "ipython",
    "version": 3
   },
   "file_extension": ".py",
   "mimetype": "text/x-python",
   "name": "python",
   "nbconvert_exporter": "python",
   "pygments_lexer": "ipython3",
   "version": "3.9.7"
  }
 },
 "nbformat": 4,
 "nbformat_minor": 4
}
