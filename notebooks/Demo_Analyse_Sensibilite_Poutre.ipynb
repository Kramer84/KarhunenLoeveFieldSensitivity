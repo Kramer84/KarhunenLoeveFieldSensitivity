{
 "cells": [
  {
   "cell_type": "markdown",
   "metadata": {},
   "source": [
    "### Il est explicité ici l'utilisation des ensembles de codes écrits pour l'analyse de sensibilité sur des champs stochastiques et variables aléatoires.\n",
    "\n",
    "### Il est d'abord conseillé d'installer l'environnement virtuel dont la définition se trouvent dans le fichier yaml\n",
    "\n",
    "Nous allons faire ici l'analyse de sensiblité sur une poutre en flexion représentée par 100 éléments finis, et ou le module young et le diamètre de chaque élément est déterminé par un processus gaussien en une dimension. La position de la force, sa norme, tout comme la densité du matérieau sont déterminés par des lois nomales gaussiennes.\n",
    "Dans la logique d'écriture de ces codes, il faut avoir un à priori sur les processus gaussiens, la loi qu'ils suivent, tout comme sur les paramètres des lois gaussiennes. Ensuite, il faut avoir une fonction python qui prend en entrée ces champs, et qui renvoie un ensemble connu de resultas. \n"
   ]
  },
  {
   "cell_type": "code",
   "execution_count": 1,
   "metadata": {},
   "outputs": [],
   "source": [
    "### Essai pour voir si les packages nécessaires sont installés\n",
    "try:\n",
    "    import anastruct, openturns, numba, joblib\n",
    "except:\n",
    "    import os\n",
    "    if os.sys.platform == 'linux' :\n",
    "        file_path = 'sensitivityEnv.yml'\n",
    "        os.system('conda env create -f'+file_path)\n",
    "        # to have the right modules installed\n",
    "        print('now activate the environment and restart jupyter with other kernel')\n",
    "    else :\n",
    "        print('Do it alone')"
   ]
  },
  {
   "cell_type": "code",
   "execution_count": 2,
   "metadata": {},
   "outputs": [],
   "source": [
    "import sys\n",
    "sys.path.insert(0, '../')\n",
    "# Voici les deux scripts destinés à gérer l'analyse de sensibilité sur les champs stochastiques\n",
    "import StochasticProcessSensitivity as SPS\n",
    "import StochasticProcessConstructor as SPC\n",
    "# Classes utilitaires\n",
    "import numpy                        as np\n",
    "import openturns                    as ot\n",
    "import matplotlib.pyplot            as plt\n",
    "from   importlib                import reload \n",
    "# on importe aussi les fonctions à étudier\n",
    "import RandomBeamGenerationClass    as rbgc"
   ]
  },
  {
   "cell_type": "markdown",
   "metadata": {},
   "source": [
    "D'abord, nous définisson l'ensemble de nos variables d'entrée, tout comme les variables de sortie :\n",
    "- L'on va définir un par un tout les processus et variables aléatoires utilisées dans notre model. Bien sûr cela implique d'avoir un à-priori sur le comportement de ces différentes lois probabilistes. \n",
    "- Néanmoins, comme nous en sommes à des codes d'essai, il serait assez trivial de rajouter la prossiblité de récuperer l'approximation d'un champ inconnu avec l'approcimation de Karhunen - Loeve, en présence d'un grand nombre de mesures.\n",
    "- La définition des éléments sur lesquels est construit le champ stochastique est un peu différent de la manière interne à openturns. En effet, s'étant placés directement dans un cadre de poutre en 'éléments finis, ou l'on a N+1 noeuds (N étant le nombre de poutres), il faut savoir si N est le nombre de mailles ou le nombre de noeuds. Dans le choix a été fait ici de définir la taille du maillage (grid_shape) de la manière suivante :\n",
    "> grid_shape = [[position_X0, longeur_totaleX, nombre_mailles], [position_Y0, longeur_totaleY, nombre_mailles], ..]\n",
    " "
   ]
  },
  {
   "cell_type": "code",
   "execution_count": 3,
   "metadata": {},
   "outputs": [
    {
     "name": "stdout",
     "output_type": "stream",
     "text": [
      "Assessing the right constructor choice from input dictionary for MaternModel\n",
      "Choosen constructor is: ( scale, amplitude, nu ) =>  [[300], [50000], 4.333333333333333]\n",
      "\n",
      "WARNING : if your process is multidimensional, some inputs for the covariance model have to be multidimensional\n",
      "for example, the scale parameter has the same number of arguments than the dimension. \n",
      "If you forget it, you will have no error message, it just won't work\n",
      "\n",
      "trend function args:  ['x']  trend function:  210000 \n",
      "\n",
      "Please be aware that the number of elements in the argument list                     has to be the same as the dimension of the process:  1\n",
      "Assessing the right constructor choice from input dictionary for MaternModel\n",
      "Choosen constructor is: ( scale, amplitude, nu ) =>  [[250], [0.3], 2.466666666666667]\n",
      "\n",
      "WARNING : if your process is multidimensional, some inputs for the covariance model have to be multidimensional\n",
      "for example, the scale parameter has the same number of arguments than the dimension. \n",
      "If you forget it, you will have no error message, it just won't work\n",
      "\n",
      "trend function args:  ['X']  trend function:  10 \n",
      "\n",
      "Please be aware that the number of elements in the argument list                     has to be the same as the dimension of the process:  1\n"
     ]
    }
   ],
   "source": [
    "# process governing the young modulus for each element (MPa)\n",
    "process_E = SPC.StochasticProcessConstructor(dimension=1,\n",
    "                                        grid_shape=[[0,1000,100],],\n",
    "                                        covariance_model={'Model':'MaternModel',\n",
    "                                                        'amplitude':[50000],\n",
    "                                                        'scale':[300],\n",
    "                                                        'nu':13/3},\n",
    "                                        trend_arguments=['x'],trend_function=210000)\n",
    "process_E.setName('E_')\n",
    "\n",
    "\n",
    "###########################################################################################################\n",
    "# process governing the diameter for each element (mm) \n",
    "# other constructor shown \n",
    "process_D = SPC.StochasticProcessConstructor()\n",
    "process_D.setDimension(1)\n",
    "process_D.setGrid([[0,1000,100],])\n",
    "#setCovarianceModel also accepts any of the models defined in openturns, already initialised\n",
    "#with the right parameters, not only dictionaries\n",
    "process_D.setCovarianceModel(covarianceModelDict = {'Model':'MaternModel',\n",
    "                                                    'amplitude':[.3],\n",
    "                                                    'scale':[250],\n",
    "                                                    'nu':7.4/3})\n",
    "process_D.setTrend(['X'], 10)\n",
    "process_D.setName('D_')\n",
    "\n",
    "###########################################################################################################\n",
    "# random variable for the density of the material (kg/m³)\n",
    "rho         = 7850.\n",
    "sigma       = 750\n",
    "nameD       = 'Rho'\n",
    "RV_Rho = ot.Normal(rho, sigma)\n",
    "RV_Rho.setName(nameD)\n",
    "\n",
    "###########################################################################################################\n",
    "# random variable for the position of the force   (mm) \n",
    "middle       = 500\n",
    "sigma_f      = 50\n",
    "namePos     = 'FP'\n",
    "RV_Fpos = ot.Normal(middle, sigma_f)\n",
    "RV_Fpos.setName(namePos)\n",
    "\n",
    "###########################################################################################################\n",
    "# random variable for the norm of the force    (N)\n",
    "muForce       = 100\n",
    "# we go from sigma = 15 to sigma = 1.5, as the influence is too important\n",
    "sigma_Fnor    = 5.5\n",
    "nameNor       = 'FN'\n",
    "RV_Fnorm  = ot.Normal(muForce, sigma_Fnor)\n",
    "RV_Fnorm.setName(nameNor)"
   ]
  },
  {
   "cell_type": "markdown",
   "metadata": {},
   "source": [
    "Il est important de noter que les processus et variables aléatoires doivent être définies à partir du module \n",
    "NdGaussianProcessConstructor, qui contient les classes suivantes : \n",
    "###### Classe pour construire un champ stochastique : \n",
    "> NdGaussianProcessConstructor.NdGaussianProcessConstructor() \n",
    "###### Classe pour construire une variables aléatoire  : \n",
    "> NdGaussianProcessConstructor.NormalDistribution() ## Classe openturns.Normal() suchargée\n",
    "###### Classe pour construire un vecteur de variables aléatoires normales : \n",
    "> NdGaussianProcessConstructor.RandomNormalVector() ## Classe openturns.PythonRandomVector surchargée. Cette dernière est utilisée en interne par NdGaussianProcessConstructor.\n",
    "\n",
    "**Finalement, l'autre particularité du NdGaussianProcessConstructor, est d'utiliser un objet _numpy.memmap_ modifiée, qui enregistre les échantillons de processus gaussiens sous forme de fichier temporaire dans le directoire d'utilisation des codes et les éfface en sortant du code**\n",
    "\n",
    "L'on définit ensuite les variables de sortie. Il faut connaître l'ordre dans lequel la fonction renvoie ses resultats connaitre leur nom comme leur dimension. \n",
    "    "
   ]
  },
  {
   "cell_type": "code",
   "execution_count": 4,
   "metadata": {},
   "outputs": [],
   "source": [
    "from importlib import reload\n",
    "reload(SPS)\n",
    "outputVariables = {'out1' :\n",
    "                   {\n",
    "                         'name'     : 'VonMisesStress',\n",
    "                         'position' : 0,\n",
    "                         'shape'    : (102,)  \n",
    "                    },\n",
    "                   'out2' :\n",
    "                   {\n",
    "                        'name'      : 'maxDeflection',\n",
    "                        'position'  : 1,\n",
    "                        'shape'     : (1,)\n",
    "                   }\n",
    "                  }\n",
    "#Pour utiliser notre fonction, un wrapper a été spécialement écrit pour faciliter l'accès aux fonctions mais\n",
    "#ce choix est entièrement dépendant de la manière dont a été définie la fonction sur laquelle vous travaillez.\n",
    "functionWrapper = rbgc.sampleAndSoloFunctionWrapper(process_E, process_D, RV_Rho, RV_Fpos, RV_Fnorm)"
   ]
  },
  {
   "cell_type": "markdown",
   "metadata": {},
   "source": [
    "###### Ensuite, on crée une instance pour l'analyse de sensibilité.\n",
    "Il faut donner en entrée une liste contenant les procéssus et les variables aléatoires **dans l'ordre** dans lequel la fonction les recoit. \n",
    "\n",
    "*Pour cela il faut aussi connaître l'ordre des variables d'entrée de la fonction et leur nombre.*\n",
    "\n",
    "**Ces fonctions sont celles qui prennent entrée des champs aléatoires (vecteurs et matrices, de type *list ou numpy*) et variables aléatoire (scalaires (vecteurs 1D pour le multiprocessing)) et non pas les fonctions prennant en entrée les variables aléatoires issues de la décomposition de la Karhunen Loeve, qui elles sont construites en interne dans la classe**"
   ]
  },
  {
   "cell_type": "code",
   "execution_count": 5,
   "metadata": {
    "scrolled": false
   },
   "outputs": [
    {
     "name": "stdout",
     "output_type": "stream",
     "text": [
      "Input Variables are (without Karhunen Loeve Decomposition) :\n",
      " E_ D_ Rho FP FN \n",
      "\n",
      "Output Variables are :\n",
      " ['VonMisesStress', 'maxDeflection'] \n",
      "\n",
      "temporary directory deleted\n",
      "temporary directory deleted\n",
      "Composed distribution built with processes and distributions: E_; D_; Rho; FP; FN\n",
      "Program initialised, ready for sensitivity analysis. You can now proceed to prepare the Sobol indices experiment\n",
      "\n"
     ]
    }
   ],
   "source": [
    "inputVarList = [process_E, process_D, RV_Rho, RV_Fpos, RV_Fnorm]\n",
    "# We also the need the two functions of the model (one for samples, the other for single evaluations)\n",
    "# In our case, as our model is defined as a class, we have to first create the model, \n",
    "# but it also could just be just two functions taking as an input the fields and RVs\n",
    "soloFunction   = functionWrapper.randomBeamFunctionSolo\n",
    "sampleFunction = functionWrapper.randomBeamFunctionSample\n",
    "##\n",
    "size           = 1000 ## Number of samples for our sobol indicies experiment (kept low here to make things faster)\n",
    "##\n",
    "reload(SPS)\n",
    "## It is sufficient just to pass one of the functions \n",
    "processSensitivityAnalysis = SPS.StochasticProcessSensitivityAnalysis(inputVarList, \n",
    "                                                                       outputVariables,\n",
    "                                                                       sampleFunction,\n",
    "                                                                       soloFunction,\n",
    "                                                                       size)"
   ]
  },
  {
   "cell_type": "markdown",
   "metadata": {},
   "source": [
    "Voici une vue du dictionnaire intermédiaire qui est crée une fois les processus et variables aléatoires d'entrées définies :\n",
    "\n",
    "On voit que la position des processus dans les arguments de la fonction d'entrée est enregistrée dans le dictionnaire dans la clé *position* et viennent de la manière de laquelle on a mis les VA et Processus dans le vecteur inputVarList. \n"
   ]
  },
  {
   "cell_type": "markdown",
   "metadata": {},
   "source": [
    "###### Ensuite, grace à l'intermédiaire de la classe ot.SobolIndiciesExperiment, on génère les' variables aléatoires d'entrée "
   ]
  },
  {
   "cell_type": "code",
   "execution_count": null,
   "metadata": {},
   "outputs": [
    {
     "name": "stdout",
     "output_type": "stream",
     "text": [
      "Generation types are:\n",
      "1 : Random (default)\n",
      "2 : LHS\n",
      "            3 : LowDiscrepancySequence\n",
      "4 : SimulatedAnnealingLHS\n",
      "You choose Random generation\n",
      "number of samples for sobol experiment =  7000 \n",
      "\n",
      "input design shape is:  (7000, 24)\n"
     ]
    },
    {
     "name": "stderr",
     "output_type": "stream",
     "text": [
      "[Parallel(n_jobs=-1)]: Using backend LokyBackend with 4 concurrent workers.\n",
      "[Parallel(n_jobs=-1)]: Done   5 tasks      | elapsed:    2.1s\n",
      "[Parallel(n_jobs=-1)]: Done  10 tasks      | elapsed:    2.6s\n",
      "[Parallel(n_jobs=-1)]: Done  17 tasks      | elapsed:    2.9s\n",
      "[Parallel(n_jobs=-1)]: Done  24 tasks      | elapsed:    3.4s\n",
      "[Parallel(n_jobs=-1)]: Done  33 tasks      | elapsed:    4.0s\n",
      "[Parallel(n_jobs=-1)]: Done  42 tasks      | elapsed:    4.6s\n",
      "[Parallel(n_jobs=-1)]: Done  53 tasks      | elapsed:    5.2s\n",
      "[Parallel(n_jobs=-1)]: Done  64 tasks      | elapsed:    6.0s\n",
      "[Parallel(n_jobs=-1)]: Done  77 tasks      | elapsed:    6.7s\n",
      "[Parallel(n_jobs=-1)]: Done  90 tasks      | elapsed:    7.5s\n",
      "[Parallel(n_jobs=-1)]: Done 105 tasks      | elapsed:    8.4s\n",
      "[Parallel(n_jobs=-1)]: Done 120 tasks      | elapsed:    9.4s\n",
      "[Parallel(n_jobs=-1)]: Done 137 tasks      | elapsed:   10.4s\n",
      "[Parallel(n_jobs=-1)]: Done 154 tasks      | elapsed:   11.4s\n",
      "[Parallel(n_jobs=-1)]: Done 173 tasks      | elapsed:   12.6s\n",
      "[Parallel(n_jobs=-1)]: Done 192 tasks      | elapsed:   13.8s\n",
      "[Parallel(n_jobs=-1)]: Done 213 tasks      | elapsed:   15.1s\n",
      "[Parallel(n_jobs=-1)]: Done 234 tasks      | elapsed:   16.4s\n",
      "[Parallel(n_jobs=-1)]: Done 257 tasks      | elapsed:   17.9s\n",
      "[Parallel(n_jobs=-1)]: Done 280 tasks      | elapsed:   19.4s\n",
      "[Parallel(n_jobs=-1)]: Done 305 tasks      | elapsed:   21.0s\n",
      "[Parallel(n_jobs=-1)]: Done 330 tasks      | elapsed:   22.7s\n",
      "[Parallel(n_jobs=-1)]: Done 357 tasks      | elapsed:   24.3s\n",
      "[Parallel(n_jobs=-1)]: Done 384 tasks      | elapsed:   26.0s\n",
      "[Parallel(n_jobs=-1)]: Done 413 tasks      | elapsed:   27.8s\n",
      "[Parallel(n_jobs=-1)]: Done 442 tasks      | elapsed:   29.6s\n",
      "[Parallel(n_jobs=-1)]: Done 473 tasks      | elapsed:   31.5s\n",
      "[Parallel(n_jobs=-1)]: Done 504 tasks      | elapsed:   33.5s\n",
      "[Parallel(n_jobs=-1)]: Done 537 tasks      | elapsed:   35.6s\n",
      "[Parallel(n_jobs=-1)]: Done 570 tasks      | elapsed:   37.7s\n",
      "[Parallel(n_jobs=-1)]: Done 605 tasks      | elapsed:   40.0s\n",
      "[Parallel(n_jobs=-1)]: Done 640 tasks      | elapsed:   42.2s\n",
      "[Parallel(n_jobs=-1)]: Done 677 tasks      | elapsed:   44.5s\n",
      "[Parallel(n_jobs=-1)]: Done 714 tasks      | elapsed:   46.7s\n",
      "[Parallel(n_jobs=-1)]: Done 753 tasks      | elapsed:   49.2s\n",
      "[Parallel(n_jobs=-1)]: Done 792 tasks      | elapsed:   51.6s\n",
      "[Parallel(n_jobs=-1)]: Done 833 tasks      | elapsed:   54.2s\n",
      "[Parallel(n_jobs=-1)]: Done 874 tasks      | elapsed:   56.7s\n",
      "[Parallel(n_jobs=-1)]: Done 917 tasks      | elapsed:   59.3s\n",
      "[Parallel(n_jobs=-1)]: Done 960 tasks      | elapsed:  1.0min\n",
      "[Parallel(n_jobs=-1)]: Done 1005 tasks      | elapsed:  1.1min\n",
      "[Parallel(n_jobs=-1)]: Done 1050 tasks      | elapsed:  1.1min\n",
      "[Parallel(n_jobs=-1)]: Done 1097 tasks      | elapsed:  1.2min\n",
      "[Parallel(n_jobs=-1)]: Done 1144 tasks      | elapsed:  1.2min\n",
      "[Parallel(n_jobs=-1)]: Done 1193 tasks      | elapsed:  1.3min\n",
      "[Parallel(n_jobs=-1)]: Done 1242 tasks      | elapsed:  1.3min\n",
      "[Parallel(n_jobs=-1)]: Done 1293 tasks      | elapsed:  1.4min\n",
      "[Parallel(n_jobs=-1)]: Done 1344 tasks      | elapsed:  1.4min\n",
      "[Parallel(n_jobs=-1)]: Done 1397 tasks      | elapsed:  1.5min\n",
      "[Parallel(n_jobs=-1)]: Done 1450 tasks      | elapsed:  1.6min\n",
      "[Parallel(n_jobs=-1)]: Done 1505 tasks      | elapsed:  1.6min\n",
      "[Parallel(n_jobs=-1)]: Done 1560 tasks      | elapsed:  1.7min\n",
      "[Parallel(n_jobs=-1)]: Done 1617 tasks      | elapsed:  1.7min\n",
      "[Parallel(n_jobs=-1)]: Done 1674 tasks      | elapsed:  1.8min\n",
      "[Parallel(n_jobs=-1)]: Done 1733 tasks      | elapsed:  1.9min\n",
      "[Parallel(n_jobs=-1)]: Done 1792 tasks      | elapsed:  1.9min\n",
      "[Parallel(n_jobs=-1)]: Done 1853 tasks      | elapsed:  2.0min\n",
      "[Parallel(n_jobs=-1)]: Done 1914 tasks      | elapsed:  2.0min\n",
      "[Parallel(n_jobs=-1)]: Done 1977 tasks      | elapsed:  2.1min\n",
      "[Parallel(n_jobs=-1)]: Done 2040 tasks      | elapsed:  2.2min\n",
      "[Parallel(n_jobs=-1)]: Done 2105 tasks      | elapsed:  2.2min\n",
      "[Parallel(n_jobs=-1)]: Done 2170 tasks      | elapsed:  2.3min\n",
      "[Parallel(n_jobs=-1)]: Done 2237 tasks      | elapsed:  2.4min\n",
      "[Parallel(n_jobs=-1)]: Done 2304 tasks      | elapsed:  2.4min\n",
      "[Parallel(n_jobs=-1)]: Done 2373 tasks      | elapsed:  2.5min\n",
      "[Parallel(n_jobs=-1)]: Done 2442 tasks      | elapsed:  2.6min\n",
      "[Parallel(n_jobs=-1)]: Done 2513 tasks      | elapsed:  2.6min\n",
      "[Parallel(n_jobs=-1)]: Done 2584 tasks      | elapsed:  2.7min\n",
      "[Parallel(n_jobs=-1)]: Done 2657 tasks      | elapsed:  2.8min\n",
      "[Parallel(n_jobs=-1)]: Done 2730 tasks      | elapsed:  2.9min\n",
      "[Parallel(n_jobs=-1)]: Done 2805 tasks      | elapsed:  3.0min\n",
      "[Parallel(n_jobs=-1)]: Done 2880 tasks      | elapsed:  3.0min\n",
      "[Parallel(n_jobs=-1)]: Done 2957 tasks      | elapsed:  3.1min\n",
      "[Parallel(n_jobs=-1)]: Done 3034 tasks      | elapsed:  3.2min\n",
      "[Parallel(n_jobs=-1)]: Done 3113 tasks      | elapsed:  3.3min\n",
      "[Parallel(n_jobs=-1)]: Done 3192 tasks      | elapsed:  3.4min\n",
      "[Parallel(n_jobs=-1)]: Done 3273 tasks      | elapsed:  3.5min\n",
      "[Parallel(n_jobs=-1)]: Done 3354 tasks      | elapsed:  3.5min\n",
      "[Parallel(n_jobs=-1)]: Done 3437 tasks      | elapsed:  3.6min\n",
      "[Parallel(n_jobs=-1)]: Done 3520 tasks      | elapsed:  3.7min\n",
      "[Parallel(n_jobs=-1)]: Done 3605 tasks      | elapsed:  3.8min\n",
      "[Parallel(n_jobs=-1)]: Done 3690 tasks      | elapsed:  3.9min\n",
      "[Parallel(n_jobs=-1)]: Done 3777 tasks      | elapsed:  4.0min\n",
      "[Parallel(n_jobs=-1)]: Done 3864 tasks      | elapsed:  4.1min\n",
      "[Parallel(n_jobs=-1)]: Done 3953 tasks      | elapsed:  4.2min\n",
      "[Parallel(n_jobs=-1)]: Done 4042 tasks      | elapsed:  4.3min\n",
      "[Parallel(n_jobs=-1)]: Done 4133 tasks      | elapsed:  4.4min\n",
      "[Parallel(n_jobs=-1)]: Done 4224 tasks      | elapsed:  4.5min\n",
      "[Parallel(n_jobs=-1)]: Done 4317 tasks      | elapsed:  4.6min\n",
      "[Parallel(n_jobs=-1)]: Done 4410 tasks      | elapsed:  4.7min\n",
      "[Parallel(n_jobs=-1)]: Done 4505 tasks      | elapsed:  4.8min\n",
      "[Parallel(n_jobs=-1)]: Done 4600 tasks      | elapsed:  4.9min\n",
      "[Parallel(n_jobs=-1)]: Done 4697 tasks      | elapsed:  5.0min\n",
      "[Parallel(n_jobs=-1)]: Done 4794 tasks      | elapsed:  5.1min\n",
      "[Parallel(n_jobs=-1)]: Done 4893 tasks      | elapsed:  5.2min\n",
      "[Parallel(n_jobs=-1)]: Done 4992 tasks      | elapsed:  5.3min\n",
      "[Parallel(n_jobs=-1)]: Done 5093 tasks      | elapsed:  5.4min\n",
      "[Parallel(n_jobs=-1)]: Done 5194 tasks      | elapsed:  5.5min\n",
      "[Parallel(n_jobs=-1)]: Done 5297 tasks      | elapsed:  5.6min\n",
      "[Parallel(n_jobs=-1)]: Done 5400 tasks      | elapsed:  5.8min\n",
      "[Parallel(n_jobs=-1)]: Done 5505 tasks      | elapsed:  5.9min\n",
      "[Parallel(n_jobs=-1)]: Done 5610 tasks      | elapsed:  6.0min\n",
      "[Parallel(n_jobs=-1)]: Done 5717 tasks      | elapsed:  6.1min\n",
      "[Parallel(n_jobs=-1)]: Done 5824 tasks      | elapsed:  6.2min\n",
      "[Parallel(n_jobs=-1)]: Done 5933 tasks      | elapsed:  6.4min\n",
      "[Parallel(n_jobs=-1)]: Done 6042 tasks      | elapsed:  6.5min\n",
      "[Parallel(n_jobs=-1)]: Done 6153 tasks      | elapsed:  6.6min\n",
      "[Parallel(n_jobs=-1)]: Done 6264 tasks      | elapsed:  6.7min\n",
      "[Parallel(n_jobs=-1)]: Done 6377 tasks      | elapsed:  6.8min\n",
      "[Parallel(n_jobs=-1)]: Done 6490 tasks      | elapsed:  6.9min\n",
      "[Parallel(n_jobs=-1)]: Done 6605 tasks      | elapsed:  7.1min\n"
     ]
    }
   ],
   "source": [
    "processSensitivityAnalysis.run(generationType = 1)\n"
   ]
  },
  {
   "cell_type": "markdown",
   "metadata": {},
   "source": [
    "###### Ensuite on récupère les sorties associées aux entrées génerées. \n",
    "L'idée du postprocessing est d'identifier si dans les sorties il y a des valeurs de type np.nan, et de refaire les experiences manquantes tant qu'il y a des np.nan de présents.\n",
    "\n",
    "**Ceci crée quelques problèmes : En effet, si le calcul numérique n'a pas pu aboutir avec une certaine réalisation des variables en entrée, est-ce que cela veut dire que cette réalisation est défaillante? Va-t-on l'inclure dans le cas du calcul de la défaillance ou de la sensibilité? Car si on l'inclut pas, il se peut qu'on oublie un nombre conséquent de modes défaillants. Solution : changer le modèle informatique et le rendre robuste à ces erreurs, ou faire une étude précise avec ces réalisation particulières.**\n",
    "\n",
    "\n",
    "La solution retenue pour génerer les experiences manquantes est d'itérer au dessus de chaque index de la sortie ou se trouvent les nans, de refaire une experience de sobol de taille 1 ( donc qui renverra d+2 valeurs, avec d la dimension de l'entrée), de générer les sorties correspondant aux entrées (recommencer si il s'y trouve un np.nan), et de remplacer les d+2 valeurs du inputDesign d'entrée avec celles que l'on vient de regénérer. "
   ]
  },
  {
   "cell_type": "markdown",
   "metadata": {},
   "source": [
    "Le *timing* vient de la classe ***custum_wraps***, qui est pour l'instant assez inutile, mais permet de prendre en main les décorateurs...\n",
    "\n",
    "Une fois le _output design_ generé, l'on peut faire l'analyse de sensibilité sur le model.\n",
    "Pour ce faire, l'on utilise la fonction ***self.getSobolIndiciesKLCoefs***.\n",
    "La fonction ne renvoie pas directement les indices de sobol, mais bien des champs d'objets ***openTURNS.SaltelliSensitivityAlgorithm*** ou ***openTURNS.MartinezSensitivityAlgorithm*** ou ***openTURNS.JansenSensitivityAlgorithm*** ou ***openTURNS.MauntzKucherenkoSensitivityAlgorithm***.\n",
    "\n",
    "Ceci est bien sûr fait dans l'optique de toujours pouvoir accéder à l'entierté des indices de sobol et indices totaux du modèle.\n",
    "Ceci veut aussi dire qu'il manque une dimension pour les champs en sortie, celle des variables d'entrée."
   ]
  },
  {
   "cell_type": "markdown",
   "metadata": {},
   "source": [
    "Ici on calcule les indices de sobol du premier ordre"
   ]
  },
  {
   "cell_type": "code",
   "execution_count": null,
   "metadata": {},
   "outputs": [],
   "source": [
    "processSensitivityAnalysis.getSensitivityAnalysisResults()"
   ]
  },
  {
   "cell_type": "markdown",
   "metadata": {},
   "source": [
    "L'on peut récuperer ces indices du premier ordre dans ***self.processSensitivityAnalysis.sensitivityResults.firstOrderIndices***\n",
    "Matplotlib permet de facilement visualiser ces indices. Néanmoins, cette visualisation est pour l'instant peu pertinente, puisque l'on visualise chaque variables aléatoire de Karhunen Loeve individuellement, alors qu'il nous faut encore combiner ces dernières pour que l'indice de sobol soit représentatif du champ stochastique consideré."
   ]
  },
  {
   "cell_type": "code",
   "execution_count": null,
   "metadata": {},
   "outputs": [],
   "source": [
    "processSensitivityAnalysis.SensitivityAnalysisResults['VonMisesStress'].draw()"
   ]
  },
  {
   "cell_type": "code",
   "execution_count": null,
   "metadata": {},
   "outputs": [],
   "source": [
    "processSensitivityAnalysis.SensitivityAnalysisResults['maxDeflection'].draw()"
   ]
  },
  {
   "cell_type": "code",
   "execution_count": null,
   "metadata": {},
   "outputs": [],
   "source": []
  }
 ],
 "metadata": {
  "kernelspec": {
   "display_name": "Python 3",
   "language": "python",
   "name": "python3"
  },
  "language_info": {
   "codemirror_mode": {
    "name": "ipython",
    "version": 3
   },
   "file_extension": ".py",
   "mimetype": "text/x-python",
   "name": "python",
   "nbconvert_exporter": "python",
   "pygments_lexer": "ipython3",
   "version": "3.6.7"
  }
 },
 "nbformat": 4,
 "nbformat_minor": 2
}
