{
 "cells": [
  {
   "cell_type": "markdown",
   "metadata": {},
   "source": [
    "### Il est explicité ici l'utilisation des ensembles de codes écrits pour l'analyse de sensibilité sur des champs stochastiques et variables aléatoires.\n",
    "\n",
    "### Il est d'abord conseillé d'installer l'environnement virtuel dont la définition se trouvent dans le fichier yaml\n",
    "\n",
    "Nous allons faire ici l'analyse de sensiblité sur une poutre en flexion représentée par 100 éléments finis, et ou le module young et le diamètre de chaque élément est déterminé par un processus gaussien en une dimension. La position de la force, sa norme, tout comme la densité du matérieau sont déterminés par des lois nomales gaussiennes.\n",
    "Dans la logique d'écriture de ces codes, il faut avoir un à priori sur les processus gaussiens, la loi qu'ils suivent, tout comme sur les paramètres des lois gaussiennes. Ensuite, il faut avoir une fonction python qui prend en entrée ces champs, et qui renvoie un ensemble connu de resultas. \n"
   ]
  },
  {
   "cell_type": "code",
   "execution_count": null,
   "metadata": {},
   "outputs": [],
   "source": [
    "try:\n",
    "    import anastruct, openturns, numba, joblib\n",
    "except:\n",
    "    import os\n",
    "    if os.sys.platform == 'linux' :\n",
    "        file_path = 'sensitivityEnv.yml'\n",
    "        os.system('conda env create -f'+file_path)\n",
    "        # to have the right modules installed\n",
    "        print('now activate the environment and restart jupyter with other kernel')\n",
    "    else :\n",
    "        print('Do it alone')"
   ]
  },
  {
   "cell_type": "code",
   "execution_count": null,
   "metadata": {},
   "outputs": [],
   "source": [
    "import sys\n",
    "sys.path.insert(0, '../')\n",
    "# Voici les deux scripts destinés à gérer l'analyse de sensibilité sur les champs stochastiques\n",
    "import StochasticProcessSensitivity as SPS\n",
    "import StochasticProcessConstructor as SPC\n",
    "# Classes utilitaires\n",
    "import numpy                        as np\n",
    "import openturns                    as ot\n",
    "import matplotlib.pyplot            as plt\n",
    "from   importlib                import reload \n",
    "# on importe aussi les fonctions à étudier\n",
    "import RandomBeamGenerationClass    as rbgc"
   ]
  },
  {
   "cell_type": "markdown",
   "metadata": {},
   "source": [
    "D'abord, nous définisson l'ensemble de nos variables d'entrée, tout comme les variables de sortie :\n",
    "- L'on va définir un par un tout les processus et variables aléatoires utilisées dans notre model. Bien sûr cela implique d'avoir un à-priori sur le comportement de ces différentes lois probabilistes. \n",
    "- Néanmoins, comme nous en sommes à des codes d'essai, il serait assez trivial de rajouter la prossiblité de récuperer l'approximation d'un champ inconnu avec l'approcimation de Karhunen - Loeve, en présence d'un grand nombre de mesures.\n",
    "- La définition des éléments sur lesquels est construit le champ stochastique est un peu différent de la manière interne à openturns. En effet, s'étant placés directement dans un cadre de poutre en 'éléments finis, ou l'on a N+1 noeuds (N étant le nombre de poutres), il faut savoir si N est le nombre de mailles ou le nombre de noeuds. Dans le choix a été fait ici de définir la taille du maillage (grid_shape) de la manière suivante :\n",
    "> grid_shape = [[position_X0, longeur_totaleX, nombre_mailles], [position_Y0, longeur_totaleY, nombre_mailles], ..]\n",
    " "
   ]
  },
  {
   "cell_type": "code",
   "execution_count": null,
   "metadata": {},
   "outputs": [],
   "source": [
    "# process governing the young modulus for each element (MPa)\n",
    "process_E = SPC.StochasticProcessConstructor(dimension=1,\n",
    "                                        grid_shape=[[0,1000,100],],\n",
    "                                        covariance_model={'Model':'MaternModel',\n",
    "                                                        'amplitude':[50000],\n",
    "                                                        'scale':[300],\n",
    "                                                        'nu':13/3},\n",
    "                                        trend_arguments=['x'],trend_function=210000)\n",
    "process_E.setName('E_')\n",
    "\n",
    "\n",
    "# process governing the diameter for each element (mm) \n",
    "# other constructor shown \n",
    "process_D = SPC.StochasticProcessConstructor()\n",
    "process_D.setDimension(1)\n",
    "process_D.setGrid([[0,1000,100],])\n",
    "#setCovarianceModel also accepts any of the models defined in openturns, already initialised\n",
    "#with the right parameters, not only dictionaries\n",
    "process_D.setCovarianceModel(covarianceModelDict = {'Model':'MaternModel',\n",
    "                                                    'amplitude':[.3],\n",
    "                                                    'scale':[250],\n",
    "                                                    'nu':7.4/3})\n",
    "process_D.setTrend(['X'], 10)\n",
    "process_D.setName('D_')\n",
    "\n",
    "# random variable for the density of the material (kg/m³)\n",
    "rho         = 7850.\n",
    "sigma       = 750\n",
    "nameD       = 'Rho'\n",
    "RV_Rho = ot.Normal(rho, sigma)\n",
    "RV_Rho.setName(nameD)\n",
    "\n",
    "# random variable for the position of the force   (mm) \n",
    "middle       = 500\n",
    "sigma_f      = 50\n",
    "namePos     = 'FP'\n",
    "RV_Fpos = ot.Normal(middle, sigma_f)\n",
    "RV_Fpos.setName(namePos)\n",
    "\n",
    "# random variable for the norm of the force    (N)\n",
    "muForce       = 100\n",
    "# we go from sigma = 15 to sigma = 1.5, as the influence is too important\n",
    "sigma_Fnor    = 5.5\n",
    "nameNor       = 'FN'\n",
    "RV_Fnorm  = ot.Normal(muForce, sigma_Fnor)\n",
    "RV_Fnorm.setName(nameNor)"
   ]
  },
  {
   "cell_type": "markdown",
   "metadata": {},
   "source": [
    "Il est important de noter que les processus et variables aléatoires doivent être définies à partir du module \n",
    "NdGaussianProcessConstructor, qui contient les classes suivantes : \n",
    "###### Classe pour construire un champ stochastique : \n",
    "> NdGaussianProcessConstructor.NdGaussianProcessConstructor() \n",
    "###### Classe pour construire une variables aléatoire  : \n",
    "> NdGaussianProcessConstructor.NormalDistribution() ## Classe openturns.Normal() suchargée\n",
    "###### Classe pour construire un vecteur de variables aléatoires normales : \n",
    "> NdGaussianProcessConstructor.RandomNormalVector() ## Classe openturns.PythonRandomVector surchargée. Cette dernière est utilisée en interne par NdGaussianProcessConstructor.\n",
    "\n",
    "**Finalement, l'autre particularité du NdGaussianProcessConstructor, est d'utiliser un objet _numpy.memmap_ modifiée, qui enregistre les échantillons de processus gaussiens sous forme de fichier temporaire dans le directoire d'utilisation des codes et les éfface en sortant du code**\n",
    "\n",
    "L'on définit ensuite les variables de sortie. Il faut connaître l'ordre dans lequel la fonction renvoie ses resultats connaitre leur nom comme leur dimension. \n",
    "    "
   ]
  },
  {
   "cell_type": "code",
   "execution_count": null,
   "metadata": {},
   "outputs": [],
   "source": [
    "from importlib import reload\n",
    "reload(SPS)\n",
    "outputVariables = {'out1' :\n",
    "                   {\n",
    "                         'name'     : 'VonMisesStress',\n",
    "                         'position' : 0,\n",
    "                         'shape'    : (102,)  \n",
    "                    },\n",
    "                   'out2' :\n",
    "                   {\n",
    "                        'name'      : 'maxDeflection',\n",
    "                        'position'  : 1,\n",
    "                        'shape'     : (1,)\n",
    "                   }\n",
    "                  }\n",
    "#Pour utiliser notre fonction, un wrapper a été spécialement écrit pour faciliter l'accès aux fonctions mais\n",
    "#ce choix est entièrement dépendant de la manière dont a été définie la fonction sur laquelle vous travaillez.\n",
    "functionWrapper = rbgc.sampleAndSoloFunctionWrapper(process_E, process_D, RV_Rho, RV_Fpos, RV_Fnorm)"
   ]
  },
  {
   "cell_type": "markdown",
   "metadata": {},
   "source": [
    "###### Ensuite, on crée une instance pour l'analyse de sensibilité.\n",
    "Il faut donner en entrée une liste contenant les procéssus et les variables aléatoires **dans l'ordre** dans lequel la fonction les recoit. \n",
    "\n",
    "*Pour cela il faut aussi connaître l'ordre des variables d'entrée de la fonction et leur nombre.*\n",
    "\n",
    "**Ces fonctions sont celles qui prennent entrée des champs aléatoires (vecteurs et matrices, de type *list ou numpy*) et variables aléatoire (scalaires (vecteurs 1D pour le multiprocessing)) et non pas les fonctions prennant en entrée les variables aléatoires issues de la décomposition de la Karhunen Loeve, qui elles sont construites en interne dans la classe**"
   ]
  },
  {
   "cell_type": "code",
   "execution_count": null,
   "metadata": {
    "scrolled": false
   },
   "outputs": [],
   "source": [
    "inputVarList = [process_E, process_D, RV_Rho, RV_Fpos, RV_Fnorm]\n",
    "# We also the need the two functions of the model (one for samples, the other for single evaluations)\n",
    "# In our case, as our model is defined as a class, we have to first create the model, \n",
    "# but it also could just be just two functions taking as an input the fields and RVs\n",
    "soloFunction   = functionWrapper.randomBeamFunctionSolo\n",
    "sampleFunction = functionWrapper.randomBeamFunctionSample\n",
    "##\n",
    "size           = 50 ## Number of samples for our sobol indicies experiment (kept low here to make things faster)\n",
    "##\n",
    "reload(SPS)\n",
    "## It is sufficient just to pass one of the functions \n",
    "processSensitivityAnalysis = SPS.StochasticProcessSensitivityAnalysis(inputVarList, \n",
    "                                                                       outputVariables,\n",
    "                                                                       sampleFunction,\n",
    "                                                                       soloFunction,\n",
    "                                                                       size)"
   ]
  },
  {
   "cell_type": "markdown",
   "metadata": {},
   "source": [
    "Voici une vue du dictionnaire intermédiaire qui est crée une fois les processus et variables aléatoires d'entrées définies :\n",
    "\n",
    "On voit que la position des processus dans les arguments de la fonction d'entrée est enregistrée dans le dictionnaire dans la clé *position* et viennent de la manière de laquelle on a mis les VA et Processus dans le vecteur inputVarList. \n"
   ]
  },
  {
   "cell_type": "markdown",
   "metadata": {},
   "source": [
    "###### Ensuite, grace à l'intermédiaire de la classe ot.SobolIndiciesExperiment, on génère les' variables aléatoires d'entrée "
   ]
  },
  {
   "cell_type": "code",
   "execution_count": null,
   "metadata": {},
   "outputs": [],
   "source": [
    "processSensitivityAnalysis.run(generationType = 1)\n"
   ]
  },
  {
   "cell_type": "markdown",
   "metadata": {},
   "source": [
    "###### Ensuite on récupère les sorties associées aux entrées génerées. \n",
    "L'idée du postprocessing est d'identifier si dans les sorties il y a des valeurs de type np.nan, et de refaire les experiences manquantes tant qu'il y a des np.nan de présents.\n",
    "\n",
    "**Ceci crée quelques problèmes : En effet, si le calcul numérique n'a pas pu aboutir avec une certaine réalisation des variables en entrée, est-ce que cela veut dire que cette réalisation est défaillante? Va-t-on l'inclure dans le cas du calcul de la défaillance ou de la sensibilité? Car si on l'inclut pas, il se peut qu'on oublie un nombre conséquent de modes défaillants. Solution : changer le modèle informatique et le rendre robuste à ces erreurs, ou faire une étude précise avec ces réalisation particulières.**\n",
    "\n",
    "\n",
    "La solution retenue pour génerer les experiences manquantes est d'itérer au dessus de chaque index de la sortie ou se trouvent les nans, de refaire une experience de sobol de taille 1 ( donc qui renverra d+2 valeurs, avec d la dimension de l'entrée), de générer les sorties correspondant aux entrées (recommencer si il s'y trouve un np.nan), et de remplacer les d+2 valeurs du inputDesign d'entrée avec celles que l'on vient de regénérer. "
   ]
  },
  {
   "cell_type": "markdown",
   "metadata": {},
   "source": [
    "Le *timing* vient de la classe ***custum_wraps***, qui est pour l'instant assez inutile, mais permet de prendre en main les décorateurs...\n",
    "\n",
    "Une fois le _output design_ generé, l'on peut faire l'analyse de sensibilité sur le model.\n",
    "Pour ce faire, l'on utilise la fonction ***self.getSobolIndiciesKLCoefs***.\n",
    "La fonction ne renvoie pas directement les indices de sobol, mais bien des champs d'objets ***openTURNS.SaltelliSensitivityAlgorithm*** ou ***openTURNS.MartinezSensitivityAlgorithm*** ou ***openTURNS.JansenSensitivityAlgorithm*** ou ***openTURNS.MauntzKucherenkoSensitivityAlgorithm***.\n",
    "\n",
    "Ceci est bien sûr fait dans l'optique de toujours pouvoir accéder à l'entierté des indices de sobol et indices totaux du modèle.\n",
    "Ceci veut aussi dire qu'il manque une dimension pour les champs en sortie, celle des variables d'entrée."
   ]
  },
  {
   "cell_type": "code",
   "execution_count": null,
   "metadata": {},
   "outputs": [],
   "source": [
    "%pylab inline\n",
    "pylab.rcParams['figure.figsize'] = (13, 5)\n",
    "import StochasticProcessSensitivityIndices as ngpsi\n",
    "_=reload(ngpsi)"
   ]
  },
  {
   "cell_type": "markdown",
   "metadata": {},
   "source": [
    "Ici on calcule les indices de sobol du premier ordre"
   ]
  },
  {
   "cell_type": "code",
   "execution_count": null,
   "metadata": {},
   "outputs": [],
   "source": [
    "output = processSensitivityAnalysis.outputDesignList; output1 = output[0]; output2 = output[1]"
   ]
  },
  {
   "cell_type": "code",
   "execution_count": 9,
   "metadata": {},
   "outputs": [
    {
     "name": "stdout",
     "output_type": "stream",
     "text": [
      "Implicit dimension = 7\n",
      "Implicit description: [X0,X1,X2,X3,X4,X5,X6]\n"
     ]
    }
   ],
   "source": [
    "sensitivity=ngpsi.SobolIndicesStochasticProcessAlgorithm(output1,50)"
   ]
  },
  {
   "cell_type": "code",
   "execution_count": 10,
   "metadata": {},
   "outputs": [
    {
     "name": "stdout",
     "output_type": "stream",
     "text": [
      "There are 5 indices to get in (102,) dimensions with 102 elements\n",
      "basic output shape is: (50, 102)\n",
      "output reshaped into matrix of shape (dim<=2)  [50, 102]\n",
      "data for variance calculus prepared \n",
      " X_fo shape is (50, 102) Y_fo shape is (50, 102) \n",
      "\n",
      "Variance ND is: [0.00958383 0.00828492 0.0087516  0.00939705 0.01018164 0.01110133\n",
      " 0.01214819 0.01330526 0.01454586 0.01583497 0.01713223 0.01839598\n",
      " 0.01958775 0.02067597 0.02163834 0.02246225 0.02314345 0.02368362\n",
      " 0.02408732 0.02435911 0.02450109 0.02451111 0.0243819  0.02410127\n",
      " 0.02365369 0.02302325 0.02219791 0.02117433 0.01996215 0.01858632\n",
      " 0.01708666 0.01551436 0.01392664 0.01238088 0.01092973 0.00961774\n",
      " 0.0084792  0.00753687 0.00680102 0.00626904 0.00587629 0.00573705\n",
      " 0.00541826 0.00548224 0.00661553 0.00842481 0.00973597 0.01144594\n",
      " 0.01303367 0.01188672 0.00898187 0.00974971 0.01459836 0.01940236\n",
      " 0.01884757 0.01698237 0.01604845 0.01567713 0.01555022 0.01571382\n",
      " 0.01638599 0.01664959 0.01552473 0.01436397 0.01452232 0.01456154\n",
      " 0.01463482 0.01472562 0.01481567 0.0148885  0.01493206 0.01493999\n",
      " 0.01491146 0.01485005 0.01476222 0.01465613 0.01454086 0.01442606\n",
      " 0.01432152 0.01423639 0.0141779  0.01414972 0.01415025 0.01417148\n",
      " 0.01419896 0.01421342 0.01419425 0.01412445 0.01399602 0.01381427\n",
      " 0.01359935 0.01338415 0.01320877 0.01311311 0.01312967 0.01327856\n",
      " 0.01356551 0.01398297 0.01451349 0.0151355  0.01583574 0.01669354] \n",
      "\n",
      "Variance ND is: [0.13036451 0.1444278  0.14654167 0.14792284 0.14881352 0.14918408\n",
      " 0.14900957 0.14830159 0.1471104  0.1455174  0.14362551 0.14155175\n",
      " 0.13942266 0.13736899 0.13551546 0.13396317 0.13276751 0.13191817\n",
      " 0.13132976 0.13084901 0.13028037 0.12942643 0.12813571 0.12634744\n",
      " 0.12412217 0.12164852 0.11921957 0.11717893 0.11584524 0.11543275\n",
      " 0.11599156 0.117388   0.11933403 0.12145705 0.12338808 0.12484199\n",
      " 0.1256698  0.12587475 0.12559527 0.12506564 0.12456751 0.12425996\n",
      " 0.12654005 0.12889469 0.12628507 0.13439001 0.13431241 0.14006953\n",
      " 0.15024885 0.17041075 0.20930167 0.19993307 0.18902061 0.16965327\n",
      " 0.16243439 0.15736504 0.14284304 0.12999926 0.12015433 0.1138205\n",
      " 0.11231258 0.11558823 0.12663392 0.14102524 0.14150847 0.14159215\n",
      " 0.14116374 0.14023293 0.13893722 0.13752751 0.1363358  0.13572994\n",
      " 0.1360616  0.13761406 0.14055631 0.14490952 0.15053129 0.15712109\n",
      " 0.16424771 0.17139602 0.17802637 0.18363723 0.18782078 0.19030238\n",
      " 0.19095912 0.18981702 0.18703096 0.1828536  0.17760005 0.17161381\n",
      " 0.16523694 0.15878552 0.15252982 0.14667889 0.14137057 0.13666909\n",
      " 0.13257208 0.12902715 0.12595529 0.12327922 0.12097317 0.11941652] \n",
      "\n",
      "basic output shape is: (50, 102)\n",
      "output reshaped into matrix of shape (dim<=2)  [50, 102]\n",
      "data for variance calculus prepared \n",
      " X_fo shape is (50, 102) Y_fo shape is (50, 102) \n",
      "\n",
      "Variance ND is: [0.01149303 0.01180112 0.01201894 0.01253182 0.01346432 0.01485499\n",
      " 0.01670488 0.0189753  0.02158292 0.02439927 0.02725827 0.02997443\n",
      " 0.03236997 0.03430503 0.03570156 0.03655333 0.03691956 0.03690605\n",
      " 0.03664128 0.03625448 0.03585938 0.03554431 0.035367   0.03535205\n",
      " 0.03548974 0.03573614 0.03601572 0.03622868 0.03626505 0.03602527\n",
      " 0.03544377 0.03450874 0.0332702  0.03183182 0.030328   0.02889381\n",
      " 0.02763833 0.02662954 0.02589318 0.02542197 0.0251495  0.02800819\n",
      " 0.03149629 0.03593291 0.04210643 0.05197238 0.06173685 0.06709724\n",
      " 0.0687887  0.0636484  0.05982476 0.05877431 0.05999554 0.05578648\n",
      " 0.0475196  0.03952512 0.03323656 0.02788482 0.02296158 0.01916355\n",
      " 0.01697118 0.01491652 0.01365959 0.01320617 0.01349948 0.01386115\n",
      " 0.01427944 0.01474762 0.0152569  0.01579795 0.01636261 0.016945\n",
      " 0.01754158 0.01814994 0.01876687 0.0193861  0.01999668 0.02058239\n",
      " 0.02112284 0.02159616 0.02198292 0.0222703  0.02245546 0.02254711\n",
      " 0.02256503 0.02253788 0.02249987 0.02248736 0.02253608 0.0226793\n",
      " 0.02294701 0.0233657  0.02395791 0.02474086 0.02572367 0.02690385\n",
      " 0.02826404 0.02977087 0.0313768  0.03302404 0.0346431  0.03607252] \n",
      "\n",
      "Variance ND is: [0.05717186 0.03855764 0.03808667 0.03839034 0.03886415 0.03943572\n",
      " 0.0400834  0.0407837  0.04150006 0.04218282 0.0427759  0.04322763\n",
      " 0.04350252 0.04358979 0.04350585 0.04328978 0.04299382 0.04267249\n",
      " 0.04237343 0.04213169 0.04196763 0.04188747 0.04188567 0.04194814\n",
      " 0.04205595 0.04218876 0.04232699 0.04245144 0.04253987 0.04256179\n",
      " 0.04247484 0.04222717 0.04176746 0.04106002 0.04009869 0.03891323\n",
      " 0.03756578 0.03613918 0.03472165 0.03339247 0.03221169 0.03119038\n",
      " 0.03070505 0.02998081 0.02702154 0.02700908 0.02322752 0.01996466\n",
      " 0.01857809 0.0177011  0.01727123 0.02043086 0.02363981 0.02815716\n",
      " 0.02937976 0.0305013  0.03125793 0.03324997 0.03503072 0.03490427\n",
      " 0.0334292  0.03219614 0.03360464 0.03734143 0.03831194 0.03940619\n",
      " 0.04058796 0.04181761 0.04305663 0.04427195 0.0454391  0.04654352\n",
      " 0.04757981 0.04854898 0.04945478 0.05030044 0.05108681 0.05181243\n",
      " 0.05247482 0.05307191 0.05360284 0.05406743 0.05446492 0.05479268\n",
      " 0.05504602 0.05521965 0.05531111 0.0553253  0.05527922 0.05520491\n",
      " 0.05514931 0.05516997 0.05532693 0.05567232 0.05624015 0.05703915\n",
      " 0.0580509  0.0592348  0.06054119 0.06194044 0.06352579 0.06644146] \n",
      "\n",
      "basic output shape is: (50, 102)\n",
      "output reshaped into matrix of shape (dim<=2)  [50, 102]\n",
      "data for variance calculus prepared \n",
      " X_fo shape is (50, 102) Y_fo shape is (50, 102) \n",
      "\n",
      "Variance ND is: [0.00958333 0.00828413 0.00875069 0.00939602 0.01018049 0.01110008\n",
      " 0.01214684 0.01330382 0.01454435 0.01583342 0.01713065 0.01839441\n",
      " 0.0195862  0.02067446 0.02163688 0.02246086 0.02314213 0.02368238\n",
      " 0.02408615 0.02435801 0.02450005 0.02451012 0.02438096 0.02410037\n",
      " 0.02365283 0.02302243 0.02219712 0.02117359 0.01996144 0.01858566\n",
      " 0.01708605 0.01551381 0.01392615 0.01238045 0.01092937 0.00961744\n",
      " 0.00847897 0.0075367  0.00680091 0.00626898 0.00587629 0.0057371\n",
      " 0.00541835 0.00548237 0.00661568 0.00842497 0.00973618 0.01144618\n",
      " 0.01303391 0.01188694 0.00898216 0.00975002 0.01459865 0.01940264\n",
      " 0.01884787 0.01698275 0.01604884 0.01567745 0.01555038 0.01571379\n",
      " 0.01638573 0.01664908 0.01552396 0.01436302 0.01452142 0.01456067\n",
      " 0.01463399 0.01472482 0.01481491 0.01488777 0.01493137 0.01493933\n",
      " 0.01491085 0.01484948 0.01476169 0.01465565 0.01454043 0.01442567\n",
      " 0.01432118 0.01423608 0.01417763 0.01414948 0.01415002 0.01417125\n",
      " 0.01419871 0.01421314 0.01419392 0.01412404 0.01399553 0.01381368\n",
      " 0.01359867 0.01338337 0.01320791 0.01311217 0.01312868 0.01327753\n",
      " 0.01356446 0.01398192 0.01451246 0.0151345  0.01583479 0.01669263] \n",
      "\n",
      "Variance ND is: [0.13036025 0.14442645 0.14654045 0.14792167 0.14881239 0.149183\n",
      " 0.14900852 0.14830057 0.14710941 0.14551644 0.14362457 0.14155083\n",
      " 0.13942174 0.13736809 0.13551456 0.13396229 0.13276663 0.1319173\n",
      " 0.1313289  0.13084817 0.13027955 0.12942564 0.12813497 0.12634675\n",
      " 0.12412154 0.12164796 0.11921908 0.11717852 0.1158449  0.11543247\n",
      " 0.11599132 0.11738779 0.11933384 0.12145686 0.12338787 0.12484176\n",
      " 0.12566954 0.12587444 0.12559491 0.12506524 0.12456704 0.12425943\n",
      " 0.12653942 0.12889396 0.12628435 0.13438921 0.13431165 0.14006872\n",
      " 0.15024792 0.17040947 0.20929998 0.19993173 0.18901983 0.16965304\n",
      " 0.16243468 0.157366   0.14284496 0.13000258 0.12015981 0.11382946\n",
      " 0.1123268  0.11560988 0.12666721 0.14106991 0.14155246 0.14163547\n",
      " 0.14120636 0.14027482 0.13897836 0.13756791 0.1363755  0.13576901\n",
      " 0.13610015 0.13765225 0.14059433 0.14494758 0.15056961 0.15715988\n",
      " 0.16428718 0.17143633 0.17806764 0.18367956 0.1878642  0.1903469\n",
      " 0.1910047  0.1898636  0.18707847 0.18290195 0.17764914 0.17166353\n",
      " 0.16528717 0.15883613 0.15258068 0.14672984 0.14142146 0.13671972\n",
      " 0.13262225 0.12907665 0.12600391 0.12332677 0.12101949 0.11946158] \n",
      "\n",
      "basic output shape is: (50, 102)\n",
      "output reshaped into matrix of shape (dim<=2)  [50, 102]\n",
      "data for variance calculus prepared \n",
      " X_fo shape is (50, 102) Y_fo shape is (50, 102) \n",
      "\n",
      "Variance ND is: [0.03987305 0.03087069 0.03128749 0.03224336 0.03338917 0.03468214\n",
      " 0.03610354 0.03762705 0.03921187 0.04080308 0.04233633 0.0437457\n",
      " 0.04497277 0.04597468 0.04672888 0.04723363 0.04750443 0.04756798\n",
      " 0.04745518 0.04719476 0.04680837 0.04630744 0.04569221 0.04495304\n",
      " 0.04407418 0.04303973 0.04184054 0.04048019 0.03897729 0.0373629\n",
      " 0.03567353 0.03394342 0.03219999 0.0304649  0.02875963 0.02711182\n",
      " 0.02555841 0.02414367 0.02291255 0.02190016 0.01866477 0.01624553\n",
      " 0.01388517 0.01200754 0.01066865 0.01103842 0.0114719  0.01238884\n",
      " 0.01461735 0.01400229 0.01425075 0.02013695 0.02881387 0.033591\n",
      " 0.03111081 0.02855073 0.0268911  0.02461402 0.02263795 0.02162555\n",
      " 0.0213347  0.02181832 0.0231975  0.0257142  0.02854234 0.02953785\n",
      " 0.0304916  0.03138434 0.03219025 0.03287813 0.03341408 0.03376542\n",
      " 0.03390535 0.03381774 0.03350115 0.03297152 0.03226282 0.03142516\n",
      " 0.03052048 0.02961607 0.0287771  0.02805933 0.02750322 0.02713049\n",
      " 0.02694339 0.02692681 0.02705274 0.02728584 0.02758921 0.02792875\n",
      " 0.02827526 0.02860421 0.02889393 0.02912381 0.02927407 0.02932769\n",
      " 0.029274   0.02911233 0.02885507 0.028532   0.02821592 0.02830959] \n",
      "\n"
     ]
    },
    {
     "name": "stdout",
     "output_type": "stream",
     "text": [
      "Variance ND is: [0.03588734 0.05501753 0.05743024 0.05888254 0.06009133 0.06111961\n",
      " 0.06197076 0.06265424 0.06319726 0.06364267 0.06404211 0.06444899\n",
      " 0.06491364 0.0654797  0.0661796  0.06702662 0.06800393 0.06905349\n",
      " 0.07007038 0.070907   0.0713899  0.07134729 0.07064236 0.06920404\n",
      " 0.06704703 0.06427453 0.06106161 0.05762297 0.05417399 0.05089633\n",
      " 0.04791759 0.04530835 0.04309384 0.04127255 0.03983428 0.03877272\n",
      " 0.03809111 0.03780216 0.03792417 0.03847555 0.0394176  0.04042207\n",
      " 0.04234964 0.04532435 0.05229791 0.06612711 0.08016404 0.09728328\n",
      " 0.11569859 0.12918397 0.15127589 0.15181458 0.15455106 0.14280837\n",
      " 0.1250959  0.10953924 0.09427729 0.08162997 0.072238   0.06591395\n",
      " 0.06192092 0.05777324 0.05660619 0.05737445 0.05886577 0.06008992\n",
      " 0.06101517 0.061682   0.06219997 0.06274028 0.06351725 0.06476149\n",
      " 0.06668789 0.06946235 0.07317067 0.07779402 0.08319518 0.08911978\n",
      " 0.09521473 0.10106323 0.10623173 0.11032075 0.11301055 0.11409339\n",
      " 0.11348803 0.11123663 0.1074877  0.10247065 0.09646749 0.08978567\n",
      " 0.08273409 0.0756032  0.06864882 0.06208002 0.05605149 0.05066096\n",
      " 0.04595204 0.04192177 0.03853079 0.03571184 0.03336271 0.03118889] \n",
      "\n",
      "basic output shape is: (50, 102)\n",
      "output reshaped into matrix of shape (dim<=2)  [50, 102]\n",
      "data for variance calculus prepared \n",
      " X_fo shape is (50, 102) Y_fo shape is (50, 102) \n",
      "\n",
      "Variance ND is: [0.01648952 0.01176309 0.01240526 0.01335547 0.0144618  0.01570648\n",
      " 0.01708077 0.01857116 0.0201561  0.02180567 0.02348297 0.02514708\n",
      " 0.02675686 0.02827475 0.02966974 0.03091872 0.03200629 0.03292324\n",
      " 0.03366438 0.03422588 0.03460279 0.03478689 0.03476548 0.03452173\n",
      " 0.03403706 0.03329582 0.03229159 0.03103374 0.02955181 0.02789561\n",
      " 0.02613032 0.02432776 0.02255704 0.02087758 0.0193363  0.0179682\n",
      " 0.01679868 0.0158455  0.01511917 0.01462156 0.01393629 0.01475514\n",
      " 0.01570672 0.0173773  0.02044683 0.02524191 0.02994242 0.0340926\n",
      " 0.0381578  0.03653468 0.0340523  0.03504932 0.03861676 0.03906084\n",
      " 0.03359674 0.02652028 0.02041521 0.01601108 0.01295985 0.01066148\n",
      " 0.00904959 0.00737728 0.0060123  0.00529759 0.00563015 0.0059172\n",
      " 0.00624604 0.00660164 0.00696634 0.00732317 0.00765833 0.00796225\n",
      " 0.00822916 0.00845585 0.00864042 0.00878177 0.00888003 0.00893748\n",
      " 0.00895935 0.00895377 0.00893058 0.00889936 0.00886705 0.00883617\n",
      " 0.00880405 0.00876365 0.00870608 0.00862423 0.00851665 0.00839041\n",
      " 0.00826157 0.00815297 0.00808987 0.00809494 0.00818443 0.00836663\n",
      " 0.0086424  0.009007   0.00945178 0.00996514 0.01053092 0.01110591] \n",
      "\n",
      "Variance ND is: [0.11262425 0.12221503 0.1223838  0.12192324 0.12105144 0.11976673\n",
      " 0.11807203 0.11600026 0.11361564 0.11100736 0.10828174 0.10555596\n",
      " 0.10295374 0.10060008 0.09861184 0.09708289 0.09606611 0.09555797\n",
      " 0.09549221 0.09574748 0.09617022 0.09660992 0.09695992 0.09719473\n",
      " 0.09739374 0.09774265 0.09850724 0.09998032 0.10241026 0.10592759\n",
      " 0.11049119 0.11587315 0.12169133 0.12748303 0.13279941 0.13729405\n",
      " 0.14078316 0.14326561 0.1449037  0.14597529 0.14681341 0.14759816\n",
      " 0.15122929 0.15488634 0.1491887  0.15231728 0.14889177 0.15538606\n",
      " 0.17137091 0.19427179 0.2360755  0.21500289 0.20069258 0.177952\n",
      " 0.17418849 0.16977677 0.15157158 0.13515219 0.12127802 0.11185512\n",
      " 0.10906945 0.11048726 0.12209606 0.13758132 0.13814599 0.13803587\n",
      " 0.13713267 0.13544151 0.13309472 0.13033609 0.12748888 0.12491289\n",
      " 0.12295667 0.12191119 0.12197051 0.12320433 0.12554637 0.12880066\n",
      " 0.13266553 0.13677212 0.14073134 0.14418152 0.14682867 0.14847335\n",
      " 0.14902113 0.14847776 0.14693287 0.14453743 0.14147992 0.13796491\n",
      " 0.13419544 0.13035902 0.12661628 0.12309158 0.11986641 0.11697725\n",
      " 0.11441958 0.11215793 0.11013896 0.10830089 0.10655935 0.10458083] \n",
      "\n",
      "Indices successfully calculated\n"
     ]
    },
    {
     "data": {
      "text/plain": [
       "array([[-7.06658054e-02, -1.20999695e-01, -1.14384589e-01,\n",
       "        -1.04816340e-01, -9.42653026e-02, -8.31290298e-02,\n",
       "        -7.16692583e-02, -6.01458756e-02, -4.88318320e-02,\n",
       "        -3.80033412e-02, -2.79203359e-02, -1.88022383e-02,\n",
       "        -1.08041789e-02, -3.99996540e-03,  1.62258517e-03,\n",
       "         6.15159526e-03,  9.72855519e-03,  1.25189927e-02,\n",
       "         1.46830774e-02,  1.63512531e-02,  1.76072178e-02,\n",
       "         1.84783250e-02,  1.89325678e-02,  1.88817225e-02,\n",
       "         1.81912787e-02,  1.66985531e-02,  1.42400027e-02,\n",
       "         1.06867066e-02,  5.98348312e-03,  1.83424109e-04,\n",
       "        -6.53213564e-03, -1.38561914e-02, -2.13832718e-02,\n",
       "        -2.86558654e-02, -3.52190537e-02, -4.06710568e-02,\n",
       "        -4.47003963e-02, -4.71055852e-02, -4.77982194e-02,\n",
       "        -4.67951587e-02, -4.76660669e-02, -4.19377980e-02,\n",
       "        -2.65715427e-02, -9.70190024e-03,  1.12189263e-02,\n",
       "         4.19761742e-02,  5.46669405e-02,  5.99079285e-02,\n",
       "         7.70639915e-02,  7.36959360e-02,  6.40087821e-02,\n",
       "         7.14831032e-02,  9.46731133e-02,  1.02775930e-01,\n",
       "         8.21367862e-02,  4.10086523e-02,  2.59425998e-03,\n",
       "        -2.38632773e-02, -4.29724337e-02, -5.95551588e-02,\n",
       "        -7.31461500e-02, -8.91113846e-02, -9.31900694e-02,\n",
       "        -8.86056829e-02, -8.33044860e-02, -7.58516362e-02,\n",
       "        -6.81949890e-02, -6.04403894e-02, -5.27091055e-02,\n",
       "        -4.51421400e-02, -3.79016556e-02, -3.11658239e-02,\n",
       "        -2.51151624e-02, -1.99115688e-02, -1.56745212e-02,\n",
       "        -1.24608053e-02, -1.02536949e-02, -8.96490689e-03,\n",
       "        -8.44893633e-03, -8.52594529e-03, -9.00731832e-03,\n",
       "        -9.71778410e-03, -1.05095245e-02, -1.12663752e-02,\n",
       "        -1.18992377e-02, -1.23362975e-02, -1.25128862e-02,\n",
       "        -1.23654824e-02, -1.18325084e-02, -1.08617920e-02,\n",
       "        -9.42175391e-03, -7.51163087e-03, -5.16617317e-03,\n",
       "        -2.45235485e-03,  5.41148615e-04,  3.71809409e-03,\n",
       "         6.98756800e-03,  1.02714482e-02,  1.35033087e-02,\n",
       "         1.66117962e-02,  1.94397432e-02,  2.09625851e-02],\n",
       "       [ 2.34610735e-01,  3.56796910e-01,  3.62342984e-01,\n",
       "         3.63942371e-01,  3.66648475e-01,  3.71076521e-01,\n",
       "         3.77155176e-01,  3.84497593e-01,  3.92491452e-01,\n",
       "         4.00364869e-01,  4.07267978e-01,  4.12373613e-01,\n",
       "         4.14986848e-01,  4.14644668e-01,  4.11184365e-01,\n",
       "         4.04764730e-01,  3.95836409e-01,  3.85071306e-01,\n",
       "         3.73269654e-01,  3.61264318e-01,  3.49836716e-01,\n",
       "         3.39651210e-01,  3.31208431e-01,  3.24814542e-01,\n",
       "         3.20563156e-01,  3.18328948e-01,  3.17775602e-01,\n",
       "         3.18383846e-01,  3.19505692e-01,  3.20446680e-01,\n",
       "         3.20569093e-01,  3.19398681e-01,  3.16710825e-01,\n",
       "         3.12573675e-01,  3.07336162e-01,  3.01563827e-01,\n",
       "         2.95938945e-01,  2.91148753e-01,  2.87785111e-01,\n",
       "         2.86271148e-01,  2.84273567e-01,  3.00713515e-01,\n",
       "         3.27676447e-01,  3.60370988e-01,  4.03165834e-01,\n",
       "         4.59620028e-01,  5.00765156e-01,  5.04109115e-01,\n",
       "         4.98934484e-01,  4.66949159e-01,  4.63082624e-01,\n",
       "         4.85179661e-01,  5.19288313e-01,  5.17711861e-01,\n",
       "         4.81430082e-01,  4.26971516e-01,  3.80713365e-01,\n",
       "         3.37306932e-01,  2.95904261e-01,  2.64123271e-01,\n",
       "         2.39455574e-01,  2.12849642e-01,  1.97121959e-01,\n",
       "         1.91960680e-01,  1.91863794e-01,  1.92562990e-01,\n",
       "         1.94496546e-01,  1.97715080e-01,  2.02226947e-01,\n",
       "         2.07983715e-01,  2.14865028e-01,  2.22667164e-01,\n",
       "         2.31100844e-01,  2.39802893e-01,  2.48363277e-01,\n",
       "         2.56364525e-01,  2.63426632e-01,  2.69248541e-01,\n",
       "         2.73638151e-01,  2.76525783e-01,  2.77960131e-01,\n",
       "         2.78089455e-01,  2.77133133e-01,  2.75349233e-01,\n",
       "         2.73002805e-01,  2.70337875e-01,  2.67554719e-01,\n",
       "         2.64793641e-01,  2.62127089e-01,  2.59562748e-01,\n",
       "         2.57059923e-01,  2.54559089e-01,  2.52020082e-01,\n",
       "         2.49459685e-01,  2.46976678e-01,  2.44753747e-01,\n",
       "         2.43030783e-01,  2.42049616e-01,  2.41966615e-01,\n",
       "         2.42679979e-01,  2.43158172e-01,  2.35122246e-01],\n",
       "       [-7.06501655e-02, -1.20980193e-01, -1.14363268e-01,\n",
       "        -1.04793273e-01, -9.42405579e-02, -8.31027180e-02,\n",
       "        -7.16415398e-02, -6.01169618e-02, -4.88019815e-02,\n",
       "        -3.79728512e-02, -2.78895302e-02, -1.87714498e-02,\n",
       "        -1.07737303e-02, -3.97014909e-03,  1.65152440e-03,\n",
       "         6.17946836e-03,  9.75524139e-03,  1.25444314e-02,\n",
       "         1.47072620e-02,  1.63742176e-02,  1.76290235e-02,\n",
       "         1.84990468e-02,  1.89522822e-02,  1.89004972e-02,\n",
       "         1.82091651e-02,  1.67155801e-02,  1.42561745e-02,\n",
       "         1.07020024e-02,  5.99785964e-03,  1.96820958e-04,\n",
       "        -6.51978919e-03, -1.38449693e-02, -2.13732449e-02,\n",
       "        -2.86470973e-02, -3.52115984e-02, -4.06649586e-02,\n",
       "        -4.46956910e-02, -4.71023015e-02, -4.77963796e-02,\n",
       "        -4.67947787e-02, -4.76669966e-02, -4.19398314e-02,\n",
       "        -2.65745461e-02, -9.70589705e-03,  1.12141442e-02,\n",
       "         4.19706453e-02,  5.46608442e-02,  5.99018431e-02,\n",
       "         7.70592585e-02,  7.36938391e-02,  6.40017854e-02,\n",
       "         7.14712858e-02,  9.46575800e-02,  1.02759612e-01,\n",
       "         8.21210955e-02,  4.09921009e-02,  2.57708882e-03,\n",
       "        -2.38803205e-02, -4.29887433e-02, -5.95706912e-02,\n",
       "        -7.31609003e-02, -8.91252360e-02, -9.32032216e-02,\n",
       "        -8.86180967e-02, -8.33160964e-02, -7.58624211e-02,\n",
       "        -6.82050246e-02, -6.04497629e-02, -5.27179044e-02,\n",
       "        -4.51504431e-02, -3.79095259e-02, -3.11733042e-02,\n",
       "        -2.51222746e-02, -1.99183160e-02, -1.56808927e-02,\n",
       "        -1.24667834e-02, -1.02592627e-02, -8.97005652e-03,\n",
       "        -8.45367582e-03, -8.53030475e-03, -9.01135413e-03,\n",
       "        -9.72158117e-03, -1.05131963e-02, -1.12700617e-02,\n",
       "        -1.19031011e-02, -1.23405161e-02, -1.25176467e-02,\n",
       "        -1.23709713e-02, -1.18389024e-02, -1.08692493e-02,\n",
       "        -9.43040618e-03, -7.52157669e-03, -5.17747378e-03,\n",
       "        -2.46503235e-03,  5.27110475e-04,  3.70274676e-03,\n",
       "         6.97099297e-03,  1.02537505e-02,  1.34846100e-02,\n",
       "         1.65922307e-02,  1.94194668e-02,  2.09419146e-02],\n",
       "       [ 3.92114564e-01,  2.48764519e-01,  2.53165063e-01,\n",
       "         2.64146041e-01,  2.75752900e-01,  2.86937159e-01,\n",
       "         2.97198627e-01,  3.06160911e-01,  3.13506191e-01,\n",
       "         3.18980782e-01,  3.22424887e-01,  3.23810141e-01,\n",
       "         3.23270512e-01,  3.21112529e-01,  3.17795940e-01,\n",
       "         3.13885618e-01,  3.09985270e-01,  3.06668493e-01,\n",
       "         3.04420842e-01,  3.03599922e-01,  3.04413212e-01,\n",
       "         3.06908751e-01,  3.10973100e-01,  3.16333594e-01,\n",
       "         3.22566009e-01,  3.29112693e-01,  3.35318050e-01,\n",
       "         3.40486473e-01,  3.43961668e-01,  3.45217103e-01,\n",
       "         3.43938743e-01,  3.40078290e-01,  3.33861144e-01,\n",
       "         3.25746509e-01,  3.16351491e-01,  3.06359809e-01,\n",
       "         2.96435832e-01,  2.87158044e-01,  2.78977313e-01,\n",
       "         2.72185697e-01,  2.41051656e-01,  2.16966232e-01,\n",
       "         2.00781754e-01,  2.00114788e-01,  1.93187462e-01,\n",
       "         2.03808586e-01,  2.25703399e-01,  2.46344549e-01,\n",
       "         2.56466256e-01,  2.46909891e-01,  2.26315858e-01,\n",
       "         2.61553167e-01,  3.38757876e-01,  3.88932581e-01,\n",
       "         3.99813049e-01,  4.05700530e-01,  4.12579464e-01,\n",
       "         4.06944181e-01,  3.89172916e-01,  3.77094168e-01,\n",
       "         3.72464752e-01,  3.73063920e-01,  3.84724346e-01,\n",
       "         3.98560704e-01,  4.13686007e-01,  4.18796768e-01,\n",
       "         4.23911926e-01,  4.28809639e-01,  4.33220143e-01,\n",
       "         4.36843448e-01,  4.39377324e-01,  4.40553777e-01,\n",
       "         4.40178873e-01,  4.38168164e-01,  4.34569613e-01,\n",
       "         4.29568304e-01,  4.23471521e-01,  4.16677291e-01,\n",
       "         4.09632723e-01,  4.02789791e-01,  3.96565783e-01,\n",
       "         3.91313951e-01,  3.87307379e-01,  3.84736206e-01,\n",
       "         3.83715503e-01,  3.84299018e-01,  3.86493088e-01,\n",
       "         3.90265767e-01,  3.95548370e-01,  4.02229737e-01,\n",
       "         4.10146602e-01,  4.19075471e-01,  4.28731537e-01,\n",
       "         4.38778388e-01,  4.48849226e-01,  4.58577306e-01,\n",
       "         4.67631577e-01,  4.75754474e-01,  4.82806291e-01,\n",
       "         4.88855618e-01,  4.94583787e-01,  5.05247302e-01],\n",
       "       [ 2.71685871e-01,  1.67642923e-01,  1.72886841e-01,\n",
       "         1.83705996e-01,  1.95779528e-01,  2.08422199e-01,\n",
       "         2.21310585e-01,  2.34144080e-01,  2.46579489e-01,\n",
       "         2.58227850e-01,  2.68682389e-01,  2.77567675e-01,\n",
       "         2.84598375e-01,  2.89631896e-01,  2.92699185e-01,\n",
       "         2.94004137e-01,  2.93892160e-01,  2.92797560e-01,\n",
       "         2.91183617e-01,  2.89487417e-01,  2.88076391e-01,\n",
       "         2.87218190e-01,  2.87062437e-01,  2.87632441e-01,\n",
       "         2.88826338e-01,  2.90429116e-01,  2.92137976e-01,\n",
       "         2.93602554e-01,  2.94477960e-01,  2.94483390e-01,\n",
       "         2.93454335e-01,  2.91375293e-01,  2.88384049e-01,\n",
       "         2.84746883e-01,  2.80812716e-01,  2.76959035e-01,\n",
       "         2.73541921e-01,  2.70857917e-01,  2.69119959e-01,\n",
       "         2.68442315e-01,  2.61484559e-01,  2.66639381e-01,\n",
       "         2.81971122e-01,  3.02632410e-01,  3.31311203e-01,\n",
       "         3.80545082e-01,  4.27468090e-01,  4.54169591e-01,\n",
       "         4.80258234e-01,  4.66341949e-01,  4.49848825e-01,\n",
       "         4.54121271e-01,  4.65350798e-01,  4.55914585e-01,\n",
       "         4.16927705e-01,  3.58611103e-01,  3.03013334e-01,\n",
       "         2.59893797e-01,  2.26427247e-01,  1.99957041e-01,\n",
       "         1.78468736e-01,  1.54640760e-01,  1.44784105e-01,\n",
       "         1.45349453e-01,  1.53935806e-01,  1.64457802e-01,\n",
       "         1.75178623e-01,  1.85805873e-01,  1.96016372e-01,\n",
       "         2.05469802e-01,  2.13828938e-01,  2.20786698e-01,\n",
       "         2.26097243e-01,  2.29605573e-01,  2.31268804e-01,\n",
       "         2.31163558e-01,  2.29477133e-01,  2.26484128e-01,\n",
       "         2.22513383e-01,  2.17911733e-01,  2.13011045e-01,\n",
       "         2.08103565e-01,  2.03428408e-01,  1.99169358e-01,\n",
       "         1.95461625e-01,  1.92403377e-01,  1.90067131e-01,\n",
       "         1.88506718e-01,  1.87757450e-01,  1.87829807e-01,\n",
       "         1.88699632e-01,  1.90299518e-01,  1.92516019e-01,\n",
       "         1.95195483e-01,  1.98158312e-01,  2.01218694e-01,\n",
       "         2.04205501e-01,  2.06980741e-01,  2.09455405e-01,\n",
       "         2.11613193e-01,  2.13612401e-01,  2.16786628e-01]])"
      ]
     },
     "execution_count": 10,
     "metadata": {},
     "output_type": "execute_result"
    }
   ],
   "source": [
    "sensitivity.getFirstOrderIndices()"
   ]
  },
  {
   "cell_type": "code",
   "execution_count": 11,
   "metadata": {
    "scrolled": true
   },
   "outputs": [
    {
     "ename": "AttributeError",
     "evalue": "module 'StochasticProcessSensitivityIndices' has no attribute 'NdGaussianProcessSensitivityIndicesBase'",
     "output_type": "error",
     "traceback": [
      "\u001b[0;31m---------------------------------------------------------------------------\u001b[0m",
      "\u001b[0;31mAttributeError\u001b[0m                            Traceback (most recent call last)",
      "\u001b[0;32m<ipython-input-11-944867776f62>\u001b[0m in \u001b[0;36m<module>\u001b[0;34m\u001b[0m\n\u001b[0;32m----> 1\u001b[0;31m \u001b[0mS\u001b[0m\u001b[0;34m,\u001b[0m \u001b[0mStot\u001b[0m\u001b[0;34m,\u001b[0m \u001b[0mvarS\u001b[0m\u001b[0;34m,\u001b[0m \u001b[0mvarStot\u001b[0m \u001b[0;34m=\u001b[0m \u001b[0mngpsi\u001b[0m\u001b[0;34m.\u001b[0m\u001b[0mNdGaussianProcessSensitivityIndicesBase\u001b[0m\u001b[0;34m.\u001b[0m\u001b[0mgetSobolIndices\u001b[0m\u001b[0;34m(\u001b[0m\u001b[0moutput1\u001b[0m\u001b[0;34m,\u001b[0m\u001b[0;36m1000\u001b[0m\u001b[0;34m)\u001b[0m\u001b[0;34m\u001b[0m\u001b[0;34m\u001b[0m\u001b[0m\n\u001b[0m\u001b[1;32m      2\u001b[0m \u001b[0mS2\u001b[0m\u001b[0;34m,\u001b[0m \u001b[0mStot2\u001b[0m\u001b[0;34m,\u001b[0m \u001b[0mvarS2\u001b[0m\u001b[0;34m,\u001b[0m \u001b[0mvarS2tot\u001b[0m \u001b[0;34m=\u001b[0m \u001b[0mngpsi\u001b[0m\u001b[0;34m.\u001b[0m\u001b[0mNdGaussianProcessSensitivityIndicesBase\u001b[0m\u001b[0;34m.\u001b[0m\u001b[0mgetSobolIndices\u001b[0m\u001b[0;34m(\u001b[0m\u001b[0moutput2\u001b[0m\u001b[0;34m,\u001b[0m\u001b[0;36m1000\u001b[0m\u001b[0;34m)\u001b[0m\u001b[0;34m\u001b[0m\u001b[0;34m\u001b[0m\u001b[0m\n",
      "\u001b[0;31mAttributeError\u001b[0m: module 'StochasticProcessSensitivityIndices' has no attribute 'NdGaussianProcessSensitivityIndicesBase'"
     ]
    }
   ],
   "source": [
    "S, Stot, varS, varStot = ngpsi.SobolIndicesStochasticProcessAlgorithm.getFirs(output1,1000)\n",
    "S2, Stot2, varS2, varS2tot = ngpsi.SobolIndicesStochasticProcessAlgorithm.getSobolIndices(output2,1000)"
   ]
  },
  {
   "cell_type": "markdown",
   "metadata": {},
   "source": [
    "L'on peut récuperer ces indices du premier ordre dans ***self.processSensitivityAnalysis.sensitivityResults.firstOrderIndices***\n",
    "Matplotlib permet de facilement visualiser ces indices. Néanmoins, cette visualisation est pour l'instant peu pertinente, puisque l'on visualise chaque variables aléatoire de Karhunen Loeve individuellement, alors qu'il nous faut encore combiner ces dernières pour que l'indice de sobol soit représentatif du champ stochastique consideré."
   ]
  },
  {
   "cell_type": "code",
   "execution_count": null,
   "metadata": {
    "scrolled": true
   },
   "outputs": [],
   "source": [
    "varNames = [\"Module d'Young\",'Diametre','Densité','Position Force','Norme Force']\n",
    "ngpsi.plotSobolIndicesWithErr(S2, varS2, varNames, 5, Stot2, varS2tot)"
   ]
  },
  {
   "cell_type": "code",
   "execution_count": null,
   "metadata": {},
   "outputs": [],
   "source": [
    "ngpsi.plotSobolIndicesWithErr(S,varS, varNames, 5)"
   ]
  },
  {
   "cell_type": "code",
   "execution_count": null,
   "metadata": {},
   "outputs": [],
   "source": [
    "ngpsi.plotSobolIndicesWithErr(Stot,varStot, varNames, 5)"
   ]
  },
  {
   "cell_type": "code",
   "execution_count": null,
   "metadata": {},
   "outputs": [],
   "source": [
    "plt.style.use('default')\n",
    "plt.yticks([0,1,2,3,4],[\"Module d'Young\",'Diametre','Densité','Position Force','Norme Force'])\n",
    "x=plt.imshow(varS, cmap='CMRmap',aspect='auto', interpolation= None)\n",
    "plt.colorbar()"
   ]
  },
  {
   "cell_type": "code",
   "execution_count": null,
   "metadata": {},
   "outputs": [],
   "source": [
    "plt.yticks([0,1,2,3,4],[\"Module d'Young\",'Diametre','Densité','Position Force','Norme Force'])\n",
    "x=plt.imshow(S, cmap='CMRmap',aspect='auto')\n",
    "plt.colorbar()"
   ]
  },
  {
   "cell_type": "code",
   "execution_count": null,
   "metadata": {},
   "outputs": [],
   "source": [
    "plt.yticks([0,1,2,3,4],[\"Module d'Young\",'Diametre','Densité','Position Force','Norme Force'])\n",
    "x=plt.imshow(Stot, cmap='CMRmap',aspect='auto')\n",
    "plt.colorbar()"
   ]
  },
  {
   "cell_type": "code",
   "execution_count": null,
   "metadata": {},
   "outputs": [],
   "source": [
    "plt.yticks([0,1,2,3,4],[\"Module d'Young\",'Diametre','Densité','Position Force','Norme Force'])\n",
    "x=plt.imshow(varStot, cmap='CMRmap',aspect='auto')\n",
    "plt.colorbar()"
   ]
  },
  {
   "cell_type": "code",
   "execution_count": null,
   "metadata": {},
   "outputs": [],
   "source": [
    "A,B = ngpsi.NdGaussianProcessSensitivityIndicesBase.SymbolicSaltelliIndices(1)\n",
    "A"
   ]
  },
  {
   "cell_type": "code",
   "execution_count": null,
   "metadata": {},
   "outputs": [],
   "source": [
    "A.gradient([2,3])"
   ]
  },
  {
   "cell_type": "code",
   "execution_count": null,
   "metadata": {},
   "outputs": [],
   "source": [
    "#composedDist = processSensitivityAnalysis.wrappedFunction.KLComposedDistribution\n",
    "plt.yticks([0,1,2,3,4],[\"Module d'Young\",'Diametre','Densité','Position Force','Norme Force'])\n",
    "x=plt.imshow(S, cmap='CMRmap',aspect='auto')\n",
    "plt.colorbar()"
   ]
  },
  {
   "cell_type": "markdown",
   "metadata": {},
   "source": [
    "Test for the variance calculus"
   ]
  },
  {
   "cell_type": "code",
   "execution_count": null,
   "metadata": {},
   "outputs": [],
   "source": [
    "outputDim0 = output2.shape[0];print(outputDim0)\n",
    "inputDim = 5 #(5 dimensions)\n",
    "N = 100\n",
    "print(output2)"
   ]
  },
  {
   "cell_type": "code",
   "execution_count": null,
   "metadata": {
    "scrolled": true
   },
   "outputs": [],
   "source": [
    "ngpsi.NdGaussianProcessSensitivityIndicesBase.computeVariance(1, \n",
    "                                                              inputDim,\n",
    "                                                             N,\n",
    "                                                             output2)"
   ]
  },
  {
   "cell_type": "code",
   "execution_count": null,
   "metadata": {},
   "outputs": [],
   "source": [
    "S_fo[...,50]"
   ]
  },
  {
   "cell_type": "code",
   "execution_count": null,
   "metadata": {},
   "outputs": [],
   "source": [
    "im2 = plt.imshow(processSensitivityAnalysis.sensitivityResults.firstOrderIndices[1])\n",
    "plt.show()"
   ]
  },
  {
   "cell_type": "code",
   "execution_count": null,
   "metadata": {},
   "outputs": [],
   "source": [
    "#im2.write_png('sensitivity_rv_KL')"
   ]
  },
  {
   "cell_type": "code",
   "execution_count": null,
   "metadata": {},
   "outputs": [],
   "source": [
    "processSensitivityAnalysis.wrappedFunction.getKLDecompositionVarNames"
   ]
  },
  {
   "cell_type": "code",
   "execution_count": null,
   "metadata": {},
   "outputs": [],
   "source": [
    "np.sum(S_fo, axis=0)"
   ]
  },
  {
   "cell_type": "code",
   "execution_count": null,
   "metadata": {},
   "outputs": [],
   "source": [
    "S_f"
   ]
  }
 ],
 "metadata": {
  "kernelspec": {
   "display_name": "Python 3",
   "language": "python",
   "name": "python3"
  },
  "language_info": {
   "codemirror_mode": {
    "name": "ipython",
    "version": 3
   },
   "file_extension": ".py",
   "mimetype": "text/x-python",
   "name": "python",
   "nbconvert_exporter": "python",
   "pygments_lexer": "ipython3",
   "version": "3.6.7"
  }
 },
 "nbformat": 4,
 "nbformat_minor": 2
}
