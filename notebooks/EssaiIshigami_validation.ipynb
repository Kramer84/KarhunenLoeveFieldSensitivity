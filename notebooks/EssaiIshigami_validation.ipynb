{
 "cells": [
  {
   "cell_type": "markdown",
   "metadata": {},
   "source": [
    "# Estimate Sobol’ indices for the Ishigami function by a sampling method: a quick start guide to sensitivity analysis\n",
    "\n",
    "### Analyse de la fonction Ishigami avec l'ensemble de codes dévelopés pour l'analyse de sensibilité sur les cahmps stochastiques.\n",
    "\n",
    "#### Comparaison et corréctions\n",
    "\n",
    "La même logique d'écriture de codes est utilisée que dans le script 'Demo Analyse de sensibilité poutre' : https://openturns.github.io/openturns/master/examples/reliability_sensitivity/sensitivity_sobol.html"
   ]
  },
  {
   "cell_type": "code",
   "execution_count": 1,
   "metadata": {},
   "outputs": [],
   "source": [
    "import sys\n",
    "sys.path.insert(0, '../')\n",
    "# Voici les deux scripts destinés à gérer l'analyse de sensibilité sur les champs stochastiques\n",
    "import StochasticProcessSensitivity as ngps\n",
    "import StochasticProcessConstructor as ngpc\n",
    "import StochasticProcessSensitivityIndices as ngpsi\n",
    "# Classes utilitaires\n",
    "import numpy                        as np\n",
    "import openturns                    as ot\n",
    "from   importlib                import reload "
   ]
  },
  {
   "cell_type": "code",
   "execution_count": 2,
   "metadata": {},
   "outputs": [],
   "source": [
    "# This is the formula used in the openTURNS example. \n",
    "formula = ['sin(X1) + 7. * sin(X2)^2 + .1 * X3^4 * sin(X1)']\n",
    "input_names = ['X1', 'X2', 'X3']\n",
    "g = ot.SymbolicFunction(input_names, formula)\n",
    "\n",
    "# we have to modifiy the function, be cause it takes as an input a random vector, un-correlated\n",
    "# in the case of our method, un-correlated inputs are clearly distinct. \n",
    "def gMod(X1,X2,X3):\n",
    "    X = np.stack([X1,X2,X3]).T\n",
    "    return g(X)"
   ]
  },
  {
   "cell_type": "code",
   "execution_count": 3,
   "metadata": {},
   "outputs": [],
   "source": [
    "X = np.random.uniform(-np.pi,np.pi,[10,3])\n",
    "assert gMod(X[...,0], X[...,1], X[...,2]) == g(X) ,\"\""
   ]
  },
  {
   "cell_type": "markdown",
   "metadata": {},
   "source": [
    "Maintenant nous définissons nos variables d'entrée, avec les fonctions contenues dans notre méthode "
   ]
  },
  {
   "cell_type": "code",
   "execution_count": 4,
   "metadata": {},
   "outputs": [],
   "source": [
    "reload(ngpc)\n",
    "reload(ngps)\n",
    "lower  = -np.pi\n",
    "upper  = np.pi\n",
    "nameX1, nameX2, nameX3 = 'X1', 'X2', 'X3'\n",
    "RV_X1 = ot.Uniform(lower,upper)\n",
    "RV_X1.setName(nameX1)\n",
    "RV_X2 = ot.Uniform(lower,upper)\n",
    "RV_X2.setName(nameX2)\n",
    "RV_X3 = ot.Uniform(lower,upper)\n",
    "RV_X3.setName(nameX3)"
   ]
  },
  {
   "cell_type": "code",
   "execution_count": 5,
   "metadata": {},
   "outputs": [],
   "source": [
    "# here we have to explicitely define our outputs\n",
    "outputVariables = {'out1_name' :  #any name here is fine\n",
    "                   {\n",
    "                         'name'     : 'Y',\n",
    "                         'position' : 0,   #Position in the ouput, if the output were a list\n",
    "                         'shape'    : (1,)  \n",
    "                    },\n",
    "                  }"
   ]
  },
  {
   "cell_type": "code",
   "execution_count": 6,
   "metadata": {},
   "outputs": [],
   "source": [
    "inputList    = [RV_X1, RV_X2, RV_X3]\n",
    "soloFunction = sampleFunction = gMod #Easy in this case\n",
    "size         = 1000"
   ]
  },
  {
   "cell_type": "code",
   "execution_count": 7,
   "metadata": {},
   "outputs": [
    {
     "name": "stdout",
     "output_type": "stream",
     "text": [
      "Input Variables are (without Karhunen Loeve Decomposition) :\n",
      " X1 X2 X3 \n",
      "\n",
      "Output Variables are :\n",
      " ['Y'] \n",
      "\n",
      "Composed distribution built with processes and distributions: X1; X2; X3\n",
      "Program initialised, ready for sensitivity analysis. You can now proceed to prepare the Sobol indices experiment\n",
      "\n"
     ]
    }
   ],
   "source": [
    "processSensitivityAnalysis = ngps.StochasticProcessSensitivityAnalysis(inputList, \n",
    "                                                                       outputVariables,\n",
    "                                                                       sampleFunction,\n",
    "                                                                       soloFunction,\n",
    "                                                                       size)"
   ]
  },
  {
   "cell_type": "code",
   "execution_count": 8,
   "metadata": {},
   "outputs": [
    {
     "name": "stdout",
     "output_type": "stream",
     "text": [
      "Generation types are:\n",
      "1 : Random (default)\n",
      "2 : LHS\n",
      "            3 : LowDiscrepancySequence\n",
      "4 : SimulatedAnnealingLHS\n",
      "You choose Random generation\n",
      "number of samples for sobol experiment =  5000 \n",
      "\n",
      "input design shape is:  (5000, 3)\n",
      "Converting list of outputs into matrix...\n",
      "Output variable 1 has shape (5000, 1)\n",
      "Final matrix shape: (5000, 1)\n",
      "Columns where nan :  [] \n",
      "\n",
      "\n",
      "No errors while processing, the function has returned no np.nan.\n",
      "\n"
     ]
    }
   ],
   "source": [
    "processSensitivityAnalysis.run(gentype = 1)"
   ]
  },
  {
   "cell_type": "code",
   "execution_count": 9,
   "metadata": {},
   "outputs": [
    {
     "name": "stdout",
     "output_type": "stream",
     "text": [
      "You have chosen to use the Saltelli method\n",
      "There are 1 distinct outputs\n",
      "Implicit dimension = 3\n",
      "Implicit description: [X0,X1,X2]\n",
      "There are 3 indices to get in (1,) dimensions with 1 elements\n",
      "Indices successfully calculated\n",
      "class=SobolIndicesAlgorithmImplementation name=Y\n"
     ]
    }
   ],
   "source": [
    "processSensitivityAnalysis.getSensitivityAnalysisResults()"
   ]
  },
  {
   "cell_type": "code",
   "execution_count": 10,
   "metadata": {},
   "outputs": [
    {
     "name": "stdout",
     "output_type": "stream",
     "text": [
      "The output is scalar\n",
      "The sensitivity is measured accordingly to the 3 input variables, namely:\n",
      " X1 and X2 and X3\n"
     ]
    },
    {
     "data": {
      "image/png": "[encoded data removed]",
      "text/plain": [
       "<Figure size 640x480 with 1 Axes>"
      ]
     },
     "metadata": {},
     "output_type": "display_data"
    }
   ],
   "source": [
    "processSensitivityAnalysis.SensitivityAnalysisResults[0].draw()"
   ]
  },
  {
   "cell_type": "code",
   "execution_count": 11,
   "metadata": {},
   "outputs": [],
   "source": [
    "#Let's compare it with openturns method :\n"
   ]
  },
  {
   "cell_type": "code",
   "execution_count": null,
   "metadata": {},
   "outputs": [],
   "source": []
  }
 ],
 "metadata": {
  "kernelspec": {
   "display_name": "Python 3",
   "language": "python",
   "name": "python3"
  },
  "language_info": {
   "codemirror_mode": {
    "name": "ipython",
    "version": 3
   },
   "file_extension": ".py",
   "mimetype": "text/x-python",
   "name": "python",
   "nbconvert_exporter": "python",
   "pygments_lexer": "ipython3",
   "version": "3.6.7"
  }
 },
 "nbformat": 4,
 "nbformat_minor": 4
}
