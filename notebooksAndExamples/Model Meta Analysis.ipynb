{
 "cells": [
  {
   "cell_type": "markdown",
   "metadata": {},
   "source": [
    "## In this notebook we are going to make the analysis of the results of the meta-analysis of our model parameters.\n",
    "\n",
    "#### To recap , we have taken the model of our beam, which has it's diameter and youngs modulus defined by stochastic processes, and have applied to it a force on the center of a beam, where the forces norm and offset from the middle of the beam are determined by scalar normal laws\n",
    "\n",
    "The goal was to study the impact of the model parameters on the results of a sensitivity analysis, as well as the impacts of varying the metamodel parameters, and Karhunen Loeve parameters on this analysis "
   ]
  },
  {
   "cell_type": "code",
   "execution_count": 1,
   "metadata": {},
   "outputs": [
    {
     "name": "stderr",
     "output_type": "stream",
     "text": [
      "\n",
      "Bad key savefig.frameon in file /home/kramer84/anaconda3/envs/ot_traits_env/lib/python3.7/site-packages/matplotlib/mpl-data/stylelib/_classic_test.mplstyle, line 421 ('savefig.frameon : True')\n",
      "You probably need to get an updated matplotlibrc file from\n",
      "https://github.com/matplotlib/matplotlib/blob/v3.3.2/matplotlibrc.template\n",
      "or from the matplotlib source distribution\n",
      "\n",
      "Bad key verbose.level in file /home/kramer84/anaconda3/envs/ot_traits_env/lib/python3.7/site-packages/matplotlib/mpl-data/stylelib/_classic_test.mplstyle, line 472 ('verbose.level  : silent      # one of silent, helpful, debug, debug-annoying')\n",
      "You probably need to get an updated matplotlibrc file from\n",
      "https://github.com/matplotlib/matplotlib/blob/v3.3.2/matplotlibrc.template\n",
      "or from the matplotlib source distribution\n",
      "\n",
      "Bad key verbose.fileo in file /home/kramer84/anaconda3/envs/ot_traits_env/lib/python3.7/site-packages/matplotlib/mpl-data/stylelib/_classic_test.mplstyle, line 473 ('verbose.fileo  : sys.stdout  # a log filename, sys.stdout or sys.stderr')\n",
      "You probably need to get an updated matplotlibrc file from\n",
      "https://github.com/matplotlib/matplotlib/blob/v3.3.2/matplotlibrc.template\n",
      "or from the matplotlib source distribution\n",
      "In /home/kramer84/anaconda3/envs/ot_traits_env/lib/python3.7/site-packages/matplotlib/mpl-data/stylelib/_classic_test.mplstyle: \n",
      "The text.latex.preview rcparam was deprecated in Matplotlib 3.3 and will be removed two minor releases later.\n",
      "In /home/kramer84/anaconda3/envs/ot_traits_env/lib/python3.7/site-packages/matplotlib/mpl-data/stylelib/_classic_test.mplstyle: \n",
      "The mathtext.fallback_to_cm rcparam was deprecated in Matplotlib 3.3 and will be removed two minor releases later.\n",
      "In /home/kramer84/anaconda3/envs/ot_traits_env/lib/python3.7/site-packages/matplotlib/mpl-data/stylelib/_classic_test.mplstyle: Support for setting the 'mathtext.fallback_to_cm' rcParam is deprecated since 3.3 and will be removed two minor releases later; use 'mathtext.fallback : 'cm' instead.\n",
      "In /home/kramer84/anaconda3/envs/ot_traits_env/lib/python3.7/site-packages/matplotlib/mpl-data/stylelib/_classic_test.mplstyle: \n",
      "The validate_bool_maybe_none function was deprecated in Matplotlib 3.3 and will be removed two minor releases later.\n",
      "In /home/kramer84/anaconda3/envs/ot_traits_env/lib/python3.7/site-packages/matplotlib/mpl-data/stylelib/_classic_test.mplstyle: \n",
      "The savefig.jpeg_quality rcparam was deprecated in Matplotlib 3.3 and will be removed two minor releases later.\n",
      "In /home/kramer84/anaconda3/envs/ot_traits_env/lib/python3.7/site-packages/matplotlib/mpl-data/stylelib/_classic_test.mplstyle: \n",
      "The keymap.all_axes rcparam was deprecated in Matplotlib 3.3 and will be removed two minor releases later.\n",
      "In /home/kramer84/anaconda3/envs/ot_traits_env/lib/python3.7/site-packages/matplotlib/mpl-data/stylelib/_classic_test.mplstyle: \n",
      "The animation.avconv_path rcparam was deprecated in Matplotlib 3.3 and will be removed two minor releases later.\n",
      "In /home/kramer84/anaconda3/envs/ot_traits_env/lib/python3.7/site-packages/matplotlib/mpl-data/stylelib/_classic_test.mplstyle: \n",
      "The animation.avconv_args rcparam was deprecated in Matplotlib 3.3 and will be removed two minor releases later.\n"
     ]
    }
   ],
   "source": [
    "import openturns as ot\n",
    "import numpy as np\n",
    "import pandas as pd\n",
    "import matplotlib.pyplot as plt\n",
    "import re, os, sys"
   ]
  },
  {
   "cell_type": "code",
   "execution_count": 2,
   "metadata": {},
   "outputs": [],
   "source": [
    "analysis_dirs = os.listdir('./meta_analysis_results')"
   ]
  },
  {
   "cell_type": "code",
   "execution_count": 3,
   "metadata": {},
   "outputs": [],
   "source": [
    "lhs_params = ['young','scaleYoung','diam','scaleDiam',\n",
    "              'forcePos','forceNorm']\n",
    "size_lhs = len(analysis_dirs)\n",
    "lhs_doe = np.zeros((size_lhs, 6))\n",
    "for i in range(size_lhs):\n",
    "    lhs_doe[i,...]= re.findall(r\"[-+]?\\d*\\.\\d+|\\d+\", analysis_dirs[i])"
   ]
  },
  {
   "cell_type": "markdown",
   "metadata": {},
   "source": [
    "Now we are going to organize the data so that we have the LHS, then the three nu values, and then the different thresholds. We will first organize it in a numpy array"
   ]
  },
  {
   "cell_type": "code",
   "execution_count": 4,
   "metadata": {},
   "outputs": [],
   "source": [
    "# size_lhs, n_nu, n_thresh, sobol_E, sobol_D, sobol_FP, sobol_FN \n",
    "# for the model we have only one evaluation\n",
    "meta_analysis_array_model   = np.zeros((size_lhs, 3, 3, 4, 3))\n",
    "# for the metamodel we have an envaluation with 3 different LHS sizes\n",
    "meta_analysis_array_mm1000  = np.zeros((size_lhs, 3, 3, 3, 4, 3))\n",
    "meta_analysis_array_mm50000 = np.zeros((size_lhs, 3, 3, 3, 4, 3))\n",
    "# size_lhs, n_nu, n_thresh, kl_dim\n",
    "kl_dimension_array  = np.zeros((size_lhs, 3, 3))\n",
    "nu_array = np.zeros((size_lhs, 3, 3))\n",
    "thresh_array = np.zeros((size_lhs, 3, 3))\n",
    "for k_lhs in range(size_lhs):\n",
    "    thresh_paths = os.listdir(os.path.join('./meta_analysis_results',analysis_dirs[k_lhs]))\n",
    "    for k_thresh in range(3):\n",
    "        thresh_path = thresh_paths[k_thresh]\n",
    "        thresh_val = re.findall(\"-?\\d+.?\\d*(?:[Ee]-\\d+)?\", thresh_path)[0]\n",
    "        nu_paths = os.listdir(os.path.join('./meta_analysis_results',\n",
    "                                      analysis_dirs[k_lhs], \n",
    "                                      thresh_paths[k_thresh]))\n",
    "        for k_nu in range(3):\n",
    "            nu_path = nu_paths[k_nu]\n",
    "            nu_val = re.findall(r\"[-+]?\\d*\\.\\d+|\\d+\",nu_path)[0]\n",
    "            csv_path = os.path.join('./meta_analysis_results',\n",
    "                                   analysis_dirs[k_lhs],\n",
    "                                   thresh_path,\n",
    "                                   nu_path)\n",
    "            sample = ot.Sample_ImportFromCSVFile(csv_path)\n",
    "            kl_dimension_array[k_lhs, k_nu, k_thresh] = sample[0,3]\n",
    "            nu_array[k_lhs, k_nu, k_thresh] = nu_val\n",
    "            thresh_array[k_lhs, k_nu, k_thresh] = thresh_val\n",
    "            meta_analysis_array_model[\n",
    "                k_lhs, k_nu, k_thresh, ...] = np.reshape(np.array(sample[0,4:]),(4,3))\n",
    "            # Here we iterate over the 3 LHS sizes (25,50,100)\n",
    "            for i_lhs in range(3):\n",
    "                meta_analysis_array_mm1000[k_lhs, k_nu, k_thresh, i_lhs, \n",
    "                    ...] = np.reshape(np.array(sample[4 + i_lhs ,4:]),(4,3))\n",
    "                meta_analysis_array_mm50000[k_lhs, k_nu, k_thresh, i_lhs, \n",
    "                    ...] = np.reshape(np.array(sample[1 + i_lhs ,4:]),(4,3))"
   ]
  },
  {
   "cell_type": "code",
   "execution_count": 5,
   "metadata": {},
   "outputs": [
    {
     "name": "stdout",
     "output_type": "stream",
     "text": [
      "[8.1820e+03 5.5500e+02 3.1130e-01 4.5500e+02 9.1450e+01 1.9236e+01]\n",
      "11.0\n",
      "0.5\n",
      "0.1\n"
     ]
    }
   ],
   "source": [
    "print(lhs_doe[0])\n",
    "print(kl_dimension_array[0][2][2])\n",
    "print(nu_array[0][2][2])\n",
    "print(thresh_array[0][2][2])"
   ]
  },
  {
   "cell_type": "code",
   "execution_count": 28,
   "metadata": {},
   "outputs": [
    {
     "name": "stdout",
     "output_type": "stream",
     "text": [
      "[[-0.02566 -0.09173  0.05086]\n",
      " [ 0.16492  0.09053  0.24452]\n",
      " [ 0.04034 -0.02812  0.12182]\n",
      " [ 0.66988  0.63072  0.70851]]\n",
      "[[-0.09173  0.05086]\n",
      " [ 0.09053  0.24452]\n",
      " [-0.02812  0.12182]\n",
      " [ 0.63072  0.70851]]\n",
      "[[-0.09173  0.09053 -0.02812  0.63072]\n",
      " [ 0.05086  0.24452  0.12182  0.70851]]\n",
      "[0.68945696 0.65405589 0.72303096]\n",
      "[0.70559899 0.70076702 0.71001431]\n"
     ]
    }
   ],
   "source": [
    "# Here we print the data for the lhs realization above, with a nu of 0.5 and threshold of 0.1\n",
    "print(meta_analysis_array_model[0][2][2])\n",
    "q=meta_analysis_array_model[0,2,2,:,1:]\n",
    "print(q)\n",
    "print(np.array([q[:,0],q[:,1]]))\n",
    "print(meta_analysis_array_mm1000[0][2][2][2][3])\n",
    "print(meta_analysis_array_mm50000[0][2][2][0][3])"
   ]
  },
  {
   "cell_type": "markdown",
   "metadata": {},
   "source": [
    "Now that we have gotten our data, we will have to plot in a manner wich makes the data understandable.\n",
    "We will try to make the data understandable in one plot. \n",
    "For that, we will make an interactive plot, where we can change the realization of the LHS, as well as change the NU parameter of the stochastic fields.\n",
    "All the other data will have to be plotted on one image.\n",
    "\n",
    "Let's plot for now only one part of our data, for testing purposes"
   ]
  },
  {
   "cell_type": "code",
   "execution_count": 55,
   "metadata": {},
   "outputs": [],
   "source": [
    "fig = plt.Figure()\n",
    "ax = fig.add_subplot(111)\n",
    "xlabels = ['SE', 'SD', 'SFN', 'SFP']\n",
    "errbar = ax.errorbar(x = [0,1,2,3] , \n",
    "            y = [0,0,0,0], \n",
    "            yerr=[[.5,.5,.5,.5],[.5,.5,.5,.5]],\n",
    "            fmt='s', color='r', ecolor='r')\n",
    "\n",
    "offset = 0.1\n",
    "errbar = ax.errorbar(x = np.array([0,1,2,3])+offset , \n",
    "            y = [0,0,0,0], \n",
    "            yerr=[[.5,.5,.5,.5],[.5,.5,.5,.5]],\n",
    "            fmt='s', color='b', ecolor='g')"
   ]
  },
  {
   "cell_type": "code",
   "execution_count": 56,
   "metadata": {},
   "outputs": [
    {
     "data": {
      "image/png": "[encoded data removed]",
      "text/plain": [
       "<Figure size 432x288 with 1 Axes>"
      ]
     },
     "execution_count": 56,
     "metadata": {},
     "output_type": "execute_result"
    }
   ],
   "source": [
    "fig"
   ]
  },
  {
   "cell_type": "code",
   "execution_count": null,
   "metadata": {},
   "outputs": [],
   "source": []
  },
  {
   "cell_type": "code",
   "execution_count": null,
   "metadata": {},
   "outputs": [],
   "source": []
  }
 ],
 "metadata": {
  "kernelspec": {
   "display_name": "Python 3",
   "language": "python",
   "name": "python3"
  },
  "language_info": {
   "codemirror_mode": {
    "name": "ipython",
    "version": 3
   },
   "file_extension": ".py",
   "mimetype": "text/x-python",
   "name": "python",
   "nbconvert_exporter": "python",
   "pygments_lexer": "ipython3",
   "version": "3.7.9"
  }
 },
 "nbformat": 4,
 "nbformat_minor": 4
}
