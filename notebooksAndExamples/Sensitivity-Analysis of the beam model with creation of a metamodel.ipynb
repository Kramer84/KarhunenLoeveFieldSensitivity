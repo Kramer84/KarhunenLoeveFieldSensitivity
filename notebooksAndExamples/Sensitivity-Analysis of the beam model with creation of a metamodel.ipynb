{
 "cells": [
  {
   "cell_type": "markdown",
   "metadata": {},
   "source": [
    "# Sensitivity Analysis on the beam model through creation of a metamodel"
   ]
  },
  {
   "cell_type": "code",
   "execution_count": 1,
   "metadata": {},
   "outputs": [
    {
     "name": "stderr",
     "output_type": "stream",
     "text": [
      "\n",
      "Bad key savefig.frameon in file /home/kramer84/anaconda3/envs/ot_traits_env/lib/python3.7/site-packages/matplotlib/mpl-data/stylelib/_classic_test.mplstyle, line 421 ('savefig.frameon : True')\n",
      "You probably need to get an updated matplotlibrc file from\n",
      "https://github.com/matplotlib/matplotlib/blob/v3.3.2/matplotlibrc.template\n",
      "or from the matplotlib source distribution\n",
      "\n",
      "Bad key verbose.level in file /home/kramer84/anaconda3/envs/ot_traits_env/lib/python3.7/site-packages/matplotlib/mpl-data/stylelib/_classic_test.mplstyle, line 472 ('verbose.level  : silent      # one of silent, helpful, debug, debug-annoying')\n",
      "You probably need to get an updated matplotlibrc file from\n",
      "https://github.com/matplotlib/matplotlib/blob/v3.3.2/matplotlibrc.template\n",
      "or from the matplotlib source distribution\n",
      "\n",
      "Bad key verbose.fileo in file /home/kramer84/anaconda3/envs/ot_traits_env/lib/python3.7/site-packages/matplotlib/mpl-data/stylelib/_classic_test.mplstyle, line 473 ('verbose.fileo  : sys.stdout  # a log filename, sys.stdout or sys.stderr')\n",
      "You probably need to get an updated matplotlibrc file from\n",
      "https://github.com/matplotlib/matplotlib/blob/v3.3.2/matplotlibrc.template\n",
      "or from the matplotlib source distribution\n",
      "In /home/kramer84/anaconda3/envs/ot_traits_env/lib/python3.7/site-packages/matplotlib/mpl-data/stylelib/_classic_test.mplstyle: \n",
      "The text.latex.preview rcparam was deprecated in Matplotlib 3.3 and will be removed two minor releases later.\n",
      "In /home/kramer84/anaconda3/envs/ot_traits_env/lib/python3.7/site-packages/matplotlib/mpl-data/stylelib/_classic_test.mplstyle: \n",
      "The mathtext.fallback_to_cm rcparam was deprecated in Matplotlib 3.3 and will be removed two minor releases later.\n",
      "In /home/kramer84/anaconda3/envs/ot_traits_env/lib/python3.7/site-packages/matplotlib/mpl-data/stylelib/_classic_test.mplstyle: Support for setting the 'mathtext.fallback_to_cm' rcParam is deprecated since 3.3 and will be removed two minor releases later; use 'mathtext.fallback : 'cm' instead.\n",
      "In /home/kramer84/anaconda3/envs/ot_traits_env/lib/python3.7/site-packages/matplotlib/mpl-data/stylelib/_classic_test.mplstyle: \n",
      "The validate_bool_maybe_none function was deprecated in Matplotlib 3.3 and will be removed two minor releases later.\n",
      "In /home/kramer84/anaconda3/envs/ot_traits_env/lib/python3.7/site-packages/matplotlib/mpl-data/stylelib/_classic_test.mplstyle: \n",
      "The savefig.jpeg_quality rcparam was deprecated in Matplotlib 3.3 and will be removed two minor releases later.\n",
      "In /home/kramer84/anaconda3/envs/ot_traits_env/lib/python3.7/site-packages/matplotlib/mpl-data/stylelib/_classic_test.mplstyle: \n",
      "The keymap.all_axes rcparam was deprecated in Matplotlib 3.3 and will be removed two minor releases later.\n",
      "In /home/kramer84/anaconda3/envs/ot_traits_env/lib/python3.7/site-packages/matplotlib/mpl-data/stylelib/_classic_test.mplstyle: \n",
      "The animation.avconv_path rcparam was deprecated in Matplotlib 3.3 and will be removed two minor releases later.\n",
      "In /home/kramer84/anaconda3/envs/ot_traits_env/lib/python3.7/site-packages/matplotlib/mpl-data/stylelib/_classic_test.mplstyle: \n",
      "The animation.avconv_args rcparam was deprecated in Matplotlib 3.3 and will be removed two minor releases later.\n"
     ]
    },
    {
     "name": "stdout",
     "output_type": "stream",
     "text": [
      "len vertices is: 101\n"
     ]
    }
   ],
   "source": [
    "# from here on, all our modules and helper functions are imported\n",
    "from _base_algorithms import * "
   ]
  },
  {
   "cell_type": "code",
   "execution_count": 2,
   "metadata": {},
   "outputs": [],
   "source": [
    "# Definition of the model parameters \n",
    "dim          = 1\n",
    "n_elements   = 99\n",
    "min_vertices = 0    #mm\n",
    "max_vertices = 1000 #mm\n",
    "\n",
    "coef_var = .05\n",
    "mean_young,  mean_diam  = 210000, 10  #MPa, mm\n",
    "scale_young, scale_diam = 300,    250 #mm, mm\n",
    "nu_young,    nu_diam    = 5,      5   #scalar\n",
    "\n",
    "mean_pos_force,  mean_norm_force   = 500, 100 #N, mm\n",
    "sigma_pos_force, sigma_norm_force  = 25,  5   #N, mm\n",
    "\n",
    "fem_vertices = get_fem_vertices(min_vertices, max_vertices, n_elements)\n",
    "\n",
    "# Karhunen-Loeve decomposition of two stochastic processes: Young's Modulus and Diameter \n",
    "# amplitude = [mean*coef_var]*dim,scale = [scale]*dim \n",
    " \n",
    "kl_results_E = get_process_kl_decomposition(mean = mean_young, coef_var = coef_var, scale = scale_young, \n",
    "                    nu = nu_young, mesh = fem_vertices, dimension = dim, name = 'E_', threshold= 1e-3)\n",
    "\n",
    "kl_results_D = get_process_kl_decomposition(mean = mean_diam, coef_var = coef_var, scale = scale_diam, \n",
    "                    nu = nu_diam, mesh = fem_vertices, dimension = dim, name = 'D_', threshold= 1e-3)\n",
    "\n",
    "# The two scalar random variables : \n",
    "pos_force = ot.Normal(mean_pos_force, sigma_pos_force)\n",
    "pos_force.setName('F_Pos_')\n",
    "\n",
    "norm_force  = ot.Normal(mean_norm_force, sigma_norm_force)\n",
    "norm_force.setName('F_Norm_')"
   ]
  },
  {
   "cell_type": "code",
   "execution_count": 3,
   "metadata": {},
   "outputs": [
    {
     "name": "stdout",
     "output_type": "stream",
     "text": [
      "The mean value of distribution \"F_Pos_\" at index 2 of type Normal is not 0.\n",
      "Distribution recentered and mean added to list of means\n",
      "Set the \"liftWithMean\" flag to true if you want to include the mean.\n",
      "The mean value of distribution \"F_Norm_\" at index 3 of type Normal is not 0.\n",
      "Distribution recentered and mean added to list of means\n",
      "Set the \"liftWithMean\" flag to true if you want to include the mean.\n"
     ]
    }
   ],
   "source": [
    "kl_results_list = [kl_results_E, kl_results_D, pos_force, norm_force]\n",
    "AggregatedKLRes = klfs.AggregatedKarhunenLoeveResults(kl_results_list)\n",
    "AggregatedKLRes.setMean(0, mean_young) # At other indices the means are initialized from the distributions\n",
    "AggregatedKLRes.setMean(1, mean_diam) \n",
    "AggregatedKLRes.setLiftWithMean(True)\n",
    "RandomNormalVector = getRandomNormalVector(AggregatedKLRes)"
   ]
  },
  {
   "cell_type": "code",
   "execution_count": 4,
   "metadata": {},
   "outputs": [],
   "source": [
    "# definition of the model :\n",
    "_MODEL = MODEL.PureBeam()\n",
    "# initialization of the function wrapper : \n",
    "FUNC = klfs.KarhunenLoeveGeneralizedFunctionWrapper(\n",
    "            AggregatedKarhunenLoeveResults = AggregatedKLRes,\n",
    "            func        = None, \n",
    "            func_sample = _MODEL.batchEval,\n",
    "            n_outputs   = 2)\n",
    "FUNC_wSave = function_with_save_wrapper(FUNC)"
   ]
  },
  {
   "cell_type": "code",
   "execution_count": 5,
   "metadata": {},
   "outputs": [
    {
     "name": "stdout",
     "output_type": "stream",
     "text": [
      "Elapsed time: 0.0677 seconds\n",
      "Elapsed time: 0.2413 seconds\n",
      "Elapsed time: 1.9484 seconds\n",
      "Elapsed time: 7.7860 seconds\n",
      "Elapsed time: 88.2998 seconds\n",
      "Samples A and B of size 1000 and dimension 15\n",
      "Experiment of size 6000 and dimension 15\n",
      "Elapsed time: 0.0162 seconds\n"
     ]
    }
   ],
   "source": [
    "doe_kriging_LHS25  = optimizedLHS(RandomNormalVector, 25, 125936931580)      #SEED: 125936931580\n",
    "doe_kriging_LHS50  = optimizedLHS(RandomNormalVector, 50, 14305853687720)    #SEED: 14305853687720\n",
    "doe_kriging_LHS150 = optimizedLHS(RandomNormalVector, 150, 758295729577843)  #SEED: 758295729577843\n",
    "doe_kriging_LHS300 = optimizedLHS(RandomNormalVector, 300, 643292187861)     #SEED: 643292187861\n",
    "\n",
    "doe_kriging_validation = optimizedLHS(RandomNormalVector, 1000, 315681856881426) #SEED: 315681856881426\n",
    "\n",
    "doe_sobol_experiment_N1000, experiment_N1000 = getSobolExperiment(AggregatedKLRes, 1000, 104850184570776510) #SEED:104850184570776510"
   ]
  },
  {
   "cell_type": "code",
   "execution_count": 6,
   "metadata": {
    "scrolled": true
   },
   "outputs": [
    {
     "name": "stdout",
     "output_type": "stream",
     "text": [
      "Lifting as process sample\n",
      "field E shape (25, 100)\n",
      "var_Fnor shape (25,)\n",
      "field_E 209540.9065176858 field_D 10.005532874507608 var_Fpos 500.03397600813713 var_Fnor 100.0421740520542\n"
     ]
    },
    {
     "name": "stderr",
     "output_type": "stream",
     "text": [
      "[Parallel(n_jobs=-1)]: Using backend LokyBackend with 4 concurrent workers.\n",
      "[Parallel(n_jobs=-1)]: Done  25 out of  25 | elapsed:    6.1s finished\n",
      "/home/kramer84/anaconda3/envs/ot_traits_env/lib/python3.7/site-packages/numpy/core/_asarray.py:83: VisibleDeprecationWarning: Creating an ndarray from ragged nested sequences (which is a list-or-tuple of lists-or-tuples-or ndarrays with different lengths or shapes) is deprecated. If you meant to do this, you must specify 'dtype=object' when creating the ndarray\n",
      "  return array(a, dtype, copy=False, order=order)\n"
     ]
    },
    {
     "name": "stdout",
     "output_type": "stream",
     "text": [
      "shape deflection:  (25, 101)  should be [N,10X] something\n",
      "deflection std deviation  4.222328411606992\n",
      "Using the batch evaluation function. Assumes that the outputs are in the\n",
      "same order than for the single evaluation function. This one should only\n",
      "return ProcessSamples, Samples, Lists or numpy arrays.\n",
      "Element is iterable, assumes that first dimension is size of sample\n",
      "Shape is (25, 100) and dtype is <class 'numpy.float64'>\n",
      "Element 0 of the output tuple returns process samples of dimension 1\n",
      "Element is iterable, assumes that first dimension is size of sample\n",
      "Shape is (1, 25) and dtype is <class 'numpy.float64'>\n",
      "Element 1 of the output tuple returns process samples of dimension 1\n",
      "Lifting as process sample\n",
      "field E shape (50, 100)\n",
      "var_Fnor shape (50,)\n",
      "field_E 210098.1864444275 field_D 9.996006883813106 var_Fpos 499.8719040555004 var_Fnor 99.99058223098719\n"
     ]
    },
    {
     "name": "stderr",
     "output_type": "stream",
     "text": [
      "[Parallel(n_jobs=-1)]: Using backend LokyBackend with 4 concurrent workers.\n",
      "[Parallel(n_jobs=-1)]: Done  50 out of  50 | elapsed:    3.9s finished\n",
      "/home/kramer84/anaconda3/envs/ot_traits_env/lib/python3.7/site-packages/numpy/core/_asarray.py:83: VisibleDeprecationWarning: Creating an ndarray from ragged nested sequences (which is a list-or-tuple of lists-or-tuples-or ndarrays with different lengths or shapes) is deprecated. If you meant to do this, you must specify 'dtype=object' when creating the ndarray\n",
      "  return array(a, dtype, copy=False, order=order)\n",
      "[Parallel(n_jobs=-1)]: Using backend LokyBackend with 4 concurrent workers.\n"
     ]
    },
    {
     "name": "stdout",
     "output_type": "stream",
     "text": [
      "shape deflection:  (50, 101)  should be [N,10X] something\n",
      "deflection std deviation  4.074776384015145\n",
      "Using the batch evaluation function. Assumes that the outputs are in the\n",
      "same order than for the single evaluation function. This one should only\n",
      "return ProcessSamples, Samples, Lists or numpy arrays.\n",
      "Element is iterable, assumes that first dimension is size of sample\n",
      "Shape is (50, 100) and dtype is <class 'numpy.float64'>\n",
      "Element 0 of the output tuple returns process samples of dimension 1\n",
      "Element is iterable, assumes that first dimension is size of sample\n",
      "Shape is (1, 50) and dtype is <class 'numpy.float64'>\n",
      "Element 1 of the output tuple returns process samples of dimension 1\n",
      "Lifting as process sample\n",
      "field E shape (150, 100)\n",
      "var_Fnor shape (150,)\n",
      "field_E 209995.64209072068 field_D 9.998742900677582 var_Fpos 500.10189778823485 var_Fnor 100.00728769954287\n"
     ]
    },
    {
     "name": "stderr",
     "output_type": "stream",
     "text": [
      "[Parallel(n_jobs=-1)]: Done  42 tasks      | elapsed:    3.6s\n",
      "[Parallel(n_jobs=-1)]: Done 150 out of 150 | elapsed:   12.1s finished\n",
      "[Parallel(n_jobs=-1)]: Using backend LokyBackend with 4 concurrent workers.\n"
     ]
    },
    {
     "name": "stdout",
     "output_type": "stream",
     "text": [
      "shape deflection:  (150, 101)  should be [N,10X] something\n",
      "deflection std deviation  3.8327580969108643\n",
      "Using the batch evaluation function. Assumes that the outputs are in the\n",
      "same order than for the single evaluation function. This one should only\n",
      "return ProcessSamples, Samples, Lists or numpy arrays.\n",
      "Element is iterable, assumes that first dimension is size of sample\n",
      "Shape is (150, 100) and dtype is <class 'numpy.float64'>\n",
      "Element 0 of the output tuple returns process samples of dimension 1\n",
      "Element is iterable, assumes that first dimension is size of sample\n",
      "Shape is (1, 150) and dtype is <class 'numpy.float64'>\n",
      "Element 1 of the output tuple returns process samples of dimension 1\n",
      "Lifting as process sample\n",
      "field E shape (300, 100)\n",
      "var_Fnor shape (300,)\n",
      "field_E 209970.16814134887 field_D 9.999920870044713 var_Fpos 500.0354462052584 var_Fnor 99.99873413105156\n"
     ]
    },
    {
     "name": "stderr",
     "output_type": "stream",
     "text": [
      "[Parallel(n_jobs=-1)]: Done  42 tasks      | elapsed:    3.4s\n",
      "[Parallel(n_jobs=-1)]: Done 192 tasks      | elapsed:   15.5s\n",
      "[Parallel(n_jobs=-1)]: Done 300 out of 300 | elapsed:   24.2s finished\n"
     ]
    },
    {
     "name": "stdout",
     "output_type": "stream",
     "text": [
      "shape deflection:  (300, 101)  should be [N,10X] something\n",
      "deflection std deviation  3.727602169119225\n",
      "Using the batch evaluation function. Assumes that the outputs are in the\n",
      "same order than for the single evaluation function. This one should only\n",
      "return ProcessSamples, Samples, Lists or numpy arrays.\n",
      "Element is iterable, assumes that first dimension is size of sample\n",
      "Shape is (300, 100) and dtype is <class 'numpy.float64'>\n",
      "Element 0 of the output tuple returns process samples of dimension 1\n",
      "Element is iterable, assumes that first dimension is size of sample\n",
      "Shape is (1, 300) and dtype is <class 'numpy.float64'>\n",
      "Element 1 of the output tuple returns process samples of dimension 1\n",
      "Lifting as process sample\n",
      "field E shape (6000, 100)\n",
      "var_Fnor shape (6000,)\n",
      "field_E 209930.08536417544 field_D 9.990053427081232 var_Fpos 499.7213301534985 var_Fnor 99.94693124656756\n"
     ]
    },
    {
     "name": "stderr",
     "output_type": "stream",
     "text": [
      "[Parallel(n_jobs=-1)]: Using backend LokyBackend with 4 concurrent workers.\n",
      "[Parallel(n_jobs=-1)]: Done  42 tasks      | elapsed:    3.7s\n",
      "[Parallel(n_jobs=-1)]: Done 192 tasks      | elapsed:   16.2s\n",
      "[Parallel(n_jobs=-1)]: Done 442 tasks      | elapsed:   37.0s\n",
      "[Parallel(n_jobs=-1)]: Done 792 tasks      | elapsed:  1.1min\n"
     ]
    },
    {
     "name": "stdout",
     "output_type": "stream",
     "text": [
      "did not manage to evaluate batch function\n"
     ]
    },
    {
     "ename": "TypeError",
     "evalue": "batchEval() takes 2 positional arguments but 5 were given",
     "output_type": "error",
     "traceback": [
      "\u001b[0;31m---------------------------------------------------------------------------\u001b[0m",
      "\u001b[0;31mKeyboardInterrupt\u001b[0m                         Traceback (most recent call last)",
      "\u001b[0;32m/home/kramer84/Documents/Ecole_Fichiers_Importants/stage_phimeca/gitRepo/KarhunenLoeveFieldSensitivity/_karhunenLoeveGeneralizedFunctionWrapper.py\u001b[0m in \u001b[0;36m_exec_sample\u001b[0;34m(self, X)\u001b[0m\n\u001b[1;32m     82\u001b[0m         \u001b[0;32mtry\u001b[0m \u001b[0;34m:\u001b[0m\u001b[0;34m\u001b[0m\u001b[0;34m\u001b[0m\u001b[0m\n\u001b[0;32m---> 83\u001b[0;31m             \u001b[0mresult\u001b[0m \u001b[0;34m=\u001b[0m \u001b[0mself\u001b[0m\u001b[0;34m.\u001b[0m\u001b[0mfunc_sample\u001b[0m\u001b[0;34m(\u001b[0m\u001b[0minputProcessSamples\u001b[0m\u001b[0;34m)\u001b[0m\u001b[0;34m\u001b[0m\u001b[0;34m\u001b[0m\u001b[0m\n\u001b[0m\u001b[1;32m     84\u001b[0m         \u001b[0;32mexcept\u001b[0m \u001b[0;34m:\u001b[0m\u001b[0;34m\u001b[0m\u001b[0;34m\u001b[0m\u001b[0m\n",
      "\u001b[0;32m/home/kramer84/Documents/Ecole_Fichiers_Importants/stage_phimeca/gitRepo/notebooksAndExamples/beamExample.py\u001b[0m in \u001b[0;36mbatchEval\u001b[0;34m(self, argList)\u001b[0m\n\u001b[1;32m    139\u001b[0m         \u001b[0minputs\u001b[0m \u001b[0;34m=\u001b[0m \u001b[0mlist\u001b[0m\u001b[0;34m(\u001b[0m\u001b[0mself\u001b[0m\u001b[0;34m.\u001b[0m\u001b[0mconvertSinglInputs\u001b[0m\u001b[0;34m(\u001b[0m\u001b[0margList\u001b[0m\u001b[0;34m)\u001b[0m\u001b[0;34m)\u001b[0m\u001b[0;34m\u001b[0m\u001b[0;34m\u001b[0m\u001b[0m\n\u001b[0;32m--> 140\u001b[0;31m         \u001b[0;32mreturn\u001b[0m \u001b[0mbatchEval\u001b[0m\u001b[0;34m(\u001b[0m\u001b[0minputs\u001b[0m\u001b[0;34m[\u001b[0m\u001b[0;36m0\u001b[0m\u001b[0;34m]\u001b[0m\u001b[0;34m,\u001b[0m \u001b[0minputs\u001b[0m\u001b[0;34m[\u001b[0m\u001b[0;36m1\u001b[0m\u001b[0;34m]\u001b[0m\u001b[0;34m,\u001b[0m \u001b[0minputs\u001b[0m\u001b[0;34m[\u001b[0m\u001b[0;36m2\u001b[0m\u001b[0;34m]\u001b[0m\u001b[0;34m,\u001b[0m \u001b[0minputs\u001b[0m\u001b[0;34m[\u001b[0m\u001b[0;36m3\u001b[0m\u001b[0;34m]\u001b[0m\u001b[0;34m)\u001b[0m\u001b[0;34m\u001b[0m\u001b[0;34m\u001b[0m\u001b[0m\n\u001b[0m\u001b[1;32m    141\u001b[0m \u001b[0;34m\u001b[0m\u001b[0m\n",
      "\u001b[0;32m/home/kramer84/Documents/Ecole_Fichiers_Importants/stage_phimeca/gitRepo/notebooksAndExamples/beamExample.py\u001b[0m in \u001b[0;36mbatchEval\u001b[0;34m(random_young_modulus, random_diameter, random_forcePos, random_forceNorm)\u001b[0m\n\u001b[1;32m    105\u001b[0m                     delayed(experience_mod)(\n\u001b[0;32m--> 106\u001b[0;31m                         var1[i], var2[i], var3[i], var4[i], vertices, vertex_list, elem_coords) for i in range(len(var4)))\n\u001b[0m\u001b[1;32m    107\u001b[0m     \u001b[0mmonteCarloResults_elem\u001b[0m \u001b[0;34m=\u001b[0m \u001b[0mnumpy\u001b[0m\u001b[0;34m.\u001b[0m\u001b[0mstack\u001b[0m\u001b[0;34m(\u001b[0m\u001b[0mnumpy\u001b[0m\u001b[0;34m.\u001b[0m\u001b[0masarray\u001b[0m\u001b[0;34m(\u001b[0m\u001b[0mresult_list\u001b[0m\u001b[0;34m)\u001b[0m\u001b[0;34m[\u001b[0m\u001b[0;34m...\u001b[0m\u001b[0;34m,\u001b[0m\u001b[0;36m0\u001b[0m\u001b[0;34m]\u001b[0m\u001b[0;34m)\u001b[0m\u001b[0;34m\u001b[0m\u001b[0;34m\u001b[0m\u001b[0m\n",
      "\u001b[0;32m/home/kramer84/anaconda3/envs/ot_traits_env/lib/python3.7/site-packages/joblib/parallel.py\u001b[0m in \u001b[0;36m__call__\u001b[0;34m(self, iterable)\u001b[0m\n\u001b[1;32m   1053\u001b[0m             \u001b[0;32mwith\u001b[0m \u001b[0mself\u001b[0m\u001b[0;34m.\u001b[0m\u001b[0m_backend\u001b[0m\u001b[0;34m.\u001b[0m\u001b[0mretrieval_context\u001b[0m\u001b[0;34m(\u001b[0m\u001b[0;34m)\u001b[0m\u001b[0;34m:\u001b[0m\u001b[0;34m\u001b[0m\u001b[0;34m\u001b[0m\u001b[0m\n\u001b[0;32m-> 1054\u001b[0;31m                 \u001b[0mself\u001b[0m\u001b[0;34m.\u001b[0m\u001b[0mretrieve\u001b[0m\u001b[0;34m(\u001b[0m\u001b[0;34m)\u001b[0m\u001b[0;34m\u001b[0m\u001b[0;34m\u001b[0m\u001b[0m\n\u001b[0m\u001b[1;32m   1055\u001b[0m             \u001b[0;31m# Make sure that we get a last message telling us we are done\u001b[0m\u001b[0;34m\u001b[0m\u001b[0;34m\u001b[0m\u001b[0;34m\u001b[0m\u001b[0m\n",
      "\u001b[0;32m/home/kramer84/anaconda3/envs/ot_traits_env/lib/python3.7/site-packages/joblib/parallel.py\u001b[0m in \u001b[0;36mretrieve\u001b[0;34m(self)\u001b[0m\n\u001b[1;32m    932\u001b[0m                 \u001b[0;32mif\u001b[0m \u001b[0mgetattr\u001b[0m\u001b[0;34m(\u001b[0m\u001b[0mself\u001b[0m\u001b[0;34m.\u001b[0m\u001b[0m_backend\u001b[0m\u001b[0;34m,\u001b[0m \u001b[0;34m'supports_timeout'\u001b[0m\u001b[0;34m,\u001b[0m \u001b[0;32mFalse\u001b[0m\u001b[0;34m)\u001b[0m\u001b[0;34m:\u001b[0m\u001b[0;34m\u001b[0m\u001b[0;34m\u001b[0m\u001b[0m\n\u001b[0;32m--> 933\u001b[0;31m                     \u001b[0mself\u001b[0m\u001b[0;34m.\u001b[0m\u001b[0m_output\u001b[0m\u001b[0;34m.\u001b[0m\u001b[0mextend\u001b[0m\u001b[0;34m(\u001b[0m\u001b[0mjob\u001b[0m\u001b[0;34m.\u001b[0m\u001b[0mget\u001b[0m\u001b[0;34m(\u001b[0m\u001b[0mtimeout\u001b[0m\u001b[0;34m=\u001b[0m\u001b[0mself\u001b[0m\u001b[0;34m.\u001b[0m\u001b[0mtimeout\u001b[0m\u001b[0;34m)\u001b[0m\u001b[0;34m)\u001b[0m\u001b[0;34m\u001b[0m\u001b[0;34m\u001b[0m\u001b[0m\n\u001b[0m\u001b[1;32m    934\u001b[0m                 \u001b[0;32melse\u001b[0m\u001b[0;34m:\u001b[0m\u001b[0;34m\u001b[0m\u001b[0;34m\u001b[0m\u001b[0m\n",
      "\u001b[0;32m/home/kramer84/anaconda3/envs/ot_traits_env/lib/python3.7/site-packages/joblib/_parallel_backends.py\u001b[0m in \u001b[0;36mwrap_future_result\u001b[0;34m(future, timeout)\u001b[0m\n\u001b[1;32m    541\u001b[0m         \u001b[0;32mtry\u001b[0m\u001b[0;34m:\u001b[0m\u001b[0;34m\u001b[0m\u001b[0;34m\u001b[0m\u001b[0m\n\u001b[0;32m--> 542\u001b[0;31m             \u001b[0;32mreturn\u001b[0m \u001b[0mfuture\u001b[0m\u001b[0;34m.\u001b[0m\u001b[0mresult\u001b[0m\u001b[0;34m(\u001b[0m\u001b[0mtimeout\u001b[0m\u001b[0;34m=\u001b[0m\u001b[0mtimeout\u001b[0m\u001b[0;34m)\u001b[0m\u001b[0;34m\u001b[0m\u001b[0;34m\u001b[0m\u001b[0m\n\u001b[0m\u001b[1;32m    543\u001b[0m         \u001b[0;32mexcept\u001b[0m \u001b[0mCfTimeoutError\u001b[0m \u001b[0;32mas\u001b[0m \u001b[0me\u001b[0m\u001b[0;34m:\u001b[0m\u001b[0;34m\u001b[0m\u001b[0;34m\u001b[0m\u001b[0m\n",
      "\u001b[0;32m/home/kramer84/anaconda3/envs/ot_traits_env/lib/python3.7/concurrent/futures/_base.py\u001b[0m in \u001b[0;36mresult\u001b[0;34m(self, timeout)\u001b[0m\n\u001b[1;32m    429\u001b[0m \u001b[0;34m\u001b[0m\u001b[0m\n\u001b[0;32m--> 430\u001b[0;31m             \u001b[0mself\u001b[0m\u001b[0;34m.\u001b[0m\u001b[0m_condition\u001b[0m\u001b[0;34m.\u001b[0m\u001b[0mwait\u001b[0m\u001b[0;34m(\u001b[0m\u001b[0mtimeout\u001b[0m\u001b[0;34m)\u001b[0m\u001b[0;34m\u001b[0m\u001b[0;34m\u001b[0m\u001b[0m\n\u001b[0m\u001b[1;32m    431\u001b[0m \u001b[0;34m\u001b[0m\u001b[0m\n",
      "\u001b[0;32m/home/kramer84/anaconda3/envs/ot_traits_env/lib/python3.7/threading.py\u001b[0m in \u001b[0;36mwait\u001b[0;34m(self, timeout)\u001b[0m\n\u001b[1;32m    295\u001b[0m             \u001b[0;32mif\u001b[0m \u001b[0mtimeout\u001b[0m \u001b[0;32mis\u001b[0m \u001b[0;32mNone\u001b[0m\u001b[0;34m:\u001b[0m\u001b[0;34m\u001b[0m\u001b[0;34m\u001b[0m\u001b[0m\n\u001b[0;32m--> 296\u001b[0;31m                 \u001b[0mwaiter\u001b[0m\u001b[0;34m.\u001b[0m\u001b[0macquire\u001b[0m\u001b[0;34m(\u001b[0m\u001b[0;34m)\u001b[0m\u001b[0;34m\u001b[0m\u001b[0;34m\u001b[0m\u001b[0m\n\u001b[0m\u001b[1;32m    297\u001b[0m                 \u001b[0mgotit\u001b[0m \u001b[0;34m=\u001b[0m \u001b[0;32mTrue\u001b[0m\u001b[0;34m\u001b[0m\u001b[0;34m\u001b[0m\u001b[0m\n",
      "\u001b[0;31mKeyboardInterrupt\u001b[0m: ",
      "\nDuring handling of the above exception, another exception occurred:\n",
      "\u001b[0;31mTypeError\u001b[0m                                 Traceback (most recent call last)",
      "\u001b[0;32m<ipython-input-6-1e796510c03e>\u001b[0m in \u001b[0;36m<module>\u001b[0;34m()\u001b[0m\n\u001b[1;32m      6\u001b[0m \u001b[0m_\u001b[0m\u001b[0;34m,\u001b[0m \u001b[0mdoe_kriging_LHS300_VM\u001b[0m\u001b[0;34m,\u001b[0m \u001b[0mdoe_kriging_LHS300_MD\u001b[0m \u001b[0;34m=\u001b[0m \u001b[0mFUNC_wSave\u001b[0m\u001b[0;34m(\u001b[0m\u001b[0mdoe_kriging_LHS300\u001b[0m\u001b[0;34m,\u001b[0m \u001b[0;34m'doe_kriging_LHS300'\u001b[0m\u001b[0;34m)\u001b[0m\u001b[0;34m\u001b[0m\u001b[0;34m\u001b[0m\u001b[0m\n\u001b[1;32m      7\u001b[0m \u001b[0;31m#For the Sobol Indices\u001b[0m\u001b[0;34m\u001b[0m\u001b[0;34m\u001b[0m\u001b[0;34m\u001b[0m\u001b[0m\n\u001b[0;32m----> 8\u001b[0;31m \u001b[0m_\u001b[0m\u001b[0;34m,\u001b[0m \u001b[0mdoe_sobol_experiment_N1000_VM\u001b[0m\u001b[0;34m,\u001b[0m \u001b[0mdoe_sobol_experiment_N1000_MD\u001b[0m \u001b[0;34m=\u001b[0m \u001b[0mFUNC_wSave\u001b[0m\u001b[0;34m(\u001b[0m\u001b[0mdoe_sobol_experiment_N1000\u001b[0m\u001b[0;34m,\u001b[0m \u001b[0;34m'doe_sobol_experiment_N1000'\u001b[0m\u001b[0;34m)\u001b[0m\u001b[0;34m\u001b[0m\u001b[0;34m\u001b[0m\u001b[0m\n\u001b[0m\u001b[1;32m      9\u001b[0m \u001b[0;34m\u001b[0m\u001b[0m\n\u001b[1;32m     10\u001b[0m \u001b[0m_\u001b[0m\u001b[0;34m,\u001b[0m \u001b[0mdoe_kriging_validation_VM\u001b[0m\u001b[0;34m,\u001b[0m \u001b[0mdoe_kriging_validation_MD\u001b[0m \u001b[0;34m=\u001b[0m \u001b[0mFUNC_wSave\u001b[0m\u001b[0;34m(\u001b[0m\u001b[0mdoe_kriging_validation\u001b[0m\u001b[0;34m,\u001b[0m \u001b[0;34m'doe_kriging_validation'\u001b[0m\u001b[0;34m)\u001b[0m\u001b[0;34m\u001b[0m\u001b[0;34m\u001b[0m\u001b[0m\n",
      "\u001b[0;32m/home/kramer84/Documents/Ecole_Fichiers_Importants/stage_phimeca/gitRepo/notebooksAndExamples/_base_algorithms.py\u001b[0m in \u001b[0;36mnew_function_wrapper\u001b[0;34m(arg, file_name)\u001b[0m\n\u001b[1;32m     45\u001b[0m                 \u001b[0;32mand\u001b[0m \u001b[0mos\u001b[0m\u001b[0;34m.\u001b[0m\u001b[0mpath\u001b[0m\u001b[0;34m.\u001b[0m\u001b[0misfile\u001b[0m\u001b[0;34m(\u001b[0m\u001b[0mos\u001b[0m\u001b[0;34m.\u001b[0m\u001b[0mpath\u001b[0m\u001b[0;34m.\u001b[0m\u001b[0mjoin\u001b[0m\u001b[0;34m(\u001b[0m\u001b[0msample_path\u001b[0m\u001b[0;34m,\u001b[0m \u001b[0mfile_name\u001b[0m\u001b[0;34m+\u001b[0m\u001b[0;34m'_VM'\u001b[0m\u001b[0;34m+\u001b[0m\u001b[0;34m'.csv'\u001b[0m\u001b[0;34m)\u001b[0m\u001b[0;34m)\u001b[0m\u001b[0;31m \u001b[0m\u001b[0;31m\\\u001b[0m\u001b[0;34m\u001b[0m\u001b[0;34m\u001b[0m\u001b[0m\n\u001b[1;32m     46\u001b[0m                 and os.path.isfile(os.path.join(sample_path, file_name+'_MD'+'.csv'))):\n\u001b[0;32m---> 47\u001b[0;31m             \u001b[0moutput\u001b[0m \u001b[0;34m=\u001b[0m \u001b[0mfunc\u001b[0m\u001b[0;34m(\u001b[0m\u001b[0marg\u001b[0m\u001b[0;34m)\u001b[0m\u001b[0;34m\u001b[0m\u001b[0;34m\u001b[0m\u001b[0m\n\u001b[0m\u001b[1;32m     48\u001b[0m             \u001b[0mvonMises\u001b[0m \u001b[0;34m=\u001b[0m \u001b[0mot\u001b[0m\u001b[0;34m.\u001b[0m\u001b[0mSample\u001b[0m\u001b[0;34m(\u001b[0m\u001b[0mnp\u001b[0m\u001b[0;34m.\u001b[0m\u001b[0marray\u001b[0m\u001b[0;34m(\u001b[0m\u001b[0mnp\u001b[0m\u001b[0;34m.\u001b[0m\u001b[0mstack\u001b[0m\u001b[0;34m(\u001b[0m\u001b[0;34m[\u001b[0m\u001b[0mnp\u001b[0m\u001b[0;34m.\u001b[0m\u001b[0msqueeze\u001b[0m\u001b[0;34m(\u001b[0m\u001b[0mnp\u001b[0m\u001b[0;34m.\u001b[0m\u001b[0masarray\u001b[0m\u001b[0;34m(\u001b[0m\u001b[0moutput\u001b[0m\u001b[0;34m[\u001b[0m\u001b[0;36m0\u001b[0m\u001b[0;34m]\u001b[0m\u001b[0;34m[\u001b[0m\u001b[0mi\u001b[0m\u001b[0;34m]\u001b[0m\u001b[0;34m)\u001b[0m\u001b[0;34m)\u001b[0m \u001b[0;32mfor\u001b[0m \u001b[0mi\u001b[0m \u001b[0;32min\u001b[0m \u001b[0mrange\u001b[0m\u001b[0;34m(\u001b[0m\u001b[0mlen\u001b[0m\u001b[0;34m(\u001b[0m\u001b[0moutput\u001b[0m\u001b[0;34m[\u001b[0m\u001b[0;36m0\u001b[0m\u001b[0;34m]\u001b[0m\u001b[0;34m)\u001b[0m\u001b[0;34m)\u001b[0m\u001b[0;34m]\u001b[0m\u001b[0;34m)\u001b[0m\u001b[0;34m)\u001b[0m\u001b[0;34m)\u001b[0m\u001b[0;34m\u001b[0m\u001b[0;34m\u001b[0m\u001b[0m\n\u001b[1;32m     49\u001b[0m             \u001b[0mmaxDefl\u001b[0m \u001b[0;34m=\u001b[0m \u001b[0moutput\u001b[0m\u001b[0;34m[\u001b[0m\u001b[0;36m1\u001b[0m\u001b[0;34m]\u001b[0m\u001b[0;34m[\u001b[0m\u001b[0;36m0\u001b[0m\u001b[0;34m]\u001b[0m\u001b[0;34m\u001b[0m\u001b[0;34m\u001b[0m\u001b[0m\n",
      "\u001b[0;32m/home/kramer84/Documents/Ecole_Fichiers_Importants/stage_phimeca/gitRepo/KarhunenLoeveFieldSensitivity/_karhunenLoeveGeneralizedFunctionWrapper.py\u001b[0m in \u001b[0;36m__call__\u001b[0;34m(self, X)\u001b[0m\n\u001b[1;32m     58\u001b[0m             \u001b[0;32mreturn\u001b[0m \u001b[0mself\u001b[0m\u001b[0;34m.\u001b[0m\u001b[0m_exec\u001b[0m\u001b[0;34m(\u001b[0m\u001b[0mX\u001b[0m\u001b[0;34m)\u001b[0m\u001b[0;34m\u001b[0m\u001b[0;34m\u001b[0m\u001b[0m\n\u001b[1;32m     59\u001b[0m         \u001b[0;32melse\u001b[0m \u001b[0;34m:\u001b[0m\u001b[0;34m\u001b[0m\u001b[0;34m\u001b[0m\u001b[0m\n\u001b[0;32m---> 60\u001b[0;31m             \u001b[0;32mreturn\u001b[0m \u001b[0mself\u001b[0m\u001b[0;34m.\u001b[0m\u001b[0m_exec_sample\u001b[0m\u001b[0;34m(\u001b[0m\u001b[0mX\u001b[0m\u001b[0;34m)\u001b[0m\u001b[0;34m\u001b[0m\u001b[0;34m\u001b[0m\u001b[0m\n\u001b[0m\u001b[1;32m     61\u001b[0m \u001b[0;34m\u001b[0m\u001b[0m\n\u001b[1;32m     62\u001b[0m     \u001b[0;32mdef\u001b[0m \u001b[0m_exec\u001b[0m\u001b[0;34m(\u001b[0m\u001b[0mself\u001b[0m\u001b[0;34m,\u001b[0m \u001b[0mX\u001b[0m\u001b[0;34m)\u001b[0m\u001b[0;34m:\u001b[0m\u001b[0;34m\u001b[0m\u001b[0;34m\u001b[0m\u001b[0m\n",
      "\u001b[0;32m/home/kramer84/Documents/Ecole_Fichiers_Importants/stage_phimeca/gitRepo/KarhunenLoeveFieldSensitivity/_karhunenLoeveGeneralizedFunctionWrapper.py\u001b[0m in \u001b[0;36m_exec_sample\u001b[0;34m(self, X)\u001b[0m\n\u001b[1;32m     87\u001b[0m             \u001b[0;32mexcept\u001b[0m \u001b[0mTypeError\u001b[0m \u001b[0;32mas\u001b[0m \u001b[0mte\u001b[0m\u001b[0;34m:\u001b[0m\u001b[0;34m\u001b[0m\u001b[0;34m\u001b[0m\u001b[0m\n\u001b[1;32m     88\u001b[0m                 \u001b[0mprint\u001b[0m\u001b[0;34m(\u001b[0m\u001b[0;34m'did not manage to evaluate batch function'\u001b[0m\u001b[0;34m)\u001b[0m\u001b[0;34m\u001b[0m\u001b[0;34m\u001b[0m\u001b[0m\n\u001b[0;32m---> 89\u001b[0;31m                 \u001b[0;32mraise\u001b[0m \u001b[0mte\u001b[0m\u001b[0;34m\u001b[0m\u001b[0;34m\u001b[0m\u001b[0m\n\u001b[0m\u001b[1;32m     90\u001b[0m         \u001b[0mresult\u001b[0m \u001b[0;34m=\u001b[0m \u001b[0mCustomList\u001b[0m\u001b[0;34m.\u001b[0m\u001b[0matLeastList\u001b[0m\u001b[0;34m(\u001b[0m\u001b[0mresult\u001b[0m\u001b[0;34m)\u001b[0m\u001b[0;34m\u001b[0m\u001b[0;34m\u001b[0m\u001b[0m\n\u001b[1;32m     91\u001b[0m         \u001b[0mresult\u001b[0m \u001b[0;34m=\u001b[0m \u001b[0mself\u001b[0m\u001b[0;34m.\u001b[0m\u001b[0m_convert_exec_sample_ot\u001b[0m\u001b[0;34m(\u001b[0m\u001b[0mresult\u001b[0m\u001b[0;34m)\u001b[0m\u001b[0;34m\u001b[0m\u001b[0;34m\u001b[0m\u001b[0m\n",
      "\u001b[0;32m/home/kramer84/Documents/Ecole_Fichiers_Importants/stage_phimeca/gitRepo/KarhunenLoeveFieldSensitivity/_karhunenLoeveGeneralizedFunctionWrapper.py\u001b[0m in \u001b[0;36m_exec_sample\u001b[0;34m(self, X)\u001b[0m\n\u001b[1;32m     84\u001b[0m         \u001b[0;32mexcept\u001b[0m \u001b[0;34m:\u001b[0m\u001b[0;34m\u001b[0m\u001b[0;34m\u001b[0m\u001b[0m\n\u001b[1;32m     85\u001b[0m             \u001b[0;32mtry\u001b[0m \u001b[0;34m:\u001b[0m\u001b[0;34m\u001b[0m\u001b[0;34m\u001b[0m\u001b[0m\n\u001b[0;32m---> 86\u001b[0;31m                 \u001b[0mresult\u001b[0m \u001b[0;34m=\u001b[0m \u001b[0mself\u001b[0m\u001b[0;34m.\u001b[0m\u001b[0mfunc_sample\u001b[0m\u001b[0;34m(\u001b[0m\u001b[0;34m*\u001b[0m\u001b[0minputProcessSamples\u001b[0m\u001b[0;34m)\u001b[0m\u001b[0;34m\u001b[0m\u001b[0;34m\u001b[0m\u001b[0m\n\u001b[0m\u001b[1;32m     87\u001b[0m             \u001b[0;32mexcept\u001b[0m \u001b[0mTypeError\u001b[0m \u001b[0;32mas\u001b[0m \u001b[0mte\u001b[0m\u001b[0;34m:\u001b[0m\u001b[0;34m\u001b[0m\u001b[0;34m\u001b[0m\u001b[0m\n\u001b[1;32m     88\u001b[0m                 \u001b[0mprint\u001b[0m\u001b[0;34m(\u001b[0m\u001b[0;34m'did not manage to evaluate batch function'\u001b[0m\u001b[0;34m)\u001b[0m\u001b[0;34m\u001b[0m\u001b[0;34m\u001b[0m\u001b[0m\n",
      "\u001b[0;31mTypeError\u001b[0m: batchEval() takes 2 positional arguments but 5 were given"
     ]
    }
   ],
   "source": [
    "#Evaluation of the function on our design of experiments\n",
    "#For the Kriging:\n",
    "_, doe_kriging_LHS25_VM, doe_kriging_LHS25_MD = FUNC_wSave(doe_kriging_LHS25, 'doe_kriging_LHS25')\n",
    "_, doe_kriging_LHS50_VM, doe_kriging_LHS50_MD = FUNC_wSave(doe_kriging_LHS50, 'doe_kriging_LHS50')\n",
    "_, doe_kriging_LHS150_VM, doe_kriging_LHS150_MD = FUNC_wSave(doe_kriging_LHS150, 'doe_kriging_LHS150')\n",
    "_, doe_kriging_LHS300_VM, doe_kriging_LHS300_MD = FUNC_wSave(doe_kriging_LHS300, 'doe_kriging_LHS300')\n",
    "#For the Sobol Indices\n",
    "_, doe_sobol_experiment_N1000_VM, doe_sobol_experiment_N1000_MD = FUNC_wSave(doe_sobol_experiment_N1000, 'doe_sobol_experiment_N1000')\n",
    "\n",
    "_, doe_kriging_validation_VM, doe_kriging_validation_MD = FUNC_wSave(doe_kriging_validation, 'doe_kriging_validation')"
   ]
  },
  {
   "cell_type": "code",
   "execution_count": 11,
   "metadata": {},
   "outputs": [
    {
     "name": "stdout",
     "output_type": "stream",
     "text": [
      "Done !\n",
      "NaN values found at index: []\n",
      "Done !\n",
      "NaN values found at index: []\n",
      "Done !\n",
      "NaN values found at index: []\n",
      "Done !\n",
      "NaN values found at index: []\n"
     ]
    }
   ],
   "source": [
    "# Creation of a metamodel through kriging\n",
    "kriging_doe_LHS25 = metamodeling_kriging(doe_kriging_LHS25, doe_kriging_LHS25_MD, optim_type='multi_start', size_multistart = 10)\n",
    "kriging_doe_LHS25.run()\n",
    "kriging_doe_LHS25.getMetaModelValidation(doe_kriging_validation, doe_kriging_validation_MD)\n",
    "\n",
    "kriging_doe_LHS50 = metamodeling_kriging(doe_kriging_LHS50, doe_kriging_LHS50_MD, optim_type='multi_start', size_multistart = 10)\n",
    "kriging_doe_LHS50.run()\n",
    "kriging_doe_LHS50.getMetaModelValidation(doe_kriging_validation, doe_kriging_validation_MD)\n",
    "\n",
    "kriging_doe_LHS150 = metamodeling_kriging(doe_kriging_LHS150, doe_kriging_LHS150_MD, optim_type='multi_start', size_multistart = 10)\n",
    "kriging_doe_LHS150.run()\n",
    "kriging_doe_LHS150.getMetaModelValidation(doe_kriging_validation, doe_kriging_validation_MD)\n",
    "\n",
    "kriging_doe_LHS300 = metamodeling_kriging(doe_kriging_LHS300, doe_kriging_LHS300_MD, optim_type='multi_start', size_multistart = 10)\n",
    "kriging_doe_LHS300.run()\n",
    "kriging_doe_LHS300.getMetaModelValidation(doe_kriging_validation, doe_kriging_validation_MD)"
   ]
  },
  {
   "cell_type": "code",
   "execution_count": 12,
   "metadata": {},
   "outputs": [
    {
     "data": {
      "image/png": "[encoded data removed]",
      "text/plain": [
       "<Figure size 432x288 with 1 Axes>"
      ]
     },
     "metadata": {
      "needs_background": "light"
     },
     "output_type": "display_data"
    },
    {
     "data": {
      "image/png": "[encoded data removed]",
      "text/plain": [
       "<Figure size 432x288 with 1 Axes>"
      ]
     },
     "metadata": {
      "needs_background": "light"
     },
     "output_type": "display_data"
    },
    {
     "data": {
      "image/png": "[encoded data removed]",
      "text/plain": [
       "<Figure size 432x288 with 1 Axes>"
      ]
     },
     "metadata": {
      "needs_background": "light"
     },
     "output_type": "display_data"
    },
    {
     "data": {
      "image/png": "[encoded data removed]",
      "text/plain": [
       "<Figure size 432x288 with 1 Axes>"
      ]
     },
     "metadata": {
      "needs_background": "light"
     },
     "output_type": "display_data"
    }
   ],
   "source": [
    "kriging_doe_LHS25.validation_results.getGraphs()\n",
    "kriging_doe_LHS50.validation_results.getGraphs()\n",
    "kriging_doe_LHS150.validation_results.getGraphs()\n",
    "kriging_doe_LHS300.validation_results.getGraphs()"
   ]
  },
  {
   "cell_type": "code",
   "execution_count": 13,
   "metadata": {},
   "outputs": [
    {
     "name": "stdout",
     "output_type": "stream",
     "text": [
      "R2: [0.931127]\n",
      "R2: [0.97947]\n",
      "R2: [0.991379]\n",
      "R2: [0.997801]\n"
     ]
    }
   ],
   "source": [
    "kriging_doe_LHS25.validation_results.getR2()\n",
    "kriging_doe_LHS50.validation_results.getR2()\n",
    "kriging_doe_LHS150.validation_results.getR2()\n",
    "kriging_doe_LHS300.validation_results.getR2()"
   ]
  },
  {
   "cell_type": "code",
   "execution_count": null,
   "metadata": {},
   "outputs": [],
   "source": [
    "sensitivityAnalysis_10000_2 = klfs.SobolKarhunenLoeveFieldSensitivityAlgorithm()\n",
    "sensitivityAnalysis_10000_2.setDesign(sample_si_10000_in, sample_si_10000_out_MD, 10000)\n",
    "sensitivityAnalysis_10000_2.setEstimator(ot.MartinezSensitivityAlgorithm())\n",
    "sensitivityAnalysis_10000_2.getFirstOrderIndices()"
   ]
  }
 ],
 "metadata": {
  "kernelspec": {
   "display_name": "Python 3",
   "language": "python",
   "name": "python3"
  },
  "language_info": {
   "codemirror_mode": {
    "name": "ipython",
    "version": 3
   },
   "file_extension": ".py",
   "mimetype": "text/x-python",
   "name": "python",
   "nbconvert_exporter": "python",
   "pygments_lexer": "ipython3",
   "version": "3.7.9"
  }
 },
 "nbformat": 4,
 "nbformat_minor": 4
}
