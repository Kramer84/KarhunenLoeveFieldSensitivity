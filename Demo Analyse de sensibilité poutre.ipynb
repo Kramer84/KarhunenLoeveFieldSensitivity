{
 "cells": [
  {
   "cell_type": "markdown",
   "metadata": {},
   "source": [
    "### Il est explicité ici l'utilisation des ensembles de codes écrits pour l'analyse de sensibilité sur des champs stochastiques et variables aléatoires.\n",
    "\n",
    "### Il est d'abord conseillé d'installer l'environnement virtuel dont la définition se trouvent dans le fichier yaml\n",
    "\n",
    "Nous allons faire ici l'analyse de sensiblité sur une poutre en flexion représentée par 100 éléments finis, et ou le module young et le diamètre de chaque élément est déterminé par un processus gaussien en une dimension. La position de la force, sa norme, tout comme la densité du matérieau sont déterminés par des lois nomales gaussiennes.\n",
    "Dans la logique d'écriture de ces codes, il faut avoir un à priori sur les processus gaussiens, la loi qu'ils suivent, tout comme sur les paramètres des lois gaussiennes. Ensuite, il faut avoir une fonction python qui prend en entrée ces champs, et qui renvoie un ensemble connu de resultas. \n"
   ]
  },
  {
   "cell_type": "code",
   "execution_count": 1,
   "metadata": {},
   "outputs": [],
   "source": [
    "try:\n",
    "    import anastruct, openturns, numba, joblib\n",
    "except:\n",
    "    import os\n",
    "    if os.sys.platform == 'linux' :\n",
    "        file_path = 'sensitivityEnv.yml'\n",
    "        os.system('conda env create -f'+file_path)\n",
    "        # to have the right modules installed\n",
    "        print('now activate the environment and restart jupyter with other kernel')\n",
    "    else :\n",
    "        print('Do it alone')"
   ]
  },
  {
   "cell_type": "code",
   "execution_count": 2,
   "metadata": {},
   "outputs": [
    {
     "name": "stdout",
     "output_type": "stream",
     "text": [
      "trend function args:  ['x']  trend function:  210000 \n",
      "\n",
      "Please be aware that the number of elements in the argument list has to be the same as the dimension of the process:  1\n",
      "trend function args:  ['x']  trend function:  10 \n",
      "\n",
      "Please be aware that the number of elements in the argument list has to be the same as the dimension of the process:  1\n"
     ]
    }
   ],
   "source": [
    "# Voici les deux scripts destinés à gérer l'analyse de sensibilité sur les champs stochastiques\n",
    "import NdGaussianProcessSensitivity as ngps\n",
    "import NdGaussianProcessConstructor as ngpc\n",
    "# Classes utilitaires\n",
    "import numpy as np\n",
    "import openturns as ot\n",
    "# on importe aussi les fonctions à étudier\n",
    "import RandomBeamGenerationClass    as rbgc"
   ]
  },
  {
   "cell_type": "markdown",
   "metadata": {},
   "source": [
    "D'abord, nous définisson l'ensemble de nos variables d'entrée, tout comme les variables de sortie :\n",
    "- L'on va définir un par un tout les processus et variables aléatoires utilisées dans notre model. Bien sûr cela implique d'avoir un à-priori sur le comportement de ces différentes lois probabilistes. \n",
    "- Néanmoins, comme nous en sommes à des codes d'essai, il serait assez trivial de rajouter la prossiblité de récuperer l'approximation d'un champ inconnu avec l'approcimation de Karhunen - Loeve, en présence d'un grand nombre de mesures.\n",
    "- La définition des éléments sur lesquels est construit le champ stochastique est un peu différent de la manière interne à openturns. En effet, s'étant placés directement dans un cadre de poutre en 'éléments finis, ou l'on a N+1 noeuds (N étant le nombre de poutres), il faut savoir si N est le nombre de mailles ou le nombre de noeuds. Dans le choix a été fait ici de définir la taille du maillage (grid_shape) de la manière suivante :\n",
    "> grid_shape = [[position_X0, longeur_totaleX, nombre_mailles], [position_Y0, longeur_totaleY, nombre_mailles], ..]\n",
    " "
   ]
  },
  {
   "cell_type": "code",
   "execution_count": 3,
   "metadata": {},
   "outputs": [
    {
     "name": "stdout",
     "output_type": "stream",
     "text": [
      "trend function args:  ['x']  trend function:  210000 \n",
      "\n",
      "Please be aware that the number of elements in the argument list has to be the same as the dimension of the process:  1\n",
      "trend function args:  ['x']  trend function:  10 \n",
      "\n",
      "Please be aware that the number of elements in the argument list has to be the same as the dimension of the process:  1\n"
     ]
    }
   ],
   "source": [
    "# process governing the young modulus for each element      (MPa)\n",
    "process_E = ngpc.NdGaussianProcessConstructor(dimension=1,\n",
    "                                              grid_shape=[[0,1000,100],],\n",
    "                                              covariance_model={'NameModel':'MaternModel',\n",
    "                                                                'amplitude':5000.,\n",
    "                                                                'scale':300,\n",
    "                                                                'nu':13/3},\n",
    "                                              trend_arguments=['x'],trend_function=210000)\n",
    "process_E.setName('E_')\n",
    "\n",
    "# process governing the diameter for each element          (mm)\n",
    "process_D = ngpc.NdGaussianProcessConstructor(dimension=1,\n",
    "                                              grid_shape=[[0,1000,100],],\n",
    "                                              covariance_model={'NameModel':'MaternModel',\n",
    "                                                                'amplitude':.3,\n",
    "                                                                'scale':250,\n",
    "                                                                'nu':7.4/3},\n",
    "                                              trend_arguments=['x'],trend_function=10)\n",
    "process_D.setName('D_')\n",
    "\n",
    "# random variable for the density of the material (kg/m³)\n",
    "rho         = 7850.\n",
    "sigma       = 250\n",
    "nameD       = 'Rho'\n",
    "RV_Rho = ngpc.NormalDistribution(mu = rho, sigma = sigma, name = nameD)\n",
    "\n",
    "# random variable for the position of the force   (mm) \n",
    "middle       = 500\n",
    "sigma_f      = 50\n",
    "namePos     = 'FP'\n",
    "RV_Fpos = ngpc.NormalDistribution(mu = middle, sigma = sigma_f, name = namePos)\n",
    "\n",
    "# random variable for the norm of the force    (N)\n",
    "muForce       = 100\n",
    "sigma_Fnor    = 15\n",
    "nameNor       = 'FN'\n",
    "RV_Fnorm = ngpc.NormalDistribution(mu = muForce, sigma = sigma_Fnor, name = nameNor)\n"
   ]
  },
  {
   "cell_type": "markdown",
   "metadata": {},
   "source": [
    "Il est important de noter que les processus et variables aléatoires doivent être définies à partir du module \n",
    "NdGaussianProcessConstructor, qui contient les classes suivantes : \n",
    "###### Classe pour construire un champ stochastique : \n",
    "> NdGaussianProcessConstructor.NdGaussianProcessConstructor() \n",
    "###### Classe pour construire une variables aléatoire  : \n",
    "> NdGaussianProcessConstructor.NormalDistribution() ## Classe openturns.Normal() suchargée\n",
    "###### Classe pour construire un vecteur de variables aléatoires normales : \n",
    "> NdGaussianProcessConstructor.RandomNormalVector() ## Classe openturns.PythonRandomVector surchargée. Cette dernière est utilisée en interne par NdGaussianProcessConstructor.\n",
    "\n",
    "**Finalement, l'autre particularité du NdGaussianProcessConstructor, est d'utiliser un objet _numpy.memmap_ modifiée, qui enregistre les échantillons de processus gaussiens sous forme de fichier temporaire dans le directoire d'utilisation des codes et les éfface en sortant du code**\n",
    "\n",
    "L'on définit ensuite les variables de sortie. Il faut connaître l'ordre dans lequel la fonction renvoie ses resultats connaitre leur nom comme leur dimension. \n",
    "    "
   ]
  },
  {
   "cell_type": "code",
   "execution_count": 4,
   "metadata": {},
   "outputs": [],
   "source": [
    "from importlib import reload\n",
    "reload(ngps)\n",
    "outputVariables = {'out1' :\n",
    "                   {\n",
    "                         'name'     : 'VonMisesStress',\n",
    "                         'position' : 0,\n",
    "                         'shape'    : (102,)  \n",
    "                    },\n",
    "                   'out2' :\n",
    "                   {\n",
    "                        'name'      : 'maxDeflection',\n",
    "                        'position'  : 1,\n",
    "                        'shape'     : (1,)\n",
    "                   }\n",
    "                  }\n",
    "#Pour utiliser notre fonction, un wrapper a été spécialement écrit pour faciliter l'accès aux fonctions mais\n",
    "#ce choix est entièrement dépendant de la manière ont a été définie la fonction sur laquelle vous travaillez.\n",
    "functionWrapper = rbgc.sampleAndSoloFunctionWrapper(process_E, process_D, RV_Rho, RV_Fpos, RV_Fnorm)\n"
   ]
  },
  {
   "cell_type": "markdown",
   "metadata": {},
   "source": [
    "###### Ensuite, on crée une instance pour l'analyse de sensibilité.\n",
    "Il faut donner en entrée une liste contenant les procéssus et les variables aléatoires **dans l'ordre** dans lequel la fonction les recoit. \n",
    "\n",
    "*Pour cela il faut aussi connaître l'ordre des variables d'entrée de la fonction et leur nombre.*\n",
    "\n",
    "**Ces fonctions sont celles qui prennent entrée des champs aléatoires (vecteurs et matrices, de type *list ou numpy*) et variables aléatoire (scalaires (vecteurs 1D pour le multiprocessing)) et non pas les fonctions prennant en entrée les variables aléatoires issues de la décomposition de la Karhunen Loeve, qui elles sont construites en interne dans la classe**"
   ]
  },
  {
   "cell_type": "code",
   "execution_count": 5,
   "metadata": {
    "scrolled": true
   },
   "outputs": [
    {
     "name": "stdout",
     "output_type": "stream",
     "text": [
      "trend function args:  ['x']  trend function:  210000 \n",
      "\n",
      "Please be aware that the number of elements in the argument list has to be the same as the dimension of the process:  1\n",
      "trend function args:  ['x']  trend function:  10 \n",
      "\n",
      "Please be aware that the number of elements in the argument list has to be the same as the dimension of the process:  1\n"
     ]
    }
   ],
   "source": [
    "inputVarList = [process_E, process_D, RV_Rho, RV_Fpos, RV_Fnorm]\n",
    "# We also the need the two functions of the model (one for samples, the other for single evaluations)\n",
    "# In our case, as our model is defined as a class, we have to first create the model, \n",
    "# but it also could just be just two functions taking as an input the fields and RVs\n",
    "soloFunction   = functionWrapper.randomBeamFunctionSolo\n",
    "sampleFunction = functionWrapper.randomBeamFunctionSample\n",
    "##\n",
    "size           = 40 ## Number of samples for our sobol indicies experiment (kept low here to make things faster)\n",
    "##\n",
    "processSensitivityAnalysis = ngps.NdGaussianProcessSensitivityAnalysis(inputVarList, \n",
    "                                                                       outputVariables,\n",
    "                                                                       sampleFunction,\n",
    "                                                                       soloFunction,\n",
    "                                                                       size)"
   ]
  },
  {
   "cell_type": "markdown",
   "metadata": {},
   "source": [
    "Voici une vue du dictionnaire intermédiaire qui est crée une fois les processus et variables aléatoires d'entrées définies :\n",
    "\n",
    "On voit que la position des processus dans les arguments de la fonction d'entrée est enregistrée dans le dictionnaire dans la clé *position* et viennent de la manière de laquelle on a mis les VA et Processus dans le vecteur inputVarList. \n"
   ]
  },
  {
   "cell_type": "markdown",
   "metadata": {},
   "source": [
    "###### Ensuite, grace à l'intermédiaire de la classe ot.SobolIndiciesExperiment, on génère les' variables aléatoires d'entrée "
   ]
  },
  {
   "cell_type": "code",
   "execution_count": 6,
   "metadata": {},
   "outputs": [
    {
     "name": "stdout",
     "output_type": "stream",
     "text": [
      "len(inputDesign) =  1040\n"
     ]
    }
   ],
   "source": [
    "processSensitivityAnalysis.prepareSobolIndicesExperiment()\n"
   ]
  },
  {
   "cell_type": "code",
   "execution_count": 7,
   "metadata": {},
   "outputs": [
    {
     "name": "stdout",
     "output_type": "stream",
     "text": [
      "trend function args:  ['x']  trend function:  210000 \n",
      "\n",
      "Please be aware that the number of elements in the argument list has to be the same as the dimension of the process:  1\n",
      "trend function args:  ['x']  trend function:  10 \n",
      "\n",
      "Please be aware that the number of elements in the argument list has to be the same as the dimension of the process:  1\n"
     ]
    }
   ],
   "source": [
    "reload(ngps)\n",
    "inputDes = np.load('inputDesign.npy',allow_pickle=True)\n",
    "inputDesNc = np.load('inputDesignNc.npy',allow_pickle=True)\n",
    "processSensitivityAnalysis = ngps.NdGaussianProcessSensitivityAnalysis(inputVarList, \n",
    "                                                                       outputVariables,\n",
    "                                                                       sampleFunction,\n",
    "                                                                       soloFunction,\n",
    "                                                                       size)\n",
    "processSensitivityAnalysis.inputDesign = inputDes\n",
    "processSensitivityAnalysis._inputDesignNC = inputDesNc"
   ]
  },
  {
   "cell_type": "markdown",
   "metadata": {},
   "source": [
    "###### Ensuite on récupère les sorties associées aux entrées génerées. \n",
    "L'idée du postprocessing est d'identifier si dans les sorties il y a des valeurs de type np.nan, et de refaire les experiences manquantes tant qu'il y a des np.nan de présents.\n",
    "\n",
    "**Ceci crée quelques problèmes : En effet, si le calcul numérique n'a pas pu aboutir avec une certaine réalisation des variables en entrée, est-ce que cela veut dire que cette réalisation est défaillante? Va-t-on l'inclure dans le cas du calcul de la défaillance ou de la sensibilité? Car si on l'inclut pas, il se peut qu'on oublie un nombre conséquent de modes défaillants. Solution : changer le modèle informatique et le rendre robuste à ces erreurs, ou faire une étude précise avec ces réalisation particulières.**\n",
    "\n",
    "\n",
    "La solution retenue pour génerer les experiences manquantes est d'itérer au dessus de chaque index de la sortie ou se trouvent les nans, de refaire une experience de sobol de taille 1 ( donc qui renverra d+2 valeurs, avec d la dimension de l'entrée), de générer les sorties correspondant aux entrées (recommencer si il s'y trouve un np.nan), et de remplacer les d+2 valeurs du inputDesign d'entrée avec celles que l'on vient de regénérer. "
   ]
  },
  {
   "cell_type": "code",
   "execution_count": 8,
   "metadata": {
    "scrolled": false
   },
   "outputs": [
    {
     "name": "stdout",
     "output_type": "stream",
     "text": [
      "shape deflection:  (1040, 103)  should be [N,10X] something\n",
      "maxDeflection list:  [22.17614215 16.80989185 21.93583895 17.41561363 22.50603087 17.95891894\n",
      " 18.73175937 23.28153639 26.45604793 22.76542661 19.65620801 25.0052461\n",
      " 29.64726163 20.36505131 19.36147347 17.6870062  16.26091805 19.65929871\n",
      " 13.06834139 20.89955123 17.16247955 21.05945664 22.91020409 22.52660179\n",
      " 18.57490994 20.00832017 18.25249565 20.87327908 21.16395579 22.51000968\n",
      " 15.45092384 19.07723803 22.49262591 18.1702287  16.70941053 15.60378439\n",
      " 21.28061765 19.58798781 19.91709646 15.27863935 16.52542267 20.36816389]\n",
      "deflection std deviation  nan\n",
      "timed  94.546905518  s for function \" randomBeamFunctionSample \"\n",
      "Converting list of outputs into matrix: \n",
      "Element  1  has shape  (1040, 102)\n",
      "Element  2  has shape  (1040,)\n",
      "Final shape matrix:  (1040, 103)\n",
      "columns where nan :  [42]\n",
      "There were  1  errors (numpy.nan) while processing, trying to regenerate missing outputs \n",
      "\n",
      "index in sample:  2\n",
      "index to change:  [   2   42   82  122  162  202  242  282  322  362  402  442  482  522\n",
      "  562  602  642  682  722  762  802  842  882  922  962 1002]\n",
      "shape deflection:  (26, 103)  should be [N,10X] something\n",
      "maxDeflection list:  [20.23460017 19.04679399 19.94071627 20.23542267 20.25771418 20.23866406\n",
      " 20.23973044 20.23480397 20.23314859 20.23460017 14.81715492 20.23572998\n",
      " 20.91679191 20.22738266 20.2679902  20.21631356 20.25073572 20.23753711\n",
      " 20.23499977 20.23471436 20.23325597 20.23460494 20.23363405 20.23460017\n",
      " 20.22738926 25.54445112]\n",
      "deflection std deviation  1.5125129779668156\n",
      "timed  2.003796816  s for function \" randomBeamFunctionSample \"\n",
      "Converting list of outputs into matrix: \n",
      "Element  1  has shape  (26, 102)\n",
      "Element  2  has shape  (26,)\n",
      "Final shape matrix:  (26, 103)\n",
      "new input design length:  26\n",
      "new output design shape:  (26, 103)\n",
      " - Correction assertion passed - \n",
      "\n"
     ]
    },
    {
     "ename": "AssertionError",
     "evalue": "should have no nan anymore",
     "output_type": "error",
     "traceback": [
      "\u001b[0;31m---------------------------------------------------------------------------\u001b[0m",
      "\u001b[0;31mAssertionError\u001b[0m                            Traceback (most recent call last)",
      "\u001b[0;32m<ipython-input-8-b4958898d5eb>\u001b[0m in \u001b[0;36m<module>\u001b[0;34m\u001b[0m\n\u001b[0;32m----> 1\u001b[0;31m \u001b[0mprocessSensitivityAnalysis\u001b[0m\u001b[0;34m.\u001b[0m\u001b[0mgetOutputDesignAndPostprocess\u001b[0m\u001b[0;34m(\u001b[0m\u001b[0;34m)\u001b[0m\u001b[0;34m\u001b[0m\u001b[0;34m\u001b[0m\u001b[0m\n\u001b[0m",
      "\u001b[0;32m~/Documents/Ecole_Fichiers_Importants/stage_phimeca/docsPhimecaStage/project_sensitivity_analysis_stochastic_fields/gitRepo/NdGaussianProcessSensitivity.py\u001b[0m in \u001b[0;36mgetOutputDesignAndPostprocess\u001b[0;34m(self)\u001b[0m\n\u001b[1;32m    111\u001b[0m             \u001b[0moutputDesignList\u001b[0m     \u001b[0;34m=\u001b[0m \u001b[0;34m[\u001b[0m\u001b[0moutputDesign\u001b[0m\u001b[0;34m]\u001b[0m\u001b[0;34m\u001b[0m\u001b[0;34m\u001b[0m\u001b[0m\n\u001b[1;32m    112\u001b[0m         \u001b[0mself\u001b[0m\u001b[0;34m.\u001b[0m\u001b[0m_outputDesignListNC\u001b[0m \u001b[0;34m=\u001b[0m \u001b[0moutputDesignList\u001b[0m\u001b[0;34m\u001b[0m\u001b[0;34m\u001b[0m\u001b[0m\n\u001b[0;32m--> 113\u001b[0;31m         \u001b[0mself\u001b[0m\u001b[0;34m.\u001b[0m\u001b[0m_postProcessOutputDesign\u001b[0m\u001b[0;34m(\u001b[0m\u001b[0;34m)\u001b[0m\u001b[0;34m\u001b[0m\u001b[0;34m\u001b[0m\u001b[0m\n\u001b[0m\u001b[1;32m    114\u001b[0m \u001b[0;34m\u001b[0m\u001b[0m\n\u001b[1;32m    115\u001b[0m     \u001b[0;32mdef\u001b[0m \u001b[0m_postProcessOutputDesign\u001b[0m\u001b[0;34m(\u001b[0m\u001b[0mself\u001b[0m\u001b[0;34m)\u001b[0m\u001b[0;34m:\u001b[0m\u001b[0;34m\u001b[0m\u001b[0;34m\u001b[0m\u001b[0m\n",
      "\u001b[0;32m~/Documents/Ecole_Fichiers_Importants/stage_phimeca/docsPhimecaStage/project_sensitivity_analysis_stochastic_fields/gitRepo/NdGaussianProcessSensitivity.py\u001b[0m in \u001b[0;36m_postProcessOutputDesign\u001b[0;34m(self)\u001b[0m\n\u001b[1;32m    151\u001b[0m             \u001b[0;32massert\u001b[0m \u001b[0mnumpy\u001b[0m\u001b[0;34m.\u001b[0m\u001b[0mallclose\u001b[0m\u001b[0;34m(\u001b[0m\u001b[0moutputMatrix0\u001b[0m\u001b[0;34m,\u001b[0m\u001b[0moutputMatrix\u001b[0m\u001b[0;34m,\u001b[0m \u001b[0mequal_nan\u001b[0m\u001b[0;34m=\u001b[0m\u001b[0;32mTrue\u001b[0m\u001b[0;34m)\u001b[0m \u001b[0;34m==\u001b[0m \u001b[0;32mFalse\u001b[0m\u001b[0;34m,\u001b[0m               \u001b[0;34m\"after correction they should be some difference\"\u001b[0m\u001b[0;34m\u001b[0m\u001b[0;34m\u001b[0m\u001b[0m\n\u001b[1;32m    152\u001b[0m             \u001b[0mprint\u001b[0m\u001b[0;34m(\u001b[0m\u001b[0;34m' - Correction assertion passed - \\n'\u001b[0m\u001b[0;34m)\u001b[0m\u001b[0;34m\u001b[0m\u001b[0;34m\u001b[0m\u001b[0m\n\u001b[0;32m--> 153\u001b[0;31m             \u001b[0;32massert\u001b[0m \u001b[0mnumpy\u001b[0m\u001b[0;34m.\u001b[0m\u001b[0misnan\u001b[0m\u001b[0;34m(\u001b[0m\u001b[0moutputMatrix\u001b[0m\u001b[0;34m)\u001b[0m\u001b[0;34m.\u001b[0m\u001b[0many\u001b[0m\u001b[0;34m(\u001b[0m\u001b[0;34m)\u001b[0m \u001b[0;34m==\u001b[0m \u001b[0;32mFalse\u001b[0m\u001b[0;34m,\u001b[0m \u001b[0;34m\"should have no nan anymore\"\u001b[0m\u001b[0;34m\u001b[0m\u001b[0;34m\u001b[0m\u001b[0m\n\u001b[0m\u001b[1;32m    154\u001b[0m             \u001b[0mself\u001b[0m\u001b[0;34m.\u001b[0m\u001b[0moutputDesignList\u001b[0m   \u001b[0;34m=\u001b[0m \u001b[0mself\u001b[0m\u001b[0;34m.\u001b[0m\u001b[0mwrappedFunction\u001b[0m\u001b[0;34m.\u001b[0m\u001b[0mmatrixToOutputList\u001b[0m\u001b[0;34m(\u001b[0m\u001b[0moutputMatrix\u001b[0m\u001b[0;34m)\u001b[0m\u001b[0;34m\u001b[0m\u001b[0;34m\u001b[0m\u001b[0m\n\u001b[1;32m    155\u001b[0m         \u001b[0;32melse\u001b[0m \u001b[0;34m:\u001b[0m\u001b[0;34m\u001b[0m\u001b[0;34m\u001b[0m\u001b[0m\n",
      "\u001b[0;31mAssertionError\u001b[0m: should have no nan anymore"
     ]
    }
   ],
   "source": [
    "processSensitivityAnalysis.getOutputDesignAndPostprocess()"
   ]
  },
  {
   "cell_type": "markdown",
   "metadata": {},
   "source": [
    "Le *timing* vient de la classe ***custum_wraps***, qui est pour l'instant assez inutile, mais permet de prendre en main les décorateurs..."
   ]
  },
  {
   "cell_type": "code",
   "execution_count": 9,
   "metadata": {},
   "outputs": [
    {
     "ename": "TypeError",
     "evalue": "object of type 'NoneType' has no len()",
     "output_type": "error",
     "traceback": [
      "\u001b[0;31m---------------------------------------------------------------------------\u001b[0m",
      "\u001b[0;31mTypeError\u001b[0m                                 Traceback (most recent call last)",
      "\u001b[0;32m<ipython-input-9-e33b8f2c38f3>\u001b[0m in \u001b[0;36m<module>\u001b[0;34m\u001b[0m\n\u001b[0;32m----> 1\u001b[0;31m \u001b[0mprint\u001b[0m\u001b[0;34m(\u001b[0m\u001b[0mlen\u001b[0m\u001b[0;34m(\u001b[0m\u001b[0mprocessSensitivityAnalysis\u001b[0m\u001b[0;34m.\u001b[0m\u001b[0moutputDesignList\u001b[0m\u001b[0;34m)\u001b[0m\u001b[0;34m)\u001b[0m \u001b[0;31m## to be sure\u001b[0m\u001b[0;34m\u001b[0m\u001b[0;34m\u001b[0m\u001b[0m\n\u001b[0m\u001b[1;32m      2\u001b[0m \u001b[0moutput\u001b[0m \u001b[0;34m=\u001b[0m \u001b[0mprocessSensitivityAnalysis\u001b[0m\u001b[0;34m.\u001b[0m\u001b[0moutputDesignList\u001b[0m \u001b[0;31m## We take the corrected output design\u001b[0m\u001b[0;34m\u001b[0m\u001b[0;34m\u001b[0m\u001b[0m\n",
      "\u001b[0;31mTypeError\u001b[0m: object of type 'NoneType' has no len()"
     ]
    }
   ],
   "source": [
    "print(len(processSensitivityAnalysis.outputDesignList)) ## to be sure\n",
    "output = processSensitivityAnalysis.outputDesignList ## We take the corrected output design"
   ]
  },
  {
   "cell_type": "code",
   "execution_count": 11,
   "metadata": {},
   "outputs": [
    {
     "name": "stdout",
     "output_type": "stream",
     "text": [
      "shape deflection:  (26, 103)  should be [N,10X] something\n",
      "maxDeflection list:  [20.05182811 27.00287843 21.02573476 20.01484913 19.97626048 20.05800745\n",
      " 20.04131906 20.05013025 20.0484479  20.05182811 22.00091342 20.12637833\n",
      " 21.01088981 19.97992731 20.12894104 20.04364244 20.0676662  20.05427863\n",
      " 20.04766222 20.05362698 20.05133401 20.05091146 20.05193293 20.05182811\n",
      " 19.80676512 22.58420679]\n",
      "deflection std deviation  1.4397736498007525\n",
      "timed  15.345683575  s for function \" randomBeamFunctionSample \"\n",
      "Converting list of outputs into matrix: \n",
      "Element  1  has shape  (26, 102)\n",
      "Element  2  has shape  (26,)\n",
      "Final shape matrix:  (26, 103)\n",
      "new input design length:  26\n",
      "new output design shape:  (26, 103)\n",
      "[[56.13092759748796, -0.8150613741076375, 24.45330210837459, -0.7601410661019398, 17.272603124272663, -1.0136672267595266, 14.008502463520447, -0.19004801666477714, 46.81703863407166, -0.16577048788226242, 18.386644735923433, 0.771570610058363, 12.411020418344885, -0.694497614029269, 9.081549133006659, 0.20150724405739076, 6.935434879614702, 0.78981556242347, 6.8804427032477244, 0.9520032597947068, 5.175122672795613, 7971.187082079894, 461.47157524836587, 104.73894647359259], [53.79358477309206, 1.0173144212597138, 23.671524292458145, -0.1238953406187478, 18.368959572163583, -0.16245160972431355, 11.129621281162661, -1.9942436747514747, 45.857202438661666, -0.6632616137934513, 20.028626323382646, -0.473343909074495, 11.335515111217628, -0.2685164397776356, 10.26275562366742, 0.6230046420005227, 8.160569585436289, -0.10352522792534415, 6.361646307428234, -0.19602336454643018, 4.81012627818363, 7972.704363389295, 557.8924506011975, 117.96660201588345], [53.79358477309206, -0.8150613741076375, 24.45330210837459, -0.7601410661019398, 17.272603124272663, -1.0136672267595266, 14.008502463520447, -0.19004801666477714, 46.81703863407166, -0.16577048788226242, 18.386644735923433, 0.771570610058363, 12.411020418344885, -0.694497614029269, 9.081549133006659, 0.20150724405739076, 6.935434879614702, 0.78981556242347, 6.8804427032477244, 0.9520032597947068, 5.175122672795613, 7971.187082079894, 461.47157524836587, 104.73894647359259], [56.13092759748796, 1.0173144212597138, 24.45330210837459, -0.7601410661019398, 17.272603124272663, -1.0136672267595266, 14.008502463520447, -0.19004801666477714, 46.81703863407166, -0.16577048788226242, 18.386644735923433, 0.771570610058363, 12.411020418344885, -0.694497614029269, 9.081549133006659, 0.20150724405739076, 6.935434879614702, 0.78981556242347, 6.8804427032477244, 0.9520032597947068, 5.175122672795613, 7971.187082079894, 461.47157524836587, 104.73894647359259], [56.13092759748796, -0.8150613741076375, 23.671524292458145, -0.7601410661019398, 17.272603124272663, -1.0136672267595266, 14.008502463520447, -0.19004801666477714, 46.81703863407166, -0.16577048788226242, 18.386644735923433, 0.771570610058363, 12.411020418344885, -0.694497614029269, 9.081549133006659, 0.20150724405739076, 6.935434879614702, 0.78981556242347, 6.8804427032477244, 0.9520032597947068, 5.175122672795613, 7971.187082079894, 461.47157524836587, 104.73894647359259], [56.13092759748796, -0.8150613741076375, 24.45330210837459, -0.1238953406187478, 17.272603124272663, -1.0136672267595266, 14.008502463520447, -0.19004801666477714, 46.81703863407166, -0.16577048788226242, 18.386644735923433, 0.771570610058363, 12.411020418344885, -0.694497614029269, 9.081549133006659, 0.20150724405739076, 6.935434879614702, 0.78981556242347, 6.8804427032477244, 0.9520032597947068, 5.175122672795613, 7971.187082079894, 461.47157524836587, 104.73894647359259], [56.13092759748796, -0.8150613741076375, 24.45330210837459, -0.7601410661019398, 18.368959572163583, -1.0136672267595266, 14.008502463520447, -0.19004801666477714, 46.81703863407166, -0.16577048788226242, 18.386644735923433, 0.771570610058363, 12.411020418344885, -0.694497614029269, 9.081549133006659, 0.20150724405739076, 6.935434879614702, 0.78981556242347, 6.8804427032477244, 0.9520032597947068, 5.175122672795613, 7971.187082079894, 461.47157524836587, 104.73894647359259], [56.13092759748796, -0.8150613741076375, 24.45330210837459, -0.7601410661019398, 17.272603124272663, -0.16245160972431355, 14.008502463520447, -0.19004801666477714, 46.81703863407166, -0.16577048788226242, 18.386644735923433, 0.771570610058363, 12.411020418344885, -0.694497614029269, 9.081549133006659, 0.20150724405739076, 6.935434879614702, 0.78981556242347, 6.8804427032477244, 0.9520032597947068, 5.175122672795613, 7971.187082079894, 461.47157524836587, 104.73894647359259], [56.13092759748796, -0.8150613741076375, 24.45330210837459, -0.7601410661019398, 17.272603124272663, -1.0136672267595266, 11.129621281162661, -0.19004801666477714, 46.81703863407166, -0.16577048788226242, 18.386644735923433, 0.771570610058363, 12.411020418344885, -0.694497614029269, 9.081549133006659, 0.20150724405739076, 6.935434879614702, 0.78981556242347, 6.8804427032477244, 0.9520032597947068, 5.175122672795613, 7971.187082079894, 461.47157524836587, 104.73894647359259], [56.13092759748796, -0.8150613741076375, 24.45330210837459, -0.7601410661019398, 17.272603124272663, -1.0136672267595266, 14.008502463520447, -1.9942436747514747, 46.81703863407166, -0.16577048788226242, 18.386644735923433, 0.771570610058363, 12.411020418344885, -0.694497614029269, 9.081549133006659, 0.20150724405739076, 6.935434879614702, 0.78981556242347, 6.8804427032477244, 0.9520032597947068, 5.175122672795613, 7971.187082079894, 461.47157524836587, 104.73894647359259], [56.13092759748796, -0.8150613741076375, 24.45330210837459, -0.7601410661019398, 17.272603124272663, -1.0136672267595266, 14.008502463520447, -0.19004801666477714, 45.857202438661666, -0.16577048788226242, 18.386644735923433, 0.771570610058363, 12.411020418344885, -0.694497614029269, 9.081549133006659, 0.20150724405739076, 6.935434879614702, 0.78981556242347, 6.8804427032477244, 0.9520032597947068, 5.175122672795613, 7971.187082079894, 461.47157524836587, 104.73894647359259], [56.13092759748796, -0.8150613741076375, 24.45330210837459, -0.7601410661019398, 17.272603124272663, -1.0136672267595266, 14.008502463520447, -0.19004801666477714, 46.81703863407166, -0.6632616137934513, 18.386644735923433, 0.771570610058363, 12.411020418344885, -0.694497614029269, 9.081549133006659, 0.20150724405739076, 6.935434879614702, 0.78981556242347, 6.8804427032477244, 0.9520032597947068, 5.175122672795613, 7971.187082079894, 461.47157524836587, 104.73894647359259], [56.13092759748796, -0.8150613741076375, 24.45330210837459, -0.7601410661019398, 17.272603124272663, -1.0136672267595266, 14.008502463520447, -0.19004801666477714, 46.81703863407166, -0.16577048788226242, 20.028626323382646, 0.771570610058363, 12.411020418344885, -0.694497614029269, 9.081549133006659, 0.20150724405739076, 6.935434879614702, 0.78981556242347, 6.8804427032477244, 0.9520032597947068, 5.175122672795613, 7971.187082079894, 461.47157524836587, 104.73894647359259], [56.13092759748796, -0.8150613741076375, 24.45330210837459, -0.7601410661019398, 17.272603124272663, -1.0136672267595266, 14.008502463520447, -0.19004801666477714, 46.81703863407166, -0.16577048788226242, 18.386644735923433, -0.473343909074495, 12.411020418344885, -0.694497614029269, 9.081549133006659, 0.20150724405739076, 6.935434879614702, 0.78981556242347, 6.8804427032477244, 0.9520032597947068, 5.175122672795613, 7971.187082079894, 461.47157524836587, 104.73894647359259], [56.13092759748796, -0.8150613741076375, 24.45330210837459, -0.7601410661019398, 17.272603124272663, -1.0136672267595266, 14.008502463520447, -0.19004801666477714, 46.81703863407166, -0.16577048788226242, 18.386644735923433, 0.771570610058363, 11.335515111217628, -0.694497614029269, 9.081549133006659, 0.20150724405739076, 6.935434879614702, 0.78981556242347, 6.8804427032477244, 0.9520032597947068, 5.175122672795613, 7971.187082079894, 461.47157524836587, 104.73894647359259], [56.13092759748796, -0.8150613741076375, 24.45330210837459, -0.7601410661019398, 17.272603124272663, -1.0136672267595266, 14.008502463520447, -0.19004801666477714, 46.81703863407166, -0.16577048788226242, 18.386644735923433, 0.771570610058363, 12.411020418344885, -0.2685164397776356, 9.081549133006659, 0.20150724405739076, 6.935434879614702, 0.78981556242347, 6.8804427032477244, 0.9520032597947068, 5.175122672795613, 7971.187082079894, 461.47157524836587, 104.73894647359259], [56.13092759748796, -0.8150613741076375, 24.45330210837459, -0.7601410661019398, 17.272603124272663, -1.0136672267595266, 14.008502463520447, -0.19004801666477714, 46.81703863407166, -0.16577048788226242, 18.386644735923433, 0.771570610058363, 12.411020418344885, -0.694497614029269, 10.26275562366742, 0.20150724405739076, 6.935434879614702, 0.78981556242347, 6.8804427032477244, 0.9520032597947068, 5.175122672795613, 7971.187082079894, 461.47157524836587, 104.73894647359259], [56.13092759748796, -0.8150613741076375, 24.45330210837459, -0.7601410661019398, 17.272603124272663, -1.0136672267595266, 14.008502463520447, -0.19004801666477714, 46.81703863407166, -0.16577048788226242, 18.386644735923433, 0.771570610058363, 12.411020418344885, -0.694497614029269, 9.081549133006659, 0.6230046420005227, 6.935434879614702, 0.78981556242347, 6.8804427032477244, 0.9520032597947068, 5.175122672795613, 7971.187082079894, 461.47157524836587, 104.73894647359259], [56.13092759748796, -0.8150613741076375, 24.45330210837459, -0.7601410661019398, 17.272603124272663, -1.0136672267595266, 14.008502463520447, -0.19004801666477714, 46.81703863407166, -0.16577048788226242, 18.386644735923433, 0.771570610058363, 12.411020418344885, -0.694497614029269, 9.081549133006659, 0.20150724405739076, 8.160569585436289, 0.78981556242347, 6.8804427032477244, 0.9520032597947068, 5.175122672795613, 7971.187082079894, 461.47157524836587, 104.73894647359259], [56.13092759748796, -0.8150613741076375, 24.45330210837459, -0.7601410661019398, 17.272603124272663, -1.0136672267595266, 14.008502463520447, -0.19004801666477714, 46.81703863407166, -0.16577048788226242, 18.386644735923433, 0.771570610058363, 12.411020418344885, -0.694497614029269, 9.081549133006659, 0.20150724405739076, 6.935434879614702, -0.10352522792534415, 6.8804427032477244, 0.9520032597947068, 5.175122672795613, 7971.187082079894, 461.47157524836587, 104.73894647359259], [56.13092759748796, -0.8150613741076375, 24.45330210837459, -0.7601410661019398, 17.272603124272663, -1.0136672267595266, 14.008502463520447, -0.19004801666477714, 46.81703863407166, -0.16577048788226242, 18.386644735923433, 0.771570610058363, 12.411020418344885, -0.694497614029269, 9.081549133006659, 0.20150724405739076, 6.935434879614702, 0.78981556242347, 6.361646307428234, 0.9520032597947068, 5.175122672795613, 7971.187082079894, 461.47157524836587, 104.73894647359259], [56.13092759748796, -0.8150613741076375, 24.45330210837459, -0.7601410661019398, 17.272603124272663, -1.0136672267595266, 14.008502463520447, -0.19004801666477714, 46.81703863407166, -0.16577048788226242, 18.386644735923433, 0.771570610058363, 12.411020418344885, -0.694497614029269, 9.081549133006659, 0.20150724405739076, 6.935434879614702, 0.78981556242347, 6.8804427032477244, -0.19602336454643018, 5.175122672795613, 7971.187082079894, 461.47157524836587, 104.73894647359259], [56.13092759748796, -0.8150613741076375, 24.45330210837459, -0.7601410661019398, 17.272603124272663, -1.0136672267595266, 14.008502463520447, -0.19004801666477714, 46.81703863407166, -0.16577048788226242, 18.386644735923433, 0.771570610058363, 12.411020418344885, -0.694497614029269, 9.081549133006659, 0.20150724405739076, 6.935434879614702, 0.78981556242347, 6.8804427032477244, 0.9520032597947068, 4.81012627818363, 7971.187082079894, 461.47157524836587, 104.73894647359259], [56.13092759748796, -0.8150613741076375, 24.45330210837459, -0.7601410661019398, 17.272603124272663, -1.0136672267595266, 14.008502463520447, -0.19004801666477714, 46.81703863407166, -0.16577048788226242, 18.386644735923433, 0.771570610058363, 12.411020418344885, -0.694497614029269, 9.081549133006659, 0.20150724405739076, 6.935434879614702, 0.78981556242347, 6.8804427032477244, 0.9520032597947068, 5.175122672795613, 7972.704363389295, 461.47157524836587, 104.73894647359259], [56.13092759748796, -0.8150613741076375, 24.45330210837459, -0.7601410661019398, 17.272603124272663, -1.0136672267595266, 14.008502463520447, -0.19004801666477714, 46.81703863407166, -0.16577048788226242, 18.386644735923433, 0.771570610058363, 12.411020418344885, -0.694497614029269, 9.081549133006659, 0.20150724405739076, 6.935434879614702, 0.78981556242347, 6.8804427032477244, 0.9520032597947068, 5.175122672795613, 7971.187082079894, 557.8924506011975, 104.73894647359259], [56.13092759748796, -0.8150613741076375, 24.45330210837459, -0.7601410661019398, 17.272603124272663, -1.0136672267595266, 14.008502463520447, -0.19004801666477714, 46.81703863407166, -0.16577048788226242, 18.386644735923433, 0.771570610058363, 12.411020418344885, -0.694497614029269, 9.081549133006659, 0.20150724405739076, 6.935434879614702, 0.78981556242347, 6.8804427032477244, 0.9520032597947068, 5.175122672795613, 7971.187082079894, 461.47157524836587, 117.96660201588345]]\n",
      "[[ 1.72814167  6.16826645 11.83897302 ... 10.35092424  5.43536562\n",
      "  20.05182811]\n",
      " [ 1.63691179  5.9012016  11.34262279 ... 12.80783483  6.71472856\n",
      "  27.00287843]\n",
      " [ 1.72814167  6.16826645 11.83897302 ... 10.35092427  5.43536563\n",
      "  21.02573476]\n",
      " ...\n",
      " [ 1.72814167  6.16826645 11.83897302 ... 10.35092424  5.43536562\n",
      "  20.05182811]\n",
      " [ 1.42436716  5.08400228  9.75790626 ... 12.51366876  6.57104267\n",
      "  19.80676512]\n",
      " [ 1.94639155  6.94726707 13.33413659 ... 11.65815966  6.12180697\n",
      "  22.58420679]]\n"
     ]
    }
   ],
   "source": [
    "a,b=processSensitivityAnalysis._regenerate_missing_vals_safe()\n",
    "print(a)\n",
    "print(b)"
   ]
  },
  {
   "cell_type": "code",
   "execution_count": null,
   "metadata": {},
   "outputs": [],
   "source": [
    "output2 = processSensitivityAnalysis._outputDesignListNC\n",
    "print(processSensitivityAnalysis.inputDesign[42])\n",
    "print(processSensitivityAnalysis.outputDesignList[1][42,...])\n",
    "uu=ot.SaltelliSensitivityAlgorithm(inputDes,np.expand_dims(output[1], 1), size)\n",
    "print(len(inputDes))\n",
    "inputArr = np.array(inputDes)\n",
    "np.argwhere(np.isnan(output[1]))\n",
    "output[1][42]"
   ]
  },
  {
   "cell_type": "code",
   "execution_count": 55,
   "metadata": {},
   "outputs": [
    {
     "data": {
      "text/plain": [
       "nan"
      ]
     },
     "execution_count": 55,
     "metadata": {},
     "output_type": "execute_result"
    }
   ],
   "source": [
    "processSensitivityAnalysis.outputDesignList[1][42]\n"
   ]
  },
  {
   "cell_type": "code",
   "execution_count": 14,
   "metadata": {},
   "outputs": [
    {
     "name": "stdout",
     "output_type": "stream",
     "text": [
      "new shape is:  102\n",
      "sobol field shape:  [1, 102]\n",
      "Shape sensitivity field :  (1, 102)\n",
      "new shape is:  1\n",
      "[22.17614215 16.80989185 21.97477408 ... 20.37726383 25.97458224\n",
      " 13.46135855]\n"
     ]
    },
    {
     "data": {
      "text/html": [
       "<p>[nan,nan,nan,nan,nan,nan,nan,nan,nan,nan,nan,nan,nan,nan,nan,nan,nan,nan,nan,nan,nan,nan,nan,nan]#24</p>"
      ],
      "text/plain": [
       "class=Point name=Unnamed dimension=24 values=[nan,nan,nan,nan,nan,nan,nan,nan,nan,nan,nan,nan,nan,nan,nan,nan,nan,nan,nan,nan,nan,nan,nan,nan]"
      ]
     },
     "execution_count": 14,
     "metadata": {},
     "output_type": "execute_result"
    }
   ],
   "source": [
    "test = processSensitivityAnalysis.getSobolIndiciesKLCoefs()\n",
    "import matplotlib.pyplot as plt\n",
    "test[0][0,2].getFirstOrderIndices()"
   ]
  },
  {
   "cell_type": "code",
   "execution_count": 22,
   "metadata": {},
   "outputs": [
    {
     "name": "stdout",
     "output_type": "stream",
     "text": [
      "False\n",
      "False\n",
      "[  1.74255148   6.17303613  11.8903633   17.67049123  23.49888823\n",
      "  29.38239247  35.31138731  41.25849752  47.1847756   53.048955\n",
      "  58.8174411   64.47281592  70.01929805  75.48413992  80.91513412\n",
      "  86.37499059  91.93376928  97.66056056 103.61551779 109.84280963\n",
      " 116.36520093 123.18065661 130.26159376 137.55701273 144.99773848\n",
      " 152.5045597  159.99821791 167.40988188 174.69051824 181.81714062\n",
      " 188.79521826 195.65673697 202.45423997 209.25233836 216.11796977\n",
      " 223.11067274 230.27444668 237.63191962 245.18119061 252.89609094\n",
      " 260.72920856 268.61777104 276.49143768 284.28074331 291.92528363\n",
      " 297.43900688 297.36119331 292.61143035 287.61497793 282.40808202\n",
      " 277.03353032 271.53371535 265.94501212 260.29436591 254.59808488\n",
      " 248.86299341 243.08917305 237.27407301 231.41649613 225.52013171\n",
      " 219.59580689 213.66189637 207.74330229 201.86861431 196.06645136\n",
      " 190.3614563  184.77069072 179.30082675 173.94702394 168.69306007\n",
      " 163.5131772  158.3752344  153.24482968 148.08965317 142.88390229\n",
      " 137.61148101 132.26791215 126.8604817  121.40644013 115.93003655\n",
      " 110.45833185 105.01697843  99.62649185  94.2996543   89.04022503\n",
      "  83.84352704  78.69816952  73.58903373  68.50087079  63.42174802\n",
      "  58.34613661  53.2764321   48.22293506  43.20198226  38.23251978\n",
      "  33.33150357  28.50933913  23.76558053  19.08607771  14.44227534\n",
      "   9.79550321   5.12935014]\n",
      "[  1.74255148   6.17303613  11.8903633   17.67049123  23.49888823\n",
      "  29.38239247  35.31138731  41.25849752  47.1847756   53.048955\n",
      "  58.8174411   64.47281592  70.01929805  75.48413992  80.91513412\n",
      "  86.37499059  91.93376928  97.66056056 103.61551779 109.84280963\n",
      " 116.36520093 123.18065661 130.26159376 137.55701273 144.99773848\n",
      " 152.5045597  159.99821791 167.40988188 174.69051824 181.81714062\n",
      " 188.79521826 195.65673697 202.45423997 209.25233836 216.11796977\n",
      " 223.11067274 230.27444668 237.63191962 245.18119061 252.89609094\n",
      " 260.72920856 268.61777104 276.49143768 284.28074331 291.92528363\n",
      " 297.43900688 297.36119331 292.61143035 287.61497793 282.40808202\n",
      " 277.03353032 271.53371535 265.94501212 260.29436591 254.59808488\n",
      " 248.86299341 243.08917305 237.27407301 231.41649613 225.52013171\n",
      " 219.59580689 213.66189637 207.74330229 201.86861431 196.06645136\n",
      " 190.3614563  184.77069072 179.30082675 173.94702394 168.69306007\n",
      " 163.5131772  158.3752344  153.24482968 148.08965317 142.88390229\n",
      " 137.61148101 132.26791215 126.8604817  121.40644013 115.93003655\n",
      " 110.45833185 105.01697843  99.62649185  94.2996543   89.04022503\n",
      "  83.84352704  78.69816952  73.58903373  68.50087079  63.42174802\n",
      "  58.34613661  53.2764321   48.22293506  43.20198226  38.23251978\n",
      "  33.33150357  28.50933913  23.76558053  19.08607771  14.44227534\n",
      "   9.79550321   5.12935014]\n"
     ]
    }
   ],
   "source": [
    "inputArray = np.array(processSensitivityAnalysis.inputDesign)\n",
    "inputArrayNc = np.array(processSensitivityAnalysis._inputDesignNC)\n",
    "outputArray = processSensitivityAnalysis.outputDesignList[0]\n",
    "outputArrayNc = processSensitivityAnalysis._outputDesignListNC[0]\n",
    "print(np.array_equal(inputArray, inputArrayNc))\n",
    "print(np.array_equal(outputArray, outputArrayNc))\n",
    "print(outputArray[43])\n",
    "print(outputArrayNc[43])\n"
   ]
  },
  {
   "cell_type": "code",
   "execution_count": null,
   "metadata": {},
   "outputs": [],
   "source": [
    "print(np.argwhere(np.isnan(output)))\n",
    "print(min(outputList[0]))\n",
    "print(max(outputList[0]))\n",
    "print(processSensitivityAnalysis.inputDesign)\n",
    "print(np.expand_dims(output[...,50], 1))"
   ]
  },
  {
   "cell_type": "code",
   "execution_count": null,
   "metadata": {},
   "outputs": [],
   "source": [
    "inputDesign  = processSensitivityAnalysis.inputDesign\n",
    "inputList    = np.asarray(inputDesign).tolist()\n",
    "print(len(inputList))\n",
    "print(len(outputList[10]))\n",
    "sensitivityAnalysisList = [ot.SaltelliSensitivityAlgorithm(inputDesign, np.expand_dims(output[...,i], 1), size) for i in range(len(outputList))]"
   ]
  },
  {
   "cell_type": "code",
   "execution_count": null,
   "metadata": {},
   "outputs": [],
   "source": [
    "sensitivityAnalysisList[0].getFirstOrderIndices()"
   ]
  },
  {
   "cell_type": "code",
   "execution_count": null,
   "metadata": {},
   "outputs": [],
   "source": [
    "import matplotlib.pyplot as plt\n",
    "sobolIndiciesList = [sensitivityAnalysisList[i].getFirstOrderIndices() for i in range(len(sensitivityAnalysisList))]\n",
    "sobolIndiciesArr  = np.asarray(sobolIndiciesList)\n",
    "print(sobolIndiciesArr.shape)\n",
    "plt.imshow(sobolIndiciesArr.T)"
   ]
  },
  {
   "cell_type": "code",
   "execution_count": null,
   "metadata": {},
   "outputs": [],
   "source": [
    "help(inputDesign.add)\n"
   ]
  },
  {
   "cell_type": "code",
   "execution_count": null,
   "metadata": {},
   "outputs": [],
   "source": [
    "inputDesign[0] = np.arange(24).tolist()\n",
    "inputDesign[]\n"
   ]
  },
  {
   "cell_type": "code",
   "execution_count": null,
   "metadata": {},
   "outputs": [],
   "source": [
    "len(outputVariables.keys())\n"
   ]
  },
  {
   "cell_type": "code",
   "execution_count": null,
   "metadata": {},
   "outputs": [],
   "source": [
    "x=functionWrapper.results[1]\n",
    "print(x.shape)\n",
    "x1 = x[:,1,:]\n",
    "print(x1.shape)"
   ]
  },
  {
   "cell_type": "code",
   "execution_count": null,
   "metadata": {},
   "outputs": [],
   "source": []
  }
 ],
 "metadata": {
  "kernelspec": {
   "display_name": "Python 3",
   "language": "python",
   "name": "python3"
  },
  "language_info": {
   "codemirror_mode": {
    "name": "ipython",
    "version": 3
   },
   "file_extension": ".py",
   "mimetype": "text/x-python",
   "name": "python",
   "nbconvert_exporter": "python",
   "pygments_lexer": "ipython3",
   "version": "3.6.7"
  }
 },
 "nbformat": 4,
 "nbformat_minor": 2
}
