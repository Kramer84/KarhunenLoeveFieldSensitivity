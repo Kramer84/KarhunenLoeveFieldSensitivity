{
 "cells": [
  {
   "cell_type": "markdown",
   "metadata": {},
   "source": [
    "### Il est explicité ici l'utilisation des ensembles de codes écrits pour l'analyse de sensibilité sur des champs stochastiques et variables aléatoires.\n",
    "\n",
    "### Il est d'abord conseillé d'installer l'environnement virtuel dont la définition se trouvent dans le fichier yaml\n",
    "\n",
    "Nous allons faire ici l'analyse de sensiblité sur une poutre en flexion représentée par 100 éléments finis, et ou le module young et le diamètre de chaque élément est déterminé par un processus gaussien en une dimension. La position de la force, sa norme, tout comme la densité du matérieau sont déterminés par des lois nomales gaussiennes.\n",
    "Dans la logique d'écriture de ces codes, il faut avoir un à priori sur les processus gaussiens, la loi qu'ils suivent, tout comme sur les paramètres des lois gaussiennes. Ensuite, il faut avoir une fonction python qui prend en entrée ces champs, et qui renvoie un ensemble connu de resultas. \n"
   ]
  },
  {
   "cell_type": "code",
   "execution_count": 1,
   "metadata": {},
   "outputs": [],
   "source": [
    "try:\n",
    "    import anastruct, openturns, numba, joblib\n",
    "except:\n",
    "    import os\n",
    "    if os.sys.platform == 'linux' :\n",
    "        file_path = 'sensitivityEnv.yml'\n",
    "        os.system('conda env create -f'+file_path)\n",
    "        # to have the right modules installed\n",
    "        print('now activate the environment and restart jupyter with other kernel')\n",
    "    else :\n",
    "        print('Do it alone')"
   ]
  },
  {
   "cell_type": "code",
   "execution_count": 27,
   "metadata": {},
   "outputs": [],
   "source": [
    "# Voici les deux scripts destinés à gérer l'analyse de sensibilité sur les champs stochastiques\n",
    "import NdGaussianProcessSensitivity as ngps\n",
    "import NdGaussianProcessConstructor as ngpc\n",
    "# Classes utilitaires\n",
    "import numpy                        as np\n",
    "import openturns                    as ot\n",
    "import matplotlib.pyplot            as plt\n",
    "from   importlib                import reload \n",
    "# on importe aussi les fonctions à étudier\n",
    "import RandomBeamGenerationClass    as rbgc"
   ]
  },
  {
   "cell_type": "markdown",
   "metadata": {},
   "source": [
    "D'abord, nous définisson l'ensemble de nos variables d'entrée, tout comme les variables de sortie :\n",
    "- L'on va définir un par un tout les processus et variables aléatoires utilisées dans notre model. Bien sûr cela implique d'avoir un à-priori sur le comportement de ces différentes lois probabilistes. \n",
    "- Néanmoins, comme nous en sommes à des codes d'essai, il serait assez trivial de rajouter la prossiblité de récuperer l'approximation d'un champ inconnu avec l'approcimation de Karhunen - Loeve, en présence d'un grand nombre de mesures.\n",
    "- La définition des éléments sur lesquels est construit le champ stochastique est un peu différent de la manière interne à openturns. En effet, s'étant placés directement dans un cadre de poutre en 'éléments finis, ou l'on a N+1 noeuds (N étant le nombre de poutres), il faut savoir si N est le nombre de mailles ou le nombre de noeuds. Dans le choix a été fait ici de définir la taille du maillage (grid_shape) de la manière suivante :\n",
    "> grid_shape = [[position_X0, longeur_totaleX, nombre_mailles], [position_Y0, longeur_totaleY, nombre_mailles], ..]\n",
    " "
   ]
  },
  {
   "cell_type": "code",
   "execution_count": 3,
   "metadata": {},
   "outputs": [
    {
     "name": "stdout",
     "output_type": "stream",
     "text": [
      "trend function args:  ['x']  trend function:  210000 \n",
      "\n",
      "Please be aware that the number of elements in the argument list has to be the same as the dimension of the process:  1\n",
      "trend function args:  ['x']  trend function:  10 \n",
      "\n",
      "Please be aware that the number of elements in the argument list has to be the same as the dimension of the process:  1\n"
     ]
    }
   ],
   "source": [
    "# process governing the young modulus for each element      (MPa)\n",
    "process_E = ngpc.NdGaussianProcessConstructor(dimension=1,\n",
    "                                              grid_shape=[[0,1000,100],],\n",
    "                                              covariance_model={'NameModel':'MaternModel',\n",
    "                                                                'amplitude':50000.,\n",
    "                                                                'scale':300,\n",
    "                                                                'nu':13/3},\n",
    "                                              trend_arguments=['x'],trend_function=210000)\n",
    "process_E.setName('E_')\n",
    "\n",
    "\n",
    "# process governing the diameter for each element          (mm)\n",
    "process_D = ngpc.NdGaussianProcessConstructor(dimension=1,\n",
    "                                              grid_shape=[[0,1000,100],],\n",
    "                                              covariance_model={'NameModel':'MaternModel',\n",
    "                                                                'amplitude':.3,\n",
    "                                                                'scale':250,\n",
    "                                                                'nu':7.4/3},\n",
    "                                              trend_arguments=['x'],trend_function=10)\n",
    "process_D.setName('D_')\n",
    "\n",
    "\n",
    "# random variable for the density of the material (kg/m³)\n",
    "rho         = 7850.\n",
    "sigma       = 750\n",
    "nameD       = 'Rho'\n",
    "RV_Rho = ngpc.NormalDistribution(mu = rho, sigma = sigma, name = nameD)\n",
    "\n",
    "\n",
    "# random variable for the position of the force   (mm) \n",
    "middle       = 500\n",
    "sigma_f      = 50\n",
    "namePos     = 'FP'\n",
    "RV_Fpos = ngpc.NormalDistribution(mu = middle, sigma = sigma_f, name = namePos)\n",
    "\n",
    "\n",
    "# random variable for the norm of the force    (N)\n",
    "muForce       = 100\n",
    "# we go from sigma = 15 to sigma = 1.5, as the influence is too important\n",
    "sigma_Fnor    = 5.5\n",
    "nameNor       = 'FN'\n",
    "RV_Fnorm = ngpc.NormalDistribution(mu = muForce, sigma = sigma_Fnor, name = nameNor)"
   ]
  },
  {
   "cell_type": "markdown",
   "metadata": {},
   "source": [
    "Il est important de noter que les processus et variables aléatoires doivent être définies à partir du module \n",
    "NdGaussianProcessConstructor, qui contient les classes suivantes : \n",
    "###### Classe pour construire un champ stochastique : \n",
    "> NdGaussianProcessConstructor.NdGaussianProcessConstructor() \n",
    "###### Classe pour construire une variables aléatoire  : \n",
    "> NdGaussianProcessConstructor.NormalDistribution() ## Classe openturns.Normal() suchargée\n",
    "###### Classe pour construire un vecteur de variables aléatoires normales : \n",
    "> NdGaussianProcessConstructor.RandomNormalVector() ## Classe openturns.PythonRandomVector surchargée. Cette dernière est utilisée en interne par NdGaussianProcessConstructor.\n",
    "\n",
    "**Finalement, l'autre particularité du NdGaussianProcessConstructor, est d'utiliser un objet _numpy.memmap_ modifiée, qui enregistre les échantillons de processus gaussiens sous forme de fichier temporaire dans le directoire d'utilisation des codes et les éfface en sortant du code**\n",
    "\n",
    "L'on définit ensuite les variables de sortie. Il faut connaître l'ordre dans lequel la fonction renvoie ses resultats connaitre leur nom comme leur dimension. \n",
    "    "
   ]
  },
  {
   "cell_type": "code",
   "execution_count": 4,
   "metadata": {},
   "outputs": [],
   "source": [
    "from importlib import reload\n",
    "reload(ngps)\n",
    "outputVariables = {'out1' :\n",
    "                   {\n",
    "                         'name'     : 'VonMisesStress',\n",
    "                         'position' : 0,\n",
    "                         'shape'    : (102,)  \n",
    "                    },\n",
    "                   'out2' :\n",
    "                   {\n",
    "                        'name'      : 'maxDeflection',\n",
    "                        'position'  : 1,\n",
    "                        'shape'     : (1,)\n",
    "                   }\n",
    "                  }\n",
    "#Pour utiliser notre fonction, un wrapper a été spécialement écrit pour faciliter l'accès aux fonctions mais\n",
    "#ce choix est entièrement dépendant de la manière dont a été définie la fonction sur laquelle vous travaillez.\n",
    "functionWrapper = rbgc.sampleAndSoloFunctionWrapper(process_E, process_D, RV_Rho, RV_Fpos, RV_Fnorm)\n"
   ]
  },
  {
   "cell_type": "markdown",
   "metadata": {},
   "source": [
    "###### Ensuite, on crée une instance pour l'analyse de sensibilité.\n",
    "Il faut donner en entrée une liste contenant les procéssus et les variables aléatoires **dans l'ordre** dans lequel la fonction les recoit. \n",
    "\n",
    "*Pour cela il faut aussi connaître l'ordre des variables d'entrée de la fonction et leur nombre.*\n",
    "\n",
    "**Ces fonctions sont celles qui prennent entrée des champs aléatoires (vecteurs et matrices, de type *list ou numpy*) et variables aléatoire (scalaires (vecteurs 1D pour le multiprocessing)) et non pas les fonctions prennant en entrée les variables aléatoires issues de la décomposition de la Karhunen Loeve, qui elles sont construites en interne dans la classe**"
   ]
  },
  {
   "cell_type": "code",
   "execution_count": 9,
   "metadata": {
    "scrolled": true
   },
   "outputs": [
    {
     "name": "stdout",
     "output_type": "stream",
     "text": [
      "Input Variables are (without Karhunen Loeve Decomposition) :\n",
      " ['E_', 'D_', 'Rho', 'FP', 'FN'] \n",
      "\n",
      "Output Variables are :\n",
      " ['VonMisesStress', 'maxDeflection'] \n",
      "\n",
      "trend function args:  ['x']  trend function:  210000 \n",
      "\n",
      "Please be aware that the number of elements in the argument list has to be the same as the dimension of the process:  1\n",
      "trend function args:  ['x']  trend function:  10 \n",
      "\n",
      "Please be aware that the number of elements in the argument list has to be the same as the dimension of the process:  1\n"
     ]
    }
   ],
   "source": [
    "inputVarList = [process_E, process_D, RV_Rho, RV_Fpos, RV_Fnorm]\n",
    "# We also the need the two functions of the model (one for samples, the other for single evaluations)\n",
    "# In our case, as our model is defined as a class, we have to first create the model, \n",
    "# but it also could just be just two functions taking as an input the fields and RVs\n",
    "soloFunction   = functionWrapper.randomBeamFunctionSolo\n",
    "sampleFunction = functionWrapper.randomBeamFunctionSample\n",
    "##\n",
    "size           = 10000 ## Number of samples for our sobol indicies experiment (kept low here to make things faster)\n",
    "##\n",
    "reload(ngps)\n",
    "##\n",
    "processSensitivityAnalysis = ngps.NdGaussianProcessSensitivityAnalysis(inputVarList, \n",
    "                                                                       outputVariables,\n",
    "                                                                       sampleFunction,\n",
    "                                                                       soloFunction,\n",
    "                                                                       size)"
   ]
  },
  {
   "cell_type": "markdown",
   "metadata": {},
   "source": [
    "Voici une vue du dictionnaire intermédiaire qui est crée une fois les processus et variables aléatoires d'entrées définies :\n",
    "\n",
    "On voit que la position des processus dans les arguments de la fonction d'entrée est enregistrée dans le dictionnaire dans la clé *position* et viennent de la manière de laquelle on a mis les VA et Processus dans le vecteur inputVarList. \n"
   ]
  },
  {
   "cell_type": "markdown",
   "metadata": {},
   "source": [
    "###### Ensuite, grace à l'intermédiaire de la classe ot.SobolIndiciesExperiment, on génère les' variables aléatoires d'entrée "
   ]
  },
  {
   "cell_type": "code",
   "execution_count": 10,
   "metadata": {},
   "outputs": [
    {
     "name": "stdout",
     "output_type": "stream",
     "text": [
      "Generation types:\n",
      "1 : Random (default)\n",
      "2 : LHS\n",
      "3 : LowDiscrepancySequence\n",
      "4 : SimulatedAnnealingLHS\n",
      "Choosen generation method is Random (default)\n",
      "number of samples for sobol experiment =  70000 \n",
      "\n",
      "input design is:  [[ 5.96474590e+00  6.70558955e-01  2.17007166e+00 ...  7.67145246e+03\n",
      "   5.50465533e+02  1.00107314e+02]\n",
      " [ 3.69821252e+00 -6.20679489e-01  2.86342018e+00 ...  8.46696065e+03\n",
      "   4.47215763e+02  1.01974431e+02]\n",
      " [ 6.47616745e+00 -8.54496972e-01  3.88259467e+00 ...  8.02050675e+03\n",
      "   5.65626697e+02  9.66762805e+01]\n",
      " ...\n",
      " [ 5.89101300e+00 -9.00886265e-01  1.24730382e+00 ...  7.57293519e+03\n",
      "   4.99930238e+02  9.64808612e+01]\n",
      " [ 2.71464434e+00  7.27015970e-02  3.29681205e+00 ...  7.58459365e+03\n",
      "   4.29625630e+02  1.01725225e+02]\n",
      " [ 5.97706528e+00 -6.13833254e-01  2.71790214e+00 ...  7.59402869e+03\n",
      "   5.21833806e+02  9.42222496e+01]]\n"
     ]
    }
   ],
   "source": [
    "processSensitivityAnalysis.prepareSobolIndicesExperiment()\n"
   ]
  },
  {
   "cell_type": "code",
   "execution_count": 11,
   "metadata": {},
   "outputs": [],
   "source": [
    "########\n",
    "## This is to check if we manage to regenerate missing values in the case of np.nan values\n",
    "########\n",
    "########\n",
    "#reload(ngps)\n",
    "#inputDes = np.load('inputDesign.npy',allow_pickle=True)\n",
    "#inputDesNc = np.load('inputDesignNc.npy',allow_pickle=True)\n",
    "#processSensitivityAnalysis = ngps.NdGaussianProcessSensitivityAnalysis(inputVarList, \n",
    "#                                                                       outputVariables,\n",
    " #                                                                      sampleFunction,\n",
    "  #                                                                     soloFunction,\n",
    "   #                                                                    size)\n",
    "#processSensitivityAnalysis.inputDesign = inputDes\n",
    "#processSensitivityAnalysis._inputDesignNC = inputDesNc\n",
    "#processSensitivityAnalysis.wrappedFunction(np.array(processSensitivityAnalysis._inputDesignNC))"
   ]
  },
  {
   "cell_type": "markdown",
   "metadata": {},
   "source": [
    "###### Ensuite on récupère les sorties associées aux entrées génerées. \n",
    "L'idée du postprocessing est d'identifier si dans les sorties il y a des valeurs de type np.nan, et de refaire les experiences manquantes tant qu'il y a des np.nan de présents.\n",
    "\n",
    "**Ceci crée quelques problèmes : En effet, si le calcul numérique n'a pas pu aboutir avec une certaine réalisation des variables en entrée, est-ce que cela veut dire que cette réalisation est défaillante? Va-t-on l'inclure dans le cas du calcul de la défaillance ou de la sensibilité? Car si on l'inclut pas, il se peut qu'on oublie un nombre conséquent de modes défaillants. Solution : changer le modèle informatique et le rendre robuste à ces erreurs, ou faire une étude précise avec ces réalisation particulières.**\n",
    "\n",
    "\n",
    "La solution retenue pour génerer les experiences manquantes est d'itérer au dessus de chaque index de la sortie ou se trouvent les nans, de refaire une experience de sobol de taille 1 ( donc qui renverra d+2 valeurs, avec d la dimension de l'entrée), de générer les sorties correspondant aux entrées (recommencer si il s'y trouve un np.nan), et de remplacer les d+2 valeurs du inputDesign d'entrée avec celles que l'on vient de regénérer. "
   ]
  },
  {
   "cell_type": "code",
   "execution_count": 12,
   "metadata": {
    "scrolled": false
   },
   "outputs": [
    {
     "name": "stderr",
     "output_type": "stream",
     "text": [
      "[Parallel(n_jobs=-1)]: Using backend LokyBackend with 4 concurrent workers.\n",
      "[Parallel(n_jobs=-1)]: Done   5 tasks      | elapsed:    9.8s\n",
      "[Parallel(n_jobs=-1)]: Done  10 tasks      | elapsed:   10.2s\n",
      "[Parallel(n_jobs=-1)]: Done  17 tasks      | elapsed:   10.5s\n",
      "[Parallel(n_jobs=-1)]: Done  24 tasks      | elapsed:   10.9s\n",
      "[Parallel(n_jobs=-1)]: Done  33 tasks      | elapsed:   11.4s\n",
      "[Parallel(n_jobs=-1)]: Done  42 tasks      | elapsed:   11.9s\n",
      "[Parallel(n_jobs=-1)]: Done  53 tasks      | elapsed:   12.6s\n",
      "[Parallel(n_jobs=-1)]: Done  64 tasks      | elapsed:   13.2s\n",
      "[Parallel(n_jobs=-1)]: Done  77 tasks      | elapsed:   13.9s\n",
      "[Parallel(n_jobs=-1)]: Done  90 tasks      | elapsed:   14.7s\n",
      "[Parallel(n_jobs=-1)]: Done 105 tasks      | elapsed:   15.5s\n",
      "[Parallel(n_jobs=-1)]: Done 120 tasks      | elapsed:   16.4s\n",
      "[Parallel(n_jobs=-1)]: Done 137 tasks      | elapsed:   17.3s\n",
      "[Parallel(n_jobs=-1)]: Done 154 tasks      | elapsed:   18.3s\n",
      "[Parallel(n_jobs=-1)]: Done 173 tasks      | elapsed:   19.4s\n",
      "[Parallel(n_jobs=-1)]: Done 192 tasks      | elapsed:   20.4s\n",
      "[Parallel(n_jobs=-1)]: Done 213 tasks      | elapsed:   21.6s\n",
      "[Parallel(n_jobs=-1)]: Done 234 tasks      | elapsed:   22.8s\n",
      "[Parallel(n_jobs=-1)]: Done 257 tasks      | elapsed:   24.1s\n",
      "[Parallel(n_jobs=-1)]: Done 280 tasks      | elapsed:   25.4s\n",
      "[Parallel(n_jobs=-1)]: Done 305 tasks      | elapsed:   26.8s\n",
      "[Parallel(n_jobs=-1)]: Done 330 tasks      | elapsed:   28.3s\n",
      "[Parallel(n_jobs=-1)]: Done 357 tasks      | elapsed:   29.7s\n",
      "[Parallel(n_jobs=-1)]: Done 384 tasks      | elapsed:   31.2s\n",
      "[Parallel(n_jobs=-1)]: Done 413 tasks      | elapsed:   32.9s\n",
      "[Parallel(n_jobs=-1)]: Done 442 tasks      | elapsed:   34.5s\n",
      "[Parallel(n_jobs=-1)]: Done 473 tasks      | elapsed:   36.3s\n",
      "[Parallel(n_jobs=-1)]: Done 504 tasks      | elapsed:   38.0s\n",
      "[Parallel(n_jobs=-1)]: Done 537 tasks      | elapsed:   39.8s\n",
      "[Parallel(n_jobs=-1)]: Done 570 tasks      | elapsed:   41.7s\n",
      "[Parallel(n_jobs=-1)]: Done 605 tasks      | elapsed:   43.7s\n",
      "[Parallel(n_jobs=-1)]: Done 640 tasks      | elapsed:   45.7s\n",
      "[Parallel(n_jobs=-1)]: Done 677 tasks      | elapsed:   47.7s\n",
      "[Parallel(n_jobs=-1)]: Done 714 tasks      | elapsed:   49.8s\n",
      "[Parallel(n_jobs=-1)]: Done 753 tasks      | elapsed:   51.9s\n",
      "[Parallel(n_jobs=-1)]: Done 792 tasks      | elapsed:   54.2s\n",
      "[Parallel(n_jobs=-1)]: Done 833 tasks      | elapsed:   56.5s\n",
      "[Parallel(n_jobs=-1)]: Done 874 tasks      | elapsed:   58.8s\n",
      "[Parallel(n_jobs=-1)]: Done 917 tasks      | elapsed:  1.0min\n",
      "[Parallel(n_jobs=-1)]: Done 960 tasks      | elapsed:  1.1min\n",
      "[Parallel(n_jobs=-1)]: Done 1005 tasks      | elapsed:  1.1min\n",
      "[Parallel(n_jobs=-1)]: Done 1050 tasks      | elapsed:  1.1min\n",
      "[Parallel(n_jobs=-1)]: Done 1097 tasks      | elapsed:  1.2min\n",
      "[Parallel(n_jobs=-1)]: Done 1144 tasks      | elapsed:  1.2min\n",
      "[Parallel(n_jobs=-1)]: Done 1193 tasks      | elapsed:  1.3min\n",
      "[Parallel(n_jobs=-1)]: Done 1242 tasks      | elapsed:  1.3min\n",
      "[Parallel(n_jobs=-1)]: Done 1293 tasks      | elapsed:  1.4min\n",
      "[Parallel(n_jobs=-1)]: Done 1344 tasks      | elapsed:  1.4min\n",
      "[Parallel(n_jobs=-1)]: Done 1397 tasks      | elapsed:  1.5min\n",
      "[Parallel(n_jobs=-1)]: Done 1450 tasks      | elapsed:  1.5min\n",
      "[Parallel(n_jobs=-1)]: Done 1505 tasks      | elapsed:  1.6min\n",
      "[Parallel(n_jobs=-1)]: Done 1560 tasks      | elapsed:  1.6min\n",
      "[Parallel(n_jobs=-1)]: Done 1617 tasks      | elapsed:  1.7min\n",
      "[Parallel(n_jobs=-1)]: Done 1674 tasks      | elapsed:  1.7min\n",
      "[Parallel(n_jobs=-1)]: Done 1733 tasks      | elapsed:  1.8min\n",
      "[Parallel(n_jobs=-1)]: Done 1792 tasks      | elapsed:  1.8min\n",
      "[Parallel(n_jobs=-1)]: Done 1853 tasks      | elapsed:  1.9min\n",
      "[Parallel(n_jobs=-1)]: Done 1914 tasks      | elapsed:  2.0min\n",
      "[Parallel(n_jobs=-1)]: Done 1977 tasks      | elapsed:  2.0min\n",
      "[Parallel(n_jobs=-1)]: Done 2040 tasks      | elapsed:  2.1min\n",
      "[Parallel(n_jobs=-1)]: Done 2105 tasks      | elapsed:  2.1min\n",
      "[Parallel(n_jobs=-1)]: Done 2170 tasks      | elapsed:  2.2min\n",
      "[Parallel(n_jobs=-1)]: Done 2237 tasks      | elapsed:  2.3min\n",
      "[Parallel(n_jobs=-1)]: Done 2304 tasks      | elapsed:  2.3min\n",
      "[Parallel(n_jobs=-1)]: Done 2373 tasks      | elapsed:  2.4min\n",
      "[Parallel(n_jobs=-1)]: Done 2442 tasks      | elapsed:  2.4min\n",
      "[Parallel(n_jobs=-1)]: Done 2513 tasks      | elapsed:  2.5min\n",
      "[Parallel(n_jobs=-1)]: Done 2584 tasks      | elapsed:  2.6min\n",
      "[Parallel(n_jobs=-1)]: Done 2657 tasks      | elapsed:  2.6min\n",
      "[Parallel(n_jobs=-1)]: Done 2730 tasks      | elapsed:  2.7min\n",
      "[Parallel(n_jobs=-1)]: Done 2805 tasks      | elapsed:  2.8min\n",
      "[Parallel(n_jobs=-1)]: Done 2880 tasks      | elapsed:  2.9min\n",
      "[Parallel(n_jobs=-1)]: Done 2957 tasks      | elapsed:  2.9min\n",
      "[Parallel(n_jobs=-1)]: Done 3034 tasks      | elapsed:  3.0min\n",
      "[Parallel(n_jobs=-1)]: Done 3113 tasks      | elapsed:  3.1min\n",
      "[Parallel(n_jobs=-1)]: Done 3192 tasks      | elapsed:  3.1min\n",
      "[Parallel(n_jobs=-1)]: Done 3273 tasks      | elapsed:  3.2min\n",
      "[Parallel(n_jobs=-1)]: Done 3354 tasks      | elapsed:  3.3min\n",
      "[Parallel(n_jobs=-1)]: Done 3437 tasks      | elapsed:  3.4min\n",
      "[Parallel(n_jobs=-1)]: Done 3520 tasks      | elapsed:  3.5min\n",
      "[Parallel(n_jobs=-1)]: Done 3605 tasks      | elapsed:  3.5min\n",
      "[Parallel(n_jobs=-1)]: Done 3690 tasks      | elapsed:  3.6min\n",
      "[Parallel(n_jobs=-1)]: Done 3777 tasks      | elapsed:  3.7min\n",
      "[Parallel(n_jobs=-1)]: Done 3864 tasks      | elapsed:  3.8min\n",
      "[Parallel(n_jobs=-1)]: Done 3953 tasks      | elapsed:  3.9min\n",
      "[Parallel(n_jobs=-1)]: Done 4042 tasks      | elapsed:  3.9min\n",
      "[Parallel(n_jobs=-1)]: Done 4133 tasks      | elapsed:  4.0min\n",
      "[Parallel(n_jobs=-1)]: Done 4224 tasks      | elapsed:  4.1min\n",
      "[Parallel(n_jobs=-1)]: Done 4317 tasks      | elapsed:  4.2min\n",
      "[Parallel(n_jobs=-1)]: Done 4410 tasks      | elapsed:  4.3min\n",
      "[Parallel(n_jobs=-1)]: Done 4505 tasks      | elapsed:  4.4min\n",
      "[Parallel(n_jobs=-1)]: Done 4600 tasks      | elapsed:  4.5min\n",
      "[Parallel(n_jobs=-1)]: Done 4697 tasks      | elapsed:  4.6min\n",
      "[Parallel(n_jobs=-1)]: Done 4794 tasks      | elapsed:  4.6min\n",
      "[Parallel(n_jobs=-1)]: Done 4893 tasks      | elapsed:  4.7min\n",
      "[Parallel(n_jobs=-1)]: Done 4992 tasks      | elapsed:  4.8min\n",
      "[Parallel(n_jobs=-1)]: Done 5093 tasks      | elapsed:  4.9min\n",
      "[Parallel(n_jobs=-1)]: Done 5194 tasks      | elapsed:  5.0min\n",
      "[Parallel(n_jobs=-1)]: Done 5297 tasks      | elapsed:  5.1min\n",
      "[Parallel(n_jobs=-1)]: Done 5400 tasks      | elapsed:  5.2min\n",
      "[Parallel(n_jobs=-1)]: Done 5505 tasks      | elapsed:  5.3min\n",
      "[Parallel(n_jobs=-1)]: Done 5610 tasks      | elapsed:  5.4min\n",
      "[Parallel(n_jobs=-1)]: Done 5717 tasks      | elapsed:  5.5min\n",
      "[Parallel(n_jobs=-1)]: Done 5824 tasks      | elapsed:  5.6min\n",
      "[Parallel(n_jobs=-1)]: Done 5933 tasks      | elapsed:  5.7min\n",
      "[Parallel(n_jobs=-1)]: Done 6042 tasks      | elapsed:  5.8min\n",
      "[Parallel(n_jobs=-1)]: Done 6153 tasks      | elapsed:  5.9min\n",
      "[Parallel(n_jobs=-1)]: Done 6264 tasks      | elapsed:  6.0min\n",
      "[Parallel(n_jobs=-1)]: Done 6377 tasks      | elapsed:  6.1min\n",
      "[Parallel(n_jobs=-1)]: Done 6490 tasks      | elapsed:  6.2min\n",
      "[Parallel(n_jobs=-1)]: Done 6605 tasks      | elapsed:  6.3min\n",
      "[Parallel(n_jobs=-1)]: Done 6720 tasks      | elapsed:  6.4min\n",
      "[Parallel(n_jobs=-1)]: Done 6837 tasks      | elapsed:  6.5min\n",
      "[Parallel(n_jobs=-1)]: Done 6954 tasks      | elapsed:  6.6min\n",
      "[Parallel(n_jobs=-1)]: Done 7073 tasks      | elapsed:  6.7min\n",
      "[Parallel(n_jobs=-1)]: Done 7192 tasks      | elapsed:  6.8min\n",
      "[Parallel(n_jobs=-1)]: Done 7313 tasks      | elapsed:  6.9min\n",
      "[Parallel(n_jobs=-1)]: Done 7434 tasks      | elapsed:  7.0min\n",
      "[Parallel(n_jobs=-1)]: Done 7557 tasks      | elapsed:  7.1min\n",
      "[Parallel(n_jobs=-1)]: Done 7680 tasks      | elapsed:  7.2min\n",
      "[Parallel(n_jobs=-1)]: Done 7805 tasks      | elapsed:  7.4min\n",
      "[Parallel(n_jobs=-1)]: Done 7930 tasks      | elapsed:  7.5min\n",
      "[Parallel(n_jobs=-1)]: Done 8057 tasks      | elapsed:  7.6min\n",
      "[Parallel(n_jobs=-1)]: Done 8184 tasks      | elapsed:  7.7min\n",
      "[Parallel(n_jobs=-1)]: Done 8313 tasks      | elapsed:  7.9min\n",
      "[Parallel(n_jobs=-1)]: Done 8442 tasks      | elapsed:  8.0min\n",
      "[Parallel(n_jobs=-1)]: Done 8573 tasks      | elapsed:  8.1min\n",
      "[Parallel(n_jobs=-1)]: Done 8704 tasks      | elapsed:  8.2min\n",
      "[Parallel(n_jobs=-1)]: Done 8837 tasks      | elapsed:  8.4min\n",
      "[Parallel(n_jobs=-1)]: Done 8970 tasks      | elapsed:  8.5min\n"
     ]
    },
    {
     "name": "stderr",
     "output_type": "stream",
     "text": [
      "[Parallel(n_jobs=-1)]: Done 9105 tasks      | elapsed:  8.6min\n",
      "[Parallel(n_jobs=-1)]: Done 9240 tasks      | elapsed:  8.8min\n",
      "[Parallel(n_jobs=-1)]: Done 9377 tasks      | elapsed:  8.9min\n",
      "[Parallel(n_jobs=-1)]: Done 9514 tasks      | elapsed:  9.0min\n",
      "[Parallel(n_jobs=-1)]: Done 9653 tasks      | elapsed:  9.1min\n",
      "[Parallel(n_jobs=-1)]: Done 9792 tasks      | elapsed:  9.3min\n",
      "[Parallel(n_jobs=-1)]: Done 9933 tasks      | elapsed:  9.4min\n",
      "[Parallel(n_jobs=-1)]: Done 10074 tasks      | elapsed:  9.5min\n",
      "[Parallel(n_jobs=-1)]: Done 10217 tasks      | elapsed:  9.7min\n",
      "[Parallel(n_jobs=-1)]: Done 10360 tasks      | elapsed:  9.8min\n",
      "[Parallel(n_jobs=-1)]: Done 10505 tasks      | elapsed: 10.0min\n",
      "[Parallel(n_jobs=-1)]: Done 10650 tasks      | elapsed: 10.1min\n",
      "[Parallel(n_jobs=-1)]: Done 10797 tasks      | elapsed: 10.3min\n",
      "[Parallel(n_jobs=-1)]: Done 10944 tasks      | elapsed: 10.4min\n",
      "[Parallel(n_jobs=-1)]: Done 11093 tasks      | elapsed: 10.6min\n",
      "[Parallel(n_jobs=-1)]: Done 11242 tasks      | elapsed: 10.7min\n",
      "[Parallel(n_jobs=-1)]: Done 11393 tasks      | elapsed: 10.9min\n",
      "[Parallel(n_jobs=-1)]: Done 11544 tasks      | elapsed: 11.1min\n",
      "[Parallel(n_jobs=-1)]: Done 11697 tasks      | elapsed: 11.2min\n",
      "[Parallel(n_jobs=-1)]: Done 11850 tasks      | elapsed: 11.4min\n",
      "[Parallel(n_jobs=-1)]: Done 12005 tasks      | elapsed: 11.6min\n",
      "[Parallel(n_jobs=-1)]: Done 12160 tasks      | elapsed: 11.7min\n",
      "[Parallel(n_jobs=-1)]: Done 12317 tasks      | elapsed: 11.9min\n",
      "[Parallel(n_jobs=-1)]: Done 12474 tasks      | elapsed: 12.0min\n",
      "[Parallel(n_jobs=-1)]: Done 12633 tasks      | elapsed: 12.2min\n",
      "[Parallel(n_jobs=-1)]: Done 12792 tasks      | elapsed: 12.3min\n",
      "[Parallel(n_jobs=-1)]: Done 12953 tasks      | elapsed: 12.6min\n",
      "[Parallel(n_jobs=-1)]: Done 13114 tasks      | elapsed: 12.7min\n",
      "[Parallel(n_jobs=-1)]: Done 13277 tasks      | elapsed: 12.9min\n",
      "[Parallel(n_jobs=-1)]: Done 13440 tasks      | elapsed: 13.0min\n",
      "[Parallel(n_jobs=-1)]: Done 13605 tasks      | elapsed: 13.2min\n",
      "[Parallel(n_jobs=-1)]: Done 13770 tasks      | elapsed: 13.4min\n",
      "[Parallel(n_jobs=-1)]: Done 13937 tasks      | elapsed: 13.5min\n",
      "[Parallel(n_jobs=-1)]: Done 14104 tasks      | elapsed: 13.7min\n",
      "[Parallel(n_jobs=-1)]: Done 14273 tasks      | elapsed: 13.9min\n",
      "[Parallel(n_jobs=-1)]: Done 14442 tasks      | elapsed: 14.1min\n",
      "[Parallel(n_jobs=-1)]: Done 14613 tasks      | elapsed: 14.2min\n",
      "[Parallel(n_jobs=-1)]: Done 14784 tasks      | elapsed: 14.4min\n",
      "[Parallel(n_jobs=-1)]: Done 14957 tasks      | elapsed: 14.6min\n",
      "[Parallel(n_jobs=-1)]: Done 15130 tasks      | elapsed: 14.7min\n",
      "[Parallel(n_jobs=-1)]: Done 15305 tasks      | elapsed: 14.9min\n",
      "[Parallel(n_jobs=-1)]: Done 15480 tasks      | elapsed: 15.1min\n",
      "[Parallel(n_jobs=-1)]: Done 15657 tasks      | elapsed: 15.3min\n",
      "[Parallel(n_jobs=-1)]: Done 15834 tasks      | elapsed: 15.5min\n",
      "[Parallel(n_jobs=-1)]: Done 16013 tasks      | elapsed: 15.7min\n",
      "[Parallel(n_jobs=-1)]: Done 16192 tasks      | elapsed: 15.8min\n",
      "[Parallel(n_jobs=-1)]: Done 16373 tasks      | elapsed: 16.0min\n",
      "[Parallel(n_jobs=-1)]: Done 16554 tasks      | elapsed: 16.2min\n",
      "[Parallel(n_jobs=-1)]: Done 16737 tasks      | elapsed: 16.4min\n",
      "[Parallel(n_jobs=-1)]: Done 16920 tasks      | elapsed: 16.6min\n",
      "[Parallel(n_jobs=-1)]: Done 17105 tasks      | elapsed: 16.8min\n",
      "[Parallel(n_jobs=-1)]: Done 17290 tasks      | elapsed: 16.9min\n",
      "[Parallel(n_jobs=-1)]: Done 17477 tasks      | elapsed: 17.1min\n",
      "[Parallel(n_jobs=-1)]: Done 17664 tasks      | elapsed: 17.3min\n",
      "[Parallel(n_jobs=-1)]: Done 17853 tasks      | elapsed: 17.5min\n",
      "[Parallel(n_jobs=-1)]: Done 18042 tasks      | elapsed: 17.6min\n",
      "[Parallel(n_jobs=-1)]: Done 18233 tasks      | elapsed: 17.8min\n",
      "[Parallel(n_jobs=-1)]: Done 18424 tasks      | elapsed: 18.0min\n",
      "[Parallel(n_jobs=-1)]: Done 18617 tasks      | elapsed: 18.2min\n",
      "[Parallel(n_jobs=-1)]: Done 18810 tasks      | elapsed: 18.4min\n",
      "[Parallel(n_jobs=-1)]: Done 19005 tasks      | elapsed: 18.6min\n",
      "[Parallel(n_jobs=-1)]: Done 19200 tasks      | elapsed: 18.7min\n",
      "[Parallel(n_jobs=-1)]: Done 19397 tasks      | elapsed: 18.9min\n",
      "[Parallel(n_jobs=-1)]: Done 19594 tasks      | elapsed: 19.1min\n",
      "[Parallel(n_jobs=-1)]: Done 19793 tasks      | elapsed: 19.3min\n",
      "[Parallel(n_jobs=-1)]: Done 19992 tasks      | elapsed: 19.5min\n",
      "[Parallel(n_jobs=-1)]: Done 20193 tasks      | elapsed: 19.7min\n",
      "[Parallel(n_jobs=-1)]: Done 20394 tasks      | elapsed: 19.9min\n",
      "[Parallel(n_jobs=-1)]: Done 20597 tasks      | elapsed: 20.1min\n",
      "[Parallel(n_jobs=-1)]: Done 20800 tasks      | elapsed: 20.2min\n",
      "[Parallel(n_jobs=-1)]: Done 21005 tasks      | elapsed: 20.4min\n",
      "[Parallel(n_jobs=-1)]: Done 21210 tasks      | elapsed: 20.6min\n",
      "[Parallel(n_jobs=-1)]: Done 21417 tasks      | elapsed: 20.8min\n",
      "[Parallel(n_jobs=-1)]: Done 21624 tasks      | elapsed: 21.0min\n",
      "[Parallel(n_jobs=-1)]: Done 21833 tasks      | elapsed: 21.3min\n",
      "[Parallel(n_jobs=-1)]: Done 22042 tasks      | elapsed: 21.5min\n",
      "[Parallel(n_jobs=-1)]: Done 22253 tasks      | elapsed: 21.7min\n",
      "[Parallel(n_jobs=-1)]: Done 22464 tasks      | elapsed: 21.9min\n",
      "[Parallel(n_jobs=-1)]: Done 22677 tasks      | elapsed: 22.1min\n",
      "[Parallel(n_jobs=-1)]: Done 22890 tasks      | elapsed: 22.3min\n",
      "[Parallel(n_jobs=-1)]: Done 23105 tasks      | elapsed: 22.5min\n",
      "[Parallel(n_jobs=-1)]: Done 23320 tasks      | elapsed: 22.7min\n",
      "[Parallel(n_jobs=-1)]: Done 23537 tasks      | elapsed: 22.9min\n",
      "[Parallel(n_jobs=-1)]: Done 23754 tasks      | elapsed: 23.1min\n",
      "[Parallel(n_jobs=-1)]: Done 23973 tasks      | elapsed: 23.3min\n",
      "[Parallel(n_jobs=-1)]: Done 24192 tasks      | elapsed: 23.5min\n",
      "[Parallel(n_jobs=-1)]: Done 24413 tasks      | elapsed: 23.7min\n",
      "[Parallel(n_jobs=-1)]: Done 24634 tasks      | elapsed: 23.9min\n",
      "[Parallel(n_jobs=-1)]: Done 24857 tasks      | elapsed: 24.1min\n",
      "[Parallel(n_jobs=-1)]: Done 25080 tasks      | elapsed: 24.4min\n",
      "[Parallel(n_jobs=-1)]: Done 25305 tasks      | elapsed: 24.6min\n",
      "[Parallel(n_jobs=-1)]: Done 25530 tasks      | elapsed: 24.8min\n",
      "[Parallel(n_jobs=-1)]: Done 25757 tasks      | elapsed: 25.1min\n",
      "[Parallel(n_jobs=-1)]: Done 25984 tasks      | elapsed: 25.3min\n",
      "[Parallel(n_jobs=-1)]: Done 26213 tasks      | elapsed: 25.5min\n",
      "[Parallel(n_jobs=-1)]: Done 26442 tasks      | elapsed: 25.7min\n",
      "[Parallel(n_jobs=-1)]: Done 26673 tasks      | elapsed: 25.9min\n",
      "[Parallel(n_jobs=-1)]: Done 26904 tasks      | elapsed: 26.1min\n",
      "[Parallel(n_jobs=-1)]: Done 27137 tasks      | elapsed: 26.4min\n",
      "[Parallel(n_jobs=-1)]: Done 27370 tasks      | elapsed: 26.6min\n",
      "[Parallel(n_jobs=-1)]: Done 27605 tasks      | elapsed: 26.8min\n",
      "[Parallel(n_jobs=-1)]: Done 27840 tasks      | elapsed: 27.1min\n",
      "[Parallel(n_jobs=-1)]: Done 28077 tasks      | elapsed: 27.3min\n",
      "[Parallel(n_jobs=-1)]: Done 28314 tasks      | elapsed: 27.6min\n",
      "[Parallel(n_jobs=-1)]: Done 28553 tasks      | elapsed: 27.8min\n",
      "[Parallel(n_jobs=-1)]: Done 28792 tasks      | elapsed: 28.0min\n",
      "[Parallel(n_jobs=-1)]: Done 29033 tasks      | elapsed: 28.2min\n",
      "[Parallel(n_jobs=-1)]: Done 29274 tasks      | elapsed: 28.5min\n",
      "[Parallel(n_jobs=-1)]: Done 29517 tasks      | elapsed: 28.7min\n",
      "[Parallel(n_jobs=-1)]: Done 29760 tasks      | elapsed: 28.9min\n",
      "[Parallel(n_jobs=-1)]: Done 30005 tasks      | elapsed: 29.1min\n",
      "[Parallel(n_jobs=-1)]: Done 30250 tasks      | elapsed: 29.4min\n",
      "[Parallel(n_jobs=-1)]: Done 30497 tasks      | elapsed: 29.6min\n",
      "[Parallel(n_jobs=-1)]: Done 30744 tasks      | elapsed: 29.8min\n",
      "[Parallel(n_jobs=-1)]: Done 30993 tasks      | elapsed: 30.1min\n",
      "[Parallel(n_jobs=-1)]: Done 31242 tasks      | elapsed: 30.3min\n",
      "[Parallel(n_jobs=-1)]: Done 31493 tasks      | elapsed: 30.6min\n",
      "[Parallel(n_jobs=-1)]: Done 31744 tasks      | elapsed: 30.8min\n",
      "[Parallel(n_jobs=-1)]: Done 31997 tasks      | elapsed: 31.1min\n",
      "[Parallel(n_jobs=-1)]: Done 32250 tasks      | elapsed: 31.4min\n",
      "[Parallel(n_jobs=-1)]: Done 32505 tasks      | elapsed: 31.6min\n",
      "[Parallel(n_jobs=-1)]: Done 32760 tasks      | elapsed: 31.9min\n",
      "[Parallel(n_jobs=-1)]: Done 33017 tasks      | elapsed: 32.1min\n",
      "[Parallel(n_jobs=-1)]: Done 33274 tasks      | elapsed: 32.4min\n",
      "[Parallel(n_jobs=-1)]: Done 33533 tasks      | elapsed: 32.6min\n",
      "[Parallel(n_jobs=-1)]: Done 33792 tasks      | elapsed: 32.9min\n",
      "[Parallel(n_jobs=-1)]: Done 34053 tasks      | elapsed: 33.1min\n",
      "[Parallel(n_jobs=-1)]: Done 34314 tasks      | elapsed: 33.4min\n",
      "[Parallel(n_jobs=-1)]: Done 34577 tasks      | elapsed: 33.7min\n"
     ]
    },
    {
     "name": "stderr",
     "output_type": "stream",
     "text": [
      "[Parallel(n_jobs=-1)]: Done 34840 tasks      | elapsed: 33.9min\n",
      "[Parallel(n_jobs=-1)]: Done 35105 tasks      | elapsed: 34.2min\n",
      "[Parallel(n_jobs=-1)]: Done 35370 tasks      | elapsed: 34.5min\n",
      "[Parallel(n_jobs=-1)]: Done 35637 tasks      | elapsed: 34.7min\n",
      "[Parallel(n_jobs=-1)]: Done 35904 tasks      | elapsed: 35.0min\n",
      "[Parallel(n_jobs=-1)]: Done 36173 tasks      | elapsed: 35.3min\n",
      "[Parallel(n_jobs=-1)]: Done 36442 tasks      | elapsed: 35.6min\n",
      "[Parallel(n_jobs=-1)]: Done 36713 tasks      | elapsed: 35.8min\n",
      "[Parallel(n_jobs=-1)]: Done 36984 tasks      | elapsed: 36.1min\n",
      "[Parallel(n_jobs=-1)]: Done 37257 tasks      | elapsed: 36.4min\n",
      "[Parallel(n_jobs=-1)]: Done 37530 tasks      | elapsed: 36.7min\n",
      "[Parallel(n_jobs=-1)]: Done 37805 tasks      | elapsed: 36.9min\n",
      "[Parallel(n_jobs=-1)]: Done 38080 tasks      | elapsed: 37.2min\n",
      "[Parallel(n_jobs=-1)]: Done 38357 tasks      | elapsed: 37.5min\n",
      "[Parallel(n_jobs=-1)]: Done 38634 tasks      | elapsed: 37.7min\n",
      "[Parallel(n_jobs=-1)]: Done 38913 tasks      | elapsed: 38.0min\n",
      "[Parallel(n_jobs=-1)]: Done 39192 tasks      | elapsed: 38.3min\n",
      "[Parallel(n_jobs=-1)]: Done 39473 tasks      | elapsed: 38.6min\n",
      "[Parallel(n_jobs=-1)]: Done 39754 tasks      | elapsed: 38.9min\n",
      "[Parallel(n_jobs=-1)]: Done 40037 tasks      | elapsed: 39.1min\n",
      "[Parallel(n_jobs=-1)]: Done 40320 tasks      | elapsed: 39.4min\n",
      "[Parallel(n_jobs=-1)]: Done 40605 tasks      | elapsed: 39.7min\n",
      "[Parallel(n_jobs=-1)]: Done 40890 tasks      | elapsed: 40.0min\n",
      "[Parallel(n_jobs=-1)]: Done 41177 tasks      | elapsed: 40.3min\n",
      "[Parallel(n_jobs=-1)]: Done 41464 tasks      | elapsed: 40.6min\n",
      "[Parallel(n_jobs=-1)]: Done 41753 tasks      | elapsed: 40.9min\n",
      "[Parallel(n_jobs=-1)]: Done 42042 tasks      | elapsed: 41.1min\n",
      "[Parallel(n_jobs=-1)]: Done 42333 tasks      | elapsed: 41.4min\n",
      "[Parallel(n_jobs=-1)]: Done 42624 tasks      | elapsed: 41.8min\n",
      "[Parallel(n_jobs=-1)]: Done 42917 tasks      | elapsed: 42.0min\n",
      "[Parallel(n_jobs=-1)]: Done 43210 tasks      | elapsed: 42.3min\n",
      "[Parallel(n_jobs=-1)]: Done 43505 tasks      | elapsed: 42.6min\n",
      "[Parallel(n_jobs=-1)]: Done 43800 tasks      | elapsed: 42.9min\n",
      "[Parallel(n_jobs=-1)]: Done 44097 tasks      | elapsed: 43.1min\n",
      "[Parallel(n_jobs=-1)]: Done 44394 tasks      | elapsed: 43.4min\n",
      "[Parallel(n_jobs=-1)]: Done 44693 tasks      | elapsed: 43.7min\n",
      "[Parallel(n_jobs=-1)]: Done 44992 tasks      | elapsed: 44.0min\n",
      "[Parallel(n_jobs=-1)]: Done 45293 tasks      | elapsed: 44.3min\n",
      "[Parallel(n_jobs=-1)]: Done 45594 tasks      | elapsed: 44.6min\n",
      "[Parallel(n_jobs=-1)]: Done 45897 tasks      | elapsed: 44.9min\n",
      "[Parallel(n_jobs=-1)]: Done 46200 tasks      | elapsed: 45.2min\n",
      "[Parallel(n_jobs=-1)]: Done 46505 tasks      | elapsed: 45.5min\n",
      "[Parallel(n_jobs=-1)]: Done 46810 tasks      | elapsed: 45.8min\n",
      "[Parallel(n_jobs=-1)]: Done 47117 tasks      | elapsed: 46.1min\n",
      "[Parallel(n_jobs=-1)]: Done 47424 tasks      | elapsed: 46.4min\n",
      "[Parallel(n_jobs=-1)]: Done 47733 tasks      | elapsed: 46.7min\n",
      "[Parallel(n_jobs=-1)]: Done 48042 tasks      | elapsed: 47.0min\n",
      "[Parallel(n_jobs=-1)]: Done 48353 tasks      | elapsed: 47.4min\n",
      "[Parallel(n_jobs=-1)]: Done 48664 tasks      | elapsed: 47.7min\n",
      "[Parallel(n_jobs=-1)]: Done 48977 tasks      | elapsed: 48.0min\n",
      "[Parallel(n_jobs=-1)]: Done 49290 tasks      | elapsed: 48.3min\n",
      "[Parallel(n_jobs=-1)]: Done 49605 tasks      | elapsed: 48.6min\n",
      "[Parallel(n_jobs=-1)]: Done 49920 tasks      | elapsed: 49.0min\n",
      "[Parallel(n_jobs=-1)]: Done 50237 tasks      | elapsed: 49.3min\n",
      "[Parallel(n_jobs=-1)]: Done 50554 tasks      | elapsed: 49.6min\n",
      "[Parallel(n_jobs=-1)]: Done 50873 tasks      | elapsed: 49.9min\n",
      "[Parallel(n_jobs=-1)]: Done 51192 tasks      | elapsed: 50.2min\n",
      "[Parallel(n_jobs=-1)]: Done 51513 tasks      | elapsed: 50.5min\n",
      "[Parallel(n_jobs=-1)]: Done 51834 tasks      | elapsed: 50.8min\n",
      "[Parallel(n_jobs=-1)]: Done 52157 tasks      | elapsed: 51.1min\n",
      "[Parallel(n_jobs=-1)]: Done 52480 tasks      | elapsed: 51.5min\n",
      "[Parallel(n_jobs=-1)]: Done 52805 tasks      | elapsed: 51.8min\n",
      "[Parallel(n_jobs=-1)]: Done 53130 tasks      | elapsed: 52.1min\n",
      "[Parallel(n_jobs=-1)]: Done 53457 tasks      | elapsed: 52.4min\n",
      "[Parallel(n_jobs=-1)]: Done 53784 tasks      | elapsed: 52.7min\n",
      "[Parallel(n_jobs=-1)]: Done 54113 tasks      | elapsed: 53.0min\n",
      "[Parallel(n_jobs=-1)]: Done 54442 tasks      | elapsed: 53.3min\n",
      "[Parallel(n_jobs=-1)]: Done 54773 tasks      | elapsed: 53.6min\n",
      "[Parallel(n_jobs=-1)]: Done 55104 tasks      | elapsed: 54.0min\n",
      "[Parallel(n_jobs=-1)]: Done 55437 tasks      | elapsed: 54.3min\n",
      "[Parallel(n_jobs=-1)]: Done 55770 tasks      | elapsed: 54.6min\n",
      "[Parallel(n_jobs=-1)]: Done 56105 tasks      | elapsed: 54.9min\n",
      "[Parallel(n_jobs=-1)]: Done 56440 tasks      | elapsed: 55.3min\n",
      "[Parallel(n_jobs=-1)]: Done 56777 tasks      | elapsed: 55.6min\n",
      "[Parallel(n_jobs=-1)]: Done 57114 tasks      | elapsed: 55.9min\n",
      "[Parallel(n_jobs=-1)]: Done 57453 tasks      | elapsed: 56.2min\n",
      "[Parallel(n_jobs=-1)]: Done 57792 tasks      | elapsed: 56.6min\n",
      "[Parallel(n_jobs=-1)]: Done 58133 tasks      | elapsed: 56.9min\n",
      "[Parallel(n_jobs=-1)]: Done 58474 tasks      | elapsed: 57.2min\n",
      "[Parallel(n_jobs=-1)]: Done 58817 tasks      | elapsed: 57.6min\n",
      "[Parallel(n_jobs=-1)]: Done 59160 tasks      | elapsed: 57.9min\n",
      "[Parallel(n_jobs=-1)]: Done 59505 tasks      | elapsed: 58.2min\n",
      "[Parallel(n_jobs=-1)]: Done 59850 tasks      | elapsed: 58.5min\n",
      "[Parallel(n_jobs=-1)]: Done 60197 tasks      | elapsed: 58.9min\n",
      "[Parallel(n_jobs=-1)]: Done 60544 tasks      | elapsed: 59.2min\n",
      "[Parallel(n_jobs=-1)]: Done 60893 tasks      | elapsed: 59.5min\n",
      "[Parallel(n_jobs=-1)]: Done 61242 tasks      | elapsed: 59.9min\n",
      "[Parallel(n_jobs=-1)]: Done 61593 tasks      | elapsed: 60.2min\n",
      "[Parallel(n_jobs=-1)]: Done 61944 tasks      | elapsed: 60.5min\n",
      "[Parallel(n_jobs=-1)]: Done 62297 tasks      | elapsed: 60.9min\n",
      "[Parallel(n_jobs=-1)]: Done 62650 tasks      | elapsed: 61.2min\n",
      "[Parallel(n_jobs=-1)]: Done 63005 tasks      | elapsed: 61.5min\n",
      "[Parallel(n_jobs=-1)]: Done 63360 tasks      | elapsed: 61.9min\n",
      "[Parallel(n_jobs=-1)]: Done 63717 tasks      | elapsed: 62.2min\n",
      "[Parallel(n_jobs=-1)]: Done 64074 tasks      | elapsed: 62.6min\n",
      "[Parallel(n_jobs=-1)]: Done 64433 tasks      | elapsed: 63.0min\n",
      "[Parallel(n_jobs=-1)]: Done 64792 tasks      | elapsed: 63.3min\n",
      "[Parallel(n_jobs=-1)]: Done 65153 tasks      | elapsed: 63.6min\n",
      "[Parallel(n_jobs=-1)]: Done 65514 tasks      | elapsed: 64.0min\n",
      "[Parallel(n_jobs=-1)]: Done 65877 tasks      | elapsed: 64.4min\n",
      "[Parallel(n_jobs=-1)]: Done 66240 tasks      | elapsed: 64.7min\n",
      "[Parallel(n_jobs=-1)]: Done 66605 tasks      | elapsed: 65.1min\n",
      "[Parallel(n_jobs=-1)]: Done 66970 tasks      | elapsed: 65.4min\n",
      "[Parallel(n_jobs=-1)]: Done 67337 tasks      | elapsed: 65.8min\n",
      "[Parallel(n_jobs=-1)]: Done 67704 tasks      | elapsed: 66.2min\n",
      "[Parallel(n_jobs=-1)]: Done 68073 tasks      | elapsed: 66.6min\n",
      "[Parallel(n_jobs=-1)]: Done 68442 tasks      | elapsed: 66.9min\n",
      "[Parallel(n_jobs=-1)]: Done 68813 tasks      | elapsed: 67.3min\n",
      "[Parallel(n_jobs=-1)]: Done 69184 tasks      | elapsed: 67.7min\n",
      "[Parallel(n_jobs=-1)]: Done 69557 tasks      | elapsed: 68.1min\n",
      "[Parallel(n_jobs=-1)]: Done 69930 tasks      | elapsed: 68.4min\n",
      "[Parallel(n_jobs=-1)]: Done 70000 out of 70000 | elapsed: 68.5min finished\n"
     ]
    },
    {
     "name": "stdout",
     "output_type": "stream",
     "text": [
      "shape deflection:  (70000, 103)  should be [N,10X] something\n",
      "deflection std deviation  nan\n",
      "timed  4113.1395154  s for function \" randomBeamFunctionSample \"\n",
      "Converting list of outputs into matrix: \n",
      "Element  1  has shape  (70000, 102)\n",
      "Element  2  has shape  (70000,)\n",
      "Final shape matrix:  (70000, 103)\n",
      "Columns where nan :  [  493  1543  3126  4067  6651  9051  9163 10751 11258 13272 13499 13832\n",
      " 19301 19901 21258 23576 25202 26651 26653 27944 28623 28846 29051 31543\n",
      " 33126 34067 36736 38623 38846 39051 40493 41543 43126 44067 46651 49051\n",
      " 49163 51635 53272 53499 57907 59301 60493 61543 63126 64067 66651 69051\n",
      " 69163] \n",
      "\n",
      "There were  49  errors (numpy.nan) while processing, trying to regenerate missing outputs \n",
      "\n",
      "index to change:  [  493 10493 20493 30493 40493 50493 60493]\n",
      "Generation types:\n",
      "1 : Random (default)\n",
      "2 : LHS\n",
      "3 : LowDiscrepancySequence\n",
      "4 : SimulatedAnnealingLHS\n",
      "Choosen generation method is Random (default)\n"
     ]
    },
    {
     "name": "stderr",
     "output_type": "stream",
     "text": [
      "[Parallel(n_jobs=-1)]: Using backend LokyBackend with 4 concurrent workers.\n",
      "[Parallel(n_jobs=-1)]: Done   1 tasks      | elapsed:    0.2s\n",
      "[Parallel(n_jobs=-1)]: Done   2 out of   7 | elapsed:    0.3s remaining:    0.7s\n",
      "[Parallel(n_jobs=-1)]: Done   3 out of   7 | elapsed:    0.3s remaining:    0.4s\n",
      "[Parallel(n_jobs=-1)]: Done   4 out of   7 | elapsed:    0.3s remaining:    0.3s\n",
      "[Parallel(n_jobs=-1)]: Done   5 out of   7 | elapsed:    0.4s remaining:    0.2s\n",
      "[Parallel(n_jobs=-1)]: Done   7 out of   7 | elapsed:    0.5s remaining:    0.0s\n",
      "[Parallel(n_jobs=-1)]: Done   7 out of   7 | elapsed:    0.5s finished\n",
      "[Parallel(n_jobs=-1)]: Using backend LokyBackend with 4 concurrent workers.\n"
     ]
    },
    {
     "name": "stdout",
     "output_type": "stream",
     "text": [
      "shape deflection:  (7, 103)  should be [N,10X] something\n",
      "deflection std deviation  1.3074422911302734\n",
      "timed  0.486930132  s for function \" randomBeamFunctionSample \"\n",
      "Converting list of outputs into matrix: \n",
      "Element  1  has shape  (7, 102)\n",
      "Element  2  has shape  (7,)\n",
      "Final shape matrix:  (7, 103)\n",
      "index to change:  [ 1543 11543 21543 31543 41543 51543 61543]\n",
      "Generation types:\n",
      "1 : Random (default)\n",
      "2 : LHS\n",
      "3 : LowDiscrepancySequence\n",
      "4 : SimulatedAnnealingLHS\n",
      "Choosen generation method is Random (default)\n"
     ]
    },
    {
     "name": "stderr",
     "output_type": "stream",
     "text": [
      "[Parallel(n_jobs=-1)]: Done   1 tasks      | elapsed:    0.2s\n",
      "[Parallel(n_jobs=-1)]: Done   2 out of   7 | elapsed:    0.3s remaining:    0.7s\n",
      "[Parallel(n_jobs=-1)]: Done   3 out of   7 | elapsed:    0.3s remaining:    0.4s\n",
      "[Parallel(n_jobs=-1)]: Done   4 out of   7 | elapsed:    0.4s remaining:    0.3s\n",
      "[Parallel(n_jobs=-1)]: Done   5 out of   7 | elapsed:    0.5s remaining:    0.2s\n",
      "[Parallel(n_jobs=-1)]: Done   7 out of   7 | elapsed:    0.5s remaining:    0.0s\n",
      "[Parallel(n_jobs=-1)]: Done   7 out of   7 | elapsed:    0.5s finished\n",
      "[Parallel(n_jobs=-1)]: Using backend LokyBackend with 4 concurrent workers.\n"
     ]
    },
    {
     "name": "stdout",
     "output_type": "stream",
     "text": [
      "shape deflection:  (7, 103)  should be [N,10X] something\n",
      "deflection std deviation  3.195072251723835\n",
      "timed  0.540658236  s for function \" randomBeamFunctionSample \"\n",
      "Converting list of outputs into matrix: \n",
      "Element  1  has shape  (7, 102)\n",
      "Element  2  has shape  (7,)\n",
      "Final shape matrix:  (7, 103)\n",
      "index to change:  [ 3126 13126 23126 33126 43126 53126 63126]\n",
      "Generation types:\n",
      "1 : Random (default)\n",
      "2 : LHS\n",
      "3 : LowDiscrepancySequence\n",
      "4 : SimulatedAnnealingLHS\n",
      "Choosen generation method is Random (default)\n"
     ]
    },
    {
     "name": "stderr",
     "output_type": "stream",
     "text": [
      "[Parallel(n_jobs=-1)]: Done   1 tasks      | elapsed:    0.2s\n",
      "[Parallel(n_jobs=-1)]: Done   2 out of   7 | elapsed:    0.3s remaining:    0.7s\n",
      "[Parallel(n_jobs=-1)]: Done   3 out of   7 | elapsed:    0.3s remaining:    0.4s\n",
      "[Parallel(n_jobs=-1)]: Done   4 out of   7 | elapsed:    0.4s remaining:    0.3s\n",
      "[Parallel(n_jobs=-1)]: Done   5 out of   7 | elapsed:    0.4s remaining:    0.2s\n",
      "[Parallel(n_jobs=-1)]: Done   7 out of   7 | elapsed:    0.6s remaining:    0.0s\n",
      "[Parallel(n_jobs=-1)]: Done   7 out of   7 | elapsed:    0.6s finished\n",
      "[Parallel(n_jobs=-1)]: Using backend LokyBackend with 4 concurrent workers.\n"
     ]
    },
    {
     "name": "stdout",
     "output_type": "stream",
     "text": [
      "shape deflection:  (7, 103)  should be [N,10X] something\n",
      "deflection std deviation  5.2106578952083105\n",
      "timed  0.571025372  s for function \" randomBeamFunctionSample \"\n",
      "Converting list of outputs into matrix: \n",
      "Element  1  has shape  (7, 102)\n",
      "Element  2  has shape  (7,)\n",
      "Final shape matrix:  (7, 103)\n",
      "index to change:  [ 4067 14067 24067 34067 44067 54067 64067]\n",
      "Generation types:\n",
      "1 : Random (default)\n",
      "2 : LHS\n",
      "3 : LowDiscrepancySequence\n",
      "4 : SimulatedAnnealingLHS\n",
      "Choosen generation method is Random (default)\n"
     ]
    },
    {
     "name": "stderr",
     "output_type": "stream",
     "text": [
      "[Parallel(n_jobs=-1)]: Done   1 tasks      | elapsed:    0.2s\n",
      "[Parallel(n_jobs=-1)]: Done   2 out of   7 | elapsed:    0.3s remaining:    0.6s\n",
      "[Parallel(n_jobs=-1)]: Done   3 out of   7 | elapsed:    0.3s remaining:    0.4s\n",
      "[Parallel(n_jobs=-1)]: Done   4 out of   7 | elapsed:    0.3s remaining:    0.2s\n",
      "[Parallel(n_jobs=-1)]: Done   5 out of   7 | elapsed:    0.5s remaining:    0.2s\n",
      "[Parallel(n_jobs=-1)]: Done   7 out of   7 | elapsed:    0.5s remaining:    0.0s\n",
      "[Parallel(n_jobs=-1)]: Done   7 out of   7 | elapsed:    0.5s finished\n",
      "[Parallel(n_jobs=-1)]: Using backend LokyBackend with 4 concurrent workers.\n"
     ]
    },
    {
     "name": "stdout",
     "output_type": "stream",
     "text": [
      "shape deflection:  (7, 103)  should be [N,10X] something\n",
      "deflection std deviation  3.788799782003605\n",
      "timed  0.501475811  s for function \" randomBeamFunctionSample \"\n",
      "Converting list of outputs into matrix: \n",
      "Element  1  has shape  (7, 102)\n",
      "Element  2  has shape  (7,)\n",
      "Final shape matrix:  (7, 103)\n",
      "index to change:  [ 6651 16651 26651 36651 46651 56651 66651]\n",
      "Generation types:\n",
      "1 : Random (default)\n",
      "2 : LHS\n",
      "3 : LowDiscrepancySequence\n",
      "4 : SimulatedAnnealingLHS\n",
      "Choosen generation method is Random (default)\n"
     ]
    },
    {
     "name": "stderr",
     "output_type": "stream",
     "text": [
      "[Parallel(n_jobs=-1)]: Done   1 tasks      | elapsed:    0.3s\n",
      "[Parallel(n_jobs=-1)]: Done   2 out of   7 | elapsed:    0.3s remaining:    0.7s\n",
      "[Parallel(n_jobs=-1)]: Done   3 out of   7 | elapsed:    0.3s remaining:    0.4s\n",
      "[Parallel(n_jobs=-1)]: Done   4 out of   7 | elapsed:    0.5s remaining:    0.3s\n",
      "[Parallel(n_jobs=-1)]: Done   5 out of   7 | elapsed:    0.5s remaining:    0.2s\n",
      "[Parallel(n_jobs=-1)]: Done   7 out of   7 | elapsed:    0.5s remaining:    0.0s\n",
      "[Parallel(n_jobs=-1)]: Done   7 out of   7 | elapsed:    0.5s finished\n",
      "[Parallel(n_jobs=-1)]: Using backend LokyBackend with 4 concurrent workers.\n"
     ]
    },
    {
     "name": "stdout",
     "output_type": "stream",
     "text": [
      "shape deflection:  (7, 103)  should be [N,10X] something\n",
      "deflection std deviation  4.836712112378403\n",
      "timed  0.502684832  s for function \" randomBeamFunctionSample \"\n",
      "Converting list of outputs into matrix: \n",
      "Element  1  has shape  (7, 102)\n",
      "Element  2  has shape  (7,)\n",
      "Final shape matrix:  (7, 103)\n",
      "index to change:  [ 9051 19051 29051 39051 49051 59051 69051]\n",
      "Generation types:\n",
      "1 : Random (default)\n",
      "2 : LHS\n",
      "3 : LowDiscrepancySequence\n",
      "4 : SimulatedAnnealingLHS\n",
      "Choosen generation method is Random (default)\n"
     ]
    },
    {
     "name": "stderr",
     "output_type": "stream",
     "text": [
      "[Parallel(n_jobs=-1)]: Done   1 tasks      | elapsed:    0.3s\n",
      "[Parallel(n_jobs=-1)]: Done   2 out of   7 | elapsed:    0.3s remaining:    0.7s\n",
      "[Parallel(n_jobs=-1)]: Done   3 out of   7 | elapsed:    0.3s remaining:    0.4s\n",
      "[Parallel(n_jobs=-1)]: Done   4 out of   7 | elapsed:    0.4s remaining:    0.3s\n",
      "[Parallel(n_jobs=-1)]: Done   5 out of   7 | elapsed:    0.5s remaining:    0.2s\n",
      "[Parallel(n_jobs=-1)]: Done   7 out of   7 | elapsed:    0.6s remaining:    0.0s\n",
      "[Parallel(n_jobs=-1)]: Done   7 out of   7 | elapsed:    0.6s finished\n",
      "[Parallel(n_jobs=-1)]: Using backend LokyBackend with 4 concurrent workers.\n"
     ]
    },
    {
     "name": "stdout",
     "output_type": "stream",
     "text": [
      "shape deflection:  (7, 103)  should be [N,10X] something\n",
      "deflection std deviation  2.47756662242697\n",
      "timed  0.574687481  s for function \" randomBeamFunctionSample \"\n",
      "Converting list of outputs into matrix: \n",
      "Element  1  has shape  (7, 102)\n",
      "Element  2  has shape  (7,)\n",
      "Final shape matrix:  (7, 103)\n",
      "index to change:  [ 9163 19163 29163 39163 49163 59163 69163]\n",
      "Generation types:\n",
      "1 : Random (default)\n",
      "2 : LHS\n",
      "3 : LowDiscrepancySequence\n",
      "4 : SimulatedAnnealingLHS\n",
      "Choosen generation method is Random (default)\n"
     ]
    },
    {
     "name": "stderr",
     "output_type": "stream",
     "text": [
      "[Parallel(n_jobs=-1)]: Done   1 tasks      | elapsed:    0.2s\n",
      "[Parallel(n_jobs=-1)]: Done   2 out of   7 | elapsed:    0.3s remaining:    0.8s\n",
      "[Parallel(n_jobs=-1)]: Done   3 out of   7 | elapsed:    0.3s remaining:    0.4s\n",
      "[Parallel(n_jobs=-1)]: Done   4 out of   7 | elapsed:    0.3s remaining:    0.2s\n",
      "[Parallel(n_jobs=-1)]: Done   5 out of   7 | elapsed:    0.5s remaining:    0.2s\n",
      "[Parallel(n_jobs=-1)]: Done   7 out of   7 | elapsed:    0.5s remaining:    0.0s\n",
      "[Parallel(n_jobs=-1)]: Done   7 out of   7 | elapsed:    0.5s finished\n",
      "[Parallel(n_jobs=-1)]: Using backend LokyBackend with 4 concurrent workers.\n"
     ]
    },
    {
     "name": "stdout",
     "output_type": "stream",
     "text": [
      "shape deflection:  (7, 103)  should be [N,10X] something\n",
      "deflection std deviation  4.5557481715038275\n",
      "timed  0.540557623  s for function \" randomBeamFunctionSample \"\n",
      "Converting list of outputs into matrix: \n",
      "Element  1  has shape  (7, 102)\n",
      "Element  2  has shape  (7,)\n",
      "Final shape matrix:  (7, 103)\n",
      "index to change:  [  751 10751 20751 30751 40751 50751 60751]\n",
      "Generation types:\n",
      "1 : Random (default)\n",
      "2 : LHS\n",
      "3 : LowDiscrepancySequence\n",
      "4 : SimulatedAnnealingLHS\n",
      "Choosen generation method is Random (default)\n"
     ]
    },
    {
     "name": "stderr",
     "output_type": "stream",
     "text": [
      "[Parallel(n_jobs=-1)]: Done   1 tasks      | elapsed:    0.2s\n",
      "[Parallel(n_jobs=-1)]: Done   2 out of   7 | elapsed:    0.3s remaining:    0.7s\n",
      "[Parallel(n_jobs=-1)]: Done   3 out of   7 | elapsed:    0.3s remaining:    0.5s\n",
      "[Parallel(n_jobs=-1)]: Done   4 out of   7 | elapsed:    0.4s remaining:    0.3s\n",
      "[Parallel(n_jobs=-1)]: Done   5 out of   7 | elapsed:    0.5s remaining:    0.2s\n",
      "[Parallel(n_jobs=-1)]: Done   7 out of   7 | elapsed:    0.6s remaining:    0.0s\n",
      "[Parallel(n_jobs=-1)]: Done   7 out of   7 | elapsed:    0.6s finished\n",
      "[Parallel(n_jobs=-1)]: Using backend LokyBackend with 4 concurrent workers.\n"
     ]
    },
    {
     "name": "stdout",
     "output_type": "stream",
     "text": [
      "shape deflection:  (7, 103)  should be [N,10X] something\n",
      "deflection std deviation  1.1098973321795775\n",
      "timed  0.583763361  s for function \" randomBeamFunctionSample \"\n",
      "Converting list of outputs into matrix: \n",
      "Element  1  has shape  (7, 102)\n",
      "Element  2  has shape  (7,)\n",
      "Final shape matrix:  (7, 103)\n",
      "index to change:  [ 1258 11258 21258 31258 41258 51258 61258]\n",
      "Generation types:\n",
      "1 : Random (default)\n",
      "2 : LHS\n",
      "3 : LowDiscrepancySequence\n",
      "4 : SimulatedAnnealingLHS\n",
      "Choosen generation method is Random (default)\n"
     ]
    },
    {
     "name": "stderr",
     "output_type": "stream",
     "text": [
      "[Parallel(n_jobs=-1)]: Done   1 tasks      | elapsed:    0.2s\n",
      "[Parallel(n_jobs=-1)]: Done   2 out of   7 | elapsed:    0.3s remaining:    0.8s\n",
      "[Parallel(n_jobs=-1)]: Done   3 out of   7 | elapsed:    0.3s remaining:    0.4s\n",
      "[Parallel(n_jobs=-1)]: Done   4 out of   7 | elapsed:    0.4s remaining:    0.3s\n",
      "[Parallel(n_jobs=-1)]: Done   5 out of   7 | elapsed:    0.5s remaining:    0.2s\n",
      "[Parallel(n_jobs=-1)]: Done   7 out of   7 | elapsed:    0.6s remaining:    0.0s\n",
      "[Parallel(n_jobs=-1)]: Done   7 out of   7 | elapsed:    0.6s finished\n",
      "[Parallel(n_jobs=-1)]: Using backend LokyBackend with 4 concurrent workers.\n"
     ]
    },
    {
     "name": "stdout",
     "output_type": "stream",
     "text": [
      "shape deflection:  (7, 103)  should be [N,10X] something\n",
      "deflection std deviation  1.467147641631319\n",
      "timed  0.559339285  s for function \" randomBeamFunctionSample \"\n",
      "Converting list of outputs into matrix: \n",
      "Element  1  has shape  (7, 102)\n",
      "Element  2  has shape  (7,)\n",
      "Final shape matrix:  (7, 103)\n",
      "index to change:  [ 3272 13272 23272 33272 43272 53272 63272]\n",
      "Generation types:\n",
      "1 : Random (default)\n",
      "2 : LHS\n",
      "3 : LowDiscrepancySequence\n",
      "4 : SimulatedAnnealingLHS\n",
      "Choosen generation method is Random (default)\n"
     ]
    },
    {
     "name": "stderr",
     "output_type": "stream",
     "text": [
      "[Parallel(n_jobs=-1)]: Done   1 tasks      | elapsed:    0.3s\n",
      "[Parallel(n_jobs=-1)]: Done   2 out of   7 | elapsed:    0.3s remaining:    0.7s\n",
      "[Parallel(n_jobs=-1)]: Done   3 out of   7 | elapsed:    0.4s remaining:    0.5s\n",
      "[Parallel(n_jobs=-1)]: Done   4 out of   7 | elapsed:    0.4s remaining:    0.3s\n",
      "[Parallel(n_jobs=-1)]: Done   5 out of   7 | elapsed:    0.6s remaining:    0.2s\n",
      "[Parallel(n_jobs=-1)]: Done   7 out of   7 | elapsed:    0.7s remaining:    0.0s\n",
      "[Parallel(n_jobs=-1)]: Done   7 out of   7 | elapsed:    0.7s finished\n",
      "[Parallel(n_jobs=-1)]: Using backend LokyBackend with 4 concurrent workers.\n"
     ]
    },
    {
     "name": "stdout",
     "output_type": "stream",
     "text": [
      "shape deflection:  (7, 103)  should be [N,10X] something\n",
      "deflection std deviation  2.4065494249920527\n",
      "timed  0.655465841  s for function \" randomBeamFunctionSample \"\n",
      "Converting list of outputs into matrix: \n",
      "Element  1  has shape  (7, 102)\n",
      "Element  2  has shape  (7,)\n",
      "Final shape matrix:  (7, 103)\n",
      "index to change:  [ 3499 13499 23499 33499 43499 53499 63499]\n",
      "Generation types:\n",
      "1 : Random (default)\n",
      "2 : LHS\n",
      "3 : LowDiscrepancySequence\n",
      "4 : SimulatedAnnealingLHS\n",
      "Choosen generation method is Random (default)\n"
     ]
    },
    {
     "name": "stderr",
     "output_type": "stream",
     "text": [
      "[Parallel(n_jobs=-1)]: Done   1 tasks      | elapsed:    0.2s\n",
      "[Parallel(n_jobs=-1)]: Done   2 out of   7 | elapsed:    0.3s remaining:    0.8s\n",
      "[Parallel(n_jobs=-1)]: Done   3 out of   7 | elapsed:    0.4s remaining:    0.5s\n",
      "[Parallel(n_jobs=-1)]: Done   4 out of   7 | elapsed:    0.5s remaining:    0.4s\n",
      "[Parallel(n_jobs=-1)]: Done   5 out of   7 | elapsed:    0.5s remaining:    0.2s\n",
      "[Parallel(n_jobs=-1)]: Done   7 out of   7 | elapsed:    0.6s remaining:    0.0s\n",
      "[Parallel(n_jobs=-1)]: Done   7 out of   7 | elapsed:    0.6s finished\n"
     ]
    },
    {
     "name": "stdout",
     "output_type": "stream",
     "text": [
      "shape deflection:  (7, 103)  should be [N,10X] something\n",
      "deflection std deviation  3.688704321472631\n",
      "timed  0.622265816  s for function \" randomBeamFunctionSample \"\n",
      "Converting list of outputs into matrix: \n",
      "Element  1  has shape  (7, 102)\n",
      "Element  2  has shape  (7,)\n",
      "Final shape matrix:  (7, 103)\n",
      "index to change:  [ 3832 13832 23832 33832 43832 53832 63832]\n",
      "Generation types:\n",
      "1 : Random (default)\n",
      "2 : LHS\n",
      "3 : LowDiscrepancySequence\n",
      "4 : SimulatedAnnealingLHS\n",
      "Choosen generation method is Random (default)\n"
     ]
    },
    {
     "name": "stderr",
     "output_type": "stream",
     "text": [
      "[Parallel(n_jobs=-1)]: Using backend LokyBackend with 4 concurrent workers.\n",
      "[Parallel(n_jobs=-1)]: Done   1 tasks      | elapsed:    0.3s\n",
      "[Parallel(n_jobs=-1)]: Done   2 out of   7 | elapsed:    0.3s remaining:    0.7s\n",
      "[Parallel(n_jobs=-1)]: Done   3 out of   7 | elapsed:    0.4s remaining:    0.5s\n",
      "[Parallel(n_jobs=-1)]: Done   4 out of   7 | elapsed:    0.4s remaining:    0.3s\n",
      "[Parallel(n_jobs=-1)]: Done   5 out of   7 | elapsed:    0.5s remaining:    0.2s\n",
      "[Parallel(n_jobs=-1)]: Done   7 out of   7 | elapsed:    0.6s remaining:    0.0s\n",
      "[Parallel(n_jobs=-1)]: Done   7 out of   7 | elapsed:    0.6s finished\n",
      "[Parallel(n_jobs=-1)]: Using backend LokyBackend with 4 concurrent workers.\n"
     ]
    },
    {
     "name": "stdout",
     "output_type": "stream",
     "text": [
      "shape deflection:  (7, 103)  should be [N,10X] something\n",
      "deflection std deviation  1.8478479153740108\n",
      "timed  0.599391222  s for function \" randomBeamFunctionSample \"\n",
      "Converting list of outputs into matrix: \n",
      "Element  1  has shape  (7, 102)\n",
      "Element  2  has shape  (7,)\n",
      "Final shape matrix:  (7, 103)\n",
      "index to change:  [ 9301 19301 29301 39301 49301 59301 69301]\n",
      "Generation types:\n",
      "1 : Random (default)\n",
      "2 : LHS\n",
      "3 : LowDiscrepancySequence\n",
      "4 : SimulatedAnnealingLHS\n",
      "Choosen generation method is Random (default)\n"
     ]
    },
    {
     "name": "stderr",
     "output_type": "stream",
     "text": [
      "[Parallel(n_jobs=-1)]: Done   1 tasks      | elapsed:    0.3s\n",
      "[Parallel(n_jobs=-1)]: Done   2 out of   7 | elapsed:    0.4s remaining:    0.9s\n",
      "[Parallel(n_jobs=-1)]: Done   3 out of   7 | elapsed:    0.4s remaining:    0.5s\n",
      "[Parallel(n_jobs=-1)]: Done   4 out of   7 | elapsed:    0.4s remaining:    0.3s\n",
      "[Parallel(n_jobs=-1)]: Done   5 out of   7 | elapsed:    0.6s remaining:    0.2s\n",
      "[Parallel(n_jobs=-1)]: Done   7 out of   7 | elapsed:    0.7s remaining:    0.0s\n",
      "[Parallel(n_jobs=-1)]: Done   7 out of   7 | elapsed:    0.7s finished\n",
      "[Parallel(n_jobs=-1)]: Using backend LokyBackend with 4 concurrent workers.\n"
     ]
    },
    {
     "name": "stdout",
     "output_type": "stream",
     "text": [
      "shape deflection:  (7, 103)  should be [N,10X] something\n",
      "deflection std deviation  3.9378784684671073\n",
      "timed  0.661112547  s for function \" randomBeamFunctionSample \"\n",
      "Converting list of outputs into matrix: \n",
      "Element  1  has shape  (7, 102)\n",
      "Element  2  has shape  (7,)\n",
      "Final shape matrix:  (7, 103)\n",
      "index to change:  [ 9901 19901 29901 39901 49901 59901 69901]\n",
      "Generation types:\n",
      "1 : Random (default)\n",
      "2 : LHS\n",
      "3 : LowDiscrepancySequence\n",
      "4 : SimulatedAnnealingLHS\n",
      "Choosen generation method is Random (default)\n"
     ]
    },
    {
     "name": "stderr",
     "output_type": "stream",
     "text": [
      "[Parallel(n_jobs=-1)]: Done   1 tasks      | elapsed:    0.3s\n",
      "[Parallel(n_jobs=-1)]: Done   2 out of   7 | elapsed:    0.3s remaining:    0.9s\n",
      "[Parallel(n_jobs=-1)]: Done   3 out of   7 | elapsed:    0.4s remaining:    0.5s\n",
      "[Parallel(n_jobs=-1)]: Done   4 out of   7 | elapsed:    0.5s remaining:    0.4s\n",
      "[Parallel(n_jobs=-1)]: Done   5 out of   7 | elapsed:    0.6s remaining:    0.2s\n",
      "[Parallel(n_jobs=-1)]: Done   7 out of   7 | elapsed:    0.7s remaining:    0.0s\n",
      "[Parallel(n_jobs=-1)]: Done   7 out of   7 | elapsed:    0.7s finished\n"
     ]
    },
    {
     "name": "stdout",
     "output_type": "stream",
     "text": [
      "shape deflection:  (7, 103)  should be [N,10X] something\n",
      "deflection std deviation  3.698897755243488\n",
      "timed  0.702961206  s for function \" randomBeamFunctionSample \"\n",
      "Converting list of outputs into matrix: \n",
      "Element  1  has shape  (7, 102)\n",
      "Element  2  has shape  (7,)\n",
      "Final shape matrix:  (7, 103)\n",
      "index to change:  [ 1258 11258 21258 31258 41258 51258 61258]\n",
      "Generation types:\n",
      "1 : Random (default)\n",
      "2 : LHS\n",
      "3 : LowDiscrepancySequence\n",
      "4 : SimulatedAnnealingLHS\n",
      "Choosen generation method is Random (default)\n"
     ]
    },
    {
     "name": "stderr",
     "output_type": "stream",
     "text": [
      "[Parallel(n_jobs=-1)]: Using backend LokyBackend with 4 concurrent workers.\n",
      "[Parallel(n_jobs=-1)]: Done   1 tasks      | elapsed:    0.4s\n",
      "[Parallel(n_jobs=-1)]: Done   2 out of   7 | elapsed:    0.4s remaining:    0.9s\n",
      "[Parallel(n_jobs=-1)]: Done   3 out of   7 | elapsed:    0.4s remaining:    0.5s\n",
      "[Parallel(n_jobs=-1)]: Done   4 out of   7 | elapsed:    0.5s remaining:    0.4s\n",
      "[Parallel(n_jobs=-1)]: Done   5 out of   7 | elapsed:    0.7s remaining:    0.3s\n",
      "[Parallel(n_jobs=-1)]: Done   7 out of   7 | elapsed:    0.7s remaining:    0.0s\n",
      "[Parallel(n_jobs=-1)]: Done   7 out of   7 | elapsed:    0.7s finished\n",
      "[Parallel(n_jobs=-1)]: Using backend LokyBackend with 4 concurrent workers.\n"
     ]
    },
    {
     "name": "stdout",
     "output_type": "stream",
     "text": [
      "shape deflection:  (7, 103)  should be [N,10X] something\n",
      "deflection std deviation  5.068439981940554\n",
      "timed  0.705978155  s for function \" randomBeamFunctionSample \"\n",
      "Converting list of outputs into matrix: \n",
      "Element  1  has shape  (7, 102)\n",
      "Element  2  has shape  (7,)\n",
      "Final shape matrix:  (7, 103)\n",
      "index to change:  [ 3576 13576 23576 33576 43576 53576 63576]\n",
      "Generation types:\n",
      "1 : Random (default)\n",
      "2 : LHS\n",
      "3 : LowDiscrepancySequence\n",
      "4 : SimulatedAnnealingLHS\n",
      "Choosen generation method is Random (default)\n"
     ]
    },
    {
     "name": "stderr",
     "output_type": "stream",
     "text": [
      "[Parallel(n_jobs=-1)]: Done   1 tasks      | elapsed:    0.3s\n",
      "[Parallel(n_jobs=-1)]: Done   2 out of   7 | elapsed:    0.4s remaining:    0.9s\n",
      "[Parallel(n_jobs=-1)]: Done   3 out of   7 | elapsed:    0.4s remaining:    0.5s\n",
      "[Parallel(n_jobs=-1)]: Done   4 out of   7 | elapsed:    0.4s remaining:    0.3s\n",
      "[Parallel(n_jobs=-1)]: Done   5 out of   7 | elapsed:    0.6s remaining:    0.2s\n",
      "[Parallel(n_jobs=-1)]: Done   7 out of   7 | elapsed:    0.7s remaining:    0.0s\n",
      "[Parallel(n_jobs=-1)]: Done   7 out of   7 | elapsed:    0.7s finished\n",
      "[Parallel(n_jobs=-1)]: Using backend LokyBackend with 4 concurrent workers.\n"
     ]
    },
    {
     "name": "stdout",
     "output_type": "stream",
     "text": [
      "shape deflection:  (7, 103)  should be [N,10X] something\n",
      "deflection std deviation  1.8081623423321118\n",
      "timed  0.673711061  s for function \" randomBeamFunctionSample \"\n",
      "Converting list of outputs into matrix: \n",
      "Element  1  has shape  (7, 102)\n",
      "Element  2  has shape  (7,)\n",
      "Final shape matrix:  (7, 103)\n",
      "index to change:  [ 5202 15202 25202 35202 45202 55202 65202]\n",
      "Generation types:\n",
      "1 : Random (default)\n",
      "2 : LHS\n",
      "3 : LowDiscrepancySequence\n",
      "4 : SimulatedAnnealingLHS\n",
      "Choosen generation method is Random (default)\n"
     ]
    },
    {
     "name": "stderr",
     "output_type": "stream",
     "text": [
      "[Parallel(n_jobs=-1)]: Done   1 tasks      | elapsed:    0.4s\n",
      "[Parallel(n_jobs=-1)]: Done   2 out of   7 | elapsed:    0.4s remaining:    1.1s\n",
      "[Parallel(n_jobs=-1)]: Done   3 out of   7 | elapsed:    0.5s remaining:    0.6s\n",
      "[Parallel(n_jobs=-1)]: Done   4 out of   7 | elapsed:    0.5s remaining:    0.4s\n",
      "[Parallel(n_jobs=-1)]: Done   5 out of   7 | elapsed:    0.7s remaining:    0.3s\n",
      "[Parallel(n_jobs=-1)]: Done   7 out of   7 | elapsed:    0.8s remaining:    0.0s\n",
      "[Parallel(n_jobs=-1)]: Done   7 out of   7 | elapsed:    0.8s finished\n",
      "[Parallel(n_jobs=-1)]: Using backend LokyBackend with 4 concurrent workers.\n"
     ]
    },
    {
     "name": "stdout",
     "output_type": "stream",
     "text": [
      "shape deflection:  (7, 103)  should be [N,10X] something\n",
      "deflection std deviation  6.279886684738751\n",
      "timed  0.754871607  s for function \" randomBeamFunctionSample \"\n",
      "Converting list of outputs into matrix: \n",
      "Element  1  has shape  (7, 102)\n",
      "Element  2  has shape  (7,)\n",
      "Final shape matrix:  (7, 103)\n",
      "index to change:  [ 6651 16651 26651 36651 46651 56651 66651]\n",
      "Generation types:\n",
      "1 : Random (default)\n",
      "2 : LHS\n",
      "3 : LowDiscrepancySequence\n",
      "4 : SimulatedAnnealingLHS\n",
      "Choosen generation method is Random (default)\n"
     ]
    },
    {
     "name": "stderr",
     "output_type": "stream",
     "text": [
      "[Parallel(n_jobs=-1)]: Done   1 tasks      | elapsed:    0.3s\n",
      "[Parallel(n_jobs=-1)]: Done   2 out of   7 | elapsed:    0.3s remaining:    0.9s\n",
      "[Parallel(n_jobs=-1)]: Done   3 out of   7 | elapsed:    0.5s remaining:    0.6s\n",
      "[Parallel(n_jobs=-1)]: Done   4 out of   7 | elapsed:    0.5s remaining:    0.4s\n",
      "[Parallel(n_jobs=-1)]: Done   5 out of   7 | elapsed:    0.6s remaining:    0.2s\n",
      "[Parallel(n_jobs=-1)]: Done   7 out of   7 | elapsed:    0.8s remaining:    0.0s\n",
      "[Parallel(n_jobs=-1)]: Done   7 out of   7 | elapsed:    0.8s finished\n",
      "[Parallel(n_jobs=-1)]: Using backend LokyBackend with 4 concurrent workers.\n"
     ]
    },
    {
     "name": "stdout",
     "output_type": "stream",
     "text": [
      "shape deflection:  (7, 103)  should be [N,10X] something\n",
      "deflection std deviation  2.188372707969704\n",
      "timed  0.786665201  s for function \" randomBeamFunctionSample \"\n",
      "Converting list of outputs into matrix: \n",
      "Element  1  has shape  (7, 102)\n",
      "Element  2  has shape  (7,)\n",
      "Final shape matrix:  (7, 103)\n",
      "index to change:  [ 6653 16653 26653 36653 46653 56653 66653]\n",
      "Generation types:\n",
      "1 : Random (default)\n",
      "2 : LHS\n",
      "3 : LowDiscrepancySequence\n",
      "4 : SimulatedAnnealingLHS\n",
      "Choosen generation method is Random (default)\n"
     ]
    },
    {
     "name": "stderr",
     "output_type": "stream",
     "text": [
      "[Parallel(n_jobs=-1)]: Done   1 tasks      | elapsed:    0.3s\n",
      "[Parallel(n_jobs=-1)]: Done   2 out of   7 | elapsed:    0.4s remaining:    0.9s\n",
      "[Parallel(n_jobs=-1)]: Done   3 out of   7 | elapsed:    0.4s remaining:    0.5s\n",
      "[Parallel(n_jobs=-1)]: Done   4 out of   7 | elapsed:    0.6s remaining:    0.5s\n",
      "[Parallel(n_jobs=-1)]: Done   5 out of   7 | elapsed:    0.6s remaining:    0.3s\n",
      "[Parallel(n_jobs=-1)]: Done   7 out of   7 | elapsed:    0.7s remaining:    0.0s\n",
      "[Parallel(n_jobs=-1)]: Done   7 out of   7 | elapsed:    0.7s finished\n"
     ]
    },
    {
     "name": "stdout",
     "output_type": "stream",
     "text": [
      "shape deflection:  (7, 103)  should be [N,10X] something\n",
      "deflection std deviation  2.6148742414691957\n",
      "timed  0.740298271  s for function \" randomBeamFunctionSample \"\n",
      "Converting list of outputs into matrix: \n",
      "Element  1  has shape  (7, 102)\n",
      "Element  2  has shape  (7,)\n",
      "Final shape matrix:  (7, 103)\n",
      "index to change:  [ 7944 17944 27944 37944 47944 57944 67944]\n",
      "Generation types:\n",
      "1 : Random (default)\n",
      "2 : LHS\n",
      "3 : LowDiscrepancySequence\n",
      "4 : SimulatedAnnealingLHS\n",
      "Choosen generation method is Random (default)\n"
     ]
    },
    {
     "name": "stderr",
     "output_type": "stream",
     "text": [
      "[Parallel(n_jobs=-1)]: Using backend LokyBackend with 4 concurrent workers.\n",
      "[Parallel(n_jobs=-1)]: Done   1 tasks      | elapsed:    0.4s\n",
      "[Parallel(n_jobs=-1)]: Done   2 out of   7 | elapsed:    0.4s remaining:    1.0s\n",
      "[Parallel(n_jobs=-1)]: Done   3 out of   7 | elapsed:    0.5s remaining:    0.7s\n",
      "[Parallel(n_jobs=-1)]: Done   4 out of   7 | elapsed:    0.5s remaining:    0.4s\n",
      "[Parallel(n_jobs=-1)]: Done   5 out of   7 | elapsed:    0.7s remaining:    0.3s\n",
      "[Parallel(n_jobs=-1)]: Done   7 out of   7 | elapsed:    0.8s remaining:    0.0s\n",
      "[Parallel(n_jobs=-1)]: Done   7 out of   7 | elapsed:    0.8s finished\n"
     ]
    },
    {
     "name": "stdout",
     "output_type": "stream",
     "text": [
      "shape deflection:  (7, 103)  should be [N,10X] something\n",
      "deflection std deviation  1.2768752793644638\n",
      "timed  0.852576733  s for function \" randomBeamFunctionSample \"\n",
      "Converting list of outputs into matrix: \n",
      "Element  1  has shape  (7, 102)\n",
      "Element  2  has shape  (7,)\n",
      "Final shape matrix:  (7, 103)\n",
      "index to change:  [ 8623 18623 28623 38623 48623 58623 68623]\n",
      "Generation types:\n",
      "1 : Random (default)\n",
      "2 : LHS\n",
      "3 : LowDiscrepancySequence\n",
      "4 : SimulatedAnnealingLHS\n",
      "Choosen generation method is Random (default)\n"
     ]
    },
    {
     "name": "stderr",
     "output_type": "stream",
     "text": [
      "[Parallel(n_jobs=-1)]: Using backend LokyBackend with 4 concurrent workers.\n",
      "[Parallel(n_jobs=-1)]: Done   1 tasks      | elapsed:    0.3s\n",
      "[Parallel(n_jobs=-1)]: Done   2 out of   7 | elapsed:    0.5s remaining:    1.1s\n",
      "[Parallel(n_jobs=-1)]: Done   3 out of   7 | elapsed:    0.5s remaining:    0.6s\n",
      "[Parallel(n_jobs=-1)]: Done   4 out of   7 | elapsed:    0.5s remaining:    0.4s\n",
      "[Parallel(n_jobs=-1)]: Done   5 out of   7 | elapsed:    0.7s remaining:    0.3s\n",
      "[Parallel(n_jobs=-1)]: Done   7 out of   7 | elapsed:    0.8s remaining:    0.0s\n",
      "[Parallel(n_jobs=-1)]: Done   7 out of   7 | elapsed:    0.8s finished\n"
     ]
    },
    {
     "name": "stdout",
     "output_type": "stream",
     "text": [
      "shape deflection:  (7, 103)  should be [N,10X] something\n",
      "deflection std deviation  1.774439643765007\n",
      "timed  0.770339251  s for function \" randomBeamFunctionSample \"\n",
      "Converting list of outputs into matrix: \n",
      "Element  1  has shape  (7, 102)\n",
      "Element  2  has shape  (7,)\n",
      "Final shape matrix:  (7, 103)\n",
      "index to change:  [ 8846 18846 28846 38846 48846 58846 68846]\n",
      "Generation types:\n",
      "1 : Random (default)\n",
      "2 : LHS\n",
      "3 : LowDiscrepancySequence\n",
      "4 : SimulatedAnnealingLHS\n",
      "Choosen generation method is Random (default)\n"
     ]
    },
    {
     "name": "stderr",
     "output_type": "stream",
     "text": [
      "[Parallel(n_jobs=-1)]: Using backend LokyBackend with 4 concurrent workers.\n",
      "[Parallel(n_jobs=-1)]: Done   1 tasks      | elapsed:    0.3s\n",
      "[Parallel(n_jobs=-1)]: Done   2 out of   7 | elapsed:    0.4s remaining:    1.0s\n",
      "[Parallel(n_jobs=-1)]: Done   3 out of   7 | elapsed:    0.4s remaining:    0.6s\n",
      "[Parallel(n_jobs=-1)]: Done   4 out of   7 | elapsed:    0.5s remaining:    0.4s\n",
      "[Parallel(n_jobs=-1)]: Done   5 out of   7 | elapsed:    0.6s remaining:    0.2s\n",
      "[Parallel(n_jobs=-1)]: Done   7 out of   7 | elapsed:    0.7s remaining:    0.0s\n",
      "[Parallel(n_jobs=-1)]: Done   7 out of   7 | elapsed:    0.7s finished\n"
     ]
    },
    {
     "name": "stdout",
     "output_type": "stream",
     "text": [
      "shape deflection:  (7, 103)  should be [N,10X] something\n",
      "deflection std deviation  2.5279801529825305\n",
      "timed  0.72854805  s for function \" randomBeamFunctionSample \"\n",
      "Converting list of outputs into matrix: \n",
      "Element  1  has shape  (7, 102)\n",
      "Element  2  has shape  (7,)\n",
      "Final shape matrix:  (7, 103)\n",
      "index to change:  [ 9051 19051 29051 39051 49051 59051 69051]\n",
      "Generation types:\n",
      "1 : Random (default)\n",
      "2 : LHS\n",
      "3 : LowDiscrepancySequence\n",
      "4 : SimulatedAnnealingLHS\n",
      "Choosen generation method is Random (default)\n"
     ]
    },
    {
     "name": "stderr",
     "output_type": "stream",
     "text": [
      "[Parallel(n_jobs=-1)]: Using backend LokyBackend with 4 concurrent workers.\n",
      "[Parallel(n_jobs=-1)]: Done   1 tasks      | elapsed:    0.3s\n",
      "[Parallel(n_jobs=-1)]: Done   2 out of   7 | elapsed:    0.4s remaining:    1.0s\n",
      "[Parallel(n_jobs=-1)]: Done   3 out of   7 | elapsed:    0.4s remaining:    0.5s\n",
      "[Parallel(n_jobs=-1)]: Done   4 out of   7 | elapsed:    0.5s remaining:    0.3s\n",
      "[Parallel(n_jobs=-1)]: Done   5 out of   7 | elapsed:    0.6s remaining:    0.2s\n",
      "[Parallel(n_jobs=-1)]: Done   7 out of   7 | elapsed:    0.7s remaining:    0.0s\n",
      "[Parallel(n_jobs=-1)]: Done   7 out of   7 | elapsed:    0.7s finished\n",
      "[Parallel(n_jobs=-1)]: Using backend LokyBackend with 4 concurrent workers.\n"
     ]
    },
    {
     "name": "stdout",
     "output_type": "stream",
     "text": [
      "shape deflection:  (7, 103)  should be [N,10X] something\n",
      "deflection std deviation  1.1218846168791416\n",
      "timed  0.681723118  s for function \" randomBeamFunctionSample \"\n",
      "Converting list of outputs into matrix: \n",
      "Element  1  has shape  (7, 102)\n",
      "Element  2  has shape  (7,)\n",
      "Final shape matrix:  (7, 103)\n",
      "index to change:  [ 1543 11543 21543 31543 41543 51543 61543]\n",
      "Generation types:\n",
      "1 : Random (default)\n",
      "2 : LHS\n",
      "3 : LowDiscrepancySequence\n",
      "4 : SimulatedAnnealingLHS\n",
      "Choosen generation method is Random (default)\n"
     ]
    },
    {
     "name": "stderr",
     "output_type": "stream",
     "text": [
      "[Parallel(n_jobs=-1)]: Done   1 tasks      | elapsed:    0.4s\n",
      "[Parallel(n_jobs=-1)]: Done   2 out of   7 | elapsed:    0.4s remaining:    1.0s\n",
      "[Parallel(n_jobs=-1)]: Done   3 out of   7 | elapsed:    0.5s remaining:    0.6s\n",
      "[Parallel(n_jobs=-1)]: Done   4 out of   7 | elapsed:    0.5s remaining:    0.4s\n",
      "[Parallel(n_jobs=-1)]: Done   5 out of   7 | elapsed:    0.7s remaining:    0.3s\n",
      "[Parallel(n_jobs=-1)]: Done   7 out of   7 | elapsed:    0.7s remaining:    0.0s\n",
      "[Parallel(n_jobs=-1)]: Done   7 out of   7 | elapsed:    0.7s finished\n",
      "[Parallel(n_jobs=-1)]: Using backend LokyBackend with 4 concurrent workers.\n"
     ]
    },
    {
     "name": "stdout",
     "output_type": "stream",
     "text": [
      "shape deflection:  (7, 103)  should be [N,10X] something\n",
      "deflection std deviation  1.3530071828788959\n",
      "timed  0.719135284  s for function \" randomBeamFunctionSample \"\n",
      "Converting list of outputs into matrix: \n",
      "Element  1  has shape  (7, 102)\n",
      "Element  2  has shape  (7,)\n",
      "Final shape matrix:  (7, 103)\n",
      "index to change:  [ 3126 13126 23126 33126 43126 53126 63126]\n",
      "Generation types:\n",
      "1 : Random (default)\n",
      "2 : LHS\n",
      "3 : LowDiscrepancySequence\n",
      "4 : SimulatedAnnealingLHS\n",
      "Choosen generation method is Random (default)\n"
     ]
    },
    {
     "name": "stderr",
     "output_type": "stream",
     "text": [
      "[Parallel(n_jobs=-1)]: Done   1 tasks      | elapsed:    0.3s\n",
      "[Parallel(n_jobs=-1)]: Done   2 out of   7 | elapsed:    0.3s remaining:    0.7s\n",
      "[Parallel(n_jobs=-1)]: Done   3 out of   7 | elapsed:    0.3s remaining:    0.4s\n",
      "[Parallel(n_jobs=-1)]: Done   4 out of   7 | elapsed:    0.3s remaining:    0.3s\n",
      "[Parallel(n_jobs=-1)]: Done   5 out of   7 | elapsed:    0.5s remaining:    0.2s\n",
      "[Parallel(n_jobs=-1)]: Done   7 out of   7 | elapsed:    0.5s remaining:    0.0s\n",
      "[Parallel(n_jobs=-1)]: Done   7 out of   7 | elapsed:    0.5s finished\n",
      "[Parallel(n_jobs=-1)]: Using backend LokyBackend with 4 concurrent workers.\n"
     ]
    },
    {
     "name": "stdout",
     "output_type": "stream",
     "text": [
      "shape deflection:  (7, 103)  should be [N,10X] something\n",
      "deflection std deviation  2.847691134555502\n",
      "timed  0.518657207  s for function \" randomBeamFunctionSample \"\n",
      "Converting list of outputs into matrix: \n",
      "Element  1  has shape  (7, 102)\n",
      "Element  2  has shape  (7,)\n",
      "Final shape matrix:  (7, 103)\n",
      "index to change:  [ 4067 14067 24067 34067 44067 54067 64067]\n",
      "Generation types:\n",
      "1 : Random (default)\n",
      "2 : LHS\n",
      "3 : LowDiscrepancySequence\n",
      "4 : SimulatedAnnealingLHS\n",
      "Choosen generation method is Random (default)\n"
     ]
    },
    {
     "name": "stderr",
     "output_type": "stream",
     "text": [
      "[Parallel(n_jobs=-1)]: Done   1 tasks      | elapsed:    0.3s\n",
      "[Parallel(n_jobs=-1)]: Done   2 out of   7 | elapsed:    0.3s remaining:    0.8s\n",
      "[Parallel(n_jobs=-1)]: Done   3 out of   7 | elapsed:    0.3s remaining:    0.4s\n",
      "[Parallel(n_jobs=-1)]: Done   4 out of   7 | elapsed:    0.3s remaining:    0.2s\n",
      "[Parallel(n_jobs=-1)]: Done   5 out of   7 | elapsed:    0.5s remaining:    0.2s\n",
      "[Parallel(n_jobs=-1)]: Done   7 out of   7 | elapsed:    0.5s remaining:    0.0s\n",
      "[Parallel(n_jobs=-1)]: Done   7 out of   7 | elapsed:    0.5s finished\n",
      "[Parallel(n_jobs=-1)]: Using backend LokyBackend with 4 concurrent workers.\n"
     ]
    },
    {
     "name": "stdout",
     "output_type": "stream",
     "text": [
      "shape deflection:  (7, 103)  should be [N,10X] something\n",
      "deflection std deviation  2.045755945628574\n",
      "timed  0.545183897  s for function \" randomBeamFunctionSample \"\n",
      "Converting list of outputs into matrix: \n",
      "Element  1  has shape  (7, 102)\n",
      "Element  2  has shape  (7,)\n",
      "Final shape matrix:  (7, 103)\n",
      "index to change:  [ 6736 16736 26736 36736 46736 56736 66736]\n",
      "Generation types:\n",
      "1 : Random (default)\n",
      "2 : LHS\n",
      "3 : LowDiscrepancySequence\n",
      "4 : SimulatedAnnealingLHS\n",
      "Choosen generation method is Random (default)\n"
     ]
    },
    {
     "name": "stderr",
     "output_type": "stream",
     "text": [
      "[Parallel(n_jobs=-1)]: Done   1 tasks      | elapsed:    0.3s\n",
      "[Parallel(n_jobs=-1)]: Done   2 out of   7 | elapsed:    0.3s remaining:    0.8s\n",
      "[Parallel(n_jobs=-1)]: Done   3 out of   7 | elapsed:    0.3s remaining:    0.4s\n",
      "[Parallel(n_jobs=-1)]: Done   4 out of   7 | elapsed:    0.3s remaining:    0.3s\n",
      "[Parallel(n_jobs=-1)]: Done   5 out of   7 | elapsed:    0.5s remaining:    0.2s\n",
      "[Parallel(n_jobs=-1)]: Done   7 out of   7 | elapsed:    0.5s remaining:    0.0s\n",
      "[Parallel(n_jobs=-1)]: Done   7 out of   7 | elapsed:    0.5s finished\n",
      "[Parallel(n_jobs=-1)]: Using backend LokyBackend with 4 concurrent workers.\n"
     ]
    },
    {
     "name": "stdout",
     "output_type": "stream",
     "text": [
      "shape deflection:  (7, 103)  should be [N,10X] something\n",
      "deflection std deviation  2.675987279072719\n",
      "timed  0.548477888  s for function \" randomBeamFunctionSample \"\n",
      "Converting list of outputs into matrix: \n",
      "Element  1  has shape  (7, 102)\n",
      "Element  2  has shape  (7,)\n",
      "Final shape matrix:  (7, 103)\n",
      "index to change:  [ 8623 18623 28623 38623 48623 58623 68623]\n",
      "Generation types:\n",
      "1 : Random (default)\n",
      "2 : LHS\n",
      "3 : LowDiscrepancySequence\n",
      "4 : SimulatedAnnealingLHS\n",
      "Choosen generation method is Random (default)\n"
     ]
    },
    {
     "name": "stderr",
     "output_type": "stream",
     "text": [
      "[Parallel(n_jobs=-1)]: Done   1 tasks      | elapsed:    0.3s\n",
      "[Parallel(n_jobs=-1)]: Done   2 out of   7 | elapsed:    0.3s remaining:    0.7s\n",
      "[Parallel(n_jobs=-1)]: Done   3 out of   7 | elapsed:    0.3s remaining:    0.4s\n",
      "[Parallel(n_jobs=-1)]: Done   4 out of   7 | elapsed:    0.4s remaining:    0.3s\n",
      "[Parallel(n_jobs=-1)]: Done   5 out of   7 | elapsed:    0.5s remaining:    0.2s\n",
      "[Parallel(n_jobs=-1)]: Done   7 out of   7 | elapsed:    0.5s remaining:    0.0s\n",
      "[Parallel(n_jobs=-1)]: Done   7 out of   7 | elapsed:    0.5s finished\n",
      "[Parallel(n_jobs=-1)]: Using backend LokyBackend with 4 concurrent workers.\n"
     ]
    },
    {
     "name": "stdout",
     "output_type": "stream",
     "text": [
      "shape deflection:  (7, 103)  should be [N,10X] something\n",
      "deflection std deviation  3.569217311878744\n",
      "timed  0.545912504  s for function \" randomBeamFunctionSample \"\n",
      "Converting list of outputs into matrix: \n",
      "Element  1  has shape  (7, 102)\n",
      "Element  2  has shape  (7,)\n",
      "Final shape matrix:  (7, 103)\n",
      "index to change:  [ 8846 18846 28846 38846 48846 58846 68846]\n",
      "Generation types:\n",
      "1 : Random (default)\n",
      "2 : LHS\n",
      "3 : LowDiscrepancySequence\n",
      "4 : SimulatedAnnealingLHS\n",
      "Choosen generation method is Random (default)\n"
     ]
    },
    {
     "name": "stderr",
     "output_type": "stream",
     "text": [
      "[Parallel(n_jobs=-1)]: Done   1 tasks      | elapsed:    0.3s\n",
      "[Parallel(n_jobs=-1)]: Done   2 out of   7 | elapsed:    0.3s remaining:    0.7s\n",
      "[Parallel(n_jobs=-1)]: Done   3 out of   7 | elapsed:    0.3s remaining:    0.4s\n",
      "[Parallel(n_jobs=-1)]: Done   4 out of   7 | elapsed:    0.3s remaining:    0.2s\n",
      "[Parallel(n_jobs=-1)]: Done   5 out of   7 | elapsed:    0.5s remaining:    0.2s\n",
      "[Parallel(n_jobs=-1)]: Done   7 out of   7 | elapsed:    0.6s remaining:    0.0s\n",
      "[Parallel(n_jobs=-1)]: Done   7 out of   7 | elapsed:    0.6s finished\n",
      "[Parallel(n_jobs=-1)]: Using backend LokyBackend with 4 concurrent workers.\n"
     ]
    },
    {
     "name": "stdout",
     "output_type": "stream",
     "text": [
      "shape deflection:  (7, 103)  should be [N,10X] something\n",
      "deflection std deviation  9.849919714248806\n",
      "timed  0.584886312  s for function \" randomBeamFunctionSample \"\n",
      "Converting list of outputs into matrix: \n",
      "Element  1  has shape  (7, 102)\n",
      "Element  2  has shape  (7,)\n",
      "Final shape matrix:  (7, 103)\n",
      "index to change:  [ 9051 19051 29051 39051 49051 59051 69051]\n",
      "Generation types:\n",
      "1 : Random (default)\n",
      "2 : LHS\n",
      "3 : LowDiscrepancySequence\n",
      "4 : SimulatedAnnealingLHS\n",
      "Choosen generation method is Random (default)\n"
     ]
    },
    {
     "name": "stderr",
     "output_type": "stream",
     "text": [
      "[Parallel(n_jobs=-1)]: Done   1 tasks      | elapsed:    0.2s\n",
      "[Parallel(n_jobs=-1)]: Done   2 out of   7 | elapsed:    0.3s remaining:    0.7s\n",
      "[Parallel(n_jobs=-1)]: Done   3 out of   7 | elapsed:    0.4s remaining:    0.5s\n",
      "[Parallel(n_jobs=-1)]: Done   4 out of   7 | elapsed:    0.5s remaining:    0.4s\n",
      "[Parallel(n_jobs=-1)]: Done   5 out of   7 | elapsed:    0.5s remaining:    0.2s\n",
      "[Parallel(n_jobs=-1)]: Done   7 out of   7 | elapsed:    0.6s remaining:    0.0s\n",
      "[Parallel(n_jobs=-1)]: Done   7 out of   7 | elapsed:    0.6s finished\n",
      "[Parallel(n_jobs=-1)]: Using backend LokyBackend with 4 concurrent workers.\n"
     ]
    },
    {
     "name": "stdout",
     "output_type": "stream",
     "text": [
      "shape deflection:  (7, 103)  should be [N,10X] something\n",
      "deflection std deviation  1.5622289180584081\n",
      "timed  0.590839148  s for function \" randomBeamFunctionSample \"\n",
      "Converting list of outputs into matrix: \n",
      "Element  1  has shape  (7, 102)\n",
      "Element  2  has shape  (7,)\n",
      "Final shape matrix:  (7, 103)\n",
      "index to change:  [  493 10493 20493 30493 40493 50493 60493]\n",
      "Generation types:\n",
      "1 : Random (default)\n",
      "2 : LHS\n",
      "3 : LowDiscrepancySequence\n",
      "4 : SimulatedAnnealingLHS\n",
      "Choosen generation method is Random (default)\n"
     ]
    },
    {
     "name": "stderr",
     "output_type": "stream",
     "text": [
      "[Parallel(n_jobs=-1)]: Done   1 tasks      | elapsed:    0.3s\n",
      "[Parallel(n_jobs=-1)]: Done   2 out of   7 | elapsed:    0.3s remaining:    0.8s\n",
      "[Parallel(n_jobs=-1)]: Done   3 out of   7 | elapsed:    0.3s remaining:    0.5s\n",
      "[Parallel(n_jobs=-1)]: Done   4 out of   7 | elapsed:    0.4s remaining:    0.3s\n",
      "[Parallel(n_jobs=-1)]: Done   5 out of   7 | elapsed:    0.5s remaining:    0.2s\n",
      "[Parallel(n_jobs=-1)]: Done   7 out of   7 | elapsed:    0.6s remaining:    0.0s\n",
      "[Parallel(n_jobs=-1)]: Done   7 out of   7 | elapsed:    0.6s finished\n",
      "[Parallel(n_jobs=-1)]: Using backend LokyBackend with 4 concurrent workers.\n"
     ]
    },
    {
     "name": "stdout",
     "output_type": "stream",
     "text": [
      "shape deflection:  (7, 103)  should be [N,10X] something\n",
      "deflection std deviation  6.43470837087373\n",
      "timed  0.571362257  s for function \" randomBeamFunctionSample \"\n",
      "Converting list of outputs into matrix: \n",
      "Element  1  has shape  (7, 102)\n",
      "Element  2  has shape  (7,)\n",
      "Final shape matrix:  (7, 103)\n",
      "index to change:  [ 1543 11543 21543 31543 41543 51543 61543]\n",
      "Generation types:\n",
      "1 : Random (default)\n",
      "2 : LHS\n",
      "3 : LowDiscrepancySequence\n",
      "4 : SimulatedAnnealingLHS\n",
      "Choosen generation method is Random (default)\n"
     ]
    },
    {
     "name": "stderr",
     "output_type": "stream",
     "text": [
      "[Parallel(n_jobs=-1)]: Done   1 tasks      | elapsed:    0.2s\n",
      "[Parallel(n_jobs=-1)]: Done   2 out of   7 | elapsed:    0.3s remaining:    0.8s\n",
      "[Parallel(n_jobs=-1)]: Done   3 out of   7 | elapsed:    0.3s remaining:    0.4s\n",
      "[Parallel(n_jobs=-1)]: Done   4 out of   7 | elapsed:    0.4s remaining:    0.3s\n",
      "[Parallel(n_jobs=-1)]: Done   5 out of   7 | elapsed:    0.5s remaining:    0.2s\n",
      "[Parallel(n_jobs=-1)]: Done   7 out of   7 | elapsed:    0.5s remaining:    0.0s\n",
      "[Parallel(n_jobs=-1)]: Done   7 out of   7 | elapsed:    0.5s finished\n",
      "[Parallel(n_jobs=-1)]: Using backend LokyBackend with 4 concurrent workers.\n"
     ]
    },
    {
     "name": "stdout",
     "output_type": "stream",
     "text": [
      "shape deflection:  (7, 103)  should be [N,10X] something\n",
      "deflection std deviation  2.297826698513862\n",
      "timed  0.545171261  s for function \" randomBeamFunctionSample \"\n",
      "Converting list of outputs into matrix: \n",
      "Element  1  has shape  (7, 102)\n",
      "Element  2  has shape  (7,)\n",
      "Final shape matrix:  (7, 103)\n",
      "index to change:  [ 3126 13126 23126 33126 43126 53126 63126]\n",
      "Generation types:\n",
      "1 : Random (default)\n",
      "2 : LHS\n",
      "3 : LowDiscrepancySequence\n",
      "4 : SimulatedAnnealingLHS\n",
      "Choosen generation method is Random (default)\n"
     ]
    },
    {
     "name": "stderr",
     "output_type": "stream",
     "text": [
      "[Parallel(n_jobs=-1)]: Done   1 tasks      | elapsed:    0.2s\n",
      "[Parallel(n_jobs=-1)]: Done   2 out of   7 | elapsed:    0.3s remaining:    0.8s\n",
      "[Parallel(n_jobs=-1)]: Done   3 out of   7 | elapsed:    0.3s remaining:    0.4s\n",
      "[Parallel(n_jobs=-1)]: Done   4 out of   7 | elapsed:    0.4s remaining:    0.3s\n",
      "[Parallel(n_jobs=-1)]: Done   5 out of   7 | elapsed:    0.5s remaining:    0.2s\n",
      "[Parallel(n_jobs=-1)]: Done   7 out of   7 | elapsed:    0.5s remaining:    0.0s\n",
      "[Parallel(n_jobs=-1)]: Done   7 out of   7 | elapsed:    0.5s finished\n",
      "[Parallel(n_jobs=-1)]: Using backend LokyBackend with 4 concurrent workers.\n"
     ]
    },
    {
     "name": "stdout",
     "output_type": "stream",
     "text": [
      "shape deflection:  (7, 103)  should be [N,10X] something\n",
      "deflection std deviation  5.303950103416004\n",
      "timed  0.538716316  s for function \" randomBeamFunctionSample \"\n",
      "Converting list of outputs into matrix: \n",
      "Element  1  has shape  (7, 102)\n",
      "Element  2  has shape  (7,)\n",
      "Final shape matrix:  (7, 103)\n",
      "index to change:  [ 4067 14067 24067 34067 44067 54067 64067]\n",
      "Generation types:\n",
      "1 : Random (default)\n",
      "2 : LHS\n",
      "3 : LowDiscrepancySequence\n",
      "4 : SimulatedAnnealingLHS\n",
      "Choosen generation method is Random (default)\n"
     ]
    },
    {
     "name": "stderr",
     "output_type": "stream",
     "text": [
      "[Parallel(n_jobs=-1)]: Done   1 tasks      | elapsed:    0.3s\n",
      "[Parallel(n_jobs=-1)]: Done   2 out of   7 | elapsed:    0.3s remaining:    0.8s\n",
      "[Parallel(n_jobs=-1)]: Done   3 out of   7 | elapsed:    0.3s remaining:    0.5s\n",
      "[Parallel(n_jobs=-1)]: Done   4 out of   7 | elapsed:    0.4s remaining:    0.3s\n",
      "[Parallel(n_jobs=-1)]: Done   5 out of   7 | elapsed:    0.5s remaining:    0.2s\n",
      "[Parallel(n_jobs=-1)]: Done   7 out of   7 | elapsed:    0.6s remaining:    0.0s\n",
      "[Parallel(n_jobs=-1)]: Done   7 out of   7 | elapsed:    0.6s finished\n",
      "[Parallel(n_jobs=-1)]: Using backend LokyBackend with 4 concurrent workers.\n"
     ]
    },
    {
     "name": "stdout",
     "output_type": "stream",
     "text": [
      "shape deflection:  (7, 103)  should be [N,10X] something\n",
      "deflection std deviation  1.1915874452788682\n",
      "timed  0.594536543  s for function \" randomBeamFunctionSample \"\n",
      "Converting list of outputs into matrix: \n",
      "Element  1  has shape  (7, 102)\n",
      "Element  2  has shape  (7,)\n",
      "Final shape matrix:  (7, 103)\n",
      "index to change:  [ 6651 16651 26651 36651 46651 56651 66651]\n",
      "Generation types:\n",
      "1 : Random (default)\n",
      "2 : LHS\n",
      "3 : LowDiscrepancySequence\n",
      "4 : SimulatedAnnealingLHS\n",
      "Choosen generation method is Random (default)\n"
     ]
    },
    {
     "name": "stderr",
     "output_type": "stream",
     "text": [
      "[Parallel(n_jobs=-1)]: Done   1 tasks      | elapsed:    0.3s\n",
      "[Parallel(n_jobs=-1)]: Done   2 out of   7 | elapsed:    0.3s remaining:    0.8s\n",
      "[Parallel(n_jobs=-1)]: Done   3 out of   7 | elapsed:    0.4s remaining:    0.5s\n",
      "[Parallel(n_jobs=-1)]: Done   4 out of   7 | elapsed:    0.5s remaining:    0.4s\n",
      "[Parallel(n_jobs=-1)]: Done   5 out of   7 | elapsed:    0.5s remaining:    0.2s\n",
      "[Parallel(n_jobs=-1)]: Done   7 out of   7 | elapsed:    0.6s remaining:    0.0s\n",
      "[Parallel(n_jobs=-1)]: Done   7 out of   7 | elapsed:    0.6s finished\n",
      "[Parallel(n_jobs=-1)]: Using backend LokyBackend with 4 concurrent workers.\n"
     ]
    },
    {
     "name": "stdout",
     "output_type": "stream",
     "text": [
      "shape deflection:  (7, 103)  should be [N,10X] something\n",
      "deflection std deviation  1.8561364548886914\n",
      "timed  0.61063242  s for function \" randomBeamFunctionSample \"\n",
      "Converting list of outputs into matrix: \n",
      "Element  1  has shape  (7, 102)\n",
      "Element  2  has shape  (7,)\n",
      "Final shape matrix:  (7, 103)\n",
      "index to change:  [ 9051 19051 29051 39051 49051 59051 69051]\n",
      "Generation types:\n",
      "1 : Random (default)\n",
      "2 : LHS\n",
      "3 : LowDiscrepancySequence\n",
      "4 : SimulatedAnnealingLHS\n",
      "Choosen generation method is Random (default)\n"
     ]
    },
    {
     "name": "stderr",
     "output_type": "stream",
     "text": [
      "[Parallel(n_jobs=-1)]: Done   1 tasks      | elapsed:    0.3s\n",
      "[Parallel(n_jobs=-1)]: Done   2 out of   7 | elapsed:    0.3s remaining:    0.7s\n",
      "[Parallel(n_jobs=-1)]: Done   3 out of   7 | elapsed:    0.3s remaining:    0.5s\n",
      "[Parallel(n_jobs=-1)]: Done   4 out of   7 | elapsed:    0.4s remaining:    0.3s\n",
      "[Parallel(n_jobs=-1)]: Done   5 out of   7 | elapsed:    0.5s remaining:    0.2s\n",
      "[Parallel(n_jobs=-1)]: Done   7 out of   7 | elapsed:    0.6s remaining:    0.0s\n",
      "[Parallel(n_jobs=-1)]: Done   7 out of   7 | elapsed:    0.6s finished\n",
      "[Parallel(n_jobs=-1)]: Using backend LokyBackend with 4 concurrent workers.\n"
     ]
    },
    {
     "name": "stdout",
     "output_type": "stream",
     "text": [
      "shape deflection:  (7, 103)  should be [N,10X] something\n",
      "deflection std deviation  0.9871520212405751\n",
      "timed  0.583303928  s for function \" randomBeamFunctionSample \"\n",
      "Converting list of outputs into matrix: \n",
      "Element  1  has shape  (7, 102)\n",
      "Element  2  has shape  (7,)\n",
      "Final shape matrix:  (7, 103)\n",
      "index to change:  [ 9163 19163 29163 39163 49163 59163 69163]\n",
      "Generation types:\n",
      "1 : Random (default)\n",
      "2 : LHS\n",
      "3 : LowDiscrepancySequence\n",
      "4 : SimulatedAnnealingLHS\n",
      "Choosen generation method is Random (default)\n"
     ]
    },
    {
     "name": "stderr",
     "output_type": "stream",
     "text": [
      "[Parallel(n_jobs=-1)]: Done   1 tasks      | elapsed:    0.3s\n",
      "[Parallel(n_jobs=-1)]: Done   2 out of   7 | elapsed:    0.4s remaining:    0.9s\n",
      "[Parallel(n_jobs=-1)]: Done   3 out of   7 | elapsed:    0.4s remaining:    0.5s\n",
      "[Parallel(n_jobs=-1)]: Done   4 out of   7 | elapsed:    0.5s remaining:    0.3s\n",
      "[Parallel(n_jobs=-1)]: Done   5 out of   7 | elapsed:    0.6s remaining:    0.2s\n",
      "[Parallel(n_jobs=-1)]: Done   7 out of   7 | elapsed:    0.6s remaining:    0.0s\n",
      "[Parallel(n_jobs=-1)]: Done   7 out of   7 | elapsed:    0.6s finished\n",
      "[Parallel(n_jobs=-1)]: Using backend LokyBackend with 4 concurrent workers.\n"
     ]
    },
    {
     "name": "stdout",
     "output_type": "stream",
     "text": [
      "shape deflection:  (7, 103)  should be [N,10X] something\n",
      "deflection std deviation  2.1633957468549734\n",
      "timed  0.644307852  s for function \" randomBeamFunctionSample \"\n",
      "Converting list of outputs into matrix: \n",
      "Element  1  has shape  (7, 102)\n",
      "Element  2  has shape  (7,)\n",
      "Final shape matrix:  (7, 103)\n",
      "index to change:  [ 1635 11635 21635 31635 41635 51635 61635]\n",
      "Generation types:\n",
      "1 : Random (default)\n",
      "2 : LHS\n",
      "3 : LowDiscrepancySequence\n",
      "4 : SimulatedAnnealingLHS\n",
      "Choosen generation method is Random (default)\n"
     ]
    },
    {
     "name": "stderr",
     "output_type": "stream",
     "text": [
      "[Parallel(n_jobs=-1)]: Done   1 tasks      | elapsed:    0.3s\n",
      "[Parallel(n_jobs=-1)]: Done   2 out of   7 | elapsed:    0.3s remaining:    0.8s\n",
      "[Parallel(n_jobs=-1)]: Done   3 out of   7 | elapsed:    0.4s remaining:    0.5s\n",
      "[Parallel(n_jobs=-1)]: Done   4 out of   7 | elapsed:    0.4s remaining:    0.3s\n",
      "[Parallel(n_jobs=-1)]: Done   5 out of   7 | elapsed:    0.5s remaining:    0.2s\n",
      "[Parallel(n_jobs=-1)]: Done   7 out of   7 | elapsed:    0.6s remaining:    0.0s\n",
      "[Parallel(n_jobs=-1)]: Done   7 out of   7 | elapsed:    0.6s finished\n",
      "[Parallel(n_jobs=-1)]: Using backend LokyBackend with 4 concurrent workers.\n"
     ]
    },
    {
     "name": "stdout",
     "output_type": "stream",
     "text": [
      "shape deflection:  (7, 103)  should be [N,10X] something\n",
      "deflection std deviation  1.5149512655784982\n",
      "timed  0.598986149  s for function \" randomBeamFunctionSample \"\n",
      "Converting list of outputs into matrix: \n",
      "Element  1  has shape  (7, 102)\n",
      "Element  2  has shape  (7,)\n",
      "Final shape matrix:  (7, 103)\n",
      "index to change:  [ 3272 13272 23272 33272 43272 53272 63272]\n",
      "Generation types:\n",
      "1 : Random (default)\n",
      "2 : LHS\n",
      "3 : LowDiscrepancySequence\n",
      "4 : SimulatedAnnealingLHS\n",
      "Choosen generation method is Random (default)\n"
     ]
    },
    {
     "name": "stderr",
     "output_type": "stream",
     "text": [
      "[Parallel(n_jobs=-1)]: Done   1 tasks      | elapsed:    0.3s\n",
      "[Parallel(n_jobs=-1)]: Done   2 out of   7 | elapsed:    0.3s remaining:    0.8s\n",
      "[Parallel(n_jobs=-1)]: Done   3 out of   7 | elapsed:    0.3s remaining:    0.4s\n",
      "[Parallel(n_jobs=-1)]: Done   4 out of   7 | elapsed:    0.4s remaining:    0.3s\n",
      "[Parallel(n_jobs=-1)]: Done   5 out of   7 | elapsed:    0.5s remaining:    0.2s\n",
      "[Parallel(n_jobs=-1)]: Done   7 out of   7 | elapsed:    0.6s remaining:    0.0s\n",
      "[Parallel(n_jobs=-1)]: Done   7 out of   7 | elapsed:    0.6s finished\n",
      "[Parallel(n_jobs=-1)]: Using backend LokyBackend with 4 concurrent workers.\n"
     ]
    },
    {
     "name": "stdout",
     "output_type": "stream",
     "text": [
      "shape deflection:  (7, 103)  should be [N,10X] something\n",
      "deflection std deviation  3.7437270012960053\n",
      "timed  0.632239103  s for function \" randomBeamFunctionSample \"\n",
      "Converting list of outputs into matrix: \n",
      "Element  1  has shape  (7, 102)\n",
      "Element  2  has shape  (7,)\n",
      "Final shape matrix:  (7, 103)\n",
      "index to change:  [ 3499 13499 23499 33499 43499 53499 63499]\n",
      "Generation types:\n",
      "1 : Random (default)\n",
      "2 : LHS\n",
      "3 : LowDiscrepancySequence\n",
      "4 : SimulatedAnnealingLHS\n",
      "Choosen generation method is Random (default)\n"
     ]
    },
    {
     "name": "stderr",
     "output_type": "stream",
     "text": [
      "[Parallel(n_jobs=-1)]: Done   1 tasks      | elapsed:    0.3s\n",
      "[Parallel(n_jobs=-1)]: Done   2 out of   7 | elapsed:    0.3s remaining:    0.8s\n",
      "[Parallel(n_jobs=-1)]: Done   3 out of   7 | elapsed:    0.4s remaining:    0.5s\n",
      "[Parallel(n_jobs=-1)]: Done   4 out of   7 | elapsed:    0.4s remaining:    0.3s\n",
      "[Parallel(n_jobs=-1)]: Done   5 out of   7 | elapsed:    0.5s remaining:    0.2s\n",
      "[Parallel(n_jobs=-1)]: Done   7 out of   7 | elapsed:    0.6s remaining:    0.0s\n",
      "[Parallel(n_jobs=-1)]: Done   7 out of   7 | elapsed:    0.6s finished\n",
      "[Parallel(n_jobs=-1)]: Using backend LokyBackend with 4 concurrent workers.\n"
     ]
    },
    {
     "name": "stdout",
     "output_type": "stream",
     "text": [
      "shape deflection:  (7, 103)  should be [N,10X] something\n",
      "deflection std deviation  1.5994323118160187\n",
      "timed  0.642104387  s for function \" randomBeamFunctionSample \"\n",
      "Converting list of outputs into matrix: \n",
      "Element  1  has shape  (7, 102)\n",
      "Element  2  has shape  (7,)\n",
      "Final shape matrix:  (7, 103)\n",
      "index to change:  [ 7907 17907 27907 37907 47907 57907 67907]\n",
      "Generation types:\n",
      "1 : Random (default)\n",
      "2 : LHS\n",
      "3 : LowDiscrepancySequence\n",
      "4 : SimulatedAnnealingLHS\n",
      "Choosen generation method is Random (default)\n"
     ]
    },
    {
     "name": "stderr",
     "output_type": "stream",
     "text": [
      "[Parallel(n_jobs=-1)]: Done   1 tasks      | elapsed:    0.3s\n",
      "[Parallel(n_jobs=-1)]: Done   2 out of   7 | elapsed:    0.3s remaining:    0.9s\n",
      "[Parallel(n_jobs=-1)]: Done   3 out of   7 | elapsed:    0.3s remaining:    0.5s\n",
      "[Parallel(n_jobs=-1)]: Done   4 out of   7 | elapsed:    0.4s remaining:    0.3s\n",
      "[Parallel(n_jobs=-1)]: Done   5 out of   7 | elapsed:    0.6s remaining:    0.2s\n",
      "[Parallel(n_jobs=-1)]: Done   7 out of   7 | elapsed:    0.6s remaining:    0.0s\n",
      "[Parallel(n_jobs=-1)]: Done   7 out of   7 | elapsed:    0.6s finished\n",
      "[Parallel(n_jobs=-1)]: Using backend LokyBackend with 4 concurrent workers.\n"
     ]
    },
    {
     "name": "stdout",
     "output_type": "stream",
     "text": [
      "shape deflection:  (7, 103)  should be [N,10X] something\n",
      "deflection std deviation  6.444699542578375\n",
      "timed  0.61366415  s for function \" randomBeamFunctionSample \"\n",
      "Converting list of outputs into matrix: \n",
      "Element  1  has shape  (7, 102)\n",
      "Element  2  has shape  (7,)\n",
      "Final shape matrix:  (7, 103)\n",
      "index to change:  [ 9301 19301 29301 39301 49301 59301 69301]\n",
      "Generation types:\n",
      "1 : Random (default)\n",
      "2 : LHS\n",
      "3 : LowDiscrepancySequence\n",
      "4 : SimulatedAnnealingLHS\n",
      "Choosen generation method is Random (default)\n"
     ]
    },
    {
     "name": "stderr",
     "output_type": "stream",
     "text": [
      "[Parallel(n_jobs=-1)]: Done   1 tasks      | elapsed:    0.3s\n",
      "[Parallel(n_jobs=-1)]: Done   2 out of   7 | elapsed:    0.3s remaining:    0.8s\n",
      "[Parallel(n_jobs=-1)]: Done   3 out of   7 | elapsed:    0.4s remaining:    0.5s\n",
      "[Parallel(n_jobs=-1)]: Done   4 out of   7 | elapsed:    0.5s remaining:    0.4s\n",
      "[Parallel(n_jobs=-1)]: Done   5 out of   7 | elapsed:    0.6s remaining:    0.2s\n",
      "[Parallel(n_jobs=-1)]: Done   7 out of   7 | elapsed:    0.7s remaining:    0.0s\n",
      "[Parallel(n_jobs=-1)]: Done   7 out of   7 | elapsed:    0.7s finished\n"
     ]
    },
    {
     "name": "stdout",
     "output_type": "stream",
     "text": [
      "shape deflection:  (7, 103)  should be [N,10X] something\n",
      "deflection std deviation  2.240866672539478\n",
      "timed  0.694873571  s for function \" randomBeamFunctionSample \"\n",
      "Converting list of outputs into matrix: \n",
      "Element  1  has shape  (7, 102)\n",
      "Element  2  has shape  (7,)\n",
      "Final shape matrix:  (7, 103)\n",
      "index to change:  [  493 10493 20493 30493 40493 50493 60493]\n",
      "Generation types:\n",
      "1 : Random (default)\n",
      "2 : LHS\n",
      "3 : LowDiscrepancySequence\n",
      "4 : SimulatedAnnealingLHS\n",
      "Choosen generation method is Random (default)\n"
     ]
    },
    {
     "name": "stderr",
     "output_type": "stream",
     "text": [
      "[Parallel(n_jobs=-1)]: Using backend LokyBackend with 4 concurrent workers.\n",
      "[Parallel(n_jobs=-1)]: Done   1 tasks      | elapsed:    0.3s\n",
      "[Parallel(n_jobs=-1)]: Done   2 out of   7 | elapsed:    0.3s remaining:    0.9s\n",
      "[Parallel(n_jobs=-1)]: Done   3 out of   7 | elapsed:    0.4s remaining:    0.6s\n",
      "[Parallel(n_jobs=-1)]: Done   4 out of   7 | elapsed:    0.5s remaining:    0.3s\n",
      "[Parallel(n_jobs=-1)]: Done   5 out of   7 | elapsed:    0.6s remaining:    0.2s\n",
      "[Parallel(n_jobs=-1)]: Done   7 out of   7 | elapsed:    0.7s remaining:    0.0s\n",
      "[Parallel(n_jobs=-1)]: Done   7 out of   7 | elapsed:    0.7s finished\n",
      "[Parallel(n_jobs=-1)]: Using backend LokyBackend with 4 concurrent workers.\n"
     ]
    },
    {
     "name": "stdout",
     "output_type": "stream",
     "text": [
      "shape deflection:  (7, 103)  should be [N,10X] something\n",
      "deflection std deviation  5.171896876765116\n",
      "timed  0.70315671  s for function \" randomBeamFunctionSample \"\n",
      "Converting list of outputs into matrix: \n",
      "Element  1  has shape  (7, 102)\n",
      "Element  2  has shape  (7,)\n",
      "Final shape matrix:  (7, 103)\n",
      "index to change:  [ 1543 11543 21543 31543 41543 51543 61543]\n",
      "Generation types:\n",
      "1 : Random (default)\n",
      "2 : LHS\n",
      "3 : LowDiscrepancySequence\n",
      "4 : SimulatedAnnealingLHS\n",
      "Choosen generation method is Random (default)\n"
     ]
    },
    {
     "name": "stderr",
     "output_type": "stream",
     "text": [
      "[Parallel(n_jobs=-1)]: Done   1 tasks      | elapsed:    0.3s\n",
      "[Parallel(n_jobs=-1)]: Done   2 out of   7 | elapsed:    0.4s remaining:    0.9s\n",
      "[Parallel(n_jobs=-1)]: Done   3 out of   7 | elapsed:    0.4s remaining:    0.5s\n",
      "[Parallel(n_jobs=-1)]: Done   4 out of   7 | elapsed:    0.5s remaining:    0.4s\n",
      "[Parallel(n_jobs=-1)]: Done   5 out of   7 | elapsed:    0.5s remaining:    0.2s\n",
      "[Parallel(n_jobs=-1)]: Done   7 out of   7 | elapsed:    0.6s remaining:    0.0s\n",
      "[Parallel(n_jobs=-1)]: Done   7 out of   7 | elapsed:    0.6s finished\n"
     ]
    },
    {
     "name": "stdout",
     "output_type": "stream",
     "text": [
      "shape deflection:  (7, 103)  should be [N,10X] something\n",
      "deflection std deviation  4.307337762019508\n",
      "timed  0.648468733  s for function \" randomBeamFunctionSample \"\n",
      "Converting list of outputs into matrix: \n",
      "Element  1  has shape  (7, 102)\n",
      "Element  2  has shape  (7,)\n",
      "Final shape matrix:  (7, 103)\n",
      "index to change:  [ 3126 13126 23126 33126 43126 53126 63126]\n",
      "Generation types:\n",
      "1 : Random (default)\n",
      "2 : LHS\n",
      "3 : LowDiscrepancySequence\n",
      "4 : SimulatedAnnealingLHS\n",
      "Choosen generation method is Random (default)\n"
     ]
    },
    {
     "name": "stderr",
     "output_type": "stream",
     "text": [
      "[Parallel(n_jobs=-1)]: Using backend LokyBackend with 4 concurrent workers.\n",
      "[Parallel(n_jobs=-1)]: Done   1 tasks      | elapsed:    0.3s\n",
      "[Parallel(n_jobs=-1)]: Done   2 out of   7 | elapsed:    0.4s remaining:    0.9s\n",
      "[Parallel(n_jobs=-1)]: Done   3 out of   7 | elapsed:    0.4s remaining:    0.5s\n",
      "[Parallel(n_jobs=-1)]: Done   4 out of   7 | elapsed:    0.5s remaining:    0.4s\n",
      "[Parallel(n_jobs=-1)]: Done   5 out of   7 | elapsed:    0.6s remaining:    0.2s\n",
      "[Parallel(n_jobs=-1)]: Done   7 out of   7 | elapsed:    0.6s remaining:    0.0s\n",
      "[Parallel(n_jobs=-1)]: Done   7 out of   7 | elapsed:    0.6s finished\n",
      "[Parallel(n_jobs=-1)]: Using backend LokyBackend with 4 concurrent workers.\n"
     ]
    },
    {
     "name": "stdout",
     "output_type": "stream",
     "text": [
      "shape deflection:  (7, 103)  should be [N,10X] something\n",
      "deflection std deviation  0.8649901845761718\n",
      "timed  0.642683268  s for function \" randomBeamFunctionSample \"\n",
      "Converting list of outputs into matrix: \n",
      "Element  1  has shape  (7, 102)\n",
      "Element  2  has shape  (7,)\n",
      "Final shape matrix:  (7, 103)\n",
      "index to change:  [ 4067 14067 24067 34067 44067 54067 64067]\n",
      "Generation types:\n",
      "1 : Random (default)\n",
      "2 : LHS\n",
      "3 : LowDiscrepancySequence\n",
      "4 : SimulatedAnnealingLHS\n",
      "Choosen generation method is Random (default)\n"
     ]
    },
    {
     "name": "stderr",
     "output_type": "stream",
     "text": [
      "[Parallel(n_jobs=-1)]: Done   1 tasks      | elapsed:    0.3s\n",
      "[Parallel(n_jobs=-1)]: Done   2 out of   7 | elapsed:    0.4s remaining:    0.9s\n",
      "[Parallel(n_jobs=-1)]: Done   3 out of   7 | elapsed:    0.4s remaining:    0.5s\n",
      "[Parallel(n_jobs=-1)]: Done   4 out of   7 | elapsed:    0.6s remaining:    0.4s\n",
      "[Parallel(n_jobs=-1)]: Done   5 out of   7 | elapsed:    0.6s remaining:    0.2s\n",
      "[Parallel(n_jobs=-1)]: Done   7 out of   7 | elapsed:    0.8s remaining:    0.0s\n",
      "[Parallel(n_jobs=-1)]: Done   7 out of   7 | elapsed:    0.8s finished\n"
     ]
    },
    {
     "name": "stdout",
     "output_type": "stream",
     "text": [
      "shape deflection:  (7, 103)  should be [N,10X] something\n",
      "deflection std deviation  5.402587612633748\n",
      "timed  0.76544714  s for function \" randomBeamFunctionSample \"\n",
      "Converting list of outputs into matrix: \n",
      "Element  1  has shape  (7, 102)\n",
      "Element  2  has shape  (7,)\n",
      "Final shape matrix:  (7, 103)\n",
      "index to change:  [ 6651 16651 26651 36651 46651 56651 66651]\n",
      "Generation types:\n",
      "1 : Random (default)\n",
      "2 : LHS\n",
      "3 : LowDiscrepancySequence\n",
      "4 : SimulatedAnnealingLHS\n",
      "Choosen generation method is Random (default)\n"
     ]
    },
    {
     "name": "stderr",
     "output_type": "stream",
     "text": [
      "[Parallel(n_jobs=-1)]: Using backend LokyBackend with 4 concurrent workers.\n",
      "[Parallel(n_jobs=-1)]: Done   1 tasks      | elapsed:    0.4s\n",
      "[Parallel(n_jobs=-1)]: Done   2 out of   7 | elapsed:    0.4s remaining:    1.0s\n",
      "[Parallel(n_jobs=-1)]: Done   3 out of   7 | elapsed:    0.4s remaining:    0.5s\n",
      "[Parallel(n_jobs=-1)]: Done   4 out of   7 | elapsed:    0.4s remaining:    0.3s\n",
      "[Parallel(n_jobs=-1)]: Done   5 out of   7 | elapsed:    0.7s remaining:    0.3s\n",
      "[Parallel(n_jobs=-1)]: Done   7 out of   7 | elapsed:    0.8s remaining:    0.0s\n",
      "[Parallel(n_jobs=-1)]: Done   7 out of   7 | elapsed:    0.8s finished\n",
      "[Parallel(n_jobs=-1)]: Using backend LokyBackend with 4 concurrent workers.\n"
     ]
    },
    {
     "name": "stdout",
     "output_type": "stream",
     "text": [
      "shape deflection:  (7, 103)  should be [N,10X] something\n",
      "deflection std deviation  1.843927606864673\n",
      "timed  0.766474485  s for function \" randomBeamFunctionSample \"\n",
      "Converting list of outputs into matrix: \n",
      "Element  1  has shape  (7, 102)\n",
      "Element  2  has shape  (7,)\n",
      "Final shape matrix:  (7, 103)\n",
      "index to change:  [ 9051 19051 29051 39051 49051 59051 69051]\n",
      "Generation types:\n",
      "1 : Random (default)\n",
      "2 : LHS\n",
      "3 : LowDiscrepancySequence\n",
      "4 : SimulatedAnnealingLHS\n",
      "Choosen generation method is Random (default)\n"
     ]
    },
    {
     "name": "stderr",
     "output_type": "stream",
     "text": [
      "[Parallel(n_jobs=-1)]: Done   1 tasks      | elapsed:    0.3s\n",
      "[Parallel(n_jobs=-1)]: Done   2 out of   7 | elapsed:    0.4s remaining:    1.0s\n",
      "[Parallel(n_jobs=-1)]: Done   3 out of   7 | elapsed:    0.4s remaining:    0.6s\n",
      "[Parallel(n_jobs=-1)]: Done   4 out of   7 | elapsed:    0.4s remaining:    0.3s\n",
      "[Parallel(n_jobs=-1)]: Done   5 out of   7 | elapsed:    0.5s remaining:    0.2s\n",
      "[Parallel(n_jobs=-1)]: Done   7 out of   7 | elapsed:    0.7s remaining:    0.0s\n",
      "[Parallel(n_jobs=-1)]: Done   7 out of   7 | elapsed:    0.7s finished\n"
     ]
    },
    {
     "name": "stdout",
     "output_type": "stream",
     "text": [
      "shape deflection:  (7, 103)  should be [N,10X] something\n",
      "deflection std deviation  3.4911561917312817\n",
      "timed  0.686915159  s for function \" randomBeamFunctionSample \"\n",
      "Converting list of outputs into matrix: \n",
      "Element  1  has shape  (7, 102)\n",
      "Element  2  has shape  (7,)\n",
      "Final shape matrix:  (7, 103)\n",
      "index to change:  [ 9163 19163 29163 39163 49163 59163 69163]\n",
      "Generation types:\n",
      "1 : Random (default)\n",
      "2 : LHS\n",
      "3 : LowDiscrepancySequence\n",
      "4 : SimulatedAnnealingLHS\n",
      "Choosen generation method is Random (default)\n"
     ]
    },
    {
     "name": "stderr",
     "output_type": "stream",
     "text": [
      "[Parallel(n_jobs=-1)]: Using backend LokyBackend with 4 concurrent workers.\n",
      "[Parallel(n_jobs=-1)]: Done   1 tasks      | elapsed:    0.3s\n",
      "[Parallel(n_jobs=-1)]: Done   2 out of   7 | elapsed:    0.3s remaining:    0.8s\n",
      "[Parallel(n_jobs=-1)]: Done   3 out of   7 | elapsed:    0.3s remaining:    0.5s\n",
      "[Parallel(n_jobs=-1)]: Done   4 out of   7 | elapsed:    0.4s remaining:    0.3s\n",
      "[Parallel(n_jobs=-1)]: Done   5 out of   7 | elapsed:    0.5s remaining:    0.2s\n",
      "[Parallel(n_jobs=-1)]: Done   7 out of   7 | elapsed:    0.6s remaining:    0.0s\n",
      "[Parallel(n_jobs=-1)]: Done   7 out of   7 | elapsed:    0.6s finished\n"
     ]
    },
    {
     "name": "stdout",
     "output_type": "stream",
     "text": [
      "shape deflection:  (7, 103)  should be [N,10X] something\n",
      "deflection std deviation  1.0364881357913986\n",
      "timed  0.584495544  s for function \" randomBeamFunctionSample \"\n",
      "Converting list of outputs into matrix: \n",
      "Element  1  has shape  (7, 102)\n",
      "Element  2  has shape  (7,)\n",
      "Final shape matrix:  (7, 103)\n",
      " - Post replacement assertion passed - \n",
      "\n",
      "Transforming matrix of shape  (70000, 103)\n",
      "Into list of Ndarrays according to output definition\n",
      "Dimension output  0  is  102\n",
      "Intermediary shape is : (70000, 102)\n",
      "new shape is:  [70000, 102]\n",
      "Output element  0  has shape  (70000, 102)\n",
      "Dimension output  1  is  1\n",
      "Intermediary shape is : (70000, 1)\n",
      "new shape is:  [70000, 1]\n",
      "Output element  1  has shape  (70000,)\n"
     ]
    }
   ],
   "source": [
    "processSensitivityAnalysis.getOutputDesignAndPostprocess()"
   ]
  },
  {
   "cell_type": "markdown",
   "metadata": {},
   "source": [
    "Le *timing* vient de la classe ***custum_wraps***, qui est pour l'instant assez inutile, mais permet de prendre en main les décorateurs...\n",
    "\n",
    "Une fois le _output design_ generé, l'on peut faire l'analyse de sensibilité sur le model.\n",
    "Pour ce faire, l'on utilise la fonction ***self.getSobolIndiciesKLCoefs***.\n",
    "La fonction ne renvoie pas directement les indices de sobol, mais bien des champs d'objets ***openTURNS.SaltelliSensitivityAlgorithm*** ou ***openTURNS.MartinezSensitivityAlgorithm*** ou ***openTURNS.JansenSensitivityAlgorithm*** ou ***openTURNS.MauntzKucherenkoSensitivityAlgorithm***.\n",
    "\n",
    "Ceci est bien sûr fait dans l'optique de toujours pouvoir accéder à l'entierté des indices de sobol et indices totaux du modèle.\n",
    "Ceci veut aussi dire qu'il manque une dimension pour les champs en sortie, celle des variables d'entrée."
   ]
  },
  {
   "cell_type": "code",
   "execution_count": 13,
   "metadata": {},
   "outputs": [
    {
     "name": "stdout",
     "output_type": "stream",
     "text": [
      "Populating the interactive namespace from numpy and matplotlib\n"
     ]
    },
    {
     "name": "stderr",
     "output_type": "stream",
     "text": [
      "/home/simady/anaconda/envs/stochastic_field_env/lib/python3.6/site-packages/IPython/core/magics/pylab.py:160: UserWarning: pylab import has clobbered these variables: ['size']\n",
      "`%matplotlib` prevents importing * from pylab and numpy\n",
      "  \"\\n`%matplotlib` prevents importing * from pylab and numpy\"\n"
     ]
    }
   ],
   "source": [
    "%pylab inline\n",
    "pylab.rcParams['figure.figsize'] = (13, 5)\n",
    "import NdGaussianProcessSensitivityIndices as ngpsi\n",
    "_=reload(ngpsi)"
   ]
  },
  {
   "cell_type": "markdown",
   "metadata": {},
   "source": [
    "Ici on calcule les indices de sobol du premier ordre"
   ]
  },
  {
   "cell_type": "code",
   "execution_count": 14,
   "metadata": {},
   "outputs": [],
   "source": [
    "output = processSensitivityAnalysis.outputDesignList; output1 = output[0]; output2 = output[1]"
   ]
  },
  {
   "cell_type": "code",
   "execution_count": 16,
   "metadata": {
    "scrolled": true
   },
   "outputs": [
    {
     "name": "stdout",
     "output_type": "stream",
     "text": [
      "There are 5 indices to get in (102,) dimensions with 102 elements\n",
      "After centering, mean= [0.02164414 0.07706047 0.14819494 0.21991498 0.29218776 0.3652756\n",
      " 0.43925892 0.51399798 0.58917759 0.66438606 0.73920775 0.81330941\n",
      " 0.88650558 0.95879025 1.03033281 1.10144161 1.17250464 1.24391916\n",
      " 1.31602352 1.38903949 1.46303441 1.53790718 1.61340195 1.68914596\n",
      " 1.76470783 1.83966823 1.91368965 1.98657392 2.05829872 2.12902233\n",
      " 2.19906043 2.26883723 2.33881728 2.40943299 2.48101664 2.55374489\n",
      " 2.6274875  2.70192675 2.77635385 2.85031335 2.92270316 2.99291286\n",
      " 3.05983662 3.12322877 3.1821721  3.23583239 3.28227282 3.31956502\n",
      " 3.34742293 3.36420976 3.37134257 3.36897011 3.35649829 3.33541115\n",
      " 3.30666012 3.27029503 3.22604636 3.17307776 3.11431475 3.05119444\n",
      " 2.98501463 2.91598543 2.84461934 2.77199629 2.69874565 2.62557025\n",
      " 2.55306897 2.48177725 2.41169061 2.34252401 2.27406926 2.20593186\n",
      " 2.13765265 2.06880895 1.99908265 1.92830748 1.85649368 1.78382349\n",
      " 1.71061596 1.63727363 1.56421244 1.49179313 1.42026288 1.3497167\n",
      " 1.28008135 1.21112971 1.14251537 1.07382921 1.00466829 0.93470504\n",
      " 0.86375133 0.79179645 0.71901578 0.64574262 0.57240674 0.49944725\n",
      " 0.42722179 0.3559204  0.28550598 0.21569457 0.14601808 0.07631357] \n",
      "std=  [ 0.26491265  1.00685008  1.94374228  2.88595925  3.83523861  4.79584539\n",
      "  5.76915072  6.75326883  7.74374202  8.73470673  9.72025147 10.69566753\n",
      " 11.65836894 12.60830963 13.54788979 14.48142403 15.41431406 16.35208609\n",
      " 17.29946081 18.25955261 19.23332367 20.21935458 21.21400427 22.21193395\n",
      " 23.20694845 24.1930391  25.16541962 26.12136952 27.06074633 27.98626095\n",
      " 28.90000013 29.80986171 30.72297313 31.64200985 32.57489404 33.51971075\n",
      " 34.46545584 35.4064137  36.31961419 37.19575536 38.00877809 38.74140459\n",
      " 39.36703092 39.87629653 40.26100583 40.52788888 40.69526572 40.75187494\n",
      " 40.73797505 40.70101846 40.70614174 40.74329283 40.80815415 40.88390697\n",
      " 40.93175501 40.92436564 40.79771466 40.53237864 40.1256077  39.57336651\n",
      " 38.91286988 38.1651233  37.35227982 36.48387529 35.56806102 34.62667301\n",
      " 33.68370753 32.75237714 31.83512578 30.92656786 30.0250756  29.12875036\n",
      " 28.23016845 27.32384585 26.40536025 25.47223828 24.52453723 23.56480145\n",
      " 22.59756379 21.62856099 20.66370154 19.70806141 18.76504884 17.83587722\n",
      " 16.91937448 16.01221922 15.109447   14.20524187 13.29388778 12.37072765\n",
      " 11.43306713 10.48073844  9.51625875  8.54445625  7.57159123  6.60407736\n",
      "  5.64712817  4.70348226  3.7725324   2.85002659  1.92881287  1.00451188]\n",
      "After centering, mean= [0.02163909 0.07710903 0.14830389 0.22009037 0.29243575 0.36560141\n",
      " 0.43966626 0.51448888 0.58975261 0.66504493 0.73995044 0.81413737\n",
      " 0.88742302 0.95980512 1.03145729 1.10269204 1.17390077 1.24548286\n",
      " 1.31777712 1.39100377 1.46522667 1.54033955 1.6160801  1.69206859\n",
      " 1.76786685 1.84304973 1.91727546 1.99034337 2.06223026 2.13309473\n",
      " 2.20325315 2.27313    2.34318883 2.41377631 2.48524697 2.55788238\n",
      " 2.63147527 2.70567128 2.77978721 2.85352994 2.92553543 2.99572032\n",
      " 3.06334908 3.1274943  3.18727634 3.24217821 3.28984643 3.32896266\n",
      " 3.35924815 3.37799235 3.38625299 3.3840105  3.37166739 3.35120374\n",
      " 3.32263947 3.28678419 3.2429404  3.19011717 3.13113749 3.06748005\n",
      " 3.0011795  2.93202449 2.86062851 2.78791581 2.71441202 2.64091526\n",
      " 2.56800458 2.49631723 2.42578074 2.35607413 2.28706049 2.21835568\n",
      " 2.14949602 2.08005458 2.00971041 1.93829686 1.86582685 1.79248844\n",
      " 1.71860912 1.64460165 1.57089283 1.49785373 1.42574036 1.35465444\n",
      " 1.28452685 1.21513206 1.14612287 1.07708726 1.00761783 0.93738139\n",
      " 0.86618351 0.79400705 0.72102123 0.6475538  0.57402989 0.50088488\n",
      " 0.42847359 0.35698381 0.28637661 0.21636618 0.14648266 0.07656319] \n",
      "std=  [ 0.26491306  1.00684635  1.94373395  2.88594584  3.83521965  4.79582048\n",
      "  5.76911959  6.75323132  7.7436981   8.73465641  9.72019476 10.69560431\n",
      " 11.65829889 12.60823212 13.5478039  14.48132849 15.41420736 16.35196653\n",
      " 17.29932669 18.25940234 19.23315591 20.2191684  21.21379923 22.21171016\n",
      " 23.20670651 24.19278008 25.1651449  26.12108067 27.060445   27.98594877\n",
      " 28.89967866 29.80953251 30.72263785 31.64167673 32.57456964 33.51939348\n",
      " 34.46514999 35.40612636 36.31935044 37.19550776 38.00855946 38.74118689\n",
      " 39.36675666 39.87596062 40.26059981 40.52737824 40.69464923 40.75110075\n",
      " 40.73698963 40.69986055 40.70488497 40.74202694 40.80688391 40.88259414\n",
      " 40.93043915 40.92302138 40.79635077 40.53101604 40.12427379 39.57208403\n",
      " 38.91160299 38.16387086 37.35103315 36.48263794 35.5668447  34.62548225\n",
      " 33.68254897 32.75124955 31.83403341 30.92551775 30.02406916 29.12778829\n",
      " 28.22925175 27.32297586 26.40453853 25.47146638 24.52381649 23.56413277\n",
      " 22.59694739 21.62799632 20.6631872  19.70759519 18.76462786 17.83549809\n",
      " 16.91903347 16.01191248 15.10917077 14.20499259 13.29366225 12.37052312\n",
      " 11.43288131 10.48056957  9.51610553  8.54431783  7.57146713  6.60396739\n",
      "  5.64703236  4.70340083  3.77246571  2.84997513  1.92877725  1.00449266]\n",
      "After centering, mean= [0.02159428 0.07689374 0.14788712 0.21947691 0.29163109 0.36461184\n",
      " 0.4384994  0.51315378 0.58825927 0.66340315 0.7381682  0.81221906\n",
      " 0.88536769 0.9576052  1.02909795 1.10015125 1.17115019 1.2424893\n",
      " 1.31450451 1.38741546 1.46128785 1.53601943 1.6113538  1.68691834\n",
      " 1.7622824  1.83702788 1.91081881 1.98345848 2.05492564 2.12537885\n",
      " 2.19513303 2.26461035 2.3342721  2.40454625 2.4757598  2.54808368\n",
      " 2.62132938 2.69516136 2.7689552  2.84224164 2.91371488 2.98293191\n",
      " 3.0486533  3.11074827 3.16846627 3.22142623 3.26736292 3.30472438\n",
      " 3.33338524 3.35115324 3.3596154  3.35831806 3.34697977 3.32722497\n",
      " 3.29971063 3.26496903 3.22196315 3.1699786  3.11187939 3.04921336\n",
      " 2.98349743 2.91474098 2.84384537 2.77171282 2.69887633 2.62605353\n",
      " 2.55380628 2.4828017  2.41298612 2.34402094 2.27575365 2.2077994\n",
      " 2.1396935  2.07100686 2.00141462 1.93074426 1.8590009  1.78636339\n",
      " 1.71314937 1.6397621  1.5666201  1.49408822 1.42241882 1.35171275\n",
      " 1.28190283 1.21276801 1.14396776 1.07509843 1.00576208 0.93563542\n",
      " 0.86453369 0.79244849 0.71955618 0.64618971 0.57277731 0.49975553\n",
      " 0.42747883 0.35613379 0.28567999 0.21583044 0.14611451 0.07636793] \n",
      "std=  [ 0.26491669  1.00686265  1.94376539  2.8859921   3.83528033  4.7958951\n",
      "  5.76920758  6.75333198  7.74381068  8.73478018  9.72032913 10.69574895\n",
      " 11.65845389 12.60839806 13.54798188 14.48152018 15.41441487 16.35219235\n",
      " 17.29957351 18.25967287 19.23345275 20.21949382 21.21415507 22.21209772\n",
      " 23.20712655 24.19323284 25.16563019 26.12159801 27.06099378 27.98652836\n",
      " 28.90028859 29.81017243 30.72330757 31.64237007 32.5752824  33.52012976\n",
      " 34.46591269 35.40691703 36.32016656 37.19636005 38.00945458 38.74215888\n",
      " 39.36787826 39.87724587 40.26205375 40.52899585 40.69641712 40.75302307\n",
      " 40.73905661 40.70201728 40.70703118 40.74409608 40.80886393 40.88450342\n",
      " 40.93224904 40.92472694 40.7979751  40.53256105 40.12573961 39.57346624\n",
      " 38.91293461 38.16516737 37.35228835 36.48384733 35.5680032  34.62659023\n",
      " 33.68360751 32.75225739 31.83498778 30.92641722 30.0249134  29.12857693\n",
      " 28.22998453 27.32365266 26.40515951 25.47203215 24.52432822 23.56459232\n",
      " 22.59735736 21.62835999 20.66350849 19.7078785  18.76487788 17.83571958\n",
      " 16.91923106 16.01209049 15.10933301 14.20514228 13.29380188 12.37065443\n",
      " 11.43300535 10.48068672  9.51621564  8.54442034  7.57156126  6.60405227\n",
      "  5.64710714  4.70346473  3.77251807  2.8500154   1.92880493  1.0045074 ]\n",
      "After centering, mean= [0.02172222 0.07738484 0.14883939 0.22089666 0.29352463 0.36698675\n",
      " 0.44136322 0.51651266 0.59211712 0.66776152 0.74302695 0.81757764\n",
      " 0.89122685 0.96396877 1.03597427 1.10755406 1.17909873 1.25100754\n",
      " 1.32361958 1.39715535 1.47167859 1.54708205 1.62310138 1.69935351\n",
      " 1.7753957  1.85079717 1.92520989 1.99842682 2.07041898 2.14134025\n",
      " 2.21150392 2.28133325 2.35129248 2.4216954  2.49299193 2.56535754\n",
      " 2.63865522 2.71252917 2.78619096 2.85915973 2.93033663 2.99935022\n",
      " 3.0652589  3.12720845 3.18458873 3.23624965 3.28089168 3.31682438\n",
      " 3.34324324 3.35868431 3.36462952 3.36117381 3.3483749  3.32710287\n",
      " 3.29743863 3.26021912 3.21495122 3.16147211 3.10230229 3.03901053\n",
      " 2.97290738 2.90401365 2.83300454 2.76071778 2.68790238 2.61520571\n",
      " 2.54326675 2.47253889 2.40289908 2.33412058 2.26602213 2.19820989\n",
      " 2.13022986 2.06166421 1.99219911 1.92167179 1.85009522 1.77765372\n",
      " 1.70466785 1.63154141 1.55869144 1.48647993 1.41515558 1.34481532\n",
      " 1.27538822 1.20664985 1.13825669 1.06980237 1.00088628 0.93118227\n",
      " 0.86050238 0.7888346  0.71635139 0.64338183 0.57035063 0.49769164\n",
      " 0.42575775 0.35473532 0.28458505 0.21502232 0.14557966 0.07609492] \n",
      "std=  [ 0.26490602  1.00682419  1.94369107  2.88588134  3.8351326   4.79570984\n",
      "  5.76898422  6.75307007  7.74350992  8.73444046  9.71995043 10.69533128\n",
      " 11.65799715 12.60790189 13.54744559 14.48094264 15.41379455 16.35152735\n",
      " 17.29886168 18.25891201 19.23264083 20.2186292  21.21323672 22.21112545\n",
      " 23.2061011  24.19215594 25.16450453 26.1204271  27.05978176 27.98527977\n",
      " 28.89900801 29.80886448 30.72197666 31.64102968 32.57393625 33.51878103\n",
      " 34.4645601  35.40556089 36.31881981 37.19503651 38.0081513  38.74086691\n",
      " 39.36656428 39.87593464 40.26075913 40.52779592 40.69531294 40.75202748\n",
      " 40.73824045 40.70139164 40.70661488 40.7438599  40.80874932 40.88451335\n",
      " 40.93243169 40.92510368 40.79852403 40.53321918 40.1264732  39.57424186\n",
      " 38.91373502 38.16597457 37.35310113 36.48466937 35.56882235 34.62739932\n",
      " 33.68439339 32.75302249 31.83573955 30.92715492 30.02563838 29.12929113\n",
      " 28.23068913 27.324348   26.40584513 25.47270689 24.52499035 23.56523969\n",
      " 22.59798761 21.62897074 20.66409743 19.70844355 18.7654172  17.83623164\n",
      " 16.91971461 16.01254453 15.10975677 14.2055352  13.2941636  12.37098482\n",
      " 11.4333045  10.48095498  9.51645364  8.544629    7.57174172  6.60420587\n",
      "  5.64723532  4.70356895  3.77259972  2.85007568  1.92884485  1.00452785]\n",
      "After centering, mean= [0.02164527 0.07704799 0.14816534 0.21986494 0.29211387 0.3651747\n",
      " 0.43912831 0.51383553 0.58898173 0.66415556 0.73894135 0.81300537\n",
      " 0.88616122 0.95840165 1.02989463 1.10094723 1.17194651 1.24328938\n",
      " 1.31531464 1.38824526 1.46215068 1.53693261 1.61233849 1.68799908\n",
      " 1.76348635 1.83838374 1.91235561 1.98520447 2.05690737 2.12762069\n",
      " 2.19765716 2.26743728 2.33742158 2.40803853 2.47961708 2.55233155\n",
      " 2.62608491 2.70039973 2.77472575 2.84841617 2.92056704 2.9903554\n",
      " 3.05671697 3.11924248 3.17714755 3.22994107 3.27536729 3.31207406\n",
      " 3.338901   3.35548758 3.36358125 3.36228086 3.35074628 3.33012353\n",
      " 3.30157275 3.26558266 3.22183228 3.16960604 3.11167157 3.04920979\n",
      " 2.98344565 2.91449899 2.84331077 2.77096411 2.69802384 2.62514323\n",
      " 2.55289081 2.48182739 2.41194487 2.34290188 2.27451969 2.20641726\n",
      " 2.13813543 2.06925225 1.99945144 1.92856988 1.8566224  1.78379709\n",
      " 1.71041976 1.63690014 1.56366127 1.49107046 1.41938064 1.34869165\n",
      " 1.2789341  1.20988387 1.14119678 1.07246516 1.00328683 0.93333406\n",
      " 0.86241762 0.79052468 0.71782748 0.64465534 0.57143356 0.49859665\n",
      " 0.42649802 0.35532417 0.28503545 0.21534634 0.14578809 0.07619737] \n",
      "std=  [ 0.26491224  1.00684963  1.94374175  2.88595883  3.8352385   4.79584577\n",
      "  5.76915174  6.75327058  7.74374459  8.73471018  9.72025587 10.69567298\n",
      " 11.65837559 12.6083177  13.54789958 14.48143589 15.41432838 16.35210326\n",
      " 17.29948117 18.2595764  19.23335101 20.21938541 21.21403837 22.21197094\n",
      " 23.20698777 24.19308012 25.16546166 26.12141193 27.06078856 27.98630262\n",
      " 28.90004108 29.80990204 30.72301319 31.64205133 32.57493789 33.51975771\n",
      " 34.46550414 35.40647353 36.31968487 37.19584994 38.00889446 38.74155493\n",
      " 39.36722198 39.87655299 40.26134221 40.52829574 40.69575532 40.75241189\n",
      " 40.73859495 40.70165443 40.70670142 40.74376845 40.80855419 40.88426664\n",
      " 40.93209698 40.92467359 40.79797715 40.53257823 40.12574007 39.57344811\n",
      " 38.9129185  38.16516521 37.35230808 36.48388254 35.56804595 34.62663738\n",
      " 33.68365574 32.75231076 31.83504651 30.9264822  30.02498745 29.12866252\n",
      " 28.23008373 27.32376704 26.40529001 25.47217902 24.524491   23.56476985\n",
      " 22.59754786 21.62856119 20.66371777 19.70809303 18.76509476 17.835936\n",
      " 16.91944435 16.01229821 15.109533   14.20533267 13.29398114 12.37082136\n",
      " 11.43315907 10.48082668  9.51634161  8.54453235  7.57165953  6.60413717\n",
      "  5.64717912  4.70352425  3.77256553  2.85005109  1.92882903  1.00452005]\n"
     ]
    },
    {
     "name": "stdout",
     "output_type": "stream",
     "text": [
      "After centering, mean= [0.02159428 0.07689374 0.14788712 0.21947691 0.29163109 0.36461184\n",
      " 0.4384994  0.51315378 0.58825927 0.66340315 0.7381682  0.81221906\n",
      " 0.88536769 0.9576052  1.02909795 1.10015125 1.17115019 1.2424893\n",
      " 1.31450451 1.38741546 1.46128785 1.53601943 1.6113538  1.68691834\n",
      " 1.7622824  1.83702788 1.91081881 1.98345848 2.05492564 2.12537885\n",
      " 2.19513303 2.26461035 2.3342721  2.40454625 2.4757598  2.54808368\n",
      " 2.62132938 2.69516136 2.7689552  2.84224164 2.91371488 2.98293191\n",
      " 3.0486533  3.11074827 3.16846627 3.22142623 3.26736292 3.30472438\n",
      " 3.33338524 3.35115324 3.3596154  3.35831806 3.34697977 3.32722497\n",
      " 3.29971063 3.26496903 3.22196315 3.1699786  3.11187939 3.04921336\n",
      " 2.98349743 2.91474098 2.84384537 2.77171282 2.69887633 2.62605353\n",
      " 2.55380628 2.4828017  2.41298612 2.34402094 2.27575365 2.2077994\n",
      " 2.1396935  2.07100686 2.00141462 1.93074426 1.8590009  1.78636339\n",
      " 1.71314937 1.6397621  1.5666201  1.49408822 1.42241882 1.35171275\n",
      " 1.28190283 1.21276801 1.14396776 1.07509843 1.00576208 0.93563542\n",
      " 0.86453369 0.79244849 0.71955618 0.64618971 0.57277731 0.49975553\n",
      " 0.42747883 0.35613379 0.28567999 0.21583044 0.14611451 0.07636793] \n",
      "std=  [ 0.26491637  1.00686134  1.9437628   2.88598819  3.83527503  4.79588836\n",
      "  5.76919933  6.75332218  7.74379927  8.73476713  9.7203144  10.69573251\n",
      " 11.65843569 12.60837804 13.54795995 14.48149623 15.41438876 16.35216393\n",
      " 17.29954261 18.25963934 19.23341645 20.21945466 21.21411303 22.21205286\n",
      " 23.20707901 24.19318285 25.16557807 26.12154416 27.06093862 27.98647233\n",
      " 28.90023214 29.81011599 30.72325152 31.64231556 32.57522968 33.520079\n",
      " 34.46586386 35.40686995 36.32012205 37.19631867 38.00941603 38.74212224\n",
      " 39.36784148 39.87721018 40.26201979 40.52896718 40.69639324 40.75300392\n",
      " 40.73904402 40.70200991 40.70702757 40.74409393 40.80886207 40.88450191\n",
      " 40.93224684 40.92472252 40.79796681 40.53254908 40.12572395 39.57344783\n",
      " 38.91291453 38.16514673 37.35226736 36.48382561 35.5679812  34.62656827\n",
      " 33.68358626 32.75223681 31.83496748 30.92639726 30.02489377 29.12855756\n",
      " 28.22996538 27.32363371 26.40514077 25.47201365 24.52431001 23.56457447\n",
      " 22.59733993 21.62834308 20.66349218 19.70786286 18.76486299 17.8357055\n",
      " 16.91921786 16.0120782  15.10932168 14.20513191 13.29379249 12.37064601\n",
      " 11.43299788 10.48068017  9.51620996  8.54441548  7.57155716  6.60404887\n",
      "  5.64710437  4.70346253  3.77251639  2.85001418  1.92880413  1.004507  ]\n",
      "After centering, mean= [-7.22850351e-17 -1.83802180e-16 -5.86451522e-16  6.02743252e-16\n",
      " -7.56169730e-16 -1.37449417e-15  4.90172982e-16  6.87399344e-16\n",
      "  1.95531210e-15  2.65722682e-15 -2.04565254e-15  1.48513582e-15\n",
      "  2.15416256e-15 -2.93149632e-15 -2.28185724e-15  9.76894756e-16\n",
      " -3.48044133e-15  2.42660495e-15 -3.42481599e-15 -1.27491668e-16\n",
      "  1.45356743e-15  4.41348545e-15  1.79259782e-15  9.82173073e-16\n",
      "  3.15095251e-15 -9.47660997e-16 -1.92211961e-15  3.52672812e-15\n",
      " -6.43954731e-16  2.33707656e-15  8.12576673e-15 -2.93961680e-15\n",
      "  1.96028590e-14 -2.79344801e-16  3.54662331e-15  8.01979435e-15\n",
      " -7.42456255e-15  4.95227986e-15  6.89835490e-16  1.68881797e-14\n",
      "  6.38270389e-16  9.01739635e-15  5.60313700e-15 -5.08748599e-16\n",
      " -3.56976670e-15  4.76185440e-15 -6.90891154e-15  1.29103585e-14\n",
      "  4.36273240e-15 -7.42212641e-15 -6.53374497e-15  1.25291016e-14\n",
      "  8.64832016e-16 -1.67460712e-14 -2.40528867e-15  9.04541204e-15\n",
      " -1.07287893e-14  1.98659628e-14  2.11619928e-15  2.44101882e-15\n",
      " -7.62513862e-15  1.98018110e-15  8.97923006e-15 -8.90939386e-15\n",
      "  1.35754265e-14  7.08918638e-16 -9.27075559e-15 -3.22545800e-15\n",
      " -7.08918638e-16 -7.86550507e-15  4.97745337e-15  1.05590711e-14\n",
      "  3.76222228e-15  2.65215151e-15 -3.48653170e-15 -1.95297746e-16\n",
      " -2.53359238e-16  6.74771984e-15  4.11830570e-15 -2.98752769e-15\n",
      " -8.83164018e-15  5.78341184e-15  1.56461510e-15  1.60420249e-15\n",
      "  5.13986314e-15 -5.13539687e-15  1.88801356e-16 -4.37389807e-15\n",
      "  1.53030604e-15 -2.91809751e-15 -1.36667820e-15  3.84911151e-16\n",
      " -2.80359862e-15  2.60393611e-15  1.38403574e-15  1.29816158e-15\n",
      "  9.48117775e-16 -1.45813520e-16  8.13875951e-16 -5.09560648e-17\n",
      " -1.70682516e-16  9.05307575e-17] \n",
      "std=  [ 0.25958198  0.98908739  1.90970946  2.835473    3.76816167  4.71199473\n",
      "  5.66833049  6.63531458  7.60855659  8.58228026  9.55066271 10.50906728\n",
      " 11.45494946 12.38826664 13.31138473 14.22855356 15.14509242 16.0664429\n",
      " 16.99725395 17.9405936  18.89741081 19.86630848 20.84369989 21.8243243\n",
      " 22.80207623 23.77103422 24.72648274 25.66574417 26.58868335 27.49798578\n",
      " 28.39562931 29.28945638 30.18650736 31.0893081  32.00576931 32.93386272\n",
      " 33.8624802  34.78596083 35.68120778 36.53896683 37.33332694 38.04687555\n",
      " 38.65308812 39.14244963 39.50690024 39.7533855  39.90165987 39.94095778\n",
      " 39.91241617 39.8656775  39.86652731 39.90502961 39.97686308 40.06394814\n",
      " 40.12630422 40.1356796  40.02733837 39.78184195 39.39506267 38.86221251\n",
      " 38.22050989 37.49138748 36.69696361 35.84655046 34.94821434 34.0238488\n",
      " 33.09761962 32.18265356 31.28146644 30.38873874 29.50287982 28.62213473\n",
      " 27.73916393 26.84858549 25.94604972 25.02911982 24.09785209 23.1547534\n",
      " 22.20428985 21.25211298 20.30404191 19.36507322 18.43855827 17.52568477\n",
      " 16.62529049 15.73409708 14.84720944 13.95889512 13.06352076 12.15649625\n",
      " 11.23516486 10.29935964  9.35156059  8.3965272   7.44043243  6.48960152\n",
      "  5.54917641  4.62185808  3.70704755  2.80055069  1.89530702  0.98693564]\n",
      "basic output shape is: (10000, 102)\n",
      "output reshaped into matrix of shape (dim<=2)  [10000, 102]\n",
      "data for variance calculus prepared \n",
      " X_fo shape is (10000, 102) Y_fo shape is (10000, 102) \n",
      "\n",
      "The shape of the means is: [ 102 2 ]\n",
      "The shape of the mean value for psi is:  (102, 2)\n",
      "temporary shape after tiling (102, 2, 2)\n",
      "Variance is: [9.69444570e-05 9.41777848e-05 9.43457304e-05 9.46905607e-05\n",
      " 9.51043090e-05 9.55683389e-05 9.60713535e-05 9.66012495e-05\n",
      " 9.71439986e-05 9.76839198e-05 9.82043960e-05 9.86888069e-05\n",
      " 9.91216050e-05 9.94894615e-05 9.97823481e-05 9.99943573e-05\n",
      " 1.00124059e-04 1.00174246e-04 1.00151013e-04 1.00062266e-04\n",
      " 9.99159296e-05 9.97182787e-05 9.94729238e-05 9.91809250e-05\n",
      " 9.88422059e-05 9.84580173e-05 9.80337630e-05 9.75812591e-05\n",
      " 9.71195885e-05 9.66437578e-05 9.64704949e-05 9.63519561e-05\n",
      " 9.63110475e-05 9.66672590e-05 9.69419807e-05 9.70362380e-05\n",
      " 9.70255424e-05 9.75764348e-05 9.82211292e-05 9.90257606e-05\n",
      " 1.00291891e-04 1.00920845e-04 1.01693113e-04 1.02793713e-04\n",
      " 1.04617417e-04 1.06373754e-04 1.07373069e-04 1.08370116e-04\n",
      " 1.09297962e-04 1.09554137e-04 1.08340909e-04 1.07357169e-04\n",
      " 1.07169507e-04 1.07002562e-04 1.07054155e-04 1.07106073e-04\n",
      " 1.06013210e-04 1.04787392e-04 1.03746550e-04 1.03054079e-04\n",
      " 1.02938326e-04 1.02323854e-04 1.01332423e-04 1.00689695e-04\n",
      " 1.00610698e-04 1.00730115e-04 1.00558309e-04 1.00114362e-04\n",
      " 9.96744065e-05 9.92154193e-05 9.87273459e-05 9.82134456e-05\n",
      " 9.76669617e-05 9.70997262e-05 9.65270462e-05 9.59647089e-05\n",
      " 9.54316241e-05 9.49479617e-05 9.45330617e-05 9.42036193e-05\n",
      " 9.39725118e-05 9.38483762e-05 9.38358117e-05 9.39359691e-05\n",
      " 9.41473055e-05 9.44663565e-05 9.48884283e-05 9.54081026e-05\n",
      " 9.60194124e-05 9.67155615e-05 9.74881842e-05 9.83263461e-05\n",
      " 9.92156887e-05 1.00138169e-04 1.01072700e-04 1.01996684e-04\n",
      " 1.02888130e-04 1.03727796e-04 1.04500707e-04 1.05196128e-04\n",
      " 1.05802680e-04 1.06258372e-04] \n",
      "\n",
      "The shape of the means is: [ 102 2 ]\n",
      "The shape of the mean value for psi is:  (102, 2)\n",
      "temporary shape after tiling (102, 2, 2)\n",
      "Variance is: [0.00084687 0.00087262 0.00087272 0.00087173 0.00087119 0.00087138\n",
      " 0.00087242 0.00087436 0.00087718 0.00088085 0.00088526 0.00089032\n",
      " 0.00089588 0.00090179 0.00090793 0.00091415 0.00092034 0.00092638\n",
      " 0.00093217 0.00093765 0.00094273 0.00094736 0.0009515  0.0009551\n",
      " 0.00095813 0.00096055 0.00096233 0.0009634  0.00096373 0.000964\n",
      " 0.00095777 0.00095244 0.0009483  0.00093881 0.00093222 0.00091791\n",
      " 0.00089877 0.00088351 0.00086957 0.00086053 0.00085206 0.0008421\n",
      " 0.00082907 0.00082522 0.00082892 0.00084127 0.00085139 0.0008551\n",
      " 0.00086601 0.00087827 0.00089998 0.00091608 0.00091569 0.00090603\n",
      " 0.0008929  0.00088741 0.00089425 0.00089507 0.00088371 0.00087201\n",
      " 0.00086803 0.0008667  0.0008683  0.00087661 0.00088708 0.00089747\n",
      " 0.00090592 0.00090659 0.00090436 0.00090283 0.00089987 0.00089723\n",
      " 0.00089487 0.00089284 0.0008911  0.00088963 0.0008884  0.0008874\n",
      " 0.00088663 0.00088611 0.00088587 0.00088594 0.00088634 0.00088707\n",
      " 0.00088812 0.00088943 0.00089095 0.00089257 0.00089419 0.0008957\n",
      " 0.000897   0.00089803 0.00089872 0.00089907 0.0008991  0.00089887\n",
      " 0.00089846 0.00089796 0.00089747 0.00089702 0.00089654 0.00089505] \n",
      "\n",
      "basic output shape is: (10000, 102)\n",
      "output reshaped into matrix of shape (dim<=2)  [10000, 102]\n",
      "data for variance calculus prepared \n",
      " X_fo shape is (10000, 102) Y_fo shape is (10000, 102) \n",
      "\n"
     ]
    },
    {
     "name": "stdout",
     "output_type": "stream",
     "text": [
      "The shape of the means is: [ 102 2 ]\n",
      "The shape of the mean value for psi is:  (102, 2)\n",
      "temporary shape after tiling (102, 2, 2)\n",
      "Variance is: [0.00011873 0.00015462 0.00015619 0.00015584 0.00015539 0.00015504\n",
      " 0.00015481 0.00015468 0.0001546  0.00015454 0.00015447 0.00015437\n",
      " 0.00015423 0.00015406 0.00015385 0.00015361 0.00015335 0.00015309\n",
      " 0.00015284 0.00015263 0.00015246 0.00015235 0.00015228 0.00015225\n",
      " 0.00015224 0.00015222 0.00015218 0.00015212 0.00015204 0.00015195\n",
      " 0.00015194 0.00015202 0.00015223 0.0001527  0.00015312 0.00015306\n",
      " 0.00015283 0.00015365 0.00015456 0.00015604 0.00015821 0.00015996\n",
      " 0.00016258 0.00016676 0.00017297 0.00018033 0.00018809 0.00019602\n",
      " 0.00020399 0.00021107 0.00021344 0.00021175 0.00020758 0.00020076\n",
      " 0.00019221 0.00018455 0.00017817 0.00017211 0.00016626 0.00016281\n",
      " 0.00016077 0.00015849 0.00015601 0.00015464 0.00015438 0.00015462\n",
      " 0.00015468 0.00015431 0.00015392 0.00015353 0.00015308 0.00015256\n",
      " 0.00015199 0.00015136 0.00015066 0.0001499  0.0001491  0.00014827\n",
      " 0.00014745 0.00014668 0.00014601 0.00014547 0.00014511 0.00014497\n",
      " 0.00014505 0.00014537 0.00014593 0.00014671 0.00014768 0.00014881\n",
      " 0.00015006 0.00015138 0.00015272 0.00015407 0.00015539 0.00015669\n",
      " 0.00015798 0.00015929 0.00016062 0.00016194 0.00016299 0.00016186] \n",
      "\n",
      "The shape of the means is: [ 102 2 ]\n",
      "The shape of the mean value for psi is:  (102, 2)\n",
      "temporary shape after tiling (102, 2, 2)\n",
      "Variance is: [0.00052179 0.00036854 0.00036342 0.00036433 0.00036619 0.00036842\n",
      " 0.00037096 0.00037385 0.00037713 0.0003808  0.00038481 0.00038908\n",
      " 0.00039348 0.00039787 0.00040211 0.00040608 0.00040969 0.00041288\n",
      " 0.00041562 0.0004179  0.00041974 0.00042119 0.0004223  0.00042312\n",
      " 0.0004237  0.00042409 0.00042431 0.00042438 0.00042431 0.0004244\n",
      " 0.00042155 0.0004193  0.00041787 0.00041358 0.00041048 0.00040216\n",
      " 0.0003917  0.00038296 0.00037384 0.00036574 0.00035569 0.00034496\n",
      " 0.00033274 0.00032258 0.00031502 0.00031019 0.00030425 0.00029761\n",
      " 0.00029472 0.00029292 0.00029738 0.00030572 0.00031452 0.00032299\n",
      " 0.00033051 0.00034069 0.00035372 0.00036282 0.0003664  0.00036718\n",
      " 0.00037125 0.00037682 0.000382   0.00038883 0.00039396 0.00039869\n",
      " 0.00040197 0.00040191 0.00040112 0.00040002 0.00039807 0.00039619\n",
      " 0.00039424 0.00039236 0.00039059 0.00038897 0.00038753 0.00038629\n",
      " 0.0003853  0.00038454 0.00038404 0.00038379 0.00038379 0.00038402\n",
      " 0.00038447 0.00038513 0.00038597 0.00038696 0.00038809 0.00038933\n",
      " 0.00039066 0.00039206 0.0003935  0.00039492 0.00039625 0.0003974\n",
      " 0.00039828 0.00039879 0.00039891 0.00039875 0.00039895 0.00040458] \n",
      "\n",
      "basic output shape is: (10000, 102)\n",
      "output reshaped into matrix of shape (dim<=2)  [10000, 102]\n",
      "data for variance calculus prepared \n",
      " X_fo shape is (10000, 102) Y_fo shape is (10000, 102) \n",
      "\n",
      "The shape of the means is: [ 102 2 ]\n",
      "The shape of the mean value for psi is:  (102, 2)\n",
      "temporary shape after tiling (102, 2, 2)\n",
      "Variance is: [9.65952687e-05 9.38905352e-05 9.40438801e-05 9.43706728e-05\n",
      " 9.47675035e-05 9.52174565e-05 9.57105773e-05 9.62358716e-05\n",
      " 9.67800965e-05 9.73279396e-05 9.78626920e-05 9.83672088e-05\n",
      " 9.88250798e-05 9.92219180e-05 9.95465947e-05 9.97921911e-05\n",
      " 9.99564402e-05 1.00041499e-04 1.00053016e-04 9.99985900e-05\n",
      " 9.98859239e-05 9.97210955e-05 9.95074989e-05 9.92459223e-05\n",
      " 9.89359427e-05 9.85783875e-05 9.81781736e-05 9.77465985e-05\n",
      " 9.73022432e-05 9.68396846e-05 9.66754487e-05 9.65615345e-05\n",
      " 9.65212786e-05 9.68774428e-05 9.71484724e-05 9.72344572e-05\n",
      " 9.72164115e-05 9.77651555e-05 9.84082092e-05 9.92251842e-05\n",
      " 1.00518846e-04 1.01189445e-04 1.02013098e-04 1.03172087e-04\n",
      " 1.05084683e-04 1.06949930e-04 1.08062049e-04 1.09045400e-04\n",
      " 1.09770470e-04 1.09858006e-04 1.08432474e-04 1.07181486e-04\n",
      " 1.06806946e-04 1.06440884e-04 1.06285723e-04 1.06058211e-04\n",
      " 1.04645599e-04 1.03208367e-04 1.02154519e-04 1.01458897e-04\n",
      " 1.01331950e-04 1.00701016e-04 9.96806769e-05 9.89995912e-05\n",
      " 9.89360406e-05 9.90611884e-05 9.88928060e-05 9.84499986e-05\n",
      " 9.80116612e-05 9.75550920e-05 9.70693693e-05 9.65599235e-05\n",
      " 9.60196551e-05 9.54595507e-05 9.48948335e-05 9.43417966e-05\n",
      " 9.38202057e-05 9.33512543e-05 9.29552510e-05 9.26495936e-05\n",
      " 9.24474342e-05 9.23571705e-05 9.23826402e-05 9.25237666e-05\n",
      " 9.27774134e-05 9.31382775e-05 9.35997092e-05 9.41543461e-05\n",
      " 9.47944184e-05 9.55115988e-05 9.62963874e-05 9.71372209e-05\n",
      " 9.80196923e-05 9.89263169e-05 9.98371371e-05 1.00731160e-04\n",
      " 1.01588311e-04 1.02391346e-04 1.03127060e-04 1.03785691e-04\n",
      " 1.04354008e-04 1.04746712e-04] \n",
      "\n",
      "The shape of the means is: [ 102 2 ]\n",
      "The shape of the mean value for psi is:  (102, 2)\n",
      "temporary shape after tiling (102, 2, 2)\n",
      "Variance is: [0.00085624 0.00087872 0.00087879 0.00087789 0.00087746 0.00087775\n",
      " 0.00087889 0.0008809  0.00088379 0.0008875  0.00089193 0.00089698\n",
      " 0.00090251 0.00090838 0.00091444 0.00092056 0.00092665 0.00093258\n",
      " 0.00093828 0.00094367 0.00094868 0.00095325 0.00095736 0.00096095\n",
      " 0.000964   0.00096647 0.00096831 0.00096947 0.0009699  0.00097029\n",
      " 0.00096417 0.00095898 0.00095501 0.00094563 0.0009392  0.00092514\n",
      " 0.00090635 0.00089147 0.00087807 0.00086968 0.00086201 0.00085293\n",
      " 0.00084101 0.00083852 0.00084395 0.00085843 0.00087149 0.00087907\n",
      " 0.00089473 0.00091268 0.0009405  0.00096309 0.00096959 0.00096555\n",
      " 0.00095682 0.00095735 0.00097248 0.00097617 0.00095724 0.00093987\n",
      " 0.0009313  0.0009265  0.00092557 0.00093192 0.0009395  0.00094737\n",
      " 0.00095347 0.00095182 0.0009473  0.00094361 0.00093858 0.00093403\n",
      " 0.00092997 0.00092646 0.00092352 0.00092114 0.00091931 0.00091798\n",
      " 0.00091715 0.00091678 0.00091686 0.00091738 0.00091829 0.00091955\n",
      " 0.0009211  0.00092287 0.00092477 0.0009267  0.00092857 0.0009303\n",
      " 0.00093182 0.00093311 0.00093414 0.00093492 0.00093549 0.00093591\n",
      " 0.00093624 0.00093655 0.00093689 0.00093729 0.00093777 0.0009381 ] \n",
      "\n",
      "basic output shape is: (10000, 102)\n",
      "output reshaped into matrix of shape (dim<=2)  [10000, 102]\n",
      "data for variance calculus prepared \n",
      " X_fo shape is (10000, 102) Y_fo shape is (10000, 102) \n",
      "\n",
      "The shape of the means is: [ 102 2 ]\n",
      "The shape of the mean value for psi is:  (102, 2)\n",
      "temporary shape after tiling (102, 2, 2)\n",
      "Variance is: [0.00020839 0.00016608 0.00016404 0.00016365 0.0001635  0.00016343\n",
      " 0.00016341 0.00016346 0.0001636  0.00016384 0.00016417 0.00016458\n",
      " 0.00016505 0.00016554 0.00016603 0.00016648 0.00016688 0.00016721\n",
      " 0.00016746 0.00016764 0.00016774 0.00016779 0.00016778 0.00016774\n",
      " 0.00016766 0.00016756 0.00016743 0.00016726 0.00016705 0.00016682\n",
      " 0.00016642 0.0001661  0.00016584 0.00016557 0.00016481 0.00016373\n",
      " 0.00016197 0.0001599  0.00015795 0.00015619 0.00015507 0.00015273\n",
      " 0.00014915 0.00014723 0.00014569 0.00014472 0.0001437  0.00014274\n",
      " 0.00014057 0.00013812 0.00013693 0.00013717 0.00013876 0.00014023\n",
      " 0.00014306 0.00014679 0.00015055 0.00015419 0.00015727 0.00016072\n",
      " 0.00016396 0.00016599 0.00016774 0.00016942 0.00017135 0.00017296\n",
      " 0.00017432 0.00017493 0.00017487 0.00017461 0.0001742  0.00017382\n",
      " 0.00017327 0.00017264 0.00017202 0.00017143 0.0001709  0.00017046\n",
      " 0.00017011 0.00016988 0.00016977 0.00016978 0.0001699  0.00017013\n",
      " 0.00017047 0.00017091 0.00017144 0.00017206 0.00017275 0.00017352\n",
      " 0.00017436 0.00017526 0.0001762  0.00017716 0.00017811 0.00017902\n",
      " 0.00017984 0.00018054 0.00018109 0.00018152 0.000182   0.00018387] \n",
      "\n",
      "The shape of the means is: [ 102 2 ]\n",
      "The shape of the mean value for psi is:  (102, 2)\n",
      "temporary shape after tiling (102, 2, 2)\n",
      "Variance is: [0.00025835 0.00035616 0.00036041 0.00035989 0.00035905 0.00035848\n",
      " 0.00035826 0.00035839 0.0003588  0.00035943 0.00036024 0.00036118\n",
      " 0.00036224 0.0003634  0.00036465 0.00036599 0.0003674  0.00036887\n",
      " 0.00037038 0.0003719  0.0003734  0.00037486 0.00037623 0.00037748\n",
      " 0.00037856 0.00037945 0.00038009 0.00038047 0.00038054 0.00038033\n",
      " 0.00037974 0.00037908 0.00037841 0.00037723 0.00037615 0.00037408\n",
      " 0.00037174 0.00037129 0.00037261 0.00037635 0.00038251 0.00038836\n",
      " 0.00039522 0.00040789 0.00042638 0.00045033 0.00047461 0.00049839\n",
      " 0.0005232  0.0005448  0.00055816 0.00055684 0.00053826 0.00050921\n",
      " 0.00047812 0.00045065 0.00042992 0.0004109  0.00039363 0.00037987\n",
      " 0.00037064 0.0003623  0.0003557  0.00035252 0.0003525  0.00035321\n",
      " 0.00035399 0.00035314 0.00035191 0.00035131 0.00035075 0.00035031\n",
      " 0.00035    0.00034978 0.00034963 0.00034953 0.00034948 0.00034947\n",
      " 0.00034953 0.00034967 0.0003499  0.00035026 0.00035076 0.00035141\n",
      " 0.00035221 0.00035313 0.00035415 0.00035524 0.00035634 0.00035742\n",
      " 0.00035841 0.00035929 0.00036001 0.00036058 0.00036104 0.00036143\n",
      " 0.00036183 0.00036232 0.00036294 0.00036364 0.00036387 0.00035938] \n",
      "\n",
      "basic output shape is: (10000, 102)\n",
      "output reshaped into matrix of shape (dim<=2)  [10000, 102]\n",
      "data for variance calculus prepared \n",
      " X_fo shape is (10000, 102) Y_fo shape is (10000, 102) \n",
      "\n"
     ]
    },
    {
     "name": "stdout",
     "output_type": "stream",
     "text": [
      "The shape of the means is: [ 102 2 ]\n",
      "The shape of the mean value for psi is:  (102, 2)\n",
      "temporary shape after tiling (102, 2, 2)\n",
      "Variance is: [0.00067307 0.00055124 0.00054558 0.00054514 0.00054517 0.0005451\n",
      " 0.00054486 0.00054445 0.00054395 0.00054338 0.00054277 0.00054208\n",
      " 0.00054132 0.00054044 0.00053944 0.0005383  0.00053704 0.00053569\n",
      " 0.00053427 0.00053283 0.00053143 0.00053011 0.00052893 0.00052792\n",
      " 0.00052713 0.00052659 0.0005263  0.00052628 0.00052653 0.00052696\n",
      " 0.00052821 0.0005297  0.00053141 0.00053402 0.00053645 0.00053905\n",
      " 0.00054252 0.00054756 0.00055438 0.00056028 0.00056835 0.00057625\n",
      " 0.00058347 0.00059254 0.00060518 0.00061827 0.00062682 0.00063859\n",
      " 0.00065325 0.00066772 0.00066919 0.00066476 0.000653   0.00063807\n",
      " 0.00062114 0.00060277 0.00058419 0.00056659 0.00055322 0.00054422\n",
      " 0.00053622 0.0005266  0.00051869 0.00051292 0.00051106 0.00051092\n",
      " 0.00051083 0.00051121 0.00051189 0.00051294 0.00051425 0.00051545\n",
      " 0.00051657 0.0005175  0.00051822 0.00051871 0.00051898 0.00051901\n",
      " 0.00051884 0.00051846 0.00051792 0.00051725 0.00051648 0.00051566\n",
      " 0.00051485 0.00051409 0.00051343 0.0005129  0.00051253 0.00051234\n",
      " 0.00051235 0.00051256 0.00051296 0.00051353 0.00051421 0.00051493\n",
      " 0.00051559 0.00051613 0.00051648 0.00051671 0.00051728 0.00052201] \n",
      "\n",
      "The shape of the means is: [ 102 2 ]\n",
      "The shape of the mean value for psi is:  (102, 2)\n",
      "temporary shape after tiling (102, 2, 2)\n",
      "Variance is: [0.00115031 0.00109514 0.00109254 0.00109198 0.00109171 0.00109152\n",
      " 0.00109138 0.00109131 0.00109132 0.00109143 0.00109168 0.0010921\n",
      " 0.0010927  0.00109354 0.00109464 0.00109602 0.00109769 0.00109963\n",
      " 0.00110181 0.00110416 0.00110664 0.00110919 0.00111177 0.00111434\n",
      " 0.00111689 0.00111936 0.00112169 0.00112381 0.00112563 0.00112754\n",
      " 0.00112495 0.00112312 0.00112224 0.00111954 0.00111826 0.00111311\n",
      " 0.00110231 0.00109505 0.00108937 0.00109035 0.00108891 0.00108998\n",
      " 0.00108781 0.0011009  0.00112774 0.00116894 0.00120479 0.00123029\n",
      " 0.00125727 0.00128412 0.00131241 0.00133115 0.00132778 0.0013205\n",
      " 0.00131402 0.00131569 0.00132601 0.00131038 0.0012659  0.00123548\n",
      " 0.00121805 0.00120523 0.00119607 0.00119466 0.00119758 0.00120073\n",
      " 0.00120222 0.00119815 0.00119168 0.00118534 0.00117824 0.00117202\n",
      " 0.00116693 0.00116296 0.00116016 0.0011585  0.00115788 0.00115817\n",
      " 0.00115919 0.00116076 0.00116267 0.00116474 0.00116678 0.00116864\n",
      " 0.00117019 0.00117132 0.00117198 0.00117215 0.00117189 0.00117129\n",
      " 0.00117052 0.00116974 0.00116914 0.00116889 0.00116913 0.00116989\n",
      " 0.0011712  0.001173   0.0011752  0.00117779 0.00118109 0.0011886 ] \n",
      "\n",
      "Indices successfully calculated\n",
      "There are 5 indices to get in 1 dimensions with 1 elements\n",
      "After centering, mean= -1.494169867198382e-16 \n",
      "std=  0.9869356358505788\n",
      "After centering, mean= -1.4292059599288871e-16 \n",
      "std=  0.9869356358505788\n",
      "After centering, mean= -1.4292059599288871e-16 \n",
      "std=  0.9869356358505788\n",
      "After centering, mean= -1.4292059599288871e-16 \n",
      "std=  0.9869356358505788\n",
      "After centering, mean= -1.2992781453898976e-16 \n",
      "std=  0.9869356358505788\n",
      "After centering, mean= -1.2992781453898976e-16 \n",
      "std=  0.9869356358505788\n",
      "After centering, mean= -3.248195363474744e-17 \n",
      "std=  0.9869356358505789\n",
      "basic output shape is: (10000,)\n",
      "output reshaped into matrix of shape (dim<=2)  [10000, 1]\n",
      "data for variance calculus prepared \n",
      " X_fo shape is (10000,) Y_fo shape is (10000,) \n",
      "\n",
      "Covariance is: [[0.38524148 0.00982971]\n",
      " [0.00982971 0.87215822]]\n",
      "Sample mean is: [0.004397453474500595, 0.6097914230898684]\n",
      "Psi mean is: [ 1.63990499 -0.01182602]\n",
      "variance is: 0.00010357661561401692 \n",
      "\n",
      "Covariance is: [[0.81420039 0.828077  ]\n",
      " [0.828077   0.87215822]]\n",
      "Sample mean is: [0.6072208215518896, 0.6097914230898684]\n",
      "Psi mean is: [-1.63990499  1.63299191]\n",
      "variance is: 8.02710958744761e-06 \n",
      "\n",
      "basic output shape is: (10000,)\n",
      "output reshaped into matrix of shape (dim<=2)  [10000, 1]\n",
      "data for variance calculus prepared \n",
      " X_fo shape is (10000,) Y_fo shape is (10000,) \n",
      "\n",
      "Covariance is: [[0.459755   0.00869808]\n",
      " [0.00869808 0.87215822]]\n",
      "Sample mean is: [0.237334825993814, 0.6097914230898684]\n",
      "Psi mean is: [ 1.63990499 -0.63826179]\n",
      "variance is: 0.0001573503587018261 \n",
      "\n",
      "Covariance is: [[0.51851996 0.47376859]\n",
      " [0.47376859 0.87215822]]\n",
      "Sample mean is: [0.376154031051125, 0.6097914230898684]\n",
      "Psi mean is: [-1.63990499  1.01158667]\n",
      "variance is: 7.150607064774052e-05 \n",
      "\n",
      "basic output shape is: (10000,)\n",
      "output reshaped into matrix of shape (dim<=2)  [10000, 1]\n",
      "data for variance calculus prepared \n",
      " X_fo shape is (10000,) Y_fo shape is (10000,) \n",
      "\n",
      "Covariance is: [[0.3865239  0.00293743]\n",
      " [0.00293743 0.87215822]]\n",
      "Sample mean is: [0.0038396201577200685, 0.6097914230898684]\n",
      "Psi mean is: [ 1.63990499 -0.01032585]\n",
      "variance is: 0.00010394677378943147 \n",
      "\n",
      "Covariance is: [[0.87217908 0.87214306]\n",
      " [0.87214306 0.87215822]]\n",
      "Sample mean is: [0.6097327138096351, 0.6097914230898684]\n",
      "Psi mean is: [-1.63990499  1.63974711]\n",
      "variance is: 1.3761802170979716e-08 \n",
      "\n",
      "basic output shape is: (10000,)\n",
      "output reshaped into matrix of shape (dim<=2)  [10000, 1]\n",
      "data for variance calculus prepared \n",
      " X_fo shape is (10000,) Y_fo shape is (10000,) \n",
      "\n",
      "Covariance is: [[0.45923715 0.02803367]\n",
      " [0.02803367 0.87215822]]\n",
      "Sample mean is: [0.28485684778365983, 0.6097914230898684]\n",
      "Psi mean is: [ 1.63990499 -0.76606221]\n",
      "variance is: 0.0001676412648746056 \n",
      "\n",
      "Covariance is: [[0.54030744 0.43370474]\n",
      " [0.43370474 0.87215822]]\n",
      "Sample mean is: [0.32119850648047155, 0.6097914230898684]\n",
      "Psi mean is: [-1.63990499  0.86379541]\n",
      "variance is: 8.750745488869277e-05 \n",
      "\n",
      "basic output shape is: (10000,)\n",
      "output reshaped into matrix of shape (dim<=2)  [10000, 1]\n",
      "data for variance calculus prepared \n",
      " X_fo shape is (10000,) Y_fo shape is (10000,) \n",
      "\n",
      "Covariance is: [[ 1.94009165 -0.01278382]\n",
      " [-0.01278382  0.87215822]]\n",
      "Sample mean is: [0.0771876253139657, 0.6097914230898684]\n",
      "Psi mean is: [ 1.63990499 -0.20757978]\n",
      "variance is: 0.0005263750201441007 \n",
      "\n",
      "Covariance is: [[2.39202843 0.80281842]\n",
      " [0.80281842 0.87215822]]\n",
      "Sample mean is: [0.5214705424823566, 0.6097914230898684]\n",
      "Psi mean is: [-1.63990499  1.40238468]\n",
      "variance is: 0.0004455505147691939 \n",
      "\n",
      "Indices successfully calculated\n"
     ]
    }
   ],
   "source": [
    "S, Stot, varS, varStot = ngpsi.NdGaussianProcessSensitivityIndicesBase.getSobolIndices(output1,10000)\n",
    "S2, Stot2, varS2, varS2tot = ngpsi.NdGaussianProcessSensitivityIndicesBase.getSobolIndices(output2,10000)"
   ]
  },
  {
   "cell_type": "markdown",
   "metadata": {},
   "source": [
    "L'on peut récuperer ces indices du premier ordre dans ***self.processSensitivityAnalysis.sensitivityResults.firstOrderIndices***\n",
    "Matplotlib permet de facilement visualiser ces indices. Néanmoins, cette visualisation est pour l'instant peu pertinente, puisque l'on visualise chaque variables aléatoire de Karhunen Loeve individuellement, alors qu'il nous faut encore combiner ces dernières pour que l'indice de sobol soit représentatif du champ stochastique consideré."
   ]
  },
  {
   "cell_type": "code",
   "execution_count": 17,
   "metadata": {
    "scrolled": true
   },
   "outputs": [
    {
     "name": "stdout",
     "output_type": "stream",
     "text": [
      "The output is scalar\n",
      "The sensitivity is measured accordingly to the 5 input variables, namely:\n",
      " Module d'Young and Diametre and Densité and Position Force and Norme Force\n"
     ]
    },
    {
     "data": {
      "image/png": "[encoded data removed]",
      "text/plain": [
       "<Figure size 640x480 with 1 Axes>"
      ]
     },
     "metadata": {},
     "output_type": "display_data"
    }
   ],
   "source": [
    "\n",
    "varNames = [\"Module d'Young\",'Diametre','Densité','Position Force','Norme Force']\n",
    "ngpsi.plotSobolIndicesWithErr(S2, varS2, varNames, 5, Stot2, varS2tot)"
   ]
  },
  {
   "cell_type": "code",
   "execution_count": 18,
   "metadata": {},
   "outputs": [
    {
     "name": "stdout",
     "output_type": "stream",
     "text": [
      "The output is a vector\n"
     ]
    },
    {
     "data": {
      "image/png": "[encoded data removed]",
      "text/plain": [
       "<Figure size 1600x800 with 5 Axes>"
      ]
     },
     "metadata": {},
     "output_type": "display_data"
    }
   ],
   "source": [
    "    ngpsi.plotSobolIndicesWithErr(S,varS, varNames, 5)"
   ]
  },
  {
   "cell_type": "code",
   "execution_count": 19,
   "metadata": {},
   "outputs": [
    {
     "name": "stdout",
     "output_type": "stream",
     "text": [
      "The output is a vector\n"
     ]
    },
    {
     "data": {
      "image/png": "[encoded data removed]",
      "text/plain": [
       "<Figure size 1600x800 with 5 Axes>"
      ]
     },
     "metadata": {},
     "output_type": "display_data"
    }
   ],
   "source": [
    "ngpsi.plotSobolIndicesWithErr(Stot,varStot, varNames, 5)"
   ]
  },
  {
   "cell_type": "code",
   "execution_count": 20,
   "metadata": {},
   "outputs": [
    {
     "data": {
      "text/plain": [
       "<matplotlib.colorbar.Colorbar at 0x7fb2cec77f98>"
      ]
     },
     "execution_count": 20,
     "metadata": {},
     "output_type": "execute_result"
    },
    {
     "data": {
      "image/png": "[encoded data removed]",
      "text/plain": [
       "<Figure size 640x480 with 2 Axes>"
      ]
     },
     "metadata": {},
     "output_type": "display_data"
    }
   ],
   "source": [
    "plt.style.use('default')\n",
    "plt.yticks([0,1,2,3,4],[\"Module d'Young\",'Diametre','Densité','Position Force','Norme Force'])\n",
    "x=plt.imshow(varS, cmap='CMRmap',aspect='auto', interpolation= None)\n",
    "plt.colorbar()"
   ]
  },
  {
   "cell_type": "code",
   "execution_count": 21,
   "metadata": {},
   "outputs": [
    {
     "data": {
      "text/plain": [
       "<matplotlib.colorbar.Colorbar at 0x7fb2cd5455f8>"
      ]
     },
     "execution_count": 21,
     "metadata": {},
     "output_type": "execute_result"
    },
    {
     "data": {
      "image/png": "[encoded data removed]",
      "text/plain": [
       "<Figure size 640x480 with 2 Axes>"
      ]
     },
     "metadata": {},
     "output_type": "display_data"
    }
   ],
   "source": [
    "plt.yticks([0,1,2,3,4],[\"Module d'Young\",'Diametre','Densité','Position Force','Norme Force'])\n",
    "x=plt.imshow(S, cmap='CMRmap',aspect='auto')\n",
    "plt.colorbar()"
   ]
  },
  {
   "cell_type": "code",
   "execution_count": 22,
   "metadata": {},
   "outputs": [
    {
     "data": {
      "text/plain": [
       "<matplotlib.colorbar.Colorbar at 0x7fb2cf94fa58>"
      ]
     },
     "execution_count": 22,
     "metadata": {},
     "output_type": "execute_result"
    },
    {
     "data": {
      "image/png": "[encoded data removed]",
      "text/plain": [
       "<Figure size 640x480 with 2 Axes>"
      ]
     },
     "metadata": {},
     "output_type": "display_data"
    }
   ],
   "source": [
    "plt.yticks([0,1,2,3,4],[\"Module d'Young\",'Diametre','Densité','Position Force','Norme Force'])\n",
    "x=plt.imshow(Stot, cmap='CMRmap',aspect='auto')\n",
    "plt.colorbar()"
   ]
  },
  {
   "cell_type": "code",
   "execution_count": 23,
   "metadata": {},
   "outputs": [
    {
     "data": {
      "text/plain": [
       "<matplotlib.colorbar.Colorbar at 0x7fb2cd83a828>"
      ]
     },
     "execution_count": 23,
     "metadata": {},
     "output_type": "execute_result"
    },
    {
     "data": {
      "image/png": "[encoded data removed]",
      "text/plain": [
       "<Figure size 640x480 with 2 Axes>"
      ]
     },
     "metadata": {},
     "output_type": "display_data"
    }
   ],
   "source": [
    "plt.yticks([0,1,2,3,4],[\"Module d'Young\",'Diametre','Densité','Position Force','Norme Force'])\n",
    "x=plt.imshow(varStot, cmap='CMRmap',aspect='auto')\n",
    "plt.colorbar()"
   ]
  },
  {
   "cell_type": "code",
   "execution_count": 24,
   "metadata": {},
   "outputs": [
    {
     "data": {
      "text/html": [
       "<p>[X0,Y0]->[(X0)/(Y0)]</p>"
      ],
      "text/plain": [
       "class=SymbolicFunction name=Unnamed implementation=class=FunctionImplementation name=Unnamed description=[X0,Y0,y0] evaluationImplementation=class=SymbolicEvaluation name=Unnamed inputVariablesNames=[X0,Y0] outputVariablesNames=[y0] formulas=[(X0)/(Y0)] gradientImplementation=class=SymbolicGradient name=Unnamed evaluation=class=SymbolicEvaluation name=Unnamed inputVariablesNames=[X0,Y0] outputVariablesNames=[y0] formulas=[(X0)/(Y0)] hessianImplementation=class=SymbolicHessian name=Unnamed evaluation=class=SymbolicEvaluation name=Unnamed inputVariablesNames=[X0,Y0] outputVariablesNames=[y0] formulas=[(X0)/(Y0)]"
      ]
     },
     "execution_count": 24,
     "metadata": {},
     "output_type": "execute_result"
    }
   ],
   "source": [
    "A,B = ngpsi.NdGaussianProcessSensitivityIndicesBase.SymbolicSaltelliIndices(1)\n",
    "A"
   ]
  },
  {
   "cell_type": "code",
   "execution_count": 25,
   "metadata": {},
   "outputs": [
    {
     "data": {
      "text/html": [
       "<p>[[  0.333333 ]<br>\n",
       " [ -0.222222 ]]</p>"
      ],
      "text/plain": [
       "class=Matrix implementation=class=MatrixImplementation name=Unnamed rows=2 columns=1 values=[0.333333,-0.222222]"
      ]
     },
     "execution_count": 25,
     "metadata": {},
     "output_type": "execute_result"
    }
   ],
   "source": [
    "A.gradient([2,3])"
   ]
  },
  {
   "cell_type": "code",
   "execution_count": null,
   "metadata": {},
   "outputs": [],
   "source": [
    "#composedDist = processSensitivityAnalysis.wrappedFunction.KLComposedDistribution\n",
    "plt.yticks([0,1,2,3,4],[\"Module d'Young\",'Diametre','Densité','Position Force','Norme Force'])\n",
    "x=plt.imshow(S, cmap='CMRmap',aspect='auto')\n",
    "plt.colorbar()"
   ]
  },
  {
   "cell_type": "markdown",
   "metadata": {},
   "source": [
    "Test for the variance calculus"
   ]
  },
  {
   "cell_type": "code",
   "execution_count": null,
   "metadata": {},
   "outputs": [],
   "source": [
    "outputDim0 = output2.shape[0];print(outputDim0)\n",
    "inputDim = 5 #(5 dimensions)\n",
    "N = 100\n",
    "print(output2)"
   ]
  },
  {
   "cell_type": "code",
   "execution_count": null,
   "metadata": {
    "scrolled": true
   },
   "outputs": [],
   "source": [
    "ngpsi.NdGaussianProcessSensitivityIndicesBase.computeVariance(1, \n",
    "                                                              inputDim,\n",
    "                                                             N,\n",
    "                                                             output2)"
   ]
  },
  {
   "cell_type": "code",
   "execution_count": null,
   "metadata": {},
   "outputs": [],
   "source": [
    "S_fo[...,50]"
   ]
  },
  {
   "cell_type": "code",
   "execution_count": null,
   "metadata": {},
   "outputs": [],
   "source": [
    "im2 = plt.imshow(processSensitivityAnalysis.sensitivityResults.firstOrderIndices[1])\n",
    "plt.show()"
   ]
  },
  {
   "cell_type": "code",
   "execution_count": null,
   "metadata": {},
   "outputs": [],
   "source": [
    "#im2.write_png('sensitivity_rv_KL')"
   ]
  },
  {
   "cell_type": "code",
   "execution_count": null,
   "metadata": {},
   "outputs": [],
   "source": [
    "processSensitivityAnalysis.wrappedFunction.getKLDecompositionVarNames"
   ]
  },
  {
   "cell_type": "code",
   "execution_count": null,
   "metadata": {},
   "outputs": [],
   "source": [
    "np.sum(S_fo, axis=0)"
   ]
  },
  {
   "cell_type": "code",
   "execution_count": null,
   "metadata": {},
   "outputs": [],
   "source": [
    "S_f"
   ]
  }
 ],
 "metadata": {
  "kernelspec": {
   "display_name": "Python 3",
   "language": "python",
   "name": "python3"
  },
  "language_info": {
   "codemirror_mode": {
    "name": "ipython",
    "version": 3
   },
   "file_extension": ".py",
   "mimetype": "text/x-python",
   "name": "python",
   "nbconvert_exporter": "python",
   "pygments_lexer": "ipython3",
   "version": "3.6.7"
  }
 },
 "nbformat": 4,
 "nbformat_minor": 2
}
