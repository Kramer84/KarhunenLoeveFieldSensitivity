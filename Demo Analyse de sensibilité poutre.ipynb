{
 "cells": [
  {
   "cell_type": "markdown",
   "metadata": {},
   "source": [
    "### Il est explicité ici l'utilisation des ensembles de codes écrits pour l'analyse de sensibilité sur des champs stochastiques et variables aléatoires.\n",
    "\n",
    "### Il est d'abord conseillé d'installer l'environnement virtuel dont la définition se trouvent dans le fichier yaml\n",
    "\n",
    "Nous allons faire ici l'analyse de sensiblité sur une poutre en flexion représentée par 100 éléments finis, et ou le module young et le diamètre de chaque élément est déterminé par un processus gaussien en une dimension. La position de la force, sa norme, tout comme la densité du matérieau sont déterminés par des lois nomales gaussiennes.\n",
    "Dans la logique d'écriture de ces codes, il faut avoir un à priori sur les processus gaussiens, la loi qu'ils suivent, tout comme sur les paramètres des lois gaussiennes. Ensuite, il faut avoir une fonction python qui prend en entrée ces champs, et qui renvoie un ensemble connu de resultas. \n"
   ]
  },
  {
   "cell_type": "code",
   "execution_count": 1,
   "metadata": {},
   "outputs": [],
   "source": [
    "try:\n",
    "    import anastruct, openturns, numba, joblib\n",
    "except:\n",
    "    import os\n",
    "    if os.sys.platform == 'linux' :\n",
    "        file_path = 'sensitivityEnv.yml'\n",
    "        os.system('conda env create -f'+file_path)\n",
    "        # to have the right modules installed\n",
    "        print('now activate the environment and restart jupyter with other kernel')\n",
    "    else :\n",
    "        print('Do it alone')"
   ]
  },
  {
   "cell_type": "code",
   "execution_count": 2,
   "metadata": {},
   "outputs": [
    {
     "name": "stdout",
     "output_type": "stream",
     "text": [
      "trend function args:  ['x']  trend function:  210000 \n",
      "\n",
      "Please be aware that the number of elements in the argument list has to be the same as the dimension of the process:  1\n",
      "trend function args:  ['x']  trend function:  10 \n",
      "\n",
      "Please be aware that the number of elements in the argument list has to be the same as the dimension of the process:  1\n"
     ]
    }
   ],
   "source": [
    "# Voici les deux scripts destinés à gérer l'analyse de sensibilité sur les champs stochastiques\n",
    "import NdGaussianProcessSensitivity as ngps\n",
    "import NdGaussianProcessConstructor as ngpc\n",
    "# Classes utilitaires\n",
    "import numpy                        as np\n",
    "import openturns                    as ot\n",
    "import matplotlib.pyplot            as plt\n",
    "from   importlib                import reload \n",
    "\n",
    "# on importe aussi les fonctions à étudier\n",
    "import RandomBeamGenerationClass    as rbgc"
   ]
  },
  {
   "cell_type": "markdown",
   "metadata": {},
   "source": [
    "D'abord, nous définisson l'ensemble de nos variables d'entrée, tout comme les variables de sortie :\n",
    "- L'on va définir un par un tout les processus et variables aléatoires utilisées dans notre model. Bien sûr cela implique d'avoir un à-priori sur le comportement de ces différentes lois probabilistes. \n",
    "- Néanmoins, comme nous en sommes à des codes d'essai, il serait assez trivial de rajouter la prossiblité de récuperer l'approximation d'un champ inconnu avec l'approcimation de Karhunen - Loeve, en présence d'un grand nombre de mesures.\n",
    "- La définition des éléments sur lesquels est construit le champ stochastique est un peu différent de la manière interne à openturns. En effet, s'étant placés directement dans un cadre de poutre en 'éléments finis, ou l'on a N+1 noeuds (N étant le nombre de poutres), il faut savoir si N est le nombre de mailles ou le nombre de noeuds. Dans le choix a été fait ici de définir la taille du maillage (grid_shape) de la manière suivante :\n",
    "> grid_shape = [[position_X0, longeur_totaleX, nombre_mailles], [position_Y0, longeur_totaleY, nombre_mailles], ..]\n",
    " "
   ]
  },
  {
   "cell_type": "code",
   "execution_count": 3,
   "metadata": {},
   "outputs": [
    {
     "name": "stdout",
     "output_type": "stream",
     "text": [
      "trend function args:  ['x']  trend function:  210000 \n",
      "\n",
      "Please be aware that the number of elements in the argument list has to be the same as the dimension of the process:  1\n",
      "trend function args:  ['x']  trend function:  10 \n",
      "\n",
      "Please be aware that the number of elements in the argument list has to be the same as the dimension of the process:  1\n"
     ]
    }
   ],
   "source": [
    "# process governing the young modulus for each element      (MPa)\n",
    "process_E = ngpc.NdGaussianProcessConstructor(dimension=1,\n",
    "                                              grid_shape=[[0,1000,100],],\n",
    "                                              covariance_model={'NameModel':'MaternModel',\n",
    "                                                                'amplitude':50000.,\n",
    "                                                                'scale':300,\n",
    "                                                                'nu':13/3},\n",
    "                                              trend_arguments=['x'],trend_function=210000)\n",
    "process_E.setName('E_')\n",
    "\n",
    "\n",
    "# process governing the diameter for each element          (mm)\n",
    "process_D = ngpc.NdGaussianProcessConstructor(dimension=1,\n",
    "                                              grid_shape=[[0,1000,100],],\n",
    "                                              covariance_model={'NameModel':'MaternModel',\n",
    "                                                                'amplitude':.3,\n",
    "                                                                'scale':250,\n",
    "                                                                'nu':7.4/3},\n",
    "                                              trend_arguments=['x'],trend_function=10)\n",
    "process_D.setName('D_')\n",
    "\n",
    "\n",
    "# random variable for the density of the material (kg/m³)\n",
    "rho         = 7850.\n",
    "sigma       = 750\n",
    "nameD       = 'Rho'\n",
    "RV_Rho = ngpc.NormalDistribution(mu = rho, sigma = sigma, name = nameD)\n",
    "\n",
    "\n",
    "# random variable for the position of the force   (mm) \n",
    "middle       = 500\n",
    "sigma_f      = 50\n",
    "namePos     = 'FP'\n",
    "RV_Fpos = ngpc.NormalDistribution(mu = middle, sigma = sigma_f, name = namePos)\n",
    "\n",
    "\n",
    "# random variable for the norm of the force    (N)\n",
    "muForce       = 100\n",
    "# we go from sigma = 15 to sigma = 1.5, as the influence is too important\n",
    "sigma_Fnor    = 5.5\n",
    "nameNor       = 'FN'\n",
    "RV_Fnorm = ngpc.NormalDistribution(mu = muForce, sigma = sigma_Fnor, name = nameNor)"
   ]
  },
  {
   "cell_type": "markdown",
   "metadata": {},
   "source": [
    "Il est important de noter que les processus et variables aléatoires doivent être définies à partir du module \n",
    "NdGaussianProcessConstructor, qui contient les classes suivantes : \n",
    "###### Classe pour construire un champ stochastique : \n",
    "> NdGaussianProcessConstructor.NdGaussianProcessConstructor() \n",
    "###### Classe pour construire une variables aléatoire  : \n",
    "> NdGaussianProcessConstructor.NormalDistribution() ## Classe openturns.Normal() suchargée\n",
    "###### Classe pour construire un vecteur de variables aléatoires normales : \n",
    "> NdGaussianProcessConstructor.RandomNormalVector() ## Classe openturns.PythonRandomVector surchargée. Cette dernière est utilisée en interne par NdGaussianProcessConstructor.\n",
    "\n",
    "**Finalement, l'autre particularité du NdGaussianProcessConstructor, est d'utiliser un objet _numpy.memmap_ modifiée, qui enregistre les échantillons de processus gaussiens sous forme de fichier temporaire dans le directoire d'utilisation des codes et les éfface en sortant du code**\n",
    "\n",
    "L'on définit ensuite les variables de sortie. Il faut connaître l'ordre dans lequel la fonction renvoie ses resultats connaitre leur nom comme leur dimension. \n",
    "    "
   ]
  },
  {
   "cell_type": "code",
   "execution_count": 4,
   "metadata": {},
   "outputs": [],
   "source": [
    "from importlib import reload\n",
    "reload(ngps)\n",
    "outputVariables = {'out1' :\n",
    "                   {\n",
    "                         'name'     : 'VonMisesStress',\n",
    "                         'position' : 0,\n",
    "                         'shape'    : (102,)  \n",
    "                    },\n",
    "                   'out2' :\n",
    "                   {\n",
    "                        'name'      : 'maxDeflection',\n",
    "                        'position'  : 1,\n",
    "                        'shape'     : (1,)\n",
    "                   }\n",
    "                  }\n",
    "#Pour utiliser notre fonction, un wrapper a été spécialement écrit pour faciliter l'accès aux fonctions mais\n",
    "#ce choix est entièrement dépendant de la manière dont a été définie la fonction sur laquelle vous travaillez.\n",
    "functionWrapper = rbgc.sampleAndSoloFunctionWrapper(process_E, process_D, RV_Rho, RV_Fpos, RV_Fnorm)\n"
   ]
  },
  {
   "cell_type": "markdown",
   "metadata": {},
   "source": [
    "###### Ensuite, on crée une instance pour l'analyse de sensibilité.\n",
    "Il faut donner en entrée une liste contenant les procéssus et les variables aléatoires **dans l'ordre** dans lequel la fonction les recoit. \n",
    "\n",
    "*Pour cela il faut aussi connaître l'ordre des variables d'entrée de la fonction et leur nombre.*\n",
    "\n",
    "**Ces fonctions sont celles qui prennent entrée des champs aléatoires (vecteurs et matrices, de type *list ou numpy*) et variables aléatoire (scalaires (vecteurs 1D pour le multiprocessing)) et non pas les fonctions prennant en entrée les variables aléatoires issues de la décomposition de la Karhunen Loeve, qui elles sont construites en interne dans la classe**"
   ]
  },
  {
   "cell_type": "code",
   "execution_count": 5,
   "metadata": {
    "scrolled": true
   },
   "outputs": [
    {
     "name": "stdout",
     "output_type": "stream",
     "text": [
      "Input Variables are (without Karhunen Loeve Decomposition) :\n",
      " ['E_', 'D_', 'Rho', 'FP', 'FN'] \n",
      "\n",
      "Output Variables are :\n",
      " ['VonMisesStress', 'maxDeflection'] \n",
      "\n",
      "trend function args:  ['x']  trend function:  210000 \n",
      "\n",
      "Please be aware that the number of elements in the argument list has to be the same as the dimension of the process:  1\n",
      "trend function args:  ['x']  trend function:  10 \n",
      "\n",
      "Please be aware that the number of elements in the argument list has to be the same as the dimension of the process:  1\n"
     ]
    }
   ],
   "source": [
    "\n",
    "inputVarList = [process_E, process_D, RV_Rho, RV_Fpos, RV_Fnorm]\n",
    "# We also the need the two functions of the model (one for samples, the other for single evaluations)\n",
    "# In our case, as our model is defined as a class, we have to first create the model, \n",
    "# but it also could just be just two functions taking as an input the fields and RVs\n",
    "soloFunction   = functionWrapper.randomBeamFunctionSolo\n",
    "sampleFunction = functionWrapper.randomBeamFunctionSample\n",
    "##\n",
    "size           = 1000 ## Number of samples for our sobol indicies experiment (kept low here to make things faster)\n",
    "##\n",
    "reload(ngps)\n",
    "##\n",
    "processSensitivityAnalysis = ngps.NdGaussianProcessSensitivityAnalysis(inputVarList, \n",
    "                                                                       outputVariables,\n",
    "                                                                       sampleFunction,\n",
    "                                                                       soloFunction,\n",
    "                                                                       size)"
   ]
  },
  {
   "cell_type": "markdown",
   "metadata": {},
   "source": [
    "Voici une vue du dictionnaire intermédiaire qui est crée une fois les processus et variables aléatoires d'entrées définies :\n",
    "\n",
    "On voit que la position des processus dans les arguments de la fonction d'entrée est enregistrée dans le dictionnaire dans la clé *position* et viennent de la manière de laquelle on a mis les VA et Processus dans le vecteur inputVarList. \n"
   ]
  },
  {
   "cell_type": "markdown",
   "metadata": {},
   "source": [
    "###### Ensuite, grace à l'intermédiaire de la classe ot.SobolIndiciesExperiment, on génère les' variables aléatoires d'entrée "
   ]
  },
  {
   "cell_type": "code",
   "execution_count": 6,
   "metadata": {},
   "outputs": [
    {
     "name": "stdout",
     "output_type": "stream",
     "text": [
      "Generation types:\n",
      "1 : Random (default)\n",
      "2 : LHS\n",
      "3 : LowDiscrepancySequence\n",
      "4 : SimulatedAnnealingLHS\n",
      "Choosen generation method is Random (default)\n",
      "number of samples for sobol experiment =  7000 \n",
      "\n",
      "input design is:  [[ 3.44247236e+00 -8.55935313e-01  1.64485408e+00 ...  7.59148506e+03\n",
      "   4.88303775e+02  9.32557884e+01]\n",
      " [ 6.39598533e+00  6.05126939e-01  3.12551868e+00 ...  7.79594241e+03\n",
      "   4.99546640e+02  9.68986709e+01]\n",
      " [ 7.04623765e+00  5.12665208e-01  1.07492414e+00 ...  7.38542718e+03\n",
      "   5.03430507e+02  9.01253019e+01]\n",
      " ...\n",
      " [ 6.53787231e+00 -7.10609050e-01  3.14713383e+00 ...  8.42562295e+03\n",
      "   4.44573858e+02  9.75829859e+01]\n",
      " [ 2.40585808e+00  1.46593462e+00  1.96432150e+00 ...  8.53957856e+03\n",
      "   5.04092626e+02  1.06068330e+02]\n",
      " [ 5.20526052e+00  1.40192421e+00  8.28755491e-01 ...  9.13770119e+03\n",
      "   5.18301466e+02  9.36424170e+01]]\n"
     ]
    }
   ],
   "source": [
    "processSensitivityAnalysis.prepareSobolIndicesExperiment()\n"
   ]
  },
  {
   "cell_type": "code",
   "execution_count": 7,
   "metadata": {},
   "outputs": [],
   "source": [
    "########\n",
    "## This is to check if we manage to regenerate missing values in the case of np.nan values\n",
    "########\n",
    "########\n",
    "#reload(ngps)\n",
    "#inputDes = np.load('inputDesign.npy',allow_pickle=True)\n",
    "#inputDesNc = np.load('inputDesignNc.npy',allow_pickle=True)\n",
    "#processSensitivityAnalysis = ngps.NdGaussianProcessSensitivityAnalysis(inputVarList, \n",
    "#                                                                       outputVariables,\n",
    " #                                                                      sampleFunction,\n",
    "  #                                                                     soloFunction,\n",
    "   #                                                                    size)\n",
    "#processSensitivityAnalysis.inputDesign = inputDes\n",
    "#processSensitivityAnalysis._inputDesignNC = inputDesNc\n",
    "#processSensitivityAnalysis.wrappedFunction(np.array(processSensitivityAnalysis._inputDesignNC))"
   ]
  },
  {
   "cell_type": "markdown",
   "metadata": {},
   "source": [
    "###### Ensuite on récupère les sorties associées aux entrées génerées. \n",
    "L'idée du postprocessing est d'identifier si dans les sorties il y a des valeurs de type np.nan, et de refaire les experiences manquantes tant qu'il y a des np.nan de présents.\n",
    "\n",
    "**Ceci crée quelques problèmes : En effet, si le calcul numérique n'a pas pu aboutir avec une certaine réalisation des variables en entrée, est-ce que cela veut dire que cette réalisation est défaillante? Va-t-on l'inclure dans le cas du calcul de la défaillance ou de la sensibilité? Car si on l'inclut pas, il se peut qu'on oublie un nombre conséquent de modes défaillants. Solution : changer le modèle informatique et le rendre robuste à ces erreurs, ou faire une étude précise avec ces réalisation particulières.**\n",
    "\n",
    "\n",
    "La solution retenue pour génerer les experiences manquantes est d'itérer au dessus de chaque index de la sortie ou se trouvent les nans, de refaire une experience de sobol de taille 1 ( donc qui renverra d+2 valeurs, avec d la dimension de l'entrée), de générer les sorties correspondant aux entrées (recommencer si il s'y trouve un np.nan), et de remplacer les d+2 valeurs du inputDesign d'entrée avec celles que l'on vient de regénérer. "
   ]
  },
  {
   "cell_type": "code",
   "execution_count": 8,
   "metadata": {
    "scrolled": false
   },
   "outputs": [
    {
     "name": "stderr",
     "output_type": "stream",
     "text": [
      "[Parallel(n_jobs=-1)]: Using backend LokyBackend with 4 concurrent workers.\n",
      "[Parallel(n_jobs=-1)]: Done   5 tasks      | elapsed:   11.4s\n",
      "[Parallel(n_jobs=-1)]: Done  10 tasks      | elapsed:   11.7s\n",
      "[Parallel(n_jobs=-1)]: Done  17 tasks      | elapsed:   12.2s\n",
      "[Parallel(n_jobs=-1)]: Done  24 tasks      | elapsed:   12.6s\n",
      "[Parallel(n_jobs=-1)]: Done  33 tasks      | elapsed:   13.3s\n",
      "[Parallel(n_jobs=-1)]: Done  42 tasks      | elapsed:   13.8s\n",
      "[Parallel(n_jobs=-1)]: Done  53 tasks      | elapsed:   14.6s\n",
      "[Parallel(n_jobs=-1)]: Done  64 tasks      | elapsed:   15.3s\n",
      "[Parallel(n_jobs=-1)]: Done  77 tasks      | elapsed:   16.1s\n",
      "[Parallel(n_jobs=-1)]: Done  90 tasks      | elapsed:   17.0s\n",
      "[Parallel(n_jobs=-1)]: Done 105 tasks      | elapsed:   17.9s\n",
      "[Parallel(n_jobs=-1)]: Done 120 tasks      | elapsed:   18.8s\n",
      "[Parallel(n_jobs=-1)]: Done 137 tasks      | elapsed:   20.0s\n",
      "[Parallel(n_jobs=-1)]: Done 154 tasks      | elapsed:   21.0s\n",
      "[Parallel(n_jobs=-1)]: Done 173 tasks      | elapsed:   22.1s\n",
      "[Parallel(n_jobs=-1)]: Done 192 tasks      | elapsed:   23.3s\n",
      "[Parallel(n_jobs=-1)]: Done 213 tasks      | elapsed:   24.6s\n",
      "[Parallel(n_jobs=-1)]: Done 234 tasks      | elapsed:   25.9s\n",
      "[Parallel(n_jobs=-1)]: Done 257 tasks      | elapsed:   27.4s\n",
      "[Parallel(n_jobs=-1)]: Done 280 tasks      | elapsed:   28.7s\n",
      "[Parallel(n_jobs=-1)]: Done 305 tasks      | elapsed:   30.3s\n",
      "[Parallel(n_jobs=-1)]: Done 330 tasks      | elapsed:   31.7s\n",
      "[Parallel(n_jobs=-1)]: Done 357 tasks      | elapsed:   33.5s\n",
      "[Parallel(n_jobs=-1)]: Done 384 tasks      | elapsed:   35.1s\n",
      "[Parallel(n_jobs=-1)]: Done 413 tasks      | elapsed:   36.8s\n",
      "[Parallel(n_jobs=-1)]: Done 442 tasks      | elapsed:   38.7s\n",
      "[Parallel(n_jobs=-1)]: Done 473 tasks      | elapsed:   40.4s\n",
      "[Parallel(n_jobs=-1)]: Done 504 tasks      | elapsed:   42.3s\n",
      "[Parallel(n_jobs=-1)]: Done 537 tasks      | elapsed:   44.3s\n",
      "[Parallel(n_jobs=-1)]: Done 570 tasks      | elapsed:   46.2s\n",
      "[Parallel(n_jobs=-1)]: Done 605 tasks      | elapsed:   48.4s\n",
      "[Parallel(n_jobs=-1)]: Done 640 tasks      | elapsed:   50.6s\n",
      "[Parallel(n_jobs=-1)]: Done 677 tasks      | elapsed:   52.8s\n",
      "[Parallel(n_jobs=-1)]: Done 714 tasks      | elapsed:   54.9s\n",
      "[Parallel(n_jobs=-1)]: Done 753 tasks      | elapsed:   57.4s\n",
      "[Parallel(n_jobs=-1)]: Done 792 tasks      | elapsed:   59.7s\n",
      "[Parallel(n_jobs=-1)]: Done 833 tasks      | elapsed:  1.0min\n",
      "[Parallel(n_jobs=-1)]: Done 874 tasks      | elapsed:  1.1min\n",
      "[Parallel(n_jobs=-1)]: Done 917 tasks      | elapsed:  1.1min\n",
      "[Parallel(n_jobs=-1)]: Done 960 tasks      | elapsed:  1.2min\n",
      "[Parallel(n_jobs=-1)]: Done 1005 tasks      | elapsed:  1.2min\n",
      "[Parallel(n_jobs=-1)]: Done 1050 tasks      | elapsed:  1.3min\n",
      "[Parallel(n_jobs=-1)]: Done 1097 tasks      | elapsed:  1.3min\n",
      "[Parallel(n_jobs=-1)]: Done 1144 tasks      | elapsed:  1.4min\n",
      "[Parallel(n_jobs=-1)]: Done 1193 tasks      | elapsed:  1.4min\n",
      "[Parallel(n_jobs=-1)]: Done 1242 tasks      | elapsed:  1.5min\n",
      "[Parallel(n_jobs=-1)]: Done 1293 tasks      | elapsed:  1.5min\n",
      "[Parallel(n_jobs=-1)]: Done 1344 tasks      | elapsed:  1.6min\n",
      "[Parallel(n_jobs=-1)]: Done 1397 tasks      | elapsed:  1.6min\n",
      "[Parallel(n_jobs=-1)]: Done 1450 tasks      | elapsed:  1.7min\n",
      "[Parallel(n_jobs=-1)]: Done 1505 tasks      | elapsed:  1.7min\n",
      "[Parallel(n_jobs=-1)]: Done 1560 tasks      | elapsed:  1.8min\n",
      "[Parallel(n_jobs=-1)]: Done 1617 tasks      | elapsed:  1.8min\n",
      "[Parallel(n_jobs=-1)]: Done 1674 tasks      | elapsed:  1.9min\n",
      "[Parallel(n_jobs=-1)]: Done 1733 tasks      | elapsed:  1.9min\n",
      "[Parallel(n_jobs=-1)]: Done 1792 tasks      | elapsed:  2.0min\n",
      "[Parallel(n_jobs=-1)]: Done 1853 tasks      | elapsed:  2.1min\n",
      "[Parallel(n_jobs=-1)]: Done 1914 tasks      | elapsed:  2.1min\n",
      "[Parallel(n_jobs=-1)]: Done 1977 tasks      | elapsed:  2.2min\n",
      "[Parallel(n_jobs=-1)]: Done 2040 tasks      | elapsed:  2.3min\n",
      "[Parallel(n_jobs=-1)]: Done 2105 tasks      | elapsed:  2.3min\n",
      "[Parallel(n_jobs=-1)]: Done 2170 tasks      | elapsed:  2.4min\n",
      "[Parallel(n_jobs=-1)]: Done 2237 tasks      | elapsed:  2.5min\n",
      "[Parallel(n_jobs=-1)]: Done 2304 tasks      | elapsed:  2.5min\n",
      "[Parallel(n_jobs=-1)]: Done 2373 tasks      | elapsed:  2.6min\n",
      "[Parallel(n_jobs=-1)]: Done 2442 tasks      | elapsed:  2.7min\n",
      "[Parallel(n_jobs=-1)]: Done 2513 tasks      | elapsed:  2.8min\n",
      "[Parallel(n_jobs=-1)]: Done 2584 tasks      | elapsed:  2.8min\n",
      "[Parallel(n_jobs=-1)]: Done 2657 tasks      | elapsed:  2.9min\n",
      "[Parallel(n_jobs=-1)]: Done 2730 tasks      | elapsed:  3.0min\n",
      "[Parallel(n_jobs=-1)]: Done 2805 tasks      | elapsed:  3.0min\n",
      "[Parallel(n_jobs=-1)]: Done 2880 tasks      | elapsed:  3.1min\n",
      "[Parallel(n_jobs=-1)]: Done 2957 tasks      | elapsed:  3.2min\n",
      "[Parallel(n_jobs=-1)]: Done 3034 tasks      | elapsed:  3.3min\n",
      "[Parallel(n_jobs=-1)]: Done 3113 tasks      | elapsed:  3.4min\n",
      "[Parallel(n_jobs=-1)]: Done 3192 tasks      | elapsed:  3.4min\n",
      "[Parallel(n_jobs=-1)]: Done 3273 tasks      | elapsed:  3.5min\n",
      "[Parallel(n_jobs=-1)]: Done 3354 tasks      | elapsed:  3.6min\n",
      "[Parallel(n_jobs=-1)]: Done 3437 tasks      | elapsed:  3.7min\n",
      "[Parallel(n_jobs=-1)]: Done 3520 tasks      | elapsed:  3.8min\n",
      "[Parallel(n_jobs=-1)]: Done 3605 tasks      | elapsed:  3.9min\n",
      "[Parallel(n_jobs=-1)]: Done 3690 tasks      | elapsed:  3.9min\n",
      "[Parallel(n_jobs=-1)]: Done 3777 tasks      | elapsed:  4.0min\n",
      "[Parallel(n_jobs=-1)]: Done 3864 tasks      | elapsed:  4.1min\n",
      "[Parallel(n_jobs=-1)]: Done 3953 tasks      | elapsed:  4.2min\n",
      "[Parallel(n_jobs=-1)]: Done 4042 tasks      | elapsed:  4.3min\n",
      "[Parallel(n_jobs=-1)]: Done 4133 tasks      | elapsed:  4.4min\n",
      "[Parallel(n_jobs=-1)]: Done 4224 tasks      | elapsed:  4.5min\n",
      "[Parallel(n_jobs=-1)]: Done 4317 tasks      | elapsed:  4.6min\n",
      "[Parallel(n_jobs=-1)]: Done 4410 tasks      | elapsed:  4.7min\n",
      "[Parallel(n_jobs=-1)]: Done 4505 tasks      | elapsed:  4.8min\n",
      "[Parallel(n_jobs=-1)]: Done 4600 tasks      | elapsed:  4.9min\n",
      "[Parallel(n_jobs=-1)]: Done 4697 tasks      | elapsed:  5.0min\n",
      "[Parallel(n_jobs=-1)]: Done 4794 tasks      | elapsed:  5.1min\n",
      "[Parallel(n_jobs=-1)]: Done 4893 tasks      | elapsed:  5.2min\n",
      "[Parallel(n_jobs=-1)]: Done 4992 tasks      | elapsed:  5.3min\n",
      "[Parallel(n_jobs=-1)]: Done 5093 tasks      | elapsed:  5.4min\n",
      "[Parallel(n_jobs=-1)]: Done 5194 tasks      | elapsed:  5.5min\n",
      "[Parallel(n_jobs=-1)]: Done 5297 tasks      | elapsed:  5.6min\n",
      "[Parallel(n_jobs=-1)]: Done 5400 tasks      | elapsed:  5.7min\n",
      "[Parallel(n_jobs=-1)]: Done 5505 tasks      | elapsed:  5.8min\n",
      "[Parallel(n_jobs=-1)]: Done 5610 tasks      | elapsed:  5.9min\n",
      "[Parallel(n_jobs=-1)]: Done 5717 tasks      | elapsed:  6.0min\n",
      "[Parallel(n_jobs=-1)]: Done 5824 tasks      | elapsed:  6.1min\n",
      "[Parallel(n_jobs=-1)]: Done 5933 tasks      | elapsed:  6.2min\n",
      "[Parallel(n_jobs=-1)]: Done 6042 tasks      | elapsed:  6.3min\n",
      "[Parallel(n_jobs=-1)]: Done 6153 tasks      | elapsed:  6.4min\n",
      "[Parallel(n_jobs=-1)]: Done 6264 tasks      | elapsed:  6.5min\n",
      "[Parallel(n_jobs=-1)]: Done 6377 tasks      | elapsed:  6.6min\n",
      "[Parallel(n_jobs=-1)]: Done 6490 tasks      | elapsed:  6.7min\n",
      "[Parallel(n_jobs=-1)]: Done 6605 tasks      | elapsed:  6.8min\n",
      "[Parallel(n_jobs=-1)]: Done 6720 tasks      | elapsed:  7.0min\n",
      "[Parallel(n_jobs=-1)]: Done 6837 tasks      | elapsed:  7.1min\n",
      "[Parallel(n_jobs=-1)]: Done 6954 tasks      | elapsed:  7.2min\n",
      "[Parallel(n_jobs=-1)]: Done 7000 out of 7000 | elapsed:  7.2min finished\n"
     ]
    },
    {
     "name": "stdout",
     "output_type": "stream",
     "text": [
      "shape deflection:  (7000, 103)  should be [N,10X] something\n",
      "deflection std deviation  nan\n",
      "timed  434.457202196  s for function \" randomBeamFunctionSample \"\n",
      "Converting list of outputs into matrix: \n",
      "Element  1  has shape  (7000, 102)\n",
      "Element  2  has shape  (7000,)\n",
      "Final shape matrix:  (7000, 103)\n",
      "Columns where nan :  [1659 5659] \n",
      "\n",
      "There were  2  errors (numpy.nan) while processing, trying to regenerate missing outputs \n",
      "\n",
      "index to change:  [ 659 1659 2659 3659 4659 5659 6659]\n",
      "Generation types:\n",
      "1 : Random (default)\n",
      "2 : LHS\n",
      "3 : LowDiscrepancySequence\n",
      "4 : SimulatedAnnealingLHS\n",
      "Choosen generation method is Random (default)\n"
     ]
    },
    {
     "name": "stderr",
     "output_type": "stream",
     "text": [
      "[Parallel(n_jobs=-1)]: Using backend LokyBackend with 4 concurrent workers.\n",
      "[Parallel(n_jobs=-1)]: Done   1 tasks      | elapsed:    0.2s\n",
      "[Parallel(n_jobs=-1)]: Done   2 out of   7 | elapsed:    0.2s remaining:    0.6s\n",
      "[Parallel(n_jobs=-1)]: Done   3 out of   7 | elapsed:    0.3s remaining:    0.4s\n",
      "[Parallel(n_jobs=-1)]: Done   4 out of   7 | elapsed:    0.4s remaining:    0.3s\n",
      "[Parallel(n_jobs=-1)]: Done   5 out of   7 | elapsed:    0.4s remaining:    0.2s\n",
      "[Parallel(n_jobs=-1)]: Done   7 out of   7 | elapsed:    0.5s remaining:    0.0s\n",
      "[Parallel(n_jobs=-1)]: Done   7 out of   7 | elapsed:    0.5s finished\n",
      "[Parallel(n_jobs=-1)]: Using backend LokyBackend with 4 concurrent workers.\n"
     ]
    },
    {
     "name": "stdout",
     "output_type": "stream",
     "text": [
      "shape deflection:  (7, 103)  should be [N,10X] something\n",
      "deflection std deviation  2.1779864282038153\n",
      "timed  0.484876871  s for function \" randomBeamFunctionSample \"\n",
      "Converting list of outputs into matrix: \n",
      "Element  1  has shape  (7, 102)\n",
      "Element  2  has shape  (7,)\n",
      "Final shape matrix:  (7, 103)\n",
      "index to change:  [ 659 1659 2659 3659 4659 5659 6659]\n",
      "Generation types:\n",
      "1 : Random (default)\n",
      "2 : LHS\n",
      "3 : LowDiscrepancySequence\n",
      "4 : SimulatedAnnealingLHS\n",
      "Choosen generation method is Random (default)\n"
     ]
    },
    {
     "name": "stderr",
     "output_type": "stream",
     "text": [
      "[Parallel(n_jobs=-1)]: Done   1 tasks      | elapsed:    0.3s\n",
      "[Parallel(n_jobs=-1)]: Done   2 out of   7 | elapsed:    0.3s remaining:    0.8s\n",
      "[Parallel(n_jobs=-1)]: Done   3 out of   7 | elapsed:    0.3s remaining:    0.4s\n",
      "[Parallel(n_jobs=-1)]: Done   4 out of   7 | elapsed:    0.5s remaining:    0.3s\n"
     ]
    },
    {
     "name": "stdout",
     "output_type": "stream",
     "text": [
      "shape deflection:  (7, 103)  should be [N,10X] something\n",
      "deflection std deviation  1.6921878980141312\n",
      "timed  0.611192226  s for function \" randomBeamFunctionSample \"\n",
      "Converting list of outputs into matrix: \n",
      "Element  1  has shape  (7, 102)\n",
      "Element  2  has shape  (7,)\n",
      "Final shape matrix:  (7, 103)\n",
      " - Post replacement assertion passed - \n",
      "\n",
      "Transforming matrix of shape  (7000, 103)\n",
      "Into list of Ndarrays according to output definition\n",
      "Dimension output  0  is  102\n",
      "Intermediary shape is : (7000, 102)\n",
      "new shape is:  [7000, 102]\n",
      "Output element  0  has shape  (7000, 102)\n",
      "Dimension output  1  is  1\n",
      "Intermediary shape is : (7000, 1)\n",
      "new shape is:  [7000, 1]\n",
      "Output element  1  has shape  (7000,)\n"
     ]
    },
    {
     "name": "stderr",
     "output_type": "stream",
     "text": [
      "[Parallel(n_jobs=-1)]: Done   5 out of   7 | elapsed:    0.5s remaining:    0.2s\n",
      "[Parallel(n_jobs=-1)]: Done   7 out of   7 | elapsed:    0.6s remaining:    0.0s\n",
      "[Parallel(n_jobs=-1)]: Done   7 out of   7 | elapsed:    0.6s finished\n"
     ]
    }
   ],
   "source": [
    "processSensitivityAnalysis.getOutputDesignAndPostprocess()"
   ]
  },
  {
   "cell_type": "markdown",
   "metadata": {},
   "source": [
    "Le *timing* vient de la classe ***custum_wraps***, qui est pour l'instant assez inutile, mais permet de prendre en main les décorateurs...\n",
    "\n",
    "Une fois le _output design_ generé, l'on peut faire l'analyse de sensibilité sur le model.\n",
    "Pour ce faire, l'on utilise la fonction ***self.getSobolIndiciesKLCoefs***.\n",
    "La fonction ne renvoie pas directement les indices de sobol, mais bien des champs d'objets ***openTURNS.SaltelliSensitivityAlgorithm*** ou ***openTURNS.MartinezSensitivityAlgorithm*** ou ***openTURNS.JansenSensitivityAlgorithm*** ou ***openTURNS.MauntzKucherenkoSensitivityAlgorithm***.\n",
    "\n",
    "Ceci est bien sûr fait dans l'optique de toujours pouvoir accéder à l'entierté des indices de sobol et indices totaux du modèle.\n",
    "Ceci veut aussi dire qu'il manque une dimension pour les champs en sortie, celle des variables d'entrée."
   ]
  },
  {
   "cell_type": "code",
   "execution_count": 12,
   "metadata": {},
   "outputs": [
    {
     "name": "stdout",
     "output_type": "stream",
     "text": [
      "Populating the interactive namespace from numpy and matplotlib\n"
     ]
    }
   ],
   "source": [
    "%pylab inline\n",
    "pylab.rcParams['figure.figsize'] = (13, 5)\n",
    "import NdGaussianProcessSensitivityIndices as ngpsi\n",
    "_=reload(ngpsi)"
   ]
  },
  {
   "cell_type": "markdown",
   "metadata": {},
   "source": [
    "Ici on calcule les indices de sobol du premier ordre"
   ]
  },
  {
   "cell_type": "code",
   "execution_count": 13,
   "metadata": {},
   "outputs": [],
   "source": [
    "output = processSensitivityAnalysis.outputDesignList; output1 = output[0]; output2 = output[1]"
   ]
  },
  {
   "cell_type": "code",
   "execution_count": 14,
   "metadata": {
    "scrolled": true
   },
   "outputs": [
    {
     "name": "stdout",
     "output_type": "stream",
     "text": [
      "There are 5 indices to get in (102,) dimensions with 102 elements\n",
      "basic output shape is: (1000, 102)\n",
      "dimension of output flattened to matrix (dim<=2)  102\n",
      "data for variance calculus prepared \n",
      " X_fo shape is (1000, 102) Y_fo shape is (1000, 102)\n",
      "The output has 102 dimensions, so the covariance is of dimension (102, 2, 2)\n",
      "The shape of the means is: (102, 2)\n",
      "The shape of the mean value for psi is:  (102, 2)\n",
      "temporary shape after tiling (102, 2, 2)\n",
      "Variance is: [0.00105184 0.00101716 0.00101331 0.00101197 0.00101166 0.00101215\n",
      " 0.00101327 0.00101471 0.00101602 0.00101663 0.00101586 0.00101305\n",
      " 0.00100761 0.0009992  0.00098775 0.00097358 0.00095734 0.00093996\n",
      " 0.00092256 0.00090622 0.00089194 0.00088046 0.0008722  0.00086725\n",
      " 0.00086539 0.00086612 0.0008688  0.00087269 0.00087711 0.00088151\n",
      " 0.00088557 0.00088919 0.0008925  0.00089582 0.0008995  0.00090391\n",
      " 0.0009088  0.00091252 0.00092811 0.00093726 0.00095277 0.00097701\n",
      " 0.00101718 0.00104844 0.00106418 0.00108843 0.00109679 0.00111919\n",
      " 0.00115182 0.00121481 0.00130941 0.0013574  0.00139118 0.0012841\n",
      " 0.0011564  0.00107235 0.00102959 0.00098842 0.00093508 0.00091437\n",
      " 0.0009184  0.00093037 0.00093058 0.00093508 0.00093943 0.00094087\n",
      " 0.00093924 0.00093933 0.00094532 0.00095185 0.00095806 0.00096394\n",
      " 0.00096955 0.00097503 0.00098063 0.00098666 0.00099342 0.00100119\n",
      " 0.00101014 0.00102035 0.00103174 0.00104411 0.00105713 0.0010704\n",
      " 0.00108349 0.00109602 0.00110765 0.00111814 0.00112739 0.00113541\n",
      " 0.00114236 0.00114846 0.00115402 0.00115934 0.0011647  0.00117028\n",
      " 0.00117618 0.00118238 0.00118877 0.00119525 0.00120177 0.00120913]\n",
      "The output has 102 dimensions, so the covariance is of dimension (102, 2, 2)\n",
      "The shape of the means is: (102, 2)\n",
      "The shape of the mean value for psi is:  (102, 2)\n",
      "temporary shape after tiling (102, 2, 2)\n",
      "Variance is: [0.00925488 0.00941343 0.00934482 0.00927201 0.00919768 0.00912271\n",
      " 0.00904808 0.00897493 0.0089045  0.00883803 0.00877659 0.00872094\n",
      " 0.00867145 0.00862791 0.00858957 0.00855502 0.00852245 0.00848987\n",
      " 0.00845564 0.00841905 0.00838072 0.00834286 0.00830902 0.00828353\n",
      " 0.00827067 0.00827387 0.00829505 0.00833433 0.00839002 0.00845897\n",
      " 0.00853712 0.00862007 0.00870366 0.00878433 0.00885933 0.00892666\n",
      " 0.00898491 0.00903136 0.00902527 0.00909602 0.00896331 0.00876712\n",
      " 0.00858459 0.00850789 0.00861463 0.00895535 0.00904911 0.00933717\n",
      " 0.00980051 0.01051221 0.0113857  0.01176838 0.01174772 0.01107012\n",
      " 0.01053497 0.01004335 0.0098951  0.00971991 0.009449   0.00920735\n",
      " 0.00893135 0.00880131 0.00875544 0.00865984 0.00854019 0.00844004\n",
      " 0.0083811  0.00834954 0.00829071 0.0082321  0.00817814 0.00812883\n",
      " 0.0080842  0.00804455 0.00801057 0.00798342 0.00796471 0.00795637\n",
      " 0.00796045 0.00797877 0.00801263 0.00806256 0.0081282  0.00820843\n",
      " 0.00830156 0.00840551 0.00851802 0.00863654 0.00875819 0.00887959\n",
      " 0.00899687 0.0091058  0.00920221 0.00928244 0.00934387 0.00938533\n",
      " 0.00940716 0.00941103 0.00939955 0.00937546 0.00933991 0.0092798 ]\n",
      "basic output shape is: (1000, 102)\n",
      "dimension of output flattened to matrix (dim<=2)  102\n",
      "data for variance calculus prepared \n",
      " X_fo shape is (1000, 102) Y_fo shape is (1000, 102)\n",
      "The output has 102 dimensions, so the covariance is of dimension (102, 2, 2)\n",
      "The shape of the means is: (102, 2)\n",
      "The shape of the mean value for psi is:  (102, 2)\n",
      "temporary shape after tiling (102, 2, 2)\n",
      "Variance is: [0.00112154 0.00136807 0.00138332 0.00138904 0.00139714 0.0014088\n",
      " 0.00142367 0.00144081 0.00145905 0.00147719 0.00149415 0.00150912\n",
      " 0.00152167 0.00153172 0.00153958 0.00154586 0.00155135 0.00155689\n",
      " 0.00156318 0.00157066 0.00157937 0.00158888 0.00159838 0.00160672\n",
      " 0.00161265 0.00161502 0.00161298 0.00160615 0.00159462 0.00157895\n",
      " 0.00155999 0.00153873 0.00151622 0.00149346 0.00147139 0.00145093\n",
      " 0.00143278 0.00141081 0.00140236 0.00139232 0.00138987 0.00140519\n",
      " 0.00145486 0.00151523 0.00158428 0.00166454 0.00174779 0.00185399\n",
      " 0.00195506 0.0020911  0.00223686 0.00228366 0.00225814 0.00209456\n",
      " 0.00188547 0.0017437  0.00167286 0.00162337 0.00156873 0.00153724\n",
      " 0.00153849 0.00153676 0.0015148  0.00149929 0.00149291 0.00148822\n",
      " 0.00148431 0.00148755 0.0015029  0.00152107 0.00154063 0.0015626\n",
      " 0.00158655 0.00161188 0.00163776 0.00166319 0.00168706 0.00170833\n",
      " 0.00172623 0.00174038 0.00175089 0.00175828 0.00176333 0.00176695\n",
      " 0.00176989 0.0017727  0.00177562 0.0017786  0.00178143 0.00178389\n",
      " 0.00178582 0.0017873  0.00178866 0.00179044 0.00179333 0.00179797\n",
      " 0.00180489 0.00181435 0.00182622 0.00183966 0.00185152 0.00184009]\n",
      "The output has 102 dimensions, so the covariance is of dimension (102, 2, 2)\n",
      "The shape of the means is: (102, 2)\n",
      "The shape of the mean value for psi is:  (102, 2)\n",
      "temporary shape after tiling (102, 2, 2)\n",
      "Variance is: [0.00599056 0.00447531 0.00435501 0.00429043 0.00422919 0.004166\n",
      " 0.00410116 0.00403612 0.00397236 0.00391094 0.00385237 0.00379659\n",
      " 0.00374317 0.00369156 0.00364123 0.00359197 0.00354388 0.00349747\n",
      " 0.00345366 0.00341364 0.00337887 0.00335085 0.00333097 0.00332024\n",
      " 0.00331907 0.0033271  0.00334306 0.00336487 0.00338988 0.00341514\n",
      " 0.00343789 0.0034559  0.00346773 0.00347288 0.00347169 0.00346516\n",
      " 0.00345472 0.00344048 0.00338822 0.00336877 0.0032687  0.00315725\n",
      " 0.00306641 0.00303825 0.00304821 0.00307318 0.00308973 0.00318503\n",
      " 0.00329417 0.00343127 0.00366494 0.00383065 0.00388638 0.00365294\n",
      " 0.00352676 0.00349763 0.00353235 0.00350881 0.00341798 0.00340297\n",
      " 0.00340614 0.00343901 0.00346032 0.00345702 0.00344886 0.00346807\n",
      " 0.00352174 0.00357608 0.00358871 0.00359558 0.00360197 0.00360734\n",
      " 0.00361147 0.00361449 0.00361689 0.00361946 0.0036231  0.00362869\n",
      " 0.00363693 0.0036482  0.00366253 0.0036796  0.00369886 0.00371969\n",
      " 0.00374151 0.00376394 0.00378687 0.00381044 0.00383499 0.00386098\n",
      " 0.00388885 0.00391889 0.00395107 0.00398492 0.00401947 0.00405329\n",
      " 0.00408468 0.00411194 0.00413389 0.00415093 0.00416912 0.00423932]\n",
      "basic output shape is: (1000, 102)\n",
      "dimension of output flattened to matrix (dim<=2)  102\n",
      "data for variance calculus prepared \n",
      " X_fo shape is (1000, 102) Y_fo shape is (1000, 102)\n",
      "The output has 102 dimensions, so the covariance is of dimension (102, 2, 2)\n",
      "The shape of the means is: (102, 2)\n",
      "The shape of the mean value for psi is:  (102, 2)\n",
      "temporary shape after tiling (102, 2, 2)\n",
      "Variance is: [0.00105282 0.00101793 0.00101406 0.00101269 0.00101234 0.0010128\n",
      " 0.00101386 0.00101524 0.00101649 0.00101703 0.00101619 0.00101329\n",
      " 0.00100778 0.00099928 0.00098775 0.0009735  0.00095718 0.00093974\n",
      " 0.00092227 0.00090587 0.00089155 0.00088002 0.00087172 0.00086674\n",
      " 0.00086485 0.00086556 0.00086821 0.00087207 0.00087646 0.00088083\n",
      " 0.00088486 0.00088847 0.0008918  0.00089515 0.00089889 0.00090338\n",
      " 0.0009084  0.00091226 0.00092809 0.00093752 0.00095331 0.00097783\n",
      " 0.00101831 0.00104991 0.00106604 0.00109068 0.00109949 0.00112245\n",
      " 0.00115548 0.0012187  0.00131332 0.00136113 0.00139457 0.00128711\n",
      " 0.00115897 0.00107446 0.00103111 0.00098946 0.00093573 0.00091472\n",
      " 0.00091849 0.00093029 0.00093042 0.00093484 0.00093913 0.00094052\n",
      " 0.00093887 0.00093897 0.00094495 0.00095148 0.0009577  0.00096361\n",
      " 0.00096924 0.00097475 0.00098038 0.00098644 0.00099323 0.00100102\n",
      " 0.00100999 0.00102021 0.00103162 0.001044   0.00105702 0.00107029\n",
      " 0.00108338 0.0010959  0.00110751 0.00111799 0.00112722 0.00113523\n",
      " 0.00114215 0.00114823 0.00115377 0.00115907 0.00116441 0.00116997\n",
      " 0.00117584 0.00118202 0.0011884  0.00119486 0.00120136 0.00120871]\n",
      "The output has 102 dimensions, so the covariance is of dimension (102, 2, 2)\n",
      "The shape of the means is: (102, 2)\n",
      "The shape of the mean value for psi is:  (102, 2)\n",
      "temporary shape after tiling (102, 2, 2)\n",
      "Variance is: [0.00925913 0.00941645 0.0093482  0.00927591 0.00920221 0.00912801\n",
      " 0.00905431 0.00898226 0.00891315 0.00884821 0.00878855 0.00873491\n",
      " 0.00868764 0.00864653 0.00861073 0.0085788  0.00854884 0.00851877\n",
      " 0.0084869  0.00845244 0.00841597 0.00837968 0.00834714 0.0083227\n",
      " 0.00831069 0.00831462 0.00833646 0.00837638 0.00843276 0.00850248\n",
      " 0.00858147 0.00866533 0.00874985 0.00883144 0.00890726 0.00897522\n",
      " 0.00903385 0.00908028 0.00907468 0.00914588 0.00901329 0.00881724\n",
      " 0.00863548 0.00855998 0.00866893 0.00901378 0.00911839 0.00940183\n",
      " 0.00985482 0.01056111 0.01142892 0.01180225 0.01177424 0.01109086\n",
      " 0.01055153 0.01005697 0.00990679 0.00973019 0.00945804 0.00921544\n",
      " 0.00893865 0.00880799 0.0087616  0.0086655  0.00854538 0.0084448\n",
      " 0.00838545 0.00835352 0.00829435 0.00823542 0.00818117 0.00813158\n",
      " 0.00808671 0.00804685 0.00801269 0.00798538 0.00796654 0.0079581\n",
      " 0.00796208 0.00798033 0.00801413 0.00806401 0.00812961 0.00820981\n",
      " 0.0083029  0.00840684 0.00851933 0.00863784 0.00875949 0.0088809\n",
      " 0.00899819 0.00910715 0.00920359 0.00928384 0.00934532 0.00938682\n",
      " 0.00940868 0.0094126  0.00940115 0.0093771  0.00934158 0.00928153]\n",
      "basic output shape is: (1000, 102)\n",
      "dimension of output flattened to matrix (dim<=2)  102\n",
      "data for variance calculus prepared \n",
      " X_fo shape is (1000, 102) Y_fo shape is (1000, 102)\n",
      "The output has 102 dimensions, so the covariance is of dimension (102, 2, 2)\n",
      "The shape of the means is: (102, 2)\n",
      "The shape of the mean value for psi is:  (102, 2)\n",
      "temporary shape after tiling (102, 2, 2)\n",
      "Variance is: [0.00225263 0.00171009 0.00168272 0.00167613 0.00167194 0.00166785\n",
      " 0.00166345 0.00165863 0.0016533  0.00164728 0.00164026 0.00163188\n",
      " 0.00162178 0.00160975 0.00159582 0.0015803  0.00156381 0.00154721\n",
      " 0.00153153 0.00151785 0.00150719 0.00150041 0.00149819 0.00150092\n",
      " 0.00150869 0.00152131 0.00153837 0.00155923 0.00158319 0.00160956\n",
      " 0.00163774 0.00166728 0.00169787 0.00172935 0.00176155 0.00179434\n",
      " 0.00181597 0.00177123 0.00173223 0.00169596 0.00166243 0.0016624\n",
      " 0.00164058 0.00154304 0.00140619 0.00133998 0.00129767 0.0012804\n",
      " 0.00129319 0.00137574 0.0015232  0.00163483 0.00174798 0.00172959\n",
      " 0.00162601 0.00158324 0.00159833 0.00163047 0.0016403  0.00165611\n",
      " 0.00170014 0.00176626 0.00182367 0.00186329 0.00190613 0.00192771\n",
      " 0.00192665 0.00193713 0.00196135 0.00198121 0.00198193 0.00198303\n",
      " 0.00198448 0.00198629 0.00198853 0.00199129 0.00199465 0.00199866\n",
      " 0.0020033  0.00200846 0.00201401 0.00201978 0.00202567 0.00203164\n",
      " 0.00203775 0.00204412 0.00205088 0.00205811 0.00206579 0.00207374\n",
      " 0.00208163 0.00208897 0.00209517 0.00209963 0.00210175 0.00210108\n",
      " 0.00209732 0.00209047 0.00208084 0.00206935 0.00205889 0.00206836]\n",
      "The output has 102 dimensions, so the covariance is of dimension (102, 2, 2)\n",
      "The shape of the means is: (102, 2)\n",
      "The shape of the mean value for psi is:  (102, 2)\n",
      "temporary shape after tiling (102, 2, 2)\n",
      "Variance is: [0.00275412 0.00356828 0.00358175 0.00355881 0.00353528 0.00351558\n",
      " 0.00350023 0.0034888  0.00348052 0.00347455 0.00347008 0.00346639\n",
      " 0.00346278 0.00345856 0.00345304 0.00344544 0.00343497 0.00342095\n",
      " 0.00340291 0.0033808  0.0033552  0.0033273  0.00329888 0.00327211\n",
      " 0.00324924 0.00323234 0.0032231  0.00322269 0.00323168 0.00325004\n",
      " 0.00327725 0.00331228 0.00335378 0.00340011 0.00344942 0.00349969\n",
      " 0.00354772 0.00358842 0.0036583  0.00375399 0.00385301 0.00396293\n",
      " 0.0041154  0.00424534 0.00441144 0.00474011 0.00504728 0.00549022\n",
      " 0.00603846 0.00665132 0.00734704 0.00758015 0.00753659 0.00695499\n",
      " 0.00627989 0.00572663 0.00542776 0.00520352 0.00495226 0.00476756\n",
      " 0.00461762 0.00455282 0.0045096  0.00445034 0.00438573 0.00431271\n",
      " 0.00423949 0.0041769  0.0041274  0.00408066 0.00403597 0.00399406\n",
      " 0.00395564 0.00392135 0.00389175 0.00386742 0.00384906 0.00383742\n",
      " 0.00383329 0.00383732 0.00384986 0.00387077 0.00389939 0.00393461\n",
      " 0.00397497 0.00401884 0.00406451 0.00411016 0.00415387 0.00419352\n",
      " 0.00422688 0.00425172 0.00426612 0.00426886 0.00425971 0.00423961\n",
      " 0.00421058 0.00417533 0.00413663 0.0040962  0.0040512  0.00396401]\n"
     ]
    },
    {
     "name": "stdout",
     "output_type": "stream",
     "text": [
      "basic output shape is: (1000, 102)\n",
      "dimension of output flattened to matrix (dim<=2)  102\n",
      "data for variance calculus prepared \n",
      " X_fo shape is (1000, 102) Y_fo shape is (1000, 102)\n",
      "The output has 102 dimensions, so the covariance is of dimension (102, 2, 2)\n",
      "The shape of the means is: (102, 2)\n",
      "The shape of the mean value for psi is:  (102, 2)\n",
      "temporary shape after tiling (102, 2, 2)\n",
      "Variance is: [0.00134525 0.00122329 0.00121459 0.00121276 0.00121315 0.00121517\n",
      " 0.0012185  0.00122269 0.0012271  0.00123086 0.00123296 0.00123238\n",
      " 0.00122819 0.00121976 0.00120684 0.00118968 0.00116897 0.00114579\n",
      " 0.00112147 0.00109737 0.00107477 0.00105469 0.00103782 0.00102447\n",
      " 0.00101462 0.00100792 0.00100383 0.00100167 0.00100082 0.00100073\n",
      " 0.0010011  0.00100184 0.00100305 0.001005   0.00100798 0.00101224\n",
      " 0.00101778 0.00102381 0.00104127 0.00105245 0.00106202 0.00107965\n",
      " 0.00111325 0.00113627 0.00114723 0.00117085 0.00116992 0.00118588\n",
      " 0.00120792 0.00127298 0.00138101 0.00144543 0.00146692 0.00134992\n",
      " 0.00120915 0.00111296 0.00105675 0.00101111 0.00095873 0.00094078\n",
      " 0.0009516  0.00096874 0.00097343 0.00097812 0.00098106 0.00098174\n",
      " 0.00098041 0.000982   0.00098965 0.00099822 0.00100661 0.00101492\n",
      " 0.00102312 0.00103128 0.00103955 0.00104811 0.00105716 0.00106687\n",
      " 0.00107732 0.00108854 0.00110044 0.00111286 0.00112559 0.0011384\n",
      " 0.00115106 0.00116341 0.00117534 0.00118684 0.00119791 0.0012086\n",
      " 0.00121898 0.0012291  0.00123898 0.00124863 0.00125802 0.0012671\n",
      " 0.00127578 0.00128396 0.00129157 0.00129853 0.00130493 0.00131194]\n",
      "The output has 102 dimensions, so the covariance is of dimension (102, 2, 2)\n",
      "The shape of the means is: (102, 2)\n",
      "The shape of the mean value for psi is:  (102, 2)\n",
      "temporary shape after tiling (102, 2, 2)\n",
      "Variance is: [0.00669174 0.00733055 0.00733179 0.00731142 0.00729034 0.0072705\n",
      " 0.00725153 0.00723256 0.00721268 0.00719116 0.00716759 0.00714191\n",
      " 0.00711441 0.00708561 0.00705608 0.00702618 0.00699598 0.00696524\n",
      " 0.00693364 0.00690117 0.0068685  0.00683724 0.00680986 0.00678944\n",
      " 0.00677903 0.00678113 0.00679723 0.00682756 0.00687105 0.00692564\n",
      " 0.00698852 0.00705662 0.00712688 0.00719654 0.0072632  0.00732479\n",
      " 0.0073795  0.00742706 0.00746064 0.00751865 0.00740288 0.00721472\n",
      " 0.00700872 0.00688024 0.00688327 0.00707477 0.00691934 0.006903\n",
      " 0.00709878 0.00748414 0.00806125 0.00839238 0.00847153 0.00813402\n",
      " 0.00778227 0.00734024 0.00717421 0.00701665 0.00684234 0.00667358\n",
      " 0.00649012 0.00640138 0.00637963 0.00631257 0.0062223  0.00614043\n",
      " 0.00608438 0.0060508  0.00600538 0.00596182 0.00592305 0.00588966\n",
      " 0.00586234 0.00584197 0.00582962 0.00582652 0.00583404 0.0058536\n",
      " 0.00588645 0.00593349 0.00599505 0.00607071 0.00615933 0.00625916\n",
      " 0.00636804 0.00648366 0.00660364 0.00672554 0.00684676 0.00696442\n",
      " 0.00707531 0.00717606 0.00726343 0.00733472 0.00738818 0.00742333\n",
      " 0.00744096 0.00744288 0.00743143 0.00740841 0.00737171 0.00728596]\n",
      "Indices successfully calculated\n",
      "There are 5 indices to get in 1 dimensions with 1 elements\n",
      "basic output shape is: (1000,)\n",
      "dimension of output flattened to matrix (dim<=2)  1\n",
      "data for variance calculus prepared \n",
      " X_fo shape is (1000, 1) Y_fo shape is (1000, 1)\n",
      "The output has 1 dimensions, so the covariance is of dimension (2, 2)\n",
      "Covariance is: [[0.38061683 0.04252254]\n",
      " [0.04252254 0.81228405]]\n",
      "Sample mean is: [0.0073805758509828435, 0.5916627759001172]\n",
      "Psi mean is: [ 1.69015196 -0.02108345]\n",
      "variance is: 1.0846057853468782\n",
      "The output has 1 dimensions, so the covariance is of dimension (2, 2)\n",
      "Covariance is: [[0.81210859 0.81219489]\n",
      " [0.81219489 0.81228405]]\n",
      "Sample mean is: [0.5916170836874196, 0.5916627759001172]\n",
      "Psi mean is: [-1.69015196  1.69002143]\n",
      "variance is: 8.186440472377979e-06\n",
      "basic output shape is: (1000,)\n",
      "dimension of output flattened to matrix (dim<=2)  1\n",
      "data for variance calculus prepared \n",
      " X_fo shape is (1000, 1) Y_fo shape is (1000, 1)\n",
      "The output has 1 dimensions, so the covariance is of dimension (2, 2)\n",
      "Covariance is: [[0.48043902 0.0264022 ]\n",
      " [0.0264022  0.81228405]]\n",
      "Sample mean is: [0.2393992162704775, 0.5916627759001172]\n",
      "Psi mean is: [ 1.69015196 -0.68387107]\n",
      "variance is: 1.6912836317574398\n",
      "The output has 1 dimensions, so the covariance is of dimension (2, 2)\n",
      "Covariance is: [[0.52873895 0.48035282]\n",
      " [0.48035282 0.81228405]]\n",
      "Sample mean is: [0.358639614009479, 0.5916627759001172]\n",
      "Psi mean is: [-1.69015196  1.02449482]\n",
      "variance is: 0.699456137746102\n",
      "basic output shape is: (1000,)\n",
      "dimension of output flattened to matrix (dim<=2)  1\n",
      "data for variance calculus prepared \n",
      " X_fo shape is (1000, 1) Y_fo shape is (1000, 1)\n",
      "The output has 1 dimensions, so the covariance is of dimension (2, 2)\n",
      "Covariance is: [[0.38062355 0.04235887]\n",
      " [0.04235887 0.81228405]]\n",
      "Sample mean is: [0.007673480265765802, 0.5916627759001172]\n",
      "Psi mean is: [ 1.69015196 -0.02192017]\n",
      "variance is: 1.0845460709767183\n",
      "The output has 1 dimensions, so the covariance is of dimension (2, 2)\n",
      "Covariance is: [[0.81228405 0.81228405]\n",
      " [0.81228405 0.81228405]]\n",
      "Sample mean is: [0.5916627759001172, 0.5916627759001172]\n",
      "Psi mean is: [-1.69015196  1.69015196]\n",
      "variance is: 4.930380657631324e-32\n",
      "basic output shape is: (1000,)\n",
      "dimension of output flattened to matrix (dim<=2)  1\n",
      "data for variance calculus prepared \n",
      " X_fo shape is (1000, 1) Y_fo shape is (1000, 1)\n",
      "The output has 1 dimensions, so the covariance is of dimension (2, 2)\n",
      "Covariance is: [[0.48374423 0.02278847]\n",
      " [0.02278847 0.81228405]]\n",
      "Sample mean is: [0.3019737859517967, 0.5916627759001172]\n",
      "Psi mean is: [ 1.69015196 -0.86262244]\n",
      "variance is: 1.9198556380737997\n",
      "The output has 1 dimensions, so the covariance is of dimension (2, 2)\n",
      "Covariance is: [[0.53815075 0.45124722]\n",
      " [0.45124722 0.81228405]]\n",
      "Sample mean is: [0.33217476309142857, 0.5916627759001172]\n",
      "Psi mean is: [-1.69015196  0.94889496]\n",
      "variance is: 0.8212711489314313\n",
      "basic output shape is: (1000,)\n",
      "dimension of output flattened to matrix (dim<=2)  1\n",
      "data for variance calculus prepared \n",
      " X_fo shape is (1000, 1) Y_fo shape is (1000, 1)\n",
      "The output has 1 dimensions, so the covariance is of dimension (2, 2)\n",
      "Covariance is: [[0.38510076 0.04517682]\n",
      " [0.04517682 0.81228405]]\n",
      "Sample mean is: [0.10878277663641259, 0.5916627759001172]\n",
      "Psi mean is: [ 1.69015196 -0.31075036]\n",
      "variance is: 1.1310678222440256\n",
      "The output has 1 dimensions, so the covariance is of dimension (2, 2)\n",
      "Covariance is: [[0.734434   0.70961069]\n",
      " [0.70961069 0.81228405]]\n",
      "Sample mean is: [0.5044990731791168, 0.5916627759001172]\n",
      "Psi mean is: [-1.69015196  1.44115894]\n",
      "variance is: 0.3281510331791553\n",
      "Indices successfully calculated\n"
     ]
    }
   ],
   "source": [
    "S, Stot, varS, varStot = ngpsi.NdGaussianProcessSensitivityIndicesBase.getSobolIndices(output1,1000)\n",
    "S2, Stot2, varS2, varS2tot = ngpsi.NdGaussianProcessSensitivityIndicesBase.getSobolIndices(output2,1000)"
   ]
  },
  {
   "cell_type": "markdown",
   "metadata": {},
   "source": [
    "L'on peut récuperer ces indices du premier ordre dans ***self.processSensitivityAnalysis.sensitivityResults.firstOrderIndices***\n",
    "Matplotlib permet de facilement visualiser ces indices. Néanmoins, cette visualisation est pour l'instant peu pertinente, puisque l'on visualise chaque variables aléatoire de Karhunen Loeve individuellement, alors qu'il nous faut encore combiner ces dernières pour que l'indice de sobol soit représentatif du champ stochastique consideré."
   ]
  },
  {
   "cell_type": "code",
   "execution_count": 15,
   "metadata": {
    "scrolled": true
   },
   "outputs": [
    {
     "name": "stdout",
     "output_type": "stream",
     "text": [
      "S2= [0.01247429 0.40462105 0.01296935 0.51038159 0.18385942]\n",
      "Stot2= [7.72267828e-05 3.93844554e-01 0.00000000e+00 4.38574173e-01\n",
      " 1.47319903e-01]\n",
      "varS2= [[1.08460579]\n",
      " [1.69128363]\n",
      " [1.08454607]\n",
      " [1.91985564]\n",
      " [1.13106782]]\n",
      "varStot2= [[8.18644047e-06]\n",
      " [6.99456138e-01]\n",
      " [4.93038066e-32]\n",
      " [8.21271149e-01]\n",
      " [3.28151033e-01]]\n"
     ]
    }
   ],
   "source": [
    "print('S2=',S2)\n",
    "print('Stot2=',Stot2)\n",
    "print('varS2=',varS2)\n",
    "print('varStot2=',varS2tot)"
   ]
  },
  {
   "cell_type": "code",
   "execution_count": 18,
   "metadata": {},
   "outputs": [
    {
     "data": {
      "text/plain": [
       "<matplotlib.colorbar.Colorbar at 0x7f3816d09160>"
      ]
     },
     "execution_count": 18,
     "metadata": {},
     "output_type": "execute_result"
    },
    {
     "data": {
      "image/png": "[encoded data removed]",
      "text/plain": [
       "<Figure size 936x360 with 2 Axes>"
      ]
     },
     "metadata": {
      "needs_background": "light"
     },
     "output_type": "display_data"
    }
   ],
   "source": [
    "plt.yticks([0,1,2,3,4],[\"Module d'Young\",'Diametre','Densité','Position Force','Norme Force'])\n",
    "x=plt.imshow(varS, cmap='CMRmap',aspect='auto')\n",
    "plt.colorbar()"
   ]
  },
  {
   "cell_type": "code",
   "execution_count": 19,
   "metadata": {},
   "outputs": [
    {
     "data": {
      "text/plain": [
       "<matplotlib.colorbar.Colorbar at 0x7f3816f020b8>"
      ]
     },
     "execution_count": 19,
     "metadata": {},
     "output_type": "execute_result"
    },
    {
     "data": {
      "image/png": "[encoded data removed]",
      "text/plain": [
       "<Figure size 936x360 with 2 Axes>"
      ]
     },
     "metadata": {
      "needs_background": "light"
     },
     "output_type": "display_data"
    }
   ],
   "source": [
    "plt.yticks([0,1,2,3,4],[\"Module d'Young\",'Diametre','Densité','Position Force','Norme Force'])\n",
    "x=plt.imshow(S, cmap='CMRmap',aspect='auto')\n",
    "plt.colorbar()"
   ]
  },
  {
   "cell_type": "code",
   "execution_count": null,
   "metadata": {},
   "outputs": [],
   "source": [
    "A,B = ngpsi.NdGaussianProcessSensitivityIndicesBase.SymbolicSaltelliIndices(1)\n",
    "A"
   ]
  },
  {
   "cell_type": "code",
   "execution_count": null,
   "metadata": {},
   "outputs": [],
   "source": [
    "A.gradient([2,3])"
   ]
  },
  {
   "cell_type": "code",
   "execution_count": null,
   "metadata": {},
   "outputs": [],
   "source": [
    "#composedDist = processSensitivityAnalysis.wrappedFunction.KLComposedDistribution\n",
    "plt.yticks([0,1,2,3,4],[\"Module d'Young\",'Diametre','Densité','Position Force','Norme Force'])\n",
    "x=plt.imshow(S, cmap='CMRmap',aspect='auto')\n",
    "plt.colorbar()"
   ]
  },
  {
   "cell_type": "markdown",
   "metadata": {},
   "source": [
    "Test for the variance calculus"
   ]
  },
  {
   "cell_type": "code",
   "execution_count": null,
   "metadata": {},
   "outputs": [],
   "source": [
    "outputDim0 = output2.shape[0];print(outputDim0)\n",
    "inputDim = 5 #(5 dimensions)\n",
    "N = 100\n",
    "print(output2)"
   ]
  },
  {
   "cell_type": "code",
   "execution_count": null,
   "metadata": {
    "scrolled": true
   },
   "outputs": [],
   "source": [
    "ngpsi.NdGaussianProcessSensitivityIndicesBase.computeVariance(1, \n",
    "                                                              inputDim,\n",
    "                                                             N,\n",
    "                                                             output2)"
   ]
  },
  {
   "cell_type": "code",
   "execution_count": null,
   "metadata": {},
   "outputs": [],
   "source": [
    "S_fo[...,50]"
   ]
  },
  {
   "cell_type": "code",
   "execution_count": null,
   "metadata": {},
   "outputs": [],
   "source": [
    "im2 = plt.imshow(processSensitivityAnalysis.sensitivityResults.firstOrderIndices[1])\n",
    "plt.show()"
   ]
  },
  {
   "cell_type": "code",
   "execution_count": null,
   "metadata": {},
   "outputs": [],
   "source": [
    "#im2.write_png('sensitivity_rv_KL')"
   ]
  },
  {
   "cell_type": "code",
   "execution_count": null,
   "metadata": {},
   "outputs": [],
   "source": [
    "processSensitivityAnalysis.wrappedFunction.getKLDecompositionVarNames"
   ]
  },
  {
   "cell_type": "code",
   "execution_count": null,
   "metadata": {},
   "outputs": [],
   "source": [
    "np.sum(S_fo, axis=0)"
   ]
  },
  {
   "cell_type": "code",
   "execution_count": null,
   "metadata": {},
   "outputs": [],
   "source": [
    "S_f"
   ]
  }
 ],
 "metadata": {
  "kernelspec": {
   "display_name": "Python 3",
   "language": "python",
   "name": "python3"
  },
  "language_info": {
   "codemirror_mode": {
    "name": "ipython",
    "version": 3
   },
   "file_extension": ".py",
   "mimetype": "text/x-python",
   "name": "python",
   "nbconvert_exporter": "python",
   "pygments_lexer": "ipython3",
   "version": "3.6.7"
  }
 },
 "nbformat": 4,
 "nbformat_minor": 2
}
