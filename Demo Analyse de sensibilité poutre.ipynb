{
 "cells": [
  {
   "cell_type": "markdown",
   "metadata": {},
   "source": [
    "### Il est explicité ici l'utilisation des ensembles de codes écrits pour l'analyse de sensibilité sur des champs stochastiques et variables aléatoires.\n",
    "\n",
    "### Il est d'abord conseillé d'installer l'environnement virtuel dont la définition se trouvent dans le fichier yaml\n",
    "\n",
    "Nous allons faire ici l'analyse de sensiblité sur une poutre en flexion représentée par 100 éléments finis, et ou le module young et le diamètre de chaque élément est déterminé par un processus gaussien en une dimension. La position de la force, sa norme, tout comme la densité du matérieau sont déterminés par des lois nomales gaussiennes.\n",
    "Dans la logique d'écriture de ces codes, il faut avoir un à priori sur les processus gaussiens, la loi qu'ils suivent, tout comme sur les paramètres des lois gaussiennes. Ensuite, il faut avoir une fonction python qui prend en entrée ces champs, et qui renvoie un ensemble connu de resultas. \n"
   ]
  },
  {
   "cell_type": "code",
   "execution_count": 20,
   "metadata": {},
   "outputs": [],
   "source": [
    "try:\n",
    "    import anastruct, openturns, numba, joblib\n",
    "except:\n",
    "    import os\n",
    "    if os.sys.platform == 'linux' :\n",
    "        file_path = 'sensitivityEnv.yml'\n",
    "        os.system('conda env create -f'+file_path)\n",
    "        # to have the right modules installed\n",
    "        print('now activate the environment and restart jupyter with other kernel')\n",
    "    else :\n",
    "        print('Do it alone')"
   ]
  },
  {
   "cell_type": "code",
   "execution_count": 21,
   "metadata": {},
   "outputs": [],
   "source": [
    "# Voici les deux scripts destinés à gérer l'analyse de sensibilité sur les champs stochastiques\n",
    "import NdGaussianProcessSensitivity as ngps\n",
    "import NdGaussianProcessConstructor as ngpc\n",
    "# Classes utilitaires\n",
    "import numpy                        as np\n",
    "import openturns                    as ot\n",
    "import matplotlib.pyplot            as plt\n",
    "from   importlib                import reload \n",
    "\n",
    "# on importe aussi les fonctions à étudier\n",
    "import RandomBeamGenerationClass    as rbgc"
   ]
  },
  {
   "cell_type": "markdown",
   "metadata": {},
   "source": [
    "D'abord, nous définisson l'ensemble de nos variables d'entrée, tout comme les variables de sortie :\n",
    "- L'on va définir un par un tout les processus et variables aléatoires utilisées dans notre model. Bien sûr cela implique d'avoir un à-priori sur le comportement de ces différentes lois probabilistes. \n",
    "- Néanmoins, comme nous en sommes à des codes d'essai, il serait assez trivial de rajouter la prossiblité de récuperer l'approximation d'un champ inconnu avec l'approcimation de Karhunen - Loeve, en présence d'un grand nombre de mesures.\n",
    "- La définition des éléments sur lesquels est construit le champ stochastique est un peu différent de la manière interne à openturns. En effet, s'étant placés directement dans un cadre de poutre en 'éléments finis, ou l'on a N+1 noeuds (N étant le nombre de poutres), il faut savoir si N est le nombre de mailles ou le nombre de noeuds. Dans le choix a été fait ici de définir la taille du maillage (grid_shape) de la manière suivante :\n",
    "> grid_shape = [[position_X0, longeur_totaleX, nombre_mailles], [position_Y0, longeur_totaleY, nombre_mailles], ..]\n",
    " "
   ]
  },
  {
   "cell_type": "code",
   "execution_count": 22,
   "metadata": {},
   "outputs": [
    {
     "name": "stdout",
     "output_type": "stream",
     "text": [
      "trend function args:  ['x']  trend function:  210000 \n",
      "\n",
      "Please be aware that the number of elements in the argument list has to be the same as the dimension of the process:  1\n",
      "trend function args:  ['x']  trend function:  10 \n",
      "\n",
      "Please be aware that the number of elements in the argument list has to be the same as the dimension of the process:  1\n"
     ]
    }
   ],
   "source": [
    "# process governing the young modulus for each element      (MPa)\n",
    "process_E = ngpc.NdGaussianProcessConstructor(dimension=1,\n",
    "                                              grid_shape=[[0,1000,100],],\n",
    "                                              covariance_model={'NameModel':'MaternModel',\n",
    "                                                                'amplitude':50000.,\n",
    "                                                                'scale':300,\n",
    "                                                                'nu':13/3},\n",
    "                                              trend_arguments=['x'],trend_function=210000)\n",
    "process_E.setName('E_')\n",
    "\n",
    "\n",
    "# process governing the diameter for each element          (mm)\n",
    "process_D = ngpc.NdGaussianProcessConstructor(dimension=1,\n",
    "                                              grid_shape=[[0,1000,100],],\n",
    "                                              covariance_model={'NameModel':'MaternModel',\n",
    "                                                                'amplitude':.3,\n",
    "                                                                'scale':250,\n",
    "                                                                'nu':7.4/3},\n",
    "                                              trend_arguments=['x'],trend_function=10)\n",
    "process_D.setName('D_')\n",
    "\n",
    "\n",
    "# random variable for the density of the material (kg/m³)\n",
    "rho         = 7850.\n",
    "sigma       = 750\n",
    "nameD       = 'Rho'\n",
    "RV_Rho = ngpc.NormalDistribution(mu = rho, sigma = sigma, name = nameD)\n",
    "\n",
    "\n",
    "# random variable for the position of the force   (mm) \n",
    "middle       = 500\n",
    "sigma_f      = 50\n",
    "namePos     = 'FP'\n",
    "RV_Fpos = ngpc.NormalDistribution(mu = middle, sigma = sigma_f, name = namePos)\n",
    "\n",
    "\n",
    "# random variable for the norm of the force    (N)\n",
    "muForce       = 100\n",
    "# we go from sigma = 15 to sigma = 1.5, as the influence is too important\n",
    "sigma_Fnor    = 5.5\n",
    "nameNor       = 'FN'\n",
    "RV_Fnorm = ngpc.NormalDistribution(mu = muForce, sigma = sigma_Fnor, name = nameNor)"
   ]
  },
  {
   "cell_type": "markdown",
   "metadata": {},
   "source": [
    "Il est important de noter que les processus et variables aléatoires doivent être définies à partir du module \n",
    "NdGaussianProcessConstructor, qui contient les classes suivantes : \n",
    "###### Classe pour construire un champ stochastique : \n",
    "> NdGaussianProcessConstructor.NdGaussianProcessConstructor() \n",
    "###### Classe pour construire une variables aléatoire  : \n",
    "> NdGaussianProcessConstructor.NormalDistribution() ## Classe openturns.Normal() suchargée\n",
    "###### Classe pour construire un vecteur de variables aléatoires normales : \n",
    "> NdGaussianProcessConstructor.RandomNormalVector() ## Classe openturns.PythonRandomVector surchargée. Cette dernière est utilisée en interne par NdGaussianProcessConstructor.\n",
    "\n",
    "**Finalement, l'autre particularité du NdGaussianProcessConstructor, est d'utiliser un objet _numpy.memmap_ modifiée, qui enregistre les échantillons de processus gaussiens sous forme de fichier temporaire dans le directoire d'utilisation des codes et les éfface en sortant du code**\n",
    "\n",
    "L'on définit ensuite les variables de sortie. Il faut connaître l'ordre dans lequel la fonction renvoie ses resultats connaitre leur nom comme leur dimension. \n",
    "    "
   ]
  },
  {
   "cell_type": "code",
   "execution_count": 23,
   "metadata": {},
   "outputs": [],
   "source": [
    "from importlib import reload\n",
    "reload(ngps)\n",
    "outputVariables = {'out1' :\n",
    "                   {\n",
    "                         'name'     : 'VonMisesStress',\n",
    "                         'position' : 0,\n",
    "                         'shape'    : (102,)  \n",
    "                    },\n",
    "                   'out2' :\n",
    "                   {\n",
    "                        'name'      : 'maxDeflection',\n",
    "                        'position'  : 1,\n",
    "                        'shape'     : (1,)\n",
    "                   }\n",
    "                  }\n",
    "#Pour utiliser notre fonction, un wrapper a été spécialement écrit pour faciliter l'accès aux fonctions mais\n",
    "#ce choix est entièrement dépendant de la manière dont a été définie la fonction sur laquelle vous travaillez.\n",
    "functionWrapper = rbgc.sampleAndSoloFunctionWrapper(process_E, process_D, RV_Rho, RV_Fpos, RV_Fnorm)\n"
   ]
  },
  {
   "cell_type": "markdown",
   "metadata": {},
   "source": [
    "###### Ensuite, on crée une instance pour l'analyse de sensibilité.\n",
    "Il faut donner en entrée une liste contenant les procéssus et les variables aléatoires **dans l'ordre** dans lequel la fonction les recoit. \n",
    "\n",
    "*Pour cela il faut aussi connaître l'ordre des variables d'entrée de la fonction et leur nombre.*\n",
    "\n",
    "**Ces fonctions sont celles qui prennent entrée des champs aléatoires (vecteurs et matrices, de type *list ou numpy*) et variables aléatoire (scalaires (vecteurs 1D pour le multiprocessing)) et non pas les fonctions prennant en entrée les variables aléatoires issues de la décomposition de la Karhunen Loeve, qui elles sont construites en interne dans la classe**"
   ]
  },
  {
   "cell_type": "code",
   "execution_count": 24,
   "metadata": {
    "scrolled": true
   },
   "outputs": [
    {
     "name": "stdout",
     "output_type": "stream",
     "text": [
      "Input Variables are (without Karhunen Loeve Decomposition) :\n",
      " ['E_', 'D_', 'Rho', 'FP', 'FN'] \n",
      "\n",
      "Output Variables are :\n",
      " ['VonMisesStress', 'maxDeflection'] \n",
      "\n",
      "trend function args:  ['x']  trend function:  210000 \n",
      "\n",
      "Please be aware that the number of elements in the argument list has to be the same as the dimension of the process:  1\n",
      "trend function args:  ['x']  trend function:  10 \n",
      "\n",
      "Please be aware that the number of elements in the argument list has to be the same as the dimension of the process:  1\n"
     ]
    }
   ],
   "source": [
    "\n",
    "inputVarList = [process_E, process_D, RV_Rho, RV_Fpos, RV_Fnorm]\n",
    "# We also the need the two functions of the model (one for samples, the other for single evaluations)\n",
    "# In our case, as our model is defined as a class, we have to first create the model, \n",
    "# but it also could just be just two functions taking as an input the fields and RVs\n",
    "soloFunction   = functionWrapper.randomBeamFunctionSolo\n",
    "sampleFunction = functionWrapper.randomBeamFunctionSample\n",
    "##\n",
    "size           = 2000 ## Number of samples for our sobol indicies experiment (kept low here to make things faster)\n",
    "##\n",
    "reload(ngps)\n",
    "##\n",
    "processSensitivityAnalysis = ngps.NdGaussianProcessSensitivityAnalysis(inputVarList, \n",
    "                                                                       outputVariables,\n",
    "                                                                       sampleFunction,\n",
    "                                                                       soloFunction,\n",
    "                                                                       size)"
   ]
  },
  {
   "cell_type": "markdown",
   "metadata": {},
   "source": [
    "Voici une vue du dictionnaire intermédiaire qui est crée une fois les processus et variables aléatoires d'entrées définies :\n",
    "\n",
    "On voit que la position des processus dans les arguments de la fonction d'entrée est enregistrée dans le dictionnaire dans la clé *position* et viennent de la manière de laquelle on a mis les VA et Processus dans le vecteur inputVarList. \n"
   ]
  },
  {
   "cell_type": "markdown",
   "metadata": {},
   "source": [
    "###### Ensuite, grace à l'intermédiaire de la classe ot.SobolIndiciesExperiment, on génère les' variables aléatoires d'entrée "
   ]
  },
  {
   "cell_type": "code",
   "execution_count": 25,
   "metadata": {},
   "outputs": [
    {
     "name": "stdout",
     "output_type": "stream",
     "text": [
      "Generation types:\n",
      "1 : Random (default)\n",
      "2 : LHS\n",
      "3 : LowDiscrepancySequence\n",
      "4 : SimulatedAnnealingLHS\n",
      "Choosen generation method is Random (default)\n",
      "number of samples for sobol experiment =  14000 \n",
      "\n",
      "input design is:  [[ 5.96474590e+00 -2.96479526e-01  2.69703081e+00 ...  7.97029261e+03\n",
      "   4.90846320e+02  9.31031480e+01]\n",
      " [ 3.69821252e+00  1.18982020e+00  2.32498457e+00 ...  6.54986188e+03\n",
      "   4.39543926e+02  1.02913014e+02]\n",
      " [ 6.47616745e+00 -1.09660447e+00  2.14782100e+00 ...  9.52170108e+03\n",
      "   5.82045870e+02  9.99945414e+01]\n",
      " ...\n",
      " [ 3.60129471e+00  5.00496788e-01  2.84442617e+00 ...  7.70751689e+03\n",
      "   4.99657943e+02  1.00418966e+02]\n",
      " [ 4.39582934e+00 -4.70332249e-01 -3.39609541e-01 ...  7.63142437e+03\n",
      "   4.59026742e+02  9.15694806e+01]\n",
      " [ 4.30318066e+00  1.14346207e+00  2.93068616e+00 ...  9.56712320e+03\n",
      "   5.44963538e+02  1.03076588e+02]]\n"
     ]
    }
   ],
   "source": [
    "processSensitivityAnalysis.prepareSobolIndicesExperiment()\n"
   ]
  },
  {
   "cell_type": "code",
   "execution_count": 26,
   "metadata": {},
   "outputs": [],
   "source": [
    "########\n",
    "## This is to check if we manage to regenerate missing values in the case of np.nan values\n",
    "########\n",
    "########\n",
    "#reload(ngps)\n",
    "#inputDes = np.load('inputDesign.npy',allow_pickle=True)\n",
    "#inputDesNc = np.load('inputDesignNc.npy',allow_pickle=True)\n",
    "#processSensitivityAnalysis = ngps.NdGaussianProcessSensitivityAnalysis(inputVarList, \n",
    "#                                                                       outputVariables,\n",
    " #                                                                      sampleFunction,\n",
    "  #                                                                     soloFunction,\n",
    "   #                                                                    size)\n",
    "#processSensitivityAnalysis.inputDesign = inputDes\n",
    "#processSensitivityAnalysis._inputDesignNC = inputDesNc\n",
    "#processSensitivityAnalysis.wrappedFunction(np.array(processSensitivityAnalysis._inputDesignNC))"
   ]
  },
  {
   "cell_type": "markdown",
   "metadata": {},
   "source": [
    "###### Ensuite on récupère les sorties associées aux entrées génerées. \n",
    "L'idée du postprocessing est d'identifier si dans les sorties il y a des valeurs de type np.nan, et de refaire les experiences manquantes tant qu'il y a des np.nan de présents.\n",
    "\n",
    "**Ceci crée quelques problèmes : En effet, si le calcul numérique n'a pas pu aboutir avec une certaine réalisation des variables en entrée, est-ce que cela veut dire que cette réalisation est défaillante? Va-t-on l'inclure dans le cas du calcul de la défaillance ou de la sensibilité? Car si on l'inclut pas, il se peut qu'on oublie un nombre conséquent de modes défaillants. Solution : changer le modèle informatique et le rendre robuste à ces erreurs, ou faire une étude précise avec ces réalisation particulières.**\n",
    "\n",
    "\n",
    "La solution retenue pour génerer les experiences manquantes est d'itérer au dessus de chaque index de la sortie ou se trouvent les nans, de refaire une experience de sobol de taille 1 ( donc qui renverra d+2 valeurs, avec d la dimension de l'entrée), de générer les sorties correspondant aux entrées (recommencer si il s'y trouve un np.nan), et de remplacer les d+2 valeurs du inputDesign d'entrée avec celles que l'on vient de regénérer. "
   ]
  },
  {
   "cell_type": "code",
   "execution_count": 27,
   "metadata": {
    "scrolled": false
   },
   "outputs": [
    {
     "name": "stderr",
     "output_type": "stream",
     "text": [
      "[Parallel(n_jobs=-1)]: Using backend LokyBackend with 4 concurrent workers.\n",
      "[Parallel(n_jobs=-1)]: Done   5 tasks      | elapsed:   11.5s\n",
      "[Parallel(n_jobs=-1)]: Done  10 tasks      | elapsed:   12.0s\n",
      "[Parallel(n_jobs=-1)]: Done  17 tasks      | elapsed:   12.5s\n",
      "[Parallel(n_jobs=-1)]: Done  24 tasks      | elapsed:   12.9s\n",
      "[Parallel(n_jobs=-1)]: Done  33 tasks      | elapsed:   13.6s\n",
      "[Parallel(n_jobs=-1)]: Done  42 tasks      | elapsed:   14.1s\n",
      "[Parallel(n_jobs=-1)]: Done  53 tasks      | elapsed:   14.8s\n",
      "[Parallel(n_jobs=-1)]: Done  64 tasks      | elapsed:   15.5s\n",
      "[Parallel(n_jobs=-1)]: Done  77 tasks      | elapsed:   16.4s\n",
      "[Parallel(n_jobs=-1)]: Done  90 tasks      | elapsed:   17.3s\n",
      "[Parallel(n_jobs=-1)]: Done 105 tasks      | elapsed:   18.3s\n",
      "[Parallel(n_jobs=-1)]: Done 120 tasks      | elapsed:   19.2s\n",
      "[Parallel(n_jobs=-1)]: Done 137 tasks      | elapsed:   20.4s\n",
      "[Parallel(n_jobs=-1)]: Done 154 tasks      | elapsed:   21.5s\n",
      "[Parallel(n_jobs=-1)]: Done 173 tasks      | elapsed:   22.7s\n",
      "[Parallel(n_jobs=-1)]: Done 192 tasks      | elapsed:   23.8s\n",
      "[Parallel(n_jobs=-1)]: Done 213 tasks      | elapsed:   25.1s\n",
      "[Parallel(n_jobs=-1)]: Done 234 tasks      | elapsed:   26.4s\n",
      "[Parallel(n_jobs=-1)]: Done 257 tasks      | elapsed:   27.6s\n",
      "[Parallel(n_jobs=-1)]: Done 280 tasks      | elapsed:   28.9s\n",
      "[Parallel(n_jobs=-1)]: Done 305 tasks      | elapsed:   30.3s\n",
      "[Parallel(n_jobs=-1)]: Done 330 tasks      | elapsed:   31.7s\n",
      "[Parallel(n_jobs=-1)]: Done 357 tasks      | elapsed:   33.3s\n",
      "[Parallel(n_jobs=-1)]: Done 384 tasks      | elapsed:   35.0s\n",
      "[Parallel(n_jobs=-1)]: Done 413 tasks      | elapsed:   36.7s\n",
      "[Parallel(n_jobs=-1)]: Done 442 tasks      | elapsed:   38.5s\n",
      "[Parallel(n_jobs=-1)]: Done 473 tasks      | elapsed:   40.4s\n",
      "[Parallel(n_jobs=-1)]: Done 504 tasks      | elapsed:   42.4s\n",
      "[Parallel(n_jobs=-1)]: Done 537 tasks      | elapsed:   44.3s\n",
      "[Parallel(n_jobs=-1)]: Done 570 tasks      | elapsed:   46.3s\n",
      "[Parallel(n_jobs=-1)]: Done 605 tasks      | elapsed:   49.3s\n",
      "[Parallel(n_jobs=-1)]: Done 640 tasks      | elapsed:   52.2s\n",
      "[Parallel(n_jobs=-1)]: Done 677 tasks      | elapsed:   55.1s\n",
      "[Parallel(n_jobs=-1)]: Done 714 tasks      | elapsed:   58.0s\n",
      "[Parallel(n_jobs=-1)]: Done 753 tasks      | elapsed:  1.0min\n",
      "[Parallel(n_jobs=-1)]: Done 792 tasks      | elapsed:  1.0min\n",
      "[Parallel(n_jobs=-1)]: Done 833 tasks      | elapsed:  1.1min\n",
      "[Parallel(n_jobs=-1)]: Done 874 tasks      | elapsed:  1.1min\n",
      "[Parallel(n_jobs=-1)]: Done 917 tasks      | elapsed:  1.2min\n",
      "[Parallel(n_jobs=-1)]: Done 960 tasks      | elapsed:  1.2min\n",
      "[Parallel(n_jobs=-1)]: Done 1005 tasks      | elapsed:  1.3min\n",
      "[Parallel(n_jobs=-1)]: Done 1050 tasks      | elapsed:  1.3min\n",
      "[Parallel(n_jobs=-1)]: Done 1097 tasks      | elapsed:  1.3min\n",
      "[Parallel(n_jobs=-1)]: Done 1144 tasks      | elapsed:  1.4min\n",
      "[Parallel(n_jobs=-1)]: Done 1193 tasks      | elapsed:  1.4min\n",
      "[Parallel(n_jobs=-1)]: Done 1242 tasks      | elapsed:  1.5min\n",
      "[Parallel(n_jobs=-1)]: Done 1293 tasks      | elapsed:  1.5min\n",
      "[Parallel(n_jobs=-1)]: Done 1344 tasks      | elapsed:  1.6min\n",
      "[Parallel(n_jobs=-1)]: Done 1397 tasks      | elapsed:  1.6min\n",
      "[Parallel(n_jobs=-1)]: Done 1450 tasks      | elapsed:  1.7min\n",
      "[Parallel(n_jobs=-1)]: Done 1505 tasks      | elapsed:  1.8min\n",
      "[Parallel(n_jobs=-1)]: Done 1560 tasks      | elapsed:  1.8min\n",
      "[Parallel(n_jobs=-1)]: Done 1617 tasks      | elapsed:  1.9min\n",
      "[Parallel(n_jobs=-1)]: Done 1674 tasks      | elapsed:  1.9min\n",
      "[Parallel(n_jobs=-1)]: Done 1733 tasks      | elapsed:  2.0min\n",
      "[Parallel(n_jobs=-1)]: Done 1792 tasks      | elapsed:  2.0min\n",
      "[Parallel(n_jobs=-1)]: Done 1853 tasks      | elapsed:  2.1min\n",
      "[Parallel(n_jobs=-1)]: Done 1914 tasks      | elapsed:  2.2min\n",
      "[Parallel(n_jobs=-1)]: Done 1977 tasks      | elapsed:  2.2min\n",
      "[Parallel(n_jobs=-1)]: Done 2040 tasks      | elapsed:  2.3min\n",
      "[Parallel(n_jobs=-1)]: Done 2105 tasks      | elapsed:  2.3min\n",
      "[Parallel(n_jobs=-1)]: Done 2170 tasks      | elapsed:  2.4min\n",
      "[Parallel(n_jobs=-1)]: Done 2237 tasks      | elapsed:  2.5min\n",
      "[Parallel(n_jobs=-1)]: Done 2304 tasks      | elapsed:  2.5min\n",
      "[Parallel(n_jobs=-1)]: Done 2373 tasks      | elapsed:  2.6min\n",
      "[Parallel(n_jobs=-1)]: Done 2442 tasks      | elapsed:  2.7min\n",
      "[Parallel(n_jobs=-1)]: Done 2513 tasks      | elapsed:  2.7min\n",
      "[Parallel(n_jobs=-1)]: Done 2584 tasks      | elapsed:  2.8min\n",
      "[Parallel(n_jobs=-1)]: Done 2657 tasks      | elapsed:  2.9min\n",
      "[Parallel(n_jobs=-1)]: Done 2730 tasks      | elapsed:  2.9min\n",
      "[Parallel(n_jobs=-1)]: Done 2805 tasks      | elapsed:  3.0min\n",
      "[Parallel(n_jobs=-1)]: Done 2880 tasks      | elapsed:  3.1min\n",
      "[Parallel(n_jobs=-1)]: Done 2957 tasks      | elapsed:  3.2min\n",
      "[Parallel(n_jobs=-1)]: Done 3034 tasks      | elapsed:  3.2min\n",
      "[Parallel(n_jobs=-1)]: Done 3113 tasks      | elapsed:  3.3min\n",
      "[Parallel(n_jobs=-1)]: Done 3192 tasks      | elapsed:  3.4min\n",
      "[Parallel(n_jobs=-1)]: Done 3273 tasks      | elapsed:  3.5min\n",
      "[Parallel(n_jobs=-1)]: Done 3354 tasks      | elapsed:  3.5min\n",
      "[Parallel(n_jobs=-1)]: Done 3437 tasks      | elapsed:  3.6min\n",
      "[Parallel(n_jobs=-1)]: Done 3520 tasks      | elapsed:  3.7min\n",
      "[Parallel(n_jobs=-1)]: Done 3605 tasks      | elapsed:  3.8min\n",
      "[Parallel(n_jobs=-1)]: Done 3690 tasks      | elapsed:  3.9min\n",
      "[Parallel(n_jobs=-1)]: Done 3777 tasks      | elapsed:  4.0min\n",
      "[Parallel(n_jobs=-1)]: Done 3864 tasks      | elapsed:  4.0min\n",
      "[Parallel(n_jobs=-1)]: Done 3953 tasks      | elapsed:  4.1min\n",
      "[Parallel(n_jobs=-1)]: Done 4042 tasks      | elapsed:  4.2min\n",
      "[Parallel(n_jobs=-1)]: Done 4133 tasks      | elapsed:  4.3min\n",
      "[Parallel(n_jobs=-1)]: Done 4224 tasks      | elapsed:  4.4min\n",
      "[Parallel(n_jobs=-1)]: Done 4317 tasks      | elapsed:  4.5min\n",
      "[Parallel(n_jobs=-1)]: Done 4410 tasks      | elapsed:  4.6min\n",
      "[Parallel(n_jobs=-1)]: Done 4505 tasks      | elapsed:  4.7min\n",
      "[Parallel(n_jobs=-1)]: Done 4600 tasks      | elapsed:  4.8min\n",
      "[Parallel(n_jobs=-1)]: Done 4697 tasks      | elapsed:  4.9min\n",
      "[Parallel(n_jobs=-1)]: Done 4794 tasks      | elapsed:  5.0min\n",
      "[Parallel(n_jobs=-1)]: Done 4893 tasks      | elapsed:  5.1min\n",
      "[Parallel(n_jobs=-1)]: Done 4992 tasks      | elapsed:  5.2min\n",
      "[Parallel(n_jobs=-1)]: Done 5093 tasks      | elapsed:  5.3min\n",
      "[Parallel(n_jobs=-1)]: Done 5194 tasks      | elapsed:  5.3min\n",
      "[Parallel(n_jobs=-1)]: Done 5297 tasks      | elapsed:  5.4min\n",
      "[Parallel(n_jobs=-1)]: Done 5400 tasks      | elapsed:  5.5min\n",
      "[Parallel(n_jobs=-1)]: Done 5505 tasks      | elapsed:  5.6min\n",
      "[Parallel(n_jobs=-1)]: Done 5610 tasks      | elapsed:  5.7min\n",
      "[Parallel(n_jobs=-1)]: Done 5717 tasks      | elapsed:  5.8min\n",
      "[Parallel(n_jobs=-1)]: Done 5824 tasks      | elapsed:  6.0min\n",
      "[Parallel(n_jobs=-1)]: Done 5933 tasks      | elapsed:  6.1min\n",
      "[Parallel(n_jobs=-1)]: Done 6042 tasks      | elapsed:  6.2min\n",
      "[Parallel(n_jobs=-1)]: Done 6153 tasks      | elapsed:  6.3min\n",
      "[Parallel(n_jobs=-1)]: Done 6264 tasks      | elapsed:  6.4min\n",
      "[Parallel(n_jobs=-1)]: Done 6377 tasks      | elapsed:  6.5min\n",
      "[Parallel(n_jobs=-1)]: Done 6490 tasks      | elapsed:  6.7min\n",
      "[Parallel(n_jobs=-1)]: Done 6605 tasks      | elapsed:  6.8min\n",
      "[Parallel(n_jobs=-1)]: Done 6720 tasks      | elapsed:  6.9min\n",
      "[Parallel(n_jobs=-1)]: Done 6837 tasks      | elapsed:  7.0min\n",
      "[Parallel(n_jobs=-1)]: Done 6954 tasks      | elapsed:  7.1min\n",
      "[Parallel(n_jobs=-1)]: Done 7073 tasks      | elapsed:  7.3min\n",
      "[Parallel(n_jobs=-1)]: Done 7192 tasks      | elapsed:  7.4min\n",
      "[Parallel(n_jobs=-1)]: Done 7313 tasks      | elapsed:  7.5min\n",
      "[Parallel(n_jobs=-1)]: Done 7434 tasks      | elapsed:  7.6min\n",
      "[Parallel(n_jobs=-1)]: Done 7557 tasks      | elapsed:  7.8min\n",
      "[Parallel(n_jobs=-1)]: Done 7680 tasks      | elapsed:  7.9min\n",
      "[Parallel(n_jobs=-1)]: Done 7805 tasks      | elapsed:  8.0min\n",
      "[Parallel(n_jobs=-1)]: Done 7930 tasks      | elapsed:  8.1min\n",
      "[Parallel(n_jobs=-1)]: Done 8057 tasks      | elapsed:  8.3min\n",
      "[Parallel(n_jobs=-1)]: Done 8184 tasks      | elapsed:  8.4min\n",
      "[Parallel(n_jobs=-1)]: Done 8313 tasks      | elapsed:  8.5min\n",
      "[Parallel(n_jobs=-1)]: Done 8442 tasks      | elapsed:  8.7min\n",
      "[Parallel(n_jobs=-1)]: Done 8573 tasks      | elapsed:  8.8min\n",
      "[Parallel(n_jobs=-1)]: Done 8704 tasks      | elapsed:  8.9min\n",
      "[Parallel(n_jobs=-1)]: Done 8837 tasks      | elapsed:  9.1min\n",
      "[Parallel(n_jobs=-1)]: Done 8970 tasks      | elapsed:  9.2min\n"
     ]
    },
    {
     "name": "stderr",
     "output_type": "stream",
     "text": [
      "[Parallel(n_jobs=-1)]: Done 9105 tasks      | elapsed:  9.3min\n",
      "[Parallel(n_jobs=-1)]: Done 9240 tasks      | elapsed:  9.5min\n",
      "[Parallel(n_jobs=-1)]: Done 9377 tasks      | elapsed:  9.6min\n",
      "[Parallel(n_jobs=-1)]: Done 9514 tasks      | elapsed:  9.7min\n",
      "[Parallel(n_jobs=-1)]: Done 9653 tasks      | elapsed:  9.9min\n",
      "[Parallel(n_jobs=-1)]: Done 9792 tasks      | elapsed: 10.0min\n",
      "[Parallel(n_jobs=-1)]: Done 9933 tasks      | elapsed: 10.2min\n",
      "[Parallel(n_jobs=-1)]: Done 10074 tasks      | elapsed: 10.3min\n",
      "[Parallel(n_jobs=-1)]: Done 10217 tasks      | elapsed: 10.4min\n",
      "[Parallel(n_jobs=-1)]: Done 10360 tasks      | elapsed: 10.6min\n",
      "[Parallel(n_jobs=-1)]: Done 10505 tasks      | elapsed: 10.7min\n",
      "[Parallel(n_jobs=-1)]: Done 10650 tasks      | elapsed: 10.9min\n",
      "[Parallel(n_jobs=-1)]: Done 10797 tasks      | elapsed: 11.0min\n",
      "[Parallel(n_jobs=-1)]: Done 10944 tasks      | elapsed: 11.2min\n",
      "[Parallel(n_jobs=-1)]: Done 11093 tasks      | elapsed: 11.3min\n",
      "[Parallel(n_jobs=-1)]: Done 11242 tasks      | elapsed: 11.5min\n",
      "[Parallel(n_jobs=-1)]: Done 11393 tasks      | elapsed: 11.6min\n",
      "[Parallel(n_jobs=-1)]: Done 11544 tasks      | elapsed: 11.8min\n",
      "[Parallel(n_jobs=-1)]: Done 11697 tasks      | elapsed: 11.9min\n",
      "[Parallel(n_jobs=-1)]: Done 11850 tasks      | elapsed: 12.1min\n",
      "[Parallel(n_jobs=-1)]: Done 12005 tasks      | elapsed: 12.3min\n",
      "[Parallel(n_jobs=-1)]: Done 12160 tasks      | elapsed: 12.4min\n",
      "[Parallel(n_jobs=-1)]: Done 12317 tasks      | elapsed: 12.6min\n",
      "[Parallel(n_jobs=-1)]: Done 12474 tasks      | elapsed: 12.7min\n",
      "[Parallel(n_jobs=-1)]: Done 12633 tasks      | elapsed: 12.9min\n",
      "[Parallel(n_jobs=-1)]: Done 12792 tasks      | elapsed: 13.1min\n",
      "[Parallel(n_jobs=-1)]: Done 12953 tasks      | elapsed: 13.2min\n",
      "[Parallel(n_jobs=-1)]: Done 13114 tasks      | elapsed: 13.4min\n",
      "[Parallel(n_jobs=-1)]: Done 13277 tasks      | elapsed: 13.6min\n",
      "[Parallel(n_jobs=-1)]: Done 13440 tasks      | elapsed: 13.7min\n",
      "[Parallel(n_jobs=-1)]: Done 13605 tasks      | elapsed: 13.9min\n",
      "[Parallel(n_jobs=-1)]: Done 13770 tasks      | elapsed: 14.1min\n",
      "[Parallel(n_jobs=-1)]: Done 13937 tasks      | elapsed: 14.2min\n",
      "[Parallel(n_jobs=-1)]: Done 14000 out of 14000 | elapsed: 14.3min finished\n"
     ]
    },
    {
     "name": "stdout",
     "output_type": "stream",
     "text": [
      "shape deflection:  (14000, 103)  should be [N,10X] something\n",
      "deflection std deviation  nan\n",
      "timed  858.806364775  s for function \" randomBeamFunctionSample \"\n",
      "Converting list of outputs into matrix: \n",
      "Element  1  has shape  (14000, 102)\n",
      "Element  2  has shape  (14000,)\n",
      "Final shape matrix:  (14000, 103)\n",
      "Columns where nan :  [  723   852  1659  2447  6723  6852  6967  7659  8723  8852  9659 10013\n",
      " 10723 12723 12852 13659] \n",
      "\n",
      "There were  16  errors (numpy.nan) while processing, trying to regenerate missing outputs \n",
      "\n",
      "index to change:  [  723  2723  4723  6723  8723 10723 12723]\n",
      "Generation types:\n",
      "1 : Random (default)\n",
      "2 : LHS\n",
      "3 : LowDiscrepancySequence\n",
      "4 : SimulatedAnnealingLHS\n",
      "Choosen generation method is Random (default)\n"
     ]
    },
    {
     "name": "stderr",
     "output_type": "stream",
     "text": [
      "[Parallel(n_jobs=-1)]: Using backend LokyBackend with 4 concurrent workers.\n",
      "[Parallel(n_jobs=-1)]: Done   1 tasks      | elapsed:    0.2s\n",
      "[Parallel(n_jobs=-1)]: Done   2 out of   7 | elapsed:    0.4s remaining:    0.9s\n",
      "[Parallel(n_jobs=-1)]: Done   3 out of   7 | elapsed:    0.4s remaining:    0.5s\n",
      "[Parallel(n_jobs=-1)]: Done   4 out of   7 | elapsed:    0.5s remaining:    0.3s\n",
      "[Parallel(n_jobs=-1)]: Done   5 out of   7 | elapsed:    0.6s remaining:    0.2s\n",
      "[Parallel(n_jobs=-1)]: Done   7 out of   7 | elapsed:    0.7s remaining:    0.0s\n",
      "[Parallel(n_jobs=-1)]: Done   7 out of   7 | elapsed:    0.7s finished\n",
      "[Parallel(n_jobs=-1)]: Using backend LokyBackend with 4 concurrent workers.\n"
     ]
    },
    {
     "name": "stdout",
     "output_type": "stream",
     "text": [
      "shape deflection:  (7, 103)  should be [N,10X] something\n",
      "deflection std deviation  1.919908417050729\n",
      "timed  0.702326775  s for function \" randomBeamFunctionSample \"\n",
      "Converting list of outputs into matrix: \n",
      "Element  1  has shape  (7, 102)\n",
      "Element  2  has shape  (7,)\n",
      "Final shape matrix:  (7, 103)\n",
      "index to change:  [  852  2852  4852  6852  8852 10852 12852]\n",
      "Generation types:\n",
      "1 : Random (default)\n",
      "2 : LHS\n",
      "3 : LowDiscrepancySequence\n",
      "4 : SimulatedAnnealingLHS\n",
      "Choosen generation method is Random (default)\n"
     ]
    },
    {
     "name": "stderr",
     "output_type": "stream",
     "text": [
      "[Parallel(n_jobs=-1)]: Done   1 tasks      | elapsed:    0.3s\n",
      "[Parallel(n_jobs=-1)]: Done   2 out of   7 | elapsed:    0.4s remaining:    0.9s\n",
      "[Parallel(n_jobs=-1)]: Done   3 out of   7 | elapsed:    0.4s remaining:    0.5s\n",
      "[Parallel(n_jobs=-1)]: Done   4 out of   7 | elapsed:    0.4s remaining:    0.3s\n",
      "[Parallel(n_jobs=-1)]: Done   5 out of   7 | elapsed:    0.6s remaining:    0.2s\n",
      "[Parallel(n_jobs=-1)]: Done   7 out of   7 | elapsed:    0.7s remaining:    0.0s\n",
      "[Parallel(n_jobs=-1)]: Done   7 out of   7 | elapsed:    0.7s finished\n",
      "[Parallel(n_jobs=-1)]: Using backend LokyBackend with 4 concurrent workers.\n"
     ]
    },
    {
     "name": "stdout",
     "output_type": "stream",
     "text": [
      "shape deflection:  (7, 103)  should be [N,10X] something\n",
      "deflection std deviation  4.530186260748245\n",
      "timed  0.694295645  s for function \" randomBeamFunctionSample \"\n",
      "Converting list of outputs into matrix: \n",
      "Element  1  has shape  (7, 102)\n",
      "Element  2  has shape  (7,)\n",
      "Final shape matrix:  (7, 103)\n",
      "index to change:  [ 1659  3659  5659  7659  9659 11659 13659]\n",
      "Generation types:\n",
      "1 : Random (default)\n",
      "2 : LHS\n",
      "3 : LowDiscrepancySequence\n",
      "4 : SimulatedAnnealingLHS\n",
      "Choosen generation method is Random (default)\n"
     ]
    },
    {
     "name": "stderr",
     "output_type": "stream",
     "text": [
      "[Parallel(n_jobs=-1)]: Done   1 tasks      | elapsed:    0.4s\n",
      "[Parallel(n_jobs=-1)]: Done   2 out of   7 | elapsed:    0.4s remaining:    1.1s\n",
      "[Parallel(n_jobs=-1)]: Done   3 out of   7 | elapsed:    0.5s remaining:    0.7s\n",
      "[Parallel(n_jobs=-1)]: Done   4 out of   7 | elapsed:    0.6s remaining:    0.4s\n",
      "[Parallel(n_jobs=-1)]: Done   5 out of   7 | elapsed:    0.8s remaining:    0.3s\n",
      "[Parallel(n_jobs=-1)]: Done   7 out of   7 | elapsed:    0.8s remaining:    0.0s\n",
      "[Parallel(n_jobs=-1)]: Done   7 out of   7 | elapsed:    0.8s finished\n",
      "[Parallel(n_jobs=-1)]: Using backend LokyBackend with 4 concurrent workers.\n"
     ]
    },
    {
     "name": "stdout",
     "output_type": "stream",
     "text": [
      "shape deflection:  (7, 103)  should be [N,10X] something\n",
      "deflection std deviation  2.9655830390399456\n",
      "timed  0.774004459  s for function \" randomBeamFunctionSample \"\n",
      "Converting list of outputs into matrix: \n",
      "Element  1  has shape  (7, 102)\n",
      "Element  2  has shape  (7,)\n",
      "Final shape matrix:  (7, 103)\n",
      "index to change:  [  447  2447  4447  6447  8447 10447 12447]\n",
      "Generation types:\n",
      "1 : Random (default)\n",
      "2 : LHS\n",
      "3 : LowDiscrepancySequence\n",
      "4 : SimulatedAnnealingLHS\n",
      "Choosen generation method is Random (default)\n"
     ]
    },
    {
     "name": "stderr",
     "output_type": "stream",
     "text": [
      "[Parallel(n_jobs=-1)]: Done   1 tasks      | elapsed:    0.2s\n",
      "[Parallel(n_jobs=-1)]: Done   2 out of   7 | elapsed:    0.3s remaining:    0.7s\n",
      "[Parallel(n_jobs=-1)]: Done   3 out of   7 | elapsed:    0.3s remaining:    0.4s\n",
      "[Parallel(n_jobs=-1)]: Done   4 out of   7 | elapsed:    0.4s remaining:    0.3s\n",
      "[Parallel(n_jobs=-1)]: Done   5 out of   7 | elapsed:    0.5s remaining:    0.2s\n",
      "[Parallel(n_jobs=-1)]: Done   7 out of   7 | elapsed:    0.5s remaining:    0.0s\n",
      "[Parallel(n_jobs=-1)]: Done   7 out of   7 | elapsed:    0.5s finished\n",
      "[Parallel(n_jobs=-1)]: Using backend LokyBackend with 4 concurrent workers.\n"
     ]
    },
    {
     "name": "stdout",
     "output_type": "stream",
     "text": [
      "shape deflection:  (7, 103)  should be [N,10X] something\n",
      "deflection std deviation  3.1371869976603683\n",
      "timed  0.544472694  s for function \" randomBeamFunctionSample \"\n",
      "Converting list of outputs into matrix: \n",
      "Element  1  has shape  (7, 102)\n",
      "Element  2  has shape  (7,)\n",
      "Final shape matrix:  (7, 103)\n",
      "index to change:  [  723  2723  4723  6723  8723 10723 12723]\n",
      "Generation types:\n",
      "1 : Random (default)\n",
      "2 : LHS\n",
      "3 : LowDiscrepancySequence\n",
      "4 : SimulatedAnnealingLHS\n",
      "Choosen generation method is Random (default)\n"
     ]
    },
    {
     "name": "stderr",
     "output_type": "stream",
     "text": [
      "[Parallel(n_jobs=-1)]: Done   1 tasks      | elapsed:    0.3s\n",
      "[Parallel(n_jobs=-1)]: Done   2 out of   7 | elapsed:    0.3s remaining:    0.7s\n",
      "[Parallel(n_jobs=-1)]: Done   3 out of   7 | elapsed:    0.3s remaining:    0.4s\n",
      "[Parallel(n_jobs=-1)]: Done   4 out of   7 | elapsed:    0.3s remaining:    0.2s\n",
      "[Parallel(n_jobs=-1)]: Done   5 out of   7 | elapsed:    0.5s remaining:    0.2s\n",
      "[Parallel(n_jobs=-1)]: Done   7 out of   7 | elapsed:    0.5s remaining:    0.0s\n",
      "[Parallel(n_jobs=-1)]: Done   7 out of   7 | elapsed:    0.5s finished\n",
      "[Parallel(n_jobs=-1)]: Using backend LokyBackend with 4 concurrent workers.\n"
     ]
    },
    {
     "name": "stdout",
     "output_type": "stream",
     "text": [
      "shape deflection:  (7, 103)  should be [N,10X] something\n",
      "deflection std deviation  3.536896095128886\n",
      "timed  0.538658857  s for function \" randomBeamFunctionSample \"\n",
      "Converting list of outputs into matrix: \n",
      "Element  1  has shape  (7, 102)\n",
      "Element  2  has shape  (7,)\n",
      "Final shape matrix:  (7, 103)\n",
      "index to change:  [  852  2852  4852  6852  8852 10852 12852]\n",
      "Generation types:\n",
      "1 : Random (default)\n",
      "2 : LHS\n",
      "3 : LowDiscrepancySequence\n",
      "4 : SimulatedAnnealingLHS\n",
      "Choosen generation method is Random (default)\n"
     ]
    },
    {
     "name": "stderr",
     "output_type": "stream",
     "text": [
      "[Parallel(n_jobs=-1)]: Done   1 tasks      | elapsed:    0.2s\n",
      "[Parallel(n_jobs=-1)]: Done   2 out of   7 | elapsed:    0.3s remaining:    0.7s\n",
      "[Parallel(n_jobs=-1)]: Done   3 out of   7 | elapsed:    0.3s remaining:    0.4s\n",
      "[Parallel(n_jobs=-1)]: Done   4 out of   7 | elapsed:    0.4s remaining:    0.3s\n",
      "[Parallel(n_jobs=-1)]: Done   5 out of   7 | elapsed:    0.5s remaining:    0.2s\n",
      "[Parallel(n_jobs=-1)]: Done   7 out of   7 | elapsed:    0.5s remaining:    0.0s\n",
      "[Parallel(n_jobs=-1)]: Done   7 out of   7 | elapsed:    0.5s finished\n",
      "[Parallel(n_jobs=-1)]: Using backend LokyBackend with 4 concurrent workers.\n"
     ]
    },
    {
     "name": "stdout",
     "output_type": "stream",
     "text": [
      "shape deflection:  (7, 103)  should be [N,10X] something\n",
      "deflection std deviation  2.5533072393952483\n",
      "timed  0.551330566  s for function \" randomBeamFunctionSample \"\n",
      "Converting list of outputs into matrix: \n",
      "Element  1  has shape  (7, 102)\n",
      "Element  2  has shape  (7,)\n",
      "Final shape matrix:  (7, 103)\n",
      "index to change:  [  967  2967  4967  6967  8967 10967 12967]\n",
      "Generation types:\n",
      "1 : Random (default)\n",
      "2 : LHS\n",
      "3 : LowDiscrepancySequence\n",
      "4 : SimulatedAnnealingLHS\n",
      "Choosen generation method is Random (default)\n"
     ]
    },
    {
     "name": "stderr",
     "output_type": "stream",
     "text": [
      "[Parallel(n_jobs=-1)]: Done   1 tasks      | elapsed:    0.3s\n",
      "[Parallel(n_jobs=-1)]: Done   2 out of   7 | elapsed:    0.3s remaining:    0.8s\n",
      "[Parallel(n_jobs=-1)]: Done   3 out of   7 | elapsed:    0.3s remaining:    0.5s\n",
      "[Parallel(n_jobs=-1)]: Done   4 out of   7 | elapsed:    0.4s remaining:    0.3s\n",
      "[Parallel(n_jobs=-1)]: Done   5 out of   7 | elapsed:    0.5s remaining:    0.2s\n",
      "[Parallel(n_jobs=-1)]: Done   7 out of   7 | elapsed:    0.6s remaining:    0.0s\n",
      "[Parallel(n_jobs=-1)]: Done   7 out of   7 | elapsed:    0.6s finished\n",
      "[Parallel(n_jobs=-1)]: Using backend LokyBackend with 4 concurrent workers.\n"
     ]
    },
    {
     "name": "stdout",
     "output_type": "stream",
     "text": [
      "shape deflection:  (7, 103)  should be [N,10X] something\n",
      "deflection std deviation  1.8024609098715956\n",
      "timed  0.566306353  s for function \" randomBeamFunctionSample \"\n",
      "Converting list of outputs into matrix: \n",
      "Element  1  has shape  (7, 102)\n",
      "Element  2  has shape  (7,)\n",
      "Final shape matrix:  (7, 103)\n",
      "index to change:  [ 1659  3659  5659  7659  9659 11659 13659]\n",
      "Generation types:\n",
      "1 : Random (default)\n",
      "2 : LHS\n",
      "3 : LowDiscrepancySequence\n",
      "4 : SimulatedAnnealingLHS\n",
      "Choosen generation method is Random (default)\n"
     ]
    },
    {
     "name": "stderr",
     "output_type": "stream",
     "text": [
      "[Parallel(n_jobs=-1)]: Done   1 tasks      | elapsed:    0.2s\n",
      "[Parallel(n_jobs=-1)]: Done   2 out of   7 | elapsed:    0.3s remaining:    0.8s\n",
      "[Parallel(n_jobs=-1)]: Done   3 out of   7 | elapsed:    0.3s remaining:    0.4s\n",
      "[Parallel(n_jobs=-1)]: Done   4 out of   7 | elapsed:    0.4s remaining:    0.3s\n",
      "[Parallel(n_jobs=-1)]: Done   5 out of   7 | elapsed:    0.5s remaining:    0.2s\n",
      "[Parallel(n_jobs=-1)]: Done   7 out of   7 | elapsed:    0.5s remaining:    0.0s\n",
      "[Parallel(n_jobs=-1)]: Done   7 out of   7 | elapsed:    0.5s finished\n",
      "[Parallel(n_jobs=-1)]: Using backend LokyBackend with 4 concurrent workers.\n"
     ]
    },
    {
     "name": "stdout",
     "output_type": "stream",
     "text": [
      "shape deflection:  (7, 103)  should be [N,10X] something\n",
      "deflection std deviation  4.145305565492483\n",
      "timed  0.544557095  s for function \" randomBeamFunctionSample \"\n",
      "Converting list of outputs into matrix: \n",
      "Element  1  has shape  (7, 102)\n",
      "Element  2  has shape  (7,)\n",
      "Final shape matrix:  (7, 103)\n",
      "index to change:  [  723  2723  4723  6723  8723 10723 12723]\n",
      "Generation types:\n",
      "1 : Random (default)\n",
      "2 : LHS\n",
      "3 : LowDiscrepancySequence\n",
      "4 : SimulatedAnnealingLHS\n",
      "Choosen generation method is Random (default)\n"
     ]
    },
    {
     "name": "stderr",
     "output_type": "stream",
     "text": [
      "[Parallel(n_jobs=-1)]: Done   1 tasks      | elapsed:    0.3s\n",
      "[Parallel(n_jobs=-1)]: Done   2 out of   7 | elapsed:    0.3s remaining:    0.8s\n",
      "[Parallel(n_jobs=-1)]: Done   3 out of   7 | elapsed:    0.3s remaining:    0.4s\n",
      "[Parallel(n_jobs=-1)]: Done   4 out of   7 | elapsed:    0.5s remaining:    0.3s\n",
      "[Parallel(n_jobs=-1)]: Done   5 out of   7 | elapsed:    0.5s remaining:    0.2s\n",
      "[Parallel(n_jobs=-1)]: Done   7 out of   7 | elapsed:    0.6s remaining:    0.0s\n",
      "[Parallel(n_jobs=-1)]: Done   7 out of   7 | elapsed:    0.6s finished\n",
      "[Parallel(n_jobs=-1)]: Using backend LokyBackend with 4 concurrent workers.\n"
     ]
    },
    {
     "name": "stdout",
     "output_type": "stream",
     "text": [
      "shape deflection:  (7, 103)  should be [N,10X] something\n",
      "deflection std deviation  1.0803931468402315\n",
      "timed  0.572692394  s for function \" randomBeamFunctionSample \"\n",
      "Converting list of outputs into matrix: \n",
      "Element  1  has shape  (7, 102)\n",
      "Element  2  has shape  (7,)\n",
      "Final shape matrix:  (7, 103)\n",
      "index to change:  [  852  2852  4852  6852  8852 10852 12852]\n",
      "Generation types:\n",
      "1 : Random (default)\n",
      "2 : LHS\n",
      "3 : LowDiscrepancySequence\n",
      "4 : SimulatedAnnealingLHS\n",
      "Choosen generation method is Random (default)\n"
     ]
    },
    {
     "name": "stderr",
     "output_type": "stream",
     "text": [
      "[Parallel(n_jobs=-1)]: Done   1 tasks      | elapsed:    0.3s\n",
      "[Parallel(n_jobs=-1)]: Done   2 out of   7 | elapsed:    0.4s remaining:    0.9s\n",
      "[Parallel(n_jobs=-1)]: Done   3 out of   7 | elapsed:    0.4s remaining:    0.5s\n",
      "[Parallel(n_jobs=-1)]: Done   4 out of   7 | elapsed:    0.4s remaining:    0.3s\n",
      "[Parallel(n_jobs=-1)]: Done   5 out of   7 | elapsed:    0.5s remaining:    0.2s\n",
      "[Parallel(n_jobs=-1)]: Done   7 out of   7 | elapsed:    0.6s remaining:    0.0s\n",
      "[Parallel(n_jobs=-1)]: Done   7 out of   7 | elapsed:    0.6s finished\n",
      "[Parallel(n_jobs=-1)]: Using backend LokyBackend with 4 concurrent workers.\n"
     ]
    },
    {
     "name": "stdout",
     "output_type": "stream",
     "text": [
      "shape deflection:  (7, 103)  should be [N,10X] something\n",
      "deflection std deviation  1.662316486122313\n",
      "timed  0.634818316  s for function \" randomBeamFunctionSample \"\n",
      "Converting list of outputs into matrix: \n",
      "Element  1  has shape  (7, 102)\n",
      "Element  2  has shape  (7,)\n",
      "Final shape matrix:  (7, 103)\n",
      "index to change:  [ 1659  3659  5659  7659  9659 11659 13659]\n",
      "Generation types:\n",
      "1 : Random (default)\n",
      "2 : LHS\n",
      "3 : LowDiscrepancySequence\n",
      "4 : SimulatedAnnealingLHS\n",
      "Choosen generation method is Random (default)\n"
     ]
    },
    {
     "name": "stderr",
     "output_type": "stream",
     "text": [
      "[Parallel(n_jobs=-1)]: Done   1 tasks      | elapsed:    0.3s\n",
      "[Parallel(n_jobs=-1)]: Done   2 out of   7 | elapsed:    0.3s remaining:    0.8s\n",
      "[Parallel(n_jobs=-1)]: Done   3 out of   7 | elapsed:    0.3s remaining:    0.4s\n",
      "[Parallel(n_jobs=-1)]: Done   4 out of   7 | elapsed:    0.4s remaining:    0.3s\n",
      "[Parallel(n_jobs=-1)]: Done   5 out of   7 | elapsed:    0.5s remaining:    0.2s\n",
      "[Parallel(n_jobs=-1)]: Done   7 out of   7 | elapsed:    0.5s remaining:    0.0s\n",
      "[Parallel(n_jobs=-1)]: Done   7 out of   7 | elapsed:    0.5s finished\n",
      "[Parallel(n_jobs=-1)]: Using backend LokyBackend with 4 concurrent workers.\n"
     ]
    },
    {
     "name": "stdout",
     "output_type": "stream",
     "text": [
      "shape deflection:  (7, 103)  should be [N,10X] something\n",
      "deflection std deviation  2.994397325643032\n",
      "timed  0.540710449  s for function \" randomBeamFunctionSample \"\n",
      "Converting list of outputs into matrix: \n",
      "Element  1  has shape  (7, 102)\n",
      "Element  2  has shape  (7,)\n",
      "Final shape matrix:  (7, 103)\n",
      "index to change:  [   13  2013  4013  6013  8013 10013 12013]\n",
      "Generation types:\n",
      "1 : Random (default)\n",
      "2 : LHS\n",
      "3 : LowDiscrepancySequence\n",
      "4 : SimulatedAnnealingLHS\n",
      "Choosen generation method is Random (default)\n"
     ]
    },
    {
     "name": "stderr",
     "output_type": "stream",
     "text": [
      "[Parallel(n_jobs=-1)]: Done   1 tasks      | elapsed:    0.3s\n",
      "[Parallel(n_jobs=-1)]: Done   2 out of   7 | elapsed:    0.3s remaining:    0.8s\n",
      "[Parallel(n_jobs=-1)]: Done   3 out of   7 | elapsed:    0.3s remaining:    0.5s\n",
      "[Parallel(n_jobs=-1)]: Done   4 out of   7 | elapsed:    0.4s remaining:    0.3s\n",
      "[Parallel(n_jobs=-1)]: Done   5 out of   7 | elapsed:    0.5s remaining:    0.2s\n",
      "[Parallel(n_jobs=-1)]: Done   7 out of   7 | elapsed:    0.6s remaining:    0.0s\n",
      "[Parallel(n_jobs=-1)]: Done   7 out of   7 | elapsed:    0.6s finished\n",
      "[Parallel(n_jobs=-1)]: Using backend LokyBackend with 4 concurrent workers.\n"
     ]
    },
    {
     "name": "stdout",
     "output_type": "stream",
     "text": [
      "shape deflection:  (7, 103)  should be [N,10X] something\n",
      "deflection std deviation  6.093436797554469\n",
      "timed  0.582911968  s for function \" randomBeamFunctionSample \"\n",
      "Converting list of outputs into matrix: \n",
      "Element  1  has shape  (7, 102)\n",
      "Element  2  has shape  (7,)\n",
      "Final shape matrix:  (7, 103)\n",
      "index to change:  [  723  2723  4723  6723  8723 10723 12723]\n",
      "Generation types:\n",
      "1 : Random (default)\n",
      "2 : LHS\n",
      "3 : LowDiscrepancySequence\n",
      "4 : SimulatedAnnealingLHS\n",
      "Choosen generation method is Random (default)\n"
     ]
    },
    {
     "name": "stderr",
     "output_type": "stream",
     "text": [
      "[Parallel(n_jobs=-1)]: Done   1 tasks      | elapsed:    0.2s\n",
      "[Parallel(n_jobs=-1)]: Done   2 out of   7 | elapsed:    0.3s remaining:    0.9s\n",
      "[Parallel(n_jobs=-1)]: Done   3 out of   7 | elapsed:    0.3s remaining:    0.5s\n",
      "[Parallel(n_jobs=-1)]: Done   4 out of   7 | elapsed:    0.4s remaining:    0.3s\n",
      "[Parallel(n_jobs=-1)]: Done   5 out of   7 | elapsed:    0.5s remaining:    0.2s\n",
      "[Parallel(n_jobs=-1)]: Done   7 out of   7 | elapsed:    0.6s remaining:    0.0s\n",
      "[Parallel(n_jobs=-1)]: Done   7 out of   7 | elapsed:    0.6s finished\n",
      "[Parallel(n_jobs=-1)]: Using backend LokyBackend with 4 concurrent workers.\n"
     ]
    },
    {
     "name": "stdout",
     "output_type": "stream",
     "text": [
      "shape deflection:  (7, 103)  should be [N,10X] something\n",
      "deflection std deviation  6.278372099094919\n",
      "timed  0.58581996  s for function \" randomBeamFunctionSample \"\n",
      "Converting list of outputs into matrix: \n",
      "Element  1  has shape  (7, 102)\n",
      "Element  2  has shape  (7,)\n",
      "Final shape matrix:  (7, 103)\n",
      "index to change:  [  723  2723  4723  6723  8723 10723 12723]\n",
      "Generation types:\n",
      "1 : Random (default)\n",
      "2 : LHS\n",
      "3 : LowDiscrepancySequence\n",
      "4 : SimulatedAnnealingLHS\n",
      "Choosen generation method is Random (default)\n"
     ]
    },
    {
     "name": "stderr",
     "output_type": "stream",
     "text": [
      "[Parallel(n_jobs=-1)]: Done   1 tasks      | elapsed:    0.3s\n",
      "[Parallel(n_jobs=-1)]: Done   2 out of   7 | elapsed:    0.3s remaining:    0.7s\n",
      "[Parallel(n_jobs=-1)]: Done   3 out of   7 | elapsed:    0.3s remaining:    0.4s\n",
      "[Parallel(n_jobs=-1)]: Done   4 out of   7 | elapsed:    0.4s remaining:    0.3s\n",
      "[Parallel(n_jobs=-1)]: Done   5 out of   7 | elapsed:    0.5s remaining:    0.2s\n",
      "[Parallel(n_jobs=-1)]: Done   7 out of   7 | elapsed:    0.6s remaining:    0.0s\n",
      "[Parallel(n_jobs=-1)]: Done   7 out of   7 | elapsed:    0.6s finished\n",
      "[Parallel(n_jobs=-1)]: Using backend LokyBackend with 4 concurrent workers.\n"
     ]
    },
    {
     "name": "stdout",
     "output_type": "stream",
     "text": [
      "shape deflection:  (7, 103)  should be [N,10X] something\n",
      "deflection std deviation  1.9218656762154112\n",
      "timed  0.5976789  s for function \" randomBeamFunctionSample \"\n",
      "Converting list of outputs into matrix: \n",
      "Element  1  has shape  (7, 102)\n",
      "Element  2  has shape  (7,)\n",
      "Final shape matrix:  (7, 103)\n",
      "index to change:  [  852  2852  4852  6852  8852 10852 12852]\n",
      "Generation types:\n",
      "1 : Random (default)\n",
      "2 : LHS\n",
      "3 : LowDiscrepancySequence\n",
      "4 : SimulatedAnnealingLHS\n",
      "Choosen generation method is Random (default)\n"
     ]
    },
    {
     "name": "stderr",
     "output_type": "stream",
     "text": [
      "[Parallel(n_jobs=-1)]: Done   1 tasks      | elapsed:    0.2s\n",
      "[Parallel(n_jobs=-1)]: Done   2 out of   7 | elapsed:    0.3s remaining:    0.8s\n",
      "[Parallel(n_jobs=-1)]: Done   3 out of   7 | elapsed:    0.4s remaining:    0.5s\n",
      "[Parallel(n_jobs=-1)]: Done   4 out of   7 | elapsed:    0.4s remaining:    0.3s\n",
      "[Parallel(n_jobs=-1)]: Done   5 out of   7 | elapsed:    0.5s remaining:    0.2s\n",
      "[Parallel(n_jobs=-1)]: Done   7 out of   7 | elapsed:    0.6s remaining:    0.0s\n",
      "[Parallel(n_jobs=-1)]: Done   7 out of   7 | elapsed:    0.6s finished\n",
      "[Parallel(n_jobs=-1)]: Using backend LokyBackend with 4 concurrent workers.\n"
     ]
    },
    {
     "name": "stdout",
     "output_type": "stream",
     "text": [
      "shape deflection:  (7, 103)  should be [N,10X] something\n",
      "deflection std deviation  1.673072923181088\n",
      "timed  0.593967676  s for function \" randomBeamFunctionSample \"\n",
      "Converting list of outputs into matrix: \n",
      "Element  1  has shape  (7, 102)\n",
      "Element  2  has shape  (7,)\n",
      "Final shape matrix:  (7, 103)\n",
      "index to change:  [ 1659  3659  5659  7659  9659 11659 13659]\n",
      "Generation types:\n",
      "1 : Random (default)\n",
      "2 : LHS\n",
      "3 : LowDiscrepancySequence\n",
      "4 : SimulatedAnnealingLHS\n",
      "Choosen generation method is Random (default)\n"
     ]
    },
    {
     "name": "stderr",
     "output_type": "stream",
     "text": [
      "[Parallel(n_jobs=-1)]: Done   1 tasks      | elapsed:    0.3s\n",
      "[Parallel(n_jobs=-1)]: Done   2 out of   7 | elapsed:    0.4s remaining:    0.9s\n",
      "[Parallel(n_jobs=-1)]: Done   3 out of   7 | elapsed:    0.4s remaining:    0.5s\n",
      "[Parallel(n_jobs=-1)]: Done   4 out of   7 | elapsed:    0.5s remaining:    0.4s\n"
     ]
    },
    {
     "name": "stdout",
     "output_type": "stream",
     "text": [
      "shape deflection:  (7, 103)  should be [N,10X] something\n",
      "deflection std deviation  1.6049180886259566\n",
      "timed  0.676346064  s for function \" randomBeamFunctionSample \"\n",
      "Converting list of outputs into matrix: \n",
      "Element  1  has shape  (7, 102)\n",
      "Element  2  has shape  (7,)\n",
      "Final shape matrix:  (7, 103)\n",
      " - Post replacement assertion passed - \n",
      "\n",
      "Transforming matrix of shape  (14000, 103)\n",
      "Into list of Ndarrays according to output definition\n",
      "Dimension output  0  is  102\n",
      "Intermediary shape is : (14000, 102)\n",
      "new shape is:  [14000, 102]\n",
      "Output element  0  has shape  (14000, 102)\n",
      "Dimension output  1  is  1\n",
      "Intermediary shape is : (14000, 1)\n",
      "new shape is:  [14000, 1]\n",
      "Output element  1  has shape  (14000,)\n"
     ]
    },
    {
     "name": "stderr",
     "output_type": "stream",
     "text": [
      "[Parallel(n_jobs=-1)]: Done   5 out of   7 | elapsed:    0.6s remaining:    0.2s\n",
      "[Parallel(n_jobs=-1)]: Done   7 out of   7 | elapsed:    0.7s remaining:    0.0s\n",
      "[Parallel(n_jobs=-1)]: Done   7 out of   7 | elapsed:    0.7s finished\n"
     ]
    }
   ],
   "source": [
    "processSensitivityAnalysis.getOutputDesignAndPostprocess()"
   ]
  },
  {
   "cell_type": "markdown",
   "metadata": {},
   "source": [
    "Le *timing* vient de la classe ***custum_wraps***, qui est pour l'instant assez inutile, mais permet de prendre en main les décorateurs...\n",
    "\n",
    "Une fois le _output design_ generé, l'on peut faire l'analyse de sensibilité sur le model.\n",
    "Pour ce faire, l'on utilise la fonction ***self.getSobolIndiciesKLCoefs***.\n",
    "La fonction ne renvoie pas directement les indices de sobol, mais bien des champs d'objets ***openTURNS.SaltelliSensitivityAlgorithm*** ou ***openTURNS.MartinezSensitivityAlgorithm*** ou ***openTURNS.JansenSensitivityAlgorithm*** ou ***openTURNS.MauntzKucherenkoSensitivityAlgorithm***.\n",
    "\n",
    "Ceci est bien sûr fait dans l'optique de toujours pouvoir accéder à l'entierté des indices de sobol et indices totaux du modèle.\n",
    "Ceci veut aussi dire qu'il manque une dimension pour les champs en sortie, celle des variables d'entrée."
   ]
  },
  {
   "cell_type": "code",
   "execution_count": 31,
   "metadata": {},
   "outputs": [
    {
     "name": "stdout",
     "output_type": "stream",
     "text": [
      "Populating the interactive namespace from numpy and matplotlib\n"
     ]
    }
   ],
   "source": [
    "%pylab inline\n",
    "pylab.rcParams['figure.figsize'] = (13, 5)\n",
    "import NdGaussianProcessSensitivityIndices as ngpsi\n",
    "_=reload(ngpsi)"
   ]
  },
  {
   "cell_type": "markdown",
   "metadata": {},
   "source": [
    "Ici on calcule les indices de sobol du premier ordre"
   ]
  },
  {
   "cell_type": "code",
   "execution_count": 32,
   "metadata": {},
   "outputs": [],
   "source": [
    "output = processSensitivityAnalysis.outputDesignList; output1 = output[0]; output2 = output[1]"
   ]
  },
  {
   "cell_type": "code",
   "execution_count": 35,
   "metadata": {
    "scrolled": true
   },
   "outputs": [
    {
     "name": "stdout",
     "output_type": "stream",
     "text": [
      "There are 5 indices to get in (102,) dimensions with 102 elements\n",
      "basic output shape is: (2000, 102)\n",
      "dimension of output flattened to matrix (dim<=2)  102\n",
      "data for variance calculus prepared \n",
      " X_fo shape is (2000, 102) Y_fo shape is (2000, 102)\n",
      "The output has 102 dimensions, so the covariance is of dimension (102, 2, 2)\n",
      "The shape of the means is: (102, 2)\n",
      "The shape of the mean value for psi is:  (102, 2)\n",
      "temporary shape after tiling (102, 2, 2)\n",
      "Variance is: [0.00045902 0.00045677 0.00045672 0.00045658 0.00045659 0.00045673\n",
      " 0.0004569  0.00045697 0.00045677 0.00045617 0.00045502 0.00045325\n",
      " 0.00045082 0.00044773 0.00044405 0.00043988 0.00043535 0.00043062\n",
      " 0.00042588 0.00042133 0.00041716 0.00041355 0.00041067 0.00040861\n",
      " 0.00040743 0.00040711 0.00040758 0.00040873 0.0004104  0.00041238\n",
      " 0.00041449 0.0004165  0.00041825 0.00041959 0.00042056 0.00041974\n",
      " 0.00041898 0.00041664 0.00041194 0.00040991 0.00040881 0.00040592\n",
      " 0.0004086  0.00041761 0.00043013 0.00044365 0.00045761 0.0004647\n",
      " 0.00046084 0.00044936 0.00043826 0.00044084 0.00045339 0.00047842\n",
      " 0.00050933 0.00053437 0.00054277 0.00054251 0.00053838 0.00053024\n",
      " 0.00052583 0.00053093 0.00053781 0.00054461 0.00054928 0.00054297\n",
      " 0.00053655 0.00053095 0.00052539 0.00051966 0.00051421 0.00050945\n",
      " 0.00050562 0.00050277 0.00050082 0.00049993 0.00050004 0.0005011\n",
      " 0.00050302 0.00050568 0.000509   0.00051281 0.00051695 0.00052118\n",
      " 0.00052522 0.00052878 0.00053154 0.00053325 0.00053376 0.00053298\n",
      " 0.000531   0.00052798 0.00052419 0.00051993 0.00051552 0.00051127\n",
      " 0.00050743 0.00050417 0.00050161 0.00049978 0.00049868 0.00049815]\n",
      "The output has 102 dimensions, so the covariance is of dimension (102, 2, 2)\n",
      "The shape of the means is: (102, 2)\n",
      "The shape of the mean value for psi is:  (102, 2)\n",
      "temporary shape after tiling (102, 2, 2)\n",
      "Variance is: [0.0039926  0.0041607  0.00416134 0.00415446 0.00414975 0.00414875\n",
      " 0.00415184 0.00415894 0.00416967 0.00418347 0.00419969 0.00421778\n",
      " 0.0042373  0.00425805 0.00427997 0.00430311 0.00432751 0.00435309\n",
      " 0.00437959 0.0044065  0.00443307 0.00445838 0.00448145 0.00450138\n",
      " 0.00451746 0.00452924 0.0045366  0.00453957 0.0045383  0.00453292\n",
      " 0.00452341 0.00450967 0.00449161 0.00446928 0.00445384 0.00432818\n",
      " 0.00421494 0.00412071 0.00402292 0.00398393 0.00400928 0.00401972\n",
      " 0.00402556 0.00397482 0.00399262 0.00402427 0.00405211 0.00410114\n",
      " 0.00422564 0.00434951 0.00438723 0.00429867 0.00424626 0.00426725\n",
      " 0.00430037 0.00427963 0.00423459 0.00419326 0.00411715 0.00412695\n",
      " 0.00411432 0.00411067 0.00414104 0.00417897 0.0042533  0.00428758\n",
      " 0.00433194 0.00436181 0.00437858 0.00437542 0.00437427 0.00437467\n",
      " 0.00437605 0.00437776 0.00437913 0.00437947 0.00437828 0.00437528\n",
      " 0.00437057 0.00436456 0.00435788 0.00435123 0.00434511 0.00433969\n",
      " 0.00433464 0.00432921 0.0043223  0.00431274 0.00429947 0.00428187\n",
      " 0.00425986 0.00423395 0.00420523 0.00417512 0.00414523 0.00411711\n",
      " 0.00409207 0.00407109 0.00405472 0.00404306 0.00403549 0.00402802]\n",
      "basic output shape is: (2000, 102)\n",
      "dimension of output flattened to matrix (dim<=2)  102\n",
      "data for variance calculus prepared \n",
      " X_fo shape is (2000, 102) Y_fo shape is (2000, 102)\n",
      "The output has 102 dimensions, so the covariance is of dimension (102, 2, 2)\n",
      "The shape of the means is: (102, 2)\n",
      "The shape of the mean value for psi is:  (102, 2)\n",
      "temporary shape after tiling (102, 2, 2)\n",
      "Variance is: [0.00048369 0.00061239 0.00062326 0.00062685 0.00063032 0.00063437\n",
      " 0.00063886 0.00064351 0.00064798 0.00065205 0.00065557 0.0006585\n",
      " 0.00066084 0.00066262 0.00066389 0.00066462 0.0006648  0.00066443\n",
      " 0.00066351 0.00066209 0.00066026 0.00065817 0.00065597 0.00065387\n",
      " 0.00065213 0.00065101 0.00065086 0.00065197 0.00065465 0.00065906\n",
      " 0.00066524 0.00067302 0.00068209 0.00069197 0.00070237 0.00071033\n",
      " 0.00071982 0.00072951 0.0007283  0.00072841 0.00072717 0.00072819\n",
      " 0.00073221 0.00074917 0.00077766 0.00081638 0.00085979 0.0008656\n",
      " 0.00086129 0.00086299 0.00085555 0.00085729 0.0008722  0.00090214\n",
      " 0.00093186 0.00092803 0.00089798 0.00086955 0.00083491 0.00080645\n",
      " 0.00078305 0.00077298 0.00076871 0.00076769 0.00076682 0.00075374\n",
      " 0.00074027 0.00072715 0.00071475 0.00070068 0.00068609 0.00067252\n",
      " 0.0006606  0.00065074 0.00064316 0.00063826 0.0006361  0.00063665\n",
      " 0.00063972 0.00064504 0.00065223 0.00066087 0.00067049 0.00068061\n",
      " 0.00069074 0.0007004  0.00070917 0.00071668 0.0007227  0.00072711\n",
      " 0.00072999 0.00073162 0.00073247 0.0007332  0.00073455 0.00073727\n",
      " 0.00074204 0.0007493  0.00075923 0.00077153 0.00078467 0.00078805]\n",
      "The output has 102 dimensions, so the covariance is of dimension (102, 2, 2)\n",
      "The shape of the means is: (102, 2)\n",
      "The shape of the mean value for psi is:  (102, 2)\n",
      "temporary shape after tiling (102, 2, 2)\n",
      "Variance is: [0.00249532 0.00180849 0.00178579 0.00178862 0.00179451 0.00180085\n",
      " 0.00180733 0.00181409 0.00182134 0.00182916 0.0018375  0.00184614\n",
      " 0.00185477 0.00186306 0.00187071 0.00187745 0.00188312 0.0018876\n",
      " 0.00189084 0.00189284 0.00189366 0.00189342 0.00189229 0.0018905\n",
      " 0.00188828 0.00188587 0.00188345 0.00188109 0.00187872 0.00187618\n",
      " 0.00187316 0.00186932 0.00186436 0.00185808 0.00185441 0.00180084\n",
      " 0.00175132 0.00170034 0.00163714 0.00160331 0.00159282 0.00158006\n",
      " 0.00156357 0.001527   0.00151056 0.00148402 0.00144914 0.00140451\n",
      " 0.00138188 0.00136174 0.00133197 0.00131936 0.00135989 0.00144063\n",
      " 0.00153265 0.00157693 0.00159114 0.00160918 0.00161172 0.00163626\n",
      " 0.00166129 0.00169295 0.00173559 0.00176571 0.00180541 0.00182849\n",
      " 0.00185742 0.00188054 0.00189529 0.00188632 0.00187328 0.0018604\n",
      " 0.00184836 0.00183781 0.00182934 0.00182336 0.00182012 0.00181969\n",
      " 0.00182193 0.00182657 0.00183323 0.00184144 0.00185065 0.00186027\n",
      " 0.00186964 0.00187809 0.00188499 0.00188984 0.00189233 0.00189244\n",
      " 0.00189045 0.00188689 0.00188247 0.00187791 0.00187381 0.00187056\n",
      " 0.00186831 0.00186701 0.00186656 0.00186733 0.00187201 0.00190359]\n",
      "basic output shape is: (2000, 102)\n",
      "dimension of output flattened to matrix (dim<=2)  102\n",
      "data for variance calculus prepared \n",
      " X_fo shape is (2000, 102) Y_fo shape is (2000, 102)\n",
      "The output has 102 dimensions, so the covariance is of dimension (102, 2, 2)\n",
      "The shape of the means is: (102, 2)\n",
      "The shape of the mean value for psi is:  (102, 2)\n",
      "temporary shape after tiling (102, 2, 2)\n",
      "Variance is: [0.00046991 0.00046241 0.00046219 0.00046206 0.00046211 0.00046228\n",
      " 0.00046248 0.00046258 0.00046241 0.00046184 0.00046071 0.00045896\n",
      " 0.00045653 0.00045343 0.00044973 0.0004455  0.00044089 0.00043605\n",
      " 0.00043118 0.00042647 0.00042212 0.00041834 0.00041528 0.00041305\n",
      " 0.00041172 0.00041127 0.00041165 0.00041274 0.00041438 0.00041636\n",
      " 0.00041849 0.00042054 0.00042232 0.00042368 0.00042466 0.00042383\n",
      " 0.00042303 0.00042063 0.00041586 0.00041402 0.00041184 0.0004075\n",
      " 0.00040904 0.00041712 0.00042884 0.00044166 0.00045494 0.00046133\n",
      " 0.00045674 0.00044632 0.00043625 0.00043972 0.00045267 0.00047793\n",
      " 0.00050916 0.00053434 0.00054281 0.00054262 0.00053858 0.00053051\n",
      " 0.00052613 0.00053126 0.00053816 0.00054498 0.00054968 0.00054337\n",
      " 0.00053696 0.00053137 0.00052581 0.00052007 0.00051461 0.00050983\n",
      " 0.00050597 0.0005031  0.00050112 0.00050019 0.00050028 0.00050131\n",
      " 0.00050319 0.00050584 0.00050913 0.00051292 0.00051703 0.00052123\n",
      " 0.00052523 0.00052874 0.00053145 0.00053311 0.00053354 0.00053269\n",
      " 0.00053061 0.00052749 0.00052358 0.00051919 0.00051465 0.00051025\n",
      " 0.00050624 0.00050281 0.00050007 0.00049807 0.00049678 0.0004961 ]\n",
      "The output has 102 dimensions, so the covariance is of dimension (102, 2, 2)\n",
      "The shape of the means is: (102, 2)\n",
      "The shape of the mean value for psi is:  (102, 2)\n",
      "temporary shape after tiling (102, 2, 2)\n",
      "Variance is: [0.00414431 0.00425907 0.00425828 0.00425213 0.0042485  0.00424873\n",
      " 0.00425317 0.00426176 0.00427409 0.00428955 0.00430741 0.00432694\n",
      " 0.00434758 0.00436891 0.00439073 0.00441295 0.00443555 0.00445843\n",
      " 0.00448139 0.00450404 0.00452583 0.00454604 0.00456391 0.00457873\n",
      " 0.00458996 0.00459727 0.00460059 0.00459999 0.00459557 0.0045874\n",
      " 0.00457539 0.00455933 0.00453901 0.00451441 0.00449662 0.0043683\n",
      " 0.00425243 0.00415553 0.00405523 0.0040164  0.0040313  0.00403113\n",
      " 0.00403078 0.00397648 0.00399226 0.00402288 0.00405015 0.00409849\n",
      " 0.00422191 0.00434399 0.00438074 0.0042931  0.00424204 0.00426394\n",
      " 0.00429773 0.00427748 0.00423285 0.00419184 0.00411602 0.00412605\n",
      " 0.00411365 0.00411012 0.00414053 0.00417851 0.00425289 0.00428724\n",
      " 0.00433169 0.00436166 0.00437855 0.00437552 0.00437451 0.00437505\n",
      " 0.00437655 0.00437839 0.00437985 0.00438028 0.00437915 0.0043762\n",
      " 0.00437153 0.00436554 0.0043589  0.00435228 0.00434622 0.00434086\n",
      " 0.00433591 0.0043306  0.00432383 0.00431443 0.00430134 0.00428392\n",
      " 0.00426208 0.00423634 0.00420777 0.00417781 0.00414803 0.00412\n",
      " 0.00409503 0.0040741  0.00405775 0.00404608 0.00403852 0.00403113]\n",
      "basic output shape is: (2000, 102)\n",
      "dimension of output flattened to matrix (dim<=2)  102\n",
      "data for variance calculus prepared \n",
      " X_fo shape is (2000, 102) Y_fo shape is (2000, 102)\n",
      "The output has 102 dimensions, so the covariance is of dimension (102, 2, 2)\n",
      "The shape of the means is: (102, 2)\n",
      "The shape of the mean value for psi is:  (102, 2)\n",
      "temporary shape after tiling (102, 2, 2)\n",
      "Variance is: [0.00102535 0.00080444 0.0007941  0.00079222 0.00079193 0.00079238\n",
      " 0.00079334 0.00079469 0.00079629 0.000798   0.00079965 0.00080107\n",
      " 0.00080212 0.00080271 0.00080277 0.0008023  0.00080135 0.0008\n",
      " 0.00079841 0.00079677 0.0007953  0.00079421 0.00079372 0.00079402\n",
      " 0.0007952  0.00079732 0.00080032 0.00080407 0.00080833 0.00081281\n",
      " 0.00081717 0.00082103 0.00082405 0.00082595 0.00082691 0.00082166\n",
      " 0.00080141 0.00077031 0.00071944 0.00067999 0.00066038 0.00064092\n",
      " 0.00061648 0.00059721 0.00059335 0.00059387 0.00058561 0.00058228\n",
      " 0.00055914 0.00053244 0.00051926 0.00052592 0.00055734 0.00059968\n",
      " 0.00065432 0.00071594 0.00077023 0.00081414 0.00084988 0.00087547\n",
      " 0.00090102 0.0009266  0.00094736 0.00097174 0.00100096 0.00101622\n",
      " 0.00102051 0.00101667 0.00101142 0.00100469 0.00099777 0.00099166\n",
      " 0.00098675 0.00098292 0.00097946 0.00097728 0.00097643 0.00097693\n",
      " 0.00097876 0.00098182 0.00098597 0.00099096 0.0009964  0.00100182\n",
      " 0.00100666 0.00101036 0.00101241 0.00101247 0.00101039 0.0010063\n",
      " 0.00100053 0.00099361 0.00098617 0.00097882 0.00097208 0.00096635\n",
      " 0.00096182 0.00095856 0.00095657 0.0009559  0.00095729 0.00096772]\n"
     ]
    },
    {
     "name": "stdout",
     "output_type": "stream",
     "text": [
      "The output has 102 dimensions, so the covariance is of dimension (102, 2, 2)\n",
      "The shape of the means is: (102, 2)\n",
      "The shape of the mean value for psi is:  (102, 2)\n",
      "temporary shape after tiling (102, 2, 2)\n",
      "Variance is: [0.00122232 0.00165238 0.00166641 0.00165929 0.00165134 0.00164508\n",
      " 0.00164079 0.00163815 0.00163662 0.00163559 0.00163455 0.00163311\n",
      " 0.00163107 0.0016284  0.00162519 0.00162164 0.00161797 0.00161445\n",
      " 0.00161132 0.00160881 0.00160705 0.00160613 0.00160603 0.00160666\n",
      " 0.00160789 0.00160957 0.00161154 0.00161364 0.00161568 0.00161739\n",
      " 0.00161845 0.00161851 0.00161724 0.00161442 0.00161192 0.00158922\n",
      " 0.00156986 0.00155424 0.00154805 0.00155825 0.00159052 0.00162889\n",
      " 0.0016857  0.00175475 0.001852   0.00198385 0.0021402  0.00231991\n",
      " 0.00248843 0.00263441 0.00270155 0.0026426  0.00252143 0.00241086\n",
      " 0.00231006 0.00221754 0.00210976 0.00199984 0.00188394 0.00179541\n",
      " 0.00173263 0.00170982 0.00170046 0.00169826 0.00170468 0.00169396\n",
      " 0.00168631 0.00167663 0.00166778 0.00166313 0.00166135 0.00166069\n",
      " 0.00166088 0.00166166 0.00166283 0.00166389 0.00166456 0.00166472\n",
      " 0.00166448 0.00166414 0.00166413 0.00166484 0.00166653 0.00166922\n",
      " 0.00167261 0.00167615 0.00167909 0.0016806  0.00167996 0.00167659\n",
      " 0.00167024 0.00166095 0.00164912 0.00163542 0.00162075 0.00160614\n",
      " 0.00159261 0.00158106 0.00157205 0.00156554 0.00155938 0.00153594]\n",
      "basic output shape is: (2000, 102)\n",
      "dimension of output flattened to matrix (dim<=2)  102\n",
      "data for variance calculus prepared \n",
      " X_fo shape is (2000, 102) Y_fo shape is (2000, 102)\n",
      "The output has 102 dimensions, so the covariance is of dimension (102, 2, 2)\n",
      "The shape of the means is: (102, 2)\n",
      "The shape of the mean value for psi is:  (102, 2)\n",
      "temporary shape after tiling (102, 2, 2)\n",
      "Variance is: [0.00052175 0.00049835 0.00049713 0.00049654 0.00049611 0.00049574\n",
      " 0.00049532 0.00049471 0.00049379 0.00049244 0.00049055 0.00048807\n",
      " 0.00048501 0.00048143 0.00047743 0.00047313 0.00046871 0.00046434\n",
      " 0.00046022 0.00045655 0.00045353 0.00045133 0.00045006 0.00044981\n",
      " 0.00045057 0.00045228 0.0004548  0.00045795 0.00046151 0.00046525\n",
      " 0.0004689  0.00047223 0.00047502 0.00047713 0.00047858 0.00047846\n",
      " 0.00047807 0.00047505 0.00046772 0.00046334 0.00045916 0.000455\n",
      " 0.00045639 0.0004661  0.00048075 0.00050028 0.000523   0.00053836\n",
      " 0.00053762 0.00052223 0.00050111 0.00049578 0.00050392 0.00052694\n",
      " 0.00054886 0.00056362 0.00056581 0.0005625  0.00055663 0.00054521\n",
      " 0.00053672 0.00053864 0.00054222 0.0005486  0.00055329 0.0005475\n",
      " 0.00054187 0.00053637 0.00053141 0.00052646 0.00052145 0.00051711\n",
      " 0.00051358 0.00051097 0.00050929 0.00050853 0.00050864 0.00050952\n",
      " 0.0005111  0.00051331 0.00051607 0.00051928 0.00052282 0.0005265\n",
      " 0.0005301  0.00053334 0.00053597 0.00053774 0.00053852 0.00053824\n",
      " 0.00053697 0.00053487 0.00053218 0.00052918 0.00052615 0.00052336\n",
      " 0.00052101 0.00051924 0.00051814 0.00051772 0.00051799 0.00051909]\n",
      "The output has 102 dimensions, so the covariance is of dimension (102, 2, 2)\n",
      "The shape of the means is: (102, 2)\n",
      "The shape of the mean value for psi is:  (102, 2)\n",
      "temporary shape after tiling (102, 2, 2)\n",
      "Variance is: [0.00308859 0.00336317 0.00336783 0.00335912 0.00335114 0.00334587\n",
      " 0.00334369 0.00334448 0.00334783 0.00335325 0.00336025 0.00336845\n",
      " 0.00337762 0.00338771 0.00339881 0.00341106 0.00342455 0.00343928\n",
      " 0.00345508 0.00347157 0.00348819 0.00350423 0.00351896 0.00353165\n",
      " 0.00354175 0.00354891 0.00355297 0.00355395 0.0035519  0.00354686\n",
      " 0.00353882 0.00352769 0.00351339 0.00349606 0.0034846  0.00338646\n",
      " 0.00330165 0.00323115 0.00316203 0.00313554 0.00313613 0.00311048\n",
      " 0.00308778 0.00301757 0.0030026  0.00300615 0.00301746 0.00303403\n",
      " 0.00308716 0.00313233 0.00310318 0.00301874 0.00298258 0.00302738\n",
      " 0.00308924 0.00311344 0.00312272 0.00311866 0.00309227 0.00312125\n",
      " 0.00311753 0.00311884 0.00314387 0.0031864  0.0032582  0.00328738\n",
      " 0.00332196 0.00335671 0.00338348 0.00338888 0.00339426 0.00340066\n",
      " 0.00340745 0.00341394 0.00341944 0.00342333 0.00342514 0.0034247\n",
      " 0.00342218 0.00341806 0.00341305 0.00340786 0.00340306 0.00339886\n",
      " 0.00339503 0.00339092 0.00338557 0.00337791 0.00336696 0.00335205\n",
      " 0.003333   0.00331015 0.00328431 0.00325666 0.00322858 0.00320148\n",
      " 0.00317661 0.00315496 0.00313716 0.00312327 0.00311206 0.00309369]\n",
      "Indices successfully calculated\n",
      "There are 5 indices to get in 1 dimensions with 1 elements\n",
      "basic output shape is: (2000,)\n",
      "dimension of output flattened to matrix (dim<=2)  1\n",
      "data for variance calculus prepared \n",
      " X_fo shape is (2000, 1) Y_fo shape is (2000, 1)\n",
      "The output has 1 dimensions, so the covariance is of dimension (2, 2)\n",
      "Covariance is: [[ 0.3562316  -0.00746479]\n",
      " [-0.00746479  0.70557778]]\n",
      "Sample mean is: [-0.0008783809414661237, 0.5916628222766465]\n",
      "Psi mean is: [1.69015183 0.00250919]\n",
      "variance is: 1.0175570038530701\n",
      "The output has 1 dimensions, so the covariance is of dimension (2, 2)\n",
      "Covariance is: [[0.70493128 0.70505382]\n",
      " [0.70505382 0.70557778]]\n",
      "Sample mean is: [0.5915625640573562, 0.5916628222766465]\n",
      "Psi mean is: [-1.69015183  1.68986543]\n",
      "variance is: 0.0011462444751297062\n",
      "basic output shape is: (2000,)\n",
      "dimension of output flattened to matrix (dim<=2)  1\n",
      "data for variance calculus prepared \n",
      " X_fo shape is (2000, 1) Y_fo shape is (2000, 1)\n",
      "The output has 1 dimensions, so the covariance is of dimension (2, 2)\n",
      "Covariance is: [[ 0.46199815 -0.0059583 ]\n",
      " [-0.0059583   0.70557778]]\n",
      "Sample mean is: [0.21882655780888693, 0.5916628222766465]\n",
      "Psi mean is: [ 1.69015183 -0.62510283]\n",
      "variance is: 1.6080471272220478\n",
      "The output has 1 dimensions, so the covariance is of dimension (2, 2)\n",
      "Covariance is: [[0.46910124 0.41288319]\n",
      " [0.41288319 0.70557778]]\n",
      "Sample mean is: [0.3756150480923733, 0.5916628222766465]\n",
      "Psi mean is: [-1.69015183  1.0729869 ]\n",
      "variance is: 0.6548368621544378\n",
      "basic output shape is: (2000,)\n",
      "dimension of output flattened to matrix (dim<=2)  1\n",
      "data for variance calculus prepared \n",
      " X_fo shape is (2000, 1) Y_fo shape is (2000, 1)\n",
      "The output has 1 dimensions, so the covariance is of dimension (2, 2)\n",
      "Covariance is: [[ 0.35476488 -0.00743488]\n",
      " [-0.00743488  0.70557778]]\n",
      "Sample mean is: [-0.0010766469048255054, 0.5916628222766465]\n",
      "Psi mean is: [1.69015183 0.00307556]\n",
      "variance is: 1.0133554135062182\n",
      "The output has 1 dimensions, so the covariance is of dimension (2, 2)\n",
      "Covariance is: [[0.70557778 0.70557778]\n",
      " [0.70557778 0.70557778]]\n",
      "Sample mean is: [0.5916628222766465, 0.5916628222766465]\n",
      "Psi mean is: [-1.69015183  1.69015183]\n",
      "variance is: 4.930380657631324e-32\n",
      "basic output shape is: (2000,)\n",
      "dimension of output flattened to matrix (dim<=2)  1\n",
      "data for variance calculus prepared \n",
      " X_fo shape is (2000, 1) Y_fo shape is (2000, 1)\n",
      "The output has 1 dimensions, so the covariance is of dimension (2, 2)\n",
      "Covariance is: [[0.49407499 0.00745851]\n",
      " [0.00745851 0.70557778]]\n",
      "Sample mean is: [0.2939477580401508, 0.5916628222766465]\n",
      "Psi mean is: [ 1.69015183 -0.83969505]\n",
      "variance is: 1.8877049678401385\n",
      "The output has 1 dimensions, so the covariance is of dimension (2, 2)\n",
      "Covariance is: [[0.45797933 0.35563457]\n",
      " [0.35563457 0.70557778]]\n",
      "Sample mean is: [0.2938394353896405, 0.5916628222766465]\n",
      "Psi mean is: [-1.69015183  0.83938561]\n",
      "variance is: 0.7963276792214966\n",
      "basic output shape is: (2000,)\n",
      "dimension of output flattened to matrix (dim<=2)  1\n",
      "data for variance calculus prepared \n",
      " X_fo shape is (2000, 1) Y_fo shape is (2000, 1)\n",
      "The output has 1 dimensions, so the covariance is of dimension (2, 2)\n",
      "Covariance is: [[ 0.35257462 -0.00230091]\n",
      " [-0.00230091  0.70557778]]\n",
      "Sample mean is: [0.08092260171963163, 0.5916628222766465]\n",
      "Psi mean is: [ 1.69015183 -0.23116457]\n",
      "variance is: 1.0466712496229034\n",
      "The output has 1 dimensions, so the covariance is of dimension (2, 2)\n",
      "Covariance is: [[0.61229301 0.60211858]\n",
      " [0.60211858 0.70557778]]\n",
      "Sample mean is: [0.5047106230524476, 0.5916628222766465]\n",
      "Psi mean is: [-1.69015183  1.44176303]\n",
      "variance is: 0.28127195785943626\n",
      "Indices successfully calculated\n"
     ]
    }
   ],
   "source": [
    "S, Stot, varS, varStot = ngpsi.NdGaussianProcessSensitivityIndicesBase.getSobolIndices(output1,2000)\n",
    "S2, Stot2, varS2, varS2tot = ngpsi.NdGaussianProcessSensitivityIndicesBase.getSobolIndices(output2,2000)"
   ]
  },
  {
   "cell_type": "markdown",
   "metadata": {},
   "source": [
    "L'on peut récuperer ces indices du premier ordre dans ***self.processSensitivityAnalysis.sensitivityResults.firstOrderIndices***\n",
    "Matplotlib permet de facilement visualiser ces indices. Néanmoins, cette visualisation est pour l'instant peu pertinente, puisque l'on visualise chaque variables aléatoire de Karhunen Loeve individuellement, alors qu'il nous faut encore combiner ces dernières pour que l'indice de sobol soit représentatif du champ stochastique consideré."
   ]
  },
  {
   "cell_type": "code",
   "execution_count": 36,
   "metadata": {
    "scrolled": true
   },
   "outputs": [
    {
     "name": "stdout",
     "output_type": "stream",
     "text": [
      "S2= [-0.0014846   0.36985011 -0.0018197   0.49681634  0.13677148]\n",
      "Stot2= [1.69451612e-04 3.65153540e-01 0.00000000e+00 5.03366741e-01\n",
      " 1.46962418e-01]\n",
      "varS2= [[1.017557  ]\n",
      " [1.60804713]\n",
      " [1.01335541]\n",
      " [1.88770497]\n",
      " [1.04667125]]\n",
      "varStot2= [[1.14624448e-03]\n",
      " [6.54836862e-01]\n",
      " [4.93038066e-32]\n",
      " [7.96327679e-01]\n",
      " [2.81271958e-01]]\n"
     ]
    }
   ],
   "source": [
    "print('S2=',S2)\n",
    "print('Stot2=',Stot2)\n",
    "print('varS2=',varS2)\n",
    "print('varStot2=',varS2tot)"
   ]
  },
  {
   "cell_type": "code",
   "execution_count": 37,
   "metadata": {},
   "outputs": [
    {
     "data": {
      "text/plain": [
       "<matplotlib.colorbar.Colorbar at 0x7f38062cae80>"
      ]
     },
     "execution_count": 37,
     "metadata": {},
     "output_type": "execute_result"
    },
    {
     "data": {
      "image/png": "[encoded data removed]",
      "text/plain": [
       "<Figure size 936x360 with 2 Axes>"
      ]
     },
     "metadata": {
      "needs_background": "light"
     },
     "output_type": "display_data"
    }
   ],
   "source": [
    "plt.yticks([0,1,2,3,4],[\"Module d'Young\",'Diametre','Densité','Position Force','Norme Force'])\n",
    "x=plt.imshow(varS, cmap='CMRmap',aspect='auto')\n",
    "plt.colorbar()"
   ]
  },
  {
   "cell_type": "code",
   "execution_count": 39,
   "metadata": {},
   "outputs": [
    {
     "data": {
      "text/plain": [
       "<matplotlib.colorbar.Colorbar at 0x7f3806200320>"
      ]
     },
     "execution_count": 39,
     "metadata": {},
     "output_type": "execute_result"
    },
    {
     "data": {
      "image/png": "[encoded data removed]",
      "text/plain": [
       "<Figure size 936x360 with 2 Axes>"
      ]
     },
     "metadata": {
      "needs_background": "light"
     },
     "output_type": "display_data"
    }
   ],
   "source": [
    "plt.yticks([0,1,2,3,4],[\"Module d'Young\",'Diametre','Densité','Position Force','Norme Force'])\n",
    "x=plt.imshow(S, cmap='CMRmap',aspect='auto')\n",
    "plt.colorbar()"
   ]
  },
  {
   "cell_type": "code",
   "execution_count": 41,
   "metadata": {},
   "outputs": [
    {
     "data": {
      "text/plain": [
       "<matplotlib.colorbar.Colorbar at 0x7f38060f71d0>"
      ]
     },
     "execution_count": 41,
     "metadata": {},
     "output_type": "execute_result"
    },
    {
     "data": {
      "image/png": "[encoded data removed]",
      "text/plain": [
       "<Figure size 936x360 with 2 Axes>"
      ]
     },
     "metadata": {
      "needs_background": "light"
     },
     "output_type": "display_data"
    }
   ],
   "source": [
    "plt.yticks([0,1,2,3,4],[\"Module d'Young\",'Diametre','Densité','Position Force','Norme Force'])\n",
    "x=plt.imshow(Stot, cmap='CMRmap',aspect='auto')\n",
    "plt.colorbar()"
   ]
  },
  {
   "cell_type": "code",
   "execution_count": 42,
   "metadata": {},
   "outputs": [
    {
     "data": {
      "text/plain": [
       "<matplotlib.colorbar.Colorbar at 0x7f38064096d8>"
      ]
     },
     "execution_count": 42,
     "metadata": {},
     "output_type": "execute_result"
    },
    {
     "data": {
      "image/png": "[encoded data removed]",
      "text/plain": [
       "<Figure size 936x360 with 2 Axes>"
      ]
     },
     "metadata": {
      "needs_background": "light"
     },
     "output_type": "display_data"
    }
   ],
   "source": [
    "plt.yticks([0,1,2,3,4],[\"Module d'Young\",'Diametre','Densité','Position Force','Norme Force'])\n",
    "x=plt.imshow(varStot, cmap='CMRmap',aspect='auto')\n",
    "plt.colorbar()"
   ]
  },
  {
   "cell_type": "code",
   "execution_count": null,
   "metadata": {},
   "outputs": [],
   "source": [
    "A,B = ngpsi.NdGaussianProcessSensitivityIndicesBase.SymbolicSaltelliIndices(1)\n",
    "A"
   ]
  },
  {
   "cell_type": "code",
   "execution_count": null,
   "metadata": {},
   "outputs": [],
   "source": [
    "A.gradient([2,3])"
   ]
  },
  {
   "cell_type": "code",
   "execution_count": null,
   "metadata": {},
   "outputs": [],
   "source": [
    "#composedDist = processSensitivityAnalysis.wrappedFunction.KLComposedDistribution\n",
    "plt.yticks([0,1,2,3,4],[\"Module d'Young\",'Diametre','Densité','Position Force','Norme Force'])\n",
    "x=plt.imshow(S, cmap='CMRmap',aspect='auto')\n",
    "plt.colorbar()"
   ]
  },
  {
   "cell_type": "markdown",
   "metadata": {},
   "source": [
    "Test for the variance calculus"
   ]
  },
  {
   "cell_type": "code",
   "execution_count": null,
   "metadata": {},
   "outputs": [],
   "source": [
    "outputDim0 = output2.shape[0];print(outputDim0)\n",
    "inputDim = 5 #(5 dimensions)\n",
    "N = 100\n",
    "print(output2)"
   ]
  },
  {
   "cell_type": "code",
   "execution_count": null,
   "metadata": {
    "scrolled": true
   },
   "outputs": [],
   "source": [
    "ngpsi.NdGaussianProcessSensitivityIndicesBase.computeVariance(1, \n",
    "                                                              inputDim,\n",
    "                                                             N,\n",
    "                                                             output2)"
   ]
  },
  {
   "cell_type": "code",
   "execution_count": null,
   "metadata": {},
   "outputs": [],
   "source": [
    "S_fo[...,50]"
   ]
  },
  {
   "cell_type": "code",
   "execution_count": null,
   "metadata": {},
   "outputs": [],
   "source": [
    "im2 = plt.imshow(processSensitivityAnalysis.sensitivityResults.firstOrderIndices[1])\n",
    "plt.show()"
   ]
  },
  {
   "cell_type": "code",
   "execution_count": null,
   "metadata": {},
   "outputs": [],
   "source": [
    "#im2.write_png('sensitivity_rv_KL')"
   ]
  },
  {
   "cell_type": "code",
   "execution_count": null,
   "metadata": {},
   "outputs": [],
   "source": [
    "processSensitivityAnalysis.wrappedFunction.getKLDecompositionVarNames"
   ]
  },
  {
   "cell_type": "code",
   "execution_count": null,
   "metadata": {},
   "outputs": [],
   "source": [
    "np.sum(S_fo, axis=0)"
   ]
  },
  {
   "cell_type": "code",
   "execution_count": null,
   "metadata": {},
   "outputs": [],
   "source": [
    "S_f"
   ]
  }
 ],
 "metadata": {
  "kernelspec": {
   "display_name": "Python 3",
   "language": "python",
   "name": "python3"
  },
  "language_info": {
   "codemirror_mode": {
    "name": "ipython",
    "version": 3
   },
   "file_extension": ".py",
   "mimetype": "text/x-python",
   "name": "python",
   "nbconvert_exporter": "python",
   "pygments_lexer": "ipython3",
   "version": "3.6.7"
  }
 },
 "nbformat": 4,
 "nbformat_minor": 2
}
