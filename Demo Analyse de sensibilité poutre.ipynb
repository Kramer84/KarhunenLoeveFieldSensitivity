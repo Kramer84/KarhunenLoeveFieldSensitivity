{
 "cells": [
  {
   "cell_type": "markdown",
   "metadata": {},
   "source": [
    "### Il est explicité ici l'utilisation des ensembles de codes écrits pour l'analyse de sensibilité sur des champs stochastiques et variables aléatoires.\n",
    "\n",
    "### Il est d'abord conseillé d'installer l'environnement virtuel dont la définition se trouvent dans le fichier yaml\n",
    "\n",
    "Nous allons faire ici l'analyse de sensiblité sur une poutre en flexion représentée par 100 éléments finis, et ou le module young et le diamètre de chaque élément est déterminé par un processus gaussien en une dimension. La position de la force, sa norme, tout comme la densité du matérieau sont déterminés par des lois nomales gaussiennes.\n",
    "Dans la logique d'écriture de ces codes, il faut avoir un à priori sur les processus gaussiens, la loi qu'ils suivent, tout comme sur les paramètres des lois gaussiennes. Ensuite, il faut avoir une fonction python qui prend en entrée ces champs, et qui renvoie un ensemble connu de resultas. \n"
   ]
  },
  {
   "cell_type": "code",
   "execution_count": 1,
   "metadata": {},
   "outputs": [],
   "source": [
    "try:\n",
    "    import anastruct, openturns, numba, joblib\n",
    "except:\n",
    "    import os\n",
    "    if os.sys.platform == 'linux' :\n",
    "        file_path = 'sensitivityEnv.yml'\n",
    "        os.system('conda env create -f'+file_path)\n",
    "        # to have the right modules installed\n",
    "        print('now activate the environment and restart jupyter with other kernel')\n",
    "    else :\n",
    "        print('Do it alone')"
   ]
  },
  {
   "cell_type": "code",
   "execution_count": 2,
   "metadata": {},
   "outputs": [
    {
     "name": "stdout",
     "output_type": "stream",
     "text": [
      "trend function args:  ['x']  trend function:  210000 \n",
      "\n",
      "Please be aware that the number of elements in the argument list has to be the same as the dimension of the process:  1\n",
      "trend function args:  ['x']  trend function:  10 \n",
      "\n",
      "Please be aware that the number of elements in the argument list has to be the same as the dimension of the process:  1\n"
     ]
    }
   ],
   "source": [
    "# Voici les deux scripts destinés à gérer l'analyse de sensibilité sur les champs stochastiques\n",
    "import NdGaussianProcessSensitivity as ngps\n",
    "import NdGaussianProcessConstructor as ngpc\n",
    "# Classes utilitaires\n",
    "import numpy                        as np\n",
    "import openturns                    as ot\n",
    "import matplotlib.pyplot            as plt\n",
    "from   importlib                import reload \n",
    "\n",
    "# on importe aussi les fonctions à étudier\n",
    "import RandomBeamGenerationClass    as rbgc"
   ]
  },
  {
   "cell_type": "markdown",
   "metadata": {},
   "source": [
    "D'abord, nous définisson l'ensemble de nos variables d'entrée, tout comme les variables de sortie :\n",
    "- L'on va définir un par un tout les processus et variables aléatoires utilisées dans notre model. Bien sûr cela implique d'avoir un à-priori sur le comportement de ces différentes lois probabilistes. \n",
    "- Néanmoins, comme nous en sommes à des codes d'essai, il serait assez trivial de rajouter la prossiblité de récuperer l'approximation d'un champ inconnu avec l'approcimation de Karhunen - Loeve, en présence d'un grand nombre de mesures.\n",
    "- La définition des éléments sur lesquels est construit le champ stochastique est un peu différent de la manière interne à openturns. En effet, s'étant placés directement dans un cadre de poutre en 'éléments finis, ou l'on a N+1 noeuds (N étant le nombre de poutres), il faut savoir si N est le nombre de mailles ou le nombre de noeuds. Dans le choix a été fait ici de définir la taille du maillage (grid_shape) de la manière suivante :\n",
    "> grid_shape = [[position_X0, longeur_totaleX, nombre_mailles], [position_Y0, longeur_totaleY, nombre_mailles], ..]\n",
    " "
   ]
  },
  {
   "cell_type": "code",
   "execution_count": 3,
   "metadata": {},
   "outputs": [
    {
     "name": "stdout",
     "output_type": "stream",
     "text": [
      "trend function args:  ['x']  trend function:  210000 \n",
      "\n",
      "Please be aware that the number of elements in the argument list has to be the same as the dimension of the process:  1\n",
      "trend function args:  ['x']  trend function:  10 \n",
      "\n",
      "Please be aware that the number of elements in the argument list has to be the same as the dimension of the process:  1\n"
     ]
    }
   ],
   "source": [
    "# process governing the young modulus for each element      (MPa)\n",
    "process_E = ngpc.NdGaussianProcessConstructor(dimension=1,\n",
    "                                              grid_shape=[[0,1000,100],],\n",
    "                                              covariance_model={'NameModel':'MaternModel',\n",
    "                                                                'amplitude':50000.,\n",
    "                                                                'scale':300,\n",
    "                                                                'nu':13/3},\n",
    "                                              trend_arguments=['x'],trend_function=210000)\n",
    "process_E.setName('E_')\n",
    "\n",
    "\n",
    "# process governing the diameter for each element          (mm)\n",
    "process_D = ngpc.NdGaussianProcessConstructor(dimension=1,\n",
    "                                              grid_shape=[[0,1000,100],],\n",
    "                                              covariance_model={'NameModel':'MaternModel',\n",
    "                                                                'amplitude':.3,\n",
    "                                                                'scale':250,\n",
    "                                                                'nu':7.4/3},\n",
    "                                              trend_arguments=['x'],trend_function=10)\n",
    "process_D.setName('D_')\n",
    "\n",
    "\n",
    "# random variable for the density of the material (kg/m³)\n",
    "rho         = 7850.\n",
    "sigma       = 750\n",
    "nameD       = 'Rho'\n",
    "RV_Rho = ngpc.NormalDistribution(mu = rho, sigma = sigma, name = nameD)\n",
    "\n",
    "\n",
    "# random variable for the position of the force   (mm) \n",
    "middle       = 500\n",
    "sigma_f      = 50\n",
    "namePos     = 'FP'\n",
    "RV_Fpos = ngpc.NormalDistribution(mu = middle, sigma = sigma_f, name = namePos)\n",
    "\n",
    "\n",
    "# random variable for the norm of the force    (N)\n",
    "muForce       = 100\n",
    "# we go from sigma = 15 to sigma = 1.5, as the influence is too important\n",
    "sigma_Fnor    = 5.5\n",
    "nameNor       = 'FN'\n",
    "RV_Fnorm = ngpc.NormalDistribution(mu = muForce, sigma = sigma_Fnor, name = nameNor)"
   ]
  },
  {
   "cell_type": "markdown",
   "metadata": {},
   "source": [
    "Il est important de noter que les processus et variables aléatoires doivent être définies à partir du module \n",
    "NdGaussianProcessConstructor, qui contient les classes suivantes : \n",
    "###### Classe pour construire un champ stochastique : \n",
    "> NdGaussianProcessConstructor.NdGaussianProcessConstructor() \n",
    "###### Classe pour construire une variables aléatoire  : \n",
    "> NdGaussianProcessConstructor.NormalDistribution() ## Classe openturns.Normal() suchargée\n",
    "###### Classe pour construire un vecteur de variables aléatoires normales : \n",
    "> NdGaussianProcessConstructor.RandomNormalVector() ## Classe openturns.PythonRandomVector surchargée. Cette dernière est utilisée en interne par NdGaussianProcessConstructor.\n",
    "\n",
    "**Finalement, l'autre particularité du NdGaussianProcessConstructor, est d'utiliser un objet _numpy.memmap_ modifiée, qui enregistre les échantillons de processus gaussiens sous forme de fichier temporaire dans le directoire d'utilisation des codes et les éfface en sortant du code**\n",
    "\n",
    "L'on définit ensuite les variables de sortie. Il faut connaître l'ordre dans lequel la fonction renvoie ses resultats connaitre leur nom comme leur dimension. \n",
    "    "
   ]
  },
  {
   "cell_type": "code",
   "execution_count": 4,
   "metadata": {},
   "outputs": [],
   "source": [
    "from importlib import reload\n",
    "reload(ngps)\n",
    "outputVariables = {'out1' :\n",
    "                   {\n",
    "                         'name'     : 'VonMisesStress',\n",
    "                         'position' : 0,\n",
    "                         'shape'    : (102,)  \n",
    "                    },\n",
    "                   'out2' :\n",
    "                   {\n",
    "                        'name'      : 'maxDeflection',\n",
    "                        'position'  : 1,\n",
    "                        'shape'     : (1,)\n",
    "                   }\n",
    "                  }\n",
    "#Pour utiliser notre fonction, un wrapper a été spécialement écrit pour faciliter l'accès aux fonctions mais\n",
    "#ce choix est entièrement dépendant de la manière dont a été définie la fonction sur laquelle vous travaillez.\n",
    "functionWrapper = rbgc.sampleAndSoloFunctionWrapper(process_E, process_D, RV_Rho, RV_Fpos, RV_Fnorm)\n"
   ]
  },
  {
   "cell_type": "markdown",
   "metadata": {},
   "source": [
    "###### Ensuite, on crée une instance pour l'analyse de sensibilité.\n",
    "Il faut donner en entrée une liste contenant les procéssus et les variables aléatoires **dans l'ordre** dans lequel la fonction les recoit. \n",
    "\n",
    "*Pour cela il faut aussi connaître l'ordre des variables d'entrée de la fonction et leur nombre.*\n",
    "\n",
    "**Ces fonctions sont celles qui prennent entrée des champs aléatoires (vecteurs et matrices, de type *list ou numpy*) et variables aléatoire (scalaires (vecteurs 1D pour le multiprocessing)) et non pas les fonctions prennant en entrée les variables aléatoires issues de la décomposition de la Karhunen Loeve, qui elles sont construites en interne dans la classe**"
   ]
  },
  {
   "cell_type": "code",
   "execution_count": 5,
   "metadata": {
    "scrolled": true
   },
   "outputs": [
    {
     "name": "stdout",
     "output_type": "stream",
     "text": [
      "Input Variables are (without Karhunen Loeve Decomposition) :\n",
      " ['E_', 'D_', 'Rho', 'FP', 'FN'] \n",
      "\n",
      "Output Variables are :\n",
      " ['VonMisesStress', 'maxDeflection'] \n",
      "\n",
      "trend function args:  ['x']  trend function:  210000 \n",
      "\n",
      "Please be aware that the number of elements in the argument list has to be the same as the dimension of the process:  1\n",
      "trend function args:  ['x']  trend function:  10 \n",
      "\n",
      "Please be aware that the number of elements in the argument list has to be the same as the dimension of the process:  1\n"
     ]
    }
   ],
   "source": [
    "inputVarList = [process_E, process_D, RV_Rho, RV_Fpos, RV_Fnorm]\n",
    "# We also the need the two functions of the model (one for samples, the other for single evaluations)\n",
    "# In our case, as our model is defined as a class, we have to first create the model, \n",
    "# but it also could just be just two functions taking as an input the fields and RVs\n",
    "soloFunction   = functionWrapper.randomBeamFunctionSolo\n",
    "sampleFunction = functionWrapper.randomBeamFunctionSample\n",
    "##\n",
    "size           = 300 ## Number of samples for our sobol indicies experiment (kept low here to make things faster)\n",
    "##\n",
    "reload(ngps)\n",
    "##\n",
    "processSensitivityAnalysis = ngps.NdGaussianProcessSensitivityAnalysis(inputVarList, \n",
    "                                                                       outputVariables,\n",
    "                                                                       sampleFunction,\n",
    "                                                                       soloFunction,\n",
    "                                                                       size)"
   ]
  },
  {
   "cell_type": "markdown",
   "metadata": {},
   "source": [
    "Voici une vue du dictionnaire intermédiaire qui est crée une fois les processus et variables aléatoires d'entrées définies :\n",
    "\n",
    "On voit que la position des processus dans les arguments de la fonction d'entrée est enregistrée dans le dictionnaire dans la clé *position* et viennent de la manière de laquelle on a mis les VA et Processus dans le vecteur inputVarList. \n"
   ]
  },
  {
   "cell_type": "markdown",
   "metadata": {},
   "source": [
    "###### Ensuite, grace à l'intermédiaire de la classe ot.SobolIndiciesExperiment, on génère les' variables aléatoires d'entrée "
   ]
  },
  {
   "cell_type": "code",
   "execution_count": 6,
   "metadata": {},
   "outputs": [
    {
     "name": "stdout",
     "output_type": "stream",
     "text": [
      "Generation types:\n",
      "1 : Random (default)\n",
      "2 : LHS\n",
      "3 : LowDiscrepancySequence\n",
      "4 : SimulatedAnnealingLHS\n",
      "Choosen generation method is Random (default)\n",
      "number of samples for sobol experiment =  2100 \n",
      "\n",
      "input design is:  [[ 3.44247236e+00 -1.00588924e+00  2.27825020e+00 ...  7.49474948e+03\n",
      "   5.84540595e+02  9.89138462e+01]\n",
      " [ 6.39598533e+00 -8.08931511e-01  1.90416557e+00 ...  6.73182267e+03\n",
      "   4.74743630e+02  1.05077867e+02]\n",
      " [ 7.04623765e+00 -4.95026648e-01  3.42628932e+00 ...  8.51711430e+03\n",
      "   5.43333691e+02  1.00860614e+02]\n",
      " ...\n",
      " [ 6.30700184e+00 -6.49127195e-01  3.35130149e+00 ...  7.56682423e+03\n",
      "   4.63370043e+02  1.03152384e+02]\n",
      " [ 4.89915541e+00 -5.89385550e-01  4.04737836e+00 ...  7.40053516e+03\n",
      "   5.28179554e+02  9.84341515e+01]\n",
      " [ 6.16419390e+00 -2.15428386e+00  2.18312070e+00 ...  8.81867066e+03\n",
      "   5.20873080e+02  9.69968686e+01]]\n"
     ]
    }
   ],
   "source": [
    "processSensitivityAnalysis.prepareSobolIndicesExperiment()\n"
   ]
  },
  {
   "cell_type": "code",
   "execution_count": 7,
   "metadata": {},
   "outputs": [],
   "source": [
    "########\n",
    "## This is to check if we manage to regenerate missing values in the case of np.nan values\n",
    "########\n",
    "########\n",
    "#reload(ngps)\n",
    "#inputDes = np.load('inputDesign.npy',allow_pickle=True)\n",
    "#inputDesNc = np.load('inputDesignNc.npy',allow_pickle=True)\n",
    "#processSensitivityAnalysis = ngps.NdGaussianProcessSensitivityAnalysis(inputVarList, \n",
    "#                                                                       outputVariables,\n",
    " #                                                                      sampleFunction,\n",
    "  #                                                                     soloFunction,\n",
    "   #                                                                    size)\n",
    "#processSensitivityAnalysis.inputDesign = inputDes\n",
    "#processSensitivityAnalysis._inputDesignNC = inputDesNc\n",
    "#processSensitivityAnalysis.wrappedFunction(np.array(processSensitivityAnalysis._inputDesignNC))"
   ]
  },
  {
   "cell_type": "markdown",
   "metadata": {},
   "source": [
    "###### Ensuite on récupère les sorties associées aux entrées génerées. \n",
    "L'idée du postprocessing est d'identifier si dans les sorties il y a des valeurs de type np.nan, et de refaire les experiences manquantes tant qu'il y a des np.nan de présents.\n",
    "\n",
    "**Ceci crée quelques problèmes : En effet, si le calcul numérique n'a pas pu aboutir avec une certaine réalisation des variables en entrée, est-ce que cela veut dire que cette réalisation est défaillante? Va-t-on l'inclure dans le cas du calcul de la défaillance ou de la sensibilité? Car si on l'inclut pas, il se peut qu'on oublie un nombre conséquent de modes défaillants. Solution : changer le modèle informatique et le rendre robuste à ces erreurs, ou faire une étude précise avec ces réalisation particulières.**\n",
    "\n",
    "\n",
    "La solution retenue pour génerer les experiences manquantes est d'itérer au dessus de chaque index de la sortie ou se trouvent les nans, de refaire une experience de sobol de taille 1 ( donc qui renverra d+2 valeurs, avec d la dimension de l'entrée), de générer les sorties correspondant aux entrées (recommencer si il s'y trouve un np.nan), et de remplacer les d+2 valeurs du inputDesign d'entrée avec celles que l'on vient de regénérer. "
   ]
  },
  {
   "cell_type": "code",
   "execution_count": 8,
   "metadata": {
    "scrolled": false
   },
   "outputs": [
    {
     "name": "stderr",
     "output_type": "stream",
     "text": [
      "[Parallel(n_jobs=-1)]: Using backend LokyBackend with 4 concurrent workers.\n",
      "[Parallel(n_jobs=-1)]: Done   5 tasks      | elapsed:   10.0s\n",
      "[Parallel(n_jobs=-1)]: Done  10 tasks      | elapsed:   10.5s\n",
      "[Parallel(n_jobs=-1)]: Done  17 tasks      | elapsed:   10.9s\n",
      "[Parallel(n_jobs=-1)]: Done  24 tasks      | elapsed:   11.4s\n",
      "[Parallel(n_jobs=-1)]: Done  33 tasks      | elapsed:   11.8s\n",
      "[Parallel(n_jobs=-1)]: Done  42 tasks      | elapsed:   12.3s\n",
      "[Parallel(n_jobs=-1)]: Done  53 tasks      | elapsed:   12.9s\n",
      "[Parallel(n_jobs=-1)]: Done  64 tasks      | elapsed:   13.7s\n",
      "[Parallel(n_jobs=-1)]: Done  77 tasks      | elapsed:   14.5s\n",
      "[Parallel(n_jobs=-1)]: Done  90 tasks      | elapsed:   15.2s\n",
      "[Parallel(n_jobs=-1)]: Done 105 tasks      | elapsed:   16.1s\n",
      "[Parallel(n_jobs=-1)]: Done 120 tasks      | elapsed:   17.0s\n",
      "[Parallel(n_jobs=-1)]: Done 137 tasks      | elapsed:   18.2s\n",
      "[Parallel(n_jobs=-1)]: Done 154 tasks      | elapsed:   19.6s\n",
      "[Parallel(n_jobs=-1)]: Done 173 tasks      | elapsed:   21.1s\n",
      "[Parallel(n_jobs=-1)]: Done 192 tasks      | elapsed:   22.3s\n",
      "[Parallel(n_jobs=-1)]: Done 213 tasks      | elapsed:   23.6s\n",
      "[Parallel(n_jobs=-1)]: Done 234 tasks      | elapsed:   24.8s\n",
      "[Parallel(n_jobs=-1)]: Done 257 tasks      | elapsed:   26.6s\n",
      "[Parallel(n_jobs=-1)]: Done 280 tasks      | elapsed:   28.3s\n",
      "[Parallel(n_jobs=-1)]: Done 305 tasks      | elapsed:   29.6s\n",
      "[Parallel(n_jobs=-1)]: Done 330 tasks      | elapsed:   31.0s\n",
      "[Parallel(n_jobs=-1)]: Done 357 tasks      | elapsed:   32.5s\n",
      "[Parallel(n_jobs=-1)]: Done 384 tasks      | elapsed:   33.9s\n",
      "[Parallel(n_jobs=-1)]: Done 413 tasks      | elapsed:   35.4s\n",
      "[Parallel(n_jobs=-1)]: Done 442 tasks      | elapsed:   37.2s\n",
      "[Parallel(n_jobs=-1)]: Done 473 tasks      | elapsed:   38.9s\n",
      "[Parallel(n_jobs=-1)]: Done 504 tasks      | elapsed:   40.6s\n",
      "[Parallel(n_jobs=-1)]: Done 537 tasks      | elapsed:   42.5s\n",
      "[Parallel(n_jobs=-1)]: Done 570 tasks      | elapsed:   45.0s\n",
      "[Parallel(n_jobs=-1)]: Done 605 tasks      | elapsed:   47.7s\n",
      "[Parallel(n_jobs=-1)]: Done 640 tasks      | elapsed:   50.5s\n",
      "[Parallel(n_jobs=-1)]: Done 677 tasks      | elapsed:   53.2s\n",
      "[Parallel(n_jobs=-1)]: Done 714 tasks      | elapsed:   56.0s\n",
      "[Parallel(n_jobs=-1)]: Done 753 tasks      | elapsed:   58.9s\n",
      "[Parallel(n_jobs=-1)]: Done 792 tasks      | elapsed:  1.0min\n",
      "[Parallel(n_jobs=-1)]: Done 833 tasks      | elapsed:  1.1min\n",
      "[Parallel(n_jobs=-1)]: Done 874 tasks      | elapsed:  1.1min\n",
      "[Parallel(n_jobs=-1)]: Done 917 tasks      | elapsed:  1.2min\n",
      "[Parallel(n_jobs=-1)]: Done 960 tasks      | elapsed:  1.2min\n",
      "[Parallel(n_jobs=-1)]: Done 1005 tasks      | elapsed:  1.3min\n",
      "[Parallel(n_jobs=-1)]: Done 1050 tasks      | elapsed:  1.3min\n",
      "[Parallel(n_jobs=-1)]: Done 1097 tasks      | elapsed:  1.3min\n",
      "[Parallel(n_jobs=-1)]: Done 1144 tasks      | elapsed:  1.4min\n",
      "[Parallel(n_jobs=-1)]: Done 1193 tasks      | elapsed:  1.5min\n",
      "[Parallel(n_jobs=-1)]: Done 1242 tasks      | elapsed:  1.5min\n",
      "[Parallel(n_jobs=-1)]: Done 1293 tasks      | elapsed:  1.6min\n",
      "[Parallel(n_jobs=-1)]: Done 1344 tasks      | elapsed:  1.6min\n",
      "[Parallel(n_jobs=-1)]: Done 1397 tasks      | elapsed:  1.7min\n",
      "[Parallel(n_jobs=-1)]: Done 1450 tasks      | elapsed:  1.7min\n",
      "[Parallel(n_jobs=-1)]: Done 1505 tasks      | elapsed:  1.8min\n",
      "[Parallel(n_jobs=-1)]: Done 1560 tasks      | elapsed:  1.8min\n",
      "[Parallel(n_jobs=-1)]: Done 1617 tasks      | elapsed:  1.9min\n",
      "[Parallel(n_jobs=-1)]: Done 1674 tasks      | elapsed:  1.9min\n",
      "[Parallel(n_jobs=-1)]: Done 1733 tasks      | elapsed:  2.0min\n",
      "[Parallel(n_jobs=-1)]: Done 1792 tasks      | elapsed:  2.0min\n",
      "[Parallel(n_jobs=-1)]: Done 1853 tasks      | elapsed:  2.1min\n",
      "[Parallel(n_jobs=-1)]: Done 1914 tasks      | elapsed:  2.2min\n",
      "[Parallel(n_jobs=-1)]: Done 1977 tasks      | elapsed:  2.2min\n",
      "[Parallel(n_jobs=-1)]: Done 2040 tasks      | elapsed:  2.3min\n"
     ]
    },
    {
     "name": "stdout",
     "output_type": "stream",
     "text": [
      "shape deflection:  (2100, 103)  should be [N,10X] something\n",
      "deflection std deviation  6.696270394077768\n",
      "timed  142.764233351  s for function \" randomBeamFunctionSample \"\n",
      "Converting list of outputs into matrix: \n",
      "Element  1  has shape  (2100, 102)\n",
      "Element  2  has shape  (2100,)\n",
      "Final shape matrix:  (2100, 103)\n",
      "Columns where nan :  [] \n",
      "\n",
      "\n",
      "No errors while processing, the function has returned no np.nan.\n",
      "\n"
     ]
    },
    {
     "name": "stderr",
     "output_type": "stream",
     "text": [
      "[Parallel(n_jobs=-1)]: Done 2100 out of 2100 | elapsed:  2.4min finished\n"
     ]
    }
   ],
   "source": [
    "processSensitivityAnalysis.getOutputDesignAndPostprocess()"
   ]
  },
  {
   "cell_type": "markdown",
   "metadata": {},
   "source": [
    "Le *timing* vient de la classe ***custum_wraps***, qui est pour l'instant assez inutile, mais permet de prendre en main les décorateurs...\n",
    "\n",
    "Une fois le _output design_ generé, l'on peut faire l'analyse de sensibilité sur le model.\n",
    "Pour ce faire, l'on utilise la fonction ***self.getSobolIndiciesKLCoefs***.\n",
    "La fonction ne renvoie pas directement les indices de sobol, mais bien des champs d'objets ***openTURNS.SaltelliSensitivityAlgorithm*** ou ***openTURNS.MartinezSensitivityAlgorithm*** ou ***openTURNS.JansenSensitivityAlgorithm*** ou ***openTURNS.MauntzKucherenkoSensitivityAlgorithm***.\n",
    "\n",
    "Ceci est bien sûr fait dans l'optique de toujours pouvoir accéder à l'entierté des indices de sobol et indices totaux du modèle.\n",
    "Ceci veut aussi dire qu'il manque une dimension pour les champs en sortie, celle des variables d'entrée."
   ]
  },
  {
   "cell_type": "code",
   "execution_count": 45,
   "metadata": {},
   "outputs": [
    {
     "name": "stdout",
     "output_type": "stream",
     "text": [
      "Populating the interactive namespace from numpy and matplotlib\n"
     ]
    },
    {
     "data": {
      "text/plain": [
       "<module 'NdGaussianProcessSensitivityIndices' from '/home/simady/stochastic_process_analysis/NdGaussianProcessSensitivityIndices.py'>"
      ]
     },
     "execution_count": 45,
     "metadata": {},
     "output_type": "execute_result"
    }
   ],
   "source": [
    "%pylab inline\n",
    "pylab.rcParams['figure.figsize'] = (13, 5)\n",
    "import NdGaussianProcessSensitivityIndices as ngpsi\n",
    "reload(ngpsi)"
   ]
  },
  {
   "cell_type": "code",
   "execution_count": 46,
   "metadata": {},
   "outputs": [
    {
     "name": "stdout",
     "output_type": "stream",
     "text": [
      "Type= <class 'str'> <class 'str'>\n"
     ]
    },
    {
     "data": {
      "text/html": [
       "<TABLE><TR><TD></TD><TH>y0</TH></TR>\n",
       "<TR><TD>0</TD><TD>0.6666666666666666</TD></TR>\n",
       "<TR><TD>1</TD><TD>0.6666666666666666</TD></TR>\n",
       "</TABLE>"
      ],
      "text/plain": [
       "class=Sample name=Unnamed implementation=class=SampleImplementation name=Unnamed size=2 dimension=1 description=[y0] data=[[0.666667],[0.666667]]"
      ]
     },
     "execution_count": 46,
     "metadata": {},
     "output_type": "execute_result"
    }
   ],
   "source": [
    "f1,f2=ngpsi.NdGaussianProcessSensitivityIndicesBase.SymbolicSaltelliIndices(2)\n",
    "f1([[1,2,3,4],[1,2,3,4]])\n"
   ]
  },
  {
   "cell_type": "markdown",
   "metadata": {},
   "source": [
    "Ici on calcule les indices de sobol du premier ordre"
   ]
  },
  {
   "cell_type": "code",
   "execution_count": 47,
   "metadata": {},
   "outputs": [],
   "source": [
    "output = processSensitivityAnalysis.outputDesignList\n",
    "output1 = output[0]\n",
    "output2 = output[1]"
   ]
  },
  {
   "cell_type": "code",
   "execution_count": 48,
   "metadata": {
    "scrolled": true
   },
   "outputs": [
    {
     "name": "stdout",
     "output_type": "stream",
     "text": [
      "There are 5 indices to get in 1 dimensions with 1 elements\n",
      "Type= <class 'str'> <class 'str'>\n",
      "basic output shape is: (300,)\n",
      "dimension of output flattened to matrix (dim<=2)  1\n",
      "data for variance calculus prepared \n",
      " X_fo shape is (300, 1) Y_fo shape is (300, 1)\n",
      "covariance shape: (1, 600, 600)\n",
      "mean_psi shape  (600,)\n",
      "U.shape =  (600, 1) N =  300\n",
      "P2 shape (600,)\n",
      "variance is: nan\n",
      "covariance shape: (1, 600, 600)\n",
      "mean_psi shape  (600,)\n",
      "U.shape =  (600, 1) N =  300\n",
      "P2 shape (600,)\n",
      "variance is: nan\n",
      "basic output shape is: (300,)\n",
      "dimension of output flattened to matrix (dim<=2)  1\n",
      "data for variance calculus prepared \n",
      " X_fo shape is (300, 1) Y_fo shape is (300, 1)\n",
      "covariance shape: (1, 600, 600)\n",
      "mean_psi shape  (600,)\n",
      "U.shape =  (600, 1) N =  300\n",
      "P2 shape (600,)\n",
      "variance is: nan\n",
      "covariance shape: (1, 600, 600)\n",
      "mean_psi shape  (600,)\n",
      "U.shape =  (600, 1) N =  300\n",
      "P2 shape (600,)\n",
      "variance is: nan\n",
      "basic output shape is: (300,)\n",
      "dimension of output flattened to matrix (dim<=2)  1\n",
      "data for variance calculus prepared \n",
      " X_fo shape is (300, 1) Y_fo shape is (300, 1)\n",
      "covariance shape: (1, 600, 600)\n",
      "mean_psi shape  (600,)\n",
      "U.shape =  (600, 1) N =  300\n",
      "P2 shape (600,)\n",
      "variance is: nan\n",
      "covariance shape: (1, 600, 600)\n",
      "mean_psi shape  (600,)\n",
      "U.shape =  (600, 1) N =  300\n",
      "P2 shape (600,)\n",
      "variance is: nan\n",
      "basic output shape is: (300,)\n",
      "dimension of output flattened to matrix (dim<=2)  1\n",
      "data for variance calculus prepared \n",
      " X_fo shape is (300, 1) Y_fo shape is (300, 1)\n",
      "covariance shape: (1, 600, 600)\n",
      "mean_psi shape  (600,)\n",
      "U.shape =  (600, 1) N =  300\n",
      "P2 shape (600,)\n",
      "variance is: nan\n",
      "covariance shape: (1, 600, 600)\n",
      "mean_psi shape  (600,)\n",
      "U.shape =  (600, 1) N =  300\n",
      "P2 shape (600,)\n",
      "variance is: nan\n",
      "basic output shape is: (300,)\n",
      "dimension of output flattened to matrix (dim<=2)  1\n",
      "data for variance calculus prepared \n",
      " X_fo shape is (300, 1) Y_fo shape is (300, 1)\n",
      "covariance shape: (1, 600, 600)\n",
      "mean_psi shape  (600,)\n",
      "U.shape =  (600, 1) N =  300\n",
      "P2 shape (600,)\n",
      "variance is: nan\n",
      "covariance shape: (1, 600, 600)\n",
      "mean_psi shape  (600,)\n",
      "U.shape =  (600, 1) N =  300\n",
      "P2 shape (600,)\n",
      "variance is: nan\n",
      "Indices successfully calculated\n"
     ]
    }
   ],
   "source": [
    "#S, Stot, varS, varStot = ngpsi.NdGaussianProcessSensitivityIndicesBase.getSobolIndices(output1,300)\n",
    "S2, Stot2, varS2, varS2tot = ngpsi.NdGaussianProcessSensitivityIndicesBase.getSobolIndices(output2,300)"
   ]
  },
  {
   "cell_type": "markdown",
   "metadata": {},
   "source": [
    "L'on peut récuperer ces indices du premier ordre dans ***self.processSensitivityAnalysis.sensitivityResults.firstOrderIndices***\n",
    "Matplotlib permet de facilement visualiser ces indices. Néanmoins, cette visualisation est pour l'instant peu pertinente, puisque l'on visualise chaque variables aléatoire de Karhunen Loeve individuellement, alors qu'il nous faut encore combiner ces dernières pour que l'indice de sobol soit représentatif du champ stochastique consideré."
   ]
  },
  {
   "cell_type": "code",
   "execution_count": 40,
   "metadata": {
    "scrolled": true
   },
   "outputs": [
    {
     "name": "stdout",
     "output_type": "stream",
     "text": [
      "S2= [ 1.10831924 -0.00837783 -0.13879159 -0.12116655 -0.09232749]\n",
      "Stot2= [0.94551572 0.1671627  0.         0.00890477 0.07277785]\n",
      "varS2= [[nan]\n",
      " [nan]\n",
      " [nan]\n",
      " [nan]\n",
      " [nan]]\n",
      "varStot2= [[nan]\n",
      " [nan]\n",
      " [nan]\n",
      " [nan]\n",
      " [nan]]\n"
     ]
    }
   ],
   "source": [
    "print('S2=',S2)\n",
    "print('Stot2=',Stot2)\n",
    "print('varS2=',varS2)\n",
    "print('varStot2=',varS2tot)"
   ]
  },
  {
   "cell_type": "code",
   "execution_count": 19,
   "metadata": {},
   "outputs": [
    {
     "data": {
      "text/plain": [
       "<matplotlib.colorbar.Colorbar at 0x7eff875ebb38>"
      ]
     },
     "execution_count": 19,
     "metadata": {},
     "output_type": "execute_result"
    },
    {
     "data": {
      "image/png": "[encoded data removed]",
      "text/plain": [
       "<Figure size 936x360 with 2 Axes>"
      ]
     },
     "metadata": {
      "needs_background": "light"
     },
     "output_type": "display_data"
    }
   ],
   "source": [
    "plt.yticks([0,1,2,3,4],[\"Module d'Young\",'Diametre','Densité','Position Force','Norme Force'])\n",
    "x=plt.imshow(varS, cmap='CMRmap',aspect='auto')\n",
    "plt.colorbar()"
   ]
  },
  {
   "cell_type": "code",
   "execution_count": null,
   "metadata": {},
   "outputs": [],
   "source": []
  },
  {
   "cell_type": "code",
   "execution_count": 18,
   "metadata": {},
   "outputs": [
    {
     "data": {
      "text/plain": [
       "<matplotlib.colorbar.Colorbar at 0x7eff8765c160>"
      ]
     },
     "execution_count": 18,
     "metadata": {},
     "output_type": "execute_result"
    },
    {
     "data": {
      "image/png": "[encoded data removed]",
      "text/plain": [
       "<Figure size 936x360 with 2 Axes>"
      ]
     },
     "metadata": {
      "needs_background": "light"
     },
     "output_type": "display_data"
    }
   ],
   "source": [
    "#composedDist = processSensitivityAnalysis.wrappedFunction.KLComposedDistribution\n",
    "plt.yticks([0,1,2,3,4],[\"Module d'Young\",'Diametre','Densité','Position Force','Norme Force'])\n",
    "x=plt.imshow(S, cmap='CMRmap',aspect='auto')\n",
    "plt.colorbar()"
   ]
  },
  {
   "cell_type": "markdown",
   "metadata": {},
   "source": [
    "Test for the variance calculus"
   ]
  },
  {
   "cell_type": "code",
   "execution_count": 35,
   "metadata": {},
   "outputs": [
    {
     "name": "stdout",
     "output_type": "stream",
     "text": [
      "700\n",
      "[ 1.63760531e+00 -4.78315254e-01 -1.19888711e-01 -3.77998010e-01\n",
      "  1.69749102e+00  2.55701546e+00  1.14915089e+00 -2.07868935e+00\n",
      " -1.96251339e-01  5.30902196e-01  3.78009795e+00 -1.45594432e-01\n",
      " -1.15540790e+00  1.71104338e+00  9.97785906e-01  1.67383467e+00\n",
      " -1.65375707e+00 -2.03064749e+00  1.22311702e-01 -1.65356310e+00\n",
      "  2.67579641e+00 -3.28492924e+00 -1.47509712e+00 -7.65600063e-01\n",
      " -7.52751712e-01 -1.26409381e+00  4.28132467e-01 -2.07026887e+00\n",
      "  1.28535673e-01  3.68484450e+00  1.69125642e+00 -2.54403597e+00\n",
      "  1.13994001e+00  8.13911090e-01 -3.72690433e+00  2.16907423e+00\n",
      " -1.14820291e+00 -9.83591631e-01 -4.28193581e-01 -1.88828949e+00\n",
      " -4.16692190e-02  1.61591639e+00  3.66478156e+00 -7.35162278e-01\n",
      "  2.42987385e+00 -7.30271848e-01 -1.15899351e+00 -2.89967452e+00\n",
      "  2.69652507e+00  4.62711138e-01 -5.45200660e-02  4.85448728e+00\n",
      "  4.03552134e-02  1.27602546e+00  1.86903391e+00 -1.72216359e+00\n",
      " -2.02797162e+00 -7.41614642e-01  9.75425378e-01 -2.65851931e+00\n",
      " -7.15285383e-01  6.45402035e-01  8.59332302e-01 -1.34566146e+00\n",
      " -5.63102102e-01 -1.75530175e+00 -1.89397315e+00  2.62991200e-01\n",
      "  1.22873987e+00 -7.78556632e-01  2.54662862e-01  1.81333105e+00\n",
      " -1.47394151e+00 -2.80320546e+00 -1.19084955e-01  1.50012186e+00\n",
      "  4.74718090e-01 -2.51947420e+00 -2.17376092e-01  1.20385083e+00\n",
      "  1.72716402e+00  5.74321669e-02  6.25495388e-01 -3.11035875e+00\n",
      " -2.58411794e+00  1.86962035e+00  5.51082773e-01 -1.38949877e+00\n",
      " -2.24948681e+00  4.07867302e+00  1.83540755e+00  1.82373808e+00\n",
      "  6.94061233e-01  4.47615519e+00 -2.61248456e+00 -5.26558278e-01\n",
      "  1.34171200e+00 -2.92436872e+00 -1.19113507e+00 -2.03195285e+00\n",
      "  1.77587597e+00  5.13396211e-01  2.04461227e+00 -2.07041086e+00\n",
      "  2.96987242e+00 -1.69726551e+00 -2.19088992e-02 -1.28839574e+00\n",
      "  1.50305674e+00 -2.44887769e-01  1.12844003e+00 -8.28875566e-03\n",
      " -4.90724036e-01  1.35171814e+00  3.23811939e+00 -1.41629961e+00\n",
      " -2.74650931e+00 -1.08244913e+00 -3.16577977e+00 -3.29990690e+00\n",
      " -5.09665690e-01 -4.24420809e+00 -1.45164076e-01 -1.21825561e+00\n",
      " -1.37886163e-01 -3.26587584e+00 -1.47419970e+00  3.64333301e-01\n",
      "  5.90532067e+00  3.78009917e-01 -1.26270611e+00  1.50289706e+00\n",
      "  3.16107561e+00 -4.80667664e+00  1.32434386e+00 -1.00928933e+00\n",
      "  6.58143736e-01 -2.94853411e-01  3.47503388e+00  1.52531756e+00\n",
      " -2.84903905e+00 -2.69189888e-01  8.97289247e-01  1.86330003e+00\n",
      " -1.91862942e+00  1.02241452e+00  2.83650560e+00  2.81148049e+00\n",
      "  1.27521590e-01 -4.99313534e+00  5.71932610e-01 -9.80631545e-01\n",
      " -9.52109724e-01 -1.45607804e+00  1.17157061e+00 -2.24853235e+00\n",
      "  1.59783303e+00 -7.00515906e-01  9.05815821e+00 -3.63583235e+00\n",
      " -1.72570753e-01  1.61135846e+00  1.11398374e+00 -3.69018885e-01\n",
      "  5.15348142e-01 -3.04205983e+00  2.09048197e-01 -1.58457102e+00\n",
      "  5.16939556e-01 -2.26305233e+00  8.57127605e-01 -9.20948161e-01\n",
      "  1.86554538e+00  7.22342419e-01 -1.37436648e+00  4.46143448e-01\n",
      " -1.75817542e+00  2.37248937e+00  7.33820087e-01  8.13401542e-01\n",
      "  8.80966529e-02 -1.91267988e+00  2.74148761e+00 -1.95608716e+00\n",
      " -9.58997445e-01 -3.21379197e+00  5.76743505e-01  2.92131512e+00\n",
      "  5.11566697e+00  2.81851144e+00  2.00156396e+00 -3.09893948e+00\n",
      " -2.95582375e+00  2.50675875e-01 -2.61944306e+00 -1.34330134e-01\n",
      "  7.87198417e-01 -1.81993180e+00  5.36748550e-01  1.66695933e+00\n",
      "  4.84285644e-01 -2.27759239e-01 -4.20353086e-02 -6.85349244e-01\n",
      "  1.66466123e+00  2.06796025e+00  1.03796511e+00 -1.88775828e+00\n",
      " -1.71711850e-01 -4.53329730e-01  3.30215557e+00 -1.47394595e+00\n",
      " -8.14981851e-01  1.90319843e+00  2.00207969e+00  1.78771890e+00\n",
      " -2.06712702e+00 -1.37215857e+00 -3.01185556e-01 -1.32138126e+00\n",
      "  2.41456162e+00 -3.15101315e+00 -1.26091548e+00 -1.11008858e+00\n",
      " -5.25869733e-01 -1.23931543e+00  1.23528188e+00 -2.25324779e+00\n",
      "  1.20458622e+00  2.70583752e+00  1.91235497e+00 -2.60469007e+00\n",
      "  2.20423548e+00  2.07673472e-01 -3.68853441e+00  1.61047903e+00\n",
      " -2.16027263e+00 -1.33566024e+00 -3.60694474e-01 -1.51251652e+00\n",
      " -4.25482124e-01  1.14058159e+00  2.34550502e+00 -5.42735242e-01\n",
      "  2.34292381e+00 -5.69576717e-01 -1.79574879e+00 -2.90042287e+00\n",
      "  2.27104793e+00  7.40766772e-01  1.39297284e-01  5.76632934e+00\n",
      "  3.81972020e-01  1.68875625e+00  1.97375452e+00 -1.29359248e+00\n",
      " -1.99721431e+00 -6.42468796e-01  3.12909105e-01 -2.80329961e+00\n",
      " -6.94949119e-01  8.78715630e-01  9.10894577e-01 -1.58722828e+00\n",
      " -2.06564876e-01 -1.10670681e+00 -1.82639475e+00 -1.25368204e+00\n",
      "  1.66630061e+00 -1.18189763e-01  3.80837699e-01  2.21050303e+00\n",
      " -1.11252339e+00 -2.52282032e+00 -5.36457239e-01  2.23508906e+00\n",
      "  7.94628670e-01 -2.62749781e+00 -4.72067917e-01  1.29753630e+00\n",
      "  1.01799332e+00 -3.66132051e-01  4.50749510e-01 -2.57163727e+00\n",
      " -1.37666917e+00  2.57087537e+00 -9.34552025e-02 -1.18179905e+00\n",
      " -2.46735503e+00  2.96465219e+00  2.18309720e+00  2.42623144e+00\n",
      "  3.93944878e-01  4.83815603e+00 -2.42258906e+00 -1.24836160e-01\n",
      "  2.31376923e+00 -3.03875884e+00 -1.39782057e+00 -2.28463539e+00\n",
      "  2.53148795e+00 -1.19648622e+00  2.44898441e+00 -1.32983522e+00\n",
      "  3.44753063e+00 -9.49916529e-01  3.31934255e-01 -1.60276502e+00\n",
      "  1.14421543e+00  2.23024393e-01  2.04454171e+00  9.90240334e-01\n",
      " -1.28789753e+00  1.86689747e+00  1.90978464e+00 -1.84044563e+00\n",
      " -1.57794286e+00 -1.27095121e+00 -2.51019217e+00 -3.62821266e+00\n",
      "  1.30593947e+00 -4.88509925e+00 -5.28768455e-01 -6.02908872e-01\n",
      "  1.27645750e+00 -3.79854251e+00 -2.37621122e+00  2.55210681e+00\n",
      "  3.27585970e+00  1.05720605e+00 -1.06053046e+00  1.30350937e+00\n",
      "  1.43392671e+00 -3.20050890e+00  2.58563798e+00  3.21969318e-01\n",
      "  1.50249364e+00 -5.46723084e-02  3.28518985e+00  8.73056049e-01\n",
      " -2.38156331e+00 -9.89251350e-01  2.03214358e+00  9.21724108e-01\n",
      " -1.84796473e+00  1.59259573e+00  3.41066687e+00  9.95413918e-01\n",
      "  8.64116753e-01 -4.81117182e+00  7.44045240e-01 -8.64573465e-01\n",
      " -1.48658229e+00 -1.54954869e+00  8.35040698e-01 -2.55862450e+00\n",
      "  2.07783548e+00  2.12360105e-02  9.63905116e+00 -3.31304277e+00\n",
      "  7.41930918e-01  1.45575418e+00  1.49481949e+00 -6.01073638e-01\n",
      "  2.26494045e-01 -2.56594766e+00 -3.07962540e-01  3.99919851e-01\n",
      "  6.89806131e-01 -2.79618769e+00  7.72196111e-01 -7.44965358e-01\n",
      "  1.39047182e+00 -4.70182047e-01 -1.57330109e+00 -1.30614406e+00\n",
      " -1.82261108e+00  3.26451428e+00  1.19699158e+00  1.48841682e+00\n",
      " -5.77502788e-01 -1.95055512e+00  1.78955869e+00 -1.80156951e+00\n",
      " -2.88582062e+00 -4.37137779e+00  1.20875262e+00  1.60162256e+00\n",
      " -2.13366402e-01  4.24932261e+00  1.61258694e+00 -1.93612061e+00\n",
      " -3.15939733e+00  4.76728975e-01 -2.40634414e+00 -3.56613276e-01\n",
      " -6.64351828e-01 -1.75180428e+00 -2.57192190e-01  3.11885017e+00\n",
      "  1.63760531e+00 -4.78315254e-01 -1.19888711e-01 -3.77998010e-01\n",
      "  1.69749102e+00  2.55701546e+00  1.14915089e+00 -2.07868935e+00\n",
      " -1.96251339e-01  5.30902196e-01  3.78009795e+00 -1.45594432e-01\n",
      " -1.15540790e+00  1.71104338e+00  9.97785906e-01  1.67383467e+00\n",
      " -1.65375707e+00 -2.03064749e+00  1.22311702e-01 -1.65356310e+00\n",
      "  2.67579641e+00 -3.28492924e+00 -1.47509712e+00 -7.65600063e-01\n",
      " -7.52751712e-01 -1.26409381e+00  4.28132467e-01 -2.07026887e+00\n",
      "  1.28535673e-01  3.68484450e+00  1.69125642e+00 -2.54403597e+00\n",
      "  1.13994001e+00  8.13911090e-01 -3.72690433e+00  2.16907423e+00\n",
      " -1.14820291e+00 -9.83591631e-01 -4.28193581e-01 -1.88828949e+00\n",
      " -4.16692190e-02  1.61591639e+00  3.66478156e+00 -7.35162278e-01\n",
      "  2.42987385e+00 -7.30271848e-01 -1.15899351e+00 -2.89967452e+00\n",
      "  2.69652507e+00  4.62711138e-01 -5.45200660e-02  4.85448728e+00\n",
      "  4.03552134e-02  1.27602546e+00  1.86903391e+00 -1.72216359e+00\n",
      " -2.02797162e+00 -7.41614642e-01  9.75425378e-01 -2.65851931e+00\n",
      " -7.15285383e-01  6.45402035e-01  8.59332302e-01 -1.34566146e+00\n",
      " -5.63102102e-01 -1.75530175e+00 -1.89397315e+00  2.62991200e-01\n",
      "  1.22873987e+00 -7.78556632e-01  2.54662862e-01  1.81333105e+00\n",
      " -1.47394151e+00 -2.80320546e+00 -1.19084955e-01  1.50012186e+00\n",
      "  4.74718090e-01 -2.51947420e+00 -2.17376092e-01  1.20385083e+00\n",
      "  1.72716402e+00  5.74321669e-02  6.25495388e-01 -3.11035875e+00\n",
      " -2.58411794e+00  1.86962035e+00  5.51082773e-01 -1.38949877e+00\n",
      " -2.24948681e+00  4.07867302e+00  1.83540755e+00  1.82373808e+00\n",
      "  6.94061233e-01  4.47615519e+00 -2.61248456e+00 -5.26558278e-01\n",
      "  1.34171200e+00 -2.92436872e+00 -1.19113507e+00 -2.03195285e+00\n",
      " -3.84404383e-02 -4.14799437e-01 -1.42309780e+00 -9.11878187e-01\n",
      "  1.70970579e+00  2.38062627e+00  1.05562065e+00 -2.57629950e+00\n",
      "  9.51667114e-02  1.04362387e+00  3.74641517e+00 -1.59985278e-01\n",
      " -6.54231806e-01  1.85499497e+00  6.09011722e-01  1.82171167e+00\n",
      " -2.82343588e+00 -2.09354675e+00  7.97989094e-02 -1.67557812e+00\n",
      "  1.58661336e+00 -2.84057649e+00 -1.42829725e+00  1.13828249e-01\n",
      " -7.21085361e-01 -6.10307672e-01  1.57514414e+00 -2.57498451e+00\n",
      "  5.24350828e-02  3.71089099e+00  1.21355427e+00 -2.70268357e+00\n",
      "  1.55355183e+00 -6.37121673e-01 -3.81618897e+00  1.93133173e+00\n",
      " -1.15502638e+00 -9.61918693e-01 -4.14731454e-01 -1.69312057e+00\n",
      "  4.82833946e-01  3.53318241e+00  3.79452299e+00 -7.13598281e-01\n",
      "  2.00534671e+00 -7.78834611e-01 -1.31861807e+00 -1.90968697e+00\n",
      "  2.74923163e+00  3.27820384e-01 -9.50663180e-02  4.61890283e+00\n",
      "  1.94819838e-01  1.26756056e+00  2.39886764e+00 -9.74219603e-01\n",
      " -2.01655815e+00 -9.86681562e-01  8.91494373e-01 -2.84990840e+00\n",
      " -1.15967996e+00  7.83202627e-01  3.43193542e-01 -1.74727183e+00\n",
      " -5.34653510e-01 -2.63186361e+00 -1.69684072e+00  3.86585466e-01\n",
      "  1.11062985e+00 -1.41136506e+00  2.63406012e-01  1.12758410e+00\n",
      " -1.52883973e+00 -2.27164173e+00  1.82116736e-01  1.53834853e+00\n",
      "  5.59726696e-01 -3.22553018e+00 -3.30626438e-02  1.56160510e+00\n",
      "  2.32211203e+00 -6.09472092e-02  7.14109773e-01 -3.33603469e+00\n",
      " -2.48203526e+00  2.18621715e+00  8.98511662e-01 -1.40430790e+00\n",
      "  6.58284134e-01  4.19853445e+00  1.88156326e+00  7.44881430e-01\n",
      "  8.36628586e-01  4.42095006e+00 -2.79802082e+00 -7.60802902e-01\n",
      "  1.74556360e+00 -2.55190208e+00 -6.06775856e-01 -2.65028005e+00\n",
      "  2.66413349e+00  9.74582726e-01  1.65903054e-02 -3.25104182e-01\n",
      "  1.28068238e+00  2.37387539e+00  1.07127313e+00 -1.43890636e+00\n",
      " -1.16245832e-01  8.39783211e-01  3.32041784e+00  2.30120475e-01\n",
      " -1.31303866e+00  9.69607659e-01  1.37255035e+00  1.92778741e+00\n",
      " -1.58799656e+00 -2.20762519e+00 -9.42069597e-02 -1.55800095e+00\n",
      "  2.23532917e+00 -3.19936342e+00 -1.37531991e+00 -1.09857778e+00\n",
      " -2.23655854e+00 -1.38228405e+00  3.69370947e-01 -2.99976251e+00\n",
      "  9.25705065e-01  3.90989463e+00  1.62672783e+00 -2.09679887e+00\n",
      "  1.21704262e+00  7.53627829e-01 -4.40106943e+00  1.70509647e+00\n",
      " -1.22766775e+00 -8.00257457e-01 -3.57487459e-01 -1.93503865e+00\n",
      " -5.86576313e-01  1.30196326e+00  3.90915864e+00 -1.30656344e-01\n",
      "  2.84986763e+00 -1.12512746e+00 -9.06706587e-01 -2.15605894e+00\n",
      "  2.19288242e+00  2.37998518e-01 -2.77552036e-01  4.07819413e+00\n",
      "  1.89774763e-01  9.14120585e-01  1.44923474e+00 -2.30138950e+00\n",
      " -2.25497672e+00 -1.06243454e+00  1.34858272e+00 -2.12527394e+00\n",
      " -1.21169951e+00  4.76953201e-01  8.34675213e-01 -6.76325828e-01\n",
      " -6.69233324e-01 -1.98502903e+00 -1.77096361e+00 -2.48532279e-01\n",
      "  1.11090452e+00 -4.90571895e-01  2.05365724e-01  1.99938636e+00\n",
      " -1.37804791e+00 -2.72608617e+00  7.84517951e-02  2.29416618e+00\n",
      "  2.33642965e-01 -2.14745686e+00 -5.49442943e-01  5.93858272e-01\n",
      "  2.56792600e+00 -2.07372543e-01  1.37289672e+00 -3.13636288e+00\n",
      " -1.80169854e+00  1.69351498e+00  2.82598615e-01 -6.85379552e-01\n",
      " -1.09911636e+00  3.98794704e+00  1.84768620e+00  1.15891555e+00\n",
      "  5.34245477e-01  4.06688263e+00 -2.73367837e+00 -3.80314485e-01\n",
      "  1.58370969e+00 -3.05661359e+00 -1.23353396e+00 -2.31418093e+00]\n"
     ]
    }
   ],
   "source": [
    "outputDim0 = output2.shape[0];print(outputDim0)\n",
    "inputDim = 5 #(5 dimensions)\n",
    "N = 100\n",
    "print(output2)"
   ]
  },
  {
   "cell_type": "code",
   "execution_count": 36,
   "metadata": {
    "scrolled": true
   },
   "outputs": [
    {
     "name": "stdout",
     "output_type": "stream",
     "text": [
      "Type= <class 'str'> <class 'str'>\n"
     ]
    },
    {
     "ename": "TypeError",
     "evalue": "Wrong number or type of arguments for overloaded function 'new_Sample'.\n  Possible C/C++ prototypes are:\n    OT::Sample::Sample()\n    OT::Sample::Sample(OT::UnsignedInteger const,OT::UnsignedInteger const)\n    OT::Sample::Sample(OT::UnsignedInteger const,OT::Point const &)\n    OT::Sample::Sample(OT::Sample const &,OT::UnsignedInteger const,OT::UnsignedInteger const)\n    OT::Sample::Sample(OT::SampleImplementation const &)\n    OT::Sample::Sample(OT::Sample const &)\n    OT::Sample::Sample(PyObject *)\n    OT::Sample::Sample(PyObject *,OT::UnsignedInteger)\n",
     "output_type": "error",
     "traceback": [
      "\u001b[0;31m---------------------------------------------------------------------------\u001b[0m",
      "\u001b[0;31mTypeError\u001b[0m                                 Traceback (most recent call last)",
      "\u001b[0;32m<ipython-input-36-960ed059f309>\u001b[0m in \u001b[0;36m<module>\u001b[0;34m\u001b[0m\n\u001b[1;32m      2\u001b[0m                                                               \u001b[0minputDim\u001b[0m\u001b[0;34m,\u001b[0m\u001b[0;34m\u001b[0m\u001b[0;34m\u001b[0m\u001b[0m\n\u001b[1;32m      3\u001b[0m                                                              \u001b[0mN\u001b[0m\u001b[0;34m,\u001b[0m\u001b[0;34m\u001b[0m\u001b[0;34m\u001b[0m\u001b[0m\n\u001b[0;32m----> 4\u001b[0;31m                                                              output2)\n\u001b[0m",
      "\u001b[0;32m~/Documents/Ecole_Fichiers_Importants/stage_phimeca/docsPhimecaStage/project_sensitivity_analysis_stochastic_fields/gitRepo/NdGaussianProcessSensitivityIndices.py\u001b[0m in \u001b[0;36mcomputeVariance\u001b[0;34m(outputDim, inputDim, N, outputDesign)\u001b[0m\n\u001b[1;32m    148\u001b[0m         \u001b[0;32mfor\u001b[0m \u001b[0mq\u001b[0m \u001b[0;32min\u001b[0m \u001b[0mrange\u001b[0m\u001b[0;34m(\u001b[0m\u001b[0moutputDim\u001b[0m\u001b[0;34m)\u001b[0m\u001b[0;34m:\u001b[0m\u001b[0;34m\u001b[0m\u001b[0;34m\u001b[0m\u001b[0m\n\u001b[1;32m    149\u001b[0m \u001b[0;34m\u001b[0m\u001b[0m\n\u001b[0;32m--> 150\u001b[0;31m             \u001b[0myA\u001b[0m \u001b[0;34m=\u001b[0m \u001b[0mot\u001b[0m\u001b[0;34m.\u001b[0m\u001b[0mSample\u001b[0m\u001b[0;34m(\u001b[0m\u001b[0moutputDesign\u001b[0m\u001b[0;34m[\u001b[0m\u001b[0;34m:\u001b[0m\u001b[0;34m,\u001b[0m \u001b[0mq\u001b[0m\u001b[0;34m]\u001b[0m\u001b[0;34m,\u001b[0m \u001b[0;36m0\u001b[0m\u001b[0;34m,\u001b[0m \u001b[0mN\u001b[0m\u001b[0;34m)\u001b[0m\u001b[0;34m\u001b[0m\u001b[0;34m\u001b[0m\u001b[0m\n\u001b[0m\u001b[1;32m    151\u001b[0m             \u001b[0myB\u001b[0m \u001b[0;34m=\u001b[0m \u001b[0mot\u001b[0m\u001b[0;34m.\u001b[0m\u001b[0mSample\u001b[0m\u001b[0;34m(\u001b[0m\u001b[0moutputDesign\u001b[0m\u001b[0;34m[\u001b[0m\u001b[0;34m:\u001b[0m\u001b[0;34m,\u001b[0m \u001b[0mq\u001b[0m\u001b[0;34m]\u001b[0m\u001b[0;34m,\u001b[0m \u001b[0mN\u001b[0m\u001b[0;34m,\u001b[0m \u001b[0;36m2\u001b[0m \u001b[0;34m*\u001b[0m \u001b[0mN\u001b[0m\u001b[0;34m)\u001b[0m\u001b[0;34m\u001b[0m\u001b[0;34m\u001b[0m\u001b[0m\n\u001b[1;32m    152\u001b[0m             \u001b[0myAc\u001b[0m \u001b[0;34m=\u001b[0m \u001b[0;34m(\u001b[0m\u001b[0myA\u001b[0m \u001b[0;34m-\u001b[0m \u001b[0myA\u001b[0m\u001b[0;34m.\u001b[0m\u001b[0mcomputeMean\u001b[0m\u001b[0;34m(\u001b[0m\u001b[0;34m)\u001b[0m\u001b[0;34m[\u001b[0m\u001b[0;36m0\u001b[0m\u001b[0;34m]\u001b[0m\u001b[0;34m)\u001b[0m\u001b[0;34m\u001b[0m\u001b[0;34m\u001b[0m\u001b[0m\n",
      "\u001b[0;32m~/anaconda3/envs/stochastic_field_env/lib/python3.6/site-packages/openturns/typ.py\u001b[0m in \u001b[0;36m__init__\u001b[0;34m(self, *args)\u001b[0m\n\u001b[1;32m   9196\u001b[0m \u001b[0;34m\u001b[0m\u001b[0m\n\u001b[1;32m   9197\u001b[0m     \u001b[0;32mdef\u001b[0m \u001b[0m__init__\u001b[0m\u001b[0;34m(\u001b[0m\u001b[0mself\u001b[0m\u001b[0;34m,\u001b[0m \u001b[0;34m*\u001b[0m\u001b[0margs\u001b[0m\u001b[0;34m)\u001b[0m\u001b[0;34m:\u001b[0m\u001b[0;34m\u001b[0m\u001b[0;34m\u001b[0m\u001b[0m\n\u001b[0;32m-> 9198\u001b[0;31m         \u001b[0m_typ\u001b[0m\u001b[0;34m.\u001b[0m\u001b[0mSample_swiginit\u001b[0m\u001b[0;34m(\u001b[0m\u001b[0mself\u001b[0m\u001b[0;34m,\u001b[0m \u001b[0m_typ\u001b[0m\u001b[0;34m.\u001b[0m\u001b[0mnew_Sample\u001b[0m\u001b[0;34m(\u001b[0m\u001b[0;34m*\u001b[0m\u001b[0margs\u001b[0m\u001b[0;34m)\u001b[0m\u001b[0;34m)\u001b[0m\u001b[0;34m\u001b[0m\u001b[0;34m\u001b[0m\u001b[0m\n\u001b[0m\u001b[1;32m   9199\u001b[0m \u001b[0;34m\u001b[0m\u001b[0m\n\u001b[1;32m   9200\u001b[0m     \u001b[0;32mdef\u001b[0m \u001b[0m__eq__\u001b[0m\u001b[0;34m(\u001b[0m\u001b[0mself\u001b[0m\u001b[0;34m,\u001b[0m \u001b[0;34m*\u001b[0m\u001b[0margs\u001b[0m\u001b[0;34m)\u001b[0m\u001b[0;34m:\u001b[0m\u001b[0;34m\u001b[0m\u001b[0;34m\u001b[0m\u001b[0m\n",
      "\u001b[0;31mTypeError\u001b[0m: Wrong number or type of arguments for overloaded function 'new_Sample'.\n  Possible C/C++ prototypes are:\n    OT::Sample::Sample()\n    OT::Sample::Sample(OT::UnsignedInteger const,OT::UnsignedInteger const)\n    OT::Sample::Sample(OT::UnsignedInteger const,OT::Point const &)\n    OT::Sample::Sample(OT::Sample const &,OT::UnsignedInteger const,OT::UnsignedInteger const)\n    OT::Sample::Sample(OT::SampleImplementation const &)\n    OT::Sample::Sample(OT::Sample const &)\n    OT::Sample::Sample(PyObject *)\n    OT::Sample::Sample(PyObject *,OT::UnsignedInteger)\n"
     ]
    }
   ],
   "source": [
    "ngpsi.NdGaussianProcessSensitivityIndicesBase.computeVariance(1, \n",
    "                                                              inputDim,\n",
    "                                                             N,\n",
    "                                                             output2)"
   ]
  },
  {
   "cell_type": "code",
   "execution_count": 13,
   "metadata": {},
   "outputs": [
    {
     "data": {
      "text/plain": [
       "array([0.08601872, 0.08547804, 0.08620669, 0.08568251, 0.08601311,\n",
       "       0.08578023, 0.08613621, 0.08552265, 0.71706062, 0.07892405,\n",
       "       0.30728588, 0.08654384, 0.1486659 , 0.08826203, 0.10424489,\n",
       "       0.08595951, 0.08635407, 0.08553134, 0.09393664, 0.08569704,\n",
       "       0.08512893, 0.08552265, 0.55049437, 0.09713508])"
      ]
     },
     "execution_count": 13,
     "metadata": {},
     "output_type": "execute_result"
    }
   ],
   "source": [
    "S_fo[...,50]"
   ]
  },
  {
   "cell_type": "code",
   "execution_count": 14,
   "metadata": {},
   "outputs": [
    {
     "data": {
      "image/png": "[encoded data removed]",
      "text/plain": [
       "<Figure size 432x288 with 1 Axes>"
      ]
     },
     "metadata": {
      "needs_background": "light"
     },
     "output_type": "display_data"
    }
   ],
   "source": [
    "im2 = plt.imshow(processSensitivityAnalysis.sensitivityResults.firstOrderIndices[1])\n",
    "plt.show()"
   ]
  },
  {
   "cell_type": "code",
   "execution_count": 15,
   "metadata": {},
   "outputs": [],
   "source": [
    "#im2.write_png('sensitivity_rv_KL')"
   ]
  },
  {
   "cell_type": "code",
   "execution_count": 16,
   "metadata": {},
   "outputs": [
    {
     "data": {
      "text/plain": [
       "<bound method OpenturnsPythonFunctionWrapper.getKLDecompositionVarNames of OpenTURNSPythonFunction( ['E_xi_0', 'E_xi_1', 'E_xi_2', 'E_xi_3', 'E_xi_4', 'E_xi_5', 'E_xi_6', 'E_xi_7', 'D_xi_0', 'D_xi_1', 'D_xi_2', 'D_xi_3', 'D_xi_4', 'D_xi_5', 'D_xi_6', 'D_xi_7', 'D_xi_8', 'D_xi_9', 'D_xi_10', 'D_xi_11', 'D_xi_12', 'Rho', 'FP', 'FN'] #24 ) -> ['VonMisesStress', 'maxDeflection'] #2>"
      ]
     },
     "execution_count": 16,
     "metadata": {},
     "output_type": "execute_result"
    }
   ],
   "source": [
    "processSensitivityAnalysis.wrappedFunction.getKLDecompositionVarNames"
   ]
  },
  {
   "cell_type": "code",
   "execution_count": 17,
   "metadata": {},
   "outputs": [
    {
     "data": {
      "text/plain": [
       "array([ 1.35742834e+00,  2.41909919e+00,  2.59960138e+00,  2.75827682e+00,\n",
       "        2.92861283e+00,  3.11414251e+00,  3.31384803e+00,  3.52462076e+00,\n",
       "        3.74177676e+00,  3.95938163e+00,  4.17068370e+00,  4.36870473e+00,\n",
       "        4.54693575e+00,  4.70002152e+00,  4.82430083e+00,  4.91811368e+00,\n",
       "        4.98186772e+00,  5.01792951e+00,  5.03042610e+00,  5.02500401e+00,\n",
       "        5.00852295e+00,  4.98861059e+00,  4.97300707e+00,  4.96869211e+00,\n",
       "        4.98088838e+00,  5.01212394e+00,  5.06157326e+00,  5.12485795e+00,\n",
       "        5.19438758e+00,  5.26019244e+00,  5.31108816e+00,  5.33595514e+00,\n",
       "        5.32492498e+00,  5.27032995e+00,  5.16735411e+00,  5.01438855e+00,\n",
       "        4.83250542e+00,  4.49415639e+00,  4.09359539e+00,  3.70865288e+00,\n",
       "        3.53512859e+00,  3.64103633e+00,  4.04378400e+00,  4.32901214e+00,\n",
       "        4.66390936e+00,  5.03552912e+00,  5.42243389e+00,  5.76481451e+00,\n",
       "        5.54755657e+00,  4.75966518e+00,  3.47358499e+00,  2.12731743e+00,\n",
       "        1.23736209e+00,  3.56274564e-01, -3.40818501e-01, -6.82281113e-01,\n",
       "       -9.42608392e-01, -9.81104010e-01, -8.90698838e-01, -6.57481739e-01,\n",
       "       -3.88165976e-01, -5.07145175e-02,  3.67692954e-02,  8.81221047e-02,\n",
       "        1.75015813e-01,  2.83932921e-01,  3.59866669e-01,  3.46764868e-01,\n",
       "        3.00394507e-01,  2.23017828e-01,  1.19017528e-01, -5.64492034e-03,\n",
       "       -1.44111044e-01, -2.89327261e-01, -4.34658305e-01, -5.74342923e-01,\n",
       "       -7.03772096e-01, -8.19608562e-01, -9.19781176e-01, -1.00338083e+00,\n",
       "       -1.07047000e+00, -1.12181084e+00, -1.15852508e+00, -1.18172001e+00,\n",
       "       -1.19213668e+00, -1.18988869e+00, -1.17435274e+00, -1.14424624e+00,\n",
       "       -1.09788593e+00, -1.03357584e+00, -9.50036676e-01, -8.46776988e-01,\n",
       "       -7.24325530e-01, -5.84288676e-01, -4.29246280e-01, -2.62534235e-01,\n",
       "       -8.79723276e-02,  9.04099123e-02,  2.68591949e-01,  4.42573934e-01,\n",
       "        6.07319483e-01,  7.44152213e-01])"
      ]
     },
     "execution_count": 17,
     "metadata": {},
     "output_type": "execute_result"
    }
   ],
   "source": [
    "np.sum(S_fo, axis=0)"
   ]
  },
  {
   "cell_type": "code",
   "execution_count": null,
   "metadata": {},
   "outputs": [],
   "source": [
    "S_f"
   ]
  }
 ],
 "metadata": {
  "kernelspec": {
   "display_name": "Python 3",
   "language": "python",
   "name": "python3"
  },
  "language_info": {
   "codemirror_mode": {
    "name": "ipython",
    "version": 3
   },
   "file_extension": ".py",
   "mimetype": "text/x-python",
   "name": "python",
   "nbconvert_exporter": "python",
   "pygments_lexer": "ipython3",
   "version": "3.6.7"
  }
 },
 "nbformat": 4,
 "nbformat_minor": 2
}
