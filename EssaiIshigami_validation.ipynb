{
 "cells": [
  {
   "cell_type": "markdown",
   "metadata": {},
   "source": [
    "# Estimate Sobol’ indices for the Ishigami function by a sampling method: a quick start guide to sensitivity analysis\n",
    "\n",
    "### Analyse de la fonction Ishigami avec l'ensemble de codes dévelopés pour l'analyse de sensibilité sur les cahmps stochastiques.\n",
    "\n",
    "#### Comparaison et corréctions\n",
    "\n",
    "La même logique d'écriture de codes est utilisée que dans le script 'Demo Analyse de sensibilité poutre'"
   ]
  },
  {
   "cell_type": "code",
   "execution_count": 1,
   "metadata": {},
   "outputs": [],
   "source": [
    "# Voici les deux scripts destinés à gérer l'analyse de sensibilité sur les champs stochastiques\n",
    "import NdGaussianProcessSensitivity as ngps\n",
    "import NdGaussianProcessConstructor as ngpc\n",
    "# Classes utilitaires\n",
    "import numpy                        as np\n",
    "import openturns                    as ot\n",
    "import matplotlib.pyplot            as plt\n",
    "from   importlib                import reload \n"
   ]
  },
  {
   "cell_type": "code",
   "execution_count": 2,
   "metadata": {},
   "outputs": [],
   "source": [
    "# This is the formula used in the openTURNS example. \n",
    "formula = ['sin(X1) + 7. * sin(X2)^2 + 0.1 * X3^4 * sin(X1)']\n",
    "input_names = ['X1', 'X2', 'X3']\n",
    "g = ot.SymbolicFunction(input_names, formula)\n",
    "\n",
    "# we have to modifiy the function, be cause it takes as an input a random vector, un-correlated\n",
    "# in the case of our method, un-correlated inputs are clearly distinct. \n",
    "\n",
    "def gMod(X1,X2,X3):\n",
    "    X = np.stack([X1,X2,X3]).T\n",
    "    print(X.shape)\n",
    "    return g(X)"
   ]
  },
  {
   "cell_type": "code",
   "execution_count": 3,
   "metadata": {},
   "outputs": [
    {
     "name": "stdout",
     "output_type": "stream",
     "text": [
      "(10, 3)\n"
     ]
    }
   ],
   "source": [
    "X = np.random.uniform(-np.pi,np.pi,[10,3])\n",
    "assert gMod(X[...,0], X[...,1], X[...,2]) == g(X) ,\"\""
   ]
  },
  {
   "cell_type": "markdown",
   "metadata": {},
   "source": [
    "Maintenant nous définissons nos variables d'entrée, avec les fonctions contenues dans notre méthode "
   ]
  },
  {
   "cell_type": "code",
   "execution_count": 4,
   "metadata": {},
   "outputs": [],
   "source": [
    "reload(ngpc)\n",
    "reload(ngps)\n",
    "lower       = -np.pi\n",
    "upper       = np.pi\n",
    "nameX1       = 'X1'\n",
    "nameX2       = 'X2'\n",
    "nameX3       = 'X3'\n",
    "RV_X1 = ngpc.UniformDistribution(lower = lower, upper = upper, name = nameX1)\n",
    "RV_X2 = ngpc.UniformDistribution(lower = lower, upper = upper, name = nameX2)\n",
    "RV_X3 = ngpc.UniformDistribution(lower = lower, upper = upper, name = nameX3)"
   ]
  },
  {
   "cell_type": "code",
   "execution_count": 5,
   "metadata": {},
   "outputs": [],
   "source": [
    "# here we have to explicitely define our outputs\n",
    "outputVariables = {'out1_name' :  #any name here is fine\n",
    "                   {\n",
    "                         'name'     : 'Y',\n",
    "                         'position' : 0,\n",
    "                         'shape'    : (1,)  \n",
    "                    },\n",
    "                  }"
   ]
  },
  {
   "cell_type": "code",
   "execution_count": 6,
   "metadata": {},
   "outputs": [],
   "source": [
    "inputList = [RV_X1, RV_X2, RV_X3]\n",
    "soloFunction   = gMod\n",
    "sampleFunction = gMod\n",
    "size           = 10000"
   ]
  },
  {
   "cell_type": "code",
   "execution_count": 7,
   "metadata": {},
   "outputs": [
    {
     "name": "stdout",
     "output_type": "stream",
     "text": [
      "Input Variables are (without Karhunen Loeve Decomposition) :\n",
      " ['X1', 'X2', 'X3'] \n",
      "\n",
      "Output Variables are :\n",
      " ['Y'] \n",
      "\n"
     ]
    }
   ],
   "source": [
    "processSensitivityAnalysis = ngps.NdGaussianProcessSensitivityAnalysis(inputList, \n",
    "                                                                       outputVariables,\n",
    "                                                                       sampleFunction,\n",
    "                                                                       soloFunction,\n",
    "                                                                       size)"
   ]
  },
  {
   "cell_type": "code",
   "execution_count": 8,
   "metadata": {},
   "outputs": [
    {
     "name": "stdout",
     "output_type": "stream",
     "text": [
      "Generation types:\n",
      "1 : Random (default)\n",
      "2 : LHS\n",
      "3 : LowDiscrepancySequence\n",
      "4 : SimulatedAnnealingLHS\n",
      "Choosen generation method is Random (default)\n",
      "number of samples for sobol experiment =  50000 \n",
      "\n",
      "input design is:  [[ 0.81603847  0.84206848 -0.31156285]\n",
      " [ 2.40523616 -2.21337969  0.81767286]\n",
      " [-2.29162627  2.77812966 -2.25628605]\n",
      " ...\n",
      " [ 0.23263198 -0.14034356 -2.01157495]\n",
      " [-1.81070641  0.97970151 -2.81432234]\n",
      " [-2.38135594  1.2781909  -2.44386088]]\n"
     ]
    }
   ],
   "source": [
    "processSensitivityAnalysis.prepareSobolIndicesExperiment()"
   ]
  },
  {
   "cell_type": "code",
   "execution_count": 9,
   "metadata": {},
   "outputs": [
    {
     "name": "stdout",
     "output_type": "stream",
     "text": [
      "(50000, 3)\n",
      "Converting list of outputs into matrix: \n",
      "Element  1  has shape  (50000, 1)\n",
      "Final shape matrix:  (50000, 1)\n",
      "Columns where nan :  [] \n",
      "\n",
      "\n",
      "No errors while processing, the function has returned no np.nan.\n",
      "\n"
     ]
    }
   ],
   "source": [
    "processSensitivityAnalysis.getOutputDesignAndPostprocess()"
   ]
  },
  {
   "cell_type": "code",
   "execution_count": 10,
   "metadata": {},
   "outputs": [],
   "source": [
    "output = processSensitivityAnalysis.outputDesignList; output1 = output[0]; "
   ]
  },
  {
   "cell_type": "code",
   "execution_count": 11,
   "metadata": {},
   "outputs": [
    {
     "data": {
      "text/plain": [
       "array([[ 4.62496731],\n",
       "       [ 5.1877794 ],\n",
       "       [-1.81353077],\n",
       "       ...,\n",
       "       [ 0.74498737],\n",
       "       [-2.23883022],\n",
       "       [ 3.27048109]])"
      ]
     },
     "execution_count": 11,
     "metadata": {},
     "output_type": "execute_result"
    }
   ],
   "source": [
    "output1"
   ]
  },
  {
   "cell_type": "code",
   "execution_count": 19,
   "metadata": {},
   "outputs": [
    {
     "name": "stdout",
     "output_type": "stream",
     "text": [
      "Populating the interactive namespace from numpy and matplotlib\n"
     ]
    }
   ],
   "source": [
    "%pylab inline\n",
    "pylab.rcParams['figure.figsize'] = (13, 5)\n",
    "import NdGaussianProcessSensitivityIndices as ngpsi\n",
    "_=reload(ngpsi)"
   ]
  },
  {
   "cell_type": "code",
   "execution_count": 20,
   "metadata": {},
   "outputs": [
    {
     "name": "stdout",
     "output_type": "stream",
     "text": [
      "There are 3 indices to get in (1,) dimensions with 1 elements\n",
      "After centering, mean= [1.17950094e-17] \n",
      "std=  [3.6887201]\n",
      "After centering, mean= [1.17950094e-17] \n",
      "std=  [3.6887201]\n",
      "After centering, mean= [1.17950094e-17] \n",
      "std=  [3.6887201]\n",
      "After centering, mean= [1.49213975e-17] \n",
      "std=  [3.6887201]\n",
      "After centering, mean= [1.49213975e-17] \n",
      "std=  [3.6887201]\n",
      "Indices successfully calculated\n"
     ]
    }
   ],
   "source": [
    "S, Stot, varS, varStot = ngpsi.NdGaussianProcessSensitivityIndicesBase.getSobolIndices(output1,10000)"
   ]
  },
  {
   "cell_type": "code",
   "execution_count": 22,
   "metadata": {},
   "outputs": [
    {
     "name": "stdout",
     "output_type": "stream",
     "text": [
      "The output is scalar\n",
      "The sensitivity is measured accordingly to the 3 input variables, namely:\n",
      " X1 and X2 and X3\n"
     ]
    },
    {
     "data": {
      "image/png": "[encoded data removed]",
      "text/plain": [
       "<Figure size 640x480 with 1 Axes>"
      ]
     },
     "metadata": {},
     "output_type": "display_data"
    }
   ],
   "source": [
    "varNames = ['X1', 'X2', 'X3']\n",
    "ngpsi.plotSobolIndicesWithErr(S, varS, varNames, 3, Stot, varStot)"
   ]
  },
  {
   "cell_type": "code",
   "execution_count": 23,
   "metadata": {},
   "outputs": [
    {
     "data": {
      "text/plain": [
       "array([[0.00011246],\n",
       "       [0.00013583],\n",
       "       [0.00018026]])"
      ]
     },
     "execution_count": 23,
     "metadata": {},
     "output_type": "execute_result"
    }
   ],
   "source": [
    "varS"
   ]
  },
  {
   "cell_type": "code",
   "execution_count": null,
   "metadata": {},
   "outputs": [],
   "source": []
  },
  {
   "cell_type": "code",
   "execution_count": null,
   "metadata": {},
   "outputs": [],
   "source": []
  }
 ],
 "metadata": {
  "kernelspec": {
   "display_name": "Python 3",
   "language": "python",
   "name": "python3"
  },
  "language_info": {
   "codemirror_mode": {
    "name": "ipython",
    "version": 3
   },
   "file_extension": ".py",
   "mimetype": "text/x-python",
   "name": "python",
   "nbconvert_exporter": "python",
   "pygments_lexer": "ipython3",
   "version": "3.6.7"
  }
 },
 "nbformat": 4,
 "nbformat_minor": 4
}
