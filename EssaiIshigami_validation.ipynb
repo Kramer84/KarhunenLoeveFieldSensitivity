{
 "cells": [
  {
   "cell_type": "markdown",
   "metadata": {},
   "source": [
    "# Estimate Sobol’ indices for the Ishigami function by a sampling method: a quick start guide to sensitivity analysis\n",
    "\n",
    "### Analyse de la fonction Ishigami avec l'ensemble de codes dévelopés pour l'analyse de sensibilité sur les cahmps stochastiques.\n",
    "\n",
    "#### Comparaison et corréctions\n",
    "\n",
    "La même logique d'écriture de codes est utilisée que dans le script 'Demo Analyse de sensibilité poutre'"
   ]
  },
  {
   "cell_type": "code",
   "execution_count": 1,
   "metadata": {},
   "outputs": [],
   "source": [
    "# Voici les deux scripts destinés à gérer l'analyse de sensibilité sur les champs stochastiques\n",
    "import NdGaussianProcessSensitivity as ngps\n",
    "import NdGaussianProcessConstructor as ngpc\n",
    "# Classes utilitaires\n",
    "import numpy                        as np\n",
    "import openturns                    as ot\n",
    "import matplotlib.pyplot            as plt\n",
    "from   importlib                import reload \n"
   ]
  },
  {
   "cell_type": "code",
   "execution_count": 2,
   "metadata": {},
   "outputs": [],
   "source": [
    "# This is the formula used in the openTURNS example. \n",
    "formula = ['sin(X1) + 7. * sin(X2)^2 + 0.1 * X3^4 * sin(X1)']\n",
    "input_names = ['X1', 'X2', 'X3']\n",
    "g = ot.SymbolicFunction(input_names, formula)\n",
    "\n",
    "# we have to modifiy the function, be cause it takes as an input a random vector, un-correlated\n",
    "# in the case of our method, un-correlated inputs are clearly distinct. \n",
    "\n",
    "def gMod(X1,X2,X3):\n",
    "    X = np.stack([X1,X2,X3]).T\n",
    "    print(X.shape)\n",
    "    return g(X)"
   ]
  },
  {
   "cell_type": "code",
   "execution_count": 3,
   "metadata": {},
   "outputs": [
    {
     "name": "stdout",
     "output_type": "stream",
     "text": [
      "(10, 3)\n"
     ]
    }
   ],
   "source": [
    "X = np.random.uniform(-np.pi,np.pi,[10,3])\n",
    "assert gMod(X[...,0], X[...,1], X[...,2]) == g(X) ,\"\""
   ]
  },
  {
   "cell_type": "markdown",
   "metadata": {},
   "source": [
    "Maintenant nous définissons nos variables d'entrée, avec les fonctions contenues dans notre méthode "
   ]
  },
  {
   "cell_type": "code",
   "execution_count": 4,
   "metadata": {},
   "outputs": [],
   "source": [
    "reload(ngpc)\n",
    "reload(ngps)\n",
    "lower  = -np.pi\n",
    "upper  = np.pi\n",
    "nameX1 = 'X1'\n",
    "nameX2 = 'X2'\n",
    "nameX3 = 'X3'\n",
    "RV_X1 = ngpc.UniformDistribution(lower = lower, upper = upper, name = nameX1)\n",
    "RV_X2 = ngpc.UniformDistribution(lower = lower, upper = upper, name = nameX2)\n",
    "RV_X3 = ngpc.UniformDistribution(lower = lower, upper = upper, name = nameX3)"
   ]
  },
  {
   "cell_type": "code",
   "execution_count": 5,
   "metadata": {},
   "outputs": [],
   "source": [
    "# here we have to explicitely define our outputs\n",
    "outputVariables = {'out1_name' :  #any name here is fine\n",
    "                   {\n",
    "                         'name'     : 'Y',\n",
    "                         'position' : 0,\n",
    "                         'shape'    : (1,)  \n",
    "                    },\n",
    "                  }"
   ]
  },
  {
   "cell_type": "code",
   "execution_count": 6,
   "metadata": {},
   "outputs": [],
   "source": [
    "inputList    = [RV_X1, RV_X2, RV_X3]\n",
    "soloFunction = sampleFunction = gMod\n",
    "size         = 1000"
   ]
  },
  {
   "cell_type": "code",
   "execution_count": 7,
   "metadata": {},
   "outputs": [
    {
     "name": "stdout",
     "output_type": "stream",
     "text": [
      "Input Variables are (without Karhunen Loeve Decomposition) :\n",
      " ['X1', 'X2', 'X3'] \n",
      "\n",
      "Output Variables are :\n",
      " ['Y'] \n",
      "\n"
     ]
    }
   ],
   "source": [
    "processSensitivityAnalysis = ngps.NdGaussianProcessSensitivityAnalysis(inputList, \n",
    "                                                                       outputVariables,\n",
    "                                                                       sampleFunction,\n",
    "                                                                       soloFunction,\n",
    "                                                                       size)"
   ]
  },
  {
   "cell_type": "code",
   "execution_count": 8,
   "metadata": {},
   "outputs": [
    {
     "name": "stdout",
     "output_type": "stream",
     "text": [
      "Generation types:\n",
      "1 : Random (default)\n",
      "2 : LHS\n",
      "3 : LowDiscrepancySequence\n",
      "4 : SimulatedAnnealingLHS\n",
      "Choosen generation method is Random (default)\n",
      "number of samples for sobol experiment =  5000 \n",
      "\n",
      "input design is:  [[ 0.81603847  0.50150563  1.94457154]\n",
      " [ 2.40523616 -0.70518605  1.57064207]\n",
      " [-2.29162627 -1.41281263 -2.27474812]\n",
      " ...\n",
      " [ 1.54055188  2.87874202  1.86531267]\n",
      " [-0.49519165 -0.19029475  1.44287758]\n",
      " [-1.31985929 -2.61850986  2.01372763]]\n"
     ]
    }
   ],
   "source": [
    "processSensitivityAnalysis.prepareSobolIndicesExperiment()"
   ]
  },
  {
   "cell_type": "code",
   "execution_count": 9,
   "metadata": {},
   "outputs": [
    {
     "name": "stdout",
     "output_type": "stream",
     "text": [
      "(5000, 3)\n",
      "Converting list of outputs into matrix: \n",
      "Element  1  has shape  (5000, 1)\n",
      "Final shape matrix:  (5000, 1)\n",
      "Columns where nan :  [] \n",
      "\n",
      "\n",
      "No errors while processing, the function has returned no np.nan.\n",
      "\n"
     ]
    }
   ],
   "source": [
    "processSensitivityAnalysis.getOutputDesignAndPostprocess()"
   ]
  },
  {
   "cell_type": "code",
   "execution_count": 10,
   "metadata": {},
   "outputs": [],
   "source": [
    "output = processSensitivityAnalysis.outputDesignList; output1 = output[0]; "
   ]
  },
  {
   "cell_type": "code",
   "execution_count": 45,
   "metadata": {},
   "outputs": [
    {
     "name": "stdout",
     "output_type": "stream",
     "text": [
      "les valeurs avec psi symoblique ou analytique sont identiques.\n",
      "symbolique: [ 0.07106786 -0.01740557] \n",
      "analytique: (0.07106786011483436, -0.01740556627655293)\n",
      "mais avec g : [0.2665855587139603, -0.06529073280018431] différent qu avec psi\n",
      "var psi= 0.00099 var g= 0.01394\n"
     ]
    }
   ],
   "source": [
    "### Calcul à la main pour comparer\n",
    "\n",
    "# Préparation échantillons\n",
    "output1\n",
    "A  = output1[0:1000,...]\n",
    "B  = output1[1000:2000,...]\n",
    "E1 = output1[2000:3000,...]\n",
    "Ac = A-A.mean(axis=0)\n",
    "Bc = B-B.mean(axis=0)\n",
    "Ec = E1-E1.mean(axis=0)\n",
    "\n",
    "# préparation du vecteur mu =(X,Y)\n",
    "X = np.squeeze(np.multiply(Ec,Bc))\n",
    "Y = np.squeeze(np.square(Ac))\n",
    "# covariance gamma = covXY\n",
    "covXY = np.cov(X,Y)\n",
    "#fonction psi symbolique \n",
    "psifo,psito = ngpsi.NdGaussianProcessSensitivityIndicesBase.SymbolicSaltelliIndices(1)\n",
    "#vecteur g 'à la main', censé être égal à psi(mu)\n",
    "g = [1/A.std(), -1*(0.24491474/A.std())]   ### Ici S = 0.24491474 \n",
    "\n",
    "meanPsi = np.squeeze(psifo.gradient((X.mean(),Y.mean())))\n",
    "meanPsi2 = (1/Y.mean(),-1*(X.mean()/(Y.mean()**2)))\n",
    "print('les valeurs avec psi symoblique ou analytique sont identiques.\\nsymbolique:',meanPsi,'\\nanalytique:',meanPsi2)\n",
    "print('mais avec g :',g,'différent qu avec psi' )\n",
    "u = np.squeeze(np.matmul(covXY,meanPsi))\n",
    "var = np.matmul(meanPsi.T, u)/1000\n",
    "var2 = np.matmul(g,np.matmul(covXY,g))/1000\n",
    "print('var psi=',round(var,5),'var g=',round(var2,5))"
   ]
  },
  {
   "cell_type": "code",
   "execution_count": 66,
   "metadata": {},
   "outputs": [
    {
     "name": "stdout",
     "output_type": "stream",
     "text": [
      "Populating the interactive namespace from numpy and matplotlib\n"
     ]
    }
   ],
   "source": [
    "%pylab inline\n",
    "pylab.rcParams['figure.figsize'] = (13, 5)\n",
    "import NdGaussianProcessSensitivityIndices as ngpsi\n",
    "_=reload(ngpsi)"
   ]
  },
  {
   "cell_type": "code",
   "execution_count": 67,
   "metadata": {},
   "outputs": [
    {
     "name": "stdout",
     "output_type": "stream",
     "text": [
      "There are 3 indices to get in (1,) dimensions with 1 elements\n",
      "After centering, mean= [0.] \n",
      "std=  [3.6598608]\n",
      "After centering, mean= [0.] \n",
      "std=  [3.6598608]\n",
      "After centering, mean= [0.] \n",
      "std=  [3.6598608]\n",
      "After centering, mean= [0.] \n",
      "std=  [3.6598608]\n",
      "After centering, mean= [0.] \n",
      "std=  [3.6598608]\n",
      "basic output shape is: (1000, 1)\n",
      "output reshaped into matrix of shape (dim<=2)  [1000, 1]\n",
      "data for variance calculus prepared \n",
      " X_fo shape is (1000,) Y_fo shape is (1000,) \n",
      "\n",
      "Covariance is: [[178.29672793  22.72808681]\n",
      " [ 22.72808681 482.99516282]]\n",
      "Sample mean is: [3.446209534211915, 14.071058258742546]\n",
      "Psi mean is: [ 0.07106786 -0.01740557]\n",
      "variance is: 0.000990609696151085 \n",
      "\n",
      "Covariance is: [[277.96401486 159.35099125]\n",
      " [159.35099125 482.99516282]]\n",
      "Sample mean is: [7.034025345321612, 14.071058258742546]\n",
      "Psi mean is: [-0.07106786  0.03552633]\n",
      "variance is: 0.001208841879323487 \n",
      "\n",
      "basic output shape is: (1000, 1)\n",
      "output reshaped into matrix of shape (dim<=2)  [1000, 1]\n",
      "data for variance calculus prepared \n",
      " X_fo shape is (1000,) Y_fo shape is (1000,) \n",
      "\n",
      "Covariance is: [[172.53771885  23.21494672]\n",
      " [ 23.21494672 482.99516282]]\n",
      "Sample mean is: [6.286605561657933, 14.071058258742546]\n",
      "Psi mean is: [ 0.07106786 -0.03175139]\n",
      "variance is: 0.0012535886615828262 \n",
      "\n",
      "Covariance is: [[393.61721446 359.22635187]\n",
      " [359.22635187 482.99516282]]\n",
      "Sample mean is: [7.656728667131094, 14.071058258742546]\n",
      "Psi mean is: [-0.07106786  0.03867139]\n",
      "variance is: 0.0007358085777502402 \n",
      "\n",
      "basic output shape is: (1000, 1)\n",
      "output reshaped into matrix of shape (dim<=2)  [1000, 1]\n",
      "data for variance calculus prepared \n",
      " X_fo shape is (1000,) Y_fo shape is (1000,) \n",
      "\n",
      "Covariance is: [[311.1760884   21.9200307 ]\n",
      " [ 21.9200307  482.99516282]]\n",
      "Sample mean is: [-0.34193079058691994, 14.071058258742546]\n",
      "Psi mean is: [0.07106786 0.00172697]\n",
      "variance is: 0.0015784597059939147 \n",
      "\n",
      "Covariance is: [[240.09706913 269.20272373]\n",
      " [269.20272373 482.99516282]]\n",
      "Sample mean is: [11.051507740668967, 14.071058258742546]\n",
      "Psi mean is: [-0.07106786  0.0558172 ]\n",
      "variance is: 0.0005816927314263423 \n",
      "\n",
      "Indices successfully calculated\n"
     ]
    }
   ],
   "source": [
    "S, Stot, varS, varStot = ngpsi.NdGaussianProcessSensitivityIndicesBase.getSobolIndices(output1,1000)"
   ]
  },
  {
   "cell_type": "code",
   "execution_count": 68,
   "metadata": {},
   "outputs": [
    {
     "name": "stdout",
     "output_type": "stream",
     "text": [
      "The output is scalar\n",
      "The sensitivity is measured accordingly to the 3 input variables, namely:\n",
      " X1 and X2 and X3\n"
     ]
    },
    {
     "data": {
      "image/png": "[encoded data removed]",
      "text/plain": [
       "<Figure size 640x480 with 1 Axes>"
      ]
     },
     "metadata": {},
     "output_type": "display_data"
    }
   ],
   "source": [
    "varNames = ['X1', 'X2', 'X3']\n",
    "ngpsi.plotSobolIndicesWithErr(S, varS, varNames, 3, Stot, varStot)"
   ]
  },
  {
   "cell_type": "code",
   "execution_count": 69,
   "metadata": {},
   "outputs": [
    {
     "data": {
      "text/plain": [
       "array([[0.00099061],\n",
       "       [0.00125359],\n",
       "       [0.00157846]])"
      ]
     },
     "execution_count": 69,
     "metadata": {},
     "output_type": "execute_result"
    }
   ],
   "source": [
    "varS"
   ]
  },
  {
   "cell_type": "code",
   "execution_count": 70,
   "metadata": {},
   "outputs": [
    {
     "data": {
      "text/plain": [
       "array([[ 0.24491474],\n",
       "       [ 0.4467756 ],\n",
       "       [-0.02430029]])"
      ]
     },
     "execution_count": 70,
     "metadata": {},
     "output_type": "execute_result"
    }
   ],
   "source": [
    "S\n"
   ]
  },
  {
   "cell_type": "code",
   "execution_count": null,
   "metadata": {},
   "outputs": [],
   "source": []
  }
 ],
 "metadata": {
  "kernelspec": {
   "display_name": "Python 3",
   "language": "python",
   "name": "python3"
  },
  "language_info": {
   "codemirror_mode": {
    "name": "ipython",
    "version": 3
   },
   "file_extension": ".py",
   "mimetype": "text/x-python",
   "name": "python",
   "nbconvert_exporter": "python",
   "pygments_lexer": "ipython3",
   "version": "3.6.7"
  }
 },
 "nbformat": 4,
 "nbformat_minor": 4
}
