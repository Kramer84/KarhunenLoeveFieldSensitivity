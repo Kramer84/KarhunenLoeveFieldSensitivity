{
 "cells": [
  {
   "cell_type": "markdown",
   "metadata": {},
   "source": [
    "# Estimate Sobol’ indices for the Ishigami function by a sampling method: a quick start guide to sensitivity analysis\n",
    "\n",
    "### Analyse de la fonction Ishigami avec l'ensemble de codes dévelopés pour l'analyse de sensibilité sur les cahmps stochastiques.\n",
    "\n",
    "#### Comparaison et corréctions\n",
    "\n",
    "La même logique d'écriture de codes est utilisée que dans le script 'Demo Analyse de sensibilité poutre'"
   ]
  },
  {
   "cell_type": "code",
   "execution_count": 13,
   "metadata": {},
   "outputs": [],
   "source": [
    "# Voici les deux scripts destinés à gérer l'analyse de sensibilité sur les champs stochastiques\n",
    "import NdGaussianProcessSensitivity as ngps\n",
    "import NdGaussianProcessConstructor as ngpc\n",
    "import NdGaussianProcessSensitivityIndices as ngpsi\n",
    "# Classes utilitaires\n",
    "import numpy                        as np\n",
    "import openturns                    as ot\n",
    "import matplotlib.pyplot            as plt\n",
    "from   importlib                import reload \n"
   ]
  },
  {
   "cell_type": "code",
   "execution_count": 55,
   "metadata": {},
   "outputs": [],
   "source": [
    "# This is the formula used in the openTURNS example. \n",
    "formula = ['sin(X1) + 7. * sin(X2)^2 + 0.1 * X3^4 * sin(X1)']\n",
    "input_names = ['X1', 'X2', 'X3']\n",
    "g = ot.SymbolicFunction(input_names, formula)\n",
    "\n",
    "# we have to modifiy the function, be cause it takes as an input a random vector, un-correlated\n",
    "# in the case of our method, un-correlated inputs are clearly distinct. \n",
    "\n",
    "def gMod(X1,X2,X3):\n",
    "    X = np.stack([X1,X2,X3]).T\n",
    "    print(X.shape)\n",
    "    return g(X)"
   ]
  },
  {
   "cell_type": "code",
   "execution_count": 56,
   "metadata": {},
   "outputs": [
    {
     "name": "stdout",
     "output_type": "stream",
     "text": [
      "(10, 3)\n"
     ]
    }
   ],
   "source": [
    "X = np.random.uniform(-np.pi,np.pi,[10,3])\n",
    "assert gMod(X[...,0], X[...,1], X[...,2]) == g(X) ,\"\""
   ]
  },
  {
   "cell_type": "markdown",
   "metadata": {},
   "source": [
    "Maintenant nous définissons nos variables d'entrée, avec les fonctions contenues dans notre méthode "
   ]
  },
  {
   "cell_type": "code",
   "execution_count": 57,
   "metadata": {},
   "outputs": [],
   "source": [
    "reload(ngpc)\n",
    "reload(ngps)\n",
    "lower  = -np.pi\n",
    "upper  = np.pi\n",
    "nameX1 = 'X1'\n",
    "nameX2 = 'X2'\n",
    "nameX3 = 'X3'\n",
    "RV_X1 = ngpc.UniformDistribution(lower = lower, upper = upper, name = nameX1)\n",
    "RV_X2 = ngpc.UniformDistribution(lower = lower, upper = upper, name = nameX2)\n",
    "RV_X3 = ngpc.UniformDistribution(lower = lower, upper = upper, name = nameX3)"
   ]
  },
  {
   "cell_type": "code",
   "execution_count": 58,
   "metadata": {},
   "outputs": [],
   "source": [
    "# here we have to explicitely define our outputs\n",
    "outputVariables = {'out1_name' :  #any name here is fine\n",
    "                   {\n",
    "                         'name'     : 'Y',\n",
    "                         'position' : 0,\n",
    "                         'shape'    : (1,)  \n",
    "                    },\n",
    "                  }"
   ]
  },
  {
   "cell_type": "code",
   "execution_count": 59,
   "metadata": {},
   "outputs": [],
   "source": [
    "inputList    = [RV_X1, RV_X2, RV_X3]\n",
    "soloFunction = sampleFunction = gMod\n",
    "size         = 10000"
   ]
  },
  {
   "cell_type": "code",
   "execution_count": 60,
   "metadata": {},
   "outputs": [
    {
     "name": "stdout",
     "output_type": "stream",
     "text": [
      "Input Variables are (without Karhunen Loeve Decomposition) :\n",
      " ['X1', 'X2', 'X3'] \n",
      "\n",
      "Output Variables are :\n",
      " ['Y'] \n",
      "\n"
     ]
    }
   ],
   "source": [
    "processSensitivityAnalysis = ngps.NdGaussianProcessSensitivityAnalysis(inputList, \n",
    "                                                                       outputVariables,\n",
    "                                                                       sampleFunction,\n",
    "                                                                       soloFunction,\n",
    "                                                                       size)"
   ]
  },
  {
   "cell_type": "code",
   "execution_count": 61,
   "metadata": {},
   "outputs": [
    {
     "name": "stdout",
     "output_type": "stream",
     "text": [
      "Generation types:\n",
      "1 : Random (default)\n",
      "2 : LHS\n",
      "3 : LowDiscrepancySequence\n",
      "4 : SimulatedAnnealingLHS\n",
      "Choosen generation method is Random (default)\n",
      "number of samples for sobol experiment =  50000 \n",
      "\n",
      "input design is:  [[-0.17150988  1.79973094 -2.83650555]\n",
      " [ 0.78254569 -0.34495171 -0.9861231 ]\n",
      " [ 0.24259852  0.46400209 -1.69350245]\n",
      " ...\n",
      " [-0.88614745 -2.98655426 -0.398084  ]\n",
      " [-0.94475993 -1.47029432  2.76851141]\n",
      " [-0.67015169  0.14382418 -2.28565296]]\n"
     ]
    }
   ],
   "source": [
    "processSensitivityAnalysis.prepareSobolIndicesExperiment()"
   ]
  },
  {
   "cell_type": "code",
   "execution_count": 62,
   "metadata": {},
   "outputs": [
    {
     "name": "stdout",
     "output_type": "stream",
     "text": [
      "(50000, 3)\n",
      "Converting list of outputs into matrix: \n",
      "Element  1  has shape  (50000, 1)\n",
      "Final shape matrix:  (50000, 1)\n",
      "Columns where nan :  [] \n",
      "\n",
      "\n",
      "No errors while processing, the function has returned no np.nan.\n",
      "\n"
     ]
    }
   ],
   "source": [
    "processSensitivityAnalysis.getOutputDesignAndPostprocess()"
   ]
  },
  {
   "cell_type": "code",
   "execution_count": 63,
   "metadata": {},
   "outputs": [],
   "source": [
    "output = processSensitivityAnalysis.outputDesignList; output1 = output[0]; "
   ]
  },
  {
   "cell_type": "code",
   "execution_count": 30,
   "metadata": {},
   "outputs": [
    {
     "name": "stdout",
     "output_type": "stream",
     "text": [
      "les valeurs avec psi symoblique ou analytique sont identiques.\n",
      "symbolique: [ 0.06750703 -0.01837072] \n",
      "analytique: (0.06750702551564336, -0.018370723873928966)\n",
      "mais avec g : [0.06750702551564336, -0.01653346560233716] différent qu avec psi\n",
      "var psi= 0.00093 var g= 0.0009\n"
     ]
    }
   ],
   "source": [
    "### Calcul à la main pour comparer\n",
    "\n",
    "# Préparation échantillons\n",
    "output1\n",
    "A  = output1[0:1000,...]\n",
    "B  = output1[1000:2000,...]\n",
    "E1 = output1[2000:3000,...]\n",
    "Ac = A-A.mean(axis=0)\n",
    "Bc = B-B.mean(axis=0)\n",
    "Ec = E1-E1.mean(axis=0)\n",
    "\n",
    "# préparation du vecteur mu =(X,Y)\n",
    "X = np.squeeze(np.multiply(Ec,Bc))\n",
    "Y = np.squeeze(np.square(Ac))\n",
    "# covariance gamma = covXY\n",
    "covXY = np.cov(X,Y)\n",
    "#fonction psi symbolique \n",
    "psifo,psito = ngpsi.NdGaussianProcessSensitivityIndicesBase.SymbolicSaltelliIndices(1)\n",
    "#vecteur g 'à la main', censé être égal à psi(mu)\n",
    "g = [1/A.std()**2, -1*(0.24491474/A.std()**2)]   ### Ici S = 0.24491474 \n",
    "\n",
    "meanPsi = np.squeeze(psifo.gradient((X.mean(),Y.mean())))\n",
    "meanPsi2 = (1/Y.mean(),-1*(X.mean()/(Y.mean()**2)))\n",
    "print('les valeurs avec psi symoblique ou analytique sont identiques.\\nsymbolique:',meanPsi,'\\nanalytique:',meanPsi2)\n",
    "print('mais avec g :',g,'différent qu avec psi' )\n",
    "u = np.squeeze(np.matmul(covXY,meanPsi))\n",
    "var = np.matmul(meanPsi.T, u)/1000\n",
    "var2 = np.matmul(g,np.matmul(covXY,g))/1000\n",
    "print('var psi=',round(var,5),'var g=',round(var2,5))"
   ]
  },
  {
   "cell_type": "code",
   "execution_count": 66,
   "metadata": {},
   "outputs": [
    {
     "name": "stdout",
     "output_type": "stream",
     "text": [
      "Populating the interactive namespace from numpy and matplotlib\n"
     ]
    }
   ],
   "source": [
    "%pylab inline\n",
    "pylab.rcParams['figure.figsize'] = (13, 5)\n",
    "import NdGaussianProcessSensitivityIndices as ngpsi\n",
    "_=reload(ngpsi)"
   ]
  },
  {
   "cell_type": "code",
   "execution_count": 64,
   "metadata": {},
   "outputs": [
    {
     "name": "stdout",
     "output_type": "stream",
     "text": [
      "There are 3 indices to get in (1,) dimensions with 1 elements\n",
      "After centering, mean= [2.78312276] \n",
      "std=  [3.95277647]\n",
      "After centering, mean= [2.0939382] \n",
      "std=  [4.07563003]\n",
      "After centering, mean= [1.39456246] \n",
      "std=  [4.07491114]\n",
      "After centering, mean= [0.70566188] \n",
      "std=  [3.95964979]\n",
      "After centering, mean= [-1.60866875e-16] \n",
      "std=  [3.69959345]\n",
      "basic output shape is: (10000, 1)\n",
      "output reshaped into matrix of shape (dim<=2)  [10000, 1]\n",
      "data for variance calculus prepared \n",
      " X_fo shape is (10000,) Y_fo shape is (10000,) \n",
      "\n",
      "Covariance is: [[191.43577643  42.81819819]\n",
      " [ 42.81819819 484.44321473]]\n",
      "Sample mean is: [4.21465828895676, 13.738440346902987]\n",
      "Psi mean is: [ 0.07278847 -0.02232994]\n",
      "variance is: 0.00011166234237384774 \n",
      "\n",
      "Covariance is: [[316.46959555 111.26441733]\n",
      " [111.26441733 484.44321473]]\n",
      "Sample mean is: [6.087506095679232, 13.738440346902987]\n",
      "Psi mean is: [-0.07278847  0.03225259]\n",
      "variance is: 0.0001658226525705671 \n",
      "\n",
      "basic output shape is: (10000, 1)\n",
      "output reshaped into matrix of shape (dim<=2)  [10000, 1]\n",
      "data for variance calculus prepared \n",
      " X_fo shape is (10000,) Y_fo shape is (10000,) \n",
      "\n",
      "Covariance is: [[167.57968577   2.06245092]\n",
      " [  2.06245092 484.44321473]]\n",
      "Sample mean is: [6.184757971307135, 13.738440346902987]\n",
      "Psi mean is: [ 0.07278847 -0.03276784]\n",
      "variance is: 0.000139818766561307 \n",
      "\n",
      "Covariance is: [[410.46938695 371.02566099]\n",
      " [371.02566099 484.44321473]]\n",
      "Sample mean is: [7.66358642792585, 13.738440346902987]\n",
      "Psi mean is: [-0.07278847  0.04060291]\n",
      "variance is: 7.80308116407922e-05 \n",
      "\n",
      "basic output shape is: (10000, 1)\n",
      "output reshaped into matrix of shape (dim<=2)  [10000, 1]\n",
      "data for variance calculus prepared \n",
      " X_fo shape is (10000,) Y_fo shape is (10000,) \n",
      "\n",
      "Covariance is: [[340.66642927  -1.35564833]\n",
      " [ -1.35564833 484.44321473]]\n",
      "Sample mean is: [0.036327950720863464, 13.738440346902987]\n",
      "Psi mean is: [ 0.07278847 -0.00019247]\n",
      "variance is: 0.00018049614531919178 \n",
      "\n",
      "Covariance is: [[232.42310469 252.60675103]\n",
      " [252.60675103 484.44321473]]\n",
      "Sample mean is: [10.260178109373522, 13.738440346902987]\n",
      "Psi mean is: [-0.07278847  0.05436007]\n",
      "variance is: 6.639313055976855e-05 \n",
      "\n",
      "Indices successfully calculated\n"
     ]
    }
   ],
   "source": [
    "S, Stot, varS, varStot = ngpsi.NdGaussianProcessSensitivityIndicesBase.getSobolIndices(output1, 10000)"
   ]
  },
  {
   "cell_type": "code",
   "execution_count": 65,
   "metadata": {},
   "outputs": [
    {
     "name": "stdout",
     "output_type": "stream",
     "text": [
      "The output is scalar\n",
      "The sensitivity is measured accordingly to the 3 input variables, namely:\n",
      " X1 and X2 and X3\n"
     ]
    },
    {
     "data": {
      "image/png": "[encoded data removed]",
      "text/plain": [
       "<Figure size 640x480 with 1 Axes>"
      ]
     },
     "metadata": {},
     "output_type": "display_data"
    }
   ],
   "source": [
    "varNames = ['X1', 'X2', 'X3']\n",
    "ngpsi.plotSobolIndicesWithErr(S, varS, varNames, 3, Stot, varStot)"
   ]
  },
  {
   "cell_type": "code",
   "execution_count": 66,
   "metadata": {},
   "outputs": [
    {
     "data": {
      "text/plain": [
       "array([[0.00011166],\n",
       "       [0.00013982],\n",
       "       [0.0001805 ]])"
      ]
     },
     "execution_count": 66,
     "metadata": {},
     "output_type": "execute_result"
    }
   ],
   "source": [
    "varS"
   ]
  },
  {
   "cell_type": "code",
   "execution_count": 67,
   "metadata": {},
   "outputs": [
    {
     "data": {
      "text/plain": [
       "array([[0.30677851],\n",
       "       [0.45017905],\n",
       "       [0.00264426]])"
      ]
     },
     "execution_count": 67,
     "metadata": {},
     "output_type": "execute_result"
    }
   ],
   "source": [
    "S\n"
   ]
  },
  {
   "cell_type": "code",
   "execution_count": 68,
   "metadata": {},
   "outputs": [],
   "source": [
    "dist = ot.ComposedDistribution([ot.Uniform(-np.pi, np.pi)] * 3)"
   ]
  },
  {
   "cell_type": "code",
   "execution_count": 69,
   "metadata": {},
   "outputs": [],
   "source": [
    "sal = ot.SaltelliSensitivityAlgorithm(dist, 10000, g, False)"
   ]
  },
  {
   "cell_type": "code",
   "execution_count": 73,
   "metadata": {},
   "outputs": [
    {
     "data": {
      "text/html": [
       "<p>[[ 9.9847e-05  3.13825e-05 1.02781e-05 ]<br>\n",
       " [ 3.13825e-05 0.000147405 2.04022e-05 ]<br>\n",
       " [ 1.02781e-05 2.04022e-05 0.000157695 ]]</p>"
      ],
      "text/plain": [
       "class=CovarianceMatrix dimension=3 implementation=class=MatrixImplementation name=Unnamed rows=3 columns=3 values=[9.9847e-05,3.13825e-05,1.02781e-05,3.13825e-05,0.000147405,2.04022e-05,1.02781e-05,2.04022e-05,0.000157695]"
      ]
     },
     "execution_count": 73,
     "metadata": {},
     "output_type": "execute_result"
    }
   ],
   "source": [
    "sal.getFirstOrderIndicesDistribution().getCovariance()"
   ]
  },
  {
   "cell_type": "code",
   "execution_count": 75,
   "metadata": {},
   "outputs": [
    {
     "data": {
      "text/html": [
       "<p>[0.281529, 0.327033]<br>\n",
       "[0.401588, 0.455103]<br>\n",
       "[-0.0293527, 0.0290027]</p>"
      ],
      "text/plain": [
       "class=Interval name=Unnamed dimension=3 lower bound=class=Point name=Unnamed dimension=3 values=[0.281529,0.401588,-0.0293527] upper bound=class=Point name=Unnamed dimension=3 values=[0.327033,0.455103,0.0290027] finite lower bound=[1,1,1] finite upper bound=[1,1,1]"
      ]
     },
     "execution_count": 75,
     "metadata": {},
     "output_type": "execute_result"
    }
   ],
   "source": [
    "sal.getFirstOrderIndicesDistribution().computeBilateralConfidenceInterval(0.95)"
   ]
  },
  {
   "cell_type": "code",
   "execution_count": 71,
   "metadata": {},
   "outputs": [
    {
     "data": {
      "text/html": [
       "<p>[0.304457,0.430233,-0.00160679]</p>"
      ],
      "text/plain": [
       "class=Point name=Unnamed dimension=3 values=[0.304457,0.430233,-0.00160679]"
      ]
     },
     "execution_count": 71,
     "metadata": {},
     "output_type": "execute_result"
    }
   ],
   "source": [
    "sal.getFirstOrderIndices()"
   ]
  },
  {
   "cell_type": "code",
   "execution_count": 78,
   "metadata": {},
   "outputs": [
    {
     "data": {
      "text/plain": [
       "0.32404164038142763"
      ]
     },
     "execution_count": 78,
     "metadata": {},
     "output_type": "execute_result"
    }
   ],
   "source": [
    "0.304457 + ot.Normal().computeQuantile(0.975)[0]*9.9847e-5**0.5"
   ]
  },
  {
   "cell_type": "code",
   "execution_count": null,
   "metadata": {},
   "outputs": [],
   "source": []
  }
 ],
 "metadata": {
  "kernelspec": {
   "display_name": "Python 3",
   "language": "python",
   "name": "python3"
  },
  "language_info": {
   "codemirror_mode": {
    "name": "ipython",
    "version": 3
   },
   "file_extension": ".py",
   "mimetype": "text/x-python",
   "name": "python",
   "nbconvert_exporter": "python",
   "pygments_lexer": "ipython3",
   "version": "3.7.6"
  }
 },
 "nbformat": 4,
 "nbformat_minor": 4
}
