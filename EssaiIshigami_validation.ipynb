{
 "cells": [
  {
   "cell_type": "markdown",
   "metadata": {},
   "source": [
    "# Estimate Sobol’ indices for the Ishigami function by a sampling method: a quick start guide to sensitivity analysis\n",
    "\n",
    "### Analyse de la fonction Ishigami avec l'ensemble de codes dévelopés pour l'analyse de sensibilité sur les cahmps stochastiques.\n",
    "\n",
    "#### Comparaison et corréctions\n",
    "\n",
    "La même logique d'écriture de codes est utilisée que dans le script 'Demo Analyse de sensibilité poutre' : https://openturns.github.io/openturns/master/examples/reliability_sensitivity/sensitivity_sobol.html"
   ]
  },
  {
   "cell_type": "code",
   "execution_count": 36,
   "metadata": {},
   "outputs": [],
   "source": [
    "# Voici les deux scripts destinés à gérer l'analyse de sensibilité sur les champs stochastiques\n",
    "import NdGaussianProcessSensitivity as ngps\n",
    "import NdGaussianProcessConstructor as ngpc\n",
    "import NdGaussianProcessSensitivityIndices as ngpsi\n",
    "# Classes utilitaires\n",
    "import numpy                        as np\n",
    "import openturns                    as ot\n",
    "from   importlib                import reload "
   ]
  },
  {
   "cell_type": "code",
   "execution_count": 37,
   "metadata": {},
   "outputs": [],
   "source": [
    "# This is the formula used in the openTURNS example. \n",
    "formula = ['sin(X1) + 7. * sin(X2)^2 + 0.1 * X3^4 * sin(X1)']\n",
    "input_names = ['X1', 'X2', 'X3']\n",
    "g = ot.SymbolicFunction(input_names, formula)\n",
    "\n",
    "# we have to modifiy the function, be cause it takes as an input a random vector, un-correlated\n",
    "# in the case of our method, un-correlated inputs are clearly distinct. \n",
    "def gMod(X1,X2,X3):\n",
    "    X = np.stack([X1,X2,X3]).T\n",
    "    return g(X)"
   ]
  },
  {
   "cell_type": "code",
   "execution_count": 38,
   "metadata": {},
   "outputs": [],
   "source": [
    "X = np.random.uniform(-np.pi,np.pi,[10,3])\n",
    "assert gMod(X[...,0], X[...,1], X[...,2]) == g(X) ,\"\""
   ]
  },
  {
   "cell_type": "markdown",
   "metadata": {},
   "source": [
    "Maintenant nous définissons nos variables d'entrée, avec les fonctions contenues dans notre méthode "
   ]
  },
  {
   "cell_type": "code",
   "execution_count": 39,
   "metadata": {},
   "outputs": [],
   "source": [
    "reload(ngpc)\n",
    "reload(ngps)\n",
    "lower  = -np.pi\n",
    "upper  = np.pi\n",
    "nameX1, nameX2, nameX3 = 'X1', 'X2', 'X3'\n",
    "RV_X1 = ot.Arcsine(lower,upper)\n",
    "RV_X1.setName(nameX1)\n",
    "RV_X2 = ot.Arcsine(lower,upper)\n",
    "RV_X2.setName(nameX2)\n",
    "RV_X3 = ot.Arcsine(lower,upper)\n",
    "RV_X3.setName(nameX3)"
   ]
  },
  {
   "cell_type": "code",
   "execution_count": 40,
   "metadata": {},
   "outputs": [],
   "source": [
    "# here we have to explicitely define our outputs\n",
    "outputVariables = {'out1_name' :  #any name here is fine\n",
    "                   {\n",
    "                         'name'     : 'Y',\n",
    "                         'position' : 0,   #Position in the ouput, if the output were a list\n",
    "                         'shape'    : (1,)  \n",
    "                    },\n",
    "                  }"
   ]
  },
  {
   "cell_type": "code",
   "execution_count": 41,
   "metadata": {},
   "outputs": [],
   "source": [
    "inputList    = [RV_X1, RV_X2, RV_X3]\n",
    "soloFunction = sampleFunction = gMod #Easy in this case\n",
    "size         = 100000"
   ]
  },
  {
   "cell_type": "code",
   "execution_count": 42,
   "metadata": {},
   "outputs": [
    {
     "name": "stdout",
     "output_type": "stream",
     "text": [
      "Input Variables are (without Karhunen Loeve Decomposition) :\n",
      " X1 X2 X3 \n",
      "\n",
      "Output Variables are :\n",
      " ['Y'] \n",
      "\n",
      "Composed distribution built with processes and distributions: X1 X2 X3\n"
     ]
    }
   ],
   "source": [
    "processSensitivityAnalysis = ngps.NdGaussianProcessSensitivityAnalysis(inputList, \n",
    "                                                                       outputVariables,\n",
    "                                                                       sampleFunction,\n",
    "                                                                       soloFunction,\n",
    "                                                                       size)"
   ]
  },
  {
   "cell_type": "code",
   "execution_count": 43,
   "metadata": {},
   "outputs": [
    {
     "name": "stdout",
     "output_type": "stream",
     "text": [
      "Generation types:\n",
      "1 : Random (default)\n",
      "2 : LHS\n",
      "3 : LowDiscrepancySequence\n",
      "4 : SimulatedAnnealingLHS\n",
      "Choosen generation method is Random (default)\n",
      "number of samples for sobol experiment =  500000 \n",
      "\n",
      "input design is:  [[-2.81900145  3.13298691  0.18043042]\n",
      " [-1.94367471  2.09491657 -3.03608608]\n",
      " [ 1.00972264 -3.03153983  2.05764705]\n",
      " ...\n",
      " [ 3.11392334  3.12787009 -0.96962707]\n",
      " [-3.02749553 -2.57984192  1.07141721]\n",
      " [-0.80595488 -2.25338901 -2.01791039]]\n"
     ]
    }
   ],
   "source": [
    "processSensitivityAnalysis.prepareSobolIndicesExperiment()"
   ]
  },
  {
   "cell_type": "code",
   "execution_count": 44,
   "metadata": {},
   "outputs": [
    {
     "name": "stdout",
     "output_type": "stream",
     "text": [
      "Converting list of outputs into matrix: \n",
      "Element  1  has shape  (500000, 1)\n",
      "Final shape matrix:  (500000, 1)\n",
      "Columns where nan :  [] \n",
      "\n",
      "\n",
      "No errors while processing, the function has returned no np.nan.\n",
      "\n"
     ]
    }
   ],
   "source": [
    "processSensitivityAnalysis.getOutputDesignAndPostprocess()"
   ]
  },
  {
   "cell_type": "code",
   "execution_count": 45,
   "metadata": {},
   "outputs": [],
   "source": [
    "output = processSensitivityAnalysis.outputDesignList\n",
    "output1 = output[0]"
   ]
  },
  {
   "cell_type": "code",
   "execution_count": 46,
   "metadata": {},
   "outputs": [
    {
     "name": "stdout",
     "output_type": "stream",
     "text": [
      "Populating the interactive namespace from numpy and matplotlib\n"
     ]
    },
    {
     "name": "stderr",
     "output_type": "stream",
     "text": [
      "/home/simady/anaconda/envs/stochastic_field_env/lib/python3.6/site-packages/IPython/core/magics/pylab.py:160: UserWarning: pylab import has clobbered these variables: ['size']\n",
      "`%matplotlib` prevents importing * from pylab and numpy\n",
      "  \"\\n`%matplotlib` prevents importing * from pylab and numpy\"\n"
     ]
    }
   ],
   "source": [
    "%pylab inline\n",
    "pylab.rcParams['figure.figsize'] = (13, 5)\n",
    "import NdGaussianProcessSensitivityIndices as ngpsi\n",
    "_=reload(ngpsi)"
   ]
  },
  {
   "cell_type": "code",
   "execution_count": 47,
   "metadata": {},
   "outputs": [
    {
     "name": "stdout",
     "output_type": "stream",
     "text": [
      "There are 3 indices to get in (1,) dimensions with 1 elements\n",
      "After centering, mean= [2.17631706] \n",
      "std=  [4.59371245]\n",
      "After centering, mean= [1.63175067] \n",
      "std=  [4.65759347]\n",
      "After centering, mean= [1.08903078] \n",
      "std=  [4.65801189]\n",
      "After centering, mean= [0.54280835] \n",
      "std=  [4.59310649]\n",
      "After centering, mean= [3.86535248e-18] \n",
      "std=  [4.46296578]\n",
      "basic output shape is: (100000, 1)\n",
      "output reshaped into matrix of shape (dim<=2)  [100000, 1]\n",
      "data for variance calculus prepared \n",
      " X_fo shape is (100000,) Y_fo shape is (100000,) \n",
      "\n",
      "Covariance is: [[481.46760235  97.3829069 ]\n",
      " [ 97.3829069  980.48221022]]\n",
      "Sample mean is: [8.452611220038309, 19.94771187293183]\n",
      "Psi mean is: [ 0.05013106 -0.02124246]\n",
      "variance is: 1.4450147561241352e-05 \n",
      "\n",
      "Covariance is: [[617.4474062  191.22848226]\n",
      " [191.22848226 980.48221022]]\n",
      "Sample mean is: [6.4465800988779005, 19.94771187293183]\n",
      "Psi mean is: [-0.05013106  0.01620105]\n",
      "variance is: 1.4984503882634377e-05 \n",
      "\n",
      "basic output shape is: (100000, 1)\n",
      "output reshaped into matrix of shape (dim<=2)  [100000, 1]\n",
      "data for variance calculus prepared \n",
      " X_fo shape is (100000,) Y_fo shape is (100000,) \n",
      "\n",
      "Covariance is: [[376.7080517   -3.28924846]\n",
      " [ -3.28924846 980.48221022]]\n",
      "Sample mean is: [6.508995091990324, 19.94771187293183]\n",
      "Psi mean is: [ 0.05013106 -0.01635791]\n",
      "variance is: 1.2144670469727527e-05 \n",
      "\n",
      "Covariance is: [[820.71257894 778.54549414]\n",
      " [778.54549414 980.48221022]]\n",
      "Sample mean is: [13.440365716976498, 19.94771187293183]\n",
      "Psi mean is: [-0.05013106  0.0337773 ]\n",
      "variance is: 5.4458045561413245e-06 \n",
      "\n",
      "basic output shape is: (100000, 1)\n",
      "output reshaped into matrix of shape (dim<=2)  [100000, 1]\n",
      "data for variance calculus prepared \n",
      " X_fo shape is (100000,) Y_fo shape is (100000,) \n",
      "\n",
      "Covariance is: [[644.61496774  -2.60981552]\n",
      " [ -2.60981552 980.48221022]]\n",
      "Sample mean is: [-0.007800779652340548, 19.94771187293183]\n",
      "Psi mean is: [5.01310630e-02 1.96043225e-05]\n",
      "variance is: 1.6199922544611784e-05 \n",
      "\n",
      "Covariance is: [[570.97994718 588.17837684]\n",
      " [588.17837684 980.48221022]]\n",
      "Sample mean is: [15.012632295724023, 19.94771187293183]\n",
      "Psi mean is: [-0.05013106  0.0377286 ]\n",
      "variance is: 6.056762558244701e-06 \n",
      "\n",
      "Indices successfully calculated\n"
     ]
    }
   ],
   "source": [
    "S, Stot, varS, varStot = ngpsi.NdGaussianProcessSensitivityIndicesBase.getSobolIndices(output1, 100000)"
   ]
  },
  {
   "cell_type": "code",
   "execution_count": 35,
   "metadata": {},
   "outputs": [
    {
     "name": "stdout",
     "output_type": "stream",
     "text": [
      "The output is scalar\n",
      "The sensitivity is measured accordingly to the 3 input variables, namely:\n",
      " X1 and X2 and X3\n"
     ]
    },
    {
     "data": {
      "image/png": "[encoded data removed]",
      "text/plain": [
       "<Figure size 640x480 with 1 Axes>"
      ]
     },
     "metadata": {},
     "output_type": "display_data"
    }
   ],
   "source": [
    "varNames = ['X1', 'X2', 'X3']\n",
    "ngpsi.plotSobolIndicesWithErr(S, varS, varNames, 3, Stot, varStot)"
   ]
  },
  {
   "cell_type": "code",
   "execution_count": null,
   "metadata": {},
   "outputs": [],
   "source": []
  },
  {
   "cell_type": "code",
   "execution_count": null,
   "metadata": {},
   "outputs": [],
   "source": []
  }
 ],
 "metadata": {
  "kernelspec": {
   "display_name": "Python 3",
   "language": "python",
   "name": "python3"
  },
  "language_info": {
   "codemirror_mode": {
    "name": "ipython",
    "version": 3
   },
   "file_extension": ".py",
   "mimetype": "text/x-python",
   "name": "python",
   "nbconvert_exporter": "python",
   "pygments_lexer": "ipython3",
   "version": "3.6.7"
  }
 },
 "nbformat": 4,
 "nbformat_minor": 4
}
