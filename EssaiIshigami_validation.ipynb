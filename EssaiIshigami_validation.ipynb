{
 "cells": [
  {
   "cell_type": "markdown",
   "metadata": {},
   "source": [
    "# Estimate Sobol’ indices for the Ishigami function by a sampling method: a quick start guide to sensitivity analysis\n",
    "\n",
    "### Analyse de la fonction Ishigami avec l'ensemble de codes dévelopés pour l'analyse de sensibilité sur les cahmps stochastiques.\n",
    "\n",
    "#### Comparaison et corréctions\n",
    "\n",
    "La même logique d'écriture de codes est utilisée que dans le script 'Demo Analyse de sensibilité poutre' : https://openturns.github.io/openturns/master/examples/reliability_sensitivity/sensitivity_sobol.html"
   ]
  },
  {
   "cell_type": "code",
   "execution_count": 52,
   "metadata": {},
   "outputs": [],
   "source": [
    "# Voici les deux scripts destinés à gérer l'analyse de sensibilité sur les champs stochastiques\n",
    "import NdGaussianProcessSensitivity as ngps\n",
    "import NdGaussianProcessConstructor as ngpc\n",
    "import NdGaussianProcessSensitivityIndices as ngpsi\n",
    "# Classes utilitaires\n",
    "import numpy                        as np\n",
    "import openturns                    as ot\n",
    "from   importlib                import reload "
   ]
  },
  {
   "cell_type": "code",
   "execution_count": 53,
   "metadata": {},
   "outputs": [],
   "source": [
    "# This is the formula used in the openTURNS example. \n",
    "formula = ['sin(X1) + 7. * sin(X2)^2 + 0.1 * X3^4 * sin(X1)']\n",
    "input_names = ['X1', 'X2', 'X3']\n",
    "g = ot.SymbolicFunction(input_names, formula)\n",
    "\n",
    "# we have to modifiy the function, be cause it takes as an input a random vector, un-correlated\n",
    "# in the case of our method, un-correlated inputs are clearly distinct. \n",
    "def gMod(X1,X2,X3):\n",
    "    X = np.stack([X1,X2,X3]).T\n",
    "    return g(X)"
   ]
  },
  {
   "cell_type": "code",
   "execution_count": 54,
   "metadata": {},
   "outputs": [],
   "source": [
    "X = np.random.uniform(-np.pi,np.pi,[10,3])\n",
    "assert gMod(X[...,0], X[...,1], X[...,2]) == g(X) ,\"\""
   ]
  },
  {
   "cell_type": "markdown",
   "metadata": {},
   "source": [
    "Maintenant nous définissons nos variables d'entrée, avec les fonctions contenues dans notre méthode "
   ]
  },
  {
   "cell_type": "code",
   "execution_count": 55,
   "metadata": {},
   "outputs": [
    {
     "ename": "SyntaxError",
     "evalue": "invalid syntax (NdGaussianProcessConstructor.py, line 218)",
     "output_type": "error",
     "traceback": [
      "Traceback \u001b[0;36m(most recent call last)\u001b[0m:\n",
      "  File \u001b[1;32m\"/home/simady/anaconda/envs/stochastic_field_env/lib/python3.6/site-packages/IPython/core/interactiveshell.py\"\u001b[0m, line \u001b[1;32m3331\u001b[0m, in \u001b[1;35mrun_code\u001b[0m\n    exec(code_obj, self.user_global_ns, self.user_ns)\n",
      "  File \u001b[1;32m\"<ipython-input-55-200155303d02>\"\u001b[0m, line \u001b[1;32m1\u001b[0m, in \u001b[1;35m<module>\u001b[0m\n    reload(ngpc)\n",
      "  File \u001b[1;32m\"/home/simady/anaconda/envs/stochastic_field_env/lib/python3.6/importlib/__init__.py\"\u001b[0m, line \u001b[1;32m166\u001b[0m, in \u001b[1;35mreload\u001b[0m\n    _bootstrap._exec(spec, module)\n",
      "  File \u001b[1;32m\"<frozen importlib._bootstrap>\"\u001b[0m, line \u001b[1;32m618\u001b[0m, in \u001b[1;35m_exec\u001b[0m\n",
      "  File \u001b[1;32m\"<frozen importlib._bootstrap_external>\"\u001b[0m, line \u001b[1;32m674\u001b[0m, in \u001b[1;35mexec_module\u001b[0m\n",
      "  File \u001b[1;32m\"<frozen importlib._bootstrap_external>\"\u001b[0m, line \u001b[1;32m781\u001b[0m, in \u001b[1;35mget_code\u001b[0m\n",
      "  File \u001b[1;32m\"<frozen importlib._bootstrap_external>\"\u001b[0m, line \u001b[1;32m741\u001b[0m, in \u001b[1;35msource_to_code\u001b[0m\n",
      "\u001b[0;36m  File \u001b[0;32m\"<frozen importlib._bootstrap>\"\u001b[0;36m, line \u001b[0;32m219\u001b[0;36m, in \u001b[0;35m_call_with_frames_removed\u001b[0;36m\u001b[0m\n",
      "\u001b[0;36m  File \u001b[0;32m\"/home/simady/stochastic_process_analysis/NdGaussianProcessConstructor.py\"\u001b[0;36m, line \u001b[0;32m218\u001b[0m\n\u001b[0;31m    if covarianceModel is not None\u001b[0m\n\u001b[0m                                  ^\u001b[0m\n\u001b[0;31mSyntaxError\u001b[0m\u001b[0;31m:\u001b[0m invalid syntax\n"
     ]
    }
   ],
   "source": [
    "reload(ngpc)\n",
    "reload(ngps)\n",
    "lower  = -np.pi\n",
    "upper  = np.pi\n",
    "nameX1, nameX2, nameX3 = 'X1', 'X2', 'X3'\n",
    "RV_X1 = ngpc.UniformDistribution(lower = lower, upper = upper, name = nameX1)\n",
    "RV_X2 = ngpc.UniformDistribution(lower = lower, upper = upper, name = nameX2)\n",
    "RV_X3 = ngpc.UniformDistribution(lower = lower, upper = upper, name = nameX3)"
   ]
  },
  {
   "cell_type": "code",
   "execution_count": 56,
   "metadata": {},
   "outputs": [],
   "source": [
    "# here we have to explicitely define our outputs\n",
    "outputVariables = {'out1_name' :  #any name here is fine\n",
    "                   {\n",
    "                         'name'     : 'Y',\n",
    "                         'position' : 0,   #Position in the ouput, if the output were a list\n",
    "                         'shape'    : (1,)  \n",
    "                    },\n",
    "                  }"
   ]
  },
  {
   "cell_type": "code",
   "execution_count": 42,
   "metadata": {},
   "outputs": [],
   "source": [
    "inputList    = [RV_X1, RV_X2, RV_X3]\n",
    "soloFunction = sampleFunction = gMod #Easy in this case\n",
    "size         = 100000"
   ]
  },
  {
   "cell_type": "code",
   "execution_count": 43,
   "metadata": {},
   "outputs": [
    {
     "name": "stdout",
     "output_type": "stream",
     "text": [
      "Input Variables are (without Karhunen Loeve Decomposition) :\n",
      " ['X1', 'X2', 'X3'] \n",
      "\n",
      "Output Variables are :\n",
      " ['Y'] \n",
      "\n"
     ]
    }
   ],
   "source": [
    "processSensitivityAnalysis = ngps.NdGaussianProcessSensitivityAnalysis(inputList, \n",
    "                                                                       outputVariables,\n",
    "                                                                       sampleFunction,\n",
    "                                                                       soloFunction,\n",
    "                                                                       size)"
   ]
  },
  {
   "cell_type": "code",
   "execution_count": 44,
   "metadata": {},
   "outputs": [
    {
     "name": "stdout",
     "output_type": "stream",
     "text": [
      "Generation types:\n",
      "1 : Random (default)\n",
      "2 : LHS\n",
      "3 : LowDiscrepancySequence\n",
      "4 : SimulatedAnnealingLHS\n",
      "Choosen generation method is Random (default)\n",
      "number of samples for sobol experiment =  500000 \n",
      "\n",
      "input design is:  [[-0.6137944  -0.650022   -0.16762406]\n",
      " [-2.37004778 -1.49463999 -0.69587281]\n",
      " [-1.69214399  0.25436306 -2.49832556]\n",
      " ...\n",
      " [ 0.40406584  2.60042669  2.8741103 ]\n",
      " [ 1.80297034  1.25134382 -2.15802594]\n",
      " [ 1.79173671  1.0204666  -1.16056711]]\n"
     ]
    }
   ],
   "source": [
    "processSensitivityAnalysis.prepareSobolIndicesExperiment()"
   ]
  },
  {
   "cell_type": "code",
   "execution_count": 45,
   "metadata": {},
   "outputs": [
    {
     "name": "stdout",
     "output_type": "stream",
     "text": [
      "Converting list of outputs into matrix: \n",
      "Element  1  has shape  (500000, 1)\n",
      "Final shape matrix:  (500000, 1)\n",
      "Columns where nan :  [] \n",
      "\n",
      "\n",
      "No errors while processing, the function has returned no np.nan.\n",
      "\n"
     ]
    }
   ],
   "source": [
    "processSensitivityAnalysis.getOutputDesignAndPostprocess()"
   ]
  },
  {
   "cell_type": "code",
   "execution_count": 46,
   "metadata": {},
   "outputs": [],
   "source": [
    "output = processSensitivityAnalysis.outputDesignList\n",
    "output1 = output[0]"
   ]
  },
  {
   "cell_type": "code",
   "execution_count": 47,
   "metadata": {},
   "outputs": [
    {
     "name": "stdout",
     "output_type": "stream",
     "text": [
      "Populating the interactive namespace from numpy and matplotlib\n"
     ]
    },
    {
     "name": "stderr",
     "output_type": "stream",
     "text": [
      "/home/simady/anaconda/envs/stochastic_field_env/lib/python3.6/site-packages/IPython/core/magics/pylab.py:160: UserWarning: pylab import has clobbered these variables: ['size']\n",
      "`%matplotlib` prevents importing * from pylab and numpy\n",
      "  \"\\n`%matplotlib` prevents importing * from pylab and numpy\"\n"
     ]
    }
   ],
   "source": [
    "%pylab inline\n",
    "pylab.rcParams['figure.figsize'] = (13, 5)\n",
    "import NdGaussianProcessSensitivityIndices as ngpsi\n",
    "_=reload(ngpsi)"
   ]
  },
  {
   "cell_type": "code",
   "execution_count": 50,
   "metadata": {},
   "outputs": [
    {
     "name": "stdout",
     "output_type": "stream",
     "text": [
      "There are 3 indices to get in (1,) dimensions with 1 elements\n",
      "After centering, mean= [-4.60431693e-18] \n",
      "std=  [3.72892122]\n",
      "After centering, mean= [-1.98951966e-18] \n",
      "std=  [3.72892122]\n",
      "After centering, mean= [-6.25277607e-19] \n",
      "std=  [3.72892122]\n",
      "After centering, mean= [3.80850906e-18] \n",
      "std=  [3.72892122]\n",
      "After centering, mean= [-1.42108547e-18] \n",
      "std=  [3.72892122]\n",
      "basic output shape is: (100000, 1)\n",
      "output reshaped into matrix of shape (dim<=2)  [100000, 1]\n",
      "data for variance calculus prepared \n",
      " X_fo shape is (100000,) Y_fo shape is (100000,) \n",
      "\n",
      "Covariance is: [[205.91962414  50.76425079]\n",
      " [ 50.76425079 488.5111996 ]]\n",
      "Sample mean is: [4.394771271348436, 13.94694660290871]\n",
      "Psi mean is: [ 0.07170028 -0.02259321]\n",
      "variance is: 1.1435105441597581e-05 \n",
      "\n",
      "Covariance is: [[340.23092782 107.60365438]\n",
      " [107.60365438 488.5111996 ]]\n",
      "Sample mean is: [6.059551371095844, 13.94694660290871]\n",
      "Psi mean is: [-0.07170028  0.03115173]\n",
      "variance is: 1.7424851831287946e-05 \n",
      "\n",
      "basic output shape is: (100000, 1)\n",
      "output reshaped into matrix of shape (dim<=2)  [100000, 1]\n",
      "data for variance calculus prepared \n",
      " X_fo shape is (100000,) Y_fo shape is (100000,) \n",
      "\n",
      "Covariance is: [[ 1.74754658e+02 -4.14627534e-01]\n",
      " [-4.14627534e-01  4.88511200e+02]]\n",
      "Sample mean is: [6.069423883187718, 13.94694660290871]\n",
      "Psi mean is: [ 0.07170028 -0.03120249]\n",
      "variance is: 1.3758688809017907e-05 \n",
      "\n",
      "Covariance is: [[411.90473113 374.21193033]\n",
      " [374.21193033 488.5111996 ]]\n",
      "Sample mean is: [7.787472253765806, 13.94694660290871]\n",
      "Psi mean is: [-0.07170028  0.04003485]\n",
      "variance is: 7.521957998017812e-06 \n",
      "\n",
      "basic output shape is: (100000, 1)\n",
      "output reshaped into matrix of shape (dim<=2)  [100000, 1]\n",
      "data for variance calculus prepared \n",
      " X_fo shape is (100000,) Y_fo shape is (100000,) \n",
      "\n",
      "Covariance is: [[358.83499202  -1.11242451]\n",
      " [ -1.11242451 488.5111996 ]]\n",
      "Sample mean is: [-0.025269722147267738, 13.94694660290871]\n",
      "Psi mean is: [0.07170028 0.00012991]\n",
      "variance is: 1.8447332374232935e-05 \n",
      "\n",
      "Covariance is: [[241.33034695 260.29623498]\n",
      " [260.29623498 488.5111996 ]]\n",
      "Sample mean is: [10.514838036132655, 13.94694660290871]\n",
      "Psi mean is: [-0.07170028  0.05405605]\n",
      "variance is: 6.503898674001477e-06 \n",
      "\n",
      "Indices successfully calculated\n"
     ]
    }
   ],
   "source": [
    "S, Stot, varS, varStot = ngpsi.NdGaussianProcessSensitivityIndicesBase.getSobolIndices(output1, 100000)"
   ]
  },
  {
   "cell_type": "code",
   "execution_count": 51,
   "metadata": {},
   "outputs": [
    {
     "name": "stdout",
     "output_type": "stream",
     "text": [
      "The output is scalar\n",
      "The sensitivity is measured accordingly to the 3 input variables, namely:\n",
      " X1 and X2 and X3\n"
     ]
    },
    {
     "data": {
      "image/png": "[encoded data removed]",
      "text/plain": [
       "<Figure size 640x480 with 1 Axes>"
      ]
     },
     "metadata": {},
     "output_type": "display_data"
    }
   ],
   "source": [
    "varNames = ['X1', 'X2', 'X3']\n",
    "ngpsi.plotSobolIndicesWithErr(S, varS, varNames, 3, Stot, varStot)"
   ]
  }
 ],
 "metadata": {
  "kernelspec": {
   "display_name": "Python 3",
   "language": "python",
   "name": "python3"
  },
  "language_info": {
   "codemirror_mode": {
    "name": "ipython",
    "version": 3
   },
   "file_extension": ".py",
   "mimetype": "text/x-python",
   "name": "python",
   "nbconvert_exporter": "python",
   "pygments_lexer": "ipython3",
   "version": "3.6.7"
  }
 },
 "nbformat": 4,
 "nbformat_minor": 4
}
